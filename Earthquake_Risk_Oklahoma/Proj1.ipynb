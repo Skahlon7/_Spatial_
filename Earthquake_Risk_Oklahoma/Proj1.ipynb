{
 "cells": [
  {
   "cell_type": "code",
   "execution_count": 6,
   "metadata": {},
   "outputs": [],
   "source": [
    "#Import Libraries\n",
    "import arcpy \n",
    "import pandas as pd\n",
    "import numpy as np\n",
    "import os\n",
    "from datetime import datetime"
   ]
  },
  {
   "cell_type": "code",
   "execution_count": 7,
   "metadata": {},
   "outputs": [],
   "source": [
    "arcpy.env.workspace = 'G:\\Proj1_SSCI575\\Proj1_SSCI575\\Data Wrangling.gdb'"
   ]
  },
  {
   "cell_type": "markdown",
   "metadata": {},
   "source": [
    "## EDA"
   ]
  },
  {
   "cell_type": "code",
   "execution_count": 35,
   "metadata": {},
   "outputs": [
    {
     "data": {
      "text/plain": [
       "['building_footprints', 'OK_earthquakes', 'OK_well_injection', 'school_sites', 'traffic_volume', 'census_tracts10', 'Medford_earthquakes', 'Medford_5mi', 'Medford_25mi', 'Medford_well_injection']"
      ]
     },
     "execution_count": 35,
     "metadata": {},
     "output_type": "execute_result"
    }
   ],
   "source": [
    "arcpy.ListFeatureClasses() #Feature Classes"
   ]
  },
  {
   "cell_type": "code",
   "execution_count": 5,
   "metadata": {},
   "outputs": [
    {
     "data": {
      "text/plain": [
       "['OBJECTID', 'Shape', 'time', 'latitude', 'longitude', 'depth', 'mag', 'magType', 'nst', 'gap', 'dmin', 'rms', 'net', 'id', 'updated', 'place', 'type', 'horizontalError', 'depthError', 'magError', 'magNst', 'status', 'locationSource', 'magSource', 'updated_Converted', 'Date', 'Date_1', 'Month', 'Year', 'Earthquake', 'City']"
      ]
     },
     "execution_count": 5,
     "metadata": {},
     "output_type": "execute_result"
    }
   ],
   "source": [
    "#Functoin to display column names\n",
    "def display_fields(feature):\n",
    "    fields_ls = []\n",
    "    fields = arcpy.ListFields(feature)\n",
    "    for f in fields: fields_ls.append(f.name)\n",
    "    return fields_ls\n",
    "\n",
    "display_fields('OK_earthquakes')"
   ]
  },
  {
   "cell_type": "code",
   "execution_count": 4,
   "metadata": {},
   "outputs": [
    {
     "name": "stdout",
     "output_type": "stream",
     "text": [
      "OBJECTID  ﻿Shape  ﻿API  ﻿Well_Name  ﻿Well_Number  ﻿Operator_Number  ﻿Report_Date  ﻿Volume_BPD  ﻿Pressure  ﻿API_NUM  ﻿"
     ]
    }
   ],
   "source": [
    "display_fields('OK_well_injection')"
   ]
  },
  {
   "cell_type": "code",
   "execution_count": 14,
   "metadata": {},
   "outputs": [
    {
     "name": "stdout",
     "output_type": "stream",
     "text": [
      "OBJECTID: OID\n",
      "Shape: Geometry\n",
      "time: String\n",
      "latitude: Double\n",
      "longitude: Double\n",
      "depth: Double\n",
      "mag: Double\n",
      "magType: String\n",
      "nst: String\n",
      "gap: Integer\n",
      "dmin: Double\n",
      "rms: Double\n",
      "net: String\n",
      "id: String\n",
      "updated: String\n",
      "place: String\n",
      "type: String\n",
      "horizontalError: Double\n",
      "depthError: Double\n",
      "magError: Double\n",
      "magNst: Integer\n",
      "status: String\n",
      "locationSource: String\n",
      "magSource: String\n",
      "updated_Converted: Date\n",
      "Date: Date\n",
      "Date_1: Date\n",
      "Month: Integer\n",
      "Year: Integer\n"
     ]
    }
   ],
   "source": [
    "#Function to display data types\n",
    "def get_types(field):\n",
    "    fields = arcpy.ListFields(field)\n",
    "    for f in fields: print('{}: {}'.format(f.name, f.type))\n",
    "        \n",
    "get_types('OK_earthquakes')"
   ]
  },
  {
   "cell_type": "code",
   "execution_count": 9,
   "metadata": {},
   "outputs": [
    {
     "name": "stdout",
     "output_type": "stream",
     "text": [
      "OBJECTID: OID\n",
      "Shape: Geometry\n",
      "API: String\n",
      "Well_Name: String\n",
      "Well_Number: String\n",
      "Operator_Number: Integer\n",
      "Report_Date: String\n",
      "Volume_BPD: Double\n",
      "Pressure: Double\n",
      "API_NUM: Integer\n",
      "Date: Date\n"
     ]
    }
   ],
   "source": [
    "get_types('OK_well_injection')"
   ]
  },
  {
   "cell_type": "markdown",
   "metadata": {},
   "source": [
    "## Fix Data Type Issues of Time Components"
   ]
  },
  {
   "cell_type": "code",
   "execution_count": 8,
   "metadata": {},
   "outputs": [
    {
     "data": {
      "text/html": [
       "<div class='gpresult'><h2>Messages</h2><div id='messages' data-messages='[\"Start Time: Thursday, September 7, 2023 5:26:44 PM\",\"Succeeded at Thursday, September 7, 2023 5:26:45 PM (Elapsed Time: 1.64 seconds)\"]' data-show='true'><div id = 'default' /></div></div>"
      ],
      "text/plain": [
       "<Result 'G:\\\\Proj1_SSCI575\\\\Proj1_SSCI575\\\\Data Wrangling.gdb\\\\OK_earthquakes'>"
      ]
     },
     "execution_count": 8,
     "metadata": {},
     "output_type": "execute_result"
    }
   ],
   "source": [
    "#Add Date Field in correct dtype for earthquake data\n",
    "arcpy.AddField_management('OK_earthquakes', 'Date', 'DATE')\n",
    "\n",
    "#Update values in new row\n",
    "with arcpy.da.UpdateCursor('OK_earthquakes', ['time', 'Date']) as cursor:\n",
    "    for row in cursor:\n",
    "        time_value = row[0]\n",
    "        if time_value:\n",
    "            date_value = datetime.strptime(time_value, '%Y-%m-%dT%H:%M:%S.%fZ').date()\n",
    "            row[1] = date_value\n",
    "            cursor.updateRow(row)\n",
    "        else:\n",
    "            continue"
   ]
  },
  {
   "cell_type": "code",
   "execution_count": 6,
   "metadata": {},
   "outputs": [],
   "source": [
    "#Add Date Field in correct dtype for well injection data\n",
    "arcpy.AddField_management('OK_well_injection', 'Date', 'DATE')\n",
    "\n",
    "#Update values in new row\n",
    "with arcpy.da.UpdateCursor('OK_well_injection', ['Report_Date', 'Date']) as cursor:\n",
    "    for row in cursor:\n",
    "        time_value = row[0]\n",
    "        if time_value:\n",
    "            date_value = datetime.strptime(time_value, '%Y-%m-%d %H:%M:%S.%f').date()\n",
    "            row[1] = date_value\n",
    "            cursor.updateRow(row)\n",
    "        else:\n",
    "            continue"
   ]
  },
  {
   "cell_type": "markdown",
   "metadata": {},
   "source": [
    "## Display the time component of earthquake and water injection data\n",
    "- Year 2015 \n",
    "- `Query & Filter`"
   ]
  },
  {
   "cell_type": "code",
   "execution_count": 20,
   "metadata": {},
   "outputs": [],
   "source": [
    "#Filter to year 2015 for Earthquake Dataset\n",
    "\n",
    "#Earthquake dataset - Add Month + Year fields\n",
    "arcpy.AddField_management('OK_earthquakes', 'Month', 'INTEGER')\n",
    "arcpy.AddField_management('OK_earthquakes', 'Year', 'INTEGER')\n",
    "\n",
    "#Add data to created columns\n",
    "with arcpy.da.UpdateCursor('OK_earthquakes', ['Date', 'Month', 'Year']) as cursor:\n",
    "    for row in cursor:\n",
    "        row[1] = int(row[0].month)\n",
    "        row[2] = int(row[0].year)\n",
    "        cursor.updateRow(row)"
   ]
  },
  {
   "cell_type": "code",
   "execution_count": 9,
   "metadata": {},
   "outputs": [
    {
     "data": {
      "text/html": [
       "<div class='gpresult'><h2>Messages</h2><div id='messages' data-messages='[\"Start Time: Sunday, September 17, 2023 8:52:39 PM\",\"Succeeded at Sunday, September 17, 2023 8:52:40 PM (Elapsed Time: 1.47 seconds)\"]' data-show='true'><div id = 'default' /></div></div>"
      ],
      "text/plain": [
       "<Result '2015_Earthquakes'>"
      ]
     },
     "execution_count": 9,
     "metadata": {},
     "output_type": "execute_result"
    }
   ],
   "source": [
    "#Query\n",
    "query = \"Year = 2015\" \n",
    "\n",
    "# Filtered Layer\n",
    "arcpy.MakeFeatureLayer_management('OK_earthquakes', '2015_Earthquakes', query)"
   ]
  },
  {
   "cell_type": "code",
   "execution_count": 22,
   "metadata": {},
   "outputs": [],
   "source": [
    "#Filter to year 2015 for Well Injection Dataset\n",
    "\n",
    "#Earthquake dataset - Add Month + Year fields\n",
    "arcpy.AddField_management('OK_well_injection', 'Month', 'INTEGER')\n",
    "arcpy.AddField_management('OK_well_injection', 'Year', 'INTEGER')\n",
    "\n",
    "#Add data to created columns\n",
    "with arcpy.da.UpdateCursor('OK_well_injection', ['Date', 'Month', 'Year']) as cursor:\n",
    "    for row in cursor:\n",
    "        row[1] = int(row[0].month)\n",
    "        row[2] = int(row[0].year)\n",
    "        cursor.updateRow(row)"
   ]
  },
  {
   "cell_type": "code",
   "execution_count": 31,
   "metadata": {},
   "outputs": [
    {
     "data": {
      "text/html": [
       "<div class='gpresult'><h2>Messages</h2><div id='messages' data-messages='[\"Start Time: Monday, September 18, 2023 12:20:55 AM\",\"Succeeded at Monday, September 18, 2023 12:20:55 AM (Elapsed Time: 0.46 seconds)\"]' data-show='true'><div id = 'default' /></div></div>"
      ],
      "text/plain": [
       "<Result '2012_2015_Well_Injection'>"
      ]
     },
     "execution_count": 31,
     "metadata": {},
     "output_type": "execute_result"
    }
   ],
   "source": [
    "#Query\n",
    "query = \"Year <= 2015\" \n",
    "\n",
    "# Filtered Layer\n",
    "arcpy.MakeFeatureLayer_management('OK_well_injection', '2012_2015_Well_Injection', query)"
   ]
  },
  {
   "cell_type": "markdown",
   "metadata": {},
   "source": [
    "## Locate Null Values"
   ]
  },
  {
   "cell_type": "code",
   "execution_count": 40,
   "metadata": {},
   "outputs": [
    {
     "data": {
      "text/html": [
       "<div>\n",
       "<style scoped>\n",
       "    .dataframe tbody tr th:only-of-type {\n",
       "        vertical-align: middle;\n",
       "    }\n",
       "\n",
       "    .dataframe tbody tr th {\n",
       "        vertical-align: top;\n",
       "    }\n",
       "\n",
       "    .dataframe thead th {\n",
       "        text-align: right;\n",
       "    }\n",
       "</style>\n",
       "<table border=\"1\" class=\"dataframe\">\n",
       "  <thead>\n",
       "    <tr style=\"text-align: right;\">\n",
       "      <th></th>\n",
       "      <th>Field</th>\n",
       "      <th>Null_Count</th>\n",
       "    </tr>\n",
       "  </thead>\n",
       "  <tbody>\n",
       "    <tr>\n",
       "      <th>0</th>\n",
       "      <td>Date_1</td>\n",
       "      <td>6544</td>\n",
       "    </tr>\n",
       "    <tr>\n",
       "      <th>1</th>\n",
       "      <td>dmin</td>\n",
       "      <td>6361</td>\n",
       "    </tr>\n",
       "    <tr>\n",
       "      <th>2</th>\n",
       "      <td>nst</td>\n",
       "      <td>6116</td>\n",
       "    </tr>\n",
       "    <tr>\n",
       "      <th>3</th>\n",
       "      <td>magError</td>\n",
       "      <td>6090</td>\n",
       "    </tr>\n",
       "    <tr>\n",
       "      <th>4</th>\n",
       "      <td>magNst</td>\n",
       "      <td>5985</td>\n",
       "    </tr>\n",
       "    <tr>\n",
       "      <th>5</th>\n",
       "      <td>horizontalError</td>\n",
       "      <td>1505</td>\n",
       "    </tr>\n",
       "    <tr>\n",
       "      <th>6</th>\n",
       "      <td>gap</td>\n",
       "      <td>616</td>\n",
       "    </tr>\n",
       "    <tr>\n",
       "      <th>7</th>\n",
       "      <td>depthError</td>\n",
       "      <td>425</td>\n",
       "    </tr>\n",
       "    <tr>\n",
       "      <th>8</th>\n",
       "      <td>rms</td>\n",
       "      <td>401</td>\n",
       "    </tr>\n",
       "    <tr>\n",
       "      <th>9</th>\n",
       "      <td>longitude</td>\n",
       "      <td>1</td>\n",
       "    </tr>\n",
       "    <tr>\n",
       "      <th>10</th>\n",
       "      <td>magSource</td>\n",
       "      <td>0</td>\n",
       "    </tr>\n",
       "    <tr>\n",
       "      <th>11</th>\n",
       "      <td>updated_Converted</td>\n",
       "      <td>0</td>\n",
       "    </tr>\n",
       "    <tr>\n",
       "      <th>12</th>\n",
       "      <td>Date</td>\n",
       "      <td>0</td>\n",
       "    </tr>\n",
       "    <tr>\n",
       "      <th>13</th>\n",
       "      <td>locationSource</td>\n",
       "      <td>0</td>\n",
       "    </tr>\n",
       "    <tr>\n",
       "      <th>14</th>\n",
       "      <td>status</td>\n",
       "      <td>0</td>\n",
       "    </tr>\n",
       "    <tr>\n",
       "      <th>15</th>\n",
       "      <td>Month</td>\n",
       "      <td>0</td>\n",
       "    </tr>\n",
       "    <tr>\n",
       "      <th>16</th>\n",
       "      <td>OBJECTID</td>\n",
       "      <td>0</td>\n",
       "    </tr>\n",
       "    <tr>\n",
       "      <th>17</th>\n",
       "      <td>updated</td>\n",
       "      <td>0</td>\n",
       "    </tr>\n",
       "    <tr>\n",
       "      <th>18</th>\n",
       "      <td>type</td>\n",
       "      <td>0</td>\n",
       "    </tr>\n",
       "    <tr>\n",
       "      <th>19</th>\n",
       "      <td>place</td>\n",
       "      <td>0</td>\n",
       "    </tr>\n",
       "    <tr>\n",
       "      <th>20</th>\n",
       "      <td>Shape</td>\n",
       "      <td>0</td>\n",
       "    </tr>\n",
       "    <tr>\n",
       "      <th>21</th>\n",
       "      <td>id</td>\n",
       "      <td>0</td>\n",
       "    </tr>\n",
       "    <tr>\n",
       "      <th>22</th>\n",
       "      <td>net</td>\n",
       "      <td>0</td>\n",
       "    </tr>\n",
       "    <tr>\n",
       "      <th>23</th>\n",
       "      <td>magType</td>\n",
       "      <td>0</td>\n",
       "    </tr>\n",
       "    <tr>\n",
       "      <th>24</th>\n",
       "      <td>mag</td>\n",
       "      <td>0</td>\n",
       "    </tr>\n",
       "    <tr>\n",
       "      <th>25</th>\n",
       "      <td>depth</td>\n",
       "      <td>0</td>\n",
       "    </tr>\n",
       "    <tr>\n",
       "      <th>26</th>\n",
       "      <td>latitude</td>\n",
       "      <td>0</td>\n",
       "    </tr>\n",
       "    <tr>\n",
       "      <th>27</th>\n",
       "      <td>time</td>\n",
       "      <td>0</td>\n",
       "    </tr>\n",
       "    <tr>\n",
       "      <th>28</th>\n",
       "      <td>Year</td>\n",
       "      <td>0</td>\n",
       "    </tr>\n",
       "  </tbody>\n",
       "</table>\n",
       "</div>"
      ],
      "text/plain": [
       "                Field  Null_Count\n",
       "0              Date_1        6544\n",
       "1                dmin        6361\n",
       "2                 nst        6116\n",
       "3            magError        6090\n",
       "4              magNst        5985\n",
       "5     horizontalError        1505\n",
       "6                 gap         616\n",
       "7          depthError         425\n",
       "8                 rms         401\n",
       "9           longitude           1\n",
       "10          magSource           0\n",
       "11  updated_Converted           0\n",
       "12               Date           0\n",
       "13     locationSource           0\n",
       "14             status           0\n",
       "15              Month           0\n",
       "16           OBJECTID           0\n",
       "17            updated           0\n",
       "18               type           0\n",
       "19              place           0\n",
       "20              Shape           0\n",
       "21                 id           0\n",
       "22                net           0\n",
       "23            magType           0\n",
       "24                mag           0\n",
       "25              depth           0\n",
       "26           latitude           0\n",
       "27               time           0\n",
       "28               Year           0"
      ]
     },
     "execution_count": 40,
     "metadata": {},
     "output_type": "execute_result"
    }
   ],
   "source": [
    "def null_count(feature_class):\n",
    "    dic = {field_name: 0 for field_name in display_fields(feature_class)}\n",
    "\n",
    "    #Hashmap Null count to Dictionary\n",
    "    for idx in range(len(display_fields(feature_class))):\n",
    "        num = 0\n",
    "        with arcpy.da.SearchCursor(feature_class, display_fields(feature_class)[idx]) as cursor:\n",
    "            for row in cursor:\n",
    "                if row[0] == None:\n",
    "                    num +=1\n",
    "                    #print(num)\n",
    "            dic[display_fields(feature_class)[idx]] = num\n",
    "            \n",
    "    #Initialize DF\n",
    "    null_earthquake = pd.DataFrame(list(dic.items()), columns = ['Field', 'Null_Count'])\n",
    "    return null_earthquake.sort_values(by='Null_Count', ascending=False).reset_index().iloc[:,1:]\n",
    "\n",
    "null_count('OK_earthquakes')"
   ]
  },
  {
   "cell_type": "code",
   "execution_count": 41,
   "metadata": {},
   "outputs": [
    {
     "data": {
      "text/html": [
       "<div>\n",
       "<style scoped>\n",
       "    .dataframe tbody tr th:only-of-type {\n",
       "        vertical-align: middle;\n",
       "    }\n",
       "\n",
       "    .dataframe tbody tr th {\n",
       "        vertical-align: top;\n",
       "    }\n",
       "\n",
       "    .dataframe thead th {\n",
       "        text-align: right;\n",
       "    }\n",
       "</style>\n",
       "<table border=\"1\" class=\"dataframe\">\n",
       "  <thead>\n",
       "    <tr style=\"text-align: right;\">\n",
       "      <th></th>\n",
       "      <th>Field</th>\n",
       "      <th>Null_Count</th>\n",
       "    </tr>\n",
       "  </thead>\n",
       "  <tbody>\n",
       "    <tr>\n",
       "      <th>0</th>\n",
       "      <td>OBJECTID</td>\n",
       "      <td>0</td>\n",
       "    </tr>\n",
       "    <tr>\n",
       "      <th>1</th>\n",
       "      <td>Shape</td>\n",
       "      <td>0</td>\n",
       "    </tr>\n",
       "    <tr>\n",
       "      <th>2</th>\n",
       "      <td>API</td>\n",
       "      <td>0</td>\n",
       "    </tr>\n",
       "    <tr>\n",
       "      <th>3</th>\n",
       "      <td>Well_Name</td>\n",
       "      <td>0</td>\n",
       "    </tr>\n",
       "    <tr>\n",
       "      <th>4</th>\n",
       "      <td>Well_Number</td>\n",
       "      <td>0</td>\n",
       "    </tr>\n",
       "    <tr>\n",
       "      <th>5</th>\n",
       "      <td>Operator_Number</td>\n",
       "      <td>0</td>\n",
       "    </tr>\n",
       "    <tr>\n",
       "      <th>6</th>\n",
       "      <td>Report_Date</td>\n",
       "      <td>0</td>\n",
       "    </tr>\n",
       "    <tr>\n",
       "      <th>7</th>\n",
       "      <td>Volume_BPD</td>\n",
       "      <td>0</td>\n",
       "    </tr>\n",
       "    <tr>\n",
       "      <th>8</th>\n",
       "      <td>Pressure</td>\n",
       "      <td>0</td>\n",
       "    </tr>\n",
       "    <tr>\n",
       "      <th>9</th>\n",
       "      <td>API_NUM</td>\n",
       "      <td>0</td>\n",
       "    </tr>\n",
       "    <tr>\n",
       "      <th>10</th>\n",
       "      <td>Date</td>\n",
       "      <td>0</td>\n",
       "    </tr>\n",
       "    <tr>\n",
       "      <th>11</th>\n",
       "      <td>Month</td>\n",
       "      <td>0</td>\n",
       "    </tr>\n",
       "    <tr>\n",
       "      <th>12</th>\n",
       "      <td>Year</td>\n",
       "      <td>0</td>\n",
       "    </tr>\n",
       "  </tbody>\n",
       "</table>\n",
       "</div>"
      ],
      "text/plain": [
       "              Field  Null_Count\n",
       "0          OBJECTID           0\n",
       "1             Shape           0\n",
       "2               API           0\n",
       "3         Well_Name           0\n",
       "4       Well_Number           0\n",
       "5   Operator_Number           0\n",
       "6       Report_Date           0\n",
       "7        Volume_BPD           0\n",
       "8          Pressure           0\n",
       "9           API_NUM           0\n",
       "10             Date           0\n",
       "11            Month           0\n",
       "12             Year           0"
      ]
     },
     "execution_count": 41,
     "metadata": {},
     "output_type": "execute_result"
    }
   ],
   "source": [
    "null_count('OK_well_injection')"
   ]
  },
  {
   "cell_type": "markdown",
   "metadata": {},
   "source": [
    "#### As Null Values can be interpreted as a 0 value - we check these instances too"
   ]
  },
  {
   "cell_type": "code",
   "execution_count": 46,
   "metadata": {},
   "outputs": [
    {
     "data": {
      "text/html": [
       "<div>\n",
       "<style scoped>\n",
       "    .dataframe tbody tr th:only-of-type {\n",
       "        vertical-align: middle;\n",
       "    }\n",
       "\n",
       "    .dataframe tbody tr th {\n",
       "        vertical-align: top;\n",
       "    }\n",
       "\n",
       "    .dataframe thead th {\n",
       "        text-align: right;\n",
       "    }\n",
       "</style>\n",
       "<table border=\"1\" class=\"dataframe\">\n",
       "  <thead>\n",
       "    <tr style=\"text-align: right;\">\n",
       "      <th></th>\n",
       "      <th>Field</th>\n",
       "      <th>Null_Count</th>\n",
       "    </tr>\n",
       "  </thead>\n",
       "  <tbody>\n",
       "    <tr>\n",
       "      <th>0</th>\n",
       "      <td>Pressure</td>\n",
       "      <td>463385</td>\n",
       "    </tr>\n",
       "    <tr>\n",
       "      <th>1</th>\n",
       "      <td>Volume_BPD</td>\n",
       "      <td>53030</td>\n",
       "    </tr>\n",
       "    <tr>\n",
       "      <th>2</th>\n",
       "      <td>OBJECTID</td>\n",
       "      <td>0</td>\n",
       "    </tr>\n",
       "    <tr>\n",
       "      <th>3</th>\n",
       "      <td>Shape</td>\n",
       "      <td>0</td>\n",
       "    </tr>\n",
       "    <tr>\n",
       "      <th>4</th>\n",
       "      <td>API</td>\n",
       "      <td>0</td>\n",
       "    </tr>\n",
       "    <tr>\n",
       "      <th>5</th>\n",
       "      <td>Well_Name</td>\n",
       "      <td>0</td>\n",
       "    </tr>\n",
       "    <tr>\n",
       "      <th>6</th>\n",
       "      <td>Well_Number</td>\n",
       "      <td>0</td>\n",
       "    </tr>\n",
       "    <tr>\n",
       "      <th>7</th>\n",
       "      <td>Operator_Number</td>\n",
       "      <td>0</td>\n",
       "    </tr>\n",
       "    <tr>\n",
       "      <th>8</th>\n",
       "      <td>Report_Date</td>\n",
       "      <td>0</td>\n",
       "    </tr>\n",
       "    <tr>\n",
       "      <th>9</th>\n",
       "      <td>API_NUM</td>\n",
       "      <td>0</td>\n",
       "    </tr>\n",
       "    <tr>\n",
       "      <th>10</th>\n",
       "      <td>Date</td>\n",
       "      <td>0</td>\n",
       "    </tr>\n",
       "    <tr>\n",
       "      <th>11</th>\n",
       "      <td>Month</td>\n",
       "      <td>0</td>\n",
       "    </tr>\n",
       "    <tr>\n",
       "      <th>12</th>\n",
       "      <td>Year</td>\n",
       "      <td>0</td>\n",
       "    </tr>\n",
       "    <tr>\n",
       "      <th>13</th>\n",
       "      <td>Injection</td>\n",
       "      <td>0</td>\n",
       "    </tr>\n",
       "  </tbody>\n",
       "</table>\n",
       "</div>"
      ],
      "text/plain": [
       "              Field  Null_Count\n",
       "0          Pressure      463385\n",
       "1        Volume_BPD       53030\n",
       "2          OBJECTID           0\n",
       "3             Shape           0\n",
       "4               API           0\n",
       "5         Well_Name           0\n",
       "6       Well_Number           0\n",
       "7   Operator_Number           0\n",
       "8       Report_Date           0\n",
       "9           API_NUM           0\n",
       "10             Date           0\n",
       "11            Month           0\n",
       "12             Year           0\n",
       "13        Injection           0"
      ]
     },
     "execution_count": 46,
     "metadata": {},
     "output_type": "execute_result"
    }
   ],
   "source": [
    "def zero_count(feature_class):\n",
    "    dic = {field_name: 0 for field_name in display_fields(feature_class)}\n",
    "\n",
    "    #Hashmap Null count to Dictionary\n",
    "    for idx in range(len(display_fields(feature_class))):\n",
    "        num = 0\n",
    "        with arcpy.da.SearchCursor(feature_class, display_fields(feature_class)[idx]) as cursor:\n",
    "            for row in cursor:\n",
    "                if row[0] == 0:\n",
    "                    num +=1\n",
    "                    #print(num)\n",
    "            dic[display_fields(feature_class)[idx]] = num\n",
    "            \n",
    "    #Initialize DF\n",
    "    null_earthquake = pd.DataFrame(list(dic.items()), columns = ['Field', 'Null_Count'])\n",
    "    return null_earthquake.sort_values(by='Null_Count', ascending=False).reset_index().iloc[:,1:]\n",
    "\n",
    "zero_count('OK_well_injection')"
   ]
  },
  {
   "cell_type": "markdown",
   "metadata": {},
   "source": [
    "## Impute Null Values\n",
    "- `Earthquake Data - MagError`: Compute **_Linear Regression_** on basis of 'depthError', 'mag', 'depth', 'magNst' to predict N/A **MagError** --> .026 MAE Testing \n",
    "\n",
    "- `Well Injection Data - Pressure` --> Impute w/ **Station Mean Value for given month**\n",
    "- `Well Injection Data 0 Volume_BPD`  --> Impute w/ **Station Mean Value**"
   ]
  },
  {
   "cell_type": "markdown",
   "metadata": {},
   "source": [
    "### `Earthquake Data - MagError`"
   ]
  },
  {
   "cell_type": "code",
   "execution_count": 12,
   "metadata": {},
   "outputs": [],
   "source": [
    "#Retrieve values to Regress - Earthquakes\n",
    "mag_error_ls, depth_err_ls, mag_ls, depth_ls, mag_nst_ls = [], [], [], [], []\n",
    "with arcpy.da.SearchCursor('OK_earthquakes', ['magError', 'depthError', 'mag', 'depth', 'magNst']) as cursor:\n",
    "    for row in cursor:\n",
    "        if row[0]:\n",
    "            mag_error_ls.append(row[0])\n",
    "            if row[1] == None:\n",
    "                depth_err_ls.append(0)\n",
    "            else:    \n",
    "                depth_err_ls.append(row[1])\n",
    "            mag_ls.append(row[2])\n",
    "            depth_ls.append(row[3])\n",
    "            mag_nst_ls.append(row[4])\n",
    "\n",
    "#Save to Perform LR\n",
    "regress_df = pd.DataFrame(data=list(zip(mag_error_ls, depth_err_ls, mag_ls, depth_ls, mag_nst_ls)), \n",
    "                         columns = ['Mag_error', 'Depth_error', 'mag', 'depth', 'mag_nst'])\n",
    "\n",
    "#LR Regression\n",
    "reg_df = pd.read_excel('Regress_df.xlsx')\n",
    "\n",
    "from sklearn.linear_model import LinearRegression\n",
    "from sklearn.model_selection import train_test_split\n",
    "from sklearn.metrics import mean_absolute_error\n",
    "\n",
    "#Replace N/A w/ Zero for LR\n",
    "reg_df['mag_nst'] = reg_df['mag_nst'].apply(lambda i: 0 if pd.isna(i) else i)\n",
    "\n",
    "#Split\n",
    "x_train, x_test, y_train, y_test = train_test_split(reg_df[['Depth_error', 'mag', 'depth', 'mag_nst']], \n",
    "                                                    reg_df['Mag_error'], test_size=.2, random_state=0)\n",
    "\n",
    "lr_model = LinearRegression().fit(x_train, y_train) #Fit Model\n",
    "\n",
    "#Evaluate Accuracy\n",
    "print('Training Accuracy:', mean_absolute_error(y_train, lr_model.predict(x_train))) #ME - Train\n",
    "print('Testing Accuracy:', mean_absolute_error(y_test, lr_model.predict(x_test))) #ME - Test"
   ]
  },
  {
   "cell_type": "code",
   "execution_count": 12,
   "metadata": {},
   "outputs": [],
   "source": [
    "#Fill NA Values w/ LR Model Predictions\n",
    "Intercept = 0.26097579055728315\n",
    "b1_depth_error = -0.00207291\n",
    "b1_mag = -0.04513556\n",
    "b1_depth = 0.0006205\n",
    "b1_mag_nst = -0.00066137\n",
    "\n",
    "with arcpy.da.UpdateCursor('OK_earthquakes', ['magError', 'depthError', 'mag', 'depth', 'magNst']) as cursor:\n",
    "    for row in cursor:\n",
    "        try: #Conditional for model execution as 2 other fields are missing vlues\n",
    "            if row[0] == None and row[1] == None and row[4] == None:\n",
    "                row[0] = Intercept + b1_mag*row[2] + b1_depth*row[3]\n",
    "\n",
    "            if row[0] == None and row[4] == None:\n",
    "                row[0] = Intercept + b1_depth_error*row[1] + b1_mag*row[2] + b1_depth*row[3] \n",
    "                cursor.updateRow(row)\n",
    "\n",
    "            if row[0] == None:\n",
    "                row[0] = Intercept + b1_depth_error*row[1] + b1_mag*row[2] + b1_depth*row[3] + b1_mag_nst*row[4]\n",
    "                cursor.updateRow(row)\n",
    "        except:\n",
    "            row[0] = 0\n",
    "            cursor.updateRow(row)        "
   ]
  },
  {
   "cell_type": "code",
   "execution_count": 14,
   "metadata": {},
   "outputs": [],
   "source": [
    "with arcpy.da.UpdateCursor('OK_earthquakes', ['magError']) as cursor: #replace remaining w/ 0 \n",
    "    for row in cursor:\n",
    "        if row[0] == None:\n",
    "            row[0] = 0\n",
    "            cursor.updateRow(row)"
   ]
  },
  {
   "cell_type": "markdown",
   "metadata": {},
   "source": [
    "### `Well Injection Data - Pressure`"
   ]
  },
  {
   "cell_type": "code",
   "execution_count": 29,
   "metadata": {},
   "outputs": [],
   "source": [
    "#Gather data to agg\n",
    "well_ls = []\n",
    "with arcpy.da.SearchCursor('OK_well_injection', ['Month', 'Well_Name', 'Pressure']) as cursor:\n",
    "    for row in cursor:\n",
    "        well_ls.append((row[0], row[1].strip(), row[2]))\n",
    "        "
   ]
  },
  {
   "cell_type": "code",
   "execution_count": 30,
   "metadata": {},
   "outputs": [],
   "source": [
    "#Group aggregate stats\n",
    "well_df = pd.DataFrame(data = well_ls, columns = ['Month', 'Well_Name', 'Pressure'])\n",
    "grouped_wells = well_df.groupby(['Month', 'Well_Name']).agg({'Pressure':'mean'}).reset_index()"
   ]
  },
  {
   "cell_type": "code",
   "execution_count": 32,
   "metadata": {},
   "outputs": [],
   "source": [
    "#Update Column w/ station avg mean for given month through mapping method\n",
    "cnt = 0 \n",
    "with arcpy.da.UpdateCursor('OK_well_injection', ['Month', 'Well_Name', 'Pressure']) as cursor:\n",
    "    for row in cursor:\n",
    "        print(cnt)\n",
    "        if row[2] == 0:\n",
    "            row[2] = grouped_wells.query(f'Month == {row[0]} & Well_Name == \"{row[1].strip()}\"')['Pressure'].values[0]\n",
    "            cnt+=1\n",
    "        else: continue\n",
    "        "
   ]
  },
  {
   "cell_type": "markdown",
   "metadata": {},
   "source": [
    "## `Volume_BPD`"
   ]
  },
  {
   "cell_type": "code",
   "execution_count": 37,
   "metadata": {},
   "outputs": [],
   "source": [
    "year_ls, name_ls, vol_ls = [], [], []\n",
    "\n",
    "with arcpy.da.SearchCursor('OK_well_injection', ['Year', 'Well_Name', 'Volume_BPD']) as cursor:\n",
    "    for row in cursor:\n",
    "        year_ls.append(row[0])\n",
    "        name_ls.append(row[1])\n",
    "        vol_ls.append(row[2])"
   ]
  },
  {
   "cell_type": "code",
   "execution_count": 39,
   "metadata": {},
   "outputs": [],
   "source": [
    "volume_df = pd.DataFrame(data=list(zip(year_ls,name_ls,vol_ls)), columns=['Year', 'Well_Name', 'Volume_BPD'])"
   ]
  },
  {
   "cell_type": "code",
   "execution_count": 40,
   "metadata": {},
   "outputs": [],
   "source": [
    "vol_grouped = volume_df.groupby('Well_Name').agg({'Volume_BPD' : 'mean'}).reset_index()\n",
    "vol_dic = {k:v for k,v in zip(vol_grouped['Well_Name'],vol_grouped['Volume_BPD'] )} #Hashmap"
   ]
  },
  {
   "cell_type": "code",
   "execution_count": 45,
   "metadata": {},
   "outputs": [],
   "source": [
    "with arcpy.da.UpdateCursor('OK_well_injection', ['Well_Name', 'Volume_BPD']) as cursor: #update\n",
    "    for row in cursor:\n",
    "        if row[1] == 0:\n",
    "            row[1] = vol_dic[row[0]]\n",
    "            cursor.updateRow(row)"
   ]
  },
  {
   "cell_type": "markdown",
   "metadata": {},
   "source": [
    "## Distribution of Earthquake and Water Injection Data (Histograms)"
   ]
  },
  {
   "cell_type": "code",
   "execution_count": 4,
   "metadata": {},
   "outputs": [],
   "source": [
    "#Earthquake Data\n",
    "eq_yr, eq_month = [], []\n",
    "with arcpy.da.SearchCursor('OK_earthquakes', ['Year', 'Month']) as cursor:\n",
    "    for row in cursor:\n",
    "        eq_yr.append(row[0])\n",
    "        eq_month.append(row[1])\n",
    "        \n",
    "#Injection Well Data\n",
    "well_yr, well_month = [], []\n",
    "with arcpy.da.SearchCursor('OK_well_injection', ['Year', 'Month']) as cursor:\n",
    "    for row in cursor:\n",
    "        well_yr.append(row[0])\n",
    "        well_month.append(row[1])\n",
    "\n",
    "#Initialize Data Frames\n",
    "earth_df = pd.DataFrame(data = list(zip(eq_yr, eq_month)), columns = ['Year', 'Month'])\n",
    "well_df = pd.DataFrame(data = list(zip(well_yr, well_month)), columns = ['Year', 'Month'])"
   ]
  },
  {
   "cell_type": "code",
   "execution_count": 6,
   "metadata": {},
   "outputs": [],
   "source": [
    "#Monthly Distribution Wells -  Aggregate Statistics\n",
    "well_agg = well_df.reset_index().groupby(['Month']).agg({'index': 'count'}).rename(columns={'index':'count'}).\\\n",
    "reset_index()\n",
    "\n",
    "well_agg.to_excel('G:\\Wells_agg.xlsx')\n",
    "\n",
    "earth_agg = earth_df.reset_index().groupby(['Month']).agg({'index': 'count'}).rename(columns={'index':'count'}).\\\n",
    "reset_index()\n",
    "\n",
    "earth_agg.to_excel('G:\\earth_agg.xlsx')\n"
   ]
  },
  {
   "cell_type": "code",
   "execution_count": 7,
   "metadata": {},
   "outputs": [],
   "source": [
    "well_agg_yr = well_df.reset_index().groupby(['Year']).agg({'index': 'count'}).rename(columns={'index':'count'}).\\\n",
    "reset_index()\n",
    "well_agg_yr.to_excel('G:\\Wells_agg_yr.xlsx')"
   ]
  },
  {
   "cell_type": "code",
   "execution_count": 9,
   "metadata": {},
   "outputs": [],
   "source": [
    "earth_agg_yr = earth_df.reset_index().groupby(['Year']).agg({'index': 'count'}).rename(columns={'index':'count'}).\\\n",
    "reset_index()\n",
    "earth_agg_yr.to_excel('G:\\Earth_agg_yr.xlsx')"
   ]
  },
  {
   "cell_type": "code",
   "execution_count": null,
   "metadata": {},
   "outputs": [],
   "source": [
    "# # Code to Visualize\n",
    "\n",
    "# well_agg = pd.read_excel('Wells_agg.xlsx')\n",
    "# plt.figure(figsize=(8,6))\n",
    "# sns.barplot(data=well_agg, x='Month', y='count', color = 'skyblue')\n",
    "# plt.title('Monthly Distribution - Well Injections')\n",
    "# plt.show()\n",
    "\n",
    "# earth_agg = pd.read_excel('earth_agg.xlsx')\n",
    "# plt.figure(figsize=(8,6))\n",
    "# sns.barplot(data=earth_agg, x='Month', y='count', color = 'red')\n",
    "# plt.title('Monthly Distribution - Earthquakes')\n",
    "# plt.show()\n",
    "\n",
    "# wells_agg_yr = pd.read_excel('Wells_agg_yr.xlsx')\n",
    "# plt.figure(figsize=(8,6))\n",
    "# sns.barplot(data=wells_agg_yr, x='Year', y='count', color = 'skyblue')\n",
    "# plt.title('Monthly Distribution - Well Injections')\n",
    "# plt.show()\n",
    "\n",
    "# earth_agg_yr = pd.read_excel('Earth_agg_yr.xlsx')\n",
    "# plt.figure(figsize=(8,6))\n",
    "# sns.barplot(data=earth_agg_yr, x='Year', y='count', color = 'red')\n",
    "# plt.title('Monthly Distribution - Earthquakes')\n",
    "# plt.show()"
   ]
  },
  {
   "cell_type": "code",
   "execution_count": 52,
   "metadata": {},
   "outputs": [],
   "source": [
    "#Volume_BPD Histogram\n",
    "well_yr, well_month, vol_ls = [], [], []\n",
    "with arcpy.da.SearchCursor('OK_well_injection', ['Year', 'Month', 'Volume_BPD']) as cursor:\n",
    "    for row in cursor:\n",
    "        well_yr.append(row[0])\n",
    "        well_month.append(row[1])\n",
    "        vol_ls.append(row[2])\n",
    "well_df = pd.DataFrame(data = list(zip(well_yr, well_month, vol_ls)), columns = ['Year', 'Month', 'Volume_BPD'])"
   ]
  },
  {
   "cell_type": "code",
   "execution_count": 56,
   "metadata": {},
   "outputs": [],
   "source": [
    "vol_df = well_df.groupby(['Year']).agg({'Volume_BPD' : 'sum'}).reset_index()\n",
    "vol_df.to_excel('G:\\Vol_agg_yr.xlsx')"
   ]
  },
  {
   "cell_type": "code",
   "execution_count": 57,
   "metadata": {},
   "outputs": [],
   "source": [
    "vol_df = well_df.groupby(['Month']).agg({'Volume_BPD' : 'sum'}).reset_index()\n",
    "vol_df.to_excel('G:\\Vol_agg_month.xlsx')"
   ]
  },
  {
   "cell_type": "markdown",
   "metadata": {},
   "source": [
    "## Space-Time-Cube"
   ]
  },
  {
   "cell_type": "code",
   "execution_count": 9,
   "metadata": {},
   "outputs": [
    {
     "data": {
      "text/html": [
       "<div class='gpresult'><h2>Messages</h2><div id='messages' data-messages='[\"Start Time: Sunday, September 10, 2023 11:33:54 PM\",\"Adding Earthquake to OK_earthquakes1...\",\"Succeeded at Sunday, September 10, 2023 11:33:55 PM (Elapsed Time: 1.47 seconds)\"]' data-show='true'><div id = 'default' /></div></div>"
      ],
      "text/plain": [
       "<Result 'OK_earthquakes1'>"
      ]
     },
     "execution_count": 9,
     "metadata": {},
     "output_type": "execute_result"
    }
   ],
   "source": [
    "arcpy.AddField_management('OK_earthquakes1', 'Earthquake', 'Integer')#add field to count earthquakes"
   ]
  },
  {
   "cell_type": "code",
   "execution_count": 10,
   "metadata": {},
   "outputs": [],
   "source": [
    "cursor = arcpy.UpdateCursor('OK_earthquakes1')\n",
    "for row in cursor:\n",
    "    row.setValue('Earthquake', 1) #add counter\n",
    "    cursor.updateRow(row)\n",
    "\n",
    "del cursor"
   ]
  },
  {
   "cell_type": "code",
   "execution_count": 11,
   "metadata": {},
   "outputs": [
    {
     "data": {
      "text/html": [
       "<div class='gpresult'><h2>Messages</h2><div id='messages' data-messages='[\"Start Time: Monday, September 11, 2023 12:02:49 AM\",\"Adding Injection to OK_well_injection...\",\"Succeeded at Monday, September 11, 2023 12:02:51 AM (Elapsed Time: 1.82 seconds)\"]' data-show='true'><div id = 'default' /></div></div>"
      ],
      "text/plain": [
       "<Result 'OK_well_injection'>"
      ]
     },
     "execution_count": 11,
     "metadata": {},
     "output_type": "execute_result"
    }
   ],
   "source": [
    "arcpy.AddField_management('OK_Well_injection', 'Injection', 'Integer') #add field to count Well Injections"
   ]
  },
  {
   "cell_type": "code",
   "execution_count": 12,
   "metadata": {},
   "outputs": [],
   "source": [
    "cursor = arcpy.UpdateCursor('OK_Well_injection')\n",
    "for row in cursor:\n",
    "    row.setValue('Injection', 1) #add counter\n",
    "    cursor.updateRow(row)\n",
    "\n",
    "del cursor"
   ]
  },
  {
   "cell_type": "markdown",
   "metadata": {},
   "source": [
    "## Data Clocks"
   ]
  },
  {
   "cell_type": "code",
   "execution_count": 27,
   "metadata": {},
   "outputs": [],
   "source": [
    "#Data Clocks for Earthquake Magnitude and Water Injection Rates\n",
    "chart = arcpy.charts.DataClock(dateField=\"Date\", numberField = 'mag', aggregation=\"MEAN\", \n",
    "                               timeUnitsRingWedge=\"YEARS_MONTHS\", dataSource='OK_earthquakes1', \n",
    "                              title = 'Average Magnitude (2010-2016)') \n",
    "\n",
    "chart.exportToSVG(\"data_clock.svg\", width=750, height=500) #Earthquake Data Clock"
   ]
  },
  {
   "cell_type": "code",
   "execution_count": 13,
   "metadata": {},
   "outputs": [],
   "source": [
    "well_chart = arcpy.charts.DataClock(dateField=\"Date\", numberField = 'INJECTION', aggregation=\"SUM\", \n",
    "                               timeUnitsRingWedge=\"YEARS_MONTHS\", dataSource = arcpy.env.workspace + '\\\\''OK_well_injection',\n",
    "                                   title = 'Injection Rate (2012-2018)') #Well Injection Data Clock\n",
    "\n",
    "\n",
    "well_chart.exportToSVG(\"G:\\Proj1_SSCI575\\Proj1_SSCI575\\data_clock_InjectionRate.svg\", width=750, height=500)"
   ]
  },
  {
   "cell_type": "code",
   "execution_count": 51,
   "metadata": {},
   "outputs": [],
   "source": [
    "volume_chart= arcpy.charts.DataClock(dateField=\"Date\", numberField = 'Volume_BPD', aggregation=\"SUM\", \n",
    "                               timeUnitsRingWedge=\"YEARS_MONTHS\", dataSource = arcpy.env.workspace + '\\\\''OK_well_injection',\n",
    "                                   title = 'Volume Injection Rate (2012-2018)') #Well Injection Data Clock\n",
    "volume_chart.exportToSVG(\"G:\\Proj1_SSCI575\\Proj1_SSCI575\\data_clock_VolumeInjectionRate.svg\", width=750, height=500)"
   ]
  },
  {
   "cell_type": "markdown",
   "metadata": {},
   "source": [
    "## Time-Series Earthquake Magnitude and Water Injection Rate - Medford"
   ]
  },
  {
   "cell_type": "code",
   "execution_count": 7,
   "metadata": {},
   "outputs": [
    {
     "data": {
      "text/html": [
       "<div class='gpresult'><h2>Messages</h2><div id='messages' data-messages='[\"Start Time: Monday, September 11, 2023 2:25:10 PM\",\"Adding City to OK_earthquakes...\",\"Succeeded at Monday, September 11, 2023 2:25:14 PM (Elapsed Time: 3.68 seconds)\"]' data-show='true'><div id = 'default' /></div></div>"
      ],
      "text/plain": [
       "<Result 'OK_earthquakes'>"
      ]
     },
     "execution_count": 7,
     "metadata": {},
     "output_type": "execute_result"
    }
   ],
   "source": [
    "#Make new Column w/ City Name \n",
    "arcpy.AddField_management('OK_earthquakes', 'City', 'String')"
   ]
  },
  {
   "cell_type": "code",
   "execution_count": 21,
   "metadata": {},
   "outputs": [],
   "source": [
    "cursor = arcpy.UpdateCursor('OK_earthquakes', ['place', 'City'])\n",
    "\n",
    "# Loop through the rows in the cursor\n",
    "for row in cursor:\n",
    "    try:\n",
    "        row.setValue('City', row.getValue('place').split(' ')[3].split(',')[0]) #Add City\n",
    "        cursor.updateRow(row)\n",
    "    except:\n",
    "        row.setValue('City', 'Oklahoma')\n",
    "        cursor.updateRow(row)"
   ]
  },
  {
   "cell_type": "code",
   "execution_count": 24,
   "metadata": {},
   "outputs": [
    {
     "data": {
      "text/html": [
       "<div class='gpresult'><h2>Messages</h2><div id='messages' data-messages='[\"Start Time: Monday, September 11, 2023 2:35:16 PM\",\"Succeeded at Monday, September 11, 2023 2:35:19 PM (Elapsed Time: 3.12 seconds)\"]' data-show='true'><div id = 'default' /></div></div>"
      ],
      "text/plain": [
       "<Result 'OK_earthquakes_Layer2'>"
      ]
     },
     "execution_count": 24,
     "metadata": {},
     "output_type": "execute_result"
    }
   ],
   "source": [
    "arcpy.SelectLayerByAttribute_management(\"OK_earthquakes\", \"SUBSET_SELECTION\", \"City = 'Medford'\")"
   ]
  },
  {
   "cell_type": "code",
   "execution_count": 23,
   "metadata": {},
   "outputs": [
    {
     "data": {
      "text/html": [
       "<div class='gpresult'><h2>Messages</h2><div id='messages' data-messages='[\"Start Time: Monday, September 11, 2023 2:35:08 PM\",\"Succeeded at Monday, September 11, 2023 2:35:09 PM (Elapsed Time: 0.82 seconds)\"]' data-show='true'><div id = 'default' /></div></div>"
      ],
      "text/plain": [
       "<Result 'OK_earthquakes_Layer1'>"
      ]
     },
     "execution_count": 23,
     "metadata": {},
     "output_type": "execute_result"
    }
   ],
   "source": [
    "arcpy.SelectLayerByAttribute_management(\"OK_earthquakes\", \"CLEAR_SELECTION\")"
   ]
  },
  {
   "cell_type": "code",
   "execution_count": 25,
   "metadata": {},
   "outputs": [
    {
     "data": {
      "text/html": [
       "<div class='gpresult'><h2>Messages</h2><div id='messages' data-messages='[\"Start Time: Monday, September 11, 2023 2:36:46 PM\",\"Succeeded at Monday, September 11, 2023 2:36:54 PM (Elapsed Time: 7.38 seconds)\"]' data-show='true'><div id = 'default' /></div></div>"
      ],
      "text/plain": [
       "<Result 'G:\\\\Proj1_SSCI575\\\\Proj1_SSCI575\\\\Data Wrangling.gdb\\\\Medford_earthquakes'>"
      ]
     },
     "execution_count": 25,
     "metadata": {},
     "output_type": "execute_result"
    }
   ],
   "source": [
    "arcpy.CopyFeatures_management(\"OK_earthquakes\", \"Medford_earthquakes\")\n",
    "arcpy.RefreshActiveView()\n",
    "mxd.save()"
   ]
  },
  {
   "cell_type": "code",
   "execution_count": 27,
   "metadata": {},
   "outputs": [
    {
     "data": {
      "text/html": [
       "<div class='gpresult'><h2>Messages</h2><div id='messages' data-messages='[\"Start Time: Monday, September 11, 2023 2:43:27 PM\",\"Succeeded at Monday, September 11, 2023 2:43:29 PM (Elapsed Time: 2.64 seconds)\"]' data-show='true'><div id = 'default' /></div></div>"
      ],
      "text/plain": [
       "<Result 'G:\\\\Proj1_SSCI575\\\\Proj1_SSCI575\\\\Data Wrangling.gdb\\\\Medford_25mi'>"
      ]
     },
     "execution_count": 27,
     "metadata": {},
     "output_type": "execute_result"
    }
   ],
   "source": [
    "#buffer 5 mile distance of medford\n",
    "bufferOutput = \"Medford_25mi\"\n",
    "bufferDist = \"25 miles\"\n",
    "arcpy.analysis.Buffer('Medford_earthquakes1', bufferOutput, bufferDist)"
   ]
  },
  {
   "cell_type": "code",
   "execution_count": 28,
   "metadata": {},
   "outputs": [
    {
     "data": {
      "text/html": [
       "<div class='gpresult'><h2>Messages</h2><div id='messages' data-messages='[\"Start Time: Monday, September 11, 2023 2:45:07 PM\",\"Analyzing input features...\",\"Dissolving clip features...\",\"Clipping input features...\",\"Succeeded at Monday, September 11, 2023 2:45:19 PM (Elapsed Time: 12.70 seconds)\"]' data-show='true'><div id = 'default' /></div></div>"
      ],
      "text/plain": [
       "<Result 'G:\\\\Proj1_SSCI575\\\\Proj1_SSCI575\\\\Data Wrangling.gdb\\\\Medford_well_injection'>"
      ]
     },
     "execution_count": 28,
     "metadata": {},
     "output_type": "execute_result"
    }
   ],
   "source": [
    "#Clip Well Injection to General Medford Area\n",
    "clipInput = \"OK_well_injection\"\n",
    "clipOutput = \"Medford_well_injection\"\n",
    "arcpy.analysis.Clip(clipInput, 'Medford_25mi', clipOutput)"
   ]
  },
  {
   "cell_type": "code",
   "execution_count": 3,
   "metadata": {},
   "outputs": [],
   "source": [
    "#Earthquake Medford agg\n",
    "earth_date, mag_ls, = [], []\n",
    "\n",
    "cursor = arcpy.SearchCursor('Medford_earthquakes1', ['updated_Converted', 'mag'])\n",
    "\n",
    "for row in cursor:\n",
    "    earth_date.append(row.getValue('updated_Converted'))\n",
    "    mag_ls.append(row.getValue('mag'))\n",
    "\n",
    "del cursor"
   ]
  },
  {
   "cell_type": "code",
   "execution_count": 4,
   "metadata": {},
   "outputs": [
    {
     "data": {
      "text/html": [
       "<div>\n",
       "<style scoped>\n",
       "    .dataframe tbody tr th:only-of-type {\n",
       "        vertical-align: middle;\n",
       "    }\n",
       "\n",
       "    .dataframe tbody tr th {\n",
       "        vertical-align: top;\n",
       "    }\n",
       "\n",
       "    .dataframe thead th {\n",
       "        text-align: right;\n",
       "    }\n",
       "</style>\n",
       "<table border=\"1\" class=\"dataframe\">\n",
       "  <thead>\n",
       "    <tr style=\"text-align: right;\">\n",
       "      <th></th>\n",
       "      <th>Date</th>\n",
       "      <th>Magnitude</th>\n",
       "    </tr>\n",
       "  </thead>\n",
       "  <tbody>\n",
       "    <tr>\n",
       "      <th>0</th>\n",
       "      <td>2016-09-24 22:47:15</td>\n",
       "      <td>3.1</td>\n",
       "    </tr>\n",
       "    <tr>\n",
       "      <th>1</th>\n",
       "      <td>2016-09-17 01:27:53</td>\n",
       "      <td>2.8</td>\n",
       "    </tr>\n",
       "    <tr>\n",
       "      <th>2</th>\n",
       "      <td>2016-09-17 01:27:50</td>\n",
       "      <td>3.4</td>\n",
       "    </tr>\n",
       "    <tr>\n",
       "      <th>3</th>\n",
       "      <td>2016-09-17 01:27:46</td>\n",
       "      <td>2.5</td>\n",
       "    </tr>\n",
       "    <tr>\n",
       "      <th>4</th>\n",
       "      <td>2016-09-17 01:27:46</td>\n",
       "      <td>2.8</td>\n",
       "    </tr>\n",
       "    <tr>\n",
       "      <th>...</th>\n",
       "      <td>...</td>\n",
       "      <td>...</td>\n",
       "    </tr>\n",
       "    <tr>\n",
       "      <th>1058</th>\n",
       "      <td>2017-07-14 19:33:25</td>\n",
       "      <td>2.9</td>\n",
       "    </tr>\n",
       "    <tr>\n",
       "      <th>1059</th>\n",
       "      <td>2014-11-07 01:51:08</td>\n",
       "      <td>2.5</td>\n",
       "    </tr>\n",
       "    <tr>\n",
       "      <th>1060</th>\n",
       "      <td>2014-11-07 01:51:08</td>\n",
       "      <td>2.6</td>\n",
       "    </tr>\n",
       "    <tr>\n",
       "      <th>1061</th>\n",
       "      <td>2014-11-07 01:50:53</td>\n",
       "      <td>2.5</td>\n",
       "    </tr>\n",
       "    <tr>\n",
       "      <th>1062</th>\n",
       "      <td>2014-11-07 01:50:50</td>\n",
       "      <td>2.7</td>\n",
       "    </tr>\n",
       "  </tbody>\n",
       "</table>\n",
       "<p>1063 rows × 2 columns</p>\n",
       "</div>"
      ],
      "text/plain": [
       "                    Date  Magnitude\n",
       "0    2016-09-24 22:47:15        3.1\n",
       "1    2016-09-17 01:27:53        2.8\n",
       "2    2016-09-17 01:27:50        3.4\n",
       "3    2016-09-17 01:27:46        2.5\n",
       "4    2016-09-17 01:27:46        2.8\n",
       "...                  ...        ...\n",
       "1058 2017-07-14 19:33:25        2.9\n",
       "1059 2014-11-07 01:51:08        2.5\n",
       "1060 2014-11-07 01:51:08        2.6\n",
       "1061 2014-11-07 01:50:53        2.5\n",
       "1062 2014-11-07 01:50:50        2.7\n",
       "\n",
       "[1063 rows x 2 columns]"
      ]
     },
     "execution_count": 4,
     "metadata": {},
     "output_type": "execute_result"
    }
   ],
   "source": [
    "#DF + Time-Series Analysis -> Medford Earthquakes\n",
    "earth_medford_df = pd.DataFrame(data=list(zip(earth_date, mag_ls)), columns = ['Date', 'Magnitude'])\n",
    "earth_medford_df"
   ]
  },
  {
   "cell_type": "code",
   "execution_count": 5,
   "metadata": {},
   "outputs": [],
   "source": [
    "#Year and month columns\n",
    "earth_medford_df['Year'], earth_medford_df['Month'] = [i.year for i in earth_medford_df.Date],[i.month for i in earth_medford_df.Date]"
   ]
  },
  {
   "cell_type": "code",
   "execution_count": 6,
   "metadata": {},
   "outputs": [],
   "source": [
    "earth_medford_df.to_excel('G:\\Proj1_SSCI575\\Proj1_SSCI575\\medford_earthquakes.xlsx')"
   ]
  },
  {
   "cell_type": "code",
   "execution_count": 44,
   "metadata": {},
   "outputs": [],
   "source": [
    "agg_df = earth_medford_df.groupby(['Year', 'Month']).agg({'Magnitude' : 'mean'}).reset_index()\n",
    "agg_df['Date'] = agg_df['Month'].astype(str) + '-' + agg_df['Year'].astype(str)\n",
    "agg_df['Date'] = agg_df['Date'].astype(str)\n",
    "agg_df.to_excel('G:\\Proj1_SSCI575\\Proj1_SSCI575\\earth_agg.xlsx')"
   ]
  },
  {
   "cell_type": "code",
   "execution_count": 45,
   "metadata": {},
   "outputs": [],
   "source": [
    "#Create Viz - Earthquakes Medford\n",
    "import matplotlib.pyplot as plt\n",
    "df = pd.read_excel('earth_agg.xlsx')\n",
    "plt.figure(figsize=(15, 6))\n",
    "plt.plot(df['Date'], df['Magnitude'], marker='o', linestyle='-', color='red')\n",
    "\n",
    "#Rotate\n",
    "plt.xticks(rotation=45)\n",
    "\n",
    "num_ticks = 15  \n",
    "total_items = len(df['Date'])\n",
    "step = max(1, total_items // num_ticks)\n",
    "xticks_positions = range(0, total_items, step)\n",
    "xticks_labels = df['Date'][::step]\n",
    "\n",
    "# Set the x-axis tick positions and labels\n",
    "plt.xticks(xticks_positions, xticks_labels)\n",
    "\n",
    "#Labels\n",
    "plt.xlabel('Date')\n",
    "plt.ylabel('Avg Magnitude')\n",
    "plt.title('Medford Earthquake Magnitude (2013-2017)')\n",
    "plt.show()"
   ]
  },
  {
   "cell_type": "code",
   "execution_count": 58,
   "metadata": {},
   "outputs": [],
   "source": [
    "#Well Medford agg\n",
    "date_ls, inject_ls, vol_ls = [], [], []\n",
    "cursor = arcpy.SearchCursor('Medford_well_injection', ['Date', 'Injection', 'Volume_BPD'])\n",
    "\n",
    "for row in cursor:\n",
    "    date_ls.append(row.getValue('Date'))\n",
    "    inject_ls.append(row.getValue('Injection'))\n",
    "    vol_ls.append(row.getValue('Volume_BPD'))\n",
    "\n",
    "del cursor"
   ]
  },
  {
   "cell_type": "code",
   "execution_count": 63,
   "metadata": {},
   "outputs": [
    {
     "data": {
      "text/html": [
       "<div>\n",
       "<style scoped>\n",
       "    .dataframe tbody tr th:only-of-type {\n",
       "        vertical-align: middle;\n",
       "    }\n",
       "\n",
       "    .dataframe tbody tr th {\n",
       "        vertical-align: top;\n",
       "    }\n",
       "\n",
       "    .dataframe thead th {\n",
       "        text-align: right;\n",
       "    }\n",
       "</style>\n",
       "<table border=\"1\" class=\"dataframe\">\n",
       "  <thead>\n",
       "    <tr style=\"text-align: right;\">\n",
       "      <th></th>\n",
       "      <th>Date</th>\n",
       "      <th>Injection</th>\n",
       "      <th>Volume_BPD</th>\n",
       "    </tr>\n",
       "  </thead>\n",
       "  <tbody>\n",
       "    <tr>\n",
       "      <th>0</th>\n",
       "      <td>2018-07-07 00:00:00.131072</td>\n",
       "      <td>1</td>\n",
       "      <td>2551.0</td>\n",
       "    </tr>\n",
       "    <tr>\n",
       "      <th>1</th>\n",
       "      <td>2018-07-06 00:00:00.065536</td>\n",
       "      <td>1</td>\n",
       "      <td>1283.0</td>\n",
       "    </tr>\n",
       "    <tr>\n",
       "      <th>2</th>\n",
       "      <td>2018-07-05 00:00:00.131072</td>\n",
       "      <td>1</td>\n",
       "      <td>634.0</td>\n",
       "    </tr>\n",
       "  </tbody>\n",
       "</table>\n",
       "</div>"
      ],
      "text/plain": [
       "                        Date  Injection  Volume_BPD\n",
       "0 2018-07-07 00:00:00.131072          1      2551.0\n",
       "1 2018-07-06 00:00:00.065536          1      1283.0\n",
       "2 2018-07-05 00:00:00.131072          1       634.0"
      ]
     },
     "execution_count": 63,
     "metadata": {},
     "output_type": "execute_result"
    }
   ],
   "source": [
    "#DF + Time-Series Analysis -> Medford Wells\n",
    "well_medford_df = pd.DataFrame(data=list(zip(date_ls, inject_ls, vol_ls)), columns = ['Date', 'Injection', 'Volume_BPD'])\n",
    "well_medford_df.head(3)"
   ]
  },
  {
   "cell_type": "code",
   "execution_count": 64,
   "metadata": {},
   "outputs": [],
   "source": [
    "#Year+Month\n",
    "well_medford_df['Year'], well_medford_df['Month'] = [i.year for i in well_medford_df.Date],[i.month for i in well_medford_df.Date]"
   ]
  },
  {
   "cell_type": "code",
   "execution_count": 61,
   "metadata": {},
   "outputs": [],
   "source": [
    "agg_df = well_medford_df.groupby(['Year', 'Month']).agg({'Injection' : 'sum'}).reset_index()\n",
    "agg_df['Date'] = agg_df['Month'].astype(str) + '-' + agg_df['Year'].astype(str)\n",
    "agg_df['Date'] = agg_df['Date'].astype(str)\n",
    "agg_df.to_excel('G:\\Proj1_SSCI575\\Proj1_SSCI575\\well_agg.xlsx')"
   ]
  },
  {
   "cell_type": "code",
   "execution_count": 65,
   "metadata": {},
   "outputs": [],
   "source": [
    "agg_df = well_medford_df.groupby(['Year', 'Month']).agg({'Volume_BPD' : 'sum'}).reset_index() #VOLUME_BPD\n",
    "agg_df['Date'] = agg_df['Month'].astype(str) + '-' + agg_df['Year'].astype(str)\n",
    "agg_df['Date'] = agg_df['Date'].astype(str)\n",
    "agg_df.to_excel('G:\\Proj1_SSCI575\\Proj1_SSCI575\\well_volume_agg.xlsx')"
   ]
  },
  {
   "cell_type": "code",
   "execution_count": null,
   "metadata": {},
   "outputs": [],
   "source": []
  },
  {
   "cell_type": "code",
   "execution_count": null,
   "metadata": {},
   "outputs": [],
   "source": [
    "import matplotlib.pyplot as plt\n",
    "df = pd.read_excel('well_agg.xlsx')\n",
    "plt.figure(figsize=(15, 6))\n",
    "plt.plot(df['Date'], df['Injection'], marker='o', linestyle='-')\n",
    "\n",
    "#Rotate\n",
    "plt.xticks(rotation=45)\n",
    "\n",
    "num_ticks = 15  \n",
    "total_items = len(df['Date'])\n",
    "step = max(1, total_items // num_ticks)\n",
    "xticks_positions = range(0, total_items, step)\n",
    "xticks_labels = df['Date'][::step]\n",
    "\n",
    "# Set the x-axis tick positions and labels\n",
    "plt.xticks(xticks_positions, xticks_labels)\n",
    "\n",
    "#Labels\n",
    "plt.xlabel('Date')\n",
    "plt.ylabel('# Injections')\n",
    "plt.title('Medford Injection Rate (2012-2018)')\n",
    "plt.show()"
   ]
  },
  {
   "cell_type": "code",
   "execution_count": null,
   "metadata": {},
   "outputs": [],
   "source": []
  },
  {
   "cell_type": "code",
   "execution_count": 56,
   "metadata": {},
   "outputs": [],
   "source": [
    "#Look at Counts of Earthquakes Medford over Time\n",
    "agg_df = earth_medford_df.groupby(['Year', 'Month']).agg({'Magnitude' : 'count'}).reset_index()\n",
    "agg_df['Date'] = agg_df['Month'].astype(str) + '-' + agg_df['Year'].astype(str)\n",
    "agg_df['Date'] = agg_df['Date'].astype(str)\n",
    "agg_df.to_excel('G:\\Proj1_SSCI575\\Proj1_SSCI575\\earth_agg.xlsx')"
   ]
  },
  {
   "cell_type": "code",
   "execution_count": 58,
   "metadata": {},
   "outputs": [],
   "source": [
    "#Same Viz as above^^"
   ]
  },
  {
   "cell_type": "markdown",
   "metadata": {},
   "source": [
    "## Space-Time Trend Analysis"
   ]
  },
  {
   "cell_type": "code",
   "execution_count": 6,
   "metadata": {},
   "outputs": [
    {
     "data": {
      "text/html": [
       "<div class='gpresult'><h2>Messages</h2><div id='messages' data-messages='[\"Start Time: Thursday, September 14, 2023 7:49:32 PM\",\"\",[{\"element\":\"table\",\"data\":[[\"Distance interval\",\"5766 meters\"],[\"Time step interval\",\"6 months\"],[\"\",\"\"],[\"Aggregation Shape Type\",\"Fishnet Grid\"],[\"\",\"\"],[\"First time step temporal bias\",\"37.50%\"],[{\"data\":\"First time step interval\",\"prop\":{\"rowspan\":4}},\"after\"],[{\"data\":\"2012-07-14 00:00:15\",\"prop\":{\"text-align\":\"right\"}}],[{\"data\":\"to on or before\",\"prop\":{\"text-align\":\"right\"}}],[{\"data\":\"2013-01-14 00:00:15\",\"prop\":{\"text-align\":\"right\"}}],[\"\",\"\"],[\"Last time step temporal bias\",\"0.00%\"],[{\"data\":\"Last time step interval\",\"prop\":{\"rowspan\":4}},\"after\"],[{\"data\":\"2018-01-14 00:00:15\",\"prop\":{\"text-align\":\"right\"}}],[{\"data\":\"to on or before\",\"prop\":{\"text-align\":\"right\"}}],[{\"data\":\"2018-07-14 00:00:15\",\"prop\":{\"text-align\":\"right\"}}],[\"\",\"\"],[\"Number of time steps\",\"12\"],[\"Number of locations analyzed\",\"416\"],[\"Number of space time bins analyzed\",\"4992\"],[\"% non-zero\",\"39.70%\"]],\"elementProps\":{\"striped\":\"true\",\"noHeader\":true,\"title\":\"Input Space Time Cube Details\",\"0\":{\"align\":\"left\",\"pad\":\"0px\",\"wrap\":true},\"1\":{\"align\":\"right\",\"pad\":\"0px\",\"wrap\":true}}}],[{\"element\":\"table\",\"data\":[[\"Neighborhood distance\",\"10 miles\"],[\"Neighborhood time step intervals\",\"1 (spanning 6 months)\"]],\"elementProps\":{\"striped\":\"true\",\"noHeader\":true,\"title\":\"Analysis Details\",\"0\":{\"align\":\"left\",\"pad\":\"0px\",\"wrap\":true},\"1\":{\"align\":\"right\",\"pad\":\"0px\",\"wrap\":true}}}],[{\"element\":\"table\",\"data\":[[\"\",\"HOT\",\"COLD\"],[\"New\",\"2\",\"0\"],[\"Consecutive\",\"34\",\"0\"],[\"Intensifying\",\"0\",\"0\"],[\"Persistent\",\"0\",\"0\"],[\"Diminishing\",\"0\",\"0\"],[\"Sporadic\",\"1\",\"0\"],[\"Oscillating\",\"0\",\"0\"],[\"Historical\",\"0\",\"0\"]],\"elementProps\":{\"striped\":\"true\",\"footnote\":[\"All locations with hot or cold spot trends: 37 of 416\"],\"title\":\"Summary of Results\",\"0\":{\"align\":\"left\",\"pad\":\"0px\",\"wrap\":true},\"1\":{\"align\":\"right\",\"pad\":\"0px\",\"wrap\":true},\"2\":{\"align\":\"right\",\"pad\":\"0px\",\"wrap\":true}}}],{\"element\":\"h5\",\"data\":\"Category Definitions\"},{\"element\":\"content\",\"data\":\"Last time step is hot:\"},{\"element\":\"unorderedlist\",\"data\":[\"New: the most recent time step interval is hot for the first time\",\"Consecutive: a single uninterrupted run of hot time step intervals, comprised of less than 90% of all intervals\",\"Intensifying: at least 90% of the time step intervals are hot, and becoming hotter over time\",\"Persistent: at least 90% of the time step intervals are hot, with no trend up or down\",\"Diminishing: at least 90% of the time step intervals are hot, and becoming less hot over time\",\"Sporadic: some of the time step intervals are hot\",\"Oscillating: some of the time step intervals are hot, some are cold\"]},{\"element\":\"content\",\"data\":\"Last time step is not hot:\"},{\"element\":\"unorderedlist\",\"data\":[\"Historical: at least 90% of the time step intervals are hot, but the most recent time step interval is not\"]},{\"element\":\"content\",\"data\":\"Last time step is cold:\"},{\"element\":\"unorderedlist\",\"data\":[\"New: the most recent time step interval is cold for the first time\",\"Consecutive: a single uninterrupted run of cold time step intervals, comprised of less than 90% of all\",\"Intensifying: at least 90% of the time step intervals are cold, and becoming colder over time\",\"Persistent: at least 90% of the time step intervals are cold, with no trend up or down\",\"Diminishing: at least 90% of the time step intervals are cold, and becoming less cold over time intervals\",\"Sporadic: some of the time step intervals are cold\",\"Oscillating: some of the time step intervals are cold, some are hot\"]},{\"element\":\"content\",\"data\":\"Last time step is not cold:\"},{\"element\":\"unorderedlist\",\"data\":[\"Historical: at least 90% of the time step intervals are cold, but the most recent time step interval is not\"]},\"\\n\\n\\n\\n\\n\\n\\n\\n\\n\",\"Succeeded at Thursday, September 14, 2023 7:49:36 PM (Elapsed Time: 4.86 seconds)\"]' data-show='true'><div id = 'default' /></div></div>"
      ],
      "text/plain": [
       "<Result 'G:\\\\Proj1_SSCI575\\\\Proj1_SSCI575\\\\hotspot_injection-volume_10mi.shp'>"
      ]
     },
     "execution_count": 6,
     "metadata": {},
     "output_type": "execute_result"
    }
   ],
   "source": [
    "#Well injections\n",
    "arcpy.stpm.EmergingHotSpotAnalysis('G:\\Proj1_SSCI575\\Proj1_SSCI575\\space_time_well-volume.nc', \n",
    "                                   'PRESSURE_SUM_ZEROS', 'hotspot_injection-volume_10mi.shp', \n",
    "                                  '10 Miles')"
   ]
  },
  {
   "cell_type": "code",
   "execution_count": 4,
   "metadata": {},
   "outputs": [
    {
     "data": {
      "text/html": [
       "<div class='gpresult'><h2>Messages</h2><div id='messages' data-messages='[\"Start Time: Thursday, September 14, 2023 7:45:04 PM\",\"\",[{\"element\":\"table\",\"data\":[[\"Distance interval\",\"5766 meters\"],[\"Time step interval\",\"6 months\"],[\"\",\"\"],[\"Aggregation Shape Type\",\"Fishnet Grid\"],[\"\",\"\"],[\"First time step temporal bias\",\"37.50%\"],[{\"data\":\"First time step interval\",\"prop\":{\"rowspan\":4}},\"after\"],[{\"data\":\"2012-07-14 00:00:15\",\"prop\":{\"text-align\":\"right\"}}],[{\"data\":\"to on or before\",\"prop\":{\"text-align\":\"right\"}}],[{\"data\":\"2013-01-14 00:00:15\",\"prop\":{\"text-align\":\"right\"}}],[\"\",\"\"],[\"Last time step temporal bias\",\"0.00%\"],[{\"data\":\"Last time step interval\",\"prop\":{\"rowspan\":4}},\"after\"],[{\"data\":\"2018-01-14 00:00:15\",\"prop\":{\"text-align\":\"right\"}}],[{\"data\":\"to on or before\",\"prop\":{\"text-align\":\"right\"}}],[{\"data\":\"2018-07-14 00:00:15\",\"prop\":{\"text-align\":\"right\"}}],[\"\",\"\"],[\"Number of time steps\",\"12\"],[\"Number of locations analyzed\",\"416\"],[\"Number of space time bins analyzed\",\"4992\"],[\"% non-zero\",\"39.70%\"]],\"elementProps\":{\"striped\":\"true\",\"noHeader\":true,\"title\":\"Input Space Time Cube Details\",\"0\":{\"align\":\"left\",\"pad\":\"0px\",\"wrap\":true},\"1\":{\"align\":\"right\",\"pad\":\"0px\",\"wrap\":true}}}],[{\"element\":\"table\",\"data\":[[\"Neighborhood distance\",\"5 miles\"],[\"Neighborhood time step intervals\",\"2 (spanning 12 months)\"]],\"elementProps\":{\"striped\":\"true\",\"noHeader\":true,\"title\":\"Analysis Details\",\"0\":{\"align\":\"left\",\"pad\":\"0px\",\"wrap\":true},\"1\":{\"align\":\"right\",\"pad\":\"0px\",\"wrap\":true}}}],[{\"element\":\"table\",\"data\":[[\"\",\"HOT\",\"COLD\"],[\"New\",\"1\",\"0\"],[\"Consecutive\",\"41\",\"0\"],[\"Intensifying\",\"0\",\"0\"],[\"Persistent\",\"0\",\"0\"],[\"Diminishing\",\"0\",\"0\"],[\"Sporadic\",\"0\",\"0\"],[\"Oscillating\",\"0\",\"0\"],[\"Historical\",\"0\",\"0\"]],\"elementProps\":{\"striped\":\"true\",\"footnote\":[\"All locations with hot or cold spot trends: 42 of 416\"],\"title\":\"Summary of Results\",\"0\":{\"align\":\"left\",\"pad\":\"0px\",\"wrap\":true},\"1\":{\"align\":\"right\",\"pad\":\"0px\",\"wrap\":true},\"2\":{\"align\":\"right\",\"pad\":\"0px\",\"wrap\":true}}}],{\"element\":\"h5\",\"data\":\"Category Definitions\"},{\"element\":\"content\",\"data\":\"Last time step is hot:\"},{\"element\":\"unorderedlist\",\"data\":[\"New: the most recent time step interval is hot for the first time\",\"Consecutive: a single uninterrupted run of hot time step intervals, comprised of less than 90% of all intervals\",\"Intensifying: at least 90% of the time step intervals are hot, and becoming hotter over time\",\"Persistent: at least 90% of the time step intervals are hot, with no trend up or down\",\"Diminishing: at least 90% of the time step intervals are hot, and becoming less hot over time\",\"Sporadic: some of the time step intervals are hot\",\"Oscillating: some of the time step intervals are hot, some are cold\"]},{\"element\":\"content\",\"data\":\"Last time step is not hot:\"},{\"element\":\"unorderedlist\",\"data\":[\"Historical: at least 90% of the time step intervals are hot, but the most recent time step interval is not\"]},{\"element\":\"content\",\"data\":\"Last time step is cold:\"},{\"element\":\"unorderedlist\",\"data\":[\"New: the most recent time step interval is cold for the first time\",\"Consecutive: a single uninterrupted run of cold time step intervals, comprised of less than 90% of all\",\"Intensifying: at least 90% of the time step intervals are cold, and becoming colder over time\",\"Persistent: at least 90% of the time step intervals are cold, with no trend up or down\",\"Diminishing: at least 90% of the time step intervals are cold, and becoming less cold over time intervals\",\"Sporadic: some of the time step intervals are cold\",\"Oscillating: some of the time step intervals are cold, some are hot\"]},{\"element\":\"content\",\"data\":\"Last time step is not cold:\"},{\"element\":\"unorderedlist\",\"data\":[\"Historical: at least 90% of the time step intervals are cold, but the most recent time step interval is not\"]},\"\\n\\n\\n\\n\\n\\n\\n\\n\\n\",\"Succeeded at Thursday, September 14, 2023 7:45:08 PM (Elapsed Time: 3.52 seconds)\"]' data-show='true'><div id = 'default' /></div></div>"
      ],
      "text/plain": [
       "<Result 'G:\\\\Proj1_SSCI575\\\\Proj1_SSCI575\\\\hotspot_injection-volume.shp'>"
      ]
     },
     "execution_count": 4,
     "metadata": {},
     "output_type": "execute_result"
    }
   ],
   "source": [
    "arcpy.stpm.EmergingHotSpotAnalysis('G:\\Proj1_SSCI575\\Proj1_SSCI575\\space_time_well-volume.nc', \n",
    "                                   'PRESSURE_SUM_ZEROS', 'hotspot_injection-volume.shp', \n",
    "                                  '5 Miles', 2)"
   ]
  },
  {
   "cell_type": "code",
   "execution_count": null,
   "metadata": {},
   "outputs": [],
   "source": [
    "arcpy.stpm.EmergingHotSpotAnalysis('G:\\Proj1_SSCI575\\Proj1_SSCI575\\space_time1.nc', \n",
    "                                   'EARTHQUAKE_SUM_ZEROS', 'hotspot_earthquakes_10mi.shp', \n",
    "                                  '10 Miles', 2)"
   ]
  },
  {
   "cell_type": "code",
   "execution_count": 3,
   "metadata": {},
   "outputs": [
    {
     "data": {
      "text/html": [
       "<div class='gpresult'><h2>Messages</h2><div id='messages' data-messages='[\"Start Time: Friday, September 15, 2023 12:04:46 AM\",\"\",[{\"element\":\"table\",\"data\":[[\"Distance interval\",\"5766 meters\"],[\"Time step interval\",\"6 months\"],[\"\",\"\"],[\"Aggregation Shape Type\",\"Fishnet Grid\"],[\"\",\"\"],[\"First time step temporal bias\",\"37.50%\"],[{\"data\":\"First time step interval\",\"prop\":{\"rowspan\":4}},\"after\"],[{\"data\":\"2012-07-14 00:00:15\",\"prop\":{\"text-align\":\"right\"}}],[{\"data\":\"to on or before\",\"prop\":{\"text-align\":\"right\"}}],[{\"data\":\"2013-01-14 00:00:15\",\"prop\":{\"text-align\":\"right\"}}],[\"\",\"\"],[\"Last time step temporal bias\",\"0.00%\"],[{\"data\":\"Last time step interval\",\"prop\":{\"rowspan\":4}},\"after\"],[{\"data\":\"2018-01-14 00:00:15\",\"prop\":{\"text-align\":\"right\"}}],[{\"data\":\"to on or before\",\"prop\":{\"text-align\":\"right\"}}],[{\"data\":\"2018-07-14 00:00:15\",\"prop\":{\"text-align\":\"right\"}}],[\"\",\"\"],[\"Number of time steps\",\"12\"],[\"Number of locations analyzed\",\"416\"],[\"Number of space time bins analyzed\",\"4992\"],[\"% non-zero\",\"56.15%\"]],\"elementProps\":{\"striped\":\"true\",\"noHeader\":true,\"title\":\"Input Space Time Cube Details\",\"0\":{\"align\":\"left\",\"pad\":\"0px\",\"wrap\":true},\"1\":{\"align\":\"right\",\"pad\":\"0px\",\"wrap\":true}}}],[{\"element\":\"table\",\"data\":[[\"Neighborhood distance\",\"5 miles\"],[\"Neighborhood time step intervals\",\"2 (spanning 12 months)\"]],\"elementProps\":{\"striped\":\"true\",\"noHeader\":true,\"title\":\"Analysis Details\",\"0\":{\"align\":\"left\",\"pad\":\"0px\",\"wrap\":true},\"1\":{\"align\":\"right\",\"pad\":\"0px\",\"wrap\":true}}}],[{\"element\":\"table\",\"data\":[[\"\",\"HOT\",\"COLD\"],[\"New\",\"0\",\"0\"],[\"Consecutive\",\"45\",\"0\"],[\"Intensifying\",\"0\",\"0\"],[\"Persistent\",\"0\",\"0\"],[\"Diminishing\",\"0\",\"0\"],[\"Sporadic\",\"0\",\"0\"],[\"Oscillating\",\"0\",\"0\"],[\"Historical\",\"0\",\"0\"]],\"elementProps\":{\"striped\":\"true\",\"footnote\":[\"All locations with hot or cold spot trends: 45 of 416\"],\"title\":\"Summary of Results\",\"0\":{\"align\":\"left\",\"pad\":\"0px\",\"wrap\":true},\"1\":{\"align\":\"right\",\"pad\":\"0px\",\"wrap\":true},\"2\":{\"align\":\"right\",\"pad\":\"0px\",\"wrap\":true}}}],{\"element\":\"h5\",\"data\":\"Category Definitions\"},{\"element\":\"content\",\"data\":\"Last time step is hot:\"},{\"element\":\"unorderedlist\",\"data\":[\"New: the most recent time step interval is hot for the first time\",\"Consecutive: a single uninterrupted run of hot time step intervals, comprised of less than 90% of all intervals\",\"Intensifying: at least 90% of the time step intervals are hot, and becoming hotter over time\",\"Persistent: at least 90% of the time step intervals are hot, with no trend up or down\",\"Diminishing: at least 90% of the time step intervals are hot, and becoming less hot over time\",\"Sporadic: some of the time step intervals are hot\",\"Oscillating: some of the time step intervals are hot, some are cold\"]},{\"element\":\"content\",\"data\":\"Last time step is not hot:\"},{\"element\":\"unorderedlist\",\"data\":[\"Historical: at least 90% of the time step intervals are hot, but the most recent time step interval is not\"]},{\"element\":\"content\",\"data\":\"Last time step is cold:\"},{\"element\":\"unorderedlist\",\"data\":[\"New: the most recent time step interval is cold for the first time\",\"Consecutive: a single uninterrupted run of cold time step intervals, comprised of less than 90% of all\",\"Intensifying: at least 90% of the time step intervals are cold, and becoming colder over time\",\"Persistent: at least 90% of the time step intervals are cold, with no trend up or down\",\"Diminishing: at least 90% of the time step intervals are cold, and becoming less cold over time intervals\",\"Sporadic: some of the time step intervals are cold\",\"Oscillating: some of the time step intervals are cold, some are hot\"]},{\"element\":\"content\",\"data\":\"Last time step is not cold:\"},{\"element\":\"unorderedlist\",\"data\":[\"Historical: at least 90% of the time step intervals are cold, but the most recent time step interval is not\"]},\"\\n\\n\\n\\n\\n\\n\\n\\n\\n\",\"Succeeded at Friday, September 15, 2023 12:04:49 AM (Elapsed Time: 3.31 seconds)\"]' data-show='true'><div id = 'default' /></div></div>"
      ],
      "text/plain": [
       "<Result 'G:\\\\Proj1_SSCI575\\\\Proj1_SSCI575\\\\bpd_10mi.shp'>"
      ]
     },
     "execution_count": 3,
     "metadata": {},
     "output_type": "execute_result"
    }
   ],
   "source": [
    "arcpy.stpm.EmergingHotSpotAnalysis('G:\\Proj1_SSCI575\\Proj1_SSCI575\\well_volume_bpd.nc', \n",
    "                                   'VOLUME_BPD_SUM_ZEROS', 'bpd_10mi.shp', \n",
    "                                  '5 Miles', 2)"
   ]
  },
  {
   "cell_type": "code",
   "execution_count": null,
   "metadata": {},
   "outputs": [],
   "source": []
  },
  {
   "cell_type": "markdown",
   "metadata": {},
   "source": [
    "## Merge All data for 2013 Census-Tract Level"
   ]
  },
  {
   "cell_type": "markdown",
   "metadata": {},
   "source": [
    "### `Census + Traffic`"
   ]
  },
  {
   "cell_type": "code",
   "execution_count": 3,
   "metadata": {},
   "outputs": [],
   "source": [
    "census_list, traffic_list = [],[]\n",
    "with arcpy.da.SearchCursor('census_traffic', ['NAMELSAD10', 'volume_2017']) as cursor:\n",
    "    for row in cursor:\n",
    "        census_list.append(row[0])\n",
    "        traffic_list.append(row[1])"
   ]
  },
  {
   "cell_type": "code",
   "execution_count": 4,
   "metadata": {},
   "outputs": [],
   "source": [
    "traffic_by_census_df = pd.DataFrame(data=list(zip(census_list,traffic_list)),columns=['Name','Traffic'])"
   ]
  },
  {
   "cell_type": "code",
   "execution_count": 5,
   "metadata": {},
   "outputs": [],
   "source": [
    "traffic_mean_df = traffic_by_census_df.groupby('Name').agg({'Traffic':'mean'}).reset_index()"
   ]
  },
  {
   "cell_type": "code",
   "execution_count": 6,
   "metadata": {},
   "outputs": [
    {
     "data": {
      "text/plain": [
       "3860.5806451612902"
      ]
     },
     "execution_count": 6,
     "metadata": {},
     "output_type": "execute_result"
    }
   ],
   "source": [
    "traffic_mean_df.query('Name == \"Census Tract 1\"')['Traffic'].values[0]"
   ]
  },
  {
   "cell_type": "code",
   "execution_count": 7,
   "metadata": {},
   "outputs": [
    {
     "data": {
      "text/html": [
       "<div class='gpresult'><h2>Messages</h2><div id='messages' data-messages='[\"Start Time: Saturday, September 16, 2023 6:03:59 PM\",\"Adding Avg_Traffic to census_tracts10_SpatialJoin123...\",\"Succeeded at Saturday, September 16, 2023 6:04:00 PM (Elapsed Time: 1.49 seconds)\"]' data-show='true'><div id = 'default' /></div></div>"
      ],
      "text/plain": [
       "<Result 'census_traffic'>"
      ]
     },
     "execution_count": 7,
     "metadata": {},
     "output_type": "execute_result"
    }
   ],
   "source": [
    "arcpy.AddField_management('census_traffic', 'Avg_Traffic', 'DOUBLE')"
   ]
  },
  {
   "cell_type": "code",
   "execution_count": 16,
   "metadata": {},
   "outputs": [],
   "source": [
    "cursor = arcpy.UpdateCursor('census_traffic', ['NAMELSAD10', 'Avg_Traffic'])\n",
    "for row in cursor:\n",
    "    name = row.getValue('NAMELSAD10')\n",
    "    row.setValue('Avg_Traffic', traffic_mean_df.query(f'Name == \"{name}\"')['Traffic'].values[0])\n",
    "    cursor.updateRow(row)"
   ]
  },
  {
   "cell_type": "code",
   "execution_count": 15,
   "metadata": {},
   "outputs": [
    {
     "data": {
      "text/html": [
       "<div>\n",
       "<style scoped>\n",
       "    .dataframe tbody tr th:only-of-type {\n",
       "        vertical-align: middle;\n",
       "    }\n",
       "\n",
       "    .dataframe tbody tr th {\n",
       "        vertical-align: top;\n",
       "    }\n",
       "\n",
       "    .dataframe thead th {\n",
       "        text-align: right;\n",
       "    }\n",
       "</style>\n",
       "<table border=\"1\" class=\"dataframe\">\n",
       "  <thead>\n",
       "    <tr style=\"text-align: right;\">\n",
       "      <th></th>\n",
       "      <th>Name</th>\n",
       "      <th>Traffic</th>\n",
       "    </tr>\n",
       "  </thead>\n",
       "  <tbody>\n",
       "    <tr>\n",
       "      <th>746</th>\n",
       "      <td>Census Tract 7799</td>\n",
       "      <td>1758.888889</td>\n",
       "    </tr>\n",
       "  </tbody>\n",
       "</table>\n",
       "</div>"
      ],
      "text/plain": [
       "                  Name      Traffic\n",
       "746  Census Tract 7799  1758.888889"
      ]
     },
     "execution_count": 15,
     "metadata": {},
     "output_type": "execute_result"
    }
   ],
   "source": [
    "traffic_mean_df.query('Name == \"Census Tract 7799\"')"
   ]
  },
  {
   "cell_type": "code",
   "execution_count": 19,
   "metadata": {},
   "outputs": [],
   "source": [
    "# arcpy.DeleteIdentical_management('census_traffic.shp', 'NAMELSAD10', \"KEEP_FIRST\") #Delete Duplicates"
   ]
  },
  {
   "cell_type": "markdown",
   "metadata": {},
   "source": [
    "### `Census + Traffic + Schools`"
   ]
  },
  {
   "cell_type": "code",
   "execution_count": 3,
   "metadata": {},
   "outputs": [],
   "source": [
    "census_list, schools_list = [],[]\n",
    "with arcpy.da.SearchCursor('census_traffic_schools', ['NAMELSAD10', 'schname']) as cursor:\n",
    "    for row in cursor:\n",
    "        census_list.append(row[0])\n",
    "        schools_list.append(row[1])"
   ]
  },
  {
   "cell_type": "code",
   "execution_count": 4,
   "metadata": {},
   "outputs": [],
   "source": [
    "schools_df = pd.DataFrame(data=list(zip(census_list,schools_list)),columns=['Name','Schools'])"
   ]
  },
  {
   "cell_type": "code",
   "execution_count": 5,
   "metadata": {},
   "outputs": [],
   "source": [
    "agg_df = schools_df.groupby('Name').agg({'Schools':'count'}).reset_index()"
   ]
  },
  {
   "cell_type": "code",
   "execution_count": 14,
   "metadata": {},
   "outputs": [
    {
     "data": {
      "text/html": [
       "<div class='gpresult'><h2>Messages</h2><div id='messages' data-messages='[\"Start Time: Saturday, September 16, 2023 6:33:05 PM\",\"Adding Num_Schools1 to census_traffic_schools...\",\"Succeeded at Saturday, September 16, 2023 6:33:07 PM (Elapsed Time: 1.73 seconds)\"]' data-show='true'><div id = 'default' /></div></div>"
      ],
      "text/plain": [
       "<Result 'census_traffic_schools'>"
      ]
     },
     "execution_count": 14,
     "metadata": {},
     "output_type": "execute_result"
    }
   ],
   "source": [
    "arcpy.AddField_management('census_traffic_schools', 'Num_Schools1', 'DOUBLE')"
   ]
  },
  {
   "cell_type": "code",
   "execution_count": 6,
   "metadata": {},
   "outputs": [],
   "source": [
    "dic = dict(zip(agg_df['Name'], agg_df['Schools']))"
   ]
  },
  {
   "cell_type": "code",
   "execution_count": 19,
   "metadata": {},
   "outputs": [],
   "source": [
    "cursor = arcpy.UpdateCursor('census_traffic_schools', ['NAMELSAD10', 'Num_Schools'])\n",
    "for row in cursor:\n",
    "    name = row.getValue('NAMELSAD10')\n",
    "    row.setValue('Num_Schools', dic[name])\n",
    "    cursor.updateRow(row)"
   ]
  },
  {
   "cell_type": "markdown",
   "metadata": {},
   "source": [
    "### `Census + Traffic + Schools + Earthquakes`"
   ]
  },
  {
   "cell_type": "code",
   "execution_count": 30,
   "metadata": {},
   "outputs": [],
   "source": [
    "census_list, mag_list = [],[] #Lists holding column data\n",
    "with arcpy.da.SearchCursor('census_traffic_schools_earthquakes', ['NAMELSAD10', 'mag']) as cursor:\n",
    "    for row in cursor:\n",
    "        census_list.append(row[0])\n",
    "        mag_list.append(row[1])"
   ]
  },
  {
   "cell_type": "code",
   "execution_count": 32,
   "metadata": {},
   "outputs": [],
   "source": [
    "mag_df = pd.DataFrame(data=list(zip(census_list,mag_list)),columns=['Name','Mag']) #initialize df"
   ]
  },
  {
   "cell_type": "code",
   "execution_count": 43,
   "metadata": {},
   "outputs": [],
   "source": [
    "agg_df = mag_df.groupby('Name').agg({'Mag':'mean'}).reset_index() #locate avg magnitude by census name"
   ]
  },
  {
   "cell_type": "code",
   "execution_count": 51,
   "metadata": {},
   "outputs": [
    {
     "data": {
      "text/html": [
       "<div class='gpresult'><h2>Messages</h2><div id='messages' data-messages='[\"Start Time: Saturday, September 16, 2023 6:55:11 PM\",\"Adding Avg_Mag to census_traffic_schools_earthquakes...\",\"Succeeded at Saturday, September 16, 2023 6:55:13 PM (Elapsed Time: 2.26 seconds)\"]' data-show='true'><div id = 'default' /></div></div>"
      ],
      "text/plain": [
       "<Result 'census_traffic_schools_earthquakes'>"
      ]
     },
     "execution_count": 51,
     "metadata": {},
     "output_type": "execute_result"
    }
   ],
   "source": [
    "arcpy.AddField_management('census_traffic_schools_earthquakes', 'Avg_Mag', 'DOUBLE') #add field to hashmap"
   ]
  },
  {
   "cell_type": "code",
   "execution_count": 50,
   "metadata": {},
   "outputs": [],
   "source": [
    "dic = dict(zip(agg_df['Name'], agg_df['Mag'])) #hashmap"
   ]
  },
  {
   "cell_type": "code",
   "execution_count": 52,
   "metadata": {},
   "outputs": [],
   "source": [
    "cursor = arcpy.UpdateCursor('census_traffic_schools_earthquakes', ['NAMELSAD10', 'Avg_Mag'])\n",
    "for row in cursor:\n",
    "    name = row.getValue('NAMELSAD10')\n",
    "    row.setValue('Avg_Mag', dic[name]) #fill values with avg magnitude respecting census name\n",
    "    cursor.updateRow(row)"
   ]
  },
  {
   "cell_type": "code",
   "execution_count": 5,
   "metadata": {},
   "outputs": [
    {
     "name": "stdout",
     "output_type": "stream",
     "text": [
      "New feature class OK_earthquakes_2013 created based on the query.\n"
     ]
    }
   ],
   "source": [
    "#Perform for 2013\n",
    "\n",
    "input_feature_class = \"OK_earthquakes\"  \n",
    "\n",
    "output_feature_class = \"OK_earthquakes_2013\"\n",
    "\n",
    "\n",
    "sql_expression = \"Year = 2013\"\n",
    "\n",
    "# Use the Select tool to create the new feature class based on the query\n",
    "\n",
    "\n",
    "print(f\"New feature class {output_feature_class} created based on the query.\")\n"
   ]
  },
  {
   "cell_type": "code",
   "execution_count": 29,
   "metadata": {},
   "outputs": [],
   "source": [
    "#aggregate\n",
    "census_list, mag_list = [],[]\n",
    "with arcpy.da.SearchCursor('census_traffic_schools_quakes_2013', ['NAMELSAD10', 'mag']) as cursor:\n",
    "    for row in cursor:\n",
    "        census_list.append(row[0])\n",
    "        mag_list.append(row[1])"
   ]
  },
  {
   "cell_type": "code",
   "execution_count": 30,
   "metadata": {},
   "outputs": [],
   "source": [
    "dic = dict(zip(census_list, mag_list))"
   ]
  },
  {
   "cell_type": "code",
   "execution_count": 31,
   "metadata": {},
   "outputs": [],
   "source": [
    "schools_df = pd.DataFrame(data=list(zip(census_list,mag_list)),columns=['Name','mag'])"
   ]
  },
  {
   "cell_type": "code",
   "execution_count": 32,
   "metadata": {},
   "outputs": [],
   "source": [
    "agg_df = schools_df.groupby('Name').agg({'mag':'mean'}).reset_index()"
   ]
  },
  {
   "cell_type": "code",
   "execution_count": 34,
   "metadata": {},
   "outputs": [],
   "source": [
    "dic = dict(zip(agg_df['Name'], agg_df['mag']))"
   ]
  },
  {
   "cell_type": "code",
   "execution_count": 35,
   "metadata": {},
   "outputs": [
    {
     "data": {
      "text/html": [
       "<div class='gpresult'><h2>Messages</h2><div id='messages' data-messages='[\"Start Time: Sunday, September 17, 2023 12:26:48 AM\",\"Adding Avg_Mag to census_traffic_schools_quakes_2013...\",\"Succeeded at Sunday, September 17, 2023 12:26:50 AM (Elapsed Time: 1.85 seconds)\"]' data-show='true'><div id = 'default' /></div></div>"
      ],
      "text/plain": [
       "<Result 'census_traffic_schools_quakes_2013'>"
      ]
     },
     "execution_count": 35,
     "metadata": {},
     "output_type": "execute_result"
    }
   ],
   "source": [
    "arcpy.AddField_management('census_traffic_schools_quakes_2013', 'Avg_Mag', 'DOUBLE')"
   ]
  },
  {
   "cell_type": "code",
   "execution_count": 36,
   "metadata": {},
   "outputs": [],
   "source": [
    "cursor = arcpy.UpdateCursor('census_traffic_schools_quakes_2013', ['NAMELSAD10', 'Avg_Mag'])\n",
    "for row in cursor:\n",
    "    name = row.getValue('NAMELSAD10')\n",
    "    row.setValue('Avg_Mag', dic[name])\n",
    "    cursor.updateRow(row)"
   ]
  },
  {
   "cell_type": "code",
   "execution_count": null,
   "metadata": {},
   "outputs": [],
   "source": [
    "#DROP DUPLICATES"
   ]
  },
  {
   "cell_type": "code",
   "execution_count": 39,
   "metadata": {},
   "outputs": [],
   "source": [
    "#Validates\n",
    "ls=[]\n",
    "with arcpy.da.SearchCursor('census_traffic_schools_quakes_2013', ['NAMELSAD10', 'Avg_Mag']) as cursor:\n",
    "    for row in cursor:\n",
    "        ls.append(row[1])"
   ]
  },
  {
   "cell_type": "code",
   "execution_count": 43,
   "metadata": {},
   "outputs": [
    {
     "data": {
      "text/plain": [
       "49"
      ]
     },
     "execution_count": 43,
     "metadata": {},
     "output_type": "execute_result"
    }
   ],
   "source": [
    "len([x for x in ls if x>=0]) #49 counties"
   ]
  },
  {
   "cell_type": "markdown",
   "metadata": {},
   "source": [
    "# Scale Index"
   ]
  },
  {
   "cell_type": "code",
   "execution_count": 10,
   "metadata": {},
   "outputs": [],
   "source": [
    "#Vectorize data to locate min+max\n",
    "pop_ls, traffic_ls, schools_ls, mag_ls = [], [], [], []\n",
    "with arcpy.da.SearchCursor('census_traffic_schools_quakes_2013', ['P0010001', 'Avg_Traffic', 'Num_Schools', 'Avg_Mag']) as cursor:\n",
    "    for row in cursor:\n",
    "        pop_ls.append(row[0])\n",
    "        traffic_ls.append(row[1])\n",
    "        schools_ls.append(row[2])\n",
    "        mag_ls.append(row[3])"
   ]
  },
  {
   "cell_type": "code",
   "execution_count": 12,
   "metadata": {},
   "outputs": [
    {
     "data": {
      "text/html": [
       "<div class='gpresult'><h2>Messages</h2><div id='messages' data-messages='[\"Start Time: Sunday, September 17, 2023 9:25:00 PM\",\"Adding Scaled_Avg_Mag to census_traffic_schools_quakes_2013...\",\"Succeeded at Sunday, September 17, 2023 9:25:02 PM (Elapsed Time: 1.44 seconds)\"]' data-show='true'><div id = 'default' /></div></div>"
      ],
      "text/plain": [
       "<Result 'census_traffic_schools_quakes_2013'>"
      ]
     },
     "execution_count": 12,
     "metadata": {},
     "output_type": "execute_result"
    }
   ],
   "source": [
    "#Add Normalized Fields\n",
    "arcpy.AddField_management('census_traffic_schools_quakes_2013', 'Scaled_Pop', 'DOUBLE')\n",
    "arcpy.AddField_management('census_traffic_schools_quakes_2013', 'Scaled_Schools', 'DOUBLE')\n",
    "arcpy.AddField_management('census_traffic_schools_quakes_2013', 'Scaled_Traffic', 'DOUBLE')\n",
    "arcpy.AddField_management('census_traffic_schools_quakes_2013', 'Scaled_Avg_Mag', 'DOUBLE')"
   ]
  },
  {
   "cell_type": "code",
   "execution_count": 22,
   "metadata": {},
   "outputs": [],
   "source": [
    "#Fill Columns with normalized values\n",
    "def normalize(data_list, value_field, scaled_field):\n",
    "    with arcpy.da.UpdateCursor('census_traffic_schools_quakes_2013', [value_field, scaled_field]) as cursor:\n",
    "        for row in cursor:\n",
    "            try:\n",
    "                row[1] = (row[0]-min([x for x in data_list if x>=0]))/max([x for x in data_list if x>=0])\n",
    "                cursor.updateRow(row)\n",
    "            except:\n",
    "                row[1] = 0\n",
    "                cursor.updateRow(row)\n",
    "\n",
    "                \n",
    "normalize(pop_ls, 'P0010001', 'Scaled_Pop')\n",
    "normalize(traffic_ls, 'Avg_Traffic', 'Scaled_Traffic')\n",
    "normalize(schools_ls, 'Num_Schools', 'Scaled_Schools')\n",
    "normalize(mag_ls, 'Avg_Mag', 'Scaled_Avg_Mag')"
   ]
  },
  {
   "cell_type": "markdown",
   "metadata": {},
   "source": [
    "# Risk Index Score"
   ]
  },
  {
   "cell_type": "code",
   "execution_count": 25,
   "metadata": {},
   "outputs": [
    {
     "data": {
      "text/html": [
       "<div class='gpresult'><h2>Messages</h2><div id='messages' data-messages='[\"Start Time: Sunday, September 17, 2023 9:47:45 PM\",\"Adding Risk_Score to census_traffic_schools_quakes_2013...\",\"Succeeded at Sunday, September 17, 2023 9:47:47 PM (Elapsed Time: 2.05 seconds)\"]' data-show='true'><div id = 'default' /></div></div>"
      ],
      "text/plain": [
       "<Result 'census_traffic_schools_quakes_2013'>"
      ]
     },
     "execution_count": 25,
     "metadata": {},
     "output_type": "execute_result"
    }
   ],
   "source": [
    "#Add Field for scoring\n",
    "arcpy.AddField_management('census_traffic_schools_quakes_2013', 'Risk_Score', 'DOUBLE')"
   ]
  },
  {
   "cell_type": "code",
   "execution_count": 26,
   "metadata": {},
   "outputs": [],
   "source": [
    "#Compute Score\n",
    "with arcpy.da.UpdateCursor('census_traffic_schools_quakes_2013', ['Risk_Score', 'Scaled_Pop', 'Scaled_Traffic', 'Scaled_Schools', \n",
    "                                                                 'Scaled_Avg_Mag']) as cursor:\n",
    "    for row in cursor:\n",
    "        row[0] = sum(row[1:])*.25 #Update Index (0-1)\n",
    "        cursor.updateRow(row)"
   ]
  },
  {
   "cell_type": "markdown",
   "metadata": {},
   "source": [
    "## Distribution Analysis"
   ]
  },
  {
   "cell_type": "code",
   "execution_count": 28,
   "metadata": {},
   "outputs": [],
   "source": [
    "#Magnitude\n",
    "mag_ls = []\n",
    "cursor = arcpy.SearchCursor('OK_earthquakes', ['mag']) \n",
    "for row in cursor:\n",
    "    mag_ls.append(row.getValue('mag'))\n",
    "\n",
    "df = pd.DataFrame(data=mag_ls, columns=['Magnitude'])\n",
    "df.to_excel('G:\\Agg_Mag.xlsx')"
   ]
  },
  {
   "cell_type": "code",
   "execution_count": 30,
   "metadata": {},
   "outputs": [],
   "source": [
    "vol_ls = []\n",
    "cursor = arcpy.UpdateCursor('OK_well_injection', ['Volume_BPD'])\n",
    "for row in cursor:\n",
    "    vol_ls.append(row.getValue('Volume_BPD'))\n",
    "df = pd.DataFrame(data=vol_ls, columns=['Volume_BPD'])\n",
    "df.to_excel('G:\\Agg_Well_volume.xlsx')"
   ]
  }
 ],
 "metadata": {
  "kernelspec": {
   "display_name": "ArcGISPro",
   "language": "Python",
   "name": "python3"
  },
  "language_info": {
   "file_extension": ".py",
   "name": "python",
   "version": "3"
  }
 },
 "nbformat": 4,
 "nbformat_minor": 2
}
