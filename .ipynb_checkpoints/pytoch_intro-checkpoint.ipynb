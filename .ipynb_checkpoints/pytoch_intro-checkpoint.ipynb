{
 "cells": [
  {
   "cell_type": "code",
   "execution_count": 1,
   "id": "d10f6430",
   "metadata": {},
   "outputs": [
    {
     "name": "stdout",
     "output_type": "stream",
     "text": [
      "Defaulting to user installation because normal site-packages is not writeable\n",
      "Collecting torch\n",
      "  Downloading torch-1.13.1-cp39-none-macosx_10_9_x86_64.whl (135.3 MB)\n",
      "\u001b[K     |████████████████████████████████| 135.3 MB 179 kB/s  eta 0:00:01\n",
      "\u001b[?25hCollecting torchvision\n",
      "  Downloading torchvision-0.14.1-cp39-cp39-macosx_10_9_x86_64.whl (1.4 MB)\n",
      "\u001b[K     |████████████████████████████████| 1.4 MB 19.8 MB/s eta 0:00:01\n",
      "\u001b[?25hRequirement already satisfied: typing-extensions in /Library/Frameworks/Python.framework/Versions/3.9/lib/python3.9/site-packages (from torch) (4.3.0)\n",
      "Requirement already satisfied: numpy in /Library/Frameworks/Python.framework/Versions/3.9/lib/python3.9/site-packages (from torchvision) (1.22.2)\n",
      "Requirement already satisfied: pillow!=8.3.*,>=5.3.0 in /Library/Frameworks/Python.framework/Versions/3.9/lib/python3.9/site-packages (from torchvision) (9.1.0)\n",
      "Requirement already satisfied: requests in /Library/Frameworks/Python.framework/Versions/3.9/lib/python3.9/site-packages (from torchvision) (2.28.0)\n",
      "Requirement already satisfied: charset-normalizer~=2.0.0 in /Library/Frameworks/Python.framework/Versions/3.9/lib/python3.9/site-packages (from requests->torchvision) (2.0.12)\n",
      "Requirement already satisfied: idna<4,>=2.5 in /Library/Frameworks/Python.framework/Versions/3.9/lib/python3.9/site-packages (from requests->torchvision) (3.3)\n",
      "Requirement already satisfied: urllib3<1.27,>=1.21.1 in /Library/Frameworks/Python.framework/Versions/3.9/lib/python3.9/site-packages (from requests->torchvision) (1.26.9)\n",
      "Requirement already satisfied: certifi>=2017.4.17 in /Users/sandeepk/Library/Python/3.9/lib/python/site-packages (from requests->torchvision) (2022.12.7)\n",
      "Installing collected packages: torch, torchvision\n",
      "\u001b[33m  WARNING: The scripts convert-caffe2-to-onnx, convert-onnx-to-caffe2 and torchrun are installed in '/Users/sandeepk/Library/Python/3.9/bin' which is not on PATH.\n",
      "  Consider adding this directory to PATH or, if you prefer to suppress this warning, use --no-warn-script-location.\u001b[0m\n",
      "Successfully installed torch-1.13.1 torchvision-0.14.1\n",
      "\u001b[33mWARNING: You are using pip version 21.1.3; however, version 23.0 is available.\n",
      "You should consider upgrading via the '/Library/Frameworks/Python.framework/Versions/3.9/bin/python3.9 -m pip install --upgrade pip' command.\u001b[0m\n"
     ]
    }
   ],
   "source": [
    "!pip3 install torch torchvision"
   ]
  },
  {
   "cell_type": "code",
   "execution_count": 2,
   "id": "86fab83f",
   "metadata": {},
   "outputs": [
    {
     "name": "stderr",
     "output_type": "stream",
     "text": [
      "/Library/Frameworks/Python.framework/Versions/3.9/lib/python3.9/site-packages/tqdm/auto.py:22: TqdmWarning: IProgress not found. Please update jupyter and ipywidgets. See https://ipywidgets.readthedocs.io/en/stable/user_install.html\n",
      "  from .autonotebook import tqdm as notebook_tqdm\n"
     ]
    }
   ],
   "source": [
    "import torch"
   ]
  },
  {
   "cell_type": "code",
   "execution_count": 3,
   "id": "ffc7c744",
   "metadata": {},
   "outputs": [
    {
     "data": {
      "text/plain": [
       "'1.13.1'"
      ]
     },
     "execution_count": 3,
     "metadata": {},
     "output_type": "execute_result"
    }
   ],
   "source": [
    "torch.__version__"
   ]
  },
  {
   "cell_type": "markdown",
   "id": "2e8f33b0",
   "metadata": {},
   "source": [
    "## Create Tensor"
   ]
  },
  {
   "cell_type": "code",
   "execution_count": 11,
   "id": "93247fc8",
   "metadata": {},
   "outputs": [
    {
     "data": {
      "text/plain": [
       "tensor(7)"
      ]
     },
     "execution_count": 11,
     "metadata": {},
     "output_type": "execute_result"
    }
   ],
   "source": [
    "scalar = torch.tensor(7)\n",
    "scalar"
   ]
  },
  {
   "cell_type": "code",
   "execution_count": 14,
   "id": "e29e997b",
   "metadata": {},
   "outputs": [
    {
     "data": {
      "text/plain": [
       "0"
      ]
     },
     "execution_count": 14,
     "metadata": {},
     "output_type": "execute_result"
    }
   ],
   "source": [
    "#attributes\n",
    "\n",
    "# number of dimensions\n",
    "scalar.ndim"
   ]
  },
  {
   "cell_type": "code",
   "execution_count": 15,
   "id": "dd930f18",
   "metadata": {},
   "outputs": [
    {
     "data": {
      "text/plain": [
       "7"
      ]
     },
     "execution_count": 15,
     "metadata": {},
     "output_type": "execute_result"
    }
   ],
   "source": [
    "#return as integer\n",
    "scalar.item()"
   ]
  },
  {
   "cell_type": "markdown",
   "id": "67f7b4fb",
   "metadata": {},
   "source": [
    "### Vector"
   ]
  },
  {
   "cell_type": "code",
   "execution_count": 16,
   "id": "d04722ef",
   "metadata": {},
   "outputs": [
    {
     "data": {
      "text/plain": [
       "tensor([7, 3])"
      ]
     },
     "execution_count": 16,
     "metadata": {},
     "output_type": "execute_result"
    }
   ],
   "source": [
    "vector = torch.tensor([7,3])\n",
    "vector"
   ]
  },
  {
   "cell_type": "code",
   "execution_count": 19,
   "id": "64a75c98",
   "metadata": {},
   "outputs": [
    {
     "name": "stdout",
     "output_type": "stream",
     "text": [
      "1\n",
      "torch.Size([2])\n"
     ]
    }
   ],
   "source": [
    "#vector dimensions\n",
    "print(vector.ndim)\n",
    "print(vector.shape)"
   ]
  },
  {
   "cell_type": "markdown",
   "id": "fe668841",
   "metadata": {},
   "source": [
    "### MATRIX"
   ]
  },
  {
   "cell_type": "code",
   "execution_count": 27,
   "id": "53669d84",
   "metadata": {},
   "outputs": [
    {
     "data": {
      "text/plain": [
       "tensor([[ 7,  8],\n",
       "        [ 9, 10]])"
      ]
     },
     "execution_count": 27,
     "metadata": {},
     "output_type": "execute_result"
    }
   ],
   "source": [
    "MATRIX = torch.tensor([[7,8],\n",
    "                       [9,10]])\n",
    "MATRIX"
   ]
  },
  {
   "cell_type": "code",
   "execution_count": 28,
   "id": "8b3aab08",
   "metadata": {},
   "outputs": [
    {
     "name": "stdout",
     "output_type": "stream",
     "text": [
      "2\n",
      "torch.Size([2, 2])\n"
     ]
    }
   ],
   "source": [
    "print(MATRIX.ndim)\n",
    "print(MATRIX.shape)"
   ]
  },
  {
   "cell_type": "code",
   "execution_count": 34,
   "id": "ea5959c7",
   "metadata": {},
   "outputs": [
    {
     "data": {
      "text/plain": [
       "15"
      ]
     },
     "execution_count": 34,
     "metadata": {},
     "output_type": "execute_result"
    }
   ],
   "source": [
    "#average of first list in matrix\n",
    "sum(MATRIX[0][:]).item()"
   ]
  },
  {
   "cell_type": "code",
   "execution_count": 43,
   "id": "b4cab3ef",
   "metadata": {},
   "outputs": [
    {
     "data": {
      "text/plain": [
       "tensor([[[1, 1, 1],\n",
       "         [2, 2, 2],\n",
       "         [3, 3, 3]]])"
      ]
     },
     "execution_count": 43,
     "metadata": {},
     "output_type": "execute_result"
    }
   ],
   "source": [
    "TENSOR = torch.tensor([[[1,1,1],\n",
    "                       [2,2,2],\n",
    "                       [3,3,3]]])\n",
    "TENSOR"
   ]
  },
  {
   "cell_type": "code",
   "execution_count": 44,
   "id": "06623259",
   "metadata": {},
   "outputs": [
    {
     "name": "stdout",
     "output_type": "stream",
     "text": [
      "3\n",
      "torch.Size([1, 3, 3])\n"
     ]
    }
   ],
   "source": [
    "print(TENSOR.ndim)\n",
    "print(TENSOR.shape)"
   ]
  },
  {
   "cell_type": "code",
   "execution_count": 40,
   "id": "abb5b2c6",
   "metadata": {},
   "outputs": [
    {
     "data": {
      "text/plain": [
       "tensor([[1, 1, 1],\n",
       "        [2, 2, 2],\n",
       "        [3, 3, 3]])"
      ]
     },
     "execution_count": 40,
     "metadata": {},
     "output_type": "execute_result"
    }
   ],
   "source": [
    "#TAKES AN INDEX TO VIEW THE WHOLE TENSOR THATS WHY SIZE STARTS WITH 1^^^\n",
    "# ' 1 - TENSOR'\n",
    "TENSOR[0]"
   ]
  },
  {
   "cell_type": "code",
   "execution_count": 45,
   "id": "0300c4b8",
   "metadata": {},
   "outputs": [
    {
     "data": {
      "text/plain": [
       "tensor([[[[1, 1, 1],\n",
       "          [2, 2, 2],\n",
       "          [3, 3, 3]]]])"
      ]
     },
     "execution_count": 45,
     "metadata": {},
     "output_type": "execute_result"
    }
   ],
   "source": [
    "TENSOR = torch.tensor([[[[1,1,1],\n",
    "                       [2,2,2],\n",
    "                       [3,3,3]]]])\n",
    "TENSOR"
   ]
  },
  {
   "cell_type": "code",
   "execution_count": 50,
   "id": "21338d5d",
   "metadata": {},
   "outputs": [
    {
     "name": "stdout",
     "output_type": "stream",
     "text": [
      "4\n",
      "torch.Size([1, 1, 3, 3])\n",
      "tensor([[1, 1, 1],\n",
      "        [2, 2, 2],\n",
      "        [3, 3, 3]])\n",
      "tensor([1, 1, 1])\n"
     ]
    }
   ],
   "source": [
    "print(TENSOR.ndim)\n",
    "print(TENSOR.shape)\n",
    "print(TENSOR[0][0])\n",
    "print(TENSOR[0][0][0])"
   ]
  },
  {
   "cell_type": "markdown",
   "id": "f11e310a",
   "metadata": {},
   "source": [
    "## Random Tensors\n",
    "- look at random numbers, update data (random numbers), neural networks learn from random numbers"
   ]
  },
  {
   "cell_type": "code",
   "execution_count": 54,
   "id": "25c7332e",
   "metadata": {},
   "outputs": [
    {
     "data": {
      "text/plain": [
       "tensor([[0.7112, 0.1457, 0.2331, 0.3806],\n",
       "        [0.3056, 0.2860, 0.6279, 0.0920],\n",
       "        [0.5211, 0.6722, 0.8943, 0.9543]])"
      ]
     },
     "execution_count": 54,
     "metadata": {},
     "output_type": "execute_result"
    }
   ],
   "source": [
    "#Create a random tensor with size/shape of (3,4)\n",
    "random_tensor = torch.rand(3,4)\n",
    "random_tensor"
   ]
  },
  {
   "cell_type": "code",
   "execution_count": 55,
   "id": "41eae083",
   "metadata": {},
   "outputs": [
    {
     "data": {
      "text/plain": [
       "torch.Size([3, 4])"
      ]
     },
     "execution_count": 55,
     "metadata": {},
     "output_type": "execute_result"
    }
   ],
   "source": [
    "random_tensor.shape"
   ]
  },
  {
   "cell_type": "code",
   "execution_count": 56,
   "id": "e4199d4e",
   "metadata": {},
   "outputs": [
    {
     "data": {
      "text/plain": [
       "2"
      ]
     },
     "execution_count": 56,
     "metadata": {},
     "output_type": "execute_result"
    }
   ],
   "source": [
    "#count beginning and end square brackets\n",
    "random_tensor.ndim"
   ]
  },
  {
   "cell_type": "code",
   "execution_count": 70,
   "id": "f9158a88",
   "metadata": {},
   "outputs": [],
   "source": [
    "#10 tensors that are 10 in length and size\n",
    "random_tensor = torch.rand(10, 10, 10)\n",
    "#call the last tensor"
   ]
  },
  {
   "cell_type": "code",
   "execution_count": 72,
   "id": "a498e13e",
   "metadata": {},
   "outputs": [
    {
     "data": {
      "text/plain": [
       "tensor([[0.6177, 0.9149, 0.4811, 0.5153, 0.8384, 0.1183, 0.2541, 0.1750, 0.3442,\n",
       "         0.1353],\n",
       "        [0.2701, 0.2587, 0.6503, 0.0344, 0.9423, 0.6831, 0.9914, 0.0150, 0.5842,\n",
       "         0.9072],\n",
       "        [0.9723, 0.7309, 0.0230, 0.7874, 0.8400, 0.0217, 0.2302, 0.6795, 0.6009,\n",
       "         0.0731],\n",
       "        [0.3903, 0.1355, 0.7776, 0.6898, 0.6457, 0.7763, 0.8934, 0.7119, 0.5815,\n",
       "         0.0295],\n",
       "        [0.2215, 0.8186, 0.0209, 0.1406, 0.3350, 0.1690, 0.9836, 0.1585, 0.3734,\n",
       "         0.6816],\n",
       "        [0.5228, 0.9730, 0.9789, 0.2570, 0.2802, 0.4582, 0.2536, 0.4940, 0.9507,\n",
       "         0.8210],\n",
       "        [0.1844, 0.6656, 0.7529, 0.9746, 0.7919, 0.0402, 0.8280, 0.4841, 0.1548,\n",
       "         0.7597],\n",
       "        [0.4991, 0.3059, 0.6578, 0.1999, 0.2603, 0.9349, 0.7808, 0.0583, 0.7542,\n",
       "         0.1923],\n",
       "        [0.0178, 0.8046, 0.3301, 0.5390, 0.0951, 0.6028, 0.5479, 0.4603, 0.0625,\n",
       "         0.6405],\n",
       "        [0.5211, 0.6198, 0.5744, 0.7197, 0.8619, 0.2897, 0.5301, 0.1403, 0.6710,\n",
       "         0.6084]])"
      ]
     },
     "execution_count": 72,
     "metadata": {},
     "output_type": "execute_result"
    }
   ],
   "source": [
    "random_tensor[-1]"
   ]
  },
  {
   "cell_type": "markdown",
   "id": "5068f340",
   "metadata": {},
   "source": [
    "## BASIC MATRIX ALGEBRA"
   ]
  },
  {
   "cell_type": "code",
   "execution_count": 74,
   "id": "e7a149b5",
   "metadata": {},
   "outputs": [],
   "source": [
    "random_tensor = torch.rand(3,4)\n",
    "#TENSOR MATRIX WITH ALL ZEROS  -------- same dimension\n",
    "zero_tensor = torch.zeros(size=(3,4))"
   ]
  },
  {
   "cell_type": "code",
   "execution_count": 75,
   "id": "0b86b8b1",
   "metadata": {},
   "outputs": [
    {
     "data": {
      "text/plain": [
       "tensor([[0.7941, 0.8503, 0.8182, 0.7657],\n",
       "        [0.8859, 0.5206, 0.4524, 0.3659],\n",
       "        [0.6105, 0.3881, 0.7630, 0.3128]])"
      ]
     },
     "execution_count": 75,
     "metadata": {},
     "output_type": "execute_result"
    }
   ],
   "source": [
    "random_tensor + zero_tensor"
   ]
  },
  {
   "cell_type": "code",
   "execution_count": 79,
   "id": "dcda0d53",
   "metadata": {},
   "outputs": [
    {
     "name": "stdout",
     "output_type": "stream",
     "text": [
      "tensor([[1.7941, 1.8503, 1.8182, 1.7657],\n",
      "        [1.8859, 1.5206, 1.4524, 1.3659],\n",
      "        [1.6105, 1.3881, 1.7630, 1.3128]])\n"
     ]
    },
    {
     "data": {
      "text/plain": [
       "torch.float32"
      ]
     },
     "execution_count": 79,
     "metadata": {},
     "output_type": "execute_result"
    }
   ],
   "source": [
    "ones_tensor = torch.ones(size=(3,4))\n",
    "print(random_tensor + ones_tensor)\n",
    "\n",
    "#data TYPE\n",
    "ones_tensor.dtype"
   ]
  },
  {
   "cell_type": "markdown",
   "id": "7b86993e",
   "metadata": {},
   "source": [
    "## Create a range"
   ]
  },
  {
   "cell_type": "code",
   "execution_count": 84,
   "id": "15c8b362",
   "metadata": {},
   "outputs": [
    {
     "data": {
      "text/plain": [
       "tensor([0, 1, 2, 3, 4, 5, 6, 7, 8, 9])"
      ]
     },
     "execution_count": 84,
     "metadata": {},
     "output_type": "execute_result"
    }
   ],
   "source": [
    "#range of numbers 0-9\n",
    "one_nine = torch.arange(0,10)\n",
    "one_nine"
   ]
  },
  {
   "cell_type": "code",
   "execution_count": 85,
   "id": "163a635d",
   "metadata": {},
   "outputs": [
    {
     "data": {
      "text/plain": [
       "tensor([1, 3, 5, 7, 9])"
      ]
     },
     "execution_count": 85,
     "metadata": {},
     "output_type": "execute_result"
    }
   ],
   "source": [
    "#range of numbers 1-11 step by 2\n",
    "one_eleven = torch.arange(1,11,2)\n",
    "one_eleven"
   ]
  },
  {
   "cell_type": "code",
   "execution_count": 89,
   "id": "0b0890e5",
   "metadata": {},
   "outputs": [
    {
     "name": "stdout",
     "output_type": "stream",
     "text": [
      "1\n",
      "torch.Size([10])\n"
     ]
    }
   ],
   "source": [
    "#CREATE ALIKE TENSOR\n",
    "print(one_nine.ndim)\n",
    "print(one_nine.shape)"
   ]
  },
  {
   "cell_type": "code",
   "execution_count": 94,
   "id": "eb03ea53",
   "metadata": {},
   "outputs": [
    {
     "data": {
      "text/plain": [
       "tensor([0, 0, 0, 0, 0, 0, 0, 0, 0, 0])"
      ]
     },
     "execution_count": 94,
     "metadata": {},
     "output_type": "execute_result"
    }
   ],
   "source": [
    "zeros = torch.zeros_like(input=one_nine)\n",
    "zeros"
   ]
  },
  {
   "cell_type": "code",
   "execution_count": 95,
   "id": "4908bc15",
   "metadata": {},
   "outputs": [
    {
     "data": {
      "text/plain": [
       "tensor([1, 1, 1, 1, 1, 1, 1, 1, 1, 1])"
      ]
     },
     "execution_count": 95,
     "metadata": {},
     "output_type": "execute_result"
    }
   ],
   "source": [
    "ones = torch.ones_like(input=one_nine)\n",
    "ones"
   ]
  },
  {
   "cell_type": "markdown",
   "id": "0e882f25",
   "metadata": {},
   "source": [
    "## CONVERT TENSOR DATA TYPE"
   ]
  },
  {
   "cell_type": "code",
   "execution_count": 101,
   "id": "c1fc29c5",
   "metadata": {},
   "outputs": [
    {
     "data": {
      "text/plain": [
       "tensor([[0, 1, 1],\n",
       "        [1, 2, 2]])"
      ]
     },
     "execution_count": 101,
     "metadata": {},
     "output_type": "execute_result"
    }
   ],
   "source": [
    "MATRIX = torch.tensor([[0,1,1],\n",
    "                      [1,2,2]],\n",
    "                     dtype=None,\n",
    "                     device=None)\n",
    "MATRIX"
   ]
  },
  {
   "cell_type": "code",
   "execution_count": 103,
   "id": "1e41ae59",
   "metadata": {},
   "outputs": [
    {
     "data": {
      "text/plain": [
       "torch.int64"
      ]
     },
     "execution_count": 103,
     "metadata": {},
     "output_type": "execute_result"
    }
   ],
   "source": [
    "MATRIX.dtype"
   ]
  },
  {
   "cell_type": "code",
   "execution_count": 105,
   "id": "e44329a8",
   "metadata": {},
   "outputs": [
    {
     "data": {
      "text/plain": [
       "tensor([[0., 1., 1.],\n",
       "        [1., 2., 2.]], dtype=torch.float16)"
      ]
     },
     "execution_count": 105,
     "metadata": {},
     "output_type": "execute_result"
    }
   ],
   "source": [
    "#CHANGE TO FLOAT 16 bit\n",
    "float_16_tensor = MATRIX.type(torch.float16)\n",
    "float_16_tensor"
   ]
  },
  {
   "cell_type": "code",
   "execution_count": 106,
   "id": "efc27cee",
   "metadata": {},
   "outputs": [
    {
     "data": {
      "text/plain": [
       "tensor([[0., 2., 2.],\n",
       "        [2., 4., 4.]], dtype=torch.float16)"
      ]
     },
     "execution_count": 106,
     "metadata": {},
     "output_type": "execute_result"
    }
   ],
   "source": [
    "float_16_tensor + MATRIX"
   ]
  },
  {
   "cell_type": "markdown",
   "id": "bd1341ba",
   "metadata": {},
   "source": [
    "## Information from Tensors"
   ]
  },
  {
   "cell_type": "code",
   "execution_count": 108,
   "id": "00d4042b",
   "metadata": {},
   "outputs": [
    {
     "data": {
      "text/plain": [
       "tensor([[0.4035, 0.5063, 0.8787, 0.2229],\n",
       "        [0.2533, 0.3668, 0.5613, 0.8926],\n",
       "        [0.4276, 0.7654, 0.8034, 0.6426]])"
      ]
     },
     "execution_count": 108,
     "metadata": {},
     "output_type": "execute_result"
    }
   ],
   "source": [
    "#create tensor\n",
    "some_tensor = torch.rand(3,4)\n",
    "some_tensor"
   ]
  },
  {
   "cell_type": "code",
   "execution_count": 110,
   "id": "e33b490d",
   "metadata": {},
   "outputs": [
    {
     "name": "stdout",
     "output_type": "stream",
     "text": [
      "2\n",
      "torch.Size([3, 4])\n"
     ]
    },
    {
     "data": {
      "text/plain": [
       "device(type='cpu')"
      ]
     },
     "execution_count": 110,
     "metadata": {},
     "output_type": "execute_result"
    }
   ],
   "source": [
    "print(some_tensor.ndim)\n",
    "print(some_tensor.shape)\n",
    "#device tensor is on\n",
    "some_tensor.device"
   ]
  },
  {
   "cell_type": "markdown",
   "id": "41e293de",
   "metadata": {},
   "source": [
    "## Manipulating tensors"
   ]
  },
  {
   "cell_type": "code",
   "execution_count": 115,
   "id": "9c6adc1b",
   "metadata": {},
   "outputs": [
    {
     "data": {
      "text/plain": [
       "tensor([11, 12, 13])"
      ]
     },
     "execution_count": 115,
     "metadata": {},
     "output_type": "execute_result"
    }
   ],
   "source": [
    "#addition of each element\n",
    "tensor = torch.tensor([1,2,3])\n",
    "tensor+10"
   ]
  },
  {
   "cell_type": "code",
   "execution_count": 116,
   "id": "08ee7c7a",
   "metadata": {},
   "outputs": [
    {
     "data": {
      "text/plain": [
       "tensor([-9, -8, -7])"
      ]
     },
     "execution_count": 116,
     "metadata": {},
     "output_type": "execute_result"
    }
   ],
   "source": [
    "#subtraction of each element\n",
    "tensor-10"
   ]
  },
  {
   "cell_type": "code",
   "execution_count": 117,
   "id": "2e3f5b8b",
   "metadata": {},
   "outputs": [
    {
     "data": {
      "text/plain": [
       "tensor([10, 20, 30])"
      ]
     },
     "execution_count": 117,
     "metadata": {},
     "output_type": "execute_result"
    }
   ],
   "source": [
    "#Multiplication of each element\n",
    "tensor*10"
   ]
  },
  {
   "cell_type": "code",
   "execution_count": 119,
   "id": "59627acf",
   "metadata": {},
   "outputs": [
    {
     "data": {
      "text/plain": [
       "tensor([0.1000, 0.2000, 0.3000])"
      ]
     },
     "execution_count": 119,
     "metadata": {},
     "output_type": "execute_result"
    }
   ],
   "source": [
    "#division of each element\n",
    "tensor/10"
   ]
  },
  {
   "cell_type": "code",
   "execution_count": 120,
   "id": "b66da9fc",
   "metadata": {},
   "outputs": [
    {
     "data": {
      "text/plain": [
       "tensor([1, 0, 1])"
      ]
     },
     "execution_count": 120,
     "metadata": {},
     "output_type": "execute_result"
    }
   ],
   "source": [
    "#view modulo/remainder\n",
    "tensor%2"
   ]
  },
  {
   "cell_type": "code",
   "execution_count": 122,
   "id": "16bd143c",
   "metadata": {},
   "outputs": [
    {
     "data": {
      "text/plain": [
       "tensor([0, 1, 1])"
      ]
     },
     "execution_count": 122,
     "metadata": {},
     "output_type": "execute_result"
    }
   ],
   "source": [
    "#floor division\n",
    "tensor//2"
   ]
  },
  {
   "cell_type": "markdown",
   "id": "7e3be27a",
   "metadata": {},
   "source": [
    "## MANIPULATION OF TWO TENSORS"
   ]
  },
  {
   "cell_type": "code",
   "execution_count": 124,
   "id": "7a88a145",
   "metadata": {},
   "outputs": [
    {
     "name": "stdout",
     "output_type": "stream",
     "text": [
      "2\n",
      "torch.Size([2, 3])\n"
     ]
    }
   ],
   "source": [
    "tensor = torch.tensor([[1,2,3],\n",
    "                       [10,20,30]])\n",
    "\n",
    "print(tensor.ndim)\n",
    "print(tensor.shape)"
   ]
  },
  {
   "cell_type": "code",
   "execution_count": 128,
   "id": "241051b3",
   "metadata": {},
   "outputs": [
    {
     "data": {
      "text/plain": [
       "tensor([[0.6856, 0.5066, 0.8068],\n",
       "        [0.4065, 0.1969, 0.7626]])"
      ]
     },
     "execution_count": 128,
     "metadata": {},
     "output_type": "execute_result"
    }
   ],
   "source": [
    "other_tensor = torch.rand(2,3)\n",
    "other_tensor"
   ]
  },
  {
   "cell_type": "code",
   "execution_count": 129,
   "id": "7b91b234",
   "metadata": {},
   "outputs": [
    {
     "data": {
      "text/plain": [
       "tensor([[ 1.6856,  2.5066,  3.8068],\n",
       "        [10.4065, 20.1969, 30.7626]])"
      ]
     },
     "execution_count": 129,
     "metadata": {},
     "output_type": "execute_result"
    }
   ],
   "source": [
    "tensor + other_tensor"
   ]
  },
  {
   "cell_type": "code",
   "execution_count": null,
   "id": "79e7567b",
   "metadata": {},
   "outputs": [],
   "source": [
    "#elements count in tensors in tensors"
   ]
  }
 ],
 "metadata": {
  "kernelspec": {
   "display_name": "Python 3 (ipykernel)",
   "language": "python",
   "name": "python3"
  },
  "language_info": {
   "codemirror_mode": {
    "name": "ipython",
    "version": 3
   },
   "file_extension": ".py",
   "mimetype": "text/x-python",
   "name": "python",
   "nbconvert_exporter": "python",
   "pygments_lexer": "ipython3",
   "version": "3.9.6"
  }
 },
 "nbformat": 4,
 "nbformat_minor": 5
}
