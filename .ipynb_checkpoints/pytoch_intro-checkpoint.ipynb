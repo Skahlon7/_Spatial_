{
 "cells": [
  {
   "cell_type": "code",
   "execution_count": 2,
   "id": "d10f6430",
   "metadata": {},
   "outputs": [
    {
     "name": "stdout",
     "output_type": "stream",
     "text": [
      "Defaulting to user installation because normal site-packages is not writeable\n",
      "Requirement already satisfied: torch in /Users/sandeepk/Library/Python/3.9/lib/python/site-packages (1.13.1)\n",
      "Requirement already satisfied: torchvision in /Users/sandeepk/Library/Python/3.9/lib/python/site-packages (0.14.1)\n",
      "Requirement already satisfied: typing-extensions in /Library/Frameworks/Python.framework/Versions/3.9/lib/python3.9/site-packages (from torch) (4.3.0)\n",
      "Requirement already satisfied: numpy in /Library/Frameworks/Python.framework/Versions/3.9/lib/python3.9/site-packages (from torchvision) (1.22.2)\n",
      "Requirement already satisfied: pillow!=8.3.*,>=5.3.0 in /Library/Frameworks/Python.framework/Versions/3.9/lib/python3.9/site-packages (from torchvision) (9.1.0)\n",
      "Requirement already satisfied: requests in /Library/Frameworks/Python.framework/Versions/3.9/lib/python3.9/site-packages (from torchvision) (2.28.0)\n",
      "Requirement already satisfied: urllib3<1.27,>=1.21.1 in /Library/Frameworks/Python.framework/Versions/3.9/lib/python3.9/site-packages (from requests->torchvision) (1.26.9)\n",
      "Requirement already satisfied: idna<4,>=2.5 in /Library/Frameworks/Python.framework/Versions/3.9/lib/python3.9/site-packages (from requests->torchvision) (3.3)\n",
      "Requirement already satisfied: certifi>=2017.4.17 in /Users/sandeepk/Library/Python/3.9/lib/python/site-packages (from requests->torchvision) (2022.12.7)\n",
      "Requirement already satisfied: charset-normalizer~=2.0.0 in /Library/Frameworks/Python.framework/Versions/3.9/lib/python3.9/site-packages (from requests->torchvision) (2.0.12)\n",
      "\u001b[33mWARNING: You are using pip version 21.1.3; however, version 23.0.1 is available.\n",
      "You should consider upgrading via the '/Library/Frameworks/Python.framework/Versions/3.9/bin/python3.9 -m pip install --upgrade pip' command.\u001b[0m\n"
     ]
    }
   ],
   "source": [
    "!pip3 install torch torchvision"
   ]
  },
  {
   "cell_type": "code",
   "execution_count": 3,
   "id": "86fab83f",
   "metadata": {},
   "outputs": [
    {
     "name": "stderr",
     "output_type": "stream",
     "text": [
      "/Library/Frameworks/Python.framework/Versions/3.9/lib/python3.9/site-packages/tqdm/auto.py:22: TqdmWarning: IProgress not found. Please update jupyter and ipywidgets. See https://ipywidgets.readthedocs.io/en/stable/user_install.html\n",
      "  from .autonotebook import tqdm as notebook_tqdm\n"
     ]
    }
   ],
   "source": [
    "import torch"
   ]
  },
  {
   "cell_type": "code",
   "execution_count": 2,
   "id": "ffc7c744",
   "metadata": {},
   "outputs": [
    {
     "data": {
      "text/plain": [
       "'1.13.1'"
      ]
     },
     "execution_count": 2,
     "metadata": {},
     "output_type": "execute_result"
    }
   ],
   "source": [
    "torch.__version__"
   ]
  },
  {
   "cell_type": "markdown",
   "id": "2e8f33b0",
   "metadata": {},
   "source": [
    "## Create Tensor"
   ]
  },
  {
   "cell_type": "code",
   "execution_count": 4,
   "id": "93247fc8",
   "metadata": {},
   "outputs": [
    {
     "data": {
      "text/plain": [
       "tensor(7)"
      ]
     },
     "execution_count": 4,
     "metadata": {},
     "output_type": "execute_result"
    }
   ],
   "source": [
    "scalar = torch.tensor(7)\n",
    "scalar"
   ]
  },
  {
   "cell_type": "code",
   "execution_count": 14,
   "id": "e29e997b",
   "metadata": {},
   "outputs": [
    {
     "data": {
      "text/plain": [
       "0"
      ]
     },
     "execution_count": 14,
     "metadata": {},
     "output_type": "execute_result"
    }
   ],
   "source": [
    "#attributes\n",
    "\n",
    "# number of dimensions\n",
    "scalar.ndim"
   ]
  },
  {
   "cell_type": "code",
   "execution_count": 15,
   "id": "dd930f18",
   "metadata": {},
   "outputs": [
    {
     "data": {
      "text/plain": [
       "7"
      ]
     },
     "execution_count": 15,
     "metadata": {},
     "output_type": "execute_result"
    }
   ],
   "source": [
    "#return as integer\n",
    "scalar.item()"
   ]
  },
  {
   "cell_type": "markdown",
   "id": "67f7b4fb",
   "metadata": {},
   "source": [
    "### Vector"
   ]
  },
  {
   "cell_type": "code",
   "execution_count": 16,
   "id": "d04722ef",
   "metadata": {},
   "outputs": [
    {
     "data": {
      "text/plain": [
       "tensor([7, 3])"
      ]
     },
     "execution_count": 16,
     "metadata": {},
     "output_type": "execute_result"
    }
   ],
   "source": [
    "vector = torch.tensor([7,3])\n",
    "vector"
   ]
  },
  {
   "cell_type": "code",
   "execution_count": 19,
   "id": "64a75c98",
   "metadata": {},
   "outputs": [
    {
     "name": "stdout",
     "output_type": "stream",
     "text": [
      "1\n",
      "torch.Size([2])\n"
     ]
    }
   ],
   "source": [
    "#vector dimensions\n",
    "print(vector.ndim)\n",
    "print(vector.shape)"
   ]
  },
  {
   "cell_type": "markdown",
   "id": "fe668841",
   "metadata": {},
   "source": [
    "### MATRIX"
   ]
  },
  {
   "cell_type": "code",
   "execution_count": 86,
   "id": "53669d84",
   "metadata": {},
   "outputs": [
    {
     "data": {
      "text/plain": [
       "tensor([[ 7,  8],\n",
       "        [ 9, 10]])"
      ]
     },
     "execution_count": 86,
     "metadata": {},
     "output_type": "execute_result"
    }
   ],
   "source": [
    "MATRIX = torch.tensor([[7,8],\n",
    "                       [9,10]])\n",
    "MATRIX"
   ]
  },
  {
   "cell_type": "code",
   "execution_count": 28,
   "id": "8b3aab08",
   "metadata": {},
   "outputs": [
    {
     "name": "stdout",
     "output_type": "stream",
     "text": [
      "2\n",
      "torch.Size([2, 2])\n"
     ]
    }
   ],
   "source": [
    "print(MATRIX.ndim)\n",
    "print(MATRIX.shape)"
   ]
  },
  {
   "cell_type": "code",
   "execution_count": null,
   "id": "f20db766",
   "metadata": {},
   "outputs": [],
   "source": [
    "#CHANGE VALUES IN MATRIX\n",
    "MATRIX[0] = torch.tensor([1,2])\n",
    "MATRIX"
   ]
  },
  {
   "cell_type": "code",
   "execution_count": 34,
   "id": "ea5959c7",
   "metadata": {},
   "outputs": [
    {
     "data": {
      "text/plain": [
       "15"
      ]
     },
     "execution_count": 34,
     "metadata": {},
     "output_type": "execute_result"
    }
   ],
   "source": [
    "#average of first list in matrix\n",
    "sum(MATRIX[0][:]).item()"
   ]
  },
  {
   "cell_type": "code",
   "execution_count": 21,
   "id": "b4cab3ef",
   "metadata": {},
   "outputs": [
    {
     "data": {
      "text/plain": [
       "tensor([[[1, 1, 1],\n",
       "         [2, 2, 2],\n",
       "         [3, 3, 3]]])"
      ]
     },
     "execution_count": 21,
     "metadata": {},
     "output_type": "execute_result"
    }
   ],
   "source": [
    "TENSOR = torch.tensor([[[1,1,1],\n",
    "                       [2,2,2],\n",
    "                       [3,3,3]]])\n",
    "TENSOR"
   ]
  },
  {
   "cell_type": "code",
   "execution_count": 32,
   "id": "a17dc12a",
   "metadata": {},
   "outputs": [
    {
     "data": {
      "text/plain": [
       "tensor(3)"
      ]
     },
     "execution_count": 32,
     "metadata": {},
     "output_type": "execute_result"
    }
   ],
   "source": [
    "TENSOR[0,2,2]"
   ]
  },
  {
   "cell_type": "code",
   "execution_count": 41,
   "id": "9b135d56",
   "metadata": {},
   "outputs": [
    {
     "data": {
      "text/plain": [
       "tensor([1, 2, 3])"
      ]
     },
     "execution_count": 41,
     "metadata": {},
     "output_type": "execute_result"
    }
   ],
   "source": [
    "#GET ALL VALUES IN INDEX (COLUMN) 1\n",
    "TENSOR[0,:,1] #TENSOR 0, ALL LISTS, 1ST INDEX"
   ]
  },
  {
   "cell_type": "code",
   "execution_count": 44,
   "id": "06623259",
   "metadata": {},
   "outputs": [
    {
     "name": "stdout",
     "output_type": "stream",
     "text": [
      "3\n",
      "torch.Size([1, 3, 3])\n"
     ]
    }
   ],
   "source": [
    "print(TENSOR.ndim)\n",
    "print(TENSOR.shape)"
   ]
  },
  {
   "cell_type": "code",
   "execution_count": 40,
   "id": "abb5b2c6",
   "metadata": {},
   "outputs": [
    {
     "data": {
      "text/plain": [
       "tensor([[1, 1, 1],\n",
       "        [2, 2, 2],\n",
       "        [3, 3, 3]])"
      ]
     },
     "execution_count": 40,
     "metadata": {},
     "output_type": "execute_result"
    }
   ],
   "source": [
    "#TAKES AN INDEX TO VIEW THE WHOLE TENSOR THATS WHY SIZE STARTS WITH 1^^^\n",
    "# ' 1 - TENSOR'\n",
    "TENSOR[0]"
   ]
  },
  {
   "cell_type": "code",
   "execution_count": 45,
   "id": "0300c4b8",
   "metadata": {},
   "outputs": [
    {
     "data": {
      "text/plain": [
       "tensor([[[[1, 1, 1],\n",
       "          [2, 2, 2],\n",
       "          [3, 3, 3]]]])"
      ]
     },
     "execution_count": 45,
     "metadata": {},
     "output_type": "execute_result"
    }
   ],
   "source": [
    "TENSOR = torch.tensor([[[[1,1,1],\n",
    "                       [2,2,2],\n",
    "                       [3,3,3]]]])\n",
    "TENSOR"
   ]
  },
  {
   "cell_type": "code",
   "execution_count": 50,
   "id": "21338d5d",
   "metadata": {},
   "outputs": [
    {
     "name": "stdout",
     "output_type": "stream",
     "text": [
      "4\n",
      "torch.Size([1, 1, 3, 3])\n",
      "tensor([[1, 1, 1],\n",
      "        [2, 2, 2],\n",
      "        [3, 3, 3]])\n",
      "tensor([1, 1, 1])\n"
     ]
    }
   ],
   "source": [
    "print(TENSOR.ndim)\n",
    "print(TENSOR.shape)\n",
    "print(TENSOR[0][0])\n",
    "print(TENSOR[0][0][0])"
   ]
  },
  {
   "cell_type": "markdown",
   "id": "f11e310a",
   "metadata": {},
   "source": [
    "## Random Tensors\n",
    "- look at random numbers, update data (random numbers), neural networks learn from random numbers"
   ]
  },
  {
   "cell_type": "code",
   "execution_count": 45,
   "id": "25c7332e",
   "metadata": {},
   "outputs": [
    {
     "data": {
      "text/plain": [
       "tensor([[0.4638, 0.6199, 0.3162, 0.3446],\n",
       "        [0.7177, 0.5232, 0.9139, 0.0539],\n",
       "        [0.7537, 0.0425, 0.8344, 0.9737]])"
      ]
     },
     "execution_count": 45,
     "metadata": {},
     "output_type": "execute_result"
    }
   ],
   "source": [
    "#Create a random tensor with size/shape of (3,4)\n",
    "random_tensor = torch.rand(3,4)\n",
    "random_tensor"
   ]
  },
  {
   "cell_type": "code",
   "execution_count": 46,
   "id": "41eae083",
   "metadata": {},
   "outputs": [
    {
     "data": {
      "text/plain": [
       "torch.Size([3, 4])"
      ]
     },
     "execution_count": 46,
     "metadata": {},
     "output_type": "execute_result"
    }
   ],
   "source": [
    "random_tensor.shape"
   ]
  },
  {
   "cell_type": "code",
   "execution_count": 47,
   "id": "e4199d4e",
   "metadata": {},
   "outputs": [
    {
     "data": {
      "text/plain": [
       "2"
      ]
     },
     "execution_count": 47,
     "metadata": {},
     "output_type": "execute_result"
    }
   ],
   "source": [
    "#count beginning and end square brackets\n",
    "random_tensor.ndim"
   ]
  },
  {
   "cell_type": "code",
   "execution_count": 73,
   "id": "f9158a88",
   "metadata": {},
   "outputs": [],
   "source": [
    "#10 tensors that are 10 in length and size\n",
    "random_tensor = torch.rand(10, 10, 10)\n",
    "#call the last tensor"
   ]
  },
  {
   "cell_type": "code",
   "execution_count": 79,
   "id": "9f5c012f",
   "metadata": {},
   "outputs": [
    {
     "data": {
      "text/plain": [
       "tensor([[7.4239e-01, 2.0399e-01, 7.5815e-01, 2.9795e-01, 7.8282e-01, 5.8297e-01,\n",
       "         3.1041e-01, 4.1756e-01, 7.9337e-01, 2.2866e-01],\n",
       "        [7.9538e-01, 7.2274e-01, 5.0943e-01, 6.1934e-01, 9.7908e-02, 4.0937e-01,\n",
       "         9.0078e-01, 7.5426e-01, 2.3950e-01, 1.1593e-01],\n",
       "        [2.4259e-01, 8.9748e-01, 2.1922e-01, 1.5393e-01, 4.8939e-01, 4.1590e-02,\n",
       "         1.3699e-01, 6.5517e-01, 6.8686e-01, 5.8021e-01],\n",
       "        [5.9331e-01, 7.0130e-01, 4.0172e-01, 5.2412e-01, 6.9523e-01, 1.1248e-01,\n",
       "         9.8499e-01, 9.3861e-02, 2.0597e-01, 2.1941e-01],\n",
       "        [8.0818e-02, 1.2091e-01, 1.8828e-01, 8.2734e-01, 2.0498e-01, 1.3514e-01,\n",
       "         3.7895e-01, 9.4922e-01, 3.4736e-01, 2.7819e-01],\n",
       "        [9.9399e-03, 6.3230e-01, 2.8832e-01, 8.4914e-01, 7.6938e-01, 7.6516e-01,\n",
       "         2.1275e-01, 3.8079e-01, 4.9549e-01, 4.7802e-01],\n",
       "        [7.2574e-01, 9.9829e-02, 1.8353e-01, 1.7536e-01, 3.1499e-01, 8.9864e-01,\n",
       "         5.2263e-01, 4.5559e-02, 2.2039e-01, 9.9499e-01],\n",
       "        [2.8953e-01, 5.0300e-01, 7.3797e-01, 4.5185e-01, 1.0869e-01, 1.2988e-01,\n",
       "         2.0993e-01, 5.2845e-03, 8.2875e-01, 2.3524e-02],\n",
       "        [8.2721e-01, 7.1803e-01, 2.2614e-01, 8.6994e-02, 9.3933e-01, 2.9183e-02,\n",
       "         4.7617e-01, 7.3753e-01, 9.3764e-01, 4.5250e-01],\n",
       "        [6.7293e-01, 2.5840e-02, 6.1352e-01, 2.8002e-02, 3.2267e-01, 3.6309e-01,\n",
       "         7.5355e-01, 2.6403e-01, 2.0000e+03, 6.6999e-01]])"
      ]
     },
     "execution_count": 79,
     "metadata": {},
     "output_type": "execute_result"
    }
   ],
   "source": [
    "random_tensor[:,-1]"
   ]
  },
  {
   "cell_type": "markdown",
   "id": "5068f340",
   "metadata": {},
   "source": [
    "## BASIC MATRIX ALGEBRA"
   ]
  },
  {
   "cell_type": "code",
   "execution_count": 62,
   "id": "e7a149b5",
   "metadata": {},
   "outputs": [],
   "source": [
    "random_tensor = torch.rand(3,4)\n",
    "#TENSOR MATRIX WITH ALL ZEROS  -------- same dimension\n",
    "zero_tensor = torch.zeros(size=(3,4))"
   ]
  },
  {
   "cell_type": "code",
   "execution_count": 64,
   "id": "0b86b8b1",
   "metadata": {},
   "outputs": [
    {
     "data": {
      "text/plain": [
       "tensor([[0.5655, 0.7389, 0.6753, 0.9810],\n",
       "        [0.5115, 0.4997, 0.7521, 0.4020],\n",
       "        [0.3986, 0.2127, 0.5517, 0.2161]])"
      ]
     },
     "execution_count": 64,
     "metadata": {},
     "output_type": "execute_result"
    }
   ],
   "source": [
    "random_tensor + zero_tensor"
   ]
  },
  {
   "cell_type": "code",
   "execution_count": 65,
   "id": "dcda0d53",
   "metadata": {},
   "outputs": [
    {
     "name": "stdout",
     "output_type": "stream",
     "text": [
      "tensor([[1.5655, 1.7389, 1.6753, 1.9810],\n",
      "        [1.5115, 1.4997, 1.7521, 1.4020],\n",
      "        [1.3986, 1.2127, 1.5517, 1.2161]])\n"
     ]
    },
    {
     "data": {
      "text/plain": [
       "torch.float32"
      ]
     },
     "execution_count": 65,
     "metadata": {},
     "output_type": "execute_result"
    }
   ],
   "source": [
    "ones_tensor = torch.ones(size=(3,4))\n",
    "print(random_tensor + ones_tensor)\n",
    "\n",
    "#data TYPE\n",
    "ones_tensor.dtype"
   ]
  },
  {
   "cell_type": "markdown",
   "id": "7b86993e",
   "metadata": {},
   "source": [
    "## Create a range"
   ]
  },
  {
   "cell_type": "code",
   "execution_count": 84,
   "id": "15c8b362",
   "metadata": {},
   "outputs": [
    {
     "data": {
      "text/plain": [
       "tensor([0, 1, 2, 3, 4, 5, 6, 7, 8, 9])"
      ]
     },
     "execution_count": 84,
     "metadata": {},
     "output_type": "execute_result"
    }
   ],
   "source": [
    "#range of numbers 0-9\n",
    "one_nine = torch.arange(0,10)\n",
    "one_nine"
   ]
  },
  {
   "cell_type": "code",
   "execution_count": 85,
   "id": "163a635d",
   "metadata": {},
   "outputs": [
    {
     "data": {
      "text/plain": [
       "tensor([1, 3, 5, 7, 9])"
      ]
     },
     "execution_count": 85,
     "metadata": {},
     "output_type": "execute_result"
    }
   ],
   "source": [
    "#range of numbers 1-11 step by 2\n",
    "one_eleven = torch.arange(1,11,2)\n",
    "one_eleven"
   ]
  },
  {
   "cell_type": "code",
   "execution_count": 89,
   "id": "0b0890e5",
   "metadata": {},
   "outputs": [
    {
     "name": "stdout",
     "output_type": "stream",
     "text": [
      "1\n",
      "torch.Size([10])\n"
     ]
    }
   ],
   "source": [
    "#CREATE ALIKE TENSOR\n",
    "print(one_nine.ndim)\n",
    "print(one_nine.shape)"
   ]
  },
  {
   "cell_type": "code",
   "execution_count": 94,
   "id": "eb03ea53",
   "metadata": {},
   "outputs": [
    {
     "data": {
      "text/plain": [
       "tensor([0, 0, 0, 0, 0, 0, 0, 0, 0, 0])"
      ]
     },
     "execution_count": 94,
     "metadata": {},
     "output_type": "execute_result"
    }
   ],
   "source": [
    "zeros = torch.zeros_like(input=one_nine)\n",
    "zeros"
   ]
  },
  {
   "cell_type": "code",
   "execution_count": 95,
   "id": "4908bc15",
   "metadata": {},
   "outputs": [
    {
     "data": {
      "text/plain": [
       "tensor([1, 1, 1, 1, 1, 1, 1, 1, 1, 1])"
      ]
     },
     "execution_count": 95,
     "metadata": {},
     "output_type": "execute_result"
    }
   ],
   "source": [
    "ones = torch.ones_like(input=one_nine)\n",
    "ones"
   ]
  },
  {
   "cell_type": "markdown",
   "id": "0e882f25",
   "metadata": {},
   "source": [
    "## CONVERT TENSOR DATA TYPE"
   ]
  },
  {
   "cell_type": "code",
   "execution_count": 66,
   "id": "c1fc29c5",
   "metadata": {},
   "outputs": [
    {
     "data": {
      "text/plain": [
       "tensor([[0, 1, 1],\n",
       "        [1, 2, 2]])"
      ]
     },
     "execution_count": 66,
     "metadata": {},
     "output_type": "execute_result"
    }
   ],
   "source": [
    "MATRIX = torch.tensor([[0,1,1],\n",
    "                      [1,2,2]],\n",
    "                     dtype=None,\n",
    "                     device=None)\n",
    "MATRIX"
   ]
  },
  {
   "cell_type": "code",
   "execution_count": 67,
   "id": "1e41ae59",
   "metadata": {},
   "outputs": [
    {
     "data": {
      "text/plain": [
       "(torch.int64, 2, torch.Size([2, 3]))"
      ]
     },
     "execution_count": 67,
     "metadata": {},
     "output_type": "execute_result"
    }
   ],
   "source": [
    "MATRIX.dtype, MATRIX.ndim, MATRIX.shape"
   ]
  },
  {
   "cell_type": "code",
   "execution_count": 105,
   "id": "e44329a8",
   "metadata": {},
   "outputs": [
    {
     "data": {
      "text/plain": [
       "tensor([[0., 1., 1.],\n",
       "        [1., 2., 2.]], dtype=torch.float16)"
      ]
     },
     "execution_count": 105,
     "metadata": {},
     "output_type": "execute_result"
    }
   ],
   "source": [
    "#CHANGE TO FLOAT 16 bit\n",
    "float_16_tensor = MATRIX.type(torch.float16)\n",
    "float_16_tensor"
   ]
  },
  {
   "cell_type": "code",
   "execution_count": 106,
   "id": "efc27cee",
   "metadata": {},
   "outputs": [
    {
     "data": {
      "text/plain": [
       "tensor([[0., 2., 2.],\n",
       "        [2., 4., 4.]], dtype=torch.float16)"
      ]
     },
     "execution_count": 106,
     "metadata": {},
     "output_type": "execute_result"
    }
   ],
   "source": [
    "float_16_tensor + MATRIX"
   ]
  },
  {
   "cell_type": "markdown",
   "id": "bd1341ba",
   "metadata": {},
   "source": [
    "## Information from Tensors"
   ]
  },
  {
   "cell_type": "code",
   "execution_count": 108,
   "id": "00d4042b",
   "metadata": {},
   "outputs": [
    {
     "data": {
      "text/plain": [
       "tensor([[0.4035, 0.5063, 0.8787, 0.2229],\n",
       "        [0.2533, 0.3668, 0.5613, 0.8926],\n",
       "        [0.4276, 0.7654, 0.8034, 0.6426]])"
      ]
     },
     "execution_count": 108,
     "metadata": {},
     "output_type": "execute_result"
    }
   ],
   "source": [
    "#create tensor\n",
    "some_tensor = torch.rand(3,4)\n",
    "some_tensor"
   ]
  },
  {
   "cell_type": "code",
   "execution_count": 110,
   "id": "e33b490d",
   "metadata": {},
   "outputs": [
    {
     "name": "stdout",
     "output_type": "stream",
     "text": [
      "2\n",
      "torch.Size([3, 4])\n"
     ]
    },
    {
     "data": {
      "text/plain": [
       "device(type='cpu')"
      ]
     },
     "execution_count": 110,
     "metadata": {},
     "output_type": "execute_result"
    }
   ],
   "source": [
    "print(some_tensor.ndim)\n",
    "print(some_tensor.shape)\n",
    "#device tensor is on\n",
    "some_tensor.device"
   ]
  },
  {
   "cell_type": "markdown",
   "id": "41e293de",
   "metadata": {},
   "source": [
    "## Manipulating tensors"
   ]
  },
  {
   "cell_type": "code",
   "execution_count": 4,
   "id": "9c6adc1b",
   "metadata": {},
   "outputs": [
    {
     "data": {
      "text/plain": [
       "tensor([11, 12, 13])"
      ]
     },
     "execution_count": 4,
     "metadata": {},
     "output_type": "execute_result"
    }
   ],
   "source": [
    "#addition of each element\n",
    "tensor = torch.tensor([1,2,3])\n",
    "tensor+10"
   ]
  },
  {
   "cell_type": "code",
   "execution_count": 8,
   "id": "dd810edb",
   "metadata": {},
   "outputs": [
    {
     "data": {
      "text/plain": [
       "tensor([11, 12, 13])"
      ]
     },
     "execution_count": 8,
     "metadata": {},
     "output_type": "execute_result"
    }
   ],
   "source": [
    "torch.add(tensor,10)"
   ]
  },
  {
   "cell_type": "code",
   "execution_count": 5,
   "id": "08ee7c7a",
   "metadata": {},
   "outputs": [
    {
     "data": {
      "text/plain": [
       "tensor([-9, -8, -7])"
      ]
     },
     "execution_count": 5,
     "metadata": {},
     "output_type": "execute_result"
    }
   ],
   "source": [
    "#subtraction of each element\n",
    "tensor-10"
   ]
  },
  {
   "cell_type": "code",
   "execution_count": 6,
   "id": "2e3f5b8b",
   "metadata": {},
   "outputs": [
    {
     "data": {
      "text/plain": [
       "tensor([10, 20, 30])"
      ]
     },
     "execution_count": 6,
     "metadata": {},
     "output_type": "execute_result"
    }
   ],
   "source": [
    "#Multiplication of each element\n",
    "tensor*10"
   ]
  },
  {
   "cell_type": "code",
   "execution_count": 7,
   "id": "daad5306",
   "metadata": {},
   "outputs": [
    {
     "data": {
      "text/plain": [
       "tensor([10, 20, 30])"
      ]
     },
     "execution_count": 7,
     "metadata": {},
     "output_type": "execute_result"
    }
   ],
   "source": [
    "torch.mul(tensor,10) "
   ]
  },
  {
   "cell_type": "code",
   "execution_count": 119,
   "id": "59627acf",
   "metadata": {},
   "outputs": [
    {
     "data": {
      "text/plain": [
       "tensor([0.1000, 0.2000, 0.3000])"
      ]
     },
     "execution_count": 119,
     "metadata": {},
     "output_type": "execute_result"
    }
   ],
   "source": [
    "#division of each element\n",
    "tensor/10"
   ]
  },
  {
   "cell_type": "code",
   "execution_count": 120,
   "id": "b66da9fc",
   "metadata": {},
   "outputs": [
    {
     "data": {
      "text/plain": [
       "tensor([1, 0, 1])"
      ]
     },
     "execution_count": 120,
     "metadata": {},
     "output_type": "execute_result"
    }
   ],
   "source": [
    "#view modulo/remainder\n",
    "tensor%2"
   ]
  },
  {
   "cell_type": "code",
   "execution_count": 122,
   "id": "16bd143c",
   "metadata": {},
   "outputs": [
    {
     "data": {
      "text/plain": [
       "tensor([0, 1, 1])"
      ]
     },
     "execution_count": 122,
     "metadata": {},
     "output_type": "execute_result"
    }
   ],
   "source": [
    "#floor division\n",
    "tensor//2"
   ]
  },
  {
   "cell_type": "markdown",
   "id": "00f783f1",
   "metadata": {},
   "source": [
    "## MATRIX MULTIPLICATION\n",
    "- ELEMENT WISE\n",
    "- DOT PRODUCT!!\n",
    "\n",
    "### two main rools that matrix multiplication needs to satisfy:\n",
    "    - 1.) inner dimensions must match\n",
    "* `(3,2) @ (3,2)` wont work\n",
    "* `(2,3) @ (3,2)` will work\n",
    "* `(3,2) @ (2,3)` will work\n",
    "\n",
    "    - 2.) Resulting matrix has the shape of the outer dimensions\n",
    "*`(2,3) @ (3,2)` --> `(2,2)`\n",
    "*`(3,2) @ (2,3)` --> `(3,3)`"
   ]
  },
  {
   "cell_type": "code",
   "execution_count": 26,
   "id": "77d33d60",
   "metadata": {},
   "outputs": [
    {
     "data": {
      "text/plain": [
       "tensor([[0.4103, 0.2710],\n",
       "        [0.9805, 0.2416],\n",
       "        [0.9804, 0.1634]])"
      ]
     },
     "execution_count": 26,
     "metadata": {},
     "output_type": "execute_result"
    }
   ],
   "source": [
    "rand_tensor = torch.rand(3,2) #specify shape\n",
    "rand_tensor"
   ]
  },
  {
   "cell_type": "code",
   "execution_count": 28,
   "id": "a688da27",
   "metadata": {},
   "outputs": [
    {
     "ename": "RuntimeError",
     "evalue": "mat1 and mat2 shapes cannot be multiplied (3x2 and 3x2)",
     "output_type": "error",
     "traceback": [
      "\u001b[0;31m---------------------------------------------------------------------------\u001b[0m",
      "\u001b[0;31mRuntimeError\u001b[0m                              Traceback (most recent call last)",
      "Input \u001b[0;32mIn [28]\u001b[0m, in \u001b[0;36m<cell line: 1>\u001b[0;34m()\u001b[0m\n\u001b[0;32m----> 1\u001b[0m \u001b[43mtorch\u001b[49m\u001b[38;5;241;43m.\u001b[39;49m\u001b[43mmatmul\u001b[49m\u001b[43m(\u001b[49m\u001b[43mrand_tensor\u001b[49m\u001b[43m,\u001b[49m\u001b[43mrand_tensor\u001b[49m\u001b[43m)\u001b[49m\n",
      "\u001b[0;31mRuntimeError\u001b[0m: mat1 and mat2 shapes cannot be multiplied (3x2 and 3x2)"
     ]
    }
   ],
   "source": [
    "torch.matmul(rand_tensor,rand_tensor)"
   ]
  },
  {
   "cell_type": "code",
   "execution_count": 29,
   "id": "87054745",
   "metadata": {},
   "outputs": [
    {
     "data": {
      "text/plain": [
       "tensor([[0.8970, 0.4232],\n",
       "        [0.6163, 0.4646]])"
      ]
     },
     "execution_count": 29,
     "metadata": {},
     "output_type": "execute_result"
    }
   ],
   "source": [
    "#NOW THE INNER DIMENSIONS MATCH 😃\n",
    "torch.matmul(torch.rand(2,3), torch.rand(3,2))"
   ]
  },
  {
   "cell_type": "code",
   "execution_count": 38,
   "id": "e302ac89",
   "metadata": {},
   "outputs": [
    {
     "name": "stdout",
     "output_type": "stream",
     "text": [
      "tensor([[0.2251, 0.1491, 0.7873],\n",
      "        [0.4574, 0.8640, 0.5780]])\n",
      "\n",
      "tensor([[0.3596, 0.2758],\n",
      "        [0.1028, 0.4469],\n",
      "        [0.0493, 0.3473]])\n",
      "\n"
     ]
    },
    {
     "data": {
      "text/plain": [
       "tensor([[0.1351, 0.4022],\n",
       "        [0.2818, 0.7130]])"
      ]
     },
     "execution_count": 38,
     "metadata": {},
     "output_type": "execute_result"
    }
   ],
   "source": [
    "#View in more detail ^\n",
    "tensor1 = torch.rand(2,3)\n",
    "print(tensor1)\n",
    "print()\n",
    "tensor2 = torch.rand(3,2)\n",
    "print(tensor2)\n",
    "print()\n",
    "\n",
    "torch.matmul(tensor1,tensor2) #EACH NUMBER HAS A CORRESPONDENT TO MULTIPLY -- THEN VALS CAN ALL BE ADDED"
   ]
  },
  {
   "cell_type": "code",
   "execution_count": 14,
   "id": "26325370",
   "metadata": {},
   "outputs": [
    {
     "name": "stdout",
     "output_type": "stream",
     "text": [
      "tensor([1, 2, 3])\n"
     ]
    },
    {
     "data": {
      "text/plain": [
       "tensor([1, 4, 9])"
      ]
     },
     "execution_count": 14,
     "metadata": {},
     "output_type": "execute_result"
    }
   ],
   "source": [
    "print(tensor)\n",
    "tensor*tensor"
   ]
  },
  {
   "cell_type": "code",
   "execution_count": 23,
   "id": "4dc2c7d5",
   "metadata": {},
   "outputs": [
    {
     "data": {
      "text/plain": [
       "torch.Size([3])"
      ]
     },
     "execution_count": 23,
     "metadata": {},
     "output_type": "execute_result"
    }
   ],
   "source": [
    "tensor.shape"
   ]
  },
  {
   "cell_type": "code",
   "execution_count": 15,
   "id": "4144b725",
   "metadata": {},
   "outputs": [
    {
     "data": {
      "text/plain": [
       "tensor(14)"
      ]
     },
     "execution_count": 15,
     "metadata": {},
     "output_type": "execute_result"
    }
   ],
   "source": [
    "#Matrix multiplication\n",
    "torch.matmul(tensor, tensor)"
   ]
  },
  {
   "cell_type": "code",
   "execution_count": 21,
   "id": "4f3a7866",
   "metadata": {},
   "outputs": [
    {
     "data": {
      "text/plain": [
       "tensor(14)"
      ]
     },
     "execution_count": 21,
     "metadata": {},
     "output_type": "execute_result"
    }
   ],
   "source": [
    "#Matrix multiplication\n",
    "tensor @ tensor"
   ]
  },
  {
   "cell_type": "code",
   "execution_count": 20,
   "id": "51a8b5dd",
   "metadata": {},
   "outputs": [
    {
     "data": {
      "text/plain": [
       "14"
      ]
     },
     "execution_count": 20,
     "metadata": {},
     "output_type": "execute_result"
    }
   ],
   "source": [
    "#by hand\n",
    "1*1 + 2*2 + 3*3"
   ]
  },
  {
   "cell_type": "markdown",
   "id": "7286fecb",
   "metadata": {},
   "source": [
    "## Shape errors ^"
   ]
  },
  {
   "cell_type": "code",
   "execution_count": 57,
   "id": "9a8c5532",
   "metadata": {},
   "outputs": [
    {
     "data": {
      "text/plain": [
       "(torch.Size([3, 2]), torch.Size([3, 2]))"
      ]
     },
     "execution_count": 57,
     "metadata": {},
     "output_type": "execute_result"
    }
   ],
   "source": [
    "tensor_a = torch.tensor([[1,2],\n",
    "                       [3,4],\n",
    "                       [5,6]])\n",
    "\n",
    "tensor_b = torch.tensor([[7,10],\n",
    "                        [7,11],\n",
    "                        [9,12]])\n",
    "\n",
    "#3X2 AND 3X2 ---> INNER DIMENSIONS DONT MATCH -- CANT MULTIPLY\n",
    "tensor_a.shape, tensor_b.shape"
   ]
  },
  {
   "cell_type": "code",
   "execution_count": 60,
   "id": "69f64d01",
   "metadata": {},
   "outputs": [
    {
     "data": {
      "text/plain": [
       "23"
      ]
     },
     "execution_count": 60,
     "metadata": {},
     "output_type": "execute_result"
    }
   ],
   "source": [
    "1*7+1*7+1*9"
   ]
  },
  {
   "cell_type": "markdown",
   "id": "b994cdb5",
   "metadata": {},
   "source": [
    "#### to fix shape error --> use **transpose**\n",
    "**transpose** changes dimensions of one tensor"
   ]
  },
  {
   "cell_type": "code",
   "execution_count": 58,
   "id": "17dd2cdc",
   "metadata": {},
   "outputs": [
    {
     "data": {
      "text/plain": [
       "tensor([[ 7,  7,  9],\n",
       "        [10, 11, 12]])"
      ]
     },
     "execution_count": 58,
     "metadata": {},
     "output_type": "execute_result"
    }
   ],
   "source": [
    "tensor_b = tensor_b.T # 3x2 into 2x3\n",
    "tensor_b"
   ]
  },
  {
   "cell_type": "code",
   "execution_count": 62,
   "id": "97bde803",
   "metadata": {},
   "outputs": [
    {
     "data": {
      "text/plain": [
       "tensor([[ 27,  29,  33],\n",
       "        [ 61,  65,  75],\n",
       "        [ 95, 101, 117]])"
      ]
     },
     "execution_count": 62,
     "metadata": {},
     "output_type": "execute_result"
    }
   ],
   "source": [
    "torch.matmul(tensor_a, tensor_b)"
   ]
  },
  {
   "cell_type": "code",
   "execution_count": 63,
   "id": "0d639667",
   "metadata": {},
   "outputs": [
    {
     "data": {
      "text/plain": [
       "(torch.Size([3, 2]), torch.Size([2, 3]))"
      ]
     },
     "execution_count": 63,
     "metadata": {},
     "output_type": "execute_result"
    }
   ],
   "source": [
    "tensor_a.shape, tensor_b.shape #INNER DIMENSIONS ARE SAME"
   ]
  },
  {
   "cell_type": "markdown",
   "id": "7e3be27a",
   "metadata": {},
   "source": [
    "## MANIPULATION OF TWO TENSORS (more below)"
   ]
  },
  {
   "cell_type": "code",
   "execution_count": 124,
   "id": "7a88a145",
   "metadata": {},
   "outputs": [
    {
     "name": "stdout",
     "output_type": "stream",
     "text": [
      "2\n",
      "torch.Size([2, 3])\n"
     ]
    }
   ],
   "source": [
    "tensor = torch.tensor([[1,2,3],\n",
    "                       [10,20,30]])\n",
    "\n",
    "print(tensor.ndim)\n",
    "print(tensor.shape)"
   ]
  },
  {
   "cell_type": "code",
   "execution_count": 128,
   "id": "241051b3",
   "metadata": {},
   "outputs": [
    {
     "data": {
      "text/plain": [
       "tensor([[0.6856, 0.5066, 0.8068],\n",
       "        [0.4065, 0.1969, 0.7626]])"
      ]
     },
     "execution_count": 128,
     "metadata": {},
     "output_type": "execute_result"
    }
   ],
   "source": [
    "other_tensor = torch.rand(2,3)\n",
    "other_tensor"
   ]
  },
  {
   "cell_type": "code",
   "execution_count": 129,
   "id": "7b91b234",
   "metadata": {},
   "outputs": [
    {
     "data": {
      "text/plain": [
       "tensor([[ 1.6856,  2.5066,  3.8068],\n",
       "        [10.4065, 20.1969, 30.7626]])"
      ]
     },
     "execution_count": 129,
     "metadata": {},
     "output_type": "execute_result"
    }
   ],
   "source": [
    "tensor + other_tensor"
   ]
  },
  {
   "cell_type": "markdown",
   "id": "3ebd826f",
   "metadata": {},
   "source": [
    "# Tensor Aggregation\n",
    "#### min,max,sum,etc."
   ]
  },
  {
   "cell_type": "code",
   "execution_count": 65,
   "id": "d6736031",
   "metadata": {},
   "outputs": [
    {
     "data": {
      "text/plain": [
       "tensor([ 0, 10, 20, 30, 40, 50, 60, 70, 80, 90])"
      ]
     },
     "execution_count": 65,
     "metadata": {},
     "output_type": "execute_result"
    }
   ],
   "source": [
    "x = torch.arange(0,100,10)\n",
    "x"
   ]
  },
  {
   "cell_type": "code",
   "execution_count": 70,
   "id": "d68d8e64",
   "metadata": {},
   "outputs": [
    {
     "data": {
      "text/plain": [
       "(tensor(0), tensor(0))"
      ]
     },
     "execution_count": 70,
     "metadata": {},
     "output_type": "execute_result"
    }
   ],
   "source": [
    "torch.min(x), x.min()"
   ]
  },
  {
   "cell_type": "code",
   "execution_count": 71,
   "id": "87c97da5",
   "metadata": {},
   "outputs": [
    {
     "data": {
      "text/plain": [
       "(tensor(90), tensor(90))"
      ]
     },
     "execution_count": 71,
     "metadata": {},
     "output_type": "execute_result"
    }
   ],
   "source": [
    "torch.max(x), x.max()"
   ]
  },
  {
   "cell_type": "code",
   "execution_count": 73,
   "id": "78eadd91",
   "metadata": {},
   "outputs": [
    {
     "data": {
      "text/plain": [
       "torch.int64"
      ]
     },
     "execution_count": 73,
     "metadata": {},
     "output_type": "execute_result"
    }
   ],
   "source": [
    "#IN ORDER TO AVERAGE MUST BE IN FLOAT!!!\n",
    "x.dtype"
   ]
  },
  {
   "cell_type": "code",
   "execution_count": 78,
   "id": "c143a9b2",
   "metadata": {},
   "outputs": [
    {
     "data": {
      "text/plain": [
       "(tensor(45.), tensor(45.))"
      ]
     },
     "execution_count": 78,
     "metadata": {},
     "output_type": "execute_result"
    }
   ],
   "source": [
    "#average the float through converting datatype from int-->float\n",
    "torch.mean(x.type(torch.float32)), x.type(torch.float32).mean()"
   ]
  },
  {
   "cell_type": "code",
   "execution_count": 80,
   "id": "d2715a18",
   "metadata": {},
   "outputs": [
    {
     "data": {
      "text/plain": [
       "(tensor(450), tensor(450))"
      ]
     },
     "execution_count": 80,
     "metadata": {},
     "output_type": "execute_result"
    }
   ],
   "source": [
    "torch.sum(x), x.sum()"
   ]
  },
  {
   "cell_type": "code",
   "execution_count": null,
   "id": "1fa74aad",
   "metadata": {},
   "outputs": [],
   "source": [
    "#elements count in tensors in tensors"
   ]
  },
  {
   "cell_type": "markdown",
   "id": "ea9b8fd1",
   "metadata": {},
   "source": [
    "## FINDING INDEX OF min/max^\n",
    "- USE `arg`"
   ]
  },
  {
   "cell_type": "code",
   "execution_count": 82,
   "id": "7320ac77",
   "metadata": {},
   "outputs": [
    {
     "data": {
      "text/plain": [
       "(tensor([ 0, 10, 20, 30, 40, 50, 60, 70, 80, 90]), tensor(0))"
      ]
     },
     "execution_count": 82,
     "metadata": {},
     "output_type": "execute_result"
    }
   ],
   "source": [
    "x, x.argmin()"
   ]
  },
  {
   "cell_type": "code",
   "execution_count": 85,
   "id": "4f409907",
   "metadata": {},
   "outputs": [
    {
     "data": {
      "text/plain": [
       "(tensor(9), tensor(90))"
      ]
     },
     "execution_count": 85,
     "metadata": {},
     "output_type": "execute_result"
    }
   ],
   "source": [
    "x.argmax(), x[x.argmax()] #max value at index 9"
   ]
  },
  {
   "cell_type": "markdown",
   "id": "f71d6a0e",
   "metadata": {},
   "source": [
    "## Reshaping, stacking, squeezing, and unsqueezing\n",
    "* reshaping - reshapes tensor to specified shape\n",
    "* view - view tensor and share memory as the original\n",
    "* stacking - combine multiple tensors on top of each other (vstack) or side-side (hstack)\n",
    "* squeeze - removes all `1` dimensions from tensor\n",
    "* unsqueeze - add a `1` dimension to a target tensor\n",
    "* Permute - Return a view of the input with dimensions permuted (swapped) in a certain way"
   ]
  },
  {
   "cell_type": "code",
   "execution_count": 87,
   "id": "ad542b9c",
   "metadata": {},
   "outputs": [
    {
     "data": {
      "text/plain": [
       "(tensor([1, 2, 3, 4, 5, 6, 7, 8, 9]), torch.Size([9]))"
      ]
     },
     "execution_count": 87,
     "metadata": {},
     "output_type": "execute_result"
    }
   ],
   "source": [
    "x = torch.arange(1,10)\n",
    "x, x.shape"
   ]
  },
  {
   "cell_type": "code",
   "execution_count": 89,
   "id": "cb91ca03",
   "metadata": {},
   "outputs": [
    {
     "data": {
      "text/plain": [
       "tensor([[1, 2, 3, 4, 5, 6, 7, 8, 9]])"
      ]
     },
     "execution_count": 89,
     "metadata": {},
     "output_type": "execute_result"
    }
   ],
   "source": [
    "#NEW SHAPE HAS TO BE COMPATIBLE WITH ORIGINAL ARRAY (FIT ALL NUMBERS)\n",
    "x.reshape(1,9) #another dimension added (another square bracket at beggining+end)"
   ]
  },
  {
   "cell_type": "code",
   "execution_count": 90,
   "id": "1affd64e",
   "metadata": {},
   "outputs": [
    {
     "data": {
      "text/plain": [
       "tensor([[1],\n",
       "        [2],\n",
       "        [3],\n",
       "        [4],\n",
       "        [5],\n",
       "        [6],\n",
       "        [7],\n",
       "        [8],\n",
       "        [9]])"
      ]
     },
     "execution_count": 90,
     "metadata": {},
     "output_type": "execute_result"
    }
   ],
   "source": [
    "x.reshape(9,1) #all numbers accomadated "
   ]
  },
  {
   "cell_type": "code",
   "execution_count": 102,
   "id": "6e46fb73",
   "metadata": {},
   "outputs": [
    {
     "data": {
      "text/plain": [
       "(tensor([ 1,  3,  5,  7,  9, 11]), torch.Size([6]))"
      ]
     },
     "execution_count": 102,
     "metadata": {},
     "output_type": "execute_result"
    }
   ],
   "source": [
    "#another example\n",
    "x = torch.arange(1,12,2)\n",
    "x, x.shape"
   ]
  },
  {
   "cell_type": "code",
   "execution_count": 99,
   "id": "17c5dba3",
   "metadata": {},
   "outputs": [
    {
     "data": {
      "text/plain": [
       "tensor([[ 1,  3],\n",
       "        [ 5,  7],\n",
       "        [ 9, 11]])"
      ]
     },
     "execution_count": 99,
     "metadata": {},
     "output_type": "execute_result"
    }
   ],
   "source": [
    "x.reshape(3,2)"
   ]
  },
  {
   "cell_type": "markdown",
   "id": "e5e3f6ee",
   "metadata": {},
   "source": [
    "#### view"
   ]
  },
  {
   "cell_type": "code",
   "execution_count": 107,
   "id": "9f8f48df",
   "metadata": {},
   "outputs": [
    {
     "data": {
      "text/plain": [
       "(tensor([1, 2, 3, 4, 5, 6, 7, 8, 9]),\n",
       " torch.Size([9]),\n",
       " tensor([[1, 2, 3, 4, 5, 6, 7, 8, 9]]),\n",
       " torch.Size([1, 9]))"
      ]
     },
     "execution_count": 107,
     "metadata": {},
     "output_type": "execute_result"
    }
   ],
   "source": [
    "#VIEW\n",
    "x = torch.arange(1,10) \n",
    "z = x.view(1,9)\n",
    "x, x.shape, z, z.shape #dimension added but original kept in memory"
   ]
  },
  {
   "cell_type": "code",
   "execution_count": 111,
   "id": "5e67bdfb",
   "metadata": {},
   "outputs": [
    {
     "data": {
      "text/plain": [
       "(tensor([[5, 2, 3, 4, 5, 6, 7, 8, 9]]), tensor([5, 2, 3, 4, 5, 6, 7, 8, 9]))"
      ]
     },
     "execution_count": 111,
     "metadata": {},
     "output_type": "execute_result"
    }
   ],
   "source": [
    "#changing z changes x\n",
    "z[:,0] = 5 #changing first element in z to 5 changes it in x as well\n",
    "z, x"
   ]
  },
  {
   "cell_type": "markdown",
   "id": "0e1c6e30",
   "metadata": {},
   "source": [
    "#### stack"
   ]
  },
  {
   "cell_type": "code",
   "execution_count": 123,
   "id": "2bcf7d85",
   "metadata": {},
   "outputs": [
    {
     "data": {
      "text/plain": [
       "tensor([[5, 2, 3, 4, 5, 6, 7, 8, 9],\n",
       "        [5, 2, 3, 4, 5, 6, 7, 8, 9],\n",
       "        [5, 2, 3, 4, 5, 6, 7, 8, 9],\n",
       "        [5, 2, 3, 4, 5, 6, 7, 8, 9]])"
      ]
     },
     "execution_count": 123,
     "metadata": {},
     "output_type": "execute_result"
    }
   ],
   "source": [
    "#Stack tensors\n",
    "#stack dimension 0 (vertical stack)\n",
    "x_stacked = torch.stack([x,x,x,x], dim=0)\n",
    "x_stacked"
   ]
  },
  {
   "cell_type": "code",
   "execution_count": 131,
   "id": "a3cb46e7",
   "metadata": {},
   "outputs": [
    {
     "data": {
      "text/plain": [
       "tensor([[5, 2, 3, 4, 5, 6, 7, 8, 9],\n",
       "        [5, 2, 3, 4, 5, 6, 7, 8, 9],\n",
       "        [5, 2, 3, 4, 5, 6, 7, 8, 9],\n",
       "        [5, 2, 3, 4, 5, 6, 7, 8, 9]])"
      ]
     },
     "execution_count": 131,
     "metadata": {},
     "output_type": "execute_result"
    }
   ],
   "source": [
    "#vertical stack\n",
    "torch.vstack([x,x,x,x])"
   ]
  },
  {
   "cell_type": "code",
   "execution_count": 122,
   "id": "85a29bac",
   "metadata": {},
   "outputs": [
    {
     "data": {
      "text/plain": [
       "tensor([[5, 5, 5, 5],\n",
       "        [2, 2, 2, 2],\n",
       "        [3, 3, 3, 3],\n",
       "        [4, 4, 4, 4],\n",
       "        [5, 5, 5, 5],\n",
       "        [6, 6, 6, 6],\n",
       "        [7, 7, 7, 7],\n",
       "        [8, 8, 8, 8],\n",
       "        [9, 9, 9, 9]])"
      ]
     },
     "execution_count": 122,
     "metadata": {},
     "output_type": "execute_result"
    }
   ],
   "source": [
    "#stack dimension 1 (down middle)\n",
    "torch.stack([x,x,x,x], dim=1)"
   ]
  },
  {
   "cell_type": "code",
   "execution_count": 130,
   "id": "b7ada68b",
   "metadata": {},
   "outputs": [
    {
     "data": {
      "text/plain": [
       "tensor([5, 2, 3, 4, 5, 6, 7, 8, 9, 5, 2, 3, 4, 5, 6, 7, 8, 9, 5, 2, 3, 4, 5, 6,\n",
       "        7, 8, 9, 5, 2, 3, 4, 5, 6, 7, 8, 9])"
      ]
     },
     "execution_count": 130,
     "metadata": {},
     "output_type": "execute_result"
    }
   ],
   "source": [
    "#horizontal stack\n",
    "torch.hstack([x,x,x,x])"
   ]
  },
  {
   "cell_type": "markdown",
   "id": "468b00cf",
   "metadata": {},
   "source": [
    "#### Squeeze + Unsqueeze"
   ]
  },
  {
   "cell_type": "code",
   "execution_count": 150,
   "id": "9482a3ae",
   "metadata": {},
   "outputs": [
    {
     "name": "stdout",
     "output_type": "stream",
     "text": [
      "torch.Size([2, 1, 2, 1, 2])\n",
      "tensor([[[[[0., 0.]],\n",
      "\n",
      "          [[0., 0.]]]],\n",
      "\n",
      "\n",
      "\n",
      "        [[[[0., 0.]],\n",
      "\n",
      "          [[0., 0.]]]]])\n",
      "torch.Size([2, 2, 2])\n"
     ]
    },
    {
     "data": {
      "text/plain": [
       "tensor([[[0., 0.],\n",
       "         [0., 0.]],\n",
       "\n",
       "        [[0., 0.],\n",
       "         [0., 0.]]])"
      ]
     },
     "execution_count": 150,
     "metadata": {},
     "output_type": "execute_result"
    }
   ],
   "source": [
    "#torch.squeeze() - removes all single dimensions from a target tensor\n",
    "x = torch.zeros(2,1,2,1,2)\n",
    "print(x.shape)\n",
    "print(x)\n",
    "x = x.squeeze()\n",
    "print(x.shape)\n",
    "x\n"
   ]
  },
  {
   "cell_type": "code",
   "execution_count": 8,
   "id": "a0ee124f",
   "metadata": {},
   "outputs": [
    {
     "name": "stdout",
     "output_type": "stream",
     "text": [
      "tensor([[1, 2, 3, 4, 5, 6, 7, 8, 9]]) torch.Size([1, 9])\n",
      "\n",
      "tensor([1, 2, 3, 4, 5, 6, 7, 8, 9]) torch.Size([9])\n",
      "\n",
      "tensor([[1, 2, 3, 4, 5, 6, 7, 8, 9]]) torch.Size([1, 9])\n",
      "\n"
     ]
    },
    {
     "data": {
      "text/plain": [
       "(tensor([[1],\n",
       "         [2],\n",
       "         [3],\n",
       "         [4],\n",
       "         [5],\n",
       "         [6],\n",
       "         [7],\n",
       "         [8],\n",
       "         [9]]),\n",
       " torch.Size([9, 1]))"
      ]
     },
     "execution_count": 8,
     "metadata": {},
     "output_type": "execute_result"
    }
   ],
   "source": [
    "x = torch.arange(1,10).reshape(1,9)\n",
    "print(x, x.shape)\n",
    "print()\n",
    "\n",
    "#squeeze --> takes away all ones of dimension\n",
    "x_squeezed = x.squeeze()\n",
    "print(x_squeezed, x_squeezed.shape)\n",
    "print()\n",
    "\n",
    "\n",
    "#unsqueeze --> adds square bracket (1 dimension)\n",
    "x_unsqueezed = x_squeezed.unsqueeze(dim=0) #adds one square bracket\n",
    "print(x_unsqueezed, x_unsqueezed.shape)\n",
    "print()\n",
    "\n",
    "#unsqueeze dimension 1 --- adds at first index\n",
    "X_unsqueezed_dim1 = x_squeezed.unsqueeze(dim=1)\n",
    "X_unsqueezed_dim1, X_unsqueezed_dim1.shape"
   ]
  },
  {
   "cell_type": "code",
   "execution_count": 3,
   "id": "b455cab7",
   "metadata": {},
   "outputs": [
    {
     "name": "stdout",
     "output_type": "stream",
     "text": [
      "tensor([[[1],\n",
      "         [2],\n",
      "         [3]],\n",
      "\n",
      "        [[4],\n",
      "         [5],\n",
      "         [6]],\n",
      "\n",
      "        [[7],\n",
      "         [8],\n",
      "         [9]]]) torch.Size([3, 3, 1])\n"
     ]
    },
    {
     "data": {
      "text/plain": [
       "(tensor([[1, 2, 3],\n",
       "         [4, 5, 6],\n",
       "         [7, 8, 9]]),\n",
       " torch.Size([3, 3]))"
      ]
     },
     "execution_count": 3,
     "metadata": {},
     "output_type": "execute_result"
    }
   ],
   "source": [
    "x = torch.arange(1,10).reshape(3,3,1)\n",
    "print(x, x.shape)\n",
    "x = x.squeeze(2)\n",
    "x, x.shape"
   ]
  },
  {
   "cell_type": "markdown",
   "id": "af6c1531",
   "metadata": {},
   "source": [
    "#### permute\n",
    "- rearranges the dimensions of a target tensor in a specified order\n",
    "- BC ITS PERMUTE IS A VIEW SO CHANGES TO ONE CHANGES TO OTHER"
   ]
  },
  {
   "cell_type": "code",
   "execution_count": 47,
   "id": "e07510ce",
   "metadata": {},
   "outputs": [
    {
     "name": "stdout",
     "output_type": "stream",
     "text": [
      "tensor([[[ 1.0444],\n",
      "         [-1.2036],\n",
      "         [ 0.5670]],\n",
      "\n",
      "        [[-1.5210],\n",
      "         [-1.9119],\n",
      "         [-2.7778]]]) torch.Size([2, 3, 1])\n",
      "\n",
      "tensor([[[ 1.0444],\n",
      "         [-1.5210]],\n",
      "\n",
      "        [[-1.2036],\n",
      "         [-1.9119]],\n",
      "\n",
      "        [[ 0.5670],\n",
      "         [-2.7778]]]) torch.Size([3, 2, 1])\n"
     ]
    }
   ],
   "source": [
    "x = torch.randn(2,3,1)\n",
    "print(x, x.size())\n",
    "print()\n",
    "\n",
    "\n",
    "x = torch.permute(x, (1,0,2)) #SWITCHING THE SHAPE INDEX POSITIONS\n",
    "print(x, x.size())"
   ]
  },
  {
   "cell_type": "code",
   "execution_count": 46,
   "id": "abdaf6a2",
   "metadata": {},
   "outputs": [
    {
     "data": {
      "text/plain": [
       "(torch.Size([224, 224, 3]), torch.Size([3, 224, 224]))"
      ]
     },
     "execution_count": 46,
     "metadata": {},
     "output_type": "execute_result"
    }
   ],
   "source": [
    "#example for images!! -- this there size\n",
    "x_original = torch.rand(size=(224,224,3))#height, width, color channel dimension\n",
    "\n",
    "x_permuted = torch.permute(x_original, (2,0,1))#now it is color channel, height, width\n",
    "#OR\n",
    "x_permuted = x_original.permute(2,0,1)\n",
    "\n",
    "x_original.shape, x_permuted.size() #SAME DATA BC ITS PERMUTE IS A VIEW SO CHANGES TO ONE CHANGES TO OTHER"
   ]
  },
  {
   "cell_type": "code",
   "execution_count": 63,
   "id": "b0034c4c",
   "metadata": {},
   "outputs": [
    {
     "data": {
      "text/plain": [
       "(tensor([0.6969, 0.0175, 0.8368]), tensor(0.6969))"
      ]
     },
     "execution_count": 63,
     "metadata": {},
     "output_type": "execute_result"
    }
   ],
   "source": [
    "x_original[0][0][0] = .69685\n",
    "x_original[0,0], x_permuted[0,0,0]"
   ]
  },
  {
   "cell_type": "markdown",
   "id": "b6034d8c",
   "metadata": {},
   "source": [
    "# SELECTING/INDEXING"
   ]
  },
  {
   "cell_type": "code",
   "execution_count": 69,
   "id": "ec8a7121",
   "metadata": {},
   "outputs": [
    {
     "data": {
      "text/plain": [
       "(tensor([[[1, 2, 3],\n",
       "          [4, 5, 6],\n",
       "          [7, 8, 9]]]),\n",
       " torch.Size([1, 3, 3]))"
      ]
     },
     "execution_count": 69,
     "metadata": {},
     "output_type": "execute_result"
    }
   ],
   "source": [
    "x = torch.arange(1,10).reshape(1,3,3)\n",
    "x, x.shape"
   ]
  },
  {
   "cell_type": "code",
   "execution_count": 73,
   "id": "d6e0c856",
   "metadata": {},
   "outputs": [
    {
     "name": "stdout",
     "output_type": "stream",
     "text": [
      "tensor([1, 2, 3]) tensor([1, 2, 3])\n"
     ]
    },
    {
     "data": {
      "text/plain": [
       "(tensor(1), tensor(1))"
      ]
     },
     "execution_count": 73,
     "metadata": {},
     "output_type": "execute_result"
    }
   ],
   "source": [
    "#index on new tensor\n",
    "\n",
    "print(x[0][0], x[0,0]) #in the one tensor created, and in the first list\n",
    "\n",
    "#in the one tensor created, first list, first index\n",
    "x[0,0,0], x[0][0][0]"
   ]
  },
  {
   "cell_type": "code",
   "execution_count": 77,
   "id": "44786f0c",
   "metadata": {},
   "outputs": [
    {
     "data": {
      "text/plain": [
       "(tensor([2, 5, 8]), tensor([[2, 5, 8]]))"
      ]
     },
     "execution_count": 77,
     "metadata": {},
     "output_type": "execute_result"
    }
   ],
   "source": [
    "#get values of second element in all lists created in first tensor\n",
    "x[0,:,1], x[:,:,1] #this keeps 0th dimension"
   ]
  },
  {
   "cell_type": "code",
   "execution_count": 82,
   "id": "b344eb47",
   "metadata": {},
   "outputs": [
    {
     "data": {
      "text/plain": [
       "(tensor([1, 2, 3]), tensor([[1, 2, 3]]))"
      ]
     },
     "execution_count": 82,
     "metadata": {},
     "output_type": "execute_result"
    }
   ],
   "source": [
    "#GET INDEX VALUE OF 0 of 0th AND 1st dimension and all values of 2nd dimension -- related to dimension size\n",
    "#other words: values in 0th tensor, at 0th list, and all values\n",
    "x[0,0,:], x[:,0,:] #all tensors-only one - keeps dimension"
   ]
  },
  {
   "cell_type": "code",
   "execution_count": 87,
   "id": "67f809b2",
   "metadata": {},
   "outputs": [
    {
     "name": "stdout",
     "output_type": "stream",
     "text": [
      "tensor(9) tensor([9])\n",
      "tensor([3, 6, 9]) tensor([[3, 6, 9]])\n"
     ]
    }
   ],
   "source": [
    "#index on x to return 9\n",
    "print(x[0,2,2], x[:,2,2])\n",
    "\n",
    "#index on x to return 3,6,9\n",
    "print(x[0,:,2], x[:,:,2])"
   ]
  },
  {
   "cell_type": "markdown",
   "id": "9cea124d",
   "metadata": {},
   "source": [
    "## Tensors & Numpy\n",
    "\n",
    "- NUMPY TO TENSOR --> `torch.from_numpy(ndarray)`\n",
    "- TENSOR TO NUMPY --> `torch.Tensor.numpy()`"
   ]
  },
  {
   "cell_type": "code",
   "execution_count": 4,
   "id": "8ebbc1b5",
   "metadata": {},
   "outputs": [],
   "source": [
    "import numpy as np"
   ]
  },
  {
   "cell_type": "code",
   "execution_count": 5,
   "id": "ef71c8b0",
   "metadata": {},
   "outputs": [
    {
     "data": {
      "text/plain": [
       "array([1., 2., 3., 4., 5., 6., 7.])"
      ]
     },
     "execution_count": 5,
     "metadata": {},
     "output_type": "execute_result"
    }
   ],
   "source": [
    "array = np.arange(1.0,8.0)\n",
    "array"
   ]
  },
  {
   "cell_type": "code",
   "execution_count": 8,
   "id": "daf7c840",
   "metadata": {},
   "outputs": [
    {
     "data": {
      "text/plain": [
       "tensor([1., 2., 3., 4., 5., 6., 7.], dtype=torch.float64)"
      ]
     },
     "execution_count": 8,
     "metadata": {},
     "output_type": "execute_result"
    }
   ],
   "source": [
    "tensor = torch.from_numpy(array)\n",
    "tensor #look at dtype -- default from numpy is always float64"
   ]
  },
  {
   "cell_type": "code",
   "execution_count": 10,
   "id": "cc90f4ad",
   "metadata": {},
   "outputs": [
    {
     "data": {
      "text/plain": [
       "tensor([1, 2, 3, 4, 5, 6, 7])"
      ]
     },
     "execution_count": 10,
     "metadata": {},
     "output_type": "execute_result"
    }
   ],
   "source": [
    "tensor.type(torch.int64) #changes to int\n",
    "#OR\n",
    "tensor = torch.from_numpy(array).type(torch.int64)\n",
    "tensor"
   ]
  },
  {
   "cell_type": "code",
   "execution_count": 30,
   "id": "14db9a91",
   "metadata": {},
   "outputs": [],
   "source": []
  },
  {
   "cell_type": "code",
   "execution_count": 32,
   "id": "da5d7c40",
   "metadata": {},
   "outputs": [
    {
     "data": {
      "text/plain": [
       "(tensor([1., 1., 1., 1.]), array([1., 1., 1., 1.], dtype=float32))"
      ]
     },
     "execution_count": 32,
     "metadata": {},
     "output_type": "execute_result"
    }
   ],
   "source": [
    "tensor = torch.ones(4)\n",
    "numpy_tensor = tensor.numpy()\n",
    "tensor, numpy_tensor #tensor is always 32"
   ]
  },
  {
   "cell_type": "code",
   "execution_count": 21,
   "id": "8f12c526",
   "metadata": {},
   "outputs": [],
   "source": [
    "ones_tensor = torch.ones(size=(3,4))"
   ]
  },
  {
   "cell_type": "markdown",
   "id": "6d13858c",
   "metadata": {},
   "source": [
    "## Reproducibility\n",
    "- Taking random out of randomness"
   ]
  },
  {
   "cell_type": "code",
   "execution_count": 35,
   "id": "5f624189",
   "metadata": {},
   "outputs": [
    {
     "name": "stdout",
     "output_type": "stream",
     "text": [
      "tensor([[0.0814, 0.9278, 0.7594, 0.6614],\n",
      "        [0.4196, 0.9595, 0.1623, 0.1197],\n",
      "        [0.6325, 0.7865, 0.3513, 0.3138]])\n",
      "tensor([[0.6797, 0.5928, 0.6927, 0.9856],\n",
      "        [0.1692, 0.5703, 0.6800, 0.7650],\n",
      "        [0.7815, 0.5229, 0.0313, 0.6253]])\n",
      "tensor([[False, False, False, False],\n",
      "        [False, False, False, False],\n",
      "        [False, False, False, False]])\n"
     ]
    }
   ],
   "source": [
    "random_tensorA = torch.rand(3,4)\n",
    "random_tensorB = torch.rand(3,4)\n",
    "print(random_tensorA)\n",
    "print(random_tensorB)\n",
    "print(random_tensorA == random_tensorB)"
   ]
  },
  {
   "cell_type": "code",
   "execution_count": 38,
   "id": "618f51c7",
   "metadata": {},
   "outputs": [
    {
     "name": "stdout",
     "output_type": "stream",
     "text": [
      "tensor([[0.0043, 0.1056, 0.2858, 0.0270],\n",
      "        [0.4716, 0.0601, 0.7719, 0.7437],\n",
      "        [0.5944, 0.8879, 0.4510, 0.7995]])\n",
      "tensor([[0.0043, 0.1056, 0.2858, 0.0270],\n",
      "        [0.4716, 0.0601, 0.7719, 0.7437],\n",
      "        [0.5944, 0.8879, 0.4510, 0.7995]])\n",
      "tensor([[True, True, True, True],\n",
      "        [True, True, True, True],\n",
      "        [True, True, True, True]])\n"
     ]
    }
   ],
   "source": [
    "# RANDOM AND REPRODUCIBLE\n",
    "RANDOM_SEED = 3\n",
    "\n",
    "torch.manual_seed(RANDOM_SEED) #THIS IS KEY --> MAKING RANDOM SEED\n",
    "random_tensorA = torch.rand(3,4)\n",
    "\n",
    "torch.manual_seed(RANDOM_SEED) #THIS IS KEY --> MAKING RANDOM SEED\n",
    "random_tensorB = torch.rand(3,4)\n",
    "\n",
    "print(random_tensorA)\n",
    "print(random_tensorB)\n",
    "print(random_tensorA == random_tensorB)"
   ]
  },
  {
   "cell_type": "markdown",
   "id": "a01bfb2f",
   "metadata": {},
   "source": [
    "## RUNNING TENSORS AND PYTORCH OBJECTS ON GPU\n",
    "- `GPU` = faster computation"
   ]
  },
  {
   "cell_type": "code",
   "execution_count": null,
   "id": "58087daa",
   "metadata": {},
   "outputs": [],
   "source": []
  }
 ],
 "metadata": {
  "kernelspec": {
   "display_name": "Python 3 (ipykernel)",
   "language": "python",
   "name": "python3"
  },
  "language_info": {
   "codemirror_mode": {
    "name": "ipython",
    "version": 3
   },
   "file_extension": ".py",
   "mimetype": "text/x-python",
   "name": "python",
   "nbconvert_exporter": "python",
   "pygments_lexer": "ipython3",
   "version": "3.9.6"
  }
 },
 "nbformat": 4,
 "nbformat_minor": 5
}
