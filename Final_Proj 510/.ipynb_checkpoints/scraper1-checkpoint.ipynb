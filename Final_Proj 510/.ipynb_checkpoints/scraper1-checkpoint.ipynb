{
 "cells": [
  {
   "cell_type": "code",
   "execution_count": 2,
   "id": "f9287007",
   "metadata": {},
   "outputs": [],
   "source": [
    "import argparse\n",
    "from bs4 import BeautifulSoup\n",
    "import requests\n",
    "import pandas as pd\n",
    "import numpy as np\n",
    "\n",
    "import gdp_api\n",
    "import vehicle_scrape\n",
    "import emission_data\n",
    "\n",
    "if __name__ == '__main__':\n",
    "    current_dir = os.path.dirname(os.path.abspath('CO2_emission.csv'))\n",
    "    os.chdir(current_dir)\n",
    "    \n",
    "    parser = argparse.ArgumentParser(description='Scrapes data from a website.')\n",
    "    #parser.add_argument('source', choices=['GDP','Vehicles','Emission'],help='Choose which data to load')\n",
    "    parser.add_argument('--scrape', type=int, required=False, help='Number of pages to scrape')\n",
    "    parser.add_argument('--save', type=str, required=False, help='File path to save the scraped data')\n",
    "    args = parser.parse_args()\n",
    "\n",
    "    # Use the scraped value from the command line\n",
    "    n_pages_to_scrape = args.scrape\n",
    "\n",
    "    # Use the save path from the command line\n",
    "    save_path = args.save\n",
    "    df = vehicle_scrape.vehicle_scape()\n",
    "    if args.scrape is not None:\n",
    "        print(df.head(n_pages_to_scrape))\n",
    "    elif args.save is not None:\n",
    "        df.to_csv(save_path,index=False)\n",
    "    else:\n",
    "        print(df)"
   ]
  }
 ],
 "metadata": {
  "kernelspec": {
   "display_name": "Python 3 (ipykernel)",
   "language": "python",
   "name": "python3"
  },
  "language_info": {
   "codemirror_mode": {
    "name": "ipython",
    "version": 3
   },
   "file_extension": ".py",
   "mimetype": "text/x-python",
   "name": "python",
   "nbconvert_exporter": "python",
   "pygments_lexer": "ipython3",
   "version": "3.9.6"
  }
 },
 "nbformat": 4,
 "nbformat_minor": 5
}
