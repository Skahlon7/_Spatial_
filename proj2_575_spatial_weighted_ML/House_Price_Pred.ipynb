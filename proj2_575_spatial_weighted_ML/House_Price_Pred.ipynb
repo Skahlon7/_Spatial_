{
 "cells": [
  {
   "cell_type": "code",
   "execution_count": 26,
   "metadata": {},
   "outputs": [],
   "source": [
    "#Import Libraries\n",
    "import arcpy \n",
    "import pandas as pd\n",
    "import numpy as np\n",
    "import os"
   ]
  },
  {
   "cell_type": "code",
   "execution_count": 27,
   "metadata": {},
   "outputs": [
    {
     "data": {
      "text/plain": [
       "['kc_house_data']"
      ]
     },
     "execution_count": 27,
     "metadata": {},
     "output_type": "execute_result"
    }
   ],
   "source": [
    "arcpy.env.workspace = r'G:\\Project2_dataset.gdb\\Project2_dataset.gdb'\n",
    "arcpy.ListFeatureClasses()"
   ]
  },
  {
   "cell_type": "markdown",
   "metadata": {},
   "source": [
    "## EDA"
   ]
  },
  {
   "cell_type": "code",
   "execution_count": 3,
   "metadata": {},
   "outputs": [
    {
     "data": {
      "text/plain": [
       "['OBJECTID', 'Shape', 'id', 'date', 'price', 'bedrooms', 'bathrooms', 'sqft_living', 'sqft_lot', 'floors', 'waterfront', 'view', 'condition', 'grade', 'sqft_above', 'sqft_basement', 'yr_built', 'yr_renovated', 'zipcode', 'lat', 'long', 'sqft_living15', 'sqft_lot15']"
      ]
     },
     "execution_count": 3,
     "metadata": {},
     "output_type": "execute_result"
    }
   ],
   "source": [
    "[f.name for f in arcpy.ListFields('kc_house_data')] #Columns"
   ]
  },
  {
   "cell_type": "code",
   "execution_count": 28,
   "metadata": {},
   "outputs": [
    {
     "data": {
      "text/plain": [
       "[('OBJECTID', 'OID'), ('Shape', 'Geometry'), ('id', 'Double'), ('date', 'String'), ('price', 'Double'), ('bedrooms', 'Integer'), ('bathrooms', 'Double'), ('sqft_living', 'Integer'), ('sqft_lot', 'Integer'), ('floors', 'Double'), ('waterfront', 'Integer'), ('view', 'Integer'), ('condition', 'Integer'), ('grade', 'Integer'), ('sqft_above', 'Integer'), ('sqft_basement', 'Integer'), ('yr_built', 'Integer'), ('yr_renovated', 'Integer'), ('zipcode', 'Integer'), ('lat', 'Double'), ('long', 'Double'), ('sqft_living15', 'Integer'), ('sqft_lot15', 'Integer')]"
      ]
     },
     "execution_count": 28,
     "metadata": {},
     "output_type": "execute_result"
    }
   ],
   "source": [
    "[(f.name, f.type) for f in arcpy.ListFields('kc_house_data')]"
   ]
  },
  {
   "cell_type": "markdown",
   "metadata": {},
   "source": [
    "## Spatial Autocorrelation Metrics"
   ]
  },
  {
   "cell_type": "code",
   "execution_count": 4,
   "metadata": {},
   "outputs": [
    {
     "data": {
      "text/html": [
       "<div class='gpresult'><h2>Messages</h2><div id='messages' data-messages='[\"Start Time: Wednesday, October 25, 2023 8:05:13 PM\",\"WARNING 001605: Distances for Geographic Coordinates (degrees, minutes, seconds) are analyzed using Chordal Distances in meters.\",\"WARNING 000853: The default neighborhood search threshold was 22724.7534 Meters.\",\"WARNING 001420: The number of neighbors for at least one feature exceeds 1000, you may want to change your conceptualization of spatial relationships to avoid the potential of running out of memory.\",\"WARNING 001422: Features with number of neighbors exceeding warning value (only includes first 30): OBJECTID = 1, 2, 3, 4, 5, 6, 7, 8, 9, 10, 11, 12, 13, 14, 15, 16, 17, 18, 19, 20, 21, 22, 23, 24, 25, 26, 27, 28, 29, 30.\",[{\"element\":\"table\",\"data\":[[\"Moran&#39;s Index\",\"0.191500\"],[\"Expected Index\",\"-0.000046\"],[\"Variance\",\"0.000004\"],[\"z-score\",\"100.345217\"],[\"p-value\",\"0.000000\"]],\"elementProps\":{\"striped\":\"true\",\"noHeader\":true,\"footnote\":[\"Distance measured in Meters\"],\"title\":\"Global Moran&#39;s I Summary\",\"0\":{\"align\":\"left\",\"pad\":\"0px\",\"wrap\":true},\"1\":{\"align\":\"left\",\"pad\":\"0px\",\"wrap\":true}}}],\"Succeeded at Wednesday, October 25, 2023 8:29:02 PM (Elapsed Time: 23 minutes 48 seconds)\"]' data-show='true'><div id = 'default' /></div></div>"
      ],
      "text/plain": [
       "<Result '0.1915'>"
      ]
     },
     "execution_count": 4,
     "metadata": {},
     "output_type": "execute_result"
    }
   ],
   "source": [
    "arcpy.stats.SpatialAutocorrelation(Input_Feature_Class = 'kc_house_data', Input_Field = 'price',  \n",
    "                                   Conceptualization_of_Spatial_Relationships = 'INVERSE_DISTANCE',\n",
    "                                   Distance_Method = 'EUCLIDEAN_DISTANCE', Standardization = 'NONE') #k-means"
   ]
  },
  {
   "cell_type": "markdown",
   "metadata": {},
   "source": [
    "## Association and Relationship Analysis"
   ]
  },
  {
   "cell_type": "code",
   "execution_count": 28,
   "metadata": {},
   "outputs": [],
   "source": [
    "df = pd.DataFrame(data = [row for row in arcpy.da.SearchCursor('kc_house_data', '*')], #Vectorize Data\n",
    "                   columns = [f.name for f in arcpy.ListFields('kc_house_data')])"
   ]
  },
  {
   "cell_type": "code",
   "execution_count": 30,
   "metadata": {},
   "outputs": [
    {
     "data": {
      "text/html": [
       "<div>\n",
       "<style scoped>\n",
       "    .dataframe tbody tr th:only-of-type {\n",
       "        vertical-align: middle;\n",
       "    }\n",
       "\n",
       "    .dataframe tbody tr th {\n",
       "        vertical-align: top;\n",
       "    }\n",
       "\n",
       "    .dataframe thead th {\n",
       "        text-align: right;\n",
       "    }\n",
       "</style>\n",
       "<table border=\"1\" class=\"dataframe\">\n",
       "  <thead>\n",
       "    <tr style=\"text-align: right;\">\n",
       "      <th></th>\n",
       "      <th>price</th>\n",
       "    </tr>\n",
       "  </thead>\n",
       "  <tbody>\n",
       "    <tr>\n",
       "      <th>sqft_living</th>\n",
       "      <td>0.492853</td>\n",
       "    </tr>\n",
       "    <tr>\n",
       "      <th>grade</th>\n",
       "      <td>0.445468</td>\n",
       "    </tr>\n",
       "    <tr>\n",
       "      <th>sqft_above</th>\n",
       "      <td>0.366712</td>\n",
       "    </tr>\n",
       "    <tr>\n",
       "      <th>sqft_living15</th>\n",
       "      <td>0.342668</td>\n",
       "    </tr>\n",
       "    <tr>\n",
       "      <th>bathrooms</th>\n",
       "      <td>0.275769</td>\n",
       "    </tr>\n",
       "    <tr>\n",
       "      <th>view</th>\n",
       "      <td>0.157842</td>\n",
       "    </tr>\n",
       "    <tr>\n",
       "      <th>sqft_basement</th>\n",
       "      <td>0.104857</td>\n",
       "    </tr>\n",
       "    <tr>\n",
       "      <th>bedrooms</th>\n",
       "      <td>0.095079</td>\n",
       "    </tr>\n",
       "    <tr>\n",
       "      <th>lat</th>\n",
       "      <td>0.094251</td>\n",
       "    </tr>\n",
       "    <tr>\n",
       "      <th>waterfront</th>\n",
       "      <td>0.070953</td>\n",
       "    </tr>\n",
       "    <tr>\n",
       "      <th>floors</th>\n",
       "      <td>0.065943</td>\n",
       "    </tr>\n",
       "    <tr>\n",
       "      <th>yr_renovated</th>\n",
       "      <td>0.015986</td>\n",
       "    </tr>\n",
       "    <tr>\n",
       "      <th>sqft_lot</th>\n",
       "      <td>0.008039</td>\n",
       "    </tr>\n",
       "    <tr>\n",
       "      <th>sqft_lot15</th>\n",
       "      <td>0.006798</td>\n",
       "    </tr>\n",
       "    <tr>\n",
       "      <th>yr_built</th>\n",
       "      <td>0.002917</td>\n",
       "    </tr>\n",
       "    <tr>\n",
       "      <th>condition</th>\n",
       "      <td>0.001322</td>\n",
       "    </tr>\n",
       "    <tr>\n",
       "      <th>OBJECTID</th>\n",
       "      <td>0.000749</td>\n",
       "    </tr>\n",
       "    <tr>\n",
       "      <th>long</th>\n",
       "      <td>0.000468</td>\n",
       "    </tr>\n",
       "    <tr>\n",
       "      <th>id</th>\n",
       "      <td>0.000281</td>\n",
       "    </tr>\n",
       "    <tr>\n",
       "      <th>zipcode</th>\n",
       "      <td>0.002831</td>\n",
       "    </tr>\n",
       "  </tbody>\n",
       "</table>\n",
       "</div>"
      ],
      "text/plain": [
       "                  price\n",
       "sqft_living    0.492853\n",
       "grade          0.445468\n",
       "sqft_above     0.366712\n",
       "sqft_living15  0.342668\n",
       "bathrooms      0.275769\n",
       "view           0.157842\n",
       "sqft_basement  0.104857\n",
       "bedrooms       0.095079\n",
       "lat            0.094251\n",
       "waterfront     0.070953\n",
       "floors         0.065943\n",
       "yr_renovated   0.015986\n",
       "sqft_lot       0.008039\n",
       "sqft_lot15     0.006798\n",
       "yr_built       0.002917\n",
       "condition      0.001322\n",
       "OBJECTID       0.000749\n",
       "long           0.000468\n",
       "id             0.000281\n",
       "zipcode        0.002831"
      ]
     },
     "execution_count": 30,
     "metadata": {},
     "output_type": "execute_result"
    }
   ],
   "source": [
    "q2 = df.corr()[['price']].sort_values(by='price', ascending=False).iloc[1:]\n",
    "q2['price'] = q2['price'].apply(lambda i: i**2) #Compute R2\n",
    "q2"
   ]
  },
  {
   "cell_type": "code",
   "execution_count": null,
   "metadata": {},
   "outputs": [],
   "source": [
    "import seaborn as sns\n",
    "import matplotlib.pyplot as plt\n",
    "\n",
    "plt.figure(figsize=(12, 9))\n",
    "sns.heatmap(df.corr(), cmap='coolwarm', annot=True);"
   ]
  },
  {
   "cell_type": "markdown",
   "metadata": {},
   "source": [
    "## Multicolinearity Asessment"
   ]
  },
  {
   "cell_type": "code",
   "execution_count": 6,
   "metadata": {},
   "outputs": [
    {
     "data": {
      "text/html": [
       "<div>\n",
       "<style scoped>\n",
       "    .dataframe tbody tr th:only-of-type {\n",
       "        vertical-align: middle;\n",
       "    }\n",
       "\n",
       "    .dataframe tbody tr th {\n",
       "        vertical-align: top;\n",
       "    }\n",
       "\n",
       "    .dataframe thead th {\n",
       "        text-align: right;\n",
       "    }\n",
       "</style>\n",
       "<table border=\"1\" class=\"dataframe\">\n",
       "  <thead>\n",
       "    <tr style=\"text-align: right;\">\n",
       "      <th></th>\n",
       "      <th>sqft_living</th>\n",
       "      <th>grade</th>\n",
       "      <th>sqft_above</th>\n",
       "      <th>sqft_living15</th>\n",
       "      <th>bathrooms</th>\n",
       "      <th>view</th>\n",
       "      <th>sqft_basement</th>\n",
       "      <th>bedrooms</th>\n",
       "    </tr>\n",
       "  </thead>\n",
       "  <tbody>\n",
       "    <tr>\n",
       "      <th>sqft_living</th>\n",
       "      <td>1.000000</td>\n",
       "      <td>0.762704</td>\n",
       "      <td>0.876597</td>\n",
       "      <td>0.756420</td>\n",
       "      <td>0.754665</td>\n",
       "      <td>0.284611</td>\n",
       "      <td>0.435043</td>\n",
       "      <td>0.576671</td>\n",
       "    </tr>\n",
       "    <tr>\n",
       "      <th>grade</th>\n",
       "      <td>0.762704</td>\n",
       "      <td>1.000000</td>\n",
       "      <td>0.755923</td>\n",
       "      <td>0.713202</td>\n",
       "      <td>0.664983</td>\n",
       "      <td>0.251321</td>\n",
       "      <td>0.168392</td>\n",
       "      <td>0.356967</td>\n",
       "    </tr>\n",
       "    <tr>\n",
       "      <th>sqft_above</th>\n",
       "      <td>0.876597</td>\n",
       "      <td>0.755923</td>\n",
       "      <td>1.000000</td>\n",
       "      <td>0.731870</td>\n",
       "      <td>0.685342</td>\n",
       "      <td>0.167649</td>\n",
       "      <td>-0.051943</td>\n",
       "      <td>0.477600</td>\n",
       "    </tr>\n",
       "    <tr>\n",
       "      <th>sqft_living15</th>\n",
       "      <td>0.756420</td>\n",
       "      <td>0.713202</td>\n",
       "      <td>0.731870</td>\n",
       "      <td>1.000000</td>\n",
       "      <td>0.568634</td>\n",
       "      <td>0.280439</td>\n",
       "      <td>0.200355</td>\n",
       "      <td>0.391638</td>\n",
       "    </tr>\n",
       "    <tr>\n",
       "      <th>bathrooms</th>\n",
       "      <td>0.754665</td>\n",
       "      <td>0.664983</td>\n",
       "      <td>0.685342</td>\n",
       "      <td>0.568634</td>\n",
       "      <td>1.000000</td>\n",
       "      <td>0.187737</td>\n",
       "      <td>0.283770</td>\n",
       "      <td>0.515884</td>\n",
       "    </tr>\n",
       "    <tr>\n",
       "      <th>view</th>\n",
       "      <td>0.284611</td>\n",
       "      <td>0.251321</td>\n",
       "      <td>0.167649</td>\n",
       "      <td>0.280439</td>\n",
       "      <td>0.187737</td>\n",
       "      <td>1.000000</td>\n",
       "      <td>0.276947</td>\n",
       "      <td>0.079532</td>\n",
       "    </tr>\n",
       "    <tr>\n",
       "      <th>sqft_basement</th>\n",
       "      <td>0.435043</td>\n",
       "      <td>0.168392</td>\n",
       "      <td>-0.051943</td>\n",
       "      <td>0.200355</td>\n",
       "      <td>0.283770</td>\n",
       "      <td>0.276947</td>\n",
       "      <td>1.000000</td>\n",
       "      <td>0.303093</td>\n",
       "    </tr>\n",
       "    <tr>\n",
       "      <th>bedrooms</th>\n",
       "      <td>0.576671</td>\n",
       "      <td>0.356967</td>\n",
       "      <td>0.477600</td>\n",
       "      <td>0.391638</td>\n",
       "      <td>0.515884</td>\n",
       "      <td>0.079532</td>\n",
       "      <td>0.303093</td>\n",
       "      <td>1.000000</td>\n",
       "    </tr>\n",
       "  </tbody>\n",
       "</table>\n",
       "</div>"
      ],
      "text/plain": [
       "               sqft_living     grade  ...  sqft_basement  bedrooms\n",
       "sqft_living       1.000000  0.762704  ...       0.435043  0.576671\n",
       "grade             0.762704  1.000000  ...       0.168392  0.356967\n",
       "sqft_above        0.876597  0.755923  ...      -0.051943  0.477600\n",
       "sqft_living15     0.756420  0.713202  ...       0.200355  0.391638\n",
       "bathrooms         0.754665  0.664983  ...       0.283770  0.515884\n",
       "view              0.284611  0.251321  ...       0.276947  0.079532\n",
       "sqft_basement     0.435043  0.168392  ...       1.000000  0.303093\n",
       "bedrooms          0.576671  0.356967  ...       0.303093  1.000000\n",
       "\n",
       "[8 rows x 8 columns]"
      ]
     },
     "execution_count": 6,
     "metadata": {},
     "output_type": "execute_result"
    }
   ],
   "source": [
    "#q3\n",
    "df.corr()[list(q2.index[:8])].loc[list(q2.index[:8])]"
   ]
  },
  {
   "cell_type": "code",
   "execution_count": 10,
   "metadata": {},
   "outputs": [],
   "source": [
    "# df.to_csv('G:\\df.csv')"
   ]
  },
  {
   "cell_type": "code",
   "execution_count": null,
   "metadata": {},
   "outputs": [],
   "source": [
    "fig = plt.figure(figsize=(7,9))\n",
    "ax = plt.axes(projection = '3d') #3D scatter plot\n",
    "\n",
    "# sampled_df = df.sample(n=2000) #Sample df for Viz\n",
    "df = df.sample(n = 2000)\n",
    "ax.scatter(df['sqft_living'], df['sqft_above'], df['sqft_living15'])\n",
    "\n",
    "ax.set_xlabel('sqft_living')\n",
    "ax.set_ylabel('sqft_above')\n",
    "ax.set_zlabel('sqft_living15')\n",
    "ax.set_title('3D Scatter Housing Properties SQFT')\n",
    "plt.show()"
   ]
  },
  {
   "cell_type": "code",
   "execution_count": null,
   "metadata": {},
   "outputs": [],
   "source": [
    "fig = plt.figure(figsize=(7,9))\n",
    "ax = plt.axes(projection = '3d') #3D scatter plot\n",
    "\n",
    "# sampled_df = df.sample(n=2000) #Sample df for Viz\n",
    "df = df.sample(n = 2000)\n",
    "ax.scatter(df['grade'], df['sqft_above'], df['sqft_living15'])\n",
    "\n",
    "ax.set_xlabel('grade')\n",
    "ax.set_ylabel('sqft_above')\n",
    "ax.set_zlabel('sqft_living15')\n",
    "ax.set_title('3D Scatter Housing Properties SQFT V. Grade')\n",
    "plt.show()"
   ]
  },
  {
   "cell_type": "markdown",
   "metadata": {},
   "source": [
    "## Q4 - Strategic Regional Analysis by high price cluster"
   ]
  },
  {
   "cell_type": "markdown",
   "metadata": {},
   "source": [
    "## Generalized Linear Regression"
   ]
  },
  {
   "cell_type": "code",
   "execution_count": 8,
   "metadata": {},
   "outputs": [
    {
     "data": {
      "text/html": [
       "<div class='gpresult'><h2>Messages</h2><div id='messages' data-messages='[\"Start Time: Thursday, November 2, 2023 7:45:06 PM\",\"WARNING 001605: Distances for Geographic Coordinates (degrees, minutes, seconds) are analyzed using Chordal Distances in meters.\",\"WARNING 110496: The Spatial Reference Unit is not supported in the Near tool. Meters will be used to calculate distances.\",[{\"element\":\"table\",\"data\":[[\"Variable\",[\"Coefficient\",{\"element\":\"sup\",\"data\":\"a\"}],\"StdError\",\"t-Statistic\",[\"Probability\",{\"element\":\"sup\",\"data\":\"b\"}],\"Robust_SE\",\"Robust_t\",[\"Robust_Pr\",{\"element\":\"sup\",\"data\":\"b\"}],[\"VIF\",{\"element\":\"sup\",\"data\":\"c\"}]],[\"Intercept\",\"75949.333115\",\"6642.647811\",\"11.433593\",[\"0.000000\",{\"element\":\"sup\",\"data\":\"*\"}],\"11405.833615\",\"6.658815\",[\"0.000000\",{\"element\":\"sup\",\"data\":\"*\"}],\"--------\"],[\"SQFT_LIVING\",\"277.925164\",\"3.057059\",\"90.912604\",[\"0.000000\",{\"element\":\"sup\",\"data\":\"*\"}],\"7.824494\",\"35.519889\",[\"0.000000\",{\"element\":\"sup\",\"data\":\"*\"}],\"2.776739\"],[\"BATHROOMS\",\"11829.003094\",\"3374.164231\",\"3.505758\",[\"0.000472\",{\"element\":\"sup\",\"data\":\"*\"}],\"4533.265879\",\"2.609378\",[\"0.009070\",{\"element\":\"sup\",\"data\":\"*\"}],\"2.378609\"],[\"VIEW\",\"97935.841955\",\"2307.974258\",\"42.433680\",[\"0.000000\",{\"element\":\"sup\",\"data\":\"*\"}],\"4411.608981\",\"22.199574\",[\"0.000000\",{\"element\":\"sup\",\"data\":\"*\"}],\"1.101805\"],[\"BEDROOMS\",\"-48023.568005\",\"2255.020450\",\"-21.296289\",[\"0.000000\",{\"element\":\"sup\",\"data\":\"*\"}],\"5167.375082\",\"-9.293610\",[\"0.000000\",{\"element\":\"sup\",\"data\":\"*\"}],\"1.549351\"]],\"elementProps\":{\"striped\":\"true\",\"title\":\"Summary of GLR Results [Model Type: Continuous (Gaussian/OLS)]\",\"0\":{\"align\":\"right\",\"pad\":\"0px\",\"wrap\":true},\"1\":{\"align\":\"right\",\"pad\":\"0px\",\"wrap\":true},\"2\":{\"align\":\"right\",\"pad\":\"0px\",\"wrap\":true},\"3\":{\"align\":\"right\",\"pad\":\"0px\",\"wrap\":true},\"4\":{\"align\":\"right\",\"pad\":\"0px\",\"wrap\":true},\"5\":{\"align\":\"right\",\"pad\":\"0px\",\"wrap\":true},\"6\":{\"align\":\"right\",\"pad\":\"0px\",\"wrap\":true},\"7\":{\"align\":\"right\",\"pad\":\"0px\",\"wrap\":true},\"8\":{\"align\":\"right\",\"pad\":\"0px\",\"wrap\":true}}}],[{\"element\":\"table\",\"data\":[[\"Input Features\",\"kc_house_data\",\"  Dependent Variable\",\"PRICE \"],[\"Number of Observations\",\"21613\",[\"  Akaike&#39;s Information Criterion (AICc)\",{\"element\":\"sup\",\"data\":\"d\"}],\"598208.709015 \"],[[\"Multiple R-Squared\",{\"element\":\"sup\",\"data\":\"d\"}],\"0.544848\",[\"  Adjusted R-Squared\",{\"element\":\"sup\",\"data\":\"d\"}],\"0.544764 \"],[[\"Joint F-Statistic\",{\"element\":\"sup\",\"data\":\"e\"}],\"6466.564740\",\"  Prob(\\u003eF), (4,21608) degrees of freedom\",[\"0.000000\",{\"element\":\"sup\",\"data\":\"*\"}]],[[\"Joint Wald Statistic\",{\"element\":\"sup\",\"data\":\"e\"}],\"3065.130473\",\"  Prob(\\u003echi-squared), (4) degrees of freedom\",[\"0.000000\",{\"element\":\"sup\",\"data\":\"*\"}]],[[\"Koenker (BP) Statistic\",{\"element\":\"sup\",\"data\":\"f\"}],\"2841.508648\",\"  Prob(\\u003echi-squared), (4) degrees of freedom\",[\"0.000000\",{\"element\":\"sup\",\"data\":\"*\"}]],[[\"Jarque-Bera Statistic\",{\"element\":\"sup\",\"data\":\"g\"}],\"511905.024013\",\"  Prob(\\u003echi-squared), (2) degrees of freedom\",[\"0.000000\",{\"element\":\"sup\",\"data\":\"*\"}]]],\"elementProps\":{\"striped\":\"true\",\"noHeader\":true,\"title\":\"GLR Diagnostics\",\"0\":{\"align\":\"left\",\"pad\":\"0px\",\"wrap\":true},\"1\":{\"align\":\"right\",\"pad\":\"0px\",\"wrap\":true},\"2\":{\"align\":\"left\",\"pad\":\"0px\",\"wrap\":true},\"3\":{\"align\":\"right\",\"pad\":\"0px\",\"wrap\":true}}}],[{\"element\":\"table\",\"data\":[[\"*\",\"An asterisk next to a number indicates a statistically significant p-value (p \\u003c 0.01).\"],[\"a\",\"Coefficient: Represents the strength and type of relationship between each explanatory variable and the dependent variable.\"],[\"b\",\"Probability and Robust Probability (Robust_Pr): Asterisk (*) indicates a coefficient is statistically significant (p \\u003c 0.01); if the Koenker (BP) Statistic [f] is statistically significant, use the Robust Probability column (Robust_Pr) to determine coefficient significance.\"],[\"c\",\"Variance Inflation Factor (VIF): Large Variance Inflation Factor (VIF) values (\\u003e 7.5) indicate redundancy among explanatory variables.\"],[\"d\",\"R-Squared and Akaike&#39;s Information Criterion (AICc): Measures of model fit/performance.\"],[\"e\",\"Joint F and Wald Statistics: Asterisk (*) indicates overall model significance (p \\u003c 0.01); if the Koenker (BP) Statistic [f] is statistically significant, use the Wald Statistic to determine overall model significance.\"],[\"f\",\"Koenker (BP) Statistic: When this test is statistically significant (p \\u003c 0.01), the relationships modeled are not consistent (either due to non-stationarity or heteroskedasticity).  You should rely on the Robust Probabilities (Robust_Pr) to determine coefficient significance and on the Wald Statistic to determine overall model significance.\"],[\"g\",\"Jarque-Bera Statistic: When this test is statistically significant (p \\u003c 0.01) model predictions are biased (the residuals are not normally distributed).\"]],\"elementProps\":{\"striped\":\"true\",\"noHeader\":true,\"title\":\"Notes on Interpretation\",\"0\":{\"align\":\"center\",\"pad\":\"0px\",\"wrap\":true},\"1\":{\"align\":\"left\",\"pad\":\"0px\",\"wrap\":true}}}],\"Succeeded at Thursday, November 2, 2023 7:45:16 PM (Elapsed Time: 9.40 seconds)\"]' data-show='true'><div id = 'default' /></div></div>"
      ],
      "text/plain": [
       "<Result 'G:\\\\Proj_2\\\\Proj_2.gdb\\\\y_pred_glr'>"
      ]
     },
     "execution_count": 8,
     "metadata": {},
     "output_type": "execute_result"
    }
   ],
   "source": [
    "arcpy.stats.GeneralizedLinearRegression(\n",
    "    in_features=\"kc_house_data\",\n",
    "    dependent_variable=\"price\",\n",
    "    model_type=\"CONTINUOUS\",\n",
    "    output_features=r\"G:\\Proj_2\\Proj_2.gdb\\y_pred_glr\",\n",
    "    explanatory_variables=';'.join([x for x in list(q2.index[:8]) if x not in ['sqft_above', 'sqft_living15', 'grade',\n",
    "                                                                               'sqft_basement']])\n",
    ") "
   ]
  },
  {
   "cell_type": "markdown",
   "metadata": {},
   "source": [
    "## Geographic Weighted Regression"
   ]
  },
  {
   "cell_type": "code",
   "execution_count": 89,
   "metadata": {},
   "outputs": [
    {
     "data": {
      "text/html": [
       "<div class='gpresult'><h2>Messages</h2><div id='messages' data-messages='[\"Start Time: Thursday, October 26, 2023 1:49:36 AM\",\"Bandwidth           : 0.27732262799851093\\nResidualSquares     : 539953363400255.5\\nEffectiveNumber     : 115.78279827153087\\nSigma               : 158484.57630902954\\nAICc                : 579008.37248187151\\nR2                  : 0.81463481193190523\\nR2Adjusted          : 0.8136450682460632\\nSucceeded at Thursday, October 26, 2023 1:52:59 AM (Elapsed Time: 3 minutes 22 seconds)\",\"Succeeded at Thursday, October 26, 2023 1:53:00 AM (Elapsed Time: 3 minutes 24 seconds)\"]' data-show='true'><div id = 'default' /></div></div>"
      ],
      "text/plain": [
       "<Result 'G:\\\\Proj_2\\\\Proj_2.gdb\\\\y_pred_gwr'>"
      ]
     },
     "execution_count": 89,
     "metadata": {},
     "output_type": "execute_result"
    }
   ],
   "source": [
    "arcpy.stats.GeographicallyWeightedRegression(in_features = 'kc_house_data', dependent_field = 'price',\n",
    "        explanatory_field = ';'.join([x for x in list(q2.index[:8]) if x not in ['sqft_above', 'sqft_living15', 'grade',\n",
    "                                                                               'sqft_basement']]), \n",
    "                                     out_featureclass = r\"G:\\Proj_2\\Proj_2.gdb\\y_pred_gwr\", \n",
    "                                     kernel_type = 'FIXED')"
   ]
  },
  {
   "cell_type": "code",
   "execution_count": 10,
   "metadata": {},
   "outputs": [],
   "source": [
    "def r2_score(actual, predicted):\n",
    "    mean_actual = np.mean(actual)\n",
    "    tss = np.sum((actual - mean_actual) ** 2)\n",
    "    rss = np.sum((actual - predicted) ** 2)\n",
    "    r2 = 1 - (rss / tss)\n",
    "    return r2"
   ]
  },
  {
   "cell_type": "code",
   "execution_count": 17,
   "metadata": {},
   "outputs": [
    {
     "name": "stdout",
     "output_type": "stream",
     "text": [
      "R2 Score GWR: 0.815\n"
     ]
    }
   ],
   "source": [
    "df_gwr = pd.DataFrame(data = [row for row in arcpy.da.SearchCursor('y_pred_gwr', '*')], #Vectorize Data\n",
    "                   columns = [f.name for f in arcpy.ListFields('y_pred_gwr')])\n",
    "\n",
    "#R2 Score\n",
    "print('R2 Score GWR:', round(r2_score(df_gwr['Observed'], df_gwr['Predicted']),3))\n"
   ]
  },
  {
   "cell_type": "code",
   "execution_count": null,
   "metadata": {},
   "outputs": [],
   "source": []
  },
  {
   "cell_type": "code",
   "execution_count": 8,
   "metadata": {},
   "outputs": [
    {
     "data": {
      "text/plain": [
       "OBJECTID                0\n",
       "Shape                   0\n",
       "Observed                0\n",
       "Cond                    0\n",
       "LocalR2                 0\n",
       "Predicted               0\n",
       "Intercept               0\n",
       "C1_sqft_living          0\n",
       "C2_bathrooms            0\n",
       "C3_view                 0\n",
       "C4_bedrooms             0\n",
       "Residual                0\n",
       "StdError                0\n",
       "StdErr_Intercept        0\n",
       "StdErrC1_sqft_living    0\n",
       "StdErrC2_bathrooms      0\n",
       "StdErrC3_view           0\n",
       "StdErrC4_bedrooms       0\n",
       "StdResid                0\n",
       "Source_ID               0\n",
       "dtype: int64"
      ]
     },
     "execution_count": 8,
     "metadata": {},
     "output_type": "execute_result"
    }
   ],
   "source": [
    "#Get Feature Class Data\n",
    "result_table = pd.DataFrame([row for row in arcpy.da.SearchCursor('y_pred_gwr', '*')], \n",
    "                            columns = [f.name for f in arcpy.ListFields('y_pred_gwr')])\n",
    "result_table.isnull().sum()"
   ]
  },
  {
   "cell_type": "code",
   "execution_count": 9,
   "metadata": {},
   "outputs": [
    {
     "data": {
      "text/html": [
       "<div>\n",
       "<style scoped>\n",
       "    .dataframe tbody tr th:only-of-type {\n",
       "        vertical-align: middle;\n",
       "    }\n",
       "\n",
       "    .dataframe tbody tr th {\n",
       "        vertical-align: top;\n",
       "    }\n",
       "\n",
       "    .dataframe thead th {\n",
       "        text-align: right;\n",
       "    }\n",
       "</style>\n",
       "<table border=\"1\" class=\"dataframe\">\n",
       "  <thead>\n",
       "    <tr style=\"text-align: right;\">\n",
       "      <th></th>\n",
       "      <th>OBJECTID</th>\n",
       "      <th>Shape</th>\n",
       "      <th>Observed</th>\n",
       "      <th>Cond</th>\n",
       "      <th>LocalR2</th>\n",
       "      <th>Predicted</th>\n",
       "      <th>Intercept</th>\n",
       "      <th>C1_sqft_living</th>\n",
       "      <th>C2_bathrooms</th>\n",
       "      <th>C3_view</th>\n",
       "      <th>C4_bedrooms</th>\n",
       "      <th>Residual</th>\n",
       "      <th>StdError</th>\n",
       "      <th>StdErr_Intercept</th>\n",
       "      <th>StdErrC1_sqft_living</th>\n",
       "      <th>StdErrC2_bathrooms</th>\n",
       "      <th>StdErrC3_view</th>\n",
       "      <th>StdErrC4_bedrooms</th>\n",
       "      <th>StdResid</th>\n",
       "      <th>Source_ID</th>\n",
       "    </tr>\n",
       "  </thead>\n",
       "  <tbody>\n",
       "    <tr>\n",
       "      <th>0</th>\n",
       "      <td>1</td>\n",
       "      <td>(-122.25699999999995, 47.51120000000003)</td>\n",
       "      <td>221900.0</td>\n",
       "      <td>10.979895</td>\n",
       "      <td>0.611787</td>\n",
       "      <td>217250.864510</td>\n",
       "      <td>47356.384562</td>\n",
       "      <td>311.033270</td>\n",
       "      <td>-652.182177</td>\n",
       "      <td>82925.620228</td>\n",
       "      <td>-65490.865478</td>\n",
       "      <td>4649.135490</td>\n",
       "      <td>158302.192730</td>\n",
       "      <td>16998.367457</td>\n",
       "      <td>9.997236</td>\n",
       "      <td>9705.977684</td>\n",
       "      <td>5957.793017</td>\n",
       "      <td>6565.169753</td>\n",
       "      <td>0.029369</td>\n",
       "      <td>1</td>\n",
       "    </tr>\n",
       "    <tr>\n",
       "      <th>1</th>\n",
       "      <td>2</td>\n",
       "      <td>(-122.31899999999996, 47.72100000000006)</td>\n",
       "      <td>538000.0</td>\n",
       "      <td>12.095258</td>\n",
       "      <td>0.437392</td>\n",
       "      <td>555445.441888</td>\n",
       "      <td>202377.905696</td>\n",
       "      <td>142.992397</td>\n",
       "      <td>612.765208</td>\n",
       "      <td>28443.068654</td>\n",
       "      <td>-5267.215450</td>\n",
       "      <td>-17445.441888</td>\n",
       "      <td>157926.417289</td>\n",
       "      <td>17624.188627</td>\n",
       "      <td>13.928461</td>\n",
       "      <td>10031.344803</td>\n",
       "      <td>14820.377358</td>\n",
       "      <td>7571.151716</td>\n",
       "      <td>-0.110466</td>\n",
       "      <td>2</td>\n",
       "    </tr>\n",
       "    <tr>\n",
       "      <th>2</th>\n",
       "      <td>3</td>\n",
       "      <td>(-122.23299999999995, 47.73790000000008)</td>\n",
       "      <td>180000.0</td>\n",
       "      <td>14.905618</td>\n",
       "      <td>0.635184</td>\n",
       "      <td>230065.617481</td>\n",
       "      <td>127971.943352</td>\n",
       "      <td>218.663092</td>\n",
       "      <td>39534.327726</td>\n",
       "      <td>163117.419142</td>\n",
       "      <td>-52905.617244</td>\n",
       "      <td>-50065.617481</td>\n",
       "      <td>158017.221207</td>\n",
       "      <td>24360.184559</td>\n",
       "      <td>10.952633</td>\n",
       "      <td>11549.502041</td>\n",
       "      <td>6180.181093</td>\n",
       "      <td>7513.748494</td>\n",
       "      <td>-0.316836</td>\n",
       "      <td>3</td>\n",
       "    </tr>\n",
       "  </tbody>\n",
       "</table>\n",
       "</div>"
      ],
      "text/plain": [
       "   OBJECTID                                     Shape  ...  StdResid  Source_ID\n",
       "0         1  (-122.25699999999995, 47.51120000000003)  ...  0.029369          1\n",
       "1         2  (-122.31899999999996, 47.72100000000006)  ... -0.110466          2\n",
       "2         3  (-122.23299999999995, 47.73790000000008)  ... -0.316836          3\n",
       "\n",
       "[3 rows x 20 columns]"
      ]
     },
     "execution_count": 9,
     "metadata": {},
     "output_type": "execute_result"
    }
   ],
   "source": [
    "result_table.head(3)"
   ]
  },
  {
   "cell_type": "markdown",
   "metadata": {},
   "source": [
    "## Random Forest Regression"
   ]
  },
  {
   "cell_type": "code",
   "execution_count": 37,
   "metadata": {},
   "outputs": [],
   "source": [
    "#df.corr()[['price']].sort_values(by='price', ascending=False)"
   ]
  },
  {
   "cell_type": "code",
   "execution_count": 36,
   "metadata": {},
   "outputs": [
    {
     "data": {
      "text/html": [
       "<div class='gpresult'><h2>Messages</h2><div id='messages' data-messages='[\"Start Time: Thursday, November 2, 2023 8:35:13 PM\",\"Random Seed: 444475\",\"WARNING 001605: Distances for Geographic Coordinates (degrees, minutes, seconds) are analyzed using Chordal Distances in meters.\",\"WARNING 001605: Distances for Geographic Coordinates (degrees, minutes, seconds) are analyzed using Chordal Distances in meters.\",[{\"element\":\"table\",\"data\":[[\"Number of Trees\",\"100\"],[\"Leaf Size\",\"5\"],[\"Tree Depth Range\",\"28-39\"],[\"Mean Tree Depth\",\"32\"],[\"% of Training Available per Tree\",\"100\"],[\"Number of Randomly Sampled Variables\",\"3\"],[\"% of Training Data Excluded for Validation\",\"20\"]],\"elementProps\":{\"striped\":\"true\",\"noHeader\":true,\"title\":\"Model Characteristics\",\"0\":{\"align\":\"left\",\"pad\":\"0px\",\"wrap\":true},\"1\":{\"align\":\"right\",\"pad\":\"0px\",\"wrap\":true}}}],[{\"element\":\"table\",\"data\":[[\"Number of Trees\",\"50\",\"100\"],[\"MSE\",\"49279627815.601\",\"46348095746.245\"],[\"% of variation explained\",\"62.562\",\"64.789\"]],\"elementProps\":{\"striped\":\"true\",\"noHeader\":true,\"title\":\"Model Out of Bag Errors\",\"0\":{\"align\":\"left\",\"pad\":\"0px\",\"wrap\":true},\"1\":{\"align\":\"right\",\"pad\":\"0px\",\"wrap\":true},\"2\":{\"align\":\"right\",\"pad\":\"0px\",\"wrap\":true}}}],[{\"element\":\"table\",\"data\":[[\"Variable\",\"Importance\",\"%\"],[\"sqft_living\",\"545036735668599.25\",\"26\"],[\"grade\",\"499386565164888.19\",\"23\"],[\"sqft_living15\",\"287909496847898.62\",\"14\"],[\"sqft_above\",\"270299803846619.25\",\"13\"],[\"bathrooms\",\"141420659511093.12\",\"7\"],[\"sqft_basement\",\"122018911368875.95\",\"6\"],[\"view\",\"110043243807126.00\",\"5\"],[\"waterfront\",\"64930327101206.38\",\"3\"],[\"floors\",\"46770038345820.59\",\"2\"],[\"bedrooms\",\"41761324291577.33\",\"2\"]],\"elementProps\":{\"striped\":\"true\",\"title\":\"Top Variable Importance\",\"0\":{\"align\":\"left\",\"pad\":\"0px\",\"wrap\":true},\"1\":{\"align\":\"right\",\"pad\":\"0px\",\"wrap\":true},\"2\":{\"align\":\"right\",\"pad\":\"0px\",\"wrap\":true}}}],[{\"element\":\"table\",\"data\":[[\"R-Squared\",\"0.913\"],[\"p-value\",\"0.000\"],[\"Standard Error\",\"0.002\"]],\"elementProps\":{\"striped\":\"true\",\"noHeader\":true,\"footnote\":[\"*Predictions for the data used to train the model compared to the observed categories for those features\"],\"title\":\"Training Data: Regression Diagnostics\",\"0\":{\"align\":\"left\",\"pad\":\"0px\",\"wrap\":true},\"1\":{\"align\":\"right\",\"pad\":\"0px\",\"wrap\":true}}}],[{\"element\":\"table\",\"data\":[[\"R-Squared\",\"0.670\"],[\"p-value\",\"0.000\"],[\"Standard Error\",\"0.007\"]],\"elementProps\":{\"striped\":\"true\",\"noHeader\":true,\"footnote\":[\"*Predictions for the test data (excluded from model training) compared to the observed values for those test features\"],\"title\":\"Validation Data: Regression Diagnostics\",\"0\":{\"align\":\"left\",\"pad\":\"0px\",\"wrap\":true},\"1\":{\"align\":\"right\",\"pad\":\"0px\",\"wrap\":true}}}],\"\\n\",[{\"element\":\"table\",\"data\":[[{\"data\":\"Variable\",\"prop\":{\"rowspan\":2}},{\"data\":\"Training\",\"prop\":{\"colspan\":2}},{\"data\":\"Validation\",\"prop\":{\"text-align\":\"left\",\"colspan\":2}},{\"data\":\"Prediction\",\"prop\":{\"colspan\":2}},{\"data\":\"Share\",\"prop\":{\"colspan\":3}}],[\"Minimum\",\"Maximum\",\"Minimum\",\"Maximum\",\"Minimum\",\"Maximum\",{\"data\":[\"Training\",{\"element\":\"sup\",\"data\":\"a\"}],\"prop\":{\"text-align\":\"right\"}},[\"Validation\",{\"element\":\"sup\",\"data\":\"b\"}],[\"Prediction\",{\"element\":\"sup\",\"data\":\"c\"}]],[\"bedrooms\",\"0.00\",\"33.00\",\"0.00\",\"11.00\",\"0.00\",\"33.00\",\"1.00\",\"0.33*\",\"1.00\"],[\"bathrooms\",\"0.00\",\"8.00\",\"0.00\",\"8.00\",\"0.00\",\"8.00\",\"1.00\",\"1.00\",\"1.00\"],[\"sqft_living\",\"290.00\",\"12050.00\",\"384.00\",\"13540.00\",\"290.00\",\"13540.00\",\"0.89*\",\"0.99*\",\"1.13+\"],[\"floors\",\"1.00\",\"3.50\",\"1.00\",\"3.50\",\"1.00\",\"3.50\",\"1.00\",\"1.00\",\"1.00\"],[\"view\",\"0.00\",\"4.00\",\"0.00\",\"4.00\",\"0.00\",\"4.00\",\"1.00\",\"1.00\",\"1.00\"],[\"sqft_above\",\"290.00\",\"8570.00\",\"384.00\",\"9410.00\",\"290.00\",\"9410.00\",\"0.91*\",\"0.99*\",\"1.10+\"],[\"sqft_basement\",\"0.00\",\"4820.00\",\"0.00\",\"4130.00\",\"0.00\",\"4820.00\",\"1.00\",\"0.86*\",\"1.00\"],[\"sqft_living15\",\"399.00\",\"6210.00\",\"460.00\",\"5790.00\",\"399.00\",\"6210.00\",\"1.00\",\"0.92*\",\"1.00\"]],\"elementProps\":{\"striped\":\"true\",\"footnote\":[\"(a) % of overlap between the ranges of the training data and the input explanatory variable\",\"(b) % of overlap between the ranges of the validation data and the training data\",\"(c) % of overlap between the ranges of the training data and the prediction data\",\"*  Data ranges do not coincide. Training or validation is occurring with incomplete data.\",\"+  Ranges of the training data and prediction data do not coincide and the tool is attempting to extrapolate.\"],\"title\":\"Explanatory Variable Range Diagnostics\",\"0\":{\"align\":\"left\",\"pad\":\"0px\",\"wrap\":true},\"1\":{\"align\":\"left\",\"pad\":\"0px\",\"wrap\":true},\"2\":{\"align\":\"left\",\"pad\":\"0px\",\"wrap\":true},\"3\":{\"align\":\"left\",\"pad\":\"0px\",\"wrap\":true},\"4\":{\"align\":\"left\",\"pad\":\"0px\",\"wrap\":true},\"5\":{\"align\":\"left\",\"pad\":\"0px\",\"wrap\":true},\"6\":{\"align\":\"left\",\"pad\":\"0px\",\"wrap\":true},\"7\":{\"align\":\"right\",\"pad\":\"0px\",\"wrap\":true},\"8\":{\"align\":\"right\",\"pad\":\"0px\",\"wrap\":true},\"9\":{\"align\":\"right\",\"pad\":\"0px\",\"wrap\":true}}}],\"Succeeded at Thursday, November 2, 2023 8:35:32 PM (Elapsed Time: 19.01 seconds)\"]' data-show='true'><div id = 'default' /></div></div>"
      ],
      "text/plain": [
       "<Result 'G:\\\\Proj_2\\\\Proj_2.gdb\\\\y_pred_rf'>"
      ]
     },
     "execution_count": 36,
     "metadata": {},
     "output_type": "execute_result"
    }
   ],
   "source": [
    "import arcpy\n",
    "\n",
    "arcpy.stats.Forest(\n",
    "    prediction_type=\"PREDICT_FEATURES\",\n",
    "    in_features=\"kc_house_data\",\n",
    "    variable_predict=\"price\",\n",
    "    treat_variable_as_categorical=None,\n",
    "    explanatory_variables=\"bedrooms false;bathrooms false;sqft_living false;view false;grade true;sqft_above false;sqft_living15 false;sqft_basement false;waterfront true;floors false;\",\n",
    "    distance_features=None,\n",
    "    explanatory_rasters=None,\n",
    "    features_to_predict=\"kc_house_data\",\n",
    "    output_features=r\"G:\\Proj_2\\Proj_2.gdb\\y_pred_rf\",\n",
    "    output_raster=None,\n",
    "    explanatory_variable_matching=\"bedrooms bedrooms;bathrooms bathrooms;sqft_living sqft_living;view view;grade grade;sqft_above sqft_above;sqft_living15 sqft_living15;sqft_basement sqft_basement;waterfront waterfront;floors floors;\",\n",
    "    explanatory_distance_matching=None,\n",
    "    explanatory_rasters_matching=None,\n",
    "    output_trained_features=None,\n",
    "    output_importance_table=r\"G:\\Proj_2\\Proj_2.gdb\\rf_var_importance\",\n",
    "    use_raster_values=\"TRUE\",\n",
    "    number_of_trees=100,\n",
    "    minimum_leaf_size=None,\n",
    "    maximum_depth=None,\n",
    "    sample_size=100,\n",
    "    random_variables=None,\n",
    "    percentage_for_training=20,\n",
    "    output_classification_table=None,\n",
    "    output_validation_table=None,\n",
    "    compensate_sparse_categories=\"FALSE\",\n",
    "    number_validation_runs=1,\n",
    "    calculate_uncertainty=\"FALSE\",\n",
    "    output_trained_model=None\n",
    ")"
   ]
  },
  {
   "cell_type": "code",
   "execution_count": 19,
   "metadata": {},
   "outputs": [
    {
     "data": {
      "text/html": [
       "<div>\n",
       "<style scoped>\n",
       "    .dataframe tbody tr th:only-of-type {\n",
       "        vertical-align: middle;\n",
       "    }\n",
       "\n",
       "    .dataframe tbody tr th {\n",
       "        vertical-align: top;\n",
       "    }\n",
       "\n",
       "    .dataframe thead th {\n",
       "        text-align: right;\n",
       "    }\n",
       "</style>\n",
       "<table border=\"1\" class=\"dataframe\">\n",
       "  <thead>\n",
       "    <tr style=\"text-align: right;\">\n",
       "      <th></th>\n",
       "      <th>OBJECTID</th>\n",
       "      <th>Shape</th>\n",
       "      <th>SOURCE_ID</th>\n",
       "      <th>BEDROOMS</th>\n",
       "      <th>BATHROOMS</th>\n",
       "      <th>SQFT_LIVING</th>\n",
       "      <th>VIEW</th>\n",
       "      <th>PREDICTED</th>\n",
       "    </tr>\n",
       "  </thead>\n",
       "  <tbody>\n",
       "    <tr>\n",
       "      <th>0</th>\n",
       "      <td>1</td>\n",
       "      <td>(-122.25699999999995, 47.51120000000003)</td>\n",
       "      <td>1</td>\n",
       "      <td>3</td>\n",
       "      <td>1.00</td>\n",
       "      <td>1180</td>\n",
       "      <td>0</td>\n",
       "      <td>374207.819100</td>\n",
       "    </tr>\n",
       "    <tr>\n",
       "      <th>1</th>\n",
       "      <td>2</td>\n",
       "      <td>(-122.31899999999996, 47.72100000000006)</td>\n",
       "      <td>2</td>\n",
       "      <td>3</td>\n",
       "      <td>2.25</td>\n",
       "      <td>2570</td>\n",
       "      <td>0</td>\n",
       "      <td>568534.043096</td>\n",
       "    </tr>\n",
       "  </tbody>\n",
       "</table>\n",
       "</div>"
      ],
      "text/plain": [
       "   OBJECTID                                     Shape  ...  VIEW      PREDICTED\n",
       "0         1  (-122.25699999999995, 47.51120000000003)  ...     0  374207.819100\n",
       "1         2  (-122.31899999999996, 47.72100000000006)  ...     0  568534.043096\n",
       "\n",
       "[2 rows x 8 columns]"
      ]
     },
     "execution_count": 19,
     "metadata": {},
     "output_type": "execute_result"
    }
   ],
   "source": [
    "df_rf = pd.DataFrame(data = [row for row in arcpy.da.SearchCursor('y_pred_rf', '*')], #Vectorize Data\n",
    "                   columns = [f.name for f in arcpy.ListFields('y_pred_rf')])\n",
    "df_rf.head(2)"
   ]
  },
  {
   "cell_type": "markdown",
   "metadata": {},
   "source": [
    "## Adjust Test Size"
   ]
  },
  {
   "cell_type": "code",
   "execution_count": 35,
   "metadata": {},
   "outputs": [
    {
     "data": {
      "text/html": [
       "<div class='gpresult'><h2>Messages</h2><div id='messages' data-messages='[\"Start Time: Thursday, November 2, 2023 8:34:33 PM\",\"Random Seed: 444475\",\"WARNING 001605: Distances for Geographic Coordinates (degrees, minutes, seconds) are analyzed using Chordal Distances in meters.\",\"WARNING 001605: Distances for Geographic Coordinates (degrees, minutes, seconds) are analyzed using Chordal Distances in meters.\",[{\"element\":\"table\",\"data\":[[\"Number of Trees\",\"100\"],[\"Leaf Size\",\"5\"],[\"Tree Depth Range\",\"29-41\"],[\"Mean Tree Depth\",\"32\"],[\"% of Training Available per Tree\",\"100\"],[\"Number of Randomly Sampled Variables\",\"3\"],[\"% of Training Data Excluded for Validation\",\"10\"]],\"elementProps\":{\"striped\":\"true\",\"noHeader\":true,\"title\":\"Model Characteristics\",\"0\":{\"align\":\"left\",\"pad\":\"0px\",\"wrap\":true},\"1\":{\"align\":\"right\",\"pad\":\"0px\",\"wrap\":true}}}],[{\"element\":\"table\",\"data\":[[\"Number of Trees\",\"50\",\"100\"],[\"MSE\",\"50712113350.835\",\"47132293811.701\"],[\"% of variation explained\",\"62.108\",\"64.782\"]],\"elementProps\":{\"striped\":\"true\",\"noHeader\":true,\"title\":\"Model Out of Bag Errors\",\"0\":{\"align\":\"left\",\"pad\":\"0px\",\"wrap\":true},\"1\":{\"align\":\"right\",\"pad\":\"0px\",\"wrap\":true},\"2\":{\"align\":\"right\",\"pad\":\"0px\",\"wrap\":true}}}],[{\"element\":\"table\",\"data\":[[\"Variable\",\"Importance\",\"%\"],[\"sqft_living\",\"641279672452240.88\",\"27\"],[\"grade\",\"522222246015010.94\",\"22\"],[\"sqft_living15\",\"320751811009008.50\",\"13\"],[\"sqft_above\",\"307704113521075.06\",\"13\"],[\"bathrooms\",\"179423583034293.41\",\"7\"],[\"sqft_basement\",\"139528534034789.72\",\"6\"],[\"view\",\"131391055053084.88\",\"5\"],[\"waterfront\",\"66131406966962.07\",\"3\"],[\"floors\",\"56751790597283.14\",\"2\"],[\"bedrooms\",\"51031011567119.23\",\"2\"]],\"elementProps\":{\"striped\":\"true\",\"title\":\"Top Variable Importance\",\"0\":{\"align\":\"left\",\"pad\":\"0px\",\"wrap\":true},\"1\":{\"align\":\"right\",\"pad\":\"0px\",\"wrap\":true},\"2\":{\"align\":\"right\",\"pad\":\"0px\",\"wrap\":true}}}],[{\"element\":\"table\",\"data\":[[\"R-Squared\",\"0.914\"],[\"p-value\",\"0.000\"],[\"Standard Error\",\"0.002\"]],\"elementProps\":{\"striped\":\"true\",\"noHeader\":true,\"footnote\":[\"*Predictions for the data used to train the model compared to the observed categories for those features\"],\"title\":\"Training Data: Regression Diagnostics\",\"0\":{\"align\":\"left\",\"pad\":\"0px\",\"wrap\":true},\"1\":{\"align\":\"right\",\"pad\":\"0px\",\"wrap\":true}}}],[{\"element\":\"table\",\"data\":[[\"R-Squared\",\"0.646\"],[\"p-value\",\"0.000\"],[\"Standard Error\",\"0.011\"]],\"elementProps\":{\"striped\":\"true\",\"noHeader\":true,\"footnote\":[\"*Predictions for the test data (excluded from model training) compared to the observed values for those test features\"],\"title\":\"Validation Data: Regression Diagnostics\",\"0\":{\"align\":\"left\",\"pad\":\"0px\",\"wrap\":true},\"1\":{\"align\":\"right\",\"pad\":\"0px\",\"wrap\":true}}}],\"\\n\",[{\"element\":\"table\",\"data\":[[{\"data\":\"Variable\",\"prop\":{\"rowspan\":2}},{\"data\":\"Training\",\"prop\":{\"colspan\":2}},{\"data\":\"Validation\",\"prop\":{\"text-align\":\"left\",\"colspan\":2}},{\"data\":\"Prediction\",\"prop\":{\"colspan\":2}},{\"data\":\"Share\",\"prop\":{\"colspan\":3}}],[\"Minimum\",\"Maximum\",\"Minimum\",\"Maximum\",\"Minimum\",\"Maximum\",{\"data\":[\"Training\",{\"element\":\"sup\",\"data\":\"a\"}],\"prop\":{\"text-align\":\"right\"}},[\"Validation\",{\"element\":\"sup\",\"data\":\"b\"}],[\"Prediction\",{\"element\":\"sup\",\"data\":\"c\"}]],[\"bedrooms\",\"0.00\",\"33.00\",\"0.00\",\"11.00\",\"0.00\",\"33.00\",\"1.00\",\"0.33*\",\"1.00\"],[\"bathrooms\",\"0.00\",\"8.00\",\"0.00\",\"8.00\",\"0.00\",\"8.00\",\"1.00\",\"1.00\",\"1.00\"],[\"sqft_living\",\"290.00\",\"12050.00\",\"420.00\",\"13540.00\",\"290.00\",\"13540.00\",\"0.89*\",\"0.99*\",\"1.13+\"],[\"floors\",\"1.00\",\"3.50\",\"1.00\",\"3.50\",\"1.00\",\"3.50\",\"1.00\",\"1.00\",\"1.00\"],[\"view\",\"0.00\",\"4.00\",\"0.00\",\"4.00\",\"0.00\",\"4.00\",\"1.00\",\"1.00\",\"1.00\"],[\"sqft_above\",\"290.00\",\"8860.00\",\"420.00\",\"9410.00\",\"290.00\",\"9410.00\",\"0.94*\",\"0.98*\",\"1.06+\"],[\"sqft_basement\",\"0.00\",\"4820.00\",\"0.00\",\"4130.00\",\"0.00\",\"4820.00\",\"1.00\",\"0.86*\",\"1.00\"],[\"sqft_living15\",\"399.00\",\"6210.00\",\"460.00\",\"5380.00\",\"399.00\",\"6210.00\",\"1.00\",\"0.85*\",\"1.00\"]],\"elementProps\":{\"striped\":\"true\",\"footnote\":[\"(a) % of overlap between the ranges of the training data and the input explanatory variable\",\"(b) % of overlap between the ranges of the validation data and the training data\",\"(c) % of overlap between the ranges of the training data and the prediction data\",\"*  Data ranges do not coincide. Training or validation is occurring with incomplete data.\",\"+  Ranges of the training data and prediction data do not coincide and the tool is attempting to extrapolate.\"],\"title\":\"Explanatory Variable Range Diagnostics\",\"0\":{\"align\":\"left\",\"pad\":\"0px\",\"wrap\":true},\"1\":{\"align\":\"left\",\"pad\":\"0px\",\"wrap\":true},\"2\":{\"align\":\"left\",\"pad\":\"0px\",\"wrap\":true},\"3\":{\"align\":\"left\",\"pad\":\"0px\",\"wrap\":true},\"4\":{\"align\":\"left\",\"pad\":\"0px\",\"wrap\":true},\"5\":{\"align\":\"left\",\"pad\":\"0px\",\"wrap\":true},\"6\":{\"align\":\"left\",\"pad\":\"0px\",\"wrap\":true},\"7\":{\"align\":\"right\",\"pad\":\"0px\",\"wrap\":true},\"8\":{\"align\":\"right\",\"pad\":\"0px\",\"wrap\":true},\"9\":{\"align\":\"right\",\"pad\":\"0px\",\"wrap\":true}}}],\"Succeeded at Thursday, November 2, 2023 8:34:53 PM (Elapsed Time: 19.82 seconds)\"]' data-show='true'><div id = 'default' /></div></div>"
      ],
      "text/plain": [
       "<Result 'G:\\\\Proj_2\\\\Proj_2.gdb\\\\y_pred_rf_10_TEST'>"
      ]
     },
     "execution_count": 35,
     "metadata": {},
     "output_type": "execute_result"
    }
   ],
   "source": [
    "import arcpy\n",
    "\n",
    "arcpy.stats.Forest(\n",
    "    prediction_type=\"PREDICT_FEATURES\",\n",
    "    in_features=\"kc_house_data\",\n",
    "    variable_predict=\"price\",\n",
    "    treat_variable_as_categorical=None,\n",
    "    explanatory_variables=\"bedrooms false;bathrooms false;sqft_living false;view false;grade true;sqft_above false;sqft_living15 false;sqft_basement false;waterfront true;floors false;\",\n",
    "    distance_features=None,\n",
    "    explanatory_rasters=None,\n",
    "    features_to_predict=\"kc_house_data\",\n",
    "    output_features=r\"G:\\Proj_2\\Proj_2.gdb\\y_pred_rf_10_TEST\",\n",
    "    output_raster=None,\n",
    "    explanatory_variable_matching=\"bedrooms bedrooms;bathrooms bathrooms;sqft_living sqft_living;view view;grade grade;sqft_above sqft_above;sqft_living15 sqft_living15;sqft_basement sqft_basement;waterfront waterfront;floors floors;\",\n",
    "    explanatory_distance_matching=None,\n",
    "    explanatory_rasters_matching=None,\n",
    "    output_trained_features=None,\n",
    "    output_importance_table=r\"G:\\Proj_2\\Proj_2.gdb\\rf_var_importance\",\n",
    "    use_raster_values=\"TRUE\",\n",
    "    number_of_trees=100,\n",
    "    minimum_leaf_size=None,\n",
    "    maximum_depth=None,\n",
    "    sample_size=100,\n",
    "    random_variables=None,\n",
    "    percentage_for_training=10,\n",
    "    output_classification_table=None,\n",
    "    output_validation_table=None,\n",
    "    compensate_sparse_categories=\"FALSE\",\n",
    "    number_validation_runs=1,\n",
    "    calculate_uncertainty=\"FALSE\",\n",
    "    output_trained_model=None\n",
    ")"
   ]
  },
  {
   "cell_type": "markdown",
   "metadata": {},
   "source": [
    "## Generalization Via Pruning"
   ]
  },
  {
   "cell_type": "code",
   "execution_count": 11,
   "metadata": {},
   "outputs": [
    {
     "data": {
      "text/html": [
       "<div class='gpresult'><h2>Messages</h2><div id='messages' data-messages='[\"Start Time: Thursday, November 2, 2023 10:56:53 PM\",\"Random Seed: 444475\",\"WARNING 001605: Distances for Geographic Coordinates (degrees, minutes, seconds) are analyzed using Chordal Distances in meters.\",\"WARNING 001605: Distances for Geographic Coordinates (degrees, minutes, seconds) are analyzed using Chordal Distances in meters.\",[{\"element\":\"table\",\"data\":[[\"Number of Trees\",\"100\"],[\"Leaf Size\",\"40\"],[\"Tree Depth Range\",\"20-20\"],[\"Mean Tree Depth\",\"20\"],[\"% of Training Available per Tree\",\"100\"],[\"Number of Randomly Sampled Variables\",\"3\"],[\"% of Training Data Excluded for Validation\",\"20\"]],\"elementProps\":{\"striped\":\"true\",\"noHeader\":true,\"title\":\"Model Characteristics\",\"0\":{\"align\":\"left\",\"pad\":\"0px\",\"wrap\":true},\"1\":{\"align\":\"right\",\"pad\":\"0px\",\"wrap\":true}}}],[{\"element\":\"table\",\"data\":[[\"Number of Trees\",\"50\",\"100\"],[\"MSE\",\"46366066880.324\",\"44600260586.503\"],[\"% of variation explained\",\"64.775\",\"66.116\"]],\"elementProps\":{\"striped\":\"true\",\"noHeader\":true,\"title\":\"Model Out of Bag Errors\",\"0\":{\"align\":\"left\",\"pad\":\"0px\",\"wrap\":true},\"1\":{\"align\":\"right\",\"pad\":\"0px\",\"wrap\":true},\"2\":{\"align\":\"right\",\"pad\":\"0px\",\"wrap\":true}}}],[{\"element\":\"table\",\"data\":[[\"Variable\",\"Importance\",\"%\"],[\"grade\",\"484160651409196.38\",\"28\"],[\"sqft_living\",\"472428545411453.06\",\"27\"],[\"sqft_living15\",\"215382051081032.81\",\"12\"],[\"sqft_above\",\"199181194794923.47\",\"11\"],[\"bathrooms\",\"100950473461864.70\",\"6\"],[\"view\",\"94625848621778.30\",\"5\"],[\"sqft_basement\",\"77971586749370.61\",\"4\"],[\"waterfront\",\"58980980986935.70\",\"3\"],[\"floors\",\"31443959716713.05\",\"2\"],[\"bedrooms\",\"16732866840525.23\",\"1\"]],\"elementProps\":{\"striped\":\"true\",\"title\":\"Top Variable Importance\",\"0\":{\"align\":\"left\",\"pad\":\"0px\",\"wrap\":true},\"1\":{\"align\":\"right\",\"pad\":\"0px\",\"wrap\":true},\"2\":{\"align\":\"right\",\"pad\":\"0px\",\"wrap\":true}}}],[{\"element\":\"table\",\"data\":[[\"R-Squared\",\"0.786\"],[\"p-value\",\"0.000\"],[\"Standard Error\",\"0.003\"]],\"elementProps\":{\"striped\":\"true\",\"noHeader\":true,\"footnote\":[\"*Predictions for the data used to train the model compared to the observed categories for those features\"],\"title\":\"Training Data: Regression Diagnostics\",\"0\":{\"align\":\"left\",\"pad\":\"0px\",\"wrap\":true},\"1\":{\"align\":\"right\",\"pad\":\"0px\",\"wrap\":true}}}],[{\"element\":\"table\",\"data\":[[\"R-Squared\",\"0.678\"],[\"p-value\",\"0.000\"],[\"Standard Error\",\"0.007\"]],\"elementProps\":{\"striped\":\"true\",\"noHeader\":true,\"footnote\":[\"*Predictions for the test data (excluded from model training) compared to the observed values for those test features\"],\"title\":\"Validation Data: Regression Diagnostics\",\"0\":{\"align\":\"left\",\"pad\":\"0px\",\"wrap\":true},\"1\":{\"align\":\"right\",\"pad\":\"0px\",\"wrap\":true}}}],\"\\n\",[{\"element\":\"table\",\"data\":[[{\"data\":\"Variable\",\"prop\":{\"rowspan\":2}},{\"data\":\"Training\",\"prop\":{\"colspan\":2}},{\"data\":\"Validation\",\"prop\":{\"text-align\":\"left\",\"colspan\":2}},{\"data\":\"Prediction\",\"prop\":{\"colspan\":2}},{\"data\":\"Share\",\"prop\":{\"colspan\":3}}],[\"Minimum\",\"Maximum\",\"Minimum\",\"Maximum\",\"Minimum\",\"Maximum\",{\"data\":[\"Training\",{\"element\":\"sup\",\"data\":\"a\"}],\"prop\":{\"text-align\":\"right\"}},[\"Validation\",{\"element\":\"sup\",\"data\":\"b\"}],[\"Prediction\",{\"element\":\"sup\",\"data\":\"c\"}]],[\"bedrooms\",\"0.00\",\"33.00\",\"0.00\",\"11.00\",\"0.00\",\"33.00\",\"1.00\",\"0.33*\",\"1.00\"],[\"bathrooms\",\"0.00\",\"8.00\",\"0.00\",\"8.00\",\"0.00\",\"8.00\",\"1.00\",\"1.00\",\"1.00\"],[\"sqft_living\",\"290.00\",\"12050.00\",\"384.00\",\"13540.00\",\"290.00\",\"13540.00\",\"0.89*\",\"0.99*\",\"1.13+\"],[\"floors\",\"1.00\",\"3.50\",\"1.00\",\"3.50\",\"1.00\",\"3.50\",\"1.00\",\"1.00\",\"1.00\"],[\"view\",\"0.00\",\"4.00\",\"0.00\",\"4.00\",\"0.00\",\"4.00\",\"1.00\",\"1.00\",\"1.00\"],[\"sqft_above\",\"290.00\",\"8570.00\",\"384.00\",\"9410.00\",\"290.00\",\"9410.00\",\"0.91*\",\"0.99*\",\"1.10+\"],[\"sqft_basement\",\"0.00\",\"4820.00\",\"0.00\",\"4130.00\",\"0.00\",\"4820.00\",\"1.00\",\"0.86*\",\"1.00\"],[\"sqft_living15\",\"399.00\",\"6210.00\",\"460.00\",\"5790.00\",\"399.00\",\"6210.00\",\"1.00\",\"0.92*\",\"1.00\"]],\"elementProps\":{\"striped\":\"true\",\"footnote\":[\"(a) % of overlap between the ranges of the training data and the input explanatory variable\",\"(b) % of overlap between the ranges of the validation data and the training data\",\"(c) % of overlap between the ranges of the training data and the prediction data\",\"*  Data ranges do not coincide. Training or validation is occurring with incomplete data.\",\"+  Ranges of the training data and prediction data do not coincide and the tool is attempting to extrapolate.\"],\"title\":\"Explanatory Variable Range Diagnostics\",\"0\":{\"align\":\"left\",\"pad\":\"0px\",\"wrap\":true},\"1\":{\"align\":\"left\",\"pad\":\"0px\",\"wrap\":true},\"2\":{\"align\":\"left\",\"pad\":\"0px\",\"wrap\":true},\"3\":{\"align\":\"left\",\"pad\":\"0px\",\"wrap\":true},\"4\":{\"align\":\"left\",\"pad\":\"0px\",\"wrap\":true},\"5\":{\"align\":\"left\",\"pad\":\"0px\",\"wrap\":true},\"6\":{\"align\":\"left\",\"pad\":\"0px\",\"wrap\":true},\"7\":{\"align\":\"right\",\"pad\":\"0px\",\"wrap\":true},\"8\":{\"align\":\"right\",\"pad\":\"0px\",\"wrap\":true},\"9\":{\"align\":\"right\",\"pad\":\"0px\",\"wrap\":true}}}],\"Succeeded at Thursday, November 2, 2023 10:57:07 PM (Elapsed Time: 14.10 seconds)\"]' data-show='true'><div id = 'default' /></div></div>"
      ],
      "text/plain": [
       "<Result 'G:\\\\Proj_2\\\\Proj_2.gdb\\\\y_pred_rf_depth_20'>"
      ]
     },
     "execution_count": 11,
     "metadata": {},
     "output_type": "execute_result"
    }
   ],
   "source": [
    "max_depth = 20\n",
    "min_leaf = 40\n",
    "arcpy.stats.Forest(\n",
    "    prediction_type=\"PREDICT_FEATURES\",\n",
    "    in_features=\"kc_house_data\",\n",
    "    variable_predict=\"price\",\n",
    "    treat_variable_as_categorical=None,\n",
    "    explanatory_variables=\"bedrooms false;bathrooms false;sqft_living false;view false;grade true;sqft_above false;sqft_living15 false;sqft_basement false;waterfront true;floors false;\",\n",
    "    distance_features=None,\n",
    "    explanatory_rasters=None,\n",
    "    features_to_predict=\"kc_house_data\",\n",
    "    output_features=f\"G:\\Proj_2\\Proj_2.gdb\\y_pred_rf_depth_{max_depth}\",\n",
    "    output_raster=None,\n",
    "    explanatory_variable_matching=\"bedrooms bedrooms;bathrooms bathrooms;sqft_living sqft_living;view view;grade grade;sqft_above sqft_above;sqft_living15 sqft_living15;sqft_basement sqft_basement;waterfront waterfront;floors floors;\",\n",
    "    explanatory_distance_matching=None,\n",
    "    explanatory_rasters_matching=None,\n",
    "    output_trained_features=None,\n",
    "    output_importance_table= r\"G:\\Proj_2\\Proj_2.gdb\\rf_var_importance\",\n",
    "    use_raster_values=\"TRUE\",\n",
    "    number_of_trees=100,\n",
    "    minimum_leaf_size=min_leaf,\n",
    "    maximum_depth=max_depth,\n",
    "    sample_size=100,\n",
    "    random_variables=None,\n",
    "    percentage_for_training=20,\n",
    "    output_classification_table=None,\n",
    "    output_validation_table=None,\n",
    "    compensate_sparse_categories=\"FALSE\",\n",
    "    number_validation_runs=1,\n",
    "    calculate_uncertainty=\"FALSE\",\n",
    "    output_trained_model=None\n",
    ")"
   ]
  },
  {
   "cell_type": "code",
   "execution_count": null,
   "metadata": {},
   "outputs": [],
   "source": [
    "df_rf = pd.DataFrame(data = [row for row in arcpy.da.SearchCursor('y_pred_rf', '*')], #Vectorize Data\n",
    "                   columns = [f.name for f in arcpy.ListFields('y_pred_rf')])\n",
    "df_rf.head(2)"
   ]
  },
  {
   "cell_type": "markdown",
   "metadata": {},
   "source": [
    "### Cluster Association Analysis (High-Price)"
   ]
  },
  {
   "cell_type": "code",
   "execution_count": 1,
   "metadata": {},
   "outputs": [],
   "source": [
    "arcpy.stats.ClustersOutliers(\n",
    "    Input_Feature_Class=\"kc_house_data\",\n",
    "    Input_Field=\"price\",\n",
    "    Output_Feature_Class=r\"G:\\Proj_2\\Proj_2.gdb\\kc_house_data_ClustersOutliers\",\n",
    "    Conceptualization_of_Spatial_Relationships=\"INVERSE_DISTANCE\",\n",
    "    Distance_Method=\"EUCLIDEAN_DISTANCE\",\n",
    "    Standardization=\"ROW\",\n",
    "    Distance_Band_or_Threshold_Distance=None,\n",
    "    Weights_Matrix_File=None,\n",
    "    Apply_False_Discovery_Rate__FDR__Correction=\"NO_FDR\",\n",
    "    Number_of_Permutations=499,\n",
    "    number_of_neighbors=None\n",
    ")"
   ]
  },
  {
   "cell_type": "code",
   "execution_count": null,
   "metadata": {},
   "outputs": [],
   "source": [
    "arcpy.conversion.ExportFeatures(\n",
    "    in_features=\"kc_house_data\",\n",
    "    out_features=r\"G:\\Proj_2\\Proj_2.gdb\\high_price_clusters\",\n",
    "    where_clause=\"\",\n",
    "    use_field_alias_as_name=\"NOT_USE_ALIAS\",\n",
    "    field_mapping='id \"id\" true true false 8 Double 0 0,First,#,kc_house_data,id,-1,-1;date \"date\" true true false 8000 Text 0 0,First,#,kc_house_data,date,0,8000;price \"price\" true true false 8 Double 0 0,First,#,kc_house_data,price,-1,-1;bedrooms \"bedrooms\" true true false 4 Long 0 0,First,#,kc_house_data,bedrooms,-1,-1;bathrooms \"bathrooms\" true true false 8 Double 0 0,First,#,kc_house_data,bathrooms,-1,-1;sqft_living \"sqft_living\" true true false 4 Long 0 0,First,#,kc_house_data,sqft_living,-1,-1;sqft_lot \"sqft_lot\" true true false 4 Long 0 0,First,#,kc_house_data,sqft_lot,-1,-1;floors \"floors\" true true false 8 Double 0 0,First,#,kc_house_data,floors,-1,-1;waterfront \"waterfront\" true true false 4 Long 0 0,First,#,kc_house_data,waterfront,-1,-1;view \"view\" true true false 4 Long 0 0,First,#,kc_house_data,view,-1,-1;condition \"condition\" true true false 4 Long 0 0,First,#,kc_house_data,condition,-1,-1;grade \"grade\" true true false 4 Long 0 0,First,#,kc_house_data,grade,-1,-1;sqft_above \"sqft_above\" true true false 4 Long 0 0,First,#,kc_house_data,sqft_above,-1,-1;sqft_basement \"sqft_basement\" true true false 4 Long 0 0,First,#,kc_house_data,sqft_basement,-1,-1;yr_built \"yr_built\" true true false 4 Long 0 0,First,#,kc_house_data,yr_built,-1,-1;yr_renovated \"yr_renovated\" true true false 4 Long 0 0,First,#,kc_house_data,yr_renovated,-1,-1;zipcode \"zipcode\" true true false 4 Long 0 0,First,#,kc_house_data,zipcode,-1,-1;lat \"lat\" true true false 8 Double 0 0,First,#,kc_house_data,lat,-1,-1;long \"long\" true true false 8 Double 0 0,First,#,kc_house_data,long,-1,-1;sqft_living15 \"sqft_living15\" true true false 4 Long 0 0,First,#,kc_house_data,sqft_living15,-1,-1;sqft_lot15 \"sqft_lot15\" true true false 4 Long 0 0,First,#,kc_house_data,sqft_lot15,-1,-1',\n",
    "    sort_field=None\n",
    ")"
   ]
  },
  {
   "cell_type": "code",
   "execution_count": 31,
   "metadata": {},
   "outputs": [
    {
     "data": {
      "text/html": [
       "<div>\n",
       "<style scoped>\n",
       "    .dataframe tbody tr th:only-of-type {\n",
       "        vertical-align: middle;\n",
       "    }\n",
       "\n",
       "    .dataframe tbody tr th {\n",
       "        vertical-align: top;\n",
       "    }\n",
       "\n",
       "    .dataframe thead th {\n",
       "        text-align: right;\n",
       "    }\n",
       "</style>\n",
       "<table border=\"1\" class=\"dataframe\">\n",
       "  <thead>\n",
       "    <tr style=\"text-align: right;\">\n",
       "      <th></th>\n",
       "      <th>OBJECTID</th>\n",
       "      <th>Shape</th>\n",
       "      <th>id</th>\n",
       "      <th>date</th>\n",
       "      <th>price</th>\n",
       "      <th>bedrooms</th>\n",
       "      <th>bathrooms</th>\n",
       "      <th>sqft_living</th>\n",
       "      <th>sqft_lot</th>\n",
       "      <th>floors</th>\n",
       "      <th>waterfront</th>\n",
       "      <th>view</th>\n",
       "      <th>condition</th>\n",
       "      <th>grade</th>\n",
       "      <th>sqft_above</th>\n",
       "      <th>sqft_basement</th>\n",
       "      <th>yr_built</th>\n",
       "      <th>yr_renovated</th>\n",
       "      <th>zipcode</th>\n",
       "      <th>lat</th>\n",
       "      <th>long</th>\n",
       "      <th>sqft_living15</th>\n",
       "      <th>sqft_lot15</th>\n",
       "    </tr>\n",
       "  </thead>\n",
       "  <tbody>\n",
       "    <tr>\n",
       "      <th>0</th>\n",
       "      <td>1</td>\n",
       "      <td>(-122.23299999999995, 47.531600000000026)</td>\n",
       "      <td>2.524049e+09</td>\n",
       "      <td>20140826T000000</td>\n",
       "      <td>2000000.0</td>\n",
       "      <td>3</td>\n",
       "      <td>2.75</td>\n",
       "      <td>3050</td>\n",
       "      <td>44867</td>\n",
       "      <td>1.0</td>\n",
       "      <td>0</td>\n",
       "      <td>4</td>\n",
       "      <td>3</td>\n",
       "      <td>9</td>\n",
       "      <td>2330</td>\n",
       "      <td>720</td>\n",
       "      <td>1968</td>\n",
       "      <td>0</td>\n",
       "      <td>98040</td>\n",
       "      <td>47.5316</td>\n",
       "      <td>-122.233</td>\n",
       "      <td>4110</td>\n",
       "      <td>20336</td>\n",
       "    </tr>\n",
       "    <tr>\n",
       "      <th>1</th>\n",
       "      <td>2</td>\n",
       "      <td>(-122.19199999999995, 47.58150000000006)</td>\n",
       "      <td>3.394100e+09</td>\n",
       "      <td>20140909T000000</td>\n",
       "      <td>975000.0</td>\n",
       "      <td>4</td>\n",
       "      <td>2.50</td>\n",
       "      <td>2720</td>\n",
       "      <td>11049</td>\n",
       "      <td>2.0</td>\n",
       "      <td>0</td>\n",
       "      <td>0</td>\n",
       "      <td>3</td>\n",
       "      <td>10</td>\n",
       "      <td>2720</td>\n",
       "      <td>0</td>\n",
       "      <td>1989</td>\n",
       "      <td>0</td>\n",
       "      <td>98004</td>\n",
       "      <td>47.5815</td>\n",
       "      <td>-122.192</td>\n",
       "      <td>2750</td>\n",
       "      <td>11049</td>\n",
       "    </tr>\n",
       "  </tbody>\n",
       "</table>\n",
       "</div>"
      ],
      "text/plain": [
       "   OBJECTID  ... sqft_lot15\n",
       "0         1  ...      20336\n",
       "1         2  ...      11049\n",
       "\n",
       "[2 rows x 23 columns]"
      ]
     },
     "execution_count": 31,
     "metadata": {},
     "output_type": "execute_result"
    }
   ],
   "source": [
    "#Initialize DF\n",
    "arcpy.env.workspace = r'G:\\Proj_2\\Proj_2.gdb'\n",
    "\n",
    "df_high = pd.DataFrame(data = [row for row in arcpy.da.SearchCursor('high_price_clusters', '*')],\n",
    "                   columns = [f.name for f in arcpy.ListFields('high_price_clusters')])\n",
    "df_high.head(2)"
   ]
  },
  {
   "cell_type": "code",
   "execution_count": 32,
   "metadata": {},
   "outputs": [
    {
     "data": {
      "text/html": [
       "<div>\n",
       "<style scoped>\n",
       "    .dataframe tbody tr th:only-of-type {\n",
       "        vertical-align: middle;\n",
       "    }\n",
       "\n",
       "    .dataframe tbody tr th {\n",
       "        vertical-align: top;\n",
       "    }\n",
       "\n",
       "    .dataframe thead th {\n",
       "        text-align: right;\n",
       "    }\n",
       "</style>\n",
       "<table border=\"1\" class=\"dataframe\">\n",
       "  <thead>\n",
       "    <tr style=\"text-align: right;\">\n",
       "      <th></th>\n",
       "      <th>price</th>\n",
       "    </tr>\n",
       "  </thead>\n",
       "  <tbody>\n",
       "    <tr>\n",
       "      <th>sqft_living</th>\n",
       "      <td>0.659822</td>\n",
       "    </tr>\n",
       "    <tr>\n",
       "      <th>sqft_above</th>\n",
       "      <td>0.555179</td>\n",
       "    </tr>\n",
       "    <tr>\n",
       "      <th>grade</th>\n",
       "      <td>0.463040</td>\n",
       "    </tr>\n",
       "    <tr>\n",
       "      <th>bathrooms</th>\n",
       "      <td>0.452633</td>\n",
       "    </tr>\n",
       "    <tr>\n",
       "      <th>sqft_living15</th>\n",
       "      <td>0.301050</td>\n",
       "    </tr>\n",
       "    <tr>\n",
       "      <th>view</th>\n",
       "      <td>0.184625</td>\n",
       "    </tr>\n",
       "    <tr>\n",
       "      <th>bedrooms</th>\n",
       "      <td>0.141871</td>\n",
       "    </tr>\n",
       "    <tr>\n",
       "      <th>waterfront</th>\n",
       "      <td>0.140096</td>\n",
       "    </tr>\n",
       "    <tr>\n",
       "      <th>sqft_basement</th>\n",
       "      <td>0.104526</td>\n",
       "    </tr>\n",
       "    <tr>\n",
       "      <th>yr_built</th>\n",
       "      <td>0.098913</td>\n",
       "    </tr>\n",
       "    <tr>\n",
       "      <th>floors</th>\n",
       "      <td>0.095820</td>\n",
       "    </tr>\n",
       "    <tr>\n",
       "      <th>sqft_lot</th>\n",
       "      <td>0.075555</td>\n",
       "    </tr>\n",
       "    <tr>\n",
       "      <th>sqft_lot15</th>\n",
       "      <td>0.060845</td>\n",
       "    </tr>\n",
       "    <tr>\n",
       "      <th>yr_renovated</th>\n",
       "      <td>0.018277</td>\n",
       "    </tr>\n",
       "    <tr>\n",
       "      <th>id</th>\n",
       "      <td>0.006646</td>\n",
       "    </tr>\n",
       "    <tr>\n",
       "      <th>OBJECTID</th>\n",
       "      <td>0.003282</td>\n",
       "    </tr>\n",
       "    <tr>\n",
       "      <th>lat</th>\n",
       "      <td>0.002498</td>\n",
       "    </tr>\n",
       "    <tr>\n",
       "      <th>zipcode</th>\n",
       "      <td>0.007756</td>\n",
       "    </tr>\n",
       "    <tr>\n",
       "      <th>condition</th>\n",
       "      <td>0.031727</td>\n",
       "    </tr>\n",
       "    <tr>\n",
       "      <th>long</th>\n",
       "      <td>0.069626</td>\n",
       "    </tr>\n",
       "  </tbody>\n",
       "</table>\n",
       "</div>"
      ],
      "text/plain": [
       "                  price\n",
       "sqft_living    0.659822\n",
       "sqft_above     0.555179\n",
       "grade          0.463040\n",
       "bathrooms      0.452633\n",
       "sqft_living15  0.301050\n",
       "view           0.184625\n",
       "bedrooms       0.141871\n",
       "waterfront     0.140096\n",
       "sqft_basement  0.104526\n",
       "yr_built       0.098913\n",
       "floors         0.095820\n",
       "sqft_lot       0.075555\n",
       "sqft_lot15     0.060845\n",
       "yr_renovated   0.018277\n",
       "id             0.006646\n",
       "OBJECTID       0.003282\n",
       "lat            0.002498\n",
       "zipcode        0.007756\n",
       "condition      0.031727\n",
       "long           0.069626"
      ]
     },
     "execution_count": 32,
     "metadata": {},
     "output_type": "execute_result"
    }
   ],
   "source": [
    "#Coefficient Determination\n",
    "r2_high = df_high.corr()[['price']].sort_values(by='price', ascending=False).iloc[1:]\n",
    "r2_high['price'] = r2_high['price'].apply(lambda i: i**2) #Compute R2\n",
    "r2_high"
   ]
  }
 ],
 "metadata": {
  "kernelspec": {
   "display_name": "ArcGISPro",
   "language": "Python",
   "name": "python3"
  },
  "language_info": {
   "file_extension": ".py",
   "name": "python",
   "version": "3"
  }
 },
 "nbformat": 4,
 "nbformat_minor": 2
}
