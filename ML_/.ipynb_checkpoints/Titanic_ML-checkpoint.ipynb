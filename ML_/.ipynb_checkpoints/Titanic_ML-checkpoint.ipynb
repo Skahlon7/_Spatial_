{
 "cells": [
  {
   "cell_type": "markdown",
   "id": "2a5cf79e",
   "metadata": {},
   "source": [
    "# Titanic Analysis + Modeling\n",
    "- ML Applications : Classification, Deep Learning"
   ]
  },
  {
   "cell_type": "markdown",
   "id": "678cb401",
   "metadata": {},
   "source": [
    "### Read in Dataset"
   ]
  },
  {
   "cell_type": "code",
   "execution_count": 11,
   "id": "a43ffa03",
   "metadata": {},
   "outputs": [],
   "source": [
    "import matplotlib.pyplot as plt\n",
    "import numpy as np\n",
    "import pandas as pd\n",
    "import seaborn as sns\n",
    "%matplotlib inline"
   ]
  },
  {
   "cell_type": "code",
   "execution_count": 50,
   "id": "11b6b375",
   "metadata": {},
   "outputs": [],
   "source": [
    "import pandas as pd\n",
    "titanic_df = pd.read_csv('/Users/sandeepk/Desktop/Ex_Files_Machine_Learning_Algorithms/Exercise Files/titanic.csv')"
   ]
  },
  {
   "cell_type": "code",
   "execution_count": 5,
   "id": "6fab6d72",
   "metadata": {},
   "outputs": [
    {
     "data": {
      "text/html": [
       "<div>\n",
       "<style scoped>\n",
       "    .dataframe tbody tr th:only-of-type {\n",
       "        vertical-align: middle;\n",
       "    }\n",
       "\n",
       "    .dataframe tbody tr th {\n",
       "        vertical-align: top;\n",
       "    }\n",
       "\n",
       "    .dataframe thead th {\n",
       "        text-align: right;\n",
       "    }\n",
       "</style>\n",
       "<table border=\"1\" class=\"dataframe\">\n",
       "  <thead>\n",
       "    <tr style=\"text-align: right;\">\n",
       "      <th></th>\n",
       "      <th>PassengerId</th>\n",
       "      <th>Survived</th>\n",
       "      <th>Pclass</th>\n",
       "      <th>Name</th>\n",
       "      <th>Sex</th>\n",
       "      <th>Age</th>\n",
       "      <th>SibSp</th>\n",
       "      <th>Parch</th>\n",
       "      <th>Ticket</th>\n",
       "      <th>Fare</th>\n",
       "      <th>Cabin</th>\n",
       "      <th>Embarked</th>\n",
       "    </tr>\n",
       "  </thead>\n",
       "  <tbody>\n",
       "    <tr>\n",
       "      <th>0</th>\n",
       "      <td>1</td>\n",
       "      <td>0</td>\n",
       "      <td>3</td>\n",
       "      <td>Braund, Mr. Owen Harris</td>\n",
       "      <td>male</td>\n",
       "      <td>22.0</td>\n",
       "      <td>1</td>\n",
       "      <td>0</td>\n",
       "      <td>A/5 21171</td>\n",
       "      <td>7.2500</td>\n",
       "      <td>NaN</td>\n",
       "      <td>S</td>\n",
       "    </tr>\n",
       "    <tr>\n",
       "      <th>1</th>\n",
       "      <td>2</td>\n",
       "      <td>1</td>\n",
       "      <td>1</td>\n",
       "      <td>Cumings, Mrs. John Bradley (Florence Briggs Th...</td>\n",
       "      <td>female</td>\n",
       "      <td>38.0</td>\n",
       "      <td>1</td>\n",
       "      <td>0</td>\n",
       "      <td>PC 17599</td>\n",
       "      <td>71.2833</td>\n",
       "      <td>C85</td>\n",
       "      <td>C</td>\n",
       "    </tr>\n",
       "    <tr>\n",
       "      <th>2</th>\n",
       "      <td>3</td>\n",
       "      <td>1</td>\n",
       "      <td>3</td>\n",
       "      <td>Heikkinen, Miss. Laina</td>\n",
       "      <td>female</td>\n",
       "      <td>26.0</td>\n",
       "      <td>0</td>\n",
       "      <td>0</td>\n",
       "      <td>STON/O2. 3101282</td>\n",
       "      <td>7.9250</td>\n",
       "      <td>NaN</td>\n",
       "      <td>S</td>\n",
       "    </tr>\n",
       "  </tbody>\n",
       "</table>\n",
       "</div>"
      ],
      "text/plain": [
       "   PassengerId  Survived  Pclass  \\\n",
       "0            1         0       3   \n",
       "1            2         1       1   \n",
       "2            3         1       3   \n",
       "\n",
       "                                                Name     Sex   Age  SibSp  \\\n",
       "0                            Braund, Mr. Owen Harris    male  22.0      1   \n",
       "1  Cumings, Mrs. John Bradley (Florence Briggs Th...  female  38.0      1   \n",
       "2                             Heikkinen, Miss. Laina  female  26.0      0   \n",
       "\n",
       "   Parch            Ticket     Fare Cabin Embarked  \n",
       "0      0         A/5 21171   7.2500   NaN        S  \n",
       "1      0          PC 17599  71.2833   C85        C  \n",
       "2      0  STON/O2. 3101282   7.9250   NaN        S  "
      ]
     },
     "execution_count": 5,
     "metadata": {},
     "output_type": "execute_result"
    }
   ],
   "source": [
    "titanic_df.head(3)"
   ]
  },
  {
   "cell_type": "code",
   "execution_count": 9,
   "id": "e392eec7",
   "metadata": {},
   "outputs": [
    {
     "data": {
      "text/plain": [
       "PassengerId      0\n",
       "Survived         0\n",
       "Pclass           0\n",
       "Name             0\n",
       "Sex              0\n",
       "Age            177\n",
       "SibSp            0\n",
       "Parch            0\n",
       "Ticket           0\n",
       "Fare             0\n",
       "Cabin          687\n",
       "Embarked         2\n",
       "dtype: int64"
      ]
     },
     "execution_count": 9,
     "metadata": {},
     "output_type": "execute_result"
    }
   ],
   "source": [
    "#null value count\n",
    "titanic_df.isnull().sum()"
   ]
  },
  {
   "cell_type": "code",
   "execution_count": 51,
   "id": "402865f9",
   "metadata": {},
   "outputs": [],
   "source": [
    "#impute missing age values with mean\n",
    "titanic_df['Age'].fillna(titanic_df['Age'].mean(), inplace=True)"
   ]
  },
  {
   "cell_type": "code",
   "execution_count": 52,
   "id": "6e4abecc",
   "metadata": {},
   "outputs": [],
   "source": [
    "#Create family column\n",
    "titanic_df['Family_cnt'] = (lambda x,y: (x+y))(titanic_df['SibSp'],titanic_df['Parch'])"
   ]
  },
  {
   "cell_type": "code",
   "execution_count": 60,
   "id": "00cb708b",
   "metadata": {},
   "outputs": [
    {
     "name": "stdout",
     "output_type": "stream",
     "text": [
      "True\n"
     ]
    }
   ],
   "source": [
    "#Drop unneccessary vars\n",
    "try:\n",
    "    titanic_df.drop(['PassengerId', 'SibSp', 'Parch'], axis=1, inplace=True)\n",
    "    titanic_df.drop(['Cabin', 'Embarked', 'Name', 'Ticket', 'Sex'], axis=1, inplace=True)\n",
    "except KeyError:\n",
    "    print(True)"
   ]
  },
  {
   "cell_type": "code",
   "execution_count": 54,
   "id": "7af4fa24",
   "metadata": {},
   "outputs": [],
   "source": [
    "#Sex to numeric\n",
    "mapped_vars = {'male': 0, 'female': 1}\n",
    "titanic_df['Gender'] = titanic_df['Sex'].map(mapped_vars)"
   ]
  },
  {
   "cell_type": "code",
   "execution_count": 56,
   "id": "20a07ae9",
   "metadata": {},
   "outputs": [
    {
     "data": {
      "text/html": [
       "<div>\n",
       "<style scoped>\n",
       "    .dataframe tbody tr th:only-of-type {\n",
       "        vertical-align: middle;\n",
       "    }\n",
       "\n",
       "    .dataframe tbody tr th {\n",
       "        vertical-align: top;\n",
       "    }\n",
       "\n",
       "    .dataframe thead th {\n",
       "        text-align: right;\n",
       "    }\n",
       "</style>\n",
       "<table border=\"1\" class=\"dataframe\">\n",
       "  <thead>\n",
       "    <tr style=\"text-align: right;\">\n",
       "      <th></th>\n",
       "      <th>Survived</th>\n",
       "      <th>Pclass</th>\n",
       "      <th>Age</th>\n",
       "      <th>Fare</th>\n",
       "      <th>Family_cnt</th>\n",
       "      <th>Gender</th>\n",
       "    </tr>\n",
       "  </thead>\n",
       "  <tbody>\n",
       "    <tr>\n",
       "      <th>0</th>\n",
       "      <td>0</td>\n",
       "      <td>3</td>\n",
       "      <td>22.000000</td>\n",
       "      <td>7.2500</td>\n",
       "      <td>1</td>\n",
       "      <td>0</td>\n",
       "    </tr>\n",
       "    <tr>\n",
       "      <th>1</th>\n",
       "      <td>1</td>\n",
       "      <td>1</td>\n",
       "      <td>38.000000</td>\n",
       "      <td>71.2833</td>\n",
       "      <td>1</td>\n",
       "      <td>1</td>\n",
       "    </tr>\n",
       "    <tr>\n",
       "      <th>2</th>\n",
       "      <td>1</td>\n",
       "      <td>3</td>\n",
       "      <td>26.000000</td>\n",
       "      <td>7.9250</td>\n",
       "      <td>0</td>\n",
       "      <td>1</td>\n",
       "    </tr>\n",
       "    <tr>\n",
       "      <th>3</th>\n",
       "      <td>1</td>\n",
       "      <td>1</td>\n",
       "      <td>35.000000</td>\n",
       "      <td>53.1000</td>\n",
       "      <td>1</td>\n",
       "      <td>1</td>\n",
       "    </tr>\n",
       "    <tr>\n",
       "      <th>4</th>\n",
       "      <td>0</td>\n",
       "      <td>3</td>\n",
       "      <td>35.000000</td>\n",
       "      <td>8.0500</td>\n",
       "      <td>0</td>\n",
       "      <td>0</td>\n",
       "    </tr>\n",
       "    <tr>\n",
       "      <th>...</th>\n",
       "      <td>...</td>\n",
       "      <td>...</td>\n",
       "      <td>...</td>\n",
       "      <td>...</td>\n",
       "      <td>...</td>\n",
       "      <td>...</td>\n",
       "    </tr>\n",
       "    <tr>\n",
       "      <th>886</th>\n",
       "      <td>0</td>\n",
       "      <td>2</td>\n",
       "      <td>27.000000</td>\n",
       "      <td>13.0000</td>\n",
       "      <td>0</td>\n",
       "      <td>0</td>\n",
       "    </tr>\n",
       "    <tr>\n",
       "      <th>887</th>\n",
       "      <td>1</td>\n",
       "      <td>1</td>\n",
       "      <td>19.000000</td>\n",
       "      <td>30.0000</td>\n",
       "      <td>0</td>\n",
       "      <td>1</td>\n",
       "    </tr>\n",
       "    <tr>\n",
       "      <th>888</th>\n",
       "      <td>0</td>\n",
       "      <td>3</td>\n",
       "      <td>29.699118</td>\n",
       "      <td>23.4500</td>\n",
       "      <td>3</td>\n",
       "      <td>1</td>\n",
       "    </tr>\n",
       "    <tr>\n",
       "      <th>889</th>\n",
       "      <td>1</td>\n",
       "      <td>1</td>\n",
       "      <td>26.000000</td>\n",
       "      <td>30.0000</td>\n",
       "      <td>0</td>\n",
       "      <td>0</td>\n",
       "    </tr>\n",
       "    <tr>\n",
       "      <th>890</th>\n",
       "      <td>0</td>\n",
       "      <td>3</td>\n",
       "      <td>32.000000</td>\n",
       "      <td>7.7500</td>\n",
       "      <td>0</td>\n",
       "      <td>0</td>\n",
       "    </tr>\n",
       "  </tbody>\n",
       "</table>\n",
       "<p>891 rows × 6 columns</p>\n",
       "</div>"
      ],
      "text/plain": [
       "     Survived  Pclass        Age     Fare  Family_cnt  Gender\n",
       "0           0       3  22.000000   7.2500           1       0\n",
       "1           1       1  38.000000  71.2833           1       1\n",
       "2           1       3  26.000000   7.9250           0       1\n",
       "3           1       1  35.000000  53.1000           1       1\n",
       "4           0       3  35.000000   8.0500           0       0\n",
       "..        ...     ...        ...      ...         ...     ...\n",
       "886         0       2  27.000000  13.0000           0       0\n",
       "887         1       1  19.000000  30.0000           0       1\n",
       "888         0       3  29.699118  23.4500           3       1\n",
       "889         1       1  26.000000  30.0000           0       0\n",
       "890         0       3  32.000000   7.7500           0       0\n",
       "\n",
       "[891 rows x 6 columns]"
      ]
     },
     "execution_count": 56,
     "metadata": {},
     "output_type": "execute_result"
    }
   ],
   "source": [
    "titanic_df"
   ]
  },
  {
   "cell_type": "markdown",
   "id": "a63e6144",
   "metadata": {},
   "source": [
    "### Descriptive Analytics"
   ]
  },
  {
   "cell_type": "code",
   "execution_count": 13,
   "id": "ee26bc8a",
   "metadata": {},
   "outputs": [
    {
     "data": {
      "text/plain": [
       "<Figure size 432x288 with 0 Axes>"
      ]
     },
     "metadata": {},
     "output_type": "display_data"
    },
    {
     "data": {
      "image/png": "[encoded data removed]",
      "text/plain": [
       "<Figure size 720x360 with 1 Axes>"
      ]
     },
     "metadata": {
      "needs_background": "light"
     },
     "output_type": "display_data"
    },
    {
     "data": {
      "image/png": "[encoded data removed]",
      "text/plain": [
       "<Figure size 720x360 with 1 Axes>"
      ]
     },
     "metadata": {
      "needs_background": "light"
     },
     "output_type": "display_data"
    }
   ],
   "source": [
    "for i, col in enumerate(['SibSp', 'Parch']):\n",
    "    plt.figure(i)\n",
    "    sns.catplot(x=col, y='Survived', data=titanic_df, kind='point', aspect=2, )"
   ]
  },
  {
   "cell_type": "code",
   "execution_count": 48,
   "id": "dd083398",
   "metadata": {},
   "outputs": [
    {
     "data": {
      "text/html": [
       "<div>\n",
       "<style scoped>\n",
       "    .dataframe tbody tr th:only-of-type {\n",
       "        vertical-align: middle;\n",
       "    }\n",
       "\n",
       "    .dataframe tbody tr th {\n",
       "        vertical-align: top;\n",
       "    }\n",
       "\n",
       "    .dataframe thead th {\n",
       "        text-align: right;\n",
       "    }\n",
       "</style>\n",
       "<table border=\"1\" class=\"dataframe\">\n",
       "  <thead>\n",
       "    <tr style=\"text-align: right;\">\n",
       "      <th></th>\n",
       "      <th>Survived</th>\n",
       "    </tr>\n",
       "    <tr>\n",
       "      <th>Pclass</th>\n",
       "      <th></th>\n",
       "    </tr>\n",
       "  </thead>\n",
       "  <tbody>\n",
       "    <tr>\n",
       "      <th>1</th>\n",
       "      <td>216</td>\n",
       "    </tr>\n",
       "    <tr>\n",
       "      <th>2</th>\n",
       "      <td>184</td>\n",
       "    </tr>\n",
       "    <tr>\n",
       "      <th>3</th>\n",
       "      <td>491</td>\n",
       "    </tr>\n",
       "  </tbody>\n",
       "</table>\n",
       "</div>"
      ],
      "text/plain": [
       "        Survived\n",
       "Pclass          \n",
       "1            216\n",
       "2            184\n",
       "3            491"
      ]
     },
     "execution_count": 48,
     "metadata": {},
     "output_type": "execute_result"
    }
   ],
   "source": [
    "titanic_df.groupby('Pclass').agg({'Survived': 'count'})\n",
    "#Make histogram"
   ]
  },
  {
   "cell_type": "markdown",
   "id": "5e0a81ed",
   "metadata": {},
   "source": [
    "## Split Dataset into Training and Testing Features\n",
    " - .6/.2/.2 Train, Test, Validation split\n"
   ]
  },
  {
   "cell_type": "code",
   "execution_count": 157,
   "id": "afa98ed3",
   "metadata": {},
   "outputs": [
    {
     "data": {
      "text/html": [
       "<div>\n",
       "<style scoped>\n",
       "    .dataframe tbody tr th:only-of-type {\n",
       "        vertical-align: middle;\n",
       "    }\n",
       "\n",
       "    .dataframe tbody tr th {\n",
       "        vertical-align: top;\n",
       "    }\n",
       "\n",
       "    .dataframe thead th {\n",
       "        text-align: right;\n",
       "    }\n",
       "</style>\n",
       "<table border=\"1\" class=\"dataframe\">\n",
       "  <thead>\n",
       "    <tr style=\"text-align: right;\">\n",
       "      <th></th>\n",
       "      <th>Survived</th>\n",
       "      <th>Pclass</th>\n",
       "      <th>Age</th>\n",
       "      <th>Fare</th>\n",
       "      <th>Family_cnt</th>\n",
       "      <th>Gender</th>\n",
       "    </tr>\n",
       "  </thead>\n",
       "  <tbody>\n",
       "    <tr>\n",
       "      <th>0</th>\n",
       "      <td>0</td>\n",
       "      <td>3</td>\n",
       "      <td>22.0</td>\n",
       "      <td>7.2500</td>\n",
       "      <td>1</td>\n",
       "      <td>0</td>\n",
       "    </tr>\n",
       "    <tr>\n",
       "      <th>1</th>\n",
       "      <td>1</td>\n",
       "      <td>1</td>\n",
       "      <td>38.0</td>\n",
       "      <td>71.2833</td>\n",
       "      <td>1</td>\n",
       "      <td>1</td>\n",
       "    </tr>\n",
       "    <tr>\n",
       "      <th>2</th>\n",
       "      <td>1</td>\n",
       "      <td>3</td>\n",
       "      <td>26.0</td>\n",
       "      <td>7.9250</td>\n",
       "      <td>0</td>\n",
       "      <td>1</td>\n",
       "    </tr>\n",
       "  </tbody>\n",
       "</table>\n",
       "</div>"
      ],
      "text/plain": [
       "   Survived  Pclass   Age     Fare  Family_cnt  Gender\n",
       "0         0       3  22.0   7.2500           1       0\n",
       "1         1       1  38.0  71.2833           1       1\n",
       "2         1       3  26.0   7.9250           0       1"
      ]
     },
     "execution_count": 157,
     "metadata": {},
     "output_type": "execute_result"
    }
   ],
   "source": [
    "titanic_df.head(3)"
   ]
  },
  {
   "cell_type": "code",
   "execution_count": 66,
   "id": "11287418",
   "metadata": {},
   "outputs": [],
   "source": [
    "#initiate Xn..,Y features\n",
    "features = titanic_df.drop('Survived', axis=1)\n",
    "labels = titanic_df['Survived']"
   ]
  },
  {
   "cell_type": "code",
   "execution_count": 67,
   "id": "00d9bb24",
   "metadata": {},
   "outputs": [],
   "source": [
    "#SPLIT DATA \n",
    "from sklearn.model_selection import train_test_split\n",
    "X_train, X_test, y_train, y_test = train_test_split(features, labels, test_size=0.4, random_state=42)\n",
    "X_val, X_test, y_val, y_test = train_test_split(X_test, y_test, test_size=0.5, random_state=42)"
   ]
  },
  {
   "cell_type": "code",
   "execution_count": 73,
   "id": "e7148218",
   "metadata": {},
   "outputs": [
    {
     "name": "stdout",
     "output_type": "stream",
     "text": [
      "0.6\n",
      "0.2\n",
      "0.2\n"
     ]
    }
   ],
   "source": [
    "#Confirm Split Parameters\n",
    "for dataset in [y_train, y_val, y_test]:\n",
    "    print(round(len(dataset) / len(labels), 2))"
   ]
  },
  {
   "cell_type": "code",
   "execution_count": 156,
   "id": "f5596b43",
   "metadata": {},
   "outputs": [
    {
     "data": {
      "text/plain": [
       "'bab'"
      ]
     },
     "execution_count": 156,
     "metadata": {},
     "output_type": "execute_result"
    }
   ],
   "source": [
    "#Coding_Interview - LONGEST PALINDROME\n",
    "class Palindrome():\n",
    "    def __init__(self):\n",
    "        pass\n",
    "    \n",
    "    def longest_pal(self, s):        \n",
    "        return_ls = []\n",
    "        for val in range(len(s)):\n",
    "            for val1 in range(val+1, len(s)):\n",
    "                if s[val:val1+1:1] == s[val1::-1]:\n",
    "                    return_ls.append(s[val:val1+1:1])   \n",
    "        return return_ls[0]\n",
    "\n",
    "p = Palindrome()\n",
    "p.longest_pal('babal')"
   ]
  },
  {
   "cell_type": "markdown",
   "id": "9f5bf566",
   "metadata": {},
   "source": [
    "## Logistic Regression\n",
    "- HyperParameter tuning"
   ]
  },
  {
   "cell_type": "code",
   "execution_count": 169,
   "id": "75f57892",
   "metadata": {},
   "outputs": [],
   "source": [
    "import joblib\n",
    "from sklearn.linear_model import LogisticRegression\n",
    "from sklearn.model_selection import GridSearchCV "
   ]
  },
  {
   "cell_type": "code",
   "execution_count": 174,
   "id": "7428702e",
   "metadata": {},
   "outputs": [
    {
     "data": {
      "text/html": [
       "<style>#sk-container-id-3 {color: black;background-color: white;}#sk-container-id-3 pre{padding: 0;}#sk-container-id-3 div.sk-toggleable {background-color: white;}#sk-container-id-3 label.sk-toggleable__label {cursor: pointer;display: block;width: 100%;margin-bottom: 0;padding: 0.3em;box-sizing: border-box;text-align: center;}#sk-container-id-3 label.sk-toggleable__label-arrow:before {content: \"▸\";float: left;margin-right: 0.25em;color: #696969;}#sk-container-id-3 label.sk-toggleable__label-arrow:hover:before {color: black;}#sk-container-id-3 div.sk-estimator:hover label.sk-toggleable__label-arrow:before {color: black;}#sk-container-id-3 div.sk-toggleable__content {max-height: 0;max-width: 0;overflow: hidden;text-align: left;background-color: #f0f8ff;}#sk-container-id-3 div.sk-toggleable__content pre {margin: 0.2em;color: black;border-radius: 0.25em;background-color: #f0f8ff;}#sk-container-id-3 input.sk-toggleable__control:checked~div.sk-toggleable__content {max-height: 200px;max-width: 100%;overflow: auto;}#sk-container-id-3 input.sk-toggleable__control:checked~label.sk-toggleable__label-arrow:before {content: \"▾\";}#sk-container-id-3 div.sk-estimator input.sk-toggleable__control:checked~label.sk-toggleable__label {background-color: #d4ebff;}#sk-container-id-3 div.sk-label input.sk-toggleable__control:checked~label.sk-toggleable__label {background-color: #d4ebff;}#sk-container-id-3 input.sk-hidden--visually {border: 0;clip: rect(1px 1px 1px 1px);clip: rect(1px, 1px, 1px, 1px);height: 1px;margin: -1px;overflow: hidden;padding: 0;position: absolute;width: 1px;}#sk-container-id-3 div.sk-estimator {font-family: monospace;background-color: #f0f8ff;border: 1px dotted black;border-radius: 0.25em;box-sizing: border-box;margin-bottom: 0.5em;}#sk-container-id-3 div.sk-estimator:hover {background-color: #d4ebff;}#sk-container-id-3 div.sk-parallel-item::after {content: \"\";width: 100%;border-bottom: 1px solid gray;flex-grow: 1;}#sk-container-id-3 div.sk-label:hover label.sk-toggleable__label {background-color: #d4ebff;}#sk-container-id-3 div.sk-serial::before {content: \"\";position: absolute;border-left: 1px solid gray;box-sizing: border-box;top: 0;bottom: 0;left: 50%;z-index: 0;}#sk-container-id-3 div.sk-serial {display: flex;flex-direction: column;align-items: center;background-color: white;padding-right: 0.2em;padding-left: 0.2em;position: relative;}#sk-container-id-3 div.sk-item {position: relative;z-index: 1;}#sk-container-id-3 div.sk-parallel {display: flex;align-items: stretch;justify-content: center;background-color: white;position: relative;}#sk-container-id-3 div.sk-item::before, #sk-container-id-3 div.sk-parallel-item::before {content: \"\";position: absolute;border-left: 1px solid gray;box-sizing: border-box;top: 0;bottom: 0;left: 50%;z-index: -1;}#sk-container-id-3 div.sk-parallel-item {display: flex;flex-direction: column;z-index: 1;position: relative;background-color: white;}#sk-container-id-3 div.sk-parallel-item:first-child::after {align-self: flex-end;width: 50%;}#sk-container-id-3 div.sk-parallel-item:last-child::after {align-self: flex-start;width: 50%;}#sk-container-id-3 div.sk-parallel-item:only-child::after {width: 0;}#sk-container-id-3 div.sk-dashed-wrapped {border: 1px dashed gray;margin: 0 0.4em 0.5em 0.4em;box-sizing: border-box;padding-bottom: 0.4em;background-color: white;}#sk-container-id-3 div.sk-label label {font-family: monospace;font-weight: bold;display: inline-block;line-height: 1.2em;}#sk-container-id-3 div.sk-label-container {text-align: center;}#sk-container-id-3 div.sk-container {/* jupyter's `normalize.less` sets `[hidden] { display: none; }` but bootstrap.min.css set `[hidden] { display: none !important; }` so we also need the `!important` here to be able to override the default hidden behavior on the sphinx rendered scikit-learn.org. See: https://github.com/scikit-learn/scikit-learn/issues/21755 */display: inline-block !important;position: relative;}#sk-container-id-3 div.sk-text-repr-fallback {display: none;}</style><div id=\"sk-container-id-3\" class=\"sk-top-container\"><div class=\"sk-text-repr-fallback\"><pre>GridSearchCV(cv=5, estimator=LogisticRegression(),\n",
       "             param_grid={&#x27;C&#x27;: [0.001, 0.01, 0.1, 1, 10, 100, 1000]})</pre><b>In a Jupyter environment, please rerun this cell to show the HTML representation or trust the notebook. <br />On GitHub, the HTML representation is unable to render, please try loading this page with nbviewer.org.</b></div><div class=\"sk-container\" hidden><div class=\"sk-item sk-dashed-wrapped\"><div class=\"sk-label-container\"><div class=\"sk-label sk-toggleable\"><input class=\"sk-toggleable__control sk-hidden--visually\" id=\"sk-estimator-id-5\" type=\"checkbox\" ><label for=\"sk-estimator-id-5\" class=\"sk-toggleable__label sk-toggleable__label-arrow\">GridSearchCV</label><div class=\"sk-toggleable__content\"><pre>GridSearchCV(cv=5, estimator=LogisticRegression(),\n",
       "             param_grid={&#x27;C&#x27;: [0.001, 0.01, 0.1, 1, 10, 100, 1000]})</pre></div></div></div><div class=\"sk-parallel\"><div class=\"sk-parallel-item\"><div class=\"sk-item\"><div class=\"sk-label-container\"><div class=\"sk-label sk-toggleable\"><input class=\"sk-toggleable__control sk-hidden--visually\" id=\"sk-estimator-id-6\" type=\"checkbox\" ><label for=\"sk-estimator-id-6\" class=\"sk-toggleable__label sk-toggleable__label-arrow\">estimator: LogisticRegression</label><div class=\"sk-toggleable__content\"><pre>LogisticRegression()</pre></div></div></div><div class=\"sk-serial\"><div class=\"sk-item\"><div class=\"sk-estimator sk-toggleable\"><input class=\"sk-toggleable__control sk-hidden--visually\" id=\"sk-estimator-id-7\" type=\"checkbox\" ><label for=\"sk-estimator-id-7\" class=\"sk-toggleable__label sk-toggleable__label-arrow\">LogisticRegression</label><div class=\"sk-toggleable__content\"><pre>LogisticRegression()</pre></div></div></div></div></div></div></div></div></div></div>"
      ],
      "text/plain": [
       "GridSearchCV(cv=5, estimator=LogisticRegression(),\n",
       "             param_grid={'C': [0.001, 0.01, 0.1, 1, 10, 100, 1000]})"
      ]
     },
     "execution_count": 174,
     "metadata": {},
     "output_type": "execute_result"
    }
   ],
   "source": [
    "log_r = LogisticRegression()\n",
    "parameters = {'C': [0.001, 0.01, 0.1, 1, 10, 100, 1000]\n",
    "             }\n",
    "\n",
    "cv = GridSearchCV(log_r, parameters, cv=5)\n",
    "cv.fit(X_train, y_train)"
   ]
  },
  {
   "cell_type": "code",
   "execution_count": 175,
   "id": "94db1e8a",
   "metadata": {},
   "outputs": [
    {
     "data": {
      "text/html": [
       "<style>#sk-container-id-4 {color: black;background-color: white;}#sk-container-id-4 pre{padding: 0;}#sk-container-id-4 div.sk-toggleable {background-color: white;}#sk-container-id-4 label.sk-toggleable__label {cursor: pointer;display: block;width: 100%;margin-bottom: 0;padding: 0.3em;box-sizing: border-box;text-align: center;}#sk-container-id-4 label.sk-toggleable__label-arrow:before {content: \"▸\";float: left;margin-right: 0.25em;color: #696969;}#sk-container-id-4 label.sk-toggleable__label-arrow:hover:before {color: black;}#sk-container-id-4 div.sk-estimator:hover label.sk-toggleable__label-arrow:before {color: black;}#sk-container-id-4 div.sk-toggleable__content {max-height: 0;max-width: 0;overflow: hidden;text-align: left;background-color: #f0f8ff;}#sk-container-id-4 div.sk-toggleable__content pre {margin: 0.2em;color: black;border-radius: 0.25em;background-color: #f0f8ff;}#sk-container-id-4 input.sk-toggleable__control:checked~div.sk-toggleable__content {max-height: 200px;max-width: 100%;overflow: auto;}#sk-container-id-4 input.sk-toggleable__control:checked~label.sk-toggleable__label-arrow:before {content: \"▾\";}#sk-container-id-4 div.sk-estimator input.sk-toggleable__control:checked~label.sk-toggleable__label {background-color: #d4ebff;}#sk-container-id-4 div.sk-label input.sk-toggleable__control:checked~label.sk-toggleable__label {background-color: #d4ebff;}#sk-container-id-4 input.sk-hidden--visually {border: 0;clip: rect(1px 1px 1px 1px);clip: rect(1px, 1px, 1px, 1px);height: 1px;margin: -1px;overflow: hidden;padding: 0;position: absolute;width: 1px;}#sk-container-id-4 div.sk-estimator {font-family: monospace;background-color: #f0f8ff;border: 1px dotted black;border-radius: 0.25em;box-sizing: border-box;margin-bottom: 0.5em;}#sk-container-id-4 div.sk-estimator:hover {background-color: #d4ebff;}#sk-container-id-4 div.sk-parallel-item::after {content: \"\";width: 100%;border-bottom: 1px solid gray;flex-grow: 1;}#sk-container-id-4 div.sk-label:hover label.sk-toggleable__label {background-color: #d4ebff;}#sk-container-id-4 div.sk-serial::before {content: \"\";position: absolute;border-left: 1px solid gray;box-sizing: border-box;top: 0;bottom: 0;left: 50%;z-index: 0;}#sk-container-id-4 div.sk-serial {display: flex;flex-direction: column;align-items: center;background-color: white;padding-right: 0.2em;padding-left: 0.2em;position: relative;}#sk-container-id-4 div.sk-item {position: relative;z-index: 1;}#sk-container-id-4 div.sk-parallel {display: flex;align-items: stretch;justify-content: center;background-color: white;position: relative;}#sk-container-id-4 div.sk-item::before, #sk-container-id-4 div.sk-parallel-item::before {content: \"\";position: absolute;border-left: 1px solid gray;box-sizing: border-box;top: 0;bottom: 0;left: 50%;z-index: -1;}#sk-container-id-4 div.sk-parallel-item {display: flex;flex-direction: column;z-index: 1;position: relative;background-color: white;}#sk-container-id-4 div.sk-parallel-item:first-child::after {align-self: flex-end;width: 50%;}#sk-container-id-4 div.sk-parallel-item:last-child::after {align-self: flex-start;width: 50%;}#sk-container-id-4 div.sk-parallel-item:only-child::after {width: 0;}#sk-container-id-4 div.sk-dashed-wrapped {border: 1px dashed gray;margin: 0 0.4em 0.5em 0.4em;box-sizing: border-box;padding-bottom: 0.4em;background-color: white;}#sk-container-id-4 div.sk-label label {font-family: monospace;font-weight: bold;display: inline-block;line-height: 1.2em;}#sk-container-id-4 div.sk-label-container {text-align: center;}#sk-container-id-4 div.sk-container {/* jupyter's `normalize.less` sets `[hidden] { display: none; }` but bootstrap.min.css set `[hidden] { display: none !important; }` so we also need the `!important` here to be able to override the default hidden behavior on the sphinx rendered scikit-learn.org. See: https://github.com/scikit-learn/scikit-learn/issues/21755 */display: inline-block !important;position: relative;}#sk-container-id-4 div.sk-text-repr-fallback {display: none;}</style><div id=\"sk-container-id-4\" class=\"sk-top-container\"><div class=\"sk-text-repr-fallback\"><pre>LogisticRegression(C=1)</pre><b>In a Jupyter environment, please rerun this cell to show the HTML representation or trust the notebook. <br />On GitHub, the HTML representation is unable to render, please try loading this page with nbviewer.org.</b></div><div class=\"sk-container\" hidden><div class=\"sk-item\"><div class=\"sk-estimator sk-toggleable\"><input class=\"sk-toggleable__control sk-hidden--visually\" id=\"sk-estimator-id-8\" type=\"checkbox\" checked><label for=\"sk-estimator-id-8\" class=\"sk-toggleable__label sk-toggleable__label-arrow\">LogisticRegression</label><div class=\"sk-toggleable__content\"><pre>LogisticRegression(C=1)</pre></div></div></div></div></div>"
      ],
      "text/plain": [
       "LogisticRegression(C=1)"
      ]
     },
     "execution_count": 175,
     "metadata": {},
     "output_type": "execute_result"
    }
   ],
   "source": [
    "cv.best_estimator_"
   ]
  },
  {
   "cell_type": "code",
   "execution_count": 173,
   "id": "d57aef75",
   "metadata": {},
   "outputs": [
    {
     "name": "stdout",
     "output_type": "stream",
     "text": [
      "{'mean_fit_time': array([0.01022401, 0.00699754, 0.00727634, 0.00738997, 0.00790615,\n",
      "       0.00771022, 0.00809107]), 'std_fit_time': array([0.00769988, 0.00031561, 0.00046928, 0.00058344, 0.00044282,\n",
      "       0.00054214, 0.00095942]), 'mean_score_time': array([0.00134382, 0.00109072, 0.00105648, 0.00104961, 0.00104971,\n",
      "       0.00103617, 0.00102825]), 'std_score_time': array([3.63212050e-04, 3.92038449e-05, 7.16430970e-06, 1.15475350e-05,\n",
      "       1.24448104e-05, 5.71807087e-06, 6.56824795e-06]), 'param_C': masked_array(data=[0.001, 0.01, 0.1, 1, 10, 100, 1000],\n",
      "             mask=[False, False, False, False, False, False, False],\n",
      "       fill_value='?',\n",
      "            dtype=object), 'params': [{'C': 0.001}, {'C': 0.01}, {'C': 0.1}, {'C': 1}, {'C': 10}, {'C': 100}, {'C': 1000}], 'split0_test_score': array([0.69158879, 0.77570093, 0.86915888, 0.87850467, 0.86915888,\n",
      "       0.86915888, 0.86915888]), 'split1_test_score': array([0.71028037, 0.74766355, 0.82242991, 0.82242991, 0.82242991,\n",
      "       0.82242991, 0.82242991]), 'split2_test_score': array([0.6728972 , 0.6728972 , 0.73831776, 0.73831776, 0.72897196,\n",
      "       0.71962617, 0.71962617]), 'split3_test_score': array([0.59813084, 0.62616822, 0.6635514 , 0.73831776, 0.72897196,\n",
      "       0.72897196, 0.72897196]), 'split4_test_score': array([0.67924528, 0.72641509, 0.83962264, 0.8490566 , 0.8490566 ,\n",
      "       0.8490566 , 0.8490566 ]), 'mean_test_score': array([0.6704285 , 0.709769  , 0.78661612, 0.80532534, 0.79971786,\n",
      "       0.7978487 , 0.7978487 ]), 'std_test_score': array([0.038332  , 0.05368189, 0.07534359, 0.05751563, 0.05963584,\n",
      "       0.0619264 , 0.0619264 ]), 'rank_test_score': array([7, 6, 5, 1, 2, 3, 3], dtype=int32)}\n"
     ]
    }
   ],
   "source": [
    "print(cv.cv_results_)"
   ]
  },
  {
   "cell_type": "code",
   "execution_count": 213,
   "id": "387017c0",
   "metadata": {},
   "outputs": [
    {
     "name": "stdout",
     "output_type": "stream",
     "text": [
      "[{'C': 0.001}, {'C': 0.01}, {'C': 0.1}, {'C': 1}, {'C': 10}, {'C': 100}, {'C': 1000}]\n",
      "\n",
      "[0.6704285  0.709769   0.78661612 0.80532534 0.79971786 0.7978487\n",
      " 0.7978487 ]\n",
      "\n",
      "[0.038332   0.05368189 0.07534359 0.05751563 0.05963584 0.0619264\n",
      " 0.0619264 ]\n"
     ]
    }
   ],
   "source": [
    "print(cv.cv_results_['params'])\n",
    "print()\n",
    "print(cv.cv_results_['mean_test_score'])\n",
    "print()\n",
    "print(cv.cv_results_['std_test_score'])"
   ]
  },
  {
   "cell_type": "code",
   "execution_count": 210,
   "id": "aebc0c4a",
   "metadata": {},
   "outputs": [],
   "source": [
    "# find average score/sd for the k-fold cross validation of each set/mix of parameters \n",
    "def print_results(gridsearch):\n",
    "    print('BEST PARAMS: {}\\n'.format(gridsearch.best_params_))\n",
    "    [print(f'{mean_test:.2f} +/-{std:.2f} for {params}')\\\n",
    "     for params, mean_test, std in zip(gridsearch.cv_results_['params'], \\\n",
    "                                       gridsearch.cv_results_['mean_test_score'], \\\n",
    "                                       gridsearch.cv_results_['std_test_score'])][0]"
   ]
  },
  {
   "cell_type": "code",
   "execution_count": 211,
   "id": "138b1993",
   "metadata": {},
   "outputs": [
    {
     "name": "stdout",
     "output_type": "stream",
     "text": [
      "BEST PARAMS: {'C': 1}\n",
      "\n",
      "0.67 +/-0.04 for {'C': 0.001}\n",
      "0.71 +/-0.05 for {'C': 0.01}\n",
      "0.79 +/-0.08 for {'C': 0.1}\n",
      "0.81 +/-0.06 for {'C': 1}\n",
      "0.80 +/-0.06 for {'C': 10}\n",
      "0.80 +/-0.06 for {'C': 100}\n",
      "0.80 +/-0.06 for {'C': 1000}\n"
     ]
    }
   ],
   "source": [
    "print_results(cv)"
   ]
  },
  {
   "cell_type": "code",
   "execution_count": 222,
   "id": "b6a75dcb",
   "metadata": {},
   "outputs": [
    {
     "data": {
      "text/plain": [
       "0.79"
      ]
     },
     "execution_count": 222,
     "metadata": {},
     "output_type": "execute_result"
    }
   ],
   "source": [
    "#A Way to view scored of one set of CV with determined parameters for a model\n",
    "import numpy as np\n",
    "from sklearn.model_selection import cross_val_score\n",
    "scores = cross_val_score(log_r, features, labels, cv=5)\n",
    "round(np.mean(scores),2)"
   ]
  },
  {
   "cell_type": "code",
   "execution_count": null,
   "id": "9c7551d0",
   "metadata": {},
   "outputs": [],
   "source": [
    "#Develop optimized model\n"
   ]
  },
  {
   "cell_type": "code",
   "execution_count": null,
   "id": "728a7f9b",
   "metadata": {},
   "outputs": [],
   "source": [
    "# Store Data"
   ]
  },
  {
   "cell_type": "code",
   "execution_count": 47,
   "id": "4ad58ff6",
   "metadata": {},
   "outputs": [],
   "source": [
    "import pandas as pd\n",
    "store_df = pd.read_csv('/Users/sandeepk/Desktop/Sales_History_Feb_09,_2023.csv')"
   ]
  },
  {
   "cell_type": "code",
   "execution_count": 48,
   "id": "fdbec4f2",
   "metadata": {},
   "outputs": [
    {
     "data": {
      "text/plain": [
       "0                                             The money \n",
       "1                                               Atm fee \n",
       "2                               New Amsterdan Vodka 50ml\n",
       "3                                    Year oF the Raddit \n",
       "4      Marlboro Filter Cigarettes Gold Pack 100`s 1.0...\n",
       "                             ...                        \n",
       "284                                             10.LOTTO\n",
       "285                                            05.LIQUOR\n",
       "286                                           13.TOBACCO\n",
       "287                                       06.Non Taxable\n",
       "288                                           07.TAXABLE\n",
       "Name: Name, Length: 289, dtype: object"
      ]
     },
     "execution_count": 48,
     "metadata": {},
     "output_type": "execute_result"
    }
   ],
   "source": [
    "store_df['Name']"
   ]
  },
  {
   "cell_type": "code",
   "execution_count": 44,
   "id": "eda438f0",
   "metadata": {},
   "outputs": [
    {
     "name": "stdout",
     "output_type": "stream",
     "text": [
      "yes\n"
     ]
    }
   ],
   "source": [
    "string = 'Marlboro you'\n",
    "cigs = ['Marlboro', 'Camel', 'Swisher', 'NewPort', 'Zig-Zag']\n",
    "alcohol = ['Year', '99pink', 'Seneca', 'Hurricane', 'Firebal', 'Lagunitas', '99', 'Pabst',\n",
    "          \"Mike's\", 'JOSE', 'Natural', 'Taaka', 'Miller']\n",
    "for val, val2 in zip(cigs, alcohol):\n",
    "    if string.startswith(val):\n",
    "        print('yes')"
   ]
  },
  {
   "cell_type": "code",
   "execution_count": 100,
   "id": "04b5fe2c",
   "metadata": {},
   "outputs": [],
   "source": [
    "alcohol = ('Year', '99', 'Seneca', 'Hurricane', 'Firebal', 'Lagunitas', '99', 'Pabst',\n",
    "          \"Mike's\", 'JOSE', 'Natural', 'Taaka', 'Miller', 'King', 'Bud', 'Mickeys', 'Coors',\n",
    "          'Steel', 'NEW VOODOO', 'Truly', 'Earthquake', 'Crow', 'Grey', 'Buzzballz', 'E&J', 'Sutter',\n",
    "          'BUZZBALL', 'New', 'Venon', 'Canada', 'Seagram', 'POPOV', 'Whiteclaw', 'Remy', '805',\n",
    "          'Hennessy', 'Guardians', 'Modelo' 'Mississippi', 'Smirnoff', 'Miller', 'Olde', 'Cut', 'Jim')\n",
    "\n",
    "#ML is ok and #pk\n",
    "cigs = ('Marlboro', 'Camel', 'Swisher', 'NewPort', 'Zig-Zag', 'Carlton', 'Backwoods', 'American',\n",
    "       'DUTCH', 'Remington', 'VUSE', 'Black', 'Maverick', 'Heineken', 'Elf')\n",
    "\n",
    "snacks = ('Red Bull', 'Mentos', 'Starbucks', 'Rockstar', 'Coca-Cola', 'Dr Pepper', 'bang', 'Kit Kat',\n",
    "         \"Reese's\", \"Keebler\", 'Tropicana', 'Pepsi', 'Gator', 'Redbull', 'Rockstor', 'Pringles',\n",
    "         'Life', 'Fride', 'Yup', 'Pop', 'Lipton', 'Nestle', 'Vitamin', 'Glaceu', 'Body', 'Sweet',\n",
    "         'Monster', 'Munchies', 'Cheetos', 'Fritos', '3', 'El', 'Micho', 'Slim', 'Country', 'Fruit', 'Fanta')\n"
   ]
  },
  {
   "cell_type": "code",
   "execution_count": 101,
   "id": "1a2f3f61",
   "metadata": {},
   "outputs": [],
   "source": [
    "alcohol, cigs, snacks = [val.lower() for val in alcohol], [val.lower() for val in cigs], \\\n",
    "[val.lower() for val in snacks]"
   ]
  },
  {
   "cell_type": "code",
   "execution_count": 102,
   "id": "2510a58e",
   "metadata": {},
   "outputs": [],
   "source": [
    "alcohol, cigs, snacks = [val.lower() for val in alcohol], [val.lower() for val in cigs], \\\n",
    "[val.lower() for val in snacks]\n",
    "alcohol, cigs, snacks = tuple(alcohol), tuple(cigs), tuple(snacks)"
   ]
  },
  {
   "cell_type": "code",
   "execution_count": 104,
   "id": "bd73bd84",
   "metadata": {},
   "outputs": [],
   "source": [
    "new_col = []\n",
    "#1=alcohol\n",
    "#2=cigs\n",
    "#3=non-alchol products\n",
    "#0-other\n",
    "\n",
    "for row in store_df['Name']:\n",
    "    if row.lower().startswith(alcohol) or row.lower().endswith('ml'):\n",
    "        new_col.append(1)\n",
    "    elif row.lower().startswith(cigs):\n",
    "        new_col.append(2)\n",
    "    elif row.lower().startswith(snacks):\n",
    "        new_col.append(3)\n",
    "    else:\n",
    "        new_col.append(0)\n",
    "            \n"
   ]
  },
  {
   "cell_type": "code",
   "execution_count": 106,
   "id": "987ce63f",
   "metadata": {},
   "outputs": [
    {
     "data": {
      "text/plain": [
       "(289, 4)"
      ]
     },
     "execution_count": 106,
     "metadata": {},
     "output_type": "execute_result"
    }
   ],
   "source": [
    "len(new_col)\n",
    "store_df.shape"
   ]
  },
  {
   "cell_type": "code",
   "execution_count": 117,
   "id": "b91c573c",
   "metadata": {},
   "outputs": [],
   "source": [
    "import numpy as np\n",
    "store_df['Class'] = new_col\n",
    "\n",
    "conditions = [\n",
    "    (store_df[\"Class\"] == 0),\n",
    "    (store_df[\"Class\"] == 1),\n",
    "    (store_df[\"Class\"] == 2),\n",
    "    (store_df[\"Class\"] == 3)\n",
    "\n",
    "]\n",
    "\n",
    "values = ['Other', 'Alcohol', 'Cigarettes/Vapes', 'Non-alcoholic bev&snacks'\n",
    "]\n",
    "    \n",
    "store_df['Type'] = np.select(conditions,values)"
   ]
  },
  {
   "cell_type": "code",
   "execution_count": 119,
   "id": "52a612bf",
   "metadata": {},
   "outputs": [
    {
     "data": {
      "text/html": [
       "<div>\n",
       "<style scoped>\n",
       "    .dataframe tbody tr th:only-of-type {\n",
       "        vertical-align: middle;\n",
       "    }\n",
       "\n",
       "    .dataframe tbody tr th {\n",
       "        vertical-align: top;\n",
       "    }\n",
       "\n",
       "    .dataframe thead th {\n",
       "        text-align: right;\n",
       "    }\n",
       "</style>\n",
       "<table border=\"1\" class=\"dataframe\">\n",
       "  <thead>\n",
       "    <tr style=\"text-align: right;\">\n",
       "      <th></th>\n",
       "      <th>Total Qty</th>\n",
       "    </tr>\n",
       "    <tr>\n",
       "      <th>Type</th>\n",
       "      <th></th>\n",
       "    </tr>\n",
       "  </thead>\n",
       "  <tbody>\n",
       "    <tr>\n",
       "      <th>Alcohol</th>\n",
       "      <td>226</td>\n",
       "    </tr>\n",
       "    <tr>\n",
       "      <th>Cigarettes/Vapes</th>\n",
       "      <td>123</td>\n",
       "    </tr>\n",
       "    <tr>\n",
       "      <th>Non-alcoholic bev&amp;snacks</th>\n",
       "      <td>97</td>\n",
       "    </tr>\n",
       "    <tr>\n",
       "      <th>Other</th>\n",
       "      <td>251</td>\n",
       "    </tr>\n",
       "  </tbody>\n",
       "</table>\n",
       "</div>"
      ],
      "text/plain": [
       "                          Total Qty\n",
       "Type                               \n",
       "Alcohol                         226\n",
       "Cigarettes/Vapes                123\n",
       "Non-alcoholic bev&snacks         97\n",
       "Other                           251"
      ]
     },
     "execution_count": 119,
     "metadata": {},
     "output_type": "execute_result"
    }
   ],
   "source": [
    "agg = store_df.groupby('Type').agg({'Total Qty': 'sum'})\n",
    "agg"
   ]
  },
  {
   "cell_type": "code",
   "execution_count": 124,
   "id": "3abc7689",
   "metadata": {},
   "outputs": [
    {
     "data": {
      "text/plain": [
       "['Alcohol', 'Cigarettes/Vapes', 'Non-alcoholic bev&snacks', 'Other']"
      ]
     },
     "execution_count": 124,
     "metadata": {},
     "output_type": "execute_result"
    }
   ],
   "source": [
    "list(agg.index)"
   ]
  },
  {
   "cell_type": "code",
   "execution_count": 125,
   "id": "811401c9",
   "metadata": {},
   "outputs": [
    {
     "data": {
      "text/plain": [
       "<AxesSubplot:xlabel='Type', ylabel='Total Qty'>"
      ]
     },
     "execution_count": 125,
     "metadata": {},
     "output_type": "execute_result"
    },
    {
     "data": {
      "image/png": "[encoded data removed]",
      "text/plain": [
       "<Figure size 432x288 with 1 Axes>"
      ]
     },
     "metadata": {
      "needs_background": "light"
     },
     "output_type": "display_data"
    }
   ],
   "source": [
    "import seaborn as sns\n",
    "sns.barplot(data=agg, x=agg.index, y='Total Qty')\n"
   ]
  },
  {
   "cell_type": "code",
   "execution_count": 134,
   "id": "be12ecac",
   "metadata": {},
   "outputs": [
    {
     "data": {
      "text/html": [
       "<div>\n",
       "<style scoped>\n",
       "    .dataframe tbody tr th:only-of-type {\n",
       "        vertical-align: middle;\n",
       "    }\n",
       "\n",
       "    .dataframe tbody tr th {\n",
       "        vertical-align: top;\n",
       "    }\n",
       "\n",
       "    .dataframe thead th {\n",
       "        text-align: right;\n",
       "    }\n",
       "</style>\n",
       "<table border=\"1\" class=\"dataframe\">\n",
       "  <thead>\n",
       "    <tr style=\"text-align: right;\">\n",
       "      <th></th>\n",
       "      <th>UPC</th>\n",
       "      <th>Name</th>\n",
       "      <th>Total Qty</th>\n",
       "      <th>Total Amount</th>\n",
       "      <th>Class</th>\n",
       "      <th>Type</th>\n",
       "    </tr>\n",
       "  </thead>\n",
       "  <tbody>\n",
       "    <tr>\n",
       "      <th>0</th>\n",
       "      <td>7.359754e+11</td>\n",
       "      <td>The money</td>\n",
       "      <td>35</td>\n",
       "      <td>70.00</td>\n",
       "      <td>0</td>\n",
       "      <td>Other</td>\n",
       "    </tr>\n",
       "    <tr>\n",
       "      <th>94</th>\n",
       "      <td>7.359753e+11</td>\n",
       "      <td>100x</td>\n",
       "      <td>2</td>\n",
       "      <td>40.00</td>\n",
       "      <td>0</td>\n",
       "      <td>Other</td>\n",
       "    </tr>\n",
       "    <tr>\n",
       "      <th>284</th>\n",
       "      <td>NaN</td>\n",
       "      <td>10.LOTTO</td>\n",
       "      <td>6</td>\n",
       "      <td>28.00</td>\n",
       "      <td>0</td>\n",
       "      <td>Other</td>\n",
       "    </tr>\n",
       "    <tr>\n",
       "      <th>101</th>\n",
       "      <td>2.610001e+10</td>\n",
       "      <td>True F Box 1.00 PK</td>\n",
       "      <td>2</td>\n",
       "      <td>27.35</td>\n",
       "      <td>0</td>\n",
       "      <td>Other</td>\n",
       "    </tr>\n",
       "    <tr>\n",
       "      <th>241</th>\n",
       "      <td>6.116401e+11</td>\n",
       "      <td>Czrto</td>\n",
       "      <td>1</td>\n",
       "      <td>21.54</td>\n",
       "      <td>0</td>\n",
       "      <td>Other</td>\n",
       "    </tr>\n",
       "    <tr>\n",
       "      <th>...</th>\n",
       "      <td>...</td>\n",
       "      <td>...</td>\n",
       "      <td>...</td>\n",
       "      <td>...</td>\n",
       "      <td>...</td>\n",
       "      <td>...</td>\n",
       "    </tr>\n",
       "    <tr>\n",
       "      <th>167</th>\n",
       "      <td>8.123190e+11</td>\n",
       "      <td>Good Times 3pk 3 pk</td>\n",
       "      <td>1</td>\n",
       "      <td>1.07</td>\n",
       "      <td>0</td>\n",
       "      <td>Other</td>\n",
       "    </tr>\n",
       "    <tr>\n",
       "      <th>201</th>\n",
       "      <td>8.404391e+11</td>\n",
       "      <td>Zage wraps</td>\n",
       "      <td>1</td>\n",
       "      <td>1.07</td>\n",
       "      <td>0</td>\n",
       "      <td>Other</td>\n",
       "    </tr>\n",
       "    <tr>\n",
       "      <th>175</th>\n",
       "      <td>6.130087e+11</td>\n",
       "      <td>Arizona: Raspberry Iced Tea 23 Oz</td>\n",
       "      <td>1</td>\n",
       "      <td>1.04</td>\n",
       "      <td>0</td>\n",
       "      <td>Other</td>\n",
       "    </tr>\n",
       "    <tr>\n",
       "      <th>252</th>\n",
       "      <td>3.485603e+10</td>\n",
       "      <td>Welch's Fruit Snack, Mixed Fruit 2.25 OZ</td>\n",
       "      <td>1</td>\n",
       "      <td>0.99</td>\n",
       "      <td>0</td>\n",
       "      <td>Other</td>\n",
       "    </tr>\n",
       "    <tr>\n",
       "      <th>42</th>\n",
       "      <td>4.990580e+11</td>\n",
       "      <td>Bag Fee</td>\n",
       "      <td>3</td>\n",
       "      <td>0.30</td>\n",
       "      <td>0</td>\n",
       "      <td>Other</td>\n",
       "    </tr>\n",
       "  </tbody>\n",
       "</table>\n",
       "<p>104 rows × 6 columns</p>\n",
       "</div>"
      ],
      "text/plain": [
       "              UPC                                      Name  Total Qty  \\\n",
       "0    7.359754e+11                                The money          35   \n",
       "94   7.359753e+11                                     100x           2   \n",
       "284           NaN                                  10.LOTTO          6   \n",
       "101  2.610001e+10                        True F Box 1.00 PK          2   \n",
       "241  6.116401e+11                                    Czrto           1   \n",
       "..            ...                                       ...        ...   \n",
       "167  8.123190e+11                       Good Times 3pk 3 pk          1   \n",
       "201  8.404391e+11                               Zage wraps           1   \n",
       "175  6.130087e+11         Arizona: Raspberry Iced Tea 23 Oz          1   \n",
       "252  3.485603e+10  Welch's Fruit Snack, Mixed Fruit 2.25 OZ          1   \n",
       "42   4.990580e+11                                  Bag Fee           3   \n",
       "\n",
       "     Total Amount  Class   Type  \n",
       "0           70.00      0  Other  \n",
       "94          40.00      0  Other  \n",
       "284         28.00      0  Other  \n",
       "101         27.35      0  Other  \n",
       "241         21.54      0  Other  \n",
       "..            ...    ...    ...  \n",
       "167          1.07      0  Other  \n",
       "201          1.07      0  Other  \n",
       "175          1.04      0  Other  \n",
       "252          0.99      0  Other  \n",
       "42           0.30      0  Other  \n",
       "\n",
       "[104 rows x 6 columns]"
      ]
     },
     "execution_count": 134,
     "metadata": {},
     "output_type": "execute_result"
    }
   ],
   "source": [
    "store_df[store_df['Type'] == 'Other'].sort_values(by='Total Amount', ascending=False)"
   ]
  }
 ],
 "metadata": {
  "kernelspec": {
   "display_name": "Python 3 (ipykernel)",
   "language": "python",
   "name": "python3"
  },
  "language_info": {
   "codemirror_mode": {
    "name": "ipython",
    "version": 3
   },
   "file_extension": ".py",
   "mimetype": "text/x-python",
   "name": "python",
   "nbconvert_exporter": "python",
   "pygments_lexer": "ipython3",
   "version": "3.9.6"
  }
 },
 "nbformat": 4,
 "nbformat_minor": 5
}
