{
 "cells": [
  {
   "cell_type": "markdown",
   "id": "a3b3b9c3",
   "metadata": {},
   "source": [
    "## Project 3 - ML Approach to Terrain Slope Failure 🌲🌲🌲\n",
    "- `P(slope Failure) = RF(terrain, lithology/soils, distance)`"
   ]
  },
  {
   "cell_type": "code",
   "execution_count": 1,
   "id": "86b254c5",
   "metadata": {},
   "outputs": [],
   "source": [
    "#import Libraries\n",
    "import pandas as pd\n",
    "import numpy as np\n",
    "from sklearn.model_selection import train_test_split as SPLIT\n",
    "from sklearn.metrics import confusion_matrix, roc_curve, auc\n",
    "from sklearn.ensemble import RandomForestClassifier\n",
    "import matplotlib.pyplot as plt"
   ]
  },
  {
   "cell_type": "code",
   "execution_count": 2,
   "id": "2800af90",
   "metadata": {},
   "outputs": [
    {
     "data": {
      "text/html": [
       "<div>\n",
       "<style scoped>\n",
       "    .dataframe tbody tr th:only-of-type {\n",
       "        vertical-align: middle;\n",
       "    }\n",
       "\n",
       "    .dataframe tbody tr th {\n",
       "        vertical-align: top;\n",
       "    }\n",
       "\n",
       "    .dataframe thead th {\n",
       "        text-align: right;\n",
       "    }\n",
       "</style>\n",
       "<table border=\"1\" class=\"dataframe\">\n",
       "  <thead>\n",
       "    <tr style=\"text-align: right;\">\n",
       "      <th></th>\n",
       "      <th>class</th>\n",
       "      <th>slp</th>\n",
       "      <th>sp21</th>\n",
       "      <th>sp11</th>\n",
       "      <th>sp7</th>\n",
       "      <th>rph21</th>\n",
       "      <th>rph11</th>\n",
       "      <th>rph7</th>\n",
       "      <th>diss21</th>\n",
       "      <th>diss11</th>\n",
       "      <th>...</th>\n",
       "      <th>state_dist</th>\n",
       "      <th>local_dist</th>\n",
       "      <th>strm_dist</th>\n",
       "      <th>strm_cost</th>\n",
       "      <th>us_cost</th>\n",
       "      <th>state_cost</th>\n",
       "      <th>local_cost</th>\n",
       "      <th>steve</th>\n",
       "      <th>dspm</th>\n",
       "      <th>drain</th>\n",
       "    </tr>\n",
       "  </thead>\n",
       "  <tbody>\n",
       "    <tr>\n",
       "      <th>0</th>\n",
       "      <td>not</td>\n",
       "      <td>4.85612</td>\n",
       "      <td>-2.560850</td>\n",
       "      <td>-0.799744</td>\n",
       "      <td>-0.338257</td>\n",
       "      <td>18.655701</td>\n",
       "      <td>2.11668</td>\n",
       "      <td>0.248973</td>\n",
       "      <td>0.042033</td>\n",
       "      <td>0.056310</td>\n",
       "      <td>...</td>\n",
       "      <td>6168.839844</td>\n",
       "      <td>0.000000</td>\n",
       "      <td>72.801102</td>\n",
       "      <td>86.637901</td>\n",
       "      <td>2239.270020</td>\n",
       "      <td>14990.799800</td>\n",
       "      <td>65.587799</td>\n",
       "      <td>4</td>\n",
       "      <td>1</td>\n",
       "      <td>1</td>\n",
       "    </tr>\n",
       "    <tr>\n",
       "      <th>1</th>\n",
       "      <td>not</td>\n",
       "      <td>4.91437</td>\n",
       "      <td>-0.353561</td>\n",
       "      <td>-0.027847</td>\n",
       "      <td>0.018600</td>\n",
       "      <td>4.788600</td>\n",
       "      <td>1.27792</td>\n",
       "      <td>0.473525</td>\n",
       "      <td>0.392066</td>\n",
       "      <td>0.421253</td>\n",
       "      <td>...</td>\n",
       "      <td>3517.290039</td>\n",
       "      <td>421.070007</td>\n",
       "      <td>534.603027</td>\n",
       "      <td>1660.099976</td>\n",
       "      <td>3253.659912</td>\n",
       "      <td>2088.399902</td>\n",
       "      <td>1857.839966</td>\n",
       "      <td>5</td>\n",
       "      <td>5</td>\n",
       "      <td>2</td>\n",
       "    </tr>\n",
       "  </tbody>\n",
       "</table>\n",
       "<p>2 rows × 44 columns</p>\n",
       "</div>"
      ],
      "text/plain": [
       "  class      slp      sp21      sp11       sp7      rph21    rph11      rph7  \\\n",
       "0   not  4.85612 -2.560850 -0.799744 -0.338257  18.655701  2.11668  0.248973   \n",
       "1   not  4.91437 -0.353561 -0.027847  0.018600   4.788600  1.27792  0.473525   \n",
       "\n",
       "     diss21    diss11  ...   state_dist  local_dist   strm_dist    strm_cost  \\\n",
       "0  0.042033  0.056310  ...  6168.839844    0.000000   72.801102    86.637901   \n",
       "1  0.392066  0.421253  ...  3517.290039  421.070007  534.603027  1660.099976   \n",
       "\n",
       "       us_cost    state_cost   local_cost  steve  dspm  drain  \n",
       "0  2239.270020  14990.799800    65.587799      4     1      1  \n",
       "1  3253.659912   2088.399902  1857.839966      5     5      2  \n",
       "\n",
       "[2 rows x 44 columns]"
      ]
     },
     "execution_count": 2,
     "metadata": {},
     "output_type": "execute_result"
    }
   ],
   "source": [
    "df = pd.read_csv('./Project3Data/lsm_data2.csv') #Read Data\n",
    "df.head(2)"
   ]
  },
  {
   "cell_type": "markdown",
   "id": "a7d5add7",
   "metadata": {},
   "source": [
    "### Encode Class Variable\n",
    "```python \n",
    "{'not':0, 'slopeD':1} \n",
    "```"
   ]
  },
  {
   "cell_type": "code",
   "execution_count": 3,
   "id": "0f662db0",
   "metadata": {},
   "outputs": [],
   "source": [
    "encode_map = {'not':0, 'slopeD':1} \n",
    "df['class'] = df['class'].map(encode_map) #Map Column to Integer Values"
   ]
  },
  {
   "cell_type": "code",
   "execution_count": 4,
   "id": "c9c691b3",
   "metadata": {},
   "outputs": [],
   "source": [
    "df_ls = [df.iloc[:,1:], df.iloc[:,1:32], df.iloc[:,41:], df.iloc[:,33:41], df.iloc[:,33:]]\n",
    "df_labels =['ALL', 'Terrain', 'Lithology/Soils', 'Distance', 'All Not Terrain'] #Hold Set Features"
   ]
  },
  {
   "cell_type": "markdown",
   "id": "9023a535",
   "metadata": {},
   "source": [
    "## Fit Random Forest Model Across Spatial Features\n",
    "> _**Optimize Slope Failure (Class 1) Predictions**_"
   ]
  },
  {
   "cell_type": "code",
   "execution_count": 5,
   "id": "4710027b",
   "metadata": {},
   "outputs": [
    {
     "name": "stdout",
     "output_type": "stream",
     "text": [
      "Analysis of ALL Features\n",
      "                 Pred_NonFailure  Pred_Failure\n",
      "True_NonFailure              467           116\n",
      "True_Failure                  60           523 \n",
      "\n",
      "AUC: 0.926876127206235\n",
      "Optimal P(Y) Threshold: 0.523 \n",
      "____________________________________\n",
      "\n",
      "Analysis of Terrain Features\n",
      "                 Pred_NonFailure  Pred_Failure\n",
      "True_NonFailure              465           118\n",
      "True_Failure                  65           518 \n",
      "\n",
      "AUC: 0.9258081314782178\n",
      "Optimal P(Y) Threshold: 0.56 \n",
      "____________________________________\n",
      "\n",
      "Analysis of Lithology/Soils Features\n",
      "                 Pred_NonFailure  Pred_Failure\n",
      "True_NonFailure              198           385\n",
      "True_Failure                  72           511 \n",
      "\n",
      "AUC: 0.6759383210401043\n",
      "Optimal P(Y) Threshold: 0.544 \n",
      "____________________________________\n",
      "\n",
      "Analysis of Distance Features\n",
      "                 Pred_NonFailure  Pred_Failure\n",
      "True_NonFailure              360           223\n",
      "True_Failure                 104           479 \n",
      "\n",
      "AUC: 0.7889310922095154\n",
      "Optimal P(Y) Threshold: 0.488 \n",
      "____________________________________\n",
      "\n",
      "Analysis of All Not Terrain Features\n",
      "                 Pred_NonFailure  Pred_Failure\n",
      "True_NonFailure              357           226\n",
      "True_Failure                 109           474 \n",
      "\n",
      "AUC: 0.7894606768680362\n",
      "Optimal P(Y) Threshold: 0.439 \n",
      "____________________________________\n",
      "\n"
     ]
    }
   ],
   "source": [
    "rates = [] #2-dimensional array holding fpr + tpr vals\n",
    "for idx in range(len(df_ls)):\n",
    "    print('Analysis of {} Features'.format(df_labels[idx]))\n",
    "    #Split and Stratify Data\n",
    "    x_train, x_test, y_train, y_test = SPLIT(df_ls[idx], df.iloc[:,0], test_size=.333, stratify=df.iloc[:,0],\n",
    "                                            random_state=0)\n",
    "    #Fit Model\n",
    "    rf = RandomForestClassifier(n_estimators=120, max_depth=5, min_samples_leaf=8)\n",
    "    rf.fit(x_train, y_train)\n",
    "    \n",
    "    #Confusion Matrix\n",
    "    print(pd.DataFrame(confusion_matrix(y_test, rf.predict(x_test))).rename(columns={0:'Pred_NonFailure', 1:\n",
    "                                                                          'Pred_Failure'},\n",
    "                                                        index={0:'True_NonFailure', 1:'True_Failure'}), '\\n')\n",
    "    #ROC + AUC Metric\n",
    "    fpr, tpr, thres = roc_curve(y_test, rf.predict_proba(x_test)[:,1])\n",
    "    rates.append([fpr, tpr])\n",
    "    print('AUC:', auc(fpr, tpr))\n",
    "    \n",
    "    #Calc optimized p(y) thres vlalue\n",
    "    optimal_threshold = thres[np.argmax(tpr - fpr)] \n",
    "    print(f\"Optimal P(Y) Threshold: {round(optimal_threshold,3)}\", '\\n____________________________________\\n')"
   ]
  },
  {
   "cell_type": "markdown",
   "id": "c8fb3a16",
   "metadata": {},
   "source": [
    "### ROC Curves"
   ]
  },
  {
   "cell_type": "code",
   "execution_count": 6,
   "id": "92202737",
   "metadata": {},
   "outputs": [
    {
     "data": {
      "image/png": "[encoded data removed]",
      "text/plain": [
       "<Figure size 576x576 with 1 Axes>"
      ]
     },
     "metadata": {
      "needs_background": "light"
     },
     "output_type": "display_data"
    }
   ],
   "source": [
    "#ROC curve\n",
    "\n",
    "plt.figure(figsize=(8, 8))\n",
    "\n",
    "for idx in range(len(rates)):\n",
    "    plt.plot(rates[idx][0], rates[idx][1], label=df_labels[idx]+' features')\n",
    "\n",
    "plt.plot([0, 1], [0, 1], linestyle='--', color='grey')\n",
    "plt.xlabel('False Positive Rate')\n",
    "plt.ylabel('True Positive Rate')\n",
    "plt.title('Receiver Operating Characteristic (ROC) Curve')\n",
    "plt.legend()\n",
    "plt.show()\n"
   ]
  }
 ],
 "metadata": {
  "kernelspec": {
   "display_name": "Python 3 (ipykernel)",
   "language": "python",
   "name": "python3"
  },
  "language_info": {
   "codemirror_mode": {
    "name": "ipython",
    "version": 3
   },
   "file_extension": ".py",
   "mimetype": "text/x-python",
   "name": "python",
   "nbconvert_exporter": "python",
   "pygments_lexer": "ipython3",
   "version": "3.9.6"
  }
 },
 "nbformat": 4,
 "nbformat_minor": 5
}
