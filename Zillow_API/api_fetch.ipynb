{
 "cells": [
  {
   "cell_type": "markdown",
   "id": "6a55270b",
   "metadata": {},
   "source": [
    "# Bridge MLS Data 🌉"
   ]
  },
  {
   "cell_type": "code",
   "execution_count": 109,
   "id": "f3d172d4",
   "metadata": {},
   "outputs": [],
   "source": [
    "#Import libraries\n",
    "import pandas as pd\n",
    "import numpy as np\n",
    "import json\n",
    "import requests"
   ]
  },
  {
   "cell_type": "code",
   "execution_count": 23,
   "id": "a32c1f39",
   "metadata": {},
   "outputs": [],
   "source": [
    "dataset_id = 'bridgemls'\n",
    "server_token = '4c71c15af9f486c827e0307b79d0582a'\n",
    "resource = 'property'\n",
    "\n",
    "#r = requests.get(f'https://api.bridgedataoutput.com/api/v2/{dataset_id}/{resource}?access_token={server_token}')\n",
    "r = requests.get('https://api.bridgedataoutput.com/api/v2/dataset_id/listings?access_token=access_token')"
   ]
  },
  {
   "cell_type": "code",
   "execution_count": 24,
   "id": "a855ba24",
   "metadata": {},
   "outputs": [
    {
     "data": {
      "text/plain": [
       "<Response [403]>"
      ]
     },
     "execution_count": 24,
     "metadata": {},
     "output_type": "execute_result"
    }
   ],
   "source": [
    "r"
   ]
  },
  {
   "cell_type": "code",
   "execution_count": 13,
   "id": "c3a02b52",
   "metadata": {},
   "outputs": [
    {
     "data": {
      "text/plain": [
       "'properties'"
      ]
     },
     "execution_count": 13,
     "metadata": {},
     "output_type": "execute_result"
    }
   ],
   "source": [
    "resource"
   ]
  },
  {
   "cell_type": "markdown",
   "id": "5f8beecc",
   "metadata": {},
   "source": [
    "# RapidAPI"
   ]
  },
  {
   "cell_type": "code",
   "execution_count": 26,
   "id": "2ed457da",
   "metadata": {},
   "outputs": [
    {
     "name": "stdout",
     "output_type": "stream",
     "text": [
      "{'message': 'You are not subscribed to this API.'}\n"
     ]
    }
   ],
   "source": [
    "import requests\n",
    "\n",
    "url = \"https://mashvisor-api.p.rapidapi.com/rental-rates\"\n",
    "\n",
    "querystring = {\"state\":\"CA\",\"source\":\"airbnb\",\"city\":\"Los Angeles\",\"zip_code\":\"90291\"}\n",
    "\n",
    "headers = {\n",
    "\t\"X-RapidAPI-Key\": \"552c8e0a5emsh03eb078a5d59bdap1e9190jsn571dc949c1bc\",\n",
    "\t\"X-RapidAPI-Host\": \"mashvisor-api.p.rapidapi.com\"\n",
    "}\n",
    "\n",
    "response = requests.get(url, headers=headers, params=querystring)\n",
    "\n",
    "print(response.json())"
   ]
  },
  {
   "cell_type": "code",
   "execution_count": null,
   "id": "c1142630",
   "metadata": {},
   "outputs": [],
   "source": []
  },
  {
   "cell_type": "markdown",
   "id": "9efd34bd",
   "metadata": {},
   "source": [
    "# Webscrape Zillow"
   ]
  },
  {
   "cell_type": "code",
   "execution_count": 110,
   "id": "086b42af",
   "metadata": {},
   "outputs": [],
   "source": [
    "#https://www.zillow.com/rocklin-ca/?searchQueryState=%7B%22usersSearchTerm%22%3A%22Rocklin%2C%20CA%22%2C%22mapBounds%22%3A%7B%22west%22%3A-121.34148254028321%2C%22east%22%3A-121.1818374597168%2C%22south%22%3A38.759571358337595%2C%22north%22%3A38.859493284481886%7D%2C%22regionSelection%22%3A%5B%7B%22regionId%22%3A6809%2C%22regionType%22%3A6%7D%5D%2C%22isMapVisible%22%3Atrue%2C%22filterState%22%3A%7B%22sort%22%3A%7B%22value%22%3A%22days%22%7D%2C%22ah%22%3A%7B%22value%22%3Atrue%7D%7D%2C%22isListVisible%22%3Atrue%2C%22mapZoom%22%3A13%7D\n",
    "from bs4 import BeautifulSoup\n",
    "\n",
    "r = requests.get('https://www.redfin.com/city/16409/CA/Sacramento?utm_medium=ppc&utm_term=aud-923999260716:kwd-18479583&utm_content=571911945531&utm_campaign=1034079&gclid=Cj0KCQjwoeemBhCfARIsADR2QCtUnYgxvF1rdzy7Wtzu0lM2uALLwk9kDasnq185i-JZK2lPqnnGH5saAqkwEALw_wcB')"
   ]
  },
  {
   "cell_type": "code",
   "execution_count": null,
   "id": "5d91be77",
   "metadata": {},
   "outputs": [],
   "source": [
    "https://www.redfin.com/city/16409/CA/Sacramento/page-2?utm_medium=ppc&utm_term=aud-923999260716:kwd-18479583&utm_content=571911945531&utm_campaign=1034079&gclid=Cj0KCQjwoeemBhCfARIsADR2QCtUnYgxvF1rdzy7Wtzu0lM2uALLwk9kDasnq185i-JZK2lPqnnGH5saAqkwEALw_wcB"
   ]
  },
  {
   "cell_type": "code",
   "execution_count": 111,
   "id": "3ad3ad61",
   "metadata": {},
   "outputs": [],
   "source": [
    "soup = BeautifulSoup(r.content, 'html.parser')"
   ]
  },
  {
   "cell_type": "code",
   "execution_count": 112,
   "id": "049f2200",
   "metadata": {},
   "outputs": [
    {
     "data": {
      "text/plain": [
       "43"
      ]
     },
     "execution_count": 112,
     "metadata": {},
     "output_type": "execute_result"
    }
   ],
   "source": [
    "len(soup.find_all('div', {'class': 'v2 interactive'}))"
   ]
  },
  {
   "cell_type": "code",
   "execution_count": 113,
   "id": "002d3610",
   "metadata": {},
   "outputs": [
    {
     "name": "stdout",
     "output_type": "stream",
     "text": [
      "$279,900\n",
      "$459,900\n",
      "Ad\n",
      "$525,000\n",
      "$399,000\n",
      "$739,900\n",
      "$800,000\n",
      "$425,000\n",
      "$749,900\n",
      "$1,699,000\n",
      "$650,000\n",
      "$949,000\n",
      "$585,000\n",
      "$450,000\n",
      "$499,000\n",
      "$305,000\n",
      "Ad\n",
      "$75,000\n",
      "$475,000\n",
      "$949,000\n",
      "$430,000\n",
      "$695,000\n",
      "$1,800,000\n",
      "$529,000\n",
      "$750,000\n",
      "$75,000\n",
      "Ad\n",
      "$849,000\n",
      "$465,000\n",
      "$409,900\n",
      "$625,000\n",
      "$424,990\n",
      "$45,000\n",
      "$570,000\n",
      "$549,000\n",
      "$449,000\n",
      "$349,000\n",
      "$414,950\n",
      "$383,000\n",
      "$728,000\n",
      "$365,000\n",
      "$320,000\n",
      "$210,000\n"
     ]
    }
   ],
   "source": [
    "#PRICE OF HOME\n",
    "\n",
    "for idx in range(len(soup.find_all('div', {'class': 'v2 interactive'}))):\n",
    "    try:\n",
    "        print(soup.find_all('div', {'class': 'v2 interactive'})[idx].find_all('span', {'class': 'homecardV2Price'})[0].text)\n",
    "    except:\n",
    "        print('Ad')\n",
    "#.find_all('div', {'script type':'application/ld+json'}) #.find_all('div', {'class': 'stats'}) ##Find Stats of Property"
   ]
  },
  {
   "cell_type": "code",
   "execution_count": 115,
   "id": "5591a877",
   "metadata": {},
   "outputs": [
    {
     "name": "stdout",
     "output_type": "stream",
     "text": [
      "3 Beds\n",
      "1 Bath\n",
      "918 Sq. Ft.\n",
      "\n",
      "2 Beds\n",
      "2.5 Baths\n",
      "1,116 Sq. Ft.\n",
      "\n",
      "AD\n",
      "3 Beds\n",
      "2 Baths\n",
      "1,192 Sq. Ft.\n",
      "\n",
      "4 Beds\n",
      "2 Baths\n",
      "1,502 Sq. Ft.\n",
      "\n",
      "3 Beds\n",
      "1.5 Baths\n",
      "1,408 Sq. Ft.\n",
      "\n",
      "3 Beds\n",
      "2 Baths\n",
      "2,106 Sq. Ft.\n",
      "\n",
      "2 Beds\n",
      "1 Bath\n",
      "844 Sq. Ft.\n",
      "\n",
      "3 Beds\n",
      "2 Baths\n",
      "1,701 Sq. Ft.\n",
      "\n",
      "4 Beds\n",
      "4 Baths\n",
      "2,152 Sq. Ft.\n",
      "\n",
      "4 Beds\n",
      "2 Baths\n",
      "1,676 Sq. Ft.\n",
      "\n",
      "5 Beds\n",
      "3.5 Baths\n",
      "2,922 Sq. Ft.\n",
      "\n",
      "2 Beds\n",
      "2 Baths\n",
      "1,261 Sq. Ft.\n",
      "\n",
      "3 Beds\n",
      "2 Baths\n",
      "1,344 Sq. Ft.\n",
      "\n",
      "1 Bed\n",
      "1 Bath\n",
      "967 Sq. Ft.\n",
      "\n",
      "2 Beds\n",
      "1 Bath\n",
      "558 Sq. Ft.\n",
      "\n",
      "AD\n",
      "—Beds\n",
      "—Baths\n",
      "3846 Sq. Ft. (Lot)\n",
      "\n",
      "2 Beds\n",
      "1 Bath\n",
      "934 Sq. Ft.\n",
      "\n",
      "3 Beds\n",
      "1.5 Baths\n",
      "1,361 Sq. Ft.\n",
      "\n",
      "3 Beds\n",
      "1.5 Baths\n",
      "1,020 Sq. Ft.\n",
      "\n",
      "3 Beds\n",
      "2.5 Baths\n",
      "1,913 Sq. Ft.\n",
      "\n",
      "3 Beds\n",
      "2.5 Baths\n",
      "2,833 Sq. Ft.\n",
      "\n",
      "2 Beds\n",
      "2.5 Baths\n",
      "1,547 Sq. Ft.\n",
      "\n",
      "4 Beds\n",
      "3 Baths\n",
      "2,450 Sq. Ft.\n",
      "\n",
      "2 Beds\n",
      "2 Baths\n",
      "1,344 Sq. Ft.\n",
      "\n",
      "AD\n",
      "4 Beds\n",
      "4 Baths\n",
      "1,972 Sq. Ft.\n",
      "\n",
      "4 Beds\n",
      "2 Baths\n",
      "1,442 Sq. Ft.\n",
      "\n",
      "2 Beds\n",
      "1 Bath\n",
      "1,160 Sq. Ft.\n",
      "\n",
      "3 Beds\n",
      "2 Baths\n",
      "1,819 Sq. Ft.\n",
      "\n",
      "2 Beds\n",
      "2.5 Baths\n",
      "1,014 Sq. Ft.\n",
      "\n",
      "1 Bed\n",
      "1 Bath\n",
      "560 Sq. Ft.\n",
      "\n",
      "4 Beds\n",
      "2 Baths\n",
      "1,568 Sq. Ft.\n",
      "\n",
      "3 Beds\n",
      "2.5 Baths\n",
      "1,796 Sq. Ft.\n",
      "\n",
      "3 Beds\n",
      "2 Baths\n",
      "1,625 Sq. Ft.\n",
      "\n",
      "3 Beds\n",
      "2 Baths\n",
      "1,258 Sq. Ft.\n",
      "\n",
      "3 Beds\n",
      "1.5 Baths\n",
      "982 Sq. Ft.\n",
      "\n",
      "3 Beds\n",
      "2 Baths\n",
      "1,379 Sq. Ft.\n",
      "\n",
      "3 Beds\n",
      "2 Baths\n",
      "1,694 Sq. Ft.\n",
      "\n",
      "3 Beds\n",
      "1 Bath\n",
      "1,139 Sq. Ft.\n",
      "\n",
      "3 Beds\n",
      "1 Bath\n",
      "1,039 Sq. Ft.\n",
      "\n",
      "2 Beds\n",
      "1.5 Baths\n",
      "933 Sq. Ft.\n",
      "\n"
     ]
    }
   ],
   "source": [
    "for idx in range(len(soup.find_all('div', {'class': 'v2 interactive'}))):\n",
    "    try:\n",
    "        print(soup.find_all('div', {'class': 'v2 interactive'})[idx].find_all('div', {'class': 'stats'})[0].text)\n",
    "        print(soup.find_all('div', {'class': 'v2 interactive'})[idx].find_all('div', {'class': 'stats'})[1].text)\n",
    "        print(soup.find_all('div', {'class': 'v2 interactive'})[idx].find_all('div', {'class': 'stats'})[2].text)\n",
    "        print()\n",
    "    except:\n",
    "        pass\n"
   ]
  },
  {
   "cell_type": "code",
   "execution_count": 116,
   "id": "548df2b5",
   "metadata": {},
   "outputs": [
    {
     "data": {
      "text/plain": [
       "[<div class=\"link-and-anchor\">3829 Elm St, Sacramento, CA 95838</div>,\n",
       " <div class=\"link-and-anchor\">413 Tailoff Ln Unit 91B, Sacramento, CA 95818</div>,\n",
       " <div class=\"link-and-anchor\">5321 Dana, Sacramento, CA 95822</div>,\n",
       " <div class=\"link-and-anchor\">4900 Parker Ave, Sacramento, CA 95820</div>,\n",
       " <div class=\"link-and-anchor\">4739 C St, Sacramento, CA 95819</div>,\n",
       " <div class=\"link-and-anchor\">2830 Rhonda Way, Sacramento, CA 95821</div>,\n",
       " <div class=\"link-and-anchor\">3605 Alberta Ave, Sacramento, CA 95821</div>,\n",
       " <div class=\"link-and-anchor\">6611 Benham Way, Sacramento, CA 95831</div>,\n",
       " <div class=\"link-and-anchor\">1624 P St, Sacramento, CA 95814</div>,\n",
       " <div class=\"link-and-anchor\">3846 Edison Ave, Sacramento, CA 95821</div>,\n",
       " <div class=\"link-and-anchor\">2941 Sienna Ln, Sacramento, CA 95864</div>,\n",
       " <div class=\"link-and-anchor\">500 N St #1108, Sacramento, CA 95814</div>,\n",
       " <div class=\"link-and-anchor\">68 Kelso Cir, Sacramento, CA 95833</div>,\n",
       " <div class=\"link-and-anchor\">1818 - 1818 22nd St #103, Sacramento, CA 95816</div>,\n",
       " <div class=\"link-and-anchor\">4716 Roosevelt, Sacramento, CA 95820</div>,\n",
       " <div class=\"link-and-anchor\">0 Balsam St, Sacramento, CA 95838</div>,\n",
       " <div class=\"link-and-anchor\">5246 J St, Sacramento, CA 95819</div>,\n",
       " <div class=\"link-and-anchor\">2675 Huntington Rd, Sacramento, CA 95864</div>,\n",
       " <div class=\"link-and-anchor\">2080 Mangrum Ave, Sacramento, CA 95822</div>,\n",
       " <div class=\"link-and-anchor\">3288 Ronald Reagan Way, Sacramento, CA 95818</div>,\n",
       " <div class=\"link-and-anchor\">4049 Ramel Way, Sacramento, CA 95864</div>,\n",
       " <div class=\"link-and-anchor\">1045 Vanderbilt Way, Sacramento, CA 95825</div>,\n",
       " <div class=\"link-and-anchor\">9439 Marius Way, Sacramento, CA 95829</div>,\n",
       " <div class=\"link-and-anchor\">6217 Lurline Ave #112, Sacramento, CA 95841</div>,\n",
       " <div class=\"link-and-anchor\">2713 Tomato Aly, Sacramento, CA 95818</div>,\n",
       " <div class=\"link-and-anchor\">8180 Scenic Hills Way, Sacramento, CA 95828</div>,\n",
       " <div class=\"link-and-anchor\">2891 Herbert Way, Sacramento, CA 95821</div>,\n",
       " <div class=\"link-and-anchor\">1636 Los Molinos Way, Sacramento, CA 95864</div>,\n",
       " <div class=\"link-and-anchor\">457 Crate Ave, Sacramento, CA 95818</div>,\n",
       " <div class=\"link-and-anchor\">3440 Fulton Ave #11, Sacramento, CA 95821</div>,\n",
       " <div class=\"link-and-anchor\">1 Seine Ct, Sacramento, CA 95826</div>,\n",
       " <div class=\"link-and-anchor\">5727 Honor Pkwy, Sacramento, CA 95835</div>,\n",
       " <div class=\"link-and-anchor\">517 Franesi Way, Sacramento, CA 95838</div>,\n",
       " <div class=\"link-and-anchor\">6811 Woodbine Ave, Sacramento, CA 95822</div>,\n",
       " <div class=\"link-and-anchor\">6504 Golf View Dr, Sacramento, CA 95822</div>,\n",
       " <div class=\"link-and-anchor\">4913 Tacomic Dr, Sacramento, CA 95842</div>,\n",
       " <div class=\"link-and-anchor\">109 River Chase Cir, Sacramento, CA 95864</div>,\n",
       " <div class=\"link-and-anchor\">5520 Bradford Dr, Sacramento, CA 95820</div>,\n",
       " <div class=\"link-and-anchor\">5308 58th St, Sacramento, CA 95820</div>,\n",
       " <div class=\"link-and-anchor\">5622 Hillsdale Blvd Unit A, Sacramento, CA 95842</div>]"
      ]
     },
     "execution_count": 116,
     "metadata": {},
     "output_type": "execute_result"
    }
   ],
   "source": [
    "soup.find_all('div', {'class': 'link-and-anchor'})"
   ]
  },
  {
   "cell_type": "markdown",
   "id": "22c5fcda",
   "metadata": {},
   "source": [
    "##### "
   ]
  }
 ],
 "metadata": {
  "kernelspec": {
   "display_name": "Python 3 (ipykernel)",
   "language": "python",
   "name": "python3"
  },
  "language_info": {
   "codemirror_mode": {
    "name": "ipython",
    "version": 3
   },
   "file_extension": ".py",
   "mimetype": "text/x-python",
   "name": "python",
   "nbconvert_exporter": "python",
   "pygments_lexer": "ipython3",
   "version": "3.9.6"
  }
 },
 "nbformat": 4,
 "nbformat_minor": 5
}
