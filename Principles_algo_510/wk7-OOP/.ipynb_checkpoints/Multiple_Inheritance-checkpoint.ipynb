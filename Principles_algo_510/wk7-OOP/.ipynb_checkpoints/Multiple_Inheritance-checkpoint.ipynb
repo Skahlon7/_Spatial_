{
 "cells": [
  {
   "cell_type": "markdown",
   "id": "882d47e8",
   "metadata": {},
   "source": [
    "# Multiple Inheritance\n",
    "From https://www.geeksforgeeks.org/multiple-inheritance-in-python/\n",
    "\n",
    "<img src=\"Diamond1.png\" alt=\"Diamond\" width=\"300\"/>"
   ]
  },
  {
   "cell_type": "markdown",
   "id": "7b85dda6",
   "metadata": {},
   "source": [
    "### When the method is overridden in both classes"
   ]
  },
  {
   "cell_type": "code",
   "execution_count": 1,
   "id": "32baff63",
   "metadata": {},
   "outputs": [
    {
     "name": "stdout",
     "output_type": "stream",
     "text": [
      "In Class2\n"
     ]
    }
   ],
   "source": [
    "# Python Program to depict multiple inheritance\n",
    "# when method is overridden in both classes\n",
    " \n",
    "class Class1:\n",
    "    def m(self):\n",
    "        print(\"In Class1\")\n",
    "\n",
    "class Class2(Class1):\n",
    "    def m(self):\n",
    "        print(\"In Class2\")\n",
    "\n",
    "class Class3(Class1):\n",
    "    def m(self):\n",
    "        print(\"In Class3\") \n",
    "        \n",
    "class Class4(Class2, Class3):\n",
    "    pass  \n",
    "     \n",
    "obj = Class4()\n",
    "obj.m()"
   ]
  },
  {
   "cell_type": "markdown",
   "id": "7f80ba37",
   "metadata": {},
   "source": [
    "If Class4 is declared as Class4(Class3, Class2) then the output of obj.m() will be In Class3."
   ]
  },
  {
   "cell_type": "markdown",
   "id": "83412bc5",
   "metadata": {},
   "source": [
    "### When the method is overridden in one of the classes"
   ]
  },
  {
   "cell_type": "code",
   "execution_count": 2,
   "id": "327b1a3d",
   "metadata": {},
   "outputs": [
    {
     "name": "stdout",
     "output_type": "stream",
     "text": [
      "In Class3\n"
     ]
    }
   ],
   "source": [
    "# Python Program to depict multiple inheritance\n",
    "# when method is overridden in one of the classes\n",
    " \n",
    "class Class1:\n",
    "    def m(self):\n",
    "        print(\"In Class1\")\n",
    "\n",
    "class Class2(Class1):\n",
    "    pass\n",
    " \n",
    "class Class3(Class1):\n",
    "    def m(self):\n",
    "        print(\"In Class3\")   \n",
    "\n",
    "class Class4(Class2, Class3):\n",
    "    pass      \n",
    " \n",
    "obj = Class4()\n",
    "obj.m()"
   ]
  },
  {
   "cell_type": "markdown",
   "id": "15df5f6e",
   "metadata": {},
   "source": [
    "### When every class defines the same method"
   ]
  },
  {
   "cell_type": "code",
   "execution_count": 3,
   "id": "be9bc619",
   "metadata": {},
   "outputs": [
    {
     "name": "stdout",
     "output_type": "stream",
     "text": [
      "In Class4\n",
      "In Class2\n",
      "In Class3\n",
      "In Class1\n"
     ]
    }
   ],
   "source": [
    "# Python Program to depict multiple inheritance\n",
    "# when every class defines the same method\n",
    " \n",
    "class Class1:\n",
    "    def m(self):\n",
    "        print(\"In Class1\")\n",
    "\n",
    "class Class2(Class1):\n",
    "    def m(self):\n",
    "        print(\"In Class2\")\n",
    "\n",
    "class Class3(Class1):\n",
    "    def m(self):\n",
    "         print(\"In Class3\")    \n",
    "\n",
    "class Class4(Class2, Class3):\n",
    "    def m(self):\n",
    "        print(\"In Class4\")  \n",
    "\n",
    "obj = Class4()\n",
    "obj.m()\n",
    " \n",
    "Class2.m(obj)\n",
    "Class3.m(obj)\n",
    "Class1.m(obj)"
   ]
  },
  {
   "cell_type": "markdown",
   "id": "92b7c009",
   "metadata": {},
   "source": [
    "### Calling methods explicitly using class name"
   ]
  },
  {
   "cell_type": "code",
   "execution_count": 4,
   "id": "d39f057f",
   "metadata": {},
   "outputs": [
    {
     "name": "stdout",
     "output_type": "stream",
     "text": [
      "In Class4\n",
      "In Class2\n",
      "In Class3\n",
      "In Class1\n"
     ]
    }
   ],
   "source": [
    "# Python Program to depict multiple inheritance\n",
    "# when we try to call the method m for Class1,\n",
    "# Class2, Class3 from the method m of Class4\n",
    "  \n",
    "class Class1:\n",
    "    def m(self):\n",
    "        print(\"In Class1\") \n",
    "\n",
    "class Class2(Class1):\n",
    "    def m(self):\n",
    "        print(\"In Class2\")\n",
    "\n",
    "class Class3(Class1):\n",
    "    def m(self):\n",
    "        print(\"In Class3\")    \n",
    "\n",
    "class Class4(Class2, Class3):\n",
    "    def m(self):\n",
    "        print(\"In Class4\")  \n",
    "        Class2.m(self)\n",
    "        Class3.m(self)\n",
    "        Class1.m(self)\n",
    "\n",
    "obj = Class4()\n",
    "obj.m()"
   ]
  },
  {
   "cell_type": "code",
   "execution_count": 5,
   "id": "d8e3f956",
   "metadata": {},
   "outputs": [
    {
     "name": "stdout",
     "output_type": "stream",
     "text": [
      "In Class4\n",
      "In Class2\n",
      "In Class1\n",
      "In Class3\n",
      "In Class1\n"
     ]
    }
   ],
   "source": [
    "# Python Program to depict multiple inheritance\n",
    "# when we try to call m of Class1 from both m of\n",
    "# Class2 and m of Class3\n",
    " \n",
    "class Class1:\n",
    "    def m(self):\n",
    "        print(\"In Class1\")  \n",
    "\n",
    "class Class2(Class1):\n",
    "    def m(self):\n",
    "        print(\"In Class2\")\n",
    "        Class1.m(self)\n",
    "\n",
    "class Class3(Class1):\n",
    "    def m(self):\n",
    "        print(\"In Class3\")\n",
    "        Class1.m(self)  \n",
    "\n",
    "class Class4(Class2, Class3):\n",
    "    def m(self):\n",
    "        print(\"In Class4\")  \n",
    "        Class2.m(self)\n",
    "        Class3.m(self)\n",
    "\n",
    "obj = Class4()\n",
    "obj.m()"
   ]
  },
  {
   "cell_type": "markdown",
   "id": "44eca790",
   "metadata": {},
   "source": [
    "The output of the above code has one problem associated with it, the method m of Class1 is called twice. Python provides a solution to the above problem with the help of the super() function. "
   ]
  },
  {
   "cell_type": "markdown",
   "id": "b72dd9b3",
   "metadata": {},
   "source": [
    "### The super Function "
   ]
  },
  {
   "cell_type": "code",
   "execution_count": 6,
   "id": "1c81f359",
   "metadata": {
    "scrolled": true
   },
   "outputs": [
    {
     "name": "stdout",
     "output_type": "stream",
     "text": [
      "In Class4\n",
      "In Class2\n",
      "In Class3\n",
      "In Class1\n"
     ]
    }
   ],
   "source": [
    "# Python program to demonstrate\n",
    "# super()\n",
    "\n",
    "class Class1:\n",
    "    def m(self):\n",
    "        print(\"In Class1\")\n",
    "\n",
    "class Class2(Class1):\n",
    "    def m(self):\n",
    "        print(\"In Class2\")\n",
    "        super().m()\n",
    "\n",
    "class Class3(Class1):\n",
    "    def m(self):\n",
    "        print(\"In Class3\")\n",
    "        super().m()\n",
    "\n",
    "class Class4(Class2, Class3):\n",
    "    def m(self):\n",
    "        print(\"In Class4\")  \n",
    "        super().m()\n",
    "\n",
    "obj = Class4()\n",
    "obj.m()\n"
   ]
  },
  {
   "cell_type": "markdown",
   "id": "378aa368",
   "metadata": {},
   "source": [
    "Super() is generally used with the __init__ function when the instances are initialized. The super function comes to a conclusion, on which method to call with the help of the method resolution order (MRO)."
   ]
  },
  {
   "cell_type": "markdown",
   "id": "e18dcd3d",
   "metadata": {},
   "source": [
    "### Method Resolution Order (MRO)\n",
    "\n",
    "Python MRO follows the C3 linearization algorithm: https://en.wikipedia.org/wiki/C3_linearization"
   ]
  },
  {
   "cell_type": "code",
   "execution_count": 7,
   "id": "e9081c4b",
   "metadata": {},
   "outputs": [
    {
     "name": "stdout",
     "output_type": "stream",
     "text": [
      "[<class '__main__.Class4'>, <class '__main__.Class2'>, <class '__main__.Class3'>, <class '__main__.Class1'>, <class 'object'>]\n"
     ]
    }
   ],
   "source": [
    "# Python program to demonstrate\n",
    "# super()\n",
    " \n",
    "class Class1:\n",
    "    def m(self):\n",
    "        print(\"In Class1\")\n",
    "\n",
    "class Class2(Class1):\n",
    "    def m(self):\n",
    "        print(\"In Class2\")\n",
    "        super().m()\n",
    "\n",
    "class Class3(Class1):\n",
    "    def m(self):\n",
    "        print(\"In Class3\")\n",
    "        super().m()\n",
    "\n",
    "class Class4(Class2, Class3):\n",
    "    def m(self):\n",
    "        print(\"In Class4\")  \n",
    "        super().m()\n",
    "\n",
    "print(Class4.mro()) "
   ]
  },
  {
   "cell_type": "code",
   "execution_count": null,
   "id": "54e7fb2e",
   "metadata": {},
   "outputs": [],
   "source": []
  }
 ],
 "metadata": {
  "kernelspec": {
   "display_name": "Python 3 (ipykernel)",
   "language": "python",
   "name": "python3"
  },
  "language_info": {
   "codemirror_mode": {
    "name": "ipython",
    "version": 3
   },
   "file_extension": ".py",
   "mimetype": "text/x-python",
   "name": "python",
   "nbconvert_exporter": "python",
   "pygments_lexer": "ipython3",
   "version": "3.9.6"
  }
 },
 "nbformat": 4,
 "nbformat_minor": 5
}
