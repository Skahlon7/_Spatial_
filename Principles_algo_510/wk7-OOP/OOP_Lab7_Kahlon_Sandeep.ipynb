{
 "cells": [
  {
   "cell_type": "markdown",
   "metadata": {
    "id": "tw6zgBpQAEYA"
   },
   "source": [
    "**<h3>DSCI 510: Principles of Programming for Data Science </h3>**\n",
    "<h4>Spring 2023 – Assignment 7</h4>\n",
    "\n",
    "Instructor: <a href=\"mailto:ambite@isi.edu\">Prof. Jose Luis Ambite </a>                       \t\t\t\t                           \n",
    "Course Producers: <a href=\"mailto:svara@usc.edu\">Samuel Vara</a>, <a href=\"mailto:svparakh@usc.edu\">Sanjana Parakh</a>, <a href=\"mailto:swarnita@usc.edu\">Swarnita Venkatraman</a>, <a href=\"mailto:gursimar@usc.edu\">Gursimar Kaur</a>\n",
    "</h2>"
   ]
  },
  {
   "cell_type": "markdown",
   "metadata": {
    "id": "XwY7qNwqAHvt"
   },
   "source": [
    "**Guidelines for the Assignment:**\n",
    "\n",
    "- You have to complete the assignments individually. If you are having trouble completing the assignment do let the TAs know/post on Piazza.\n",
    "\n",
    "- Please don't copy code (either partially/fully) from your classmates. Plagiarism of any form will result in a 0 and you will be reported to SJACS (https://sjacs.usc.edu/students/academic-integrity/).\n",
    "\n",
    "- You have to fill the code in this notebook and upload it for submission. While doing this, make sure all supporting files that you download from D2L are in the same directory as this notebook.  \n",
    "\n",
    "- File Naming Convention : Lab7_LastName_FirstName.ipynb\n",
    "\n",
    "- Don't change existing methods (if any, unless otherwise mentioned in the instructions)\n",
    "\n",
    "- You are encouraged to look up resources online like python docs and stackoverflow. Look up the topics and not the questions themselves. \n",
    "\n",
    "- Your last submission before the deadline will be counted towards your grade. You can submit any number of times before the deadline.\n",
    "\n",
    "- You need to take input from file/console only if it is mentioned in the question. If not we need just the logic/implementation of your function.\n",
    "\n",
    "- Scores are capped at 10 points including the Bonus problem. For Example: Even if you get a score of 12/10, your score is capped at 10.\n",
    "\n",
    "- Bonus score is counted only if the first 2 questions are attempted. Don't attempt the bonus question if you haven't attempted the first 2.\n",
    "\n",
    "----------------------------------------------"
   ]
  },
  {
   "cell_type": "markdown",
   "metadata": {
    "id": "WvHch3KFKlVC"
   },
   "source": [
    "**Question 1 [3 points]**\n",
    "\n",
    "Create a Employee class with the followinng properties and methods.\n",
    "\n",
    "Class Variables = (Initial value)\n",
    "- employee_count = 0 - integer\n",
    "- high_earning_employees = []  - list (of Employee objects) - those earning greater than $5000\n",
    "\n",
    "Instance Variables = (Initial value)\n",
    "....must be inside dunder init\n",
    "- first_name - string\n",
    "- last_name - string\n",
    "- company - string\n",
    "- salary - float ->\n",
    "if salary > $5000:\n",
    "    add the created object to class variable \"high_earning_employees\"\n",
    "\n",
    "if Employee object is successfully created increment employee_count\n",
    "\n",
    "class dunder functions\n",
    "*   str\n",
    "*   repr\n",
    "\n",
    "Instance method\n",
    "* fullname() = first_name [space] last_name\n",
    "\n",
    "Do not add functions/variables other than the ones above.\n",
    "\n",
    "\n",
    "\n",
    "\n"
   ]
  },
  {
   "cell_type": "code",
   "execution_count": 1,
   "metadata": {
    "id": "FYPvODXhAEyx"
   },
   "outputs": [],
   "source": [
    "# WRITE YOUR CLASS BELOW\n",
    "class Employee():\n",
    "    employee_count = 0\n",
    "    high_earning_employees = [] \n",
    "    def __init__(self, first_name:str, last_name:str, company:str, salary:float)->None:\n",
    "        self.first_name = first_name\n",
    "        self.last_name = last_name\n",
    "        self.company = company\n",
    "        self.salary = salary\n",
    "        Employee.employee_count +=1\n",
    "        if self.salary > 5000:\n",
    "            Employee.high_earning_employees.append(self)\n",
    "            \n",
    "    def fullname(self):\n",
    "        return '{} {}'.format\\\n",
    "    (self.first_name,self.last_name)\n",
    "    \n",
    "    def __str__(self):\n",
    "        return f'Employee: {self.first_name} {self.last_name} at {self.company} earning ${self.salary}'\n",
    "    \n",
    "    def __repr__(self):\n",
    "        return f'<{self.__class__.__name__} (first_name={self.first_name!r}, last_name={self.last_name!r}, company={self.company!r}, salary={self.salary})>'\n",
    "        "
   ]
  },
  {
   "cell_type": "markdown",
   "metadata": {
    "id": "17LN4x1SEke8"
   },
   "source": [
    "Question 2 [3 points]\n",
    "\n",
    "Create Employee objects for using data from each line in employees_raw_data.txt . Add each of these objects to \"employees_list\" list. Print employees_list (which should trigger dunder str of each Employee object)"
   ]
  },
  {
   "cell_type": "code",
   "execution_count": 2,
   "metadata": {
    "id": "FUNcumXhFjS6"
   },
   "outputs": [
    {
     "data": {
      "text/plain": [
       "['Employee: Jeffrey Fauna at AT&T earning $10000.0',\n",
       " 'Employee: Rey Odin at Delta earning $20000.0',\n",
       " 'Employee: Ceibhfhionn Grid at Tinder earning $40000.0',\n",
       " 'Employee: E Bile at Karl Lagerfeld earning $10000.0',\n",
       " 'Employee: Oissine Malta at Gap earning $2000.0']"
      ]
     },
     "execution_count": 2,
     "metadata": {},
     "output_type": "execute_result"
    }
   ],
   "source": [
    "employees_list = []\n",
    "file = open(r'./employees_raw_data.txt', 'r')\n",
    "lines_ls = file.readlines()\n",
    "for val in range(len(lines_ls)-1):\n",
    "    vals = lines_ls[val].rstrip().split(',')[0].split(' ') + lines_ls[val].rstrip().split(',')[1:]\n",
    "    first_n, last_n, comp, salary = vals[0], vals[1], vals[2], float(vals[3].split('$')[1])\n",
    "    employees_list.append(Employee(first_n, last_n, comp, salary))\n",
    "    \n",
    "[str(val1) for val1 in employees_list]"
   ]
  },
  {
   "cell_type": "markdown",
   "metadata": {
    "id": "Mjmg6D6ZGSyg"
   },
   "source": [
    "Question 3 [4 points]\n",
    "\n",
    "Complete the function \"check\". Your code should Go through each Employee object and check if there is a part of an attribute (first_name, last_name, company) value that matches that query term. If a match does exists, return all such Employee object (use dunder str) else return an empty list. [Case insensitive]\n",
    "\n",
    "Return type - list of strings\n",
    "[Hint: Use str.find()]\n",
    "\n",
    "Example 1\n",
    "\n",
    "Employee1\n",
    " - first_name = Jeffrey\n",
    " - last_name = Daniels\n",
    " - company = Amazon\n",
    " - wage = 10000\n",
    "\n",
    "Employee2\n",
    " - first_name = Jeff\n",
    " - last_name = Hubert\n",
    " - company = Google\n",
    " - wage = 20000\n",
    "\n",
    "Employee3\n",
    " - first_name = Roger\n",
    " - last_name = Foggle\n",
    " - company = Tinder\n",
    " - wage = 30000\n",
    "\n",
    "\n",
    "\n",
    "query - \"eff\"\n",
    "\n",
    "returns\n",
    "[\"Employee: Jeffrey Daniels at Amazon earning 10000.0\", \"Employee: Jeff Hubert at Google earning 20000.0\"]\n",
    "\n",
    "'eff' in \"Jeffrey\" and \"Jeff\"\n",
    "\n",
    "query - \"gle\"\n",
    "\n",
    "returns\n",
    "[\"Employee: Roger Foggle at Tinder earning 30000.0\", \"Employee: Jeff Hubert at Google earning 20000.0\"]\n",
    "\n",
    "'gle' in \"Google\" and \"Foggle\""
   ]
  },
  {
   "cell_type": "code",
   "execution_count": 289,
   "metadata": {
    "id": "mYYi0WMVGSXX"
   },
   "outputs": [],
   "source": [
    "def check(query):\n",
    "    return_ls = [] \n",
    "    for clas in employees_list:\n",
    "        t = [clas.first_name, clas.last_name, clas.company, clas.salary]\n",
    "        for element in t[:-1]:\n",
    "            if query in element:\n",
    "                return_ls.append(str(clas))\n",
    "    return return_ls"
   ]
  },
  {
   "cell_type": "code",
   "execution_count": 290,
   "metadata": {
    "id": "5P3Y24oCIcL5"
   },
   "outputs": [
    {
     "name": "stdout",
     "output_type": "stream",
     "text": [
      "['Employee: Ceibhfhionn Grid at Tinder earning $40000.0', 'Employee: E Bile at Karl Lagerfeld earning $10000.0']\n",
      "['Employee: Rey Odin at Delta earning $20000.0', 'Employee: Oissine Malta at Gap earning $2000.0']\n"
     ]
    }
   ],
   "source": [
    "print(check('er'))\n",
    "print(check('lta'))"
   ]
  },
  {
   "cell_type": "markdown",
   "metadata": {
    "id": "044heZlLve7Y"
   },
   "source": [
    "**Bonus Question [1 point]**"
   ]
  },
  {
   "cell_type": "markdown",
   "metadata": {
    "id": "BzDOt2onoWdN"
   },
   "source": [
    "Print the unique identifier for each object in employees list (use id()) and the identifier's hex code (use hex()). <br>\n",
    "Write a code to get the number of Employee objects created using the class variable employee_count and get all the High Earning Employee details (Hint: Use dunder str)"
   ]
  },
  {
   "cell_type": "code",
   "execution_count": 68,
   "metadata": {
    "id": "TXSx01mPoUQ7"
   },
   "outputs": [
    {
     "name": "stdout",
     "output_type": "stream",
     "text": [
      "Object #1: 1405619588489761-0x7fd721a049d0\n",
      "Object #2: 1405619589399042-0x7fd721a1ad00\n",
      "Object #3: 1405619589406243-0x7fd721a1afd0\n",
      "Object #4: 1405619589399524-0x7fd721a1ad30\n",
      "Object #5: 1405619589401445-0x7fd721a1adf0\n",
      "Number of employees: 5\n"
     ]
    },
    {
     "data": {
      "text/plain": [
       "['Employee: Jeffrey Fauna at AT&T earning $10000.0',\n",
       " 'Employee: Rey Odin at Delta earning $20000.0',\n",
       " 'Employee: Ceibhfhionn Grid at Tinder earning $40000.0',\n",
       " 'Employee: E Bile at Karl Lagerfeld earning $10000.0']"
      ]
     },
     "execution_count": 68,
     "metadata": {},
     "output_type": "execute_result"
    }
   ],
   "source": [
    "# Unique Identifier\n",
    "for index in range(len(employees_list)):\n",
    "    print('Object #', index+1, ': ' ,id(employees_list[index]), index+1, '-',hex(id(employees_list[index])), sep = '',)\n",
    "\n",
    "print('Number of employees:', Employee.employee_count)\n",
    "[str(val) for val in Employee.high_earning_employees]"
   ]
  },
  {
   "cell_type": "code",
   "execution_count": 3,
   "metadata": {},
   "outputs": [
    {
     "name": "stdout",
     "output_type": "stream",
     "text": [
      "1 2 (3, 4, 5, 6) {'c': 2, 'd': 3}\n"
     ]
    }
   ],
   "source": [
    "def my_function(a, b, *args, **kwargs):\n",
    "    print(a, b, args, kwargs)\n",
    "    \n",
    "my_function(1,2,3,4,5,6, c=2, d=3)"
   ]
  },
  {
   "cell_type": "code",
   "execution_count": 5,
   "metadata": {},
   "outputs": [
    {
     "data": {
      "text/plain": [
       "({'a'}, {'a'}, {'!', 'b', 'n'}, {'p', 'y'})"
      ]
     },
     "execution_count": 5,
     "metadata": {},
     "output_type": "execute_result"
    }
   ],
   "source": [
    "b = set('bananna!')\n",
    "p = set('papaya')\n",
    "p.symmetric_difference(b)\n",
    "b&p, b.intersection(p), b-p, p-b"
   ]
  },
  {
   "cell_type": "code",
   "execution_count": 19,
   "metadata": {},
   "outputs": [
    {
     "data": {
      "text/plain": [
       "{'bannanna', 'bannannabannanna'}"
      ]
     },
     "execution_count": 19,
     "metadata": {},
     "output_type": "execute_result"
    }
   ],
   "source": [
    "x = {'bannanna', 'bannanna'*2}\n",
    "x"
   ]
  }
 ],
 "metadata": {
  "colab": {
   "provenance": []
  },
  "kernelspec": {
   "display_name": "Python 3 (ipykernel)",
   "language": "python",
   "name": "python3"
  },
  "language_info": {
   "codemirror_mode": {
    "name": "ipython",
    "version": 3
   },
   "file_extension": ".py",
   "mimetype": "text/x-python",
   "name": "python",
   "nbconvert_exporter": "python",
   "pygments_lexer": "ipython3",
   "version": "3.9.6"
  }
 },
 "nbformat": 4,
 "nbformat_minor": 1
}
