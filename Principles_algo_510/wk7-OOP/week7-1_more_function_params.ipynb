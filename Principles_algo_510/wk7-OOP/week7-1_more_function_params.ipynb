{
 "cells": [
  {
   "cell_type": "markdown",
   "metadata": {},
   "source": [
    "# *args"
   ]
  },
  {
   "cell_type": "code",
   "execution_count": 2,
   "metadata": {
    "scrolled": true
   },
   "outputs": [],
   "source": [
    "def f(arg1, *args):\n",
    "    print(\"First argument is:\", arg1)\n",
    "    for arg in args:\n",
    "        print(\"Next argument in *args is:\", arg)\n",
    "    return(args)"
   ]
  },
  {
   "cell_type": "code",
   "execution_count": 7,
   "metadata": {},
   "outputs": [
    {
     "name": "stdout",
     "output_type": "stream",
     "text": [
      "First argument is: 1\n",
      "Next argument in *args is: 2\n",
      "Next argument in *args is: 3\n",
      "Next argument in *args is: 4\n",
      "Next argument in *args is: 5\n",
      "Next argument in *args is: 6\n",
      "Next argument in *args is: 7\n",
      "Next argument in *args is: 8\n"
     ]
    },
    {
     "data": {
      "text/plain": [
       "(2, 3, 4, 5, 6, 7, 8)"
      ]
     },
     "execution_count": 7,
     "metadata": {},
     "output_type": "execute_result"
    }
   ],
   "source": [
    "f(1,2,3,4,5,6,7,8)"
   ]
  },
  {
   "cell_type": "code",
   "execution_count": null,
   "metadata": {},
   "outputs": [],
   "source": []
  },
  {
   "cell_type": "code",
   "execution_count": 3,
   "metadata": {},
   "outputs": [
    {
     "name": "stdout",
     "output_type": "stream",
     "text": [
      "First argument is: Ulf\n",
      "Next argument in *args is: Hermjakob\n",
      "Next argument in *args is: 0\n",
      "Next argument in *args is: Another One\n"
     ]
    },
    {
     "data": {
      "text/plain": [
       "('Hermjakob', 0, 'Another One')"
      ]
     },
     "execution_count": 3,
     "metadata": {},
     "output_type": "execute_result"
    }
   ],
   "source": [
    "f('Ulf','Hermjakob', 0, 'Another One')"
   ]
  },
  {
   "cell_type": "markdown",
   "metadata": {},
   "source": [
    "### What will happen with the following?"
   ]
  },
  {
   "cell_type": "code",
   "execution_count": 4,
   "metadata": {},
   "outputs": [
    {
     "name": "stdout",
     "output_type": "stream",
     "text": [
      "First argument is: This is a test\n"
     ]
    },
    {
     "data": {
      "text/plain": [
       "()"
      ]
     },
     "execution_count": 4,
     "metadata": {},
     "output_type": "execute_result"
    }
   ],
   "source": [
    "f('This is a test')"
   ]
  },
  {
   "cell_type": "code",
   "execution_count": 5,
   "metadata": {},
   "outputs": [
    {
     "ename": "TypeError",
     "evalue": "f() missing 1 required positional argument: 'arg1'",
     "output_type": "error",
     "traceback": [
      "\u001b[0;31m---------------------------------------------------------------------------\u001b[0m",
      "\u001b[0;31mTypeError\u001b[0m                                 Traceback (most recent call last)",
      "\u001b[0;32m/var/folders/7y/ysjj93z5227208lbzyddcjfw0000gn/T/ipykernel_21967/3782956317.py\u001b[0m in \u001b[0;36m<module>\u001b[0;34m\u001b[0m\n\u001b[0;32m----> 1\u001b[0;31m \u001b[0mf\u001b[0m\u001b[0;34m(\u001b[0m\u001b[0;34m)\u001b[0m\u001b[0;34m\u001b[0m\u001b[0;34m\u001b[0m\u001b[0m\n\u001b[0m",
      "\u001b[0;31mTypeError\u001b[0m: f() missing 1 required positional argument: 'arg1'"
     ]
    }
   ],
   "source": [
    "f()"
   ]
  },
  {
   "cell_type": "markdown",
   "metadata": {},
   "source": [
    "# **kwargs"
   ]
  },
  {
   "cell_type": "code",
   "execution_count": 8,
   "metadata": {},
   "outputs": [],
   "source": [
    "def name_items(**kwargs):\n",
    "    if kwargs is not None:\n",
    "        for (key, value) in kwargs.items():\n",
    "            print (key, '==', value)\n",
    "    return(kwargs)"
   ]
  },
  {
   "cell_type": "code",
   "execution_count": 9,
   "metadata": {},
   "outputs": [
    {
     "name": "stdout",
     "output_type": "stream",
     "text": [
      "firstName == Ulf\n",
      "lastName == Hermjakob\n",
      "job == computer scientist\n",
      "salary == 10000\n"
     ]
    },
    {
     "data": {
      "text/plain": [
       "{'firstName': 'Ulf',\n",
       " 'lastName': 'Hermjakob',\n",
       " 'job': 'computer scientist',\n",
       " 'salary': 10000}"
      ]
     },
     "execution_count": 9,
     "metadata": {},
     "output_type": "execute_result"
    }
   ],
   "source": [
    "name_items(firstName=\"Ulf\", lastName='Hermjakob', job='computer scientist', salary=10000)"
   ]
  },
  {
   "cell_type": "markdown",
   "metadata": {},
   "source": [
    "### NOTE: kwargs is a dictionary!"
   ]
  },
  {
   "cell_type": "code",
   "execution_count": 10,
   "metadata": {},
   "outputs": [
    {
     "data": {
      "text/plain": [
       "{}"
      ]
     },
     "execution_count": 10,
     "metadata": {},
     "output_type": "execute_result"
    }
   ],
   "source": [
    "name_items() "
   ]
  },
  {
   "cell_type": "markdown",
   "metadata": {},
   "source": [
    "# Passing Arguments"
   ]
  },
  {
   "cell_type": "code",
   "execution_count": 1,
   "metadata": {},
   "outputs": [],
   "source": [
    "def testing(arg1, arg2, arg3):\n",
    "    print(\"arg1 is\", arg1)\n",
    "    print(\"arg2 is\", arg2)\n",
    "    print(\"arg3 is\", arg3)"
   ]
  },
  {
   "cell_type": "code",
   "execution_count": 2,
   "metadata": {},
   "outputs": [
    {
     "name": "stdout",
     "output_type": "stream",
     "text": [
      "arg1 is two\n",
      "arg2 is 3\n",
      "arg3 is 5\n"
     ]
    }
   ],
   "source": [
    "args = (\"two\", 3, 5)\n",
    "testing(*args)"
   ]
  },
  {
   "cell_type": "code",
   "execution_count": 3,
   "metadata": {},
   "outputs": [],
   "source": [
    "kwargs = {\"arg3\": 3, \"arg2\": \"two\",\"arg1\":5}"
   ]
  },
  {
   "cell_type": "code",
   "execution_count": 4,
   "metadata": {},
   "outputs": [
    {
     "name": "stdout",
     "output_type": "stream",
     "text": [
      "arg1 is 5\n",
      "arg2 is two\n",
      "arg3 is 3\n"
     ]
    }
   ],
   "source": [
    "testing(**kwargs)"
   ]
  },
  {
   "cell_type": "markdown",
   "metadata": {},
   "source": [
    "# Order, if you use \\*args \\*\\*kwargs and formal arguments:\n",
    "# some_function(list of formal args, \\*args, \\*\\*kwargs)"
   ]
  },
  {
   "cell_type": "code",
   "execution_count": 5,
   "metadata": {},
   "outputs": [],
   "source": [
    "def func(required_arg, *args, **kwargs):\n",
    "    # required_arg is a positional-only parameter.\n",
    "    print(required_arg)\n",
    "\n",
    "    # args is a tuple of positional arguments,\n",
    "    # because the parameter name has * prepended.\n",
    "    if args: # If args is not empty.\n",
    "        print(args)\n",
    "\n",
    "    # kwargs is a dictionary of keyword arguments,\n",
    "    # because the parameter name has ** prepended.\n",
    "    if kwargs: # If kwargs is not empty.\n",
    "        print(kwargs)"
   ]
  },
  {
   "cell_type": "code",
   "execution_count": 6,
   "metadata": {},
   "outputs": [
    {
     "ename": "TypeError",
     "evalue": "func() missing 1 required positional argument: 'required_arg'",
     "output_type": "error",
     "traceback": [
      "\u001b[0;31m---------------------------------------------------------------------------\u001b[0m",
      "\u001b[0;31mTypeError\u001b[0m                                 Traceback (most recent call last)",
      "\u001b[0;32m/var/folders/7y/ysjj93z5227208lbzyddcjfw0000gn/T/ipykernel_74820/2078144611.py\u001b[0m in \u001b[0;36m<module>\u001b[0;34m\u001b[0m\n\u001b[0;32m----> 1\u001b[0;31m \u001b[0mfunc\u001b[0m\u001b[0;34m(\u001b[0m\u001b[0;34m)\u001b[0m\u001b[0;34m\u001b[0m\u001b[0;34m\u001b[0m\u001b[0m\n\u001b[0m",
      "\u001b[0;31mTypeError\u001b[0m: func() missing 1 required positional argument: 'required_arg'"
     ]
    }
   ],
   "source": [
    "func()"
   ]
  },
  {
   "cell_type": "code",
   "execution_count": 7,
   "metadata": {},
   "outputs": [
    {
     "name": "stdout",
     "output_type": "stream",
     "text": [
      "required argument\n"
     ]
    }
   ],
   "source": [
    "func(\"required argument\")"
   ]
  },
  {
   "cell_type": "code",
   "execution_count": 8,
   "metadata": {},
   "outputs": [
    {
     "name": "stdout",
     "output_type": "stream",
     "text": [
      "required argument\n",
      "(1, 2, '3')\n"
     ]
    }
   ],
   "source": [
    "func(\"required argument\", 1, 2, '3')"
   ]
  },
  {
   "cell_type": "code",
   "execution_count": 9,
   "metadata": {},
   "outputs": [
    {
     "name": "stdout",
     "output_type": "stream",
     "text": [
      "required argument\n",
      "(1, 2, '3')\n",
      "{'keyword1': 4, 'keyword2': 'foo'}\n"
     ]
    }
   ],
   "source": [
    "func(\"required argument\", 1, 2, '3', keyword1=4, keyword2=\"foo\")"
   ]
  },
  {
   "cell_type": "markdown",
   "metadata": {},
   "source": [
    "# And now for something a bit more complex..."
   ]
  },
  {
   "cell_type": "code",
   "execution_count": 10,
   "metadata": {},
   "outputs": [],
   "source": [
    "class test_class(object):\n",
    "    global_to_all_instances = 0 \n",
    "    def __init__(self, *args, **kwargs):\n",
    "        self.defined_at_init = 'hi!'\n",
    "        print('Object of type', self.__class__.__name__,\\\n",
    "              'has args', args, 'and keyword args', kwargs)\n",
    "    def increment_global(self):\n",
    "        test_class.global_to_all_instances += 1\n",
    "    def print_global_to_all_instances(self):\n",
    "        # Notice we're using the CLASSNAME below instead of self!\n",
    "        print(test_class.global_to_all_instances)\n",
    "    def print_local_instance_attribute(self):\n",
    "        # But this time we're using self\n",
    "        print(self.local_attribute)"
   ]
  },
  {
   "cell_type": "code",
   "execution_count": 11,
   "metadata": {},
   "outputs": [
    {
     "name": "stdout",
     "output_type": "stream",
     "text": [
      "Object of type test_class has args ('this', 'is', 'cool', 10) and keyword args {'stuff': 'things', 'zip_code': 90210}\n"
     ]
    }
   ],
   "source": [
    "first = test_class('this', 'is', 'cool', 10, stuff='things', zip_code = 90210)"
   ]
  },
  {
   "cell_type": "code",
   "execution_count": 12,
   "metadata": {},
   "outputs": [
    {
     "name": "stdout",
     "output_type": "stream",
     "text": [
      "Object of type test_class has args () and keyword args {}\n"
     ]
    }
   ],
   "source": [
    "second = test_class()"
   ]
  },
  {
   "cell_type": "code",
   "execution_count": 13,
   "metadata": {},
   "outputs": [
    {
     "data": {
      "text/plain": [
       "0"
      ]
     },
     "execution_count": 13,
     "metadata": {},
     "output_type": "execute_result"
    }
   ],
   "source": [
    "first.global_to_all_instances"
   ]
  },
  {
   "cell_type": "code",
   "execution_count": 14,
   "metadata": {},
   "outputs": [
    {
     "data": {
      "text/plain": [
       "0"
      ]
     },
     "execution_count": 14,
     "metadata": {},
     "output_type": "execute_result"
    }
   ],
   "source": [
    "second.global_to_all_instances"
   ]
  },
  {
   "cell_type": "code",
   "execution_count": 15,
   "metadata": {},
   "outputs": [
    {
     "name": "stdout",
     "output_type": "stream",
     "text": [
      "hi!\n",
      "hi!\n"
     ]
    }
   ],
   "source": [
    "print(first.defined_at_init)\n",
    "print(second.defined_at_init)"
   ]
  },
  {
   "cell_type": "code",
   "execution_count": 16,
   "metadata": {},
   "outputs": [
    {
     "ename": "AttributeError",
     "evalue": "'test_class' object has no attribute 'local_attribute'",
     "output_type": "error",
     "traceback": [
      "\u001b[0;31m---------------------------------------------------------------------------\u001b[0m",
      "\u001b[0;31mAttributeError\u001b[0m                            Traceback (most recent call last)",
      "\u001b[0;32m/var/folders/7y/ysjj93z5227208lbzyddcjfw0000gn/T/ipykernel_74820/3340605611.py\u001b[0m in \u001b[0;36m<module>\u001b[0;34m\u001b[0m\n\u001b[0;32m----> 1\u001b[0;31m \u001b[0mfirst\u001b[0m\u001b[0;34m.\u001b[0m\u001b[0mlocal_attribute\u001b[0m\u001b[0;34m\u001b[0m\u001b[0;34m\u001b[0m\u001b[0m\n\u001b[0m",
      "\u001b[0;31mAttributeError\u001b[0m: 'test_class' object has no attribute 'local_attribute'"
     ]
    }
   ],
   "source": [
    "first.local_attribute"
   ]
  },
  {
   "cell_type": "code",
   "execution_count": 17,
   "metadata": {},
   "outputs": [],
   "source": [
    "first.local_attribute = 10"
   ]
  },
  {
   "cell_type": "code",
   "execution_count": 18,
   "metadata": {},
   "outputs": [
    {
     "data": {
      "text/plain": [
       "10"
      ]
     },
     "execution_count": 18,
     "metadata": {},
     "output_type": "execute_result"
    }
   ],
   "source": [
    "first.local_attribute"
   ]
  },
  {
   "cell_type": "code",
   "execution_count": 19,
   "metadata": {},
   "outputs": [
    {
     "ename": "AttributeError",
     "evalue": "'test_class' object has no attribute 'local_attribute'",
     "output_type": "error",
     "traceback": [
      "\u001b[0;31m---------------------------------------------------------------------------\u001b[0m",
      "\u001b[0;31mAttributeError\u001b[0m                            Traceback (most recent call last)",
      "\u001b[0;32m/var/folders/7y/ysjj93z5227208lbzyddcjfw0000gn/T/ipykernel_74820/878320982.py\u001b[0m in \u001b[0;36m<module>\u001b[0;34m\u001b[0m\n\u001b[0;32m----> 1\u001b[0;31m \u001b[0msecond\u001b[0m\u001b[0;34m.\u001b[0m\u001b[0mlocal_attribute\u001b[0m\u001b[0;34m\u001b[0m\u001b[0;34m\u001b[0m\u001b[0m\n\u001b[0m",
      "\u001b[0;31mAttributeError\u001b[0m: 'test_class' object has no attribute 'local_attribute'"
     ]
    }
   ],
   "source": [
    "second.local_attribute"
   ]
  },
  {
   "cell_type": "code",
   "execution_count": 20,
   "metadata": {},
   "outputs": [
    {
     "name": "stdout",
     "output_type": "stream",
     "text": [
      "10\n"
     ]
    }
   ],
   "source": [
    "first.print_local_instance_attribute()"
   ]
  },
  {
   "cell_type": "code",
   "execution_count": 21,
   "metadata": {
    "scrolled": true
   },
   "outputs": [
    {
     "ename": "AttributeError",
     "evalue": "'test_class' object has no attribute 'local_attribute'",
     "output_type": "error",
     "traceback": [
      "\u001b[0;31m---------------------------------------------------------------------------\u001b[0m",
      "\u001b[0;31mAttributeError\u001b[0m                            Traceback (most recent call last)",
      "\u001b[0;32m/var/folders/7y/ysjj93z5227208lbzyddcjfw0000gn/T/ipykernel_74820/31595920.py\u001b[0m in \u001b[0;36m<module>\u001b[0;34m\u001b[0m\n\u001b[0;32m----> 1\u001b[0;31m \u001b[0msecond\u001b[0m\u001b[0;34m.\u001b[0m\u001b[0mprint_local_instance_attribute\u001b[0m\u001b[0;34m(\u001b[0m\u001b[0;34m)\u001b[0m\u001b[0;34m\u001b[0m\u001b[0;34m\u001b[0m\u001b[0m\n\u001b[0m",
      "\u001b[0;32m/var/folders/7y/ysjj93z5227208lbzyddcjfw0000gn/T/ipykernel_74820/2178739152.py\u001b[0m in \u001b[0;36mprint_local_instance_attribute\u001b[0;34m(self)\u001b[0m\n\u001b[1;32m     12\u001b[0m     \u001b[0;32mdef\u001b[0m \u001b[0mprint_local_instance_attribute\u001b[0m\u001b[0;34m(\u001b[0m\u001b[0mself\u001b[0m\u001b[0;34m)\u001b[0m\u001b[0;34m:\u001b[0m\u001b[0;34m\u001b[0m\u001b[0;34m\u001b[0m\u001b[0m\n\u001b[1;32m     13\u001b[0m         \u001b[0;31m# But this time we're using self\u001b[0m\u001b[0;34m\u001b[0m\u001b[0;34m\u001b[0m\u001b[0m\n\u001b[0;32m---> 14\u001b[0;31m         \u001b[0mprint\u001b[0m\u001b[0;34m(\u001b[0m\u001b[0mself\u001b[0m\u001b[0;34m.\u001b[0m\u001b[0mlocal_attribute\u001b[0m\u001b[0;34m)\u001b[0m\u001b[0;34m\u001b[0m\u001b[0;34m\u001b[0m\u001b[0m\n\u001b[0m",
      "\u001b[0;31mAttributeError\u001b[0m: 'test_class' object has no attribute 'local_attribute'"
     ]
    }
   ],
   "source": [
    "second.print_local_instance_attribute()"
   ]
  },
  {
   "cell_type": "code",
   "execution_count": 22,
   "metadata": {
    "scrolled": true
   },
   "outputs": [
    {
     "name": "stdout",
     "output_type": "stream",
     "text": [
      "{'defined_at_init': 'hi!', 'local_attribute': 10}\n"
     ]
    }
   ],
   "source": [
    "print(first.__dict__)"
   ]
  },
  {
   "cell_type": "code",
   "execution_count": 23,
   "metadata": {},
   "outputs": [
    {
     "name": "stdout",
     "output_type": "stream",
     "text": [
      "{'defined_at_init': 'hi!'}\n"
     ]
    }
   ],
   "source": [
    "print(second.__dict__)"
   ]
  },
  {
   "cell_type": "code",
   "execution_count": 24,
   "metadata": {},
   "outputs": [
    {
     "name": "stdout",
     "output_type": "stream",
     "text": [
      "0\n",
      "0\n"
     ]
    }
   ],
   "source": [
    "first.print_global_to_all_instances()\n",
    "second.print_global_to_all_instances()"
   ]
  },
  {
   "cell_type": "code",
   "execution_count": 25,
   "metadata": {},
   "outputs": [],
   "source": [
    "first.increment_global()"
   ]
  },
  {
   "cell_type": "code",
   "execution_count": 26,
   "metadata": {},
   "outputs": [
    {
     "name": "stdout",
     "output_type": "stream",
     "text": [
      "1\n"
     ]
    }
   ],
   "source": [
    "first.print_global_to_all_instances()"
   ]
  },
  {
   "cell_type": "code",
   "execution_count": 27,
   "metadata": {},
   "outputs": [
    {
     "name": "stdout",
     "output_type": "stream",
     "text": [
      "1\n"
     ]
    }
   ],
   "source": [
    "second.print_global_to_all_instances()"
   ]
  },
  {
   "cell_type": "code",
   "execution_count": 28,
   "metadata": {},
   "outputs": [],
   "source": [
    "first.global_to_all_instances = 10"
   ]
  },
  {
   "cell_type": "code",
   "execution_count": 29,
   "metadata": {},
   "outputs": [
    {
     "name": "stdout",
     "output_type": "stream",
     "text": [
      "1\n"
     ]
    }
   ],
   "source": [
    "first.print_global_to_all_instances()"
   ]
  },
  {
   "cell_type": "code",
   "execution_count": 30,
   "metadata": {},
   "outputs": [
    {
     "data": {
      "text/plain": [
       "{'defined_at_init': 'hi!',\n",
       " 'local_attribute': 10,\n",
       " 'global_to_all_instances': 10}"
      ]
     },
     "execution_count": 30,
     "metadata": {},
     "output_type": "execute_result"
    }
   ],
   "source": [
    "first.__dict__"
   ]
  },
  {
   "cell_type": "code",
   "execution_count": 31,
   "metadata": {},
   "outputs": [
    {
     "data": {
      "text/plain": [
       "{'defined_at_init': 'hi!'}"
      ]
     },
     "execution_count": 31,
     "metadata": {},
     "output_type": "execute_result"
    }
   ],
   "source": [
    "second.__dict__"
   ]
  },
  {
   "cell_type": "code",
   "execution_count": 32,
   "metadata": {},
   "outputs": [
    {
     "data": {
      "text/plain": [
       "1"
      ]
     },
     "execution_count": 32,
     "metadata": {},
     "output_type": "execute_result"
    }
   ],
   "source": [
    "second.global_to_all_instances"
   ]
  },
  {
   "cell_type": "code",
   "execution_count": 33,
   "metadata": {},
   "outputs": [
    {
     "data": {
      "text/plain": [
       "10"
      ]
     },
     "execution_count": 33,
     "metadata": {},
     "output_type": "execute_result"
    }
   ],
   "source": [
    "first.global_to_all_instances"
   ]
  },
  {
   "cell_type": "code",
   "execution_count": 34,
   "metadata": {},
   "outputs": [
    {
     "data": {
      "text/plain": [
       "1"
      ]
     },
     "execution_count": 34,
     "metadata": {},
     "output_type": "execute_result"
    }
   ],
   "source": [
    "test_class.global_to_all_instances"
   ]
  },
  {
   "cell_type": "code",
   "execution_count": 35,
   "metadata": {},
   "outputs": [
    {
     "data": {
      "text/plain": [
       "mappingproxy({'__module__': '__main__',\n",
       "              'global_to_all_instances': 1,\n",
       "              '__init__': <function __main__.test_class.__init__(self, *args, **kwargs)>,\n",
       "              'increment_global': <function __main__.test_class.increment_global(self)>,\n",
       "              'print_global_to_all_instances': <function __main__.test_class.print_global_to_all_instances(self)>,\n",
       "              'print_local_instance_attribute': <function __main__.test_class.print_local_instance_attribute(self)>,\n",
       "              '__dict__': <attribute '__dict__' of 'test_class' objects>,\n",
       "              '__weakref__': <attribute '__weakref__' of 'test_class' objects>,\n",
       "              '__doc__': None})"
      ]
     },
     "execution_count": 35,
     "metadata": {},
     "output_type": "execute_result"
    }
   ],
   "source": [
    "test_class.__dict__"
   ]
  },
  {
   "cell_type": "markdown",
   "metadata": {},
   "source": [
    "## Complex objects as arguments: passing by reference\n",
    "\n",
    "Modifications to a complex object (e.g., a list) inside a function change the passed object\n",
    "\n",
    "(from Intermediate Python Programming Course\n",
    "https://youtu.be/HGOBQPFzWKo?t=18863 \n",
    "https://github.com/patrickloeber/python-engineer-notebooks/tree/master/advanced-python\n",
    "https://github.com/patrickloeber/python-engineer-notebooks/blob/master/advanced-python/18-Functions%20arguments.ipynb )\n"
   ]
  },
  {
   "cell_type": "code",
   "execution_count": 36,
   "metadata": {},
   "outputs": [
    {
     "name": "stdout",
     "output_type": "stream",
     "text": [
      "my_list before foo(): [1, 2, 3]\n",
      "my_list after foo(): [1, 2, 3, 4]\n"
     ]
    }
   ],
   "source": [
    "def foo(a_list):\n",
    "    a_list.append(4)\n",
    "    \n",
    "my_list = [1, 2, 3]\n",
    "print('my_list before foo():', my_list)\n",
    "foo(my_list)\n",
    "print('my_list after foo():', my_list)"
   ]
  },
  {
   "cell_type": "code",
   "execution_count": 38,
   "metadata": {},
   "outputs": [
    {
     "name": "stdout",
     "output_type": "stream",
     "text": [
      "my_list before foo(): [1, 2, 'Max']\n",
      "my_list after foo(): [-100, 2, 'Paul']\n"
     ]
    }
   ],
   "source": [
    "def foo(a_list):\n",
    "    a_list[0] = -100\n",
    "    a_list[2] = \"Paul\"\n",
    "    \n",
    "my_list = [1, 2, \"Max\"]\n",
    "print('my_list before foo():', my_list)\n",
    "foo(my_list)\n",
    "print('my_list after foo():', my_list)"
   ]
  },
  {
   "cell_type": "code",
   "execution_count": 3,
   "metadata": {},
   "outputs": [
    {
     "name": "stdout",
     "output_type": "stream",
     "text": [
      "my_list before foo(): [1, 2, 3]\n",
      "my_list after foo(): [1, 2, 3]\n"
     ]
    }
   ],
   "source": [
    "# Rebind a mutable reference -> no change\n",
    "def foo(a_list):\n",
    "    a_list = [50, 60, 70] # a_list is now a new local variable within the function\n",
    "    a_list.append(50)\n",
    "    \n",
    "my_list = [1, 2, 3]\n",
    "print('my_list before foo():', my_list)\n",
    "foo(my_list)\n",
    "print('my_list after foo():', my_list)"
   ]
  },
  {
   "cell_type": "code",
   "execution_count": 39,
   "metadata": {},
   "outputs": [
    {
     "name": "stdout",
     "output_type": "stream",
     "text": [
      "my_list before foo(): [1, 2, 3]\n",
      "my_list after foo(): [1, 2, 3, 4, 5]\n",
      "my_list before bar(): [1, 2, 3]\n",
      "my_list after bar(): [1, 2, 3]\n"
     ]
    }
   ],
   "source": [
    "# Be careful with += and = operations for mutable types.\n",
    "# The first operation has an effect on the passed argument while the latter has not:\n",
    "\n",
    "# another example with rebinding references:\n",
    "def foo(a_list):\n",
    "    a_list += [4, 5] # this changes the outer variable\n",
    "    \n",
    "def bar(a_list):\n",
    "    a_list = a_list + [4, 5] # this rebinds the reference to a new local variable\n",
    "\n",
    "my_list = [1, 2, 3]\n",
    "print('my_list before foo():', my_list)\n",
    "foo(my_list)\n",
    "print('my_list after foo():', my_list)\n",
    "\n",
    "my_list = [1, 2, 3]\n",
    "print('my_list before bar():', my_list)\n",
    "bar(my_list)\n",
    "print('my_list after bar():', my_list)"
   ]
  },
  {
   "cell_type": "code",
   "execution_count": null,
   "metadata": {},
   "outputs": [],
   "source": []
  }
 ],
 "metadata": {
  "kernelspec": {
   "display_name": "Python 3 (ipykernel)",
   "language": "python",
   "name": "python3"
  },
  "language_info": {
   "codemirror_mode": {
    "name": "ipython",
    "version": 3
   },
   "file_extension": ".py",
   "mimetype": "text/x-python",
   "name": "python",
   "nbconvert_exporter": "python",
   "pygments_lexer": "ipython3",
   "version": "3.9.6"
  }
 },
 "nbformat": 4,
 "nbformat_minor": 2
}
