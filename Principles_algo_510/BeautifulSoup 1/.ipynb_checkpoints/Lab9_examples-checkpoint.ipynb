{
 "cells": [
  {
   "cell_type": "code",
   "execution_count": null,
   "metadata": {
    "collapsed": true,
    "id": "hlUcmp7O-wNh"
   },
   "outputs": [],
   "source": [
    "# from google.colab import data_table\n",
    "# data_table.enable_dataframe_formatter()"
   ]
  },
  {
   "cell_type": "markdown",
   "metadata": {
    "id": "BgTC9ZzOzL1w"
   },
   "source": [
    "Q1. Get the all the Aircraft in production or development at Boeing Commercial Airplanes from https://en.wikipedia.org/wiki/Boeing_Commercial_Airplanes"
   ]
  },
  {
   "cell_type": "code",
   "execution_count": 1,
   "metadata": {
    "collapsed": true,
    "id": "Fpc3pygE_18j"
   },
   "outputs": [
    {
     "name": "stdout",
     "output_type": "stream",
     "text": [
      "Requirement already satisfied: beautifulsoup4 in c:\\users\\samuel\\appdata\\roaming\\python\\python39\\site-packages (4.11.1)\n",
      "Requirement already satisfied: soupsieve>1.2 in c:\\users\\samuel\\appdata\\roaming\\python\\python39\\site-packages (from beautifulsoup4) (2.3.2.post1)\n"
     ]
    }
   ],
   "source": [
    "!pip install beautifulsoup4"
   ]
  },
  {
   "cell_type": "code",
   "execution_count": 2,
   "metadata": {
    "collapsed": true,
    "id": "VI_U4v_VzLR0"
   },
   "outputs": [],
   "source": [
    "from bs4 import BeautifulSoup\n",
    "import requests\n",
    "\n",
    "response = requests.get('https://en.wikipedia.org/wiki/Boeing_Commercial_Airplanes')"
   ]
  },
  {
   "cell_type": "markdown",
   "metadata": {
    "id": "L_RZokLzEGaV"
   },
   "source": [
    "Status codes <br>\n",
    "\n",
    "Check this out\n",
    "https://developer.mozilla.org/en-US/docs/Web/HTTP/Status"
   ]
  },
  {
   "cell_type": "code",
   "execution_count": null,
   "metadata": {
    "colab": {
     "base_uri": "https://localhost:8080/"
    },
    "collapsed": true,
    "executionInfo": {
     "elapsed": 7,
     "status": "ok",
     "timestamp": 1678230740570,
     "user": {
      "displayName": "Samuel Sudheer Vara",
      "userId": "09762266263516049001"
     },
     "user_tz": 480
    },
    "id": "EsFPWm81EQ80",
    "outputId": "9d3241d9-ae74-4fcf-94ab-e5a8a632bc30"
   },
   "outputs": [
    {
     "name": "stdout",
     "output_type": "stream",
     "text": [
      "200\n"
     ]
    }
   ],
   "source": [
    "print(response.status_code)"
   ]
  },
  {
   "cell_type": "markdown",
   "metadata": {
    "id": "TRBTAzVrDXyw"
   },
   "source": [
    "Creating a Soup"
   ]
  },
  {
   "cell_type": "code",
   "execution_count": null,
   "metadata": {
    "colab": {
     "base_uri": "https://localhost:8080/"
    },
    "collapsed": true,
    "executionInfo": {
     "elapsed": 255,
     "status": "ok",
     "timestamp": 1678230740822,
     "user": {
      "displayName": "Samuel Sudheer Vara",
      "userId": "09762266263516049001"
     },
     "user_tz": 480
    },
    "id": "TaW-XIBzDXE0",
    "outputId": "149745cf-efa3-40c8-c994-6a88d9ebec86"
   },
   "outputs": [
    {
     "name": "stdout",
     "output_type": "stream",
     "text": [
      "<table class=\"wikitable sortable\" style=\"text-align:center; font-size:96%;\">\n",
      " <caption>\n",
      "  <b>\n",
      "   Product list and details\n",
      "  </b>\n",
      " </caption>\n",
      " <tbody>\n",
      "  <tr style=\"background:#069;\">\n",
      "   <th>\n",
      "    Aircraft model\n",
      "   </th>\n",
      "   <th>\n",
      "    Number built\n",
      "    <sup class=\"reference\" id=\"cite_ref-21\">\n",
      "     <a href=\"#cite_note-21\">\n",
      "      [21]\n",
      "     </a>\n",
      "    </sup>\n",
      "   </th>\n",
      "   <th>\n",
      "    Description\n",
      "   </th>\n",
      "   <th>\n",
      "    Capacity\n",
      "   </th>\n",
      "   <th>\n",
      "    First flight\n",
      "   </th>\n",
      "   <th>\n",
      "    Variants in production\n",
      "   </th>\n",
      "   <th>\n",
      "    Out-of-production variants\n",
      "   </th>\n",
      "  </tr>\n",
      "  <tr>\n",
      "   <td align=\"center\">\n",
      "    <a href=\"/wiki/Boeing_737\" title=\"Boeing 737\">\n",
      "     737\n",
      "    </a>\n",
      "   </td>\n",
      "   <td>\n",
      "    10,906\n",
      "   </td>\n",
      "   <td>\n",
      "    <a href=\"/wiki/Twinjet\" title=\"Twinjet\">\n",
      "     Twin‑engine\n",
      "    </a>\n",
      "    ,\n",
      "    <a href=\"/wiki/Narrow-body_aircraft\" title=\"Narrow-body aircraft\">\n",
      "     single aisle\n",
      "    </a>\n",
      "    ,\n",
      "    <a href=\"/wiki/Flight_length\" title=\"Flight length\">\n",
      "     short- to medium-range\n",
      "    </a>\n",
      "    narrow-body\n",
      "   </td>\n",
      "   <td>\n",
      "    85–215\n",
      "   </td>\n",
      "   <td>\n",
      "    April 9, 1967\n",
      "   </td>\n",
      "   <td>\n",
      "    <a href=\"/wiki/Boeing_737_MAX\" title=\"Boeing 737 MAX\">\n",
      "     737 MAX\n",
      "    </a>\n",
      "    ,\n",
      "    <a href=\"/wiki/Boeing_Business_Jet\" title=\"Boeing Business Jet\">\n",
      "     BBJ\n",
      "    </a>\n",
      "    ,\n",
      "    <a href=\"/wiki/Boeing_737_AEW%26C\" title=\"Boeing 737 AEW&amp;C\">\n",
      "     737 AEW&amp;C\n",
      "    </a>\n",
      "    ,\n",
      "    <a href=\"/wiki/Boeing_P-8_Poseidon\" title=\"Boeing P-8 Poseidon\">\n",
      "     P-8\n",
      "    </a>\n",
      "   </td>\n",
      "   <td>\n",
      "    <a href=\"/wiki/Boeing_737\" title=\"Boeing 737\">\n",
      "     100, 200, 200C/Adv\n",
      "    </a>\n",
      "    ,\n",
      "    <a href=\"/wiki/Boeing_737_Classic\" title=\"Boeing 737 Classic\">\n",
      "     300, 400, 500\n",
      "    </a>\n",
      "    ,\n",
      "    <a href=\"/wiki/Boeing_737_Next_Generation\" title=\"Boeing 737 Next Generation\">\n",
      "     600, 700, 700ER, 800, 900, 900ER\n",
      "    </a>\n",
      "    ,\n",
      "    <a href=\"/wiki/Boeing_C-40_Clipper\" title=\"Boeing C-40 Clipper\">\n",
      "     C-40\n",
      "    </a>\n",
      "   </td>\n",
      "  </tr>\n",
      "  <tr>\n",
      "   <td align=\"center\">\n",
      "    <a href=\"/wiki/Boeing_767\" title=\"Boeing 767\">\n",
      "     767\n",
      "    </a>\n",
      "   </td>\n",
      "   <td>\n",
      "    1,240\n",
      "   </td>\n",
      "   <td>\n",
      "    Heavy, twin-engine, twin aisle, medium- to long-range widebody\n",
      "   </td>\n",
      "   <td>\n",
      "    180–375\n",
      "   </td>\n",
      "   <td>\n",
      "    September 26, 1981\n",
      "   </td>\n",
      "   <td>\n",
      "    <a href=\"/wiki/Boeing_767#767-300F\" title=\"Boeing 767\">\n",
      "     300F\n",
      "    </a>\n",
      "    ,\n",
      "    <a href=\"/wiki/Boeing_KC-767\" title=\"Boeing KC-767\">\n",
      "     KC-767\n",
      "    </a>\n",
      "    ,\n",
      "    <a href=\"/wiki/Boeing_KC-46_Pegasus\" title=\"Boeing KC-46 Pegasus\">\n",
      "     KC-46\n",
      "    </a>\n",
      "    ,\n",
      "    <a href=\"/wiki/Boeing_E-767\" title=\"Boeing E-767\">\n",
      "     E-767\n",
      "    </a>\n",
      "   </td>\n",
      "   <td>\n",
      "    <a class=\"mw-redirect\" href=\"/wiki/Boeing_767-200\" title=\"Boeing 767-200\">\n",
      "     200\n",
      "    </a>\n",
      "    ,\n",
      "    <a class=\"mw-redirect\" href=\"/wiki/Boeing_767-200ER\" title=\"Boeing 767-200ER\">\n",
      "     200ER\n",
      "    </a>\n",
      "    ,\n",
      "    <a class=\"mw-redirect\" href=\"/wiki/Boeing_767-300\" title=\"Boeing 767-300\">\n",
      "     300\n",
      "    </a>\n",
      "    ,\n",
      "    <a class=\"mw-redirect\" href=\"/wiki/Boeing_767-300ER\" title=\"Boeing 767-300ER\">\n",
      "     300ER\n",
      "    </a>\n",
      "    ,\n",
      "    <a class=\"mw-redirect\" href=\"/wiki/Boeing_767-400ER\" title=\"Boeing 767-400ER\">\n",
      "     400ER\n",
      "    </a>\n",
      "    <sup class=\"reference\" id=\"cite_ref-Boeing_767_22-0\">\n",
      "     <a href=\"#cite_note-Boeing_767-22\">\n",
      "      [22]\n",
      "     </a>\n",
      "    </sup>\n",
      "   </td>\n",
      "  </tr>\n",
      "  <tr>\n",
      "   <td align=\"center\">\n",
      "    <a href=\"/wiki/Boeing_777\" title=\"Boeing 777\">\n",
      "     777\n",
      "    </a>\n",
      "   </td>\n",
      "   <td>\n",
      "    1,678\n",
      "   </td>\n",
      "   <td>\n",
      "    Heavy, twin-engine, twin aisle, medium- to long-range, ultra long-range (200LR), widebody\n",
      "   </td>\n",
      "   <td>\n",
      "    301–550\n",
      "   </td>\n",
      "   <td>\n",
      "    June 12, 1994\n",
      "   </td>\n",
      "   <td>\n",
      "    <a href=\"/wiki/Boeing_Business_Jet\" title=\"Boeing Business Jet\">\n",
      "     BBJ\n",
      "    </a>\n",
      "    ,\n",
      "    <a href=\"/wiki/Boeing_777#777_Freighter\" title=\"Boeing 777\">\n",
      "     Freighter\n",
      "    </a>\n",
      "    <sup class=\"reference\" id=\"cite_ref-23\">\n",
      "     <a href=\"#cite_note-23\">\n",
      "      [23]\n",
      "     </a>\n",
      "    </sup>\n",
      "   </td>\n",
      "   <td>\n",
      "    <a class=\"mw-redirect\" href=\"/wiki/Boeing_777-200\" title=\"Boeing 777-200\">\n",
      "     200\n",
      "    </a>\n",
      "    ,\n",
      "    <a class=\"mw-redirect\" href=\"/wiki/Boeing_777-200ER\" title=\"Boeing 777-200ER\">\n",
      "     200ER\n",
      "    </a>\n",
      "    ,\n",
      "    <a class=\"mw-redirect\" href=\"/wiki/Boeing_777-200LR\" title=\"Boeing 777-200LR\">\n",
      "     200LR\n",
      "    </a>\n",
      "    ,\n",
      "    <a href=\"/wiki/Boeing_777#777-300\" title=\"Boeing 777\">\n",
      "     300\n",
      "    </a>\n",
      "    ,\n",
      "    <a href=\"/wiki/Boeing_777#777-300ER\" title=\"Boeing 777\">\n",
      "     300ER\n",
      "    </a>\n",
      "   </td>\n",
      "  </tr>\n",
      "  <tr>\n",
      "   <td align=\"center\">\n",
      "    <a href=\"/wiki/Boeing_787_Dreamliner\" title=\"Boeing 787 Dreamliner\">\n",
      "     787\n",
      "    </a>\n",
      "   </td>\n",
      "   <td>\n",
      "    1,006\n",
      "   </td>\n",
      "   <td>\n",
      "    Heavy, twin-engine, twin aisle, long-range widebody\n",
      "   </td>\n",
      "   <td>\n",
      "    210–330\n",
      "    <sup class=\"reference\" id=\"cite_ref-24\">\n",
      "     <a href=\"#cite_note-24\">\n",
      "      [24]\n",
      "     </a>\n",
      "    </sup>\n",
      "   </td>\n",
      "   <td>\n",
      "    December 15, 2009\n",
      "   </td>\n",
      "   <td>\n",
      "    <a class=\"mw-redirect\" href=\"/wiki/Boeing_787-8\" title=\"Boeing 787-8\">\n",
      "     8\n",
      "    </a>\n",
      "    ,\n",
      "    <a class=\"mw-redirect\" href=\"/wiki/Boeing_787-9\" title=\"Boeing 787-9\">\n",
      "     9\n",
      "    </a>\n",
      "    ,\n",
      "    <sup class=\"reference\" id=\"cite_ref-25\">\n",
      "     <a href=\"#cite_note-25\">\n",
      "      [25]\n",
      "     </a>\n",
      "    </sup>\n",
      "    <a class=\"mw-redirect\" href=\"/wiki/Boeing_787-10\" title=\"Boeing 787-10\">\n",
      "     10\n",
      "    </a>\n",
      "    ,\n",
      "    <a href=\"/wiki/Boeing_Business_Jet\" title=\"Boeing Business Jet\">\n",
      "     BBJ\n",
      "    </a>\n",
      "    <sup class=\"reference\" id=\"cite_ref-26\">\n",
      "     <a href=\"#cite_note-26\">\n",
      "      [26]\n",
      "     </a>\n",
      "    </sup>\n",
      "   </td>\n",
      "   <td>\n",
      "   </td>\n",
      "  </tr>\n",
      " </tbody>\n",
      "</table>\n",
      "\n"
     ]
    }
   ],
   "source": [
    "soup = BeautifulSoup(response.content, 'html.parser')\n",
    "\n",
    "current_prod_table = soup.find_all(['table'])[1]\n",
    "\n",
    "print(current_prod_table.prettify())"
   ]
  },
  {
   "cell_type": "markdown",
   "metadata": {
    "id": "TwJuKW0S_XmQ"
   },
   "source": [
    "Getting the Caption"
   ]
  },
  {
   "cell_type": "code",
   "execution_count": null,
   "metadata": {
    "colab": {
     "base_uri": "https://localhost:8080/"
    },
    "collapsed": true,
    "executionInfo": {
     "elapsed": 12,
     "status": "ok",
     "timestamp": 1678230740822,
     "user": {
      "displayName": "Samuel Sudheer Vara",
      "userId": "09762266263516049001"
     },
     "user_tz": 480
    },
    "id": "JOLaXyNX5aAQ",
    "outputId": "cbddcd98-284e-4066-98cf-ad08c0d17b8c"
   },
   "outputs": [
    {
     "name": "stdout",
     "output_type": "stream",
     "text": [
      "Product list and details\n",
      "\n"
     ]
    }
   ],
   "source": [
    "caption = current_prod_table.find('caption').text\n",
    "print(caption)"
   ]
  },
  {
   "cell_type": "markdown",
   "metadata": {
    "id": "FgCely6q_eHq"
   },
   "source": [
    "Getting the Table Column headings"
   ]
  },
  {
   "cell_type": "code",
   "execution_count": null,
   "metadata": {
    "colab": {
     "base_uri": "https://localhost:8080/"
    },
    "collapsed": true,
    "executionInfo": {
     "elapsed": 8,
     "status": "ok",
     "timestamp": 1678230740823,
     "user": {
      "displayName": "Samuel Sudheer Vara",
      "userId": "09762266263516049001"
     },
     "user_tz": 480
    },
    "id": "3N8OdsixzC7_",
    "outputId": "b81f9ce0-0d2e-49ea-c6b7-bcf854d25085"
   },
   "outputs": [
    {
     "name": "stdout",
     "output_type": "stream",
     "text": [
      "['Aircraft model', 'Number built[21]', 'Description', 'Capacity', 'First flight', 'Variants in production', 'Out-of-production variants']\n"
     ]
    }
   ],
   "source": [
    "table_headings_raw = current_prod_table.findAll('th')\n",
    "table_headings = []\n",
    "for heading_tag in table_headings_raw:\n",
    "    table_headings.append(heading_tag.text.rstrip())\n",
    "print(table_headings)"
   ]
  },
  {
   "cell_type": "markdown",
   "metadata": {
    "id": "5aoxQhFW_h_n"
   },
   "source": [
    "Getting data from each row"
   ]
  },
  {
   "cell_type": "code",
   "execution_count": null,
   "metadata": {
    "colab": {
     "base_uri": "https://localhost:8080/"
    },
    "collapsed": true,
    "executionInfo": {
     "elapsed": 7,
     "status": "ok",
     "timestamp": 1678230740823,
     "user": {
      "displayName": "Samuel Sudheer Vara",
      "userId": "09762266263516049001"
     },
     "user_tz": 480
    },
    "id": "AD8Zj5nP7DTr",
    "outputId": "62256347-9c93-49b3-eba8-d8ff467e116f"
   },
   "outputs": [
    {
     "name": "stdout",
     "output_type": "stream",
     "text": [
      "['737', '10,906', 'Twin‑engine, single aisle, short- to medium-range narrow-body', '85–215', 'April 9, 1967', '737 MAX, BBJ, 737 AEW&C, P-8', '100, 200, 200C/Adv, 300, 400, 500, 600, 700, 700ER, 800, 900, 900ER, C-40']\n",
      "['767', '1,240', 'Heavy, twin-engine, twin aisle, medium- to long-range widebody', '180–375', 'September 26, 1981', '300F, KC-767, KC-46, E-767', '200, 200ER, 300, 300ER, 400ER[22]']\n",
      "['777', '1,678', 'Heavy, twin-engine, twin aisle, medium- to long-range, ultra long-range (200LR), widebody', '301–550', 'June 12, 1994', 'BBJ, Freighter[23]', '200, 200ER, 200LR, 300, 300ER']\n",
      "['787', '1,006', 'Heavy, twin-engine, twin aisle, long-range widebody', '210–330[24]', 'December 15, 2009', '8, 9,[25] 10, BBJ[26]', '']\n"
     ]
    }
   ],
   "source": [
    "table_rows_raw = current_prod_table.findAll('tbody')[0].findAll('tr')\n",
    "\n",
    "\n",
    "table_content = []\n",
    "for row_data_raw in table_rows_raw:\n",
    "    row = []\n",
    "    for row_data in row_data_raw.findAll('td'):\n",
    "        row.append(row_data.text.rstrip())\n",
    "    \n",
    "    if row:\n",
    "        table_content.append(row)\n",
    "    \n",
    "for x in table_content:\n",
    "    print(x)"
   ]
  },
  {
   "cell_type": "markdown",
   "metadata": {
    "id": "EtpC8u1F_oGn"
   },
   "source": [
    "Optional: Display (using pandas)"
   ]
  },
  {
   "cell_type": "code",
   "execution_count": null,
   "metadata": {
    "collapsed": true,
    "id": "XZLX9Cs5_zAO"
   },
   "outputs": [],
   "source": [
    "# !pip install pandas"
   ]
  },
  {
   "cell_type": "code",
   "execution_count": null,
   "metadata": {
    "colab": {
     "base_uri": "https://localhost:8080/",
     "height": 238
    },
    "collapsed": true,
    "executionInfo": {
     "elapsed": 6,
     "status": "ok",
     "timestamp": 1678230740823,
     "user": {
      "displayName": "Samuel Sudheer Vara",
      "userId": "09762266263516049001"
     },
     "user_tz": 480
    },
    "id": "5v8dW8L_-Rui",
    "outputId": "e28ed9cd-c70a-42ed-b2d2-3c91f68a3369"
   },
   "outputs": [
    {
     "data": {
      "application/vnd.google.colaboratory.module+javascript": "\n      import \"https://ssl.gstatic.com/colaboratory/data_table/99dac6621f6ae8c4/data_table.js\";\n\n      window.createDataTable({\n        data: [[{\n            'v': 0,\n            'f': \"0\",\n        },\n\"737\",\n\"10,906\",\n\"Twin\\u2011engine, single aisle, short- to medium-range narrow-body\",\n\"85\\u2013215\",\n\"April 9, 1967\",\n\"737 MAX, BBJ, 737 AEW&C, P-8\",\n\"100, 200, 200C/Adv, 300, 400, 500, 600, 700, 700ER, 800, 900, 900ER, C-40\"],\n [{\n            'v': 1,\n            'f': \"1\",\n        },\n\"767\",\n\"1,240\",\n\"Heavy, twin-engine, twin aisle, medium- to long-range widebody\",\n\"180\\u2013375\",\n\"September 26, 1981\",\n\"300F, KC-767, KC-46, E-767\",\n\"200, 200ER, 300, 300ER, 400ER[22]\"],\n [{\n            'v': 2,\n            'f': \"2\",\n        },\n\"777\",\n\"1,678\",\n\"Heavy, twin-engine, twin aisle, medium- to long-range, ultra long-range (200LR), widebody\",\n\"301\\u2013550\",\n\"June 12, 1994\",\n\"BBJ, Freighter[23]\",\n\"200, 200ER, 200LR, 300, 300ER\"],\n [{\n            'v': 3,\n            'f': \"3\",\n        },\n\"787\",\n\"1,006\",\n\"Heavy, twin-engine, twin aisle, long-range widebody\",\n\"210\\u2013330[24]\",\n\"December 15, 2009\",\n\"8, 9,[25] 10, BBJ[26]\",\n\"\"]],\n        columns: [[\"number\", \"index\"], [\"string\", \"Aircraft model\"], [\"string\", \"Number built[21]\"], [\"string\", \"Description\"], [\"string\", \"Capacity\"], [\"string\", \"First flight\"], [\"string\", \"Variants in production\"], [\"string\", \"Out-of-production variants\"]],\n        columnOptions: [{\"width\": \"1px\", \"className\": \"index_column\"}],\n        rowsPerPage: 25,\n        helpUrl: \"https://colab.research.google.com/notebooks/data_table.ipynb\",\n        suppressOutputScrolling: true,\n        minimumWidth: undefined,\n      });\n    ",
      "text/html": [
       "\n",
       "  <div id=\"df-c550f2b5-4431-4709-a4a3-6495dd0c7c97\">\n",
       "    <div class=\"colab-df-container\">\n",
       "      <div>\n",
       "<style scoped>\n",
       "    .dataframe tbody tr th:only-of-type {\n",
       "        vertical-align: middle;\n",
       "    }\n",
       "\n",
       "    .dataframe tbody tr th {\n",
       "        vertical-align: top;\n",
       "    }\n",
       "\n",
       "    .dataframe thead th {\n",
       "        text-align: right;\n",
       "    }\n",
       "</style>\n",
       "<table border=\"1\" class=\"dataframe\">\n",
       "  <thead>\n",
       "    <tr style=\"text-align: right;\">\n",
       "      <th></th>\n",
       "      <th>Aircraft model</th>\n",
       "      <th>Number built[21]</th>\n",
       "      <th>Description</th>\n",
       "      <th>Capacity</th>\n",
       "      <th>First flight</th>\n",
       "      <th>Variants in production</th>\n",
       "      <th>Out-of-production variants</th>\n",
       "    </tr>\n",
       "  </thead>\n",
       "  <tbody>\n",
       "    <tr>\n",
       "      <th>0</th>\n",
       "      <td>737</td>\n",
       "      <td>10,906</td>\n",
       "      <td>Twin‑engine, single aisle, short- to medium-ra...</td>\n",
       "      <td>85–215</td>\n",
       "      <td>April 9, 1967</td>\n",
       "      <td>737 MAX, BBJ, 737 AEW&amp;C, P-8</td>\n",
       "      <td>100, 200, 200C/Adv, 300, 400, 500, 600, 700, 7...</td>\n",
       "    </tr>\n",
       "    <tr>\n",
       "      <th>1</th>\n",
       "      <td>767</td>\n",
       "      <td>1,240</td>\n",
       "      <td>Heavy, twin-engine, twin aisle, medium- to lon...</td>\n",
       "      <td>180–375</td>\n",
       "      <td>September 26, 1981</td>\n",
       "      <td>300F, KC-767, KC-46, E-767</td>\n",
       "      <td>200, 200ER, 300, 300ER, 400ER[22]</td>\n",
       "    </tr>\n",
       "    <tr>\n",
       "      <th>2</th>\n",
       "      <td>777</td>\n",
       "      <td>1,678</td>\n",
       "      <td>Heavy, twin-engine, twin aisle, medium- to lon...</td>\n",
       "      <td>301–550</td>\n",
       "      <td>June 12, 1994</td>\n",
       "      <td>BBJ, Freighter[23]</td>\n",
       "      <td>200, 200ER, 200LR, 300, 300ER</td>\n",
       "    </tr>\n",
       "    <tr>\n",
       "      <th>3</th>\n",
       "      <td>787</td>\n",
       "      <td>1,006</td>\n",
       "      <td>Heavy, twin-engine, twin aisle, long-range wid...</td>\n",
       "      <td>210–330[24]</td>\n",
       "      <td>December 15, 2009</td>\n",
       "      <td>8, 9,[25] 10, BBJ[26]</td>\n",
       "      <td></td>\n",
       "    </tr>\n",
       "  </tbody>\n",
       "</table>\n",
       "</div>\n",
       "      <button class=\"colab-df-convert\" onclick=\"convertToInteractive('df-c550f2b5-4431-4709-a4a3-6495dd0c7c97')\"\n",
       "              title=\"Convert this dataframe to an interactive table.\"\n",
       "              style=\"display:none;\">\n",
       "        \n",
       "  <svg xmlns=\"http://www.w3.org/2000/svg\" height=\"24px\"viewBox=\"0 0 24 24\"\n",
       "       width=\"24px\">\n",
       "    <path d=\"M0 0h24v24H0V0z\" fill=\"none\"/>\n",
       "    <path d=\"M18.56 5.44l.94 2.06.94-2.06 2.06-.94-2.06-.94-.94-2.06-.94 2.06-2.06.94zm-11 1L8.5 8.5l.94-2.06 2.06-.94-2.06-.94L8.5 2.5l-.94 2.06-2.06.94zm10 10l.94 2.06.94-2.06 2.06-.94-2.06-.94-.94-2.06-.94 2.06-2.06.94z\"/><path d=\"M17.41 7.96l-1.37-1.37c-.4-.4-.92-.59-1.43-.59-.52 0-1.04.2-1.43.59L10.3 9.45l-7.72 7.72c-.78.78-.78 2.05 0 2.83L4 21.41c.39.39.9.59 1.41.59.51 0 1.02-.2 1.41-.59l7.78-7.78 2.81-2.81c.8-.78.8-2.07 0-2.86zM5.41 20L4 18.59l7.72-7.72 1.47 1.35L5.41 20z\"/>\n",
       "  </svg>\n",
       "      </button>\n",
       "      \n",
       "  <style>\n",
       "    .colab-df-container {\n",
       "      display:flex;\n",
       "      flex-wrap:wrap;\n",
       "      gap: 12px;\n",
       "    }\n",
       "\n",
       "    .colab-df-convert {\n",
       "      background-color: #E8F0FE;\n",
       "      border: none;\n",
       "      border-radius: 50%;\n",
       "      cursor: pointer;\n",
       "      display: none;\n",
       "      fill: #1967D2;\n",
       "      height: 32px;\n",
       "      padding: 0 0 0 0;\n",
       "      width: 32px;\n",
       "    }\n",
       "\n",
       "    .colab-df-convert:hover {\n",
       "      background-color: #E2EBFA;\n",
       "      box-shadow: 0px 1px 2px rgba(60, 64, 67, 0.3), 0px 1px 3px 1px rgba(60, 64, 67, 0.15);\n",
       "      fill: #174EA6;\n",
       "    }\n",
       "\n",
       "    [theme=dark] .colab-df-convert {\n",
       "      background-color: #3B4455;\n",
       "      fill: #D2E3FC;\n",
       "    }\n",
       "\n",
       "    [theme=dark] .colab-df-convert:hover {\n",
       "      background-color: #434B5C;\n",
       "      box-shadow: 0px 1px 3px 1px rgba(0, 0, 0, 0.15);\n",
       "      filter: drop-shadow(0px 1px 2px rgba(0, 0, 0, 0.3));\n",
       "      fill: #FFFFFF;\n",
       "    }\n",
       "  </style>\n",
       "\n",
       "      <script>\n",
       "        const buttonEl =\n",
       "          document.querySelector('#df-c550f2b5-4431-4709-a4a3-6495dd0c7c97 button.colab-df-convert');\n",
       "        buttonEl.style.display =\n",
       "          google.colab.kernel.accessAllowed ? 'block' : 'none';\n",
       "\n",
       "        async function convertToInteractive(key) {\n",
       "          const element = document.querySelector('#df-c550f2b5-4431-4709-a4a3-6495dd0c7c97');\n",
       "          const dataTable =\n",
       "            await google.colab.kernel.invokeFunction('convertToInteractive',\n",
       "                                                     [key], {});\n",
       "          if (!dataTable) return;\n",
       "\n",
       "          const docLinkHtml = 'Like what you see? Visit the ' +\n",
       "            '<a target=\"_blank\" href=https://colab.research.google.com/notebooks/data_table.ipynb>data table notebook</a>'\n",
       "            + ' to learn more about interactive tables.';\n",
       "          element.innerHTML = '';\n",
       "          dataTable['output_type'] = 'display_data';\n",
       "          await google.colab.output.renderOutput(dataTable, element);\n",
       "          const docLink = document.createElement('div');\n",
       "          docLink.innerHTML = docLinkHtml;\n",
       "          element.appendChild(docLink);\n",
       "        }\n",
       "      </script>\n",
       "    </div>\n",
       "  </div>\n",
       "  "
      ],
      "text/plain": [
       "  Aircraft model Number built[21]  \\\n",
       "0            737           10,906   \n",
       "1            767            1,240   \n",
       "2            777            1,678   \n",
       "3            787            1,006   \n",
       "\n",
       "                                         Description     Capacity  \\\n",
       "0  Twin‑engine, single aisle, short- to medium-ra...       85–215   \n",
       "1  Heavy, twin-engine, twin aisle, medium- to lon...      180–375   \n",
       "2  Heavy, twin-engine, twin aisle, medium- to lon...      301–550   \n",
       "3  Heavy, twin-engine, twin aisle, long-range wid...  210–330[24]   \n",
       "\n",
       "         First flight        Variants in production  \\\n",
       "0       April 9, 1967  737 MAX, BBJ, 737 AEW&C, P-8   \n",
       "1  September 26, 1981    300F, KC-767, KC-46, E-767   \n",
       "2       June 12, 1994            BBJ, Freighter[23]   \n",
       "3   December 15, 2009         8, 9,[25] 10, BBJ[26]   \n",
       "\n",
       "                          Out-of-production variants  \n",
       "0  100, 200, 200C/Adv, 300, 400, 500, 600, 700, 7...  \n",
       "1                  200, 200ER, 300, 300ER, 400ER[22]  \n",
       "2                      200, 200ER, 200LR, 300, 300ER  \n",
       "3                                                     "
      ]
     },
     "execution_count": 155,
     "metadata": {},
     "output_type": "execute_result"
    }
   ],
   "source": [
    "import pandas as pd\n",
    "\n",
    "df = pd.DataFrame(table_content, columns=table_headings)\n",
    "df"
   ]
  },
  {
   "cell_type": "markdown",
   "metadata": {
    "id": "LXg9MSOBAWGe"
   },
   "source": [
    "Alternate way: Using pandas' read_html()."
   ]
  },
  {
   "cell_type": "code",
   "execution_count": null,
   "metadata": {
    "colab": {
     "base_uri": "https://localhost:8080/",
     "height": 238
    },
    "collapsed": true,
    "executionInfo": {
     "elapsed": 211,
     "status": "ok",
     "timestamp": 1678230741029,
     "user": {
      "displayName": "Samuel Sudheer Vara",
      "userId": "09762266263516049001"
     },
     "user_tz": 480
    },
    "id": "Z9lusF01AICd",
    "outputId": "bff24d93-c210-4ea4-b335-1b6a19a9cebd"
   },
   "outputs": [
    {
     "data": {
      "application/vnd.google.colaboratory.module+javascript": "\n      import \"https://ssl.gstatic.com/colaboratory/data_table/99dac6621f6ae8c4/data_table.js\";\n\n      window.createDataTable({\n        data: [[{\n            'v': 10906,\n            'f': \"10906\",\n        },\n{\n            'v': 737,\n            'f': \"737\",\n        },\n\"Twin\\u2011engine, single aisle, short- to medium-range narrow-body\",\n\"85\\u2013215\",\n\"April 9, 1967\",\n\"737 MAX, BBJ, 737 AEW&C, P-8\",\n\"100, 200, 200C/Adv, 300, 400, 500, 600, 700, 700ER, 800, 900, 900ER, C-40\"],\n [{\n            'v': 1240,\n            'f': \"1240\",\n        },\n{\n            'v': 767,\n            'f': \"767\",\n        },\n\"Heavy, twin-engine, twin aisle, medium- to long-range widebody\",\n\"180\\u2013375\",\n\"September 26, 1981\",\n\"300F, KC-767, KC-46, E-767\",\n\"200, 200ER, 300, 300ER, 400ER[22]\"],\n [{\n            'v': 1678,\n            'f': \"1678\",\n        },\n{\n            'v': 777,\n            'f': \"777\",\n        },\n\"Heavy, twin-engine, twin aisle, medium- to long-range, ultra long-range (200LR), widebody\",\n\"301\\u2013550\",\n\"June 12, 1994\",\n\"BBJ, Freighter[23]\",\n\"200, 200ER, 200LR, 300, 300ER\"],\n [{\n            'v': 1006,\n            'f': \"1006\",\n        },\n{\n            'v': 787,\n            'f': \"787\",\n        },\n\"Heavy, twin-engine, twin aisle, long-range widebody\",\n\"210\\u2013330[24]\",\n\"December 15, 2009\",\n\"8, 9,[25] 10, BBJ[26]\",\nNaN]],\n        columns: [[\"number\", \"Number built[21]\"], [\"number\", \"Aircraft model\"], [\"string\", \"Description\"], [\"string\", \"Capacity\"], [\"string\", \"First flight\"], [\"string\", \"Variants in production\"], [\"string\", \"Out-of-production variants\"]],\n        columnOptions: [{\"width\": \"1px\", \"className\": \"index_column\"}],\n        rowsPerPage: 25,\n        helpUrl: \"https://colab.research.google.com/notebooks/data_table.ipynb\",\n        suppressOutputScrolling: true,\n        minimumWidth: undefined,\n      });\n    ",
      "text/html": [
       "\n",
       "  <div id=\"df-e8a64c81-04a3-4404-a70d-96e2d712fb09\">\n",
       "    <div class=\"colab-df-container\">\n",
       "      <div>\n",
       "<style scoped>\n",
       "    .dataframe tbody tr th:only-of-type {\n",
       "        vertical-align: middle;\n",
       "    }\n",
       "\n",
       "    .dataframe tbody tr th {\n",
       "        vertical-align: top;\n",
       "    }\n",
       "\n",
       "    .dataframe thead th {\n",
       "        text-align: right;\n",
       "    }\n",
       "</style>\n",
       "<table border=\"1\" class=\"dataframe\">\n",
       "  <thead>\n",
       "    <tr style=\"text-align: right;\">\n",
       "      <th></th>\n",
       "      <th>Aircraft model</th>\n",
       "      <th>Description</th>\n",
       "      <th>Capacity</th>\n",
       "      <th>First flight</th>\n",
       "      <th>Variants in production</th>\n",
       "      <th>Out-of-production variants</th>\n",
       "    </tr>\n",
       "    <tr>\n",
       "      <th>Number built[21]</th>\n",
       "      <th></th>\n",
       "      <th></th>\n",
       "      <th></th>\n",
       "      <th></th>\n",
       "      <th></th>\n",
       "      <th></th>\n",
       "    </tr>\n",
       "  </thead>\n",
       "  <tbody>\n",
       "    <tr>\n",
       "      <th>10906</th>\n",
       "      <td>737</td>\n",
       "      <td>Twin‑engine, single aisle, short- to medium-ra...</td>\n",
       "      <td>85–215</td>\n",
       "      <td>April 9, 1967</td>\n",
       "      <td>737 MAX, BBJ, 737 AEW&amp;C, P-8</td>\n",
       "      <td>100, 200, 200C/Adv, 300, 400, 500, 600, 700, 7...</td>\n",
       "    </tr>\n",
       "    <tr>\n",
       "      <th>1240</th>\n",
       "      <td>767</td>\n",
       "      <td>Heavy, twin-engine, twin aisle, medium- to lon...</td>\n",
       "      <td>180–375</td>\n",
       "      <td>September 26, 1981</td>\n",
       "      <td>300F, KC-767, KC-46, E-767</td>\n",
       "      <td>200, 200ER, 300, 300ER, 400ER[22]</td>\n",
       "    </tr>\n",
       "    <tr>\n",
       "      <th>1678</th>\n",
       "      <td>777</td>\n",
       "      <td>Heavy, twin-engine, twin aisle, medium- to lon...</td>\n",
       "      <td>301–550</td>\n",
       "      <td>June 12, 1994</td>\n",
       "      <td>BBJ, Freighter[23]</td>\n",
       "      <td>200, 200ER, 200LR, 300, 300ER</td>\n",
       "    </tr>\n",
       "    <tr>\n",
       "      <th>1006</th>\n",
       "      <td>787</td>\n",
       "      <td>Heavy, twin-engine, twin aisle, long-range wid...</td>\n",
       "      <td>210–330[24]</td>\n",
       "      <td>December 15, 2009</td>\n",
       "      <td>8, 9,[25] 10, BBJ[26]</td>\n",
       "      <td>NaN</td>\n",
       "    </tr>\n",
       "  </tbody>\n",
       "</table>\n",
       "</div>\n",
       "      <button class=\"colab-df-convert\" onclick=\"convertToInteractive('df-e8a64c81-04a3-4404-a70d-96e2d712fb09')\"\n",
       "              title=\"Convert this dataframe to an interactive table.\"\n",
       "              style=\"display:none;\">\n",
       "        \n",
       "  <svg xmlns=\"http://www.w3.org/2000/svg\" height=\"24px\"viewBox=\"0 0 24 24\"\n",
       "       width=\"24px\">\n",
       "    <path d=\"M0 0h24v24H0V0z\" fill=\"none\"/>\n",
       "    <path d=\"M18.56 5.44l.94 2.06.94-2.06 2.06-.94-2.06-.94-.94-2.06-.94 2.06-2.06.94zm-11 1L8.5 8.5l.94-2.06 2.06-.94-2.06-.94L8.5 2.5l-.94 2.06-2.06.94zm10 10l.94 2.06.94-2.06 2.06-.94-2.06-.94-.94-2.06-.94 2.06-2.06.94z\"/><path d=\"M17.41 7.96l-1.37-1.37c-.4-.4-.92-.59-1.43-.59-.52 0-1.04.2-1.43.59L10.3 9.45l-7.72 7.72c-.78.78-.78 2.05 0 2.83L4 21.41c.39.39.9.59 1.41.59.51 0 1.02-.2 1.41-.59l7.78-7.78 2.81-2.81c.8-.78.8-2.07 0-2.86zM5.41 20L4 18.59l7.72-7.72 1.47 1.35L5.41 20z\"/>\n",
       "  </svg>\n",
       "      </button>\n",
       "      \n",
       "  <style>\n",
       "    .colab-df-container {\n",
       "      display:flex;\n",
       "      flex-wrap:wrap;\n",
       "      gap: 12px;\n",
       "    }\n",
       "\n",
       "    .colab-df-convert {\n",
       "      background-color: #E8F0FE;\n",
       "      border: none;\n",
       "      border-radius: 50%;\n",
       "      cursor: pointer;\n",
       "      display: none;\n",
       "      fill: #1967D2;\n",
       "      height: 32px;\n",
       "      padding: 0 0 0 0;\n",
       "      width: 32px;\n",
       "    }\n",
       "\n",
       "    .colab-df-convert:hover {\n",
       "      background-color: #E2EBFA;\n",
       "      box-shadow: 0px 1px 2px rgba(60, 64, 67, 0.3), 0px 1px 3px 1px rgba(60, 64, 67, 0.15);\n",
       "      fill: #174EA6;\n",
       "    }\n",
       "\n",
       "    [theme=dark] .colab-df-convert {\n",
       "      background-color: #3B4455;\n",
       "      fill: #D2E3FC;\n",
       "    }\n",
       "\n",
       "    [theme=dark] .colab-df-convert:hover {\n",
       "      background-color: #434B5C;\n",
       "      box-shadow: 0px 1px 3px 1px rgba(0, 0, 0, 0.15);\n",
       "      filter: drop-shadow(0px 1px 2px rgba(0, 0, 0, 0.3));\n",
       "      fill: #FFFFFF;\n",
       "    }\n",
       "  </style>\n",
       "\n",
       "      <script>\n",
       "        const buttonEl =\n",
       "          document.querySelector('#df-e8a64c81-04a3-4404-a70d-96e2d712fb09 button.colab-df-convert');\n",
       "        buttonEl.style.display =\n",
       "          google.colab.kernel.accessAllowed ? 'block' : 'none';\n",
       "\n",
       "        async function convertToInteractive(key) {\n",
       "          const element = document.querySelector('#df-e8a64c81-04a3-4404-a70d-96e2d712fb09');\n",
       "          const dataTable =\n",
       "            await google.colab.kernel.invokeFunction('convertToInteractive',\n",
       "                                                     [key], {});\n",
       "          if (!dataTable) return;\n",
       "\n",
       "          const docLinkHtml = 'Like what you see? Visit the ' +\n",
       "            '<a target=\"_blank\" href=https://colab.research.google.com/notebooks/data_table.ipynb>data table notebook</a>'\n",
       "            + ' to learn more about interactive tables.';\n",
       "          element.innerHTML = '';\n",
       "          dataTable['output_type'] = 'display_data';\n",
       "          await google.colab.output.renderOutput(dataTable, element);\n",
       "          const docLink = document.createElement('div');\n",
       "          docLink.innerHTML = docLinkHtml;\n",
       "          element.appendChild(docLink);\n",
       "        }\n",
       "      </script>\n",
       "    </div>\n",
       "  </div>\n",
       "  "
      ],
      "text/plain": [
       "                  Aircraft model  \\\n",
       "Number built[21]                   \n",
       "10906                        737   \n",
       "1240                         767   \n",
       "1678                         777   \n",
       "1006                         787   \n",
       "\n",
       "                                                        Description  \\\n",
       "Number built[21]                                                      \n",
       "10906             Twin‑engine, single aisle, short- to medium-ra...   \n",
       "1240              Heavy, twin-engine, twin aisle, medium- to lon...   \n",
       "1678              Heavy, twin-engine, twin aisle, medium- to lon...   \n",
       "1006              Heavy, twin-engine, twin aisle, long-range wid...   \n",
       "\n",
       "                     Capacity        First flight  \\\n",
       "Number built[21]                                    \n",
       "10906                  85–215       April 9, 1967   \n",
       "1240                  180–375  September 26, 1981   \n",
       "1678                  301–550       June 12, 1994   \n",
       "1006              210–330[24]   December 15, 2009   \n",
       "\n",
       "                        Variants in production  \\\n",
       "Number built[21]                                 \n",
       "10906             737 MAX, BBJ, 737 AEW&C, P-8   \n",
       "1240                300F, KC-767, KC-46, E-767   \n",
       "1678                        BBJ, Freighter[23]   \n",
       "1006                     8, 9,[25] 10, BBJ[26]   \n",
       "\n",
       "                                         Out-of-production variants  \n",
       "Number built[21]                                                     \n",
       "10906             100, 200, 200C/Adv, 300, 400, 500, 600, 700, 7...  \n",
       "1240                              200, 200ER, 300, 300ER, 400ER[22]  \n",
       "1678                                  200, 200ER, 200LR, 300, 300ER  \n",
       "1006                                                            NaN  "
      ]
     },
     "execution_count": 156,
     "metadata": {},
     "output_type": "execute_result"
    }
   ],
   "source": [
    "df2 = pd.read_html('https://en.wikipedia.org/wiki/Boeing_Commercial_Airplanes', index_col=1)[1]\n",
    "df2"
   ]
  },
  {
   "cell_type": "markdown",
   "metadata": {
    "id": "efgJRTy0G4z9"
   },
   "source": [
    "While the pandas simplifies scarping tables, you cannot use it for your project."
   ]
  },
  {
   "cell_type": "markdown",
   "metadata": {
    "id": "d2gvx3soTFHz"
   },
   "source": [
    "Q2. Get all the images from latimes.com and save their paths. Optionally you should also be able to save those images to your local desktop."
   ]
  },
  {
   "cell_type": "code",
   "execution_count": null,
   "metadata": {
    "colab": {
     "base_uri": "https://localhost:8080/"
    },
    "collapsed": true,
    "executionInfo": {
     "elapsed": 324,
     "status": "ok",
     "timestamp": 1678264668070,
     "user": {
      "displayName": "Jose-Luis Ambite",
      "userId": "00859808701348154014"
     },
     "user_tz": 480
    },
    "id": "QyoQh8k2R9nW",
    "outputId": "e0940da2-4109-426b-a503-7f4289ae179c"
   },
   "outputs": [
    {
     "name": "stdout",
     "output_type": "stream",
     "text": [
      "dict_keys(['parser_class', 'name', 'namespace', 'prefix', 'preserve_whitespace_tags', 'known_xml', 'attrs', 'contents', 'parent', 'previous_element', 'next_element', 'next_sibling', 'previous_sibling', 'hidden', 'can_be_empty_element'])\n",
      "Got 74 images\n"
     ]
    }
   ],
   "source": [
    "from bs4 import BeautifulSoup\n",
    "import requests\n",
    "\n",
    "headers = {\n",
    "    \"User-Agent\": \"Mozilla/5.0 (Windows NT 10.0; Win64; x64) AppleWebKit/537.36 (KHTML, like Gecko) Chrome/103.0.5060.114 Safari/537.36\"\n",
    "}\n",
    "response = requests.get('https://www.latimes.com/', headers=headers)\n",
    "\n",
    "soup = BeautifulSoup(response.content, 'html.parser')\n",
    "\n",
    "# print(soup.prettify())\n",
    "images = soup.find_all(['img'])\n",
    "\n",
    "image_paths = []\n",
    "for image in images:\n",
    "    try:\n",
    "        image_paths.append(image['srcset'].split(' ')[0])\n",
    "    except:\n",
    "        print(image.__dict__.keys())\n",
    "\n",
    "print(f'Got {len(image_paths)} images')"
   ]
  },
  {
   "cell_type": "code",
   "execution_count": null,
   "metadata": {
    "colab": {
     "base_uri": "https://localhost:8080/"
    },
    "collapsed": true,
    "executionInfo": {
     "elapsed": 203,
     "status": "ok",
     "timestamp": 1678264571641,
     "user": {
      "displayName": "Jose-Luis Ambite",
      "userId": "00859808701348154014"
     },
     "user_tz": 480
    },
    "id": "wzBC_ngEUU8a",
    "outputId": "a14a75fc-8301-4a16-c18d-277df0df31b6"
   },
   "outputs": [
    {
     "name": "stdout",
     "output_type": "stream",
     "text": [
      "<class 'str'>\n",
      "https://ca-times.brightspotcdn.com/dims4/default/abd4f31/2147483647/strip/true/crop/6720x4480+0+0/resize/110x73!/quality/80/?url=https%3A%2F%2Fcalifornia-times-brightspot.s3.amazonaws.com%2F21%2F82%2Feab038764408a9b35f805c771b3f%2F1260123-me-weather-winter-storm-gxc-1187.jpg\n"
     ]
    }
   ],
   "source": [
    "print(type(image_paths[1]))\n",
    "print(image_paths[1])"
   ]
  },
  {
   "cell_type": "code",
   "execution_count": null,
   "metadata": {
    "colab": {
     "base_uri": "https://localhost:8080/",
     "height": 249
    },
    "collapsed": true,
    "executionInfo": {
     "elapsed": 165,
     "status": "ok",
     "timestamp": 1678265239266,
     "user": {
      "displayName": "Jose-Luis Ambite",
      "userId": "00859808701348154014"
     },
     "user_tz": 480
    },
    "id": "sAfpoqx0X8A8",
    "outputId": "969c9601-74f7-4869-9cc0-be423717f6f6"
   },
   "outputs": [
    {
     "data": {
      "text/html": [
       "<img src=\"https://ca-times.brightspotcdn.com/dims4/default/a4e6d15/2147483647/strip/true/crop/3794x2529+0+45/resize/110x73!/quality/80/?url=https%3A%2F%2Fcalifornia-times-brightspot.s3.amazonaws.com%2Fbc%2Fb7%2F00c4e63b49db8c6f8ca791df1661%2F1265258-me-anthony-avalos-verdict-2-gmf.jpg\"/>"
      ],
      "text/plain": [
       "<IPython.core.display.Image object>"
      ]
     },
     "metadata": {},
     "output_type": "display_data"
    },
    {
     "data": {
      "text/html": [
       "<img src=\"https://ca-times.brightspotcdn.com/dims4/default/abd4f31/2147483647/strip/true/crop/6720x4480+0+0/resize/110x73!/quality/80/?url=https%3A%2F%2Fcalifornia-times-brightspot.s3.amazonaws.com%2F21%2F82%2Feab038764408a9b35f805c771b3f%2F1260123-me-weather-winter-storm-gxc-1187.jpg\"/>"
      ],
      "text/plain": [
       "<IPython.core.display.Image object>"
      ]
     },
     "metadata": {},
     "output_type": "display_data"
    },
    {
     "data": {
      "text/html": [
       "<img src=\"https://ca-times.brightspotcdn.com/dims4/default/3f38456/2147483647/strip/true/crop/4997x3331+2+0/resize/110x73!/quality/80/?url=https%3A%2F%2Fcalifornia-times-brightspot.s3.amazonaws.com%2Fdd%2Fa8%2F3ef0aa054cb299586ce97d3e517b%2Fhttps-delivery-gettyimages.com%2Fdownloads%2F1246020220\"/>"
      ],
      "text/plain": [
       "<IPython.core.display.Image object>"
      ]
     },
     "metadata": {},
     "output_type": "display_data"
    }
   ],
   "source": [
    "from IPython.display import Image\n",
    "from IPython.display import display\n",
    "\n",
    "imgs = []\n",
    "for i in range(3):\n",
    "  imgs.append(Image(url=image_paths[i]))\n",
    "\n",
    "display(*imgs)\n"
   ]
  },
  {
   "cell_type": "code",
   "execution_count": null,
   "metadata": {
    "colab": {
     "base_uri": "https://localhost:8080/"
    },
    "collapsed": true,
    "executionInfo": {
     "elapsed": 699,
     "status": "ok",
     "timestamp": 1678264900177,
     "user": {
      "displayName": "Jose-Luis Ambite",
      "userId": "00859808701348154014"
     },
     "user_tz": 480
    },
    "id": "G_NatqqxUxmq",
    "outputId": "8c69df4a-223d-47ca-9be9-248c961fd108"
   },
   "outputs": [
    {
     "name": "stdout",
     "output_type": "stream",
     "text": [
      "Downloading 1 image...\n"
     ]
    }
   ],
   "source": [
    "import urllib\n",
    "\n",
    "for index, image_path in enumerate(image_paths, start=1):\n",
    "    print(f'Downloading image {index} ...')\n",
    "            \n",
    "    opener = urllib.request.build_opener()\n",
    "    opener.addheaders=[('User-Agent','Mozilla/5.0 (Windows NT 10.0; Win64; x64) AppleWebKit/537.36 (KHTML, like Gecko) Chrome/101.0.4951.54 Safari/537.36')]\n",
    "    urllib.request.install_opener(opener)\n",
    "\n",
    "    urllib.request.urlretrieve(image_path, f'Image {index}.jpg')\n",
    "    break"
   ]
  },
  {
   "cell_type": "markdown",
   "metadata": {
    "id": "1QkODwGwV9F-"
   },
   "source": [
    "Cool! You got a crawler in your hands now."
   ]
  },
  {
   "cell_type": "markdown",
   "metadata": {
    "id": "ujPomwdmMbrY"
   },
   "source": [
    "Q3. Given a string s, reverse the order of the words. Toggle the case of each word (i.e. if the SiEVe -> sIevE).\n",
    "\n",
    "Words are separated by a space.\n",
    "\n",
    "Example:\n",
    "\n",
    "s = 'BLues is my FaVoUriTE genRE'\n",
    "returns \"SEUlb SI YM etIRuOvAf erNEG:"
   ]
  },
  {
   "cell_type": "code",
   "execution_count": null,
   "metadata": {
    "collapsed": true,
    "id": "zCudhJj4MbI_"
   },
   "outputs": [],
   "source": [
    "def reverse(s):\n",
    "    left, right = 0, len(s)-1\n",
    "    while left < right:\n",
    "        s[left], s[right] = s[right], s[left]\n",
    "        left += 1\n",
    "        right -= 1\n",
    "    return s\n",
    "\n",
    "def toggle(s):\n",
    "    ans = ''\n",
    "    for c in s:\n",
    "        if ord('a') <= ord(c) <= ord('z'):\n",
    "            ans += chr(ord('A') + ord(c) - ord('a'))\n",
    "        else:\n",
    "            ans += chr(ord('a') + ord(c) - ord('A'))\n",
    "    return ans\n",
    "\n",
    "def reverseWords(s):\n",
    "    words = s.split(' ')\n",
    "    ans = []\n",
    "    for word in words:\n",
    "        word = list(word)\n",
    "        reversed_word = reverse(word)\n",
    "        togggled_word = toggle(reversed_word)\n",
    "        ans.append(''.join(togggled_word))\n",
    "    return ' '.join(ans)"
   ]
  },
  {
   "cell_type": "code",
   "execution_count": null,
   "metadata": {
    "colab": {
     "base_uri": "https://localhost:8080/",
     "height": 35
    },
    "collapsed": true,
    "executionInfo": {
     "elapsed": 6,
     "status": "ok",
     "timestamp": 1678230741029,
     "user": {
      "displayName": "Samuel Sudheer Vara",
      "userId": "09762266263516049001"
     },
     "user_tz": 480
    },
    "id": "arSCeuEKLe5r",
    "outputId": "86524bbf-9bca-4d26-f388-620e665173ff"
   },
   "outputs": [
    {
     "data": {
      "application/vnd.google.colaboratory.intrinsic+json": {
       "type": "string"
      },
      "text/plain": [
       "'SEUlb SI YM etIRuOvAf erNEG'"
      ]
     },
     "execution_count": 158,
     "metadata": {},
     "output_type": "execute_result"
    }
   ],
   "source": [
    "reverseWords('BLues is my FaVoUriTE genRE')"
   ]
  }
 ],
 "metadata": {
  "colab": {
   "provenance": []
  },
  "kernelspec": {
   "display_name": "Python 3 (ipykernel)",
   "language": "python",
   "name": "python3"
  },
  "language_info": {
   "codemirror_mode": {
    "name": "ipython",
    "version": 3
   },
   "file_extension": ".py",
   "mimetype": "text/x-python",
   "name": "python",
   "nbconvert_exporter": "python",
   "pygments_lexer": "ipython3",
   "version": "3.9.6"
  }
 },
 "nbformat": 4,
 "nbformat_minor": 1
}
