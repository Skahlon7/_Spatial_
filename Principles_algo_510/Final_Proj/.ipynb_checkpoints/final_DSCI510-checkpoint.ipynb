{
 "cells": [
  {
   "cell_type": "markdown",
   "id": "6b5d0e57",
   "metadata": {},
   "source": [
    "## DSCI 510 Final Project"
   ]
  },
  {
   "cell_type": "markdown",
   "id": "645030e1",
   "metadata": {},
   "source": [
    "## I. Extract and Preprocess Data"
   ]
  },
  {
   "cell_type": "markdown",
   "id": "90464864",
   "metadata": {},
   "source": [
    "### GDP Data by Country \n",
    "- Source: World Bank (API)"
   ]
  },
  {
   "cell_type": "code",
   "execution_count": 21,
   "id": "5acf13c0",
   "metadata": {},
   "outputs": [],
   "source": [
    "# GDP Data from api --> show 20000 per page and match with country name data below --> looks good w country\n",
    "import requests\n",
    "import json\n",
    "import pandas as pd\n",
    "\n",
    "form = 'json'\n",
    "indicator = 'NY.GDP.PCAP.CD'\n",
    "\n",
    "url = f'http://api.worldbank.org/v2/country/all/indicator/{indicator}?format={form}&per_page=20000'#&source=2'\n",
    "\n",
    "# Send a GET request to the API endpoint and store the response\n",
    "response = requests.get(url)\n",
    "\n",
    "data = response.json() #Status Code = 200\n",
    "\n",
    "country_dic = {}\n",
    "for index in range(len(data[1])):\n",
    "    if data[1][index]['date'] == '2019':\n",
    "        country_dic[data[1][index]['country']['value']] = [data[1][index]['date'], data[1][index]['value']]"
   ]
  },
  {
   "cell_type": "code",
   "execution_count": 22,
   "id": "e1478ba8",
   "metadata": {},
   "outputs": [],
   "source": [
    "gdp_dic = {}\n",
    "for index in range(len(data[1])):\n",
    "    if data[1][index]['date'] == '2019':\n",
    "        gdp_dic[data[1][index]['country']['value']] = [data[1][index]['date'], data[1][index]['value']]"
   ]
  },
  {
   "cell_type": "code",
   "execution_count": 23,
   "id": "dddba636",
   "metadata": {},
   "outputs": [
    {
     "data": {
      "text/html": [
       "<div>\n",
       "<style scoped>\n",
       "    .dataframe tbody tr th:only-of-type {\n",
       "        vertical-align: middle;\n",
       "    }\n",
       "\n",
       "    .dataframe tbody tr th {\n",
       "        vertical-align: top;\n",
       "    }\n",
       "\n",
       "    .dataframe thead th {\n",
       "        text-align: right;\n",
       "    }\n",
       "</style>\n",
       "<table border=\"1\" class=\"dataframe\">\n",
       "  <thead>\n",
       "    <tr style=\"text-align: right;\">\n",
       "      <th></th>\n",
       "      <th>Country</th>\n",
       "      <th>Year</th>\n",
       "      <th>GDP</th>\n",
       "    </tr>\n",
       "  </thead>\n",
       "  <tbody>\n",
       "    <tr>\n",
       "      <th>263</th>\n",
       "      <td>Yemen, Rep.</td>\n",
       "      <td>2019</td>\n",
       "      <td>NaN</td>\n",
       "    </tr>\n",
       "    <tr>\n",
       "      <th>264</th>\n",
       "      <td>Zambia</td>\n",
       "      <td>2019</td>\n",
       "      <td>1268.120941</td>\n",
       "    </tr>\n",
       "    <tr>\n",
       "      <th>265</th>\n",
       "      <td>Zimbabwe</td>\n",
       "      <td>2019</td>\n",
       "      <td>1421.868596</td>\n",
       "    </tr>\n",
       "  </tbody>\n",
       "</table>\n",
       "</div>"
      ],
      "text/plain": [
       "         Country  Year          GDP\n",
       "263  Yemen, Rep.  2019          NaN\n",
       "264       Zambia  2019  1268.120941\n",
       "265     Zimbabwe  2019  1421.868596"
      ]
     },
     "execution_count": 23,
     "metadata": {},
     "output_type": "execute_result"
    }
   ],
   "source": [
    "gdp_df = pd.DataFrame(gdp_dic.values(), index=gdp_dic.keys(), columns=['Year', 'GDP'])\n",
    "gdp_df = gdp_df.reset_index().rename(columns={'index': 'Country'})\n",
    "gdp_df.tail(3)"
   ]
  },
  {
   "cell_type": "markdown",
   "id": "d196d5a4",
   "metadata": {},
   "source": [
    "### Vehicle Per Capita Data\n",
    "- Source: Wikipedia (Webscrape)"
   ]
  },
  {
   "cell_type": "code",
   "execution_count": 24,
   "id": "841028d0",
   "metadata": {},
   "outputs": [
    {
     "data": {
      "text/plain": [
       "200"
      ]
     },
     "execution_count": 24,
     "metadata": {},
     "output_type": "execute_result"
    }
   ],
   "source": [
    "from bs4 import BeautifulSoup\n",
    "import requests\n",
    "response = requests.get('https://en.wikipedia.org/wiki/List_of_countries_by_vehicles_per_capita')\n",
    "response.status_code"
   ]
  },
  {
   "cell_type": "code",
   "execution_count": 25,
   "id": "0a34a9ec",
   "metadata": {},
   "outputs": [],
   "source": [
    "#Parse Wiki Data\n",
    "soup = BeautifulSoup(response.content, 'html.parser')\n",
    "table = soup.find_all('table')[0]\n",
    "headers = [val.text.strip() for val in table.find_all('th')] #Headers"
   ]
  },
  {
   "cell_type": "code",
   "execution_count": 26,
   "id": "3ab1af2c",
   "metadata": {},
   "outputs": [],
   "source": [
    "table_rows = table.find_all('tbody')[0].find_all('tr')  #Aggregate Rows\n",
    "row_data = []\n",
    "for val in table_rows[1:]:\n",
    "    for index in range(len(val.find_all('td'))):\n",
    "        row_data.append(val.find_all('td')[index].text.strip())"
   ]
  },
  {
   "cell_type": "code",
   "execution_count": 27,
   "id": "7ad4996d",
   "metadata": {},
   "outputs": [
    {
     "data": {
      "text/html": [
       "<div>\n",
       "<style scoped>\n",
       "    .dataframe tbody tr th:only-of-type {\n",
       "        vertical-align: middle;\n",
       "    }\n",
       "\n",
       "    .dataframe tbody tr th {\n",
       "        vertical-align: top;\n",
       "    }\n",
       "\n",
       "    .dataframe thead th {\n",
       "        text-align: right;\n",
       "    }\n",
       "</style>\n",
       "<table border=\"1\" class=\"dataframe\">\n",
       "  <thead>\n",
       "    <tr style=\"text-align: right;\">\n",
       "      <th></th>\n",
       "      <th>Country or region</th>\n",
       "      <th>Motor vehiclesper 1,000 people</th>\n",
       "      <th>Total</th>\n",
       "      <th>Year</th>\n",
       "    </tr>\n",
       "  </thead>\n",
       "  <tbody>\n",
       "    <tr>\n",
       "      <th>0</th>\n",
       "      <td>Gibraltar</td>\n",
       "      <td>1,444</td>\n",
       "      <td>48,641</td>\n",
       "      <td>2022[1]</td>\n",
       "    </tr>\n",
       "    <tr>\n",
       "      <th>1</th>\n",
       "      <td>Guernsey</td>\n",
       "      <td>1,365</td>\n",
       "      <td>86,000</td>\n",
       "      <td>2014[2]</td>\n",
       "    </tr>\n",
       "    <tr>\n",
       "      <th>2</th>\n",
       "      <td>San Marino</td>\n",
       "      <td>1,300</td>\n",
       "      <td>44,200</td>\n",
       "      <td>2022[3]</td>\n",
       "    </tr>\n",
       "  </tbody>\n",
       "</table>\n",
       "</div>"
      ],
      "text/plain": [
       "  Country or region Motor vehiclesper 1,000 people   Total     Year\n",
       "0         Gibraltar                          1,444  48,641  2022[1]\n",
       "1          Guernsey                          1,365  86,000  2014[2]\n",
       "2        San Marino                          1,300  44,200  2022[3]"
      ]
     },
     "execution_count": 27,
     "metadata": {},
     "output_type": "execute_result"
    }
   ],
   "source": [
    "#Convert to DataFrame\n",
    "import pandas as pd\n",
    "auto_df = pd.DataFrame()\n",
    "for col_num in range(len(headers)):\n",
    "    auto_df[headers[col_num]] = row_data[col_num::4]\n",
    "#sorted(auto_df['Country or region'].unique())\n",
    "auto_df.head(3) "
   ]
  },
  {
   "cell_type": "markdown",
   "id": "4a350dc4",
   "metadata": {},
   "source": [
    "### Emission Data by World Nation\n",
    "- Source: Kaggle (CSV Download)"
   ]
  },
  {
   "cell_type": "code",
   "execution_count": 28,
   "id": "aacf892d",
   "metadata": {},
   "outputs": [
    {
     "data": {
      "text/html": [
       "<div>\n",
       "<style scoped>\n",
       "    .dataframe tbody tr th:only-of-type {\n",
       "        vertical-align: middle;\n",
       "    }\n",
       "\n",
       "    .dataframe tbody tr th {\n",
       "        vertical-align: top;\n",
       "    }\n",
       "\n",
       "    .dataframe thead th {\n",
       "        text-align: right;\n",
       "    }\n",
       "</style>\n",
       "<table border=\"1\" class=\"dataframe\">\n",
       "  <thead>\n",
       "    <tr style=\"text-align: right;\">\n",
       "      <th></th>\n",
       "      <th>Country Name</th>\n",
       "      <th>country_code</th>\n",
       "      <th>Region</th>\n",
       "      <th>Indicator Name</th>\n",
       "      <th>1990</th>\n",
       "      <th>1991</th>\n",
       "      <th>1992</th>\n",
       "      <th>1993</th>\n",
       "      <th>1994</th>\n",
       "      <th>1995</th>\n",
       "      <th>...</th>\n",
       "      <th>2011</th>\n",
       "      <th>2012</th>\n",
       "      <th>2013</th>\n",
       "      <th>2014</th>\n",
       "      <th>2015</th>\n",
       "      <th>2016</th>\n",
       "      <th>2017</th>\n",
       "      <th>2018</th>\n",
       "      <th>2019</th>\n",
       "      <th>2019.1</th>\n",
       "    </tr>\n",
       "  </thead>\n",
       "  <tbody>\n",
       "    <tr>\n",
       "      <th>0</th>\n",
       "      <td>Aruba</td>\n",
       "      <td>ABW</td>\n",
       "      <td>Latin America &amp; Caribbean</td>\n",
       "      <td>CO2 emissions (metric tons per capita)</td>\n",
       "      <td>NaN</td>\n",
       "      <td>NaN</td>\n",
       "      <td>NaN</td>\n",
       "      <td>NaN</td>\n",
       "      <td>NaN</td>\n",
       "      <td>NaN</td>\n",
       "      <td>...</td>\n",
       "      <td>NaN</td>\n",
       "      <td>NaN</td>\n",
       "      <td>NaN</td>\n",
       "      <td>NaN</td>\n",
       "      <td>NaN</td>\n",
       "      <td>NaN</td>\n",
       "      <td>NaN</td>\n",
       "      <td>NaN</td>\n",
       "      <td>NaN</td>\n",
       "      <td>NaN</td>\n",
       "    </tr>\n",
       "    <tr>\n",
       "      <th>1</th>\n",
       "      <td>Afghanistan</td>\n",
       "      <td>AFG</td>\n",
       "      <td>South Asia</td>\n",
       "      <td>CO2 emissions (metric tons per capita)</td>\n",
       "      <td>0.191745</td>\n",
       "      <td>0.167682</td>\n",
       "      <td>0.095958</td>\n",
       "      <td>0.084721</td>\n",
       "      <td>0.075546</td>\n",
       "      <td>0.068468</td>\n",
       "      <td>...</td>\n",
       "      <td>0.296506</td>\n",
       "      <td>0.259295</td>\n",
       "      <td>0.185624</td>\n",
       "      <td>0.146236</td>\n",
       "      <td>0.172897</td>\n",
       "      <td>0.149789</td>\n",
       "      <td>0.131695</td>\n",
       "      <td>0.163295</td>\n",
       "      <td>0.159824</td>\n",
       "      <td>0.159824</td>\n",
       "    </tr>\n",
       "  </tbody>\n",
       "</table>\n",
       "<p>2 rows × 35 columns</p>\n",
       "</div>"
      ],
      "text/plain": [
       "  Country Name country_code                     Region  \\\n",
       "0        Aruba          ABW  Latin America & Caribbean   \n",
       "1  Afghanistan          AFG                 South Asia   \n",
       "\n",
       "                           Indicator Name      1990      1991      1992  \\\n",
       "0  CO2 emissions (metric tons per capita)       NaN       NaN       NaN   \n",
       "1  CO2 emissions (metric tons per capita)  0.191745  0.167682  0.095958   \n",
       "\n",
       "       1993      1994      1995  ...      2011      2012      2013      2014  \\\n",
       "0       NaN       NaN       NaN  ...       NaN       NaN       NaN       NaN   \n",
       "1  0.084721  0.075546  0.068468  ...  0.296506  0.259295  0.185624  0.146236   \n",
       "\n",
       "       2015      2016      2017      2018      2019    2019.1  \n",
       "0       NaN       NaN       NaN       NaN       NaN       NaN  \n",
       "1  0.172897  0.149789  0.131695  0.163295  0.159824  0.159824  \n",
       "\n",
       "[2 rows x 35 columns]"
      ]
     },
     "execution_count": 28,
     "metadata": {},
     "output_type": "execute_result"
    }
   ],
   "source": [
    "emission_df = pd.read_csv('CO2_emission.csv')\n",
    "emission_df.head(2) #Relational Column: 'Country Name'"
   ]
  },
  {
   "cell_type": "markdown",
   "id": "6346af25",
   "metadata": {},
   "source": [
    "\n"
   ]
  },
  {
   "cell_type": "markdown",
   "id": "5a043de3",
   "metadata": {},
   "source": [
    "\n",
    "\n",
    "\n",
    "\n"
   ]
  },
  {
   "cell_type": "markdown",
   "id": "b629ee08",
   "metadata": {},
   "source": [
    "## II. Data Cleansing\n",
    "- After inspecting data its observed that the gdp and co2 data are retrieved from sources that style the country name similar, the aim is to manipulate the auto data (smallest dataset) to match the maximized number of country names in co2 and gdp data (optimizing the # of values in the final merged dataframe)"
   ]
  },
  {
   "cell_type": "code",
   "execution_count": 32,
   "id": "339cfac7",
   "metadata": {},
   "outputs": [
    {
     "name": "stdout",
     "output_type": "stream",
     "text": [
      "['Bahamas', 'Brunei', 'Cape Verde', 'Federated States of Micronesia', 'Gambia', 'Guernsey', 'Hong Kong', 'Ivory Coast', 'Jersey', 'Macau', 'North Korea', 'Palestine', 'Republic of the Congo', 'Saint Kitts and Nevis', 'Saint Lucia', 'Saint Vincent and the Grenadines', 'Scotland', 'Slovakia', 'South America', 'São Tomé and Príncipe', 'Taiwan', 'Wales']\n"
     ]
    }
   ],
   "source": [
    "set_gdp, set_auto, set_co2 = set(gdp_df['Country']), set(auto_df['Country or region']),\\\n",
    "                    set(emission_df['Country Name'])\n",
    "\n",
    "print(sorted(set_auto.difference(set_gdp, set_co2)))#Elements in auto dataset not in others"
   ]
  },
  {
   "cell_type": "code",
   "execution_count": 33,
   "id": "5776929b",
   "metadata": {},
   "outputs": [
    {
     "name": "stdout",
     "output_type": "stream",
     "text": [
      "{'New Caledonia', 'Sub-Saharan Africa', 'OECD members', 'West Bank and Gaza', 'Congo, Dem. Rep.', 'Latin America & the Caribbean (IDA & IBRD countries)', 'Equatorial Guinea', 'East Asia & Pacific (IDA & IBRD countries)', 'Sub-Saharan Africa (IDA & IBRD countries)', 'Cabo Verde', 'South Asia (IDA & IBRD)', 'Aruba', 'IDA total', 'Not classified', 'St. Vincent and the Grenadines', 'Lao PDR', 'Arab World', 'South Asia', 'Brunei Darussalam', 'IDA & IBRD total', 'Euro area', 'Pre-demographic dividend', 'High income', 'Least developed countries: UN classification', 'Libya', 'Low & middle income', 'Channel Islands', 'Faroe Islands', 'American Samoa', 'Gambia, The', 'Upper middle income', 'Heavily indebted poor countries (HIPC)', 'Africa Western and Central', 'St. Kitts and Nevis', 'Lower middle income', 'Middle income', 'Europe & Central Asia (excluding high income)', 'Virgin Islands (U.S.)', 'East Asia & Pacific', 'Middle East & North Africa (IDA & IBRD countries)', 'St. Martin (French part)', 'Curacao', 'Low income', 'Eswatini', 'Europe & Central Asia (IDA & IBRD countries)', 'South Sudan', 'Small states', 'Pacific island small states', 'Europe & Central Asia', 'Cayman Islands', 'Mauritius', 'Sao Tome and Principe', 'Hong Kong SAR, China', 'Macao SAR, China', 'Early-demographic dividend', 'Africa Eastern and Southern', 'Slovak Republic', \"Korea, Dem. People's Rep.\", 'Timor-Leste', 'IBRD only', 'IDA blend', 'Northern Mariana Islands', 'Caribbean small states', 'Middle East & North Africa (excluding high income)', 'North America', 'Latin America & Caribbean', 'World', 'Other small states', 'French Polynesia', 'Sub-Saharan Africa (excluding high income)', 'St. Lucia', 'Palau', 'Sint Maarten (Dutch part)', 'Post-demographic dividend', \"Cote d'Ivoire\", 'Central Europe and the Baltics', 'Turks and Caicos Islands', 'Bermuda', 'Paraguay', 'Fragile and conflict affected situations', 'Late-demographic dividend', 'European Union', 'East Asia & Pacific (excluding high income)', 'Czechia', 'Middle East & North Africa', 'Isle of Man', 'Tuvalu', 'British Virgin Islands', 'Bahamas, The', 'Latin America & Caribbean (excluding high income)', 'Micronesia, Fed. Sts.', 'Marshall Islands', 'IDA only'}\n"
     ]
    }
   ],
   "source": [
    "print((set_co2.union(set_gdp))-set_auto) #Elements in gdp+c02 dataset not in auto dataset\n",
    "#GDP and C02 dataset is singnificantly larger than auto dataset\n",
    "# and contain regions and terrorities "
   ]
  },
  {
   "cell_type": "code",
   "execution_count": 31,
   "id": "92c4ab0e",
   "metadata": {},
   "outputs": [],
   "source": [
    "#Cleansing of primary key column to ease the multiple table relational join process\n",
    "auto_df['Country or region'] = auto_df['Country or region'].map(lambda col: col.replace('Iran', \n",
    "                                'Iran, Islamic Rep.').replace('Venezuela',\n",
    "                                'Venezuela, RB').replace('Yemen', 'Yemen, Rep.').replace('Russia',\n",
    "                                'Russian Federation').replace('Egypt',\n",
    "                                'Egypt, Arab Rep.').replace('Turkey', 'Turkiye').replace('Syria',\n",
    "                                'Syrian Arab Republic').replace('South Korea', \n",
    "                                'Korea, Rep.').replace('Democratic Republic of the Congo',\n",
    "                                'Congo, Rep.').replace('Kyrgyzstan','Kyrgyz Republic'))\n",
    "\n",
    "#Execute above 2 cells again to visualize commited changes done here"
   ]
  },
  {
   "cell_type": "markdown",
   "id": "2b5131cb",
   "metadata": {},
   "source": [
    "## III. Relational Join\n",
    "- 1st Join: `gdp` and `emissions` data on primary key `Country` and `Country Name` respectfully\n",
    "- 2nd Join: `Merged Dataset` above^ with `automobile` dataset: primary key: `GDP(Country) = Automobile(Country or Region)`\n",
    "- Data frames developed to perform EDA and analytic tasks for for 2019 data and linear regression modeling"
   ]
  },
  {
   "cell_type": "code",
   "execution_count": 34,
   "id": "434e4054",
   "metadata": {},
   "outputs": [
    {
     "data": {
      "text/html": [
       "<div>\n",
       "<style scoped>\n",
       "    .dataframe tbody tr th:only-of-type {\n",
       "        vertical-align: middle;\n",
       "    }\n",
       "\n",
       "    .dataframe tbody tr th {\n",
       "        vertical-align: top;\n",
       "    }\n",
       "\n",
       "    .dataframe thead th {\n",
       "        text-align: right;\n",
       "    }\n",
       "</style>\n",
       "<table border=\"1\" class=\"dataframe\">\n",
       "  <thead>\n",
       "    <tr style=\"text-align: right;\">\n",
       "      <th></th>\n",
       "      <th>Country</th>\n",
       "      <th>Year_x</th>\n",
       "      <th>GDP</th>\n",
       "      <th>Country Name</th>\n",
       "      <th>country_code</th>\n",
       "      <th>Region</th>\n",
       "      <th>Indicator Name</th>\n",
       "      <th>1990_emissions</th>\n",
       "      <th>1991_emissions</th>\n",
       "      <th>1992_emissions</th>\n",
       "      <th>...</th>\n",
       "      <th>2015_emissions</th>\n",
       "      <th>2016_emissions</th>\n",
       "      <th>2017_emissions</th>\n",
       "      <th>2018_emissions</th>\n",
       "      <th>2019_emissions</th>\n",
       "      <th>2019.1</th>\n",
       "      <th>Country or region</th>\n",
       "      <th>Motor vehiclesper 1,000 people</th>\n",
       "      <th>Total</th>\n",
       "      <th>Year_y</th>\n",
       "    </tr>\n",
       "  </thead>\n",
       "  <tbody>\n",
       "    <tr>\n",
       "      <th>0</th>\n",
       "      <td>Afghanistan</td>\n",
       "      <td>2019</td>\n",
       "      <td>500.522664</td>\n",
       "      <td>Afghanistan</td>\n",
       "      <td>AFG</td>\n",
       "      <td>South Asia</td>\n",
       "      <td>CO2 emissions (metric tons per capita)</td>\n",
       "      <td>0.191745</td>\n",
       "      <td>0.167682</td>\n",
       "      <td>0.095958</td>\n",
       "      <td>...</td>\n",
       "      <td>0.172897</td>\n",
       "      <td>0.149789</td>\n",
       "      <td>0.131695</td>\n",
       "      <td>0.163295</td>\n",
       "      <td>0.159824</td>\n",
       "      <td>0.159824</td>\n",
       "      <td>Afghanistan</td>\n",
       "      <td>61</td>\n",
       "      <td>2,306,500</td>\n",
       "      <td>2019[140][141]</td>\n",
       "    </tr>\n",
       "    <tr>\n",
       "      <th>1</th>\n",
       "      <td>Albania</td>\n",
       "      <td>2019</td>\n",
       "      <td>5396.215864</td>\n",
       "      <td>Albania</td>\n",
       "      <td>ALB</td>\n",
       "      <td>Europe &amp; Central Asia</td>\n",
       "      <td>CO2 emissions (metric tons per capita)</td>\n",
       "      <td>1.819542</td>\n",
       "      <td>1.242810</td>\n",
       "      <td>0.683700</td>\n",
       "      <td>...</td>\n",
       "      <td>1.603775</td>\n",
       "      <td>1.557664</td>\n",
       "      <td>1.788786</td>\n",
       "      <td>1.782739</td>\n",
       "      <td>1.692248</td>\n",
       "      <td>1.692248</td>\n",
       "      <td>Albania</td>\n",
       "      <td>238</td>\n",
       "      <td>740,000</td>\n",
       "      <td>2022[67]</td>\n",
       "    </tr>\n",
       "  </tbody>\n",
       "</table>\n",
       "<p>2 rows × 42 columns</p>\n",
       "</div>"
      ],
      "text/plain": [
       "       Country Year_x          GDP Country Name country_code  \\\n",
       "0  Afghanistan   2019   500.522664  Afghanistan          AFG   \n",
       "1      Albania   2019  5396.215864      Albania          ALB   \n",
       "\n",
       "                  Region                          Indicator Name  \\\n",
       "0             South Asia  CO2 emissions (metric tons per capita)   \n",
       "1  Europe & Central Asia  CO2 emissions (metric tons per capita)   \n",
       "\n",
       "   1990_emissions  1991_emissions  1992_emissions  ...  2015_emissions  \\\n",
       "0        0.191745        0.167682        0.095958  ...        0.172897   \n",
       "1        1.819542        1.242810        0.683700  ...        1.603775   \n",
       "\n",
       "   2016_emissions  2017_emissions  2018_emissions  2019_emissions    2019.1  \\\n",
       "0        0.149789        0.131695        0.163295        0.159824  0.159824   \n",
       "1        1.557664        1.788786        1.782739        1.692248  1.692248   \n",
       "\n",
       "   Country or region  Motor vehiclesper 1,000 people      Total  \\\n",
       "0        Afghanistan                              61  2,306,500   \n",
       "1            Albania                             238    740,000   \n",
       "\n",
       "           Year_y  \n",
       "0  2019[140][141]  \n",
       "1        2022[67]  \n",
       "\n",
       "[2 rows x 42 columns]"
      ]
     },
     "execution_count": 34,
     "metadata": {},
     "output_type": "execute_result"
    }
   ],
   "source": [
    "#Initial Merge\n",
    "merged_df = gdp_df.merge(emission_df, how='inner', left_on='Country', right_on='Country Name')\n",
    "##Second Merge - main data frame \n",
    "df = merged_df.merge(auto_df, how='inner', left_on='Country', right_on='Country or region')\n",
    "df = df.rename(columns={str(x): f\"{str(x)}_emissions\" for x in range(1990, 2020)}) #Identify gdp columns\n",
    "df.head(2)"
   ]
  },
  {
   "cell_type": "markdown",
   "id": "cf442a02",
   "metadata": {},
   "source": [
    "#### 2019 Dataframe - to perform Analytic tasks and statistical tests"
   ]
  },
  {
   "cell_type": "code",
   "execution_count": 35,
   "id": "d5784078",
   "metadata": {},
   "outputs": [
    {
     "data": {
      "text/html": [
       "<div>\n",
       "<style scoped>\n",
       "    .dataframe tbody tr th:only-of-type {\n",
       "        vertical-align: middle;\n",
       "    }\n",
       "\n",
       "    .dataframe tbody tr th {\n",
       "        vertical-align: top;\n",
       "    }\n",
       "\n",
       "    .dataframe thead th {\n",
       "        text-align: right;\n",
       "    }\n",
       "</style>\n",
       "<table border=\"1\" class=\"dataframe\">\n",
       "  <thead>\n",
       "    <tr style=\"text-align: right;\">\n",
       "      <th></th>\n",
       "      <th>Year_x</th>\n",
       "      <th>Country</th>\n",
       "      <th>GDP</th>\n",
       "      <th>Region</th>\n",
       "      <th>2019_emissions</th>\n",
       "      <th>Motor vehiclesper 1,000 people</th>\n",
       "    </tr>\n",
       "  </thead>\n",
       "  <tbody>\n",
       "    <tr>\n",
       "      <th>0</th>\n",
       "      <td>2019</td>\n",
       "      <td>Afghanistan</td>\n",
       "      <td>500.522664</td>\n",
       "      <td>South Asia</td>\n",
       "      <td>0.159824</td>\n",
       "      <td>61</td>\n",
       "    </tr>\n",
       "    <tr>\n",
       "      <th>1</th>\n",
       "      <td>2019</td>\n",
       "      <td>Albania</td>\n",
       "      <td>5396.215864</td>\n",
       "      <td>Europe &amp; Central Asia</td>\n",
       "      <td>1.692248</td>\n",
       "      <td>238</td>\n",
       "    </tr>\n",
       "  </tbody>\n",
       "</table>\n",
       "</div>"
      ],
      "text/plain": [
       "  Year_x      Country          GDP                 Region  2019_emissions  \\\n",
       "0   2019  Afghanistan   500.522664             South Asia        0.159824   \n",
       "1   2019      Albania  5396.215864  Europe & Central Asia        1.692248   \n",
       "\n",
       "  Motor vehiclesper 1,000 people  \n",
       "0                             61  \n",
       "1                            238  "
      ]
     },
     "execution_count": 35,
     "metadata": {},
     "output_type": "execute_result"
    }
   ],
   "source": [
    "#Filter desired columns \n",
    "df_2019 = df[['Year_x', 'Country', 'GDP', 'Region', '2019_emissions', 'Motor vehiclesper 1,000 people']]\n",
    "df_2019.head(2) #A cleaner method to view and handle required data for analysis"
   ]
  },
  {
   "cell_type": "markdown",
   "id": "c0ffdcd1",
   "metadata": {},
   "source": [
    "#### Modeling Dataframe - To perform `Linear Regression` on world & country-by-country emissions"
   ]
  },
  {
   "cell_type": "code",
   "execution_count": 36,
   "id": "198900ba",
   "metadata": {},
   "outputs": [
    {
     "data": {
      "text/html": [
       "<div>\n",
       "<style scoped>\n",
       "    .dataframe tbody tr th:only-of-type {\n",
       "        vertical-align: middle;\n",
       "    }\n",
       "\n",
       "    .dataframe tbody tr th {\n",
       "        vertical-align: top;\n",
       "    }\n",
       "\n",
       "    .dataframe thead th {\n",
       "        text-align: right;\n",
       "    }\n",
       "</style>\n",
       "<table border=\"1\" class=\"dataframe\">\n",
       "  <thead>\n",
       "    <tr style=\"text-align: right;\">\n",
       "      <th></th>\n",
       "      <th>Emissions_Capita</th>\n",
       "      <th>Year</th>\n",
       "      <th>Country</th>\n",
       "    </tr>\n",
       "  </thead>\n",
       "  <tbody>\n",
       "    <tr>\n",
       "      <th>0</th>\n",
       "      <td>0.191745</td>\n",
       "      <td>1990</td>\n",
       "      <td>Afghanistan</td>\n",
       "    </tr>\n",
       "    <tr>\n",
       "      <th>1</th>\n",
       "      <td>0.167682</td>\n",
       "      <td>1991</td>\n",
       "      <td>Afghanistan</td>\n",
       "    </tr>\n",
       "  </tbody>\n",
       "</table>\n",
       "</div>"
      ],
      "text/plain": [
       "   Emissions_Capita  Year      Country\n",
       "0          0.191745  1990  Afghanistan\n",
       "1          0.167682  1991  Afghanistan"
      ]
     },
     "execution_count": 36,
     "metadata": {},
     "output_type": "execute_result"
    }
   ],
   "source": [
    "#Data transposed through nested looping to display country-country emissions data for years (1990- 2019)\n",
    "df_modeling = df[[f'{str(x)}_emissions' for x in range(1990,2020)]].copy()\n",
    "df_modeling['Country'] = df_2019['Country']\n",
    "df_modeling #Create Dataframe to transpose data for LR Modeling\n",
    "\n",
    "emissions_ls = []\n",
    "for row_index in range(len(df_modeling)):\n",
    "    for col_index in range(len(df_modeling.columns)-1):\n",
    "        emissions_ls.append([df_modeling.iloc[row_index, col_index], df_modeling.columns[col_index].split('_')[0], \n",
    "               df_modeling.Country.unique()[row_index]])\n",
    "        \n",
    "emissions_df = pd.DataFrame(emissions_ls, columns = ['Emissions_Capita', 'Year', 'Country'])\n",
    "emissions_df.head(2)"
   ]
  },
  {
   "cell_type": "markdown",
   "id": "38acfbd3",
   "metadata": {},
   "source": [
    "## IV. Descriptive Analysis\n",
    "- Correlation Matrix to measure Pearson correlation of Per capita Emissions & per capita GDP + Automobiles\n",
    "- View the top and bottom 'n' countries with respect to emissions per capita via class: `world_emissions` along with visualizations\n",
    "- Aggregate regional statistics for capita emissions (by continent)"
   ]
  }
 ],
 "metadata": {
  "kernelspec": {
   "display_name": "Python 3 (ipykernel)",
   "language": "python",
   "name": "python3"
  },
  "language_info": {
   "codemirror_mode": {
    "name": "ipython",
    "version": 3
   },
   "file_extension": ".py",
   "mimetype": "text/x-python",
   "name": "python",
   "nbconvert_exporter": "python",
   "pygments_lexer": "ipython3",
   "version": "3.9.6"
  }
 },
 "nbformat": 4,
 "nbformat_minor": 5
}
