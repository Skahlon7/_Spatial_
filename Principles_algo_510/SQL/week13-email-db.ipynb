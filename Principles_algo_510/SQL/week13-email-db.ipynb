{
 "cells": [
  {
   "cell_type": "markdown",
   "id": "0e97dbac",
   "metadata": {},
   "source": [
    "# Databases: SQL"
   ]
  },
  {
   "cell_type": "markdown",
   "id": "d246b538",
   "metadata": {},
   "source": [
    "### Example: Counting emails in file _mbox-short.txt_"
   ]
  },
  {
   "cell_type": "raw",
   "id": "8a88e4bf",
   "metadata": {},
   "source": [
    "...\n",
    "From: stephen.marquard@uct.ac.za\n",
    "...\n",
    "From: louis@media.berkeley.edu\n",
    "...\n",
    "From: zqian@umich.edu\n",
    "..."
   ]
  },
  {
   "cell_type": "code",
   "execution_count": 1,
   "id": "b92a80b7",
   "metadata": {},
   "outputs": [
    {
     "name": "stdout",
     "output_type": "stream",
     "text": [
      "cwen@iupui.edu                      5\n",
      "zqian@umich.edu                     4\n",
      "david.horwitz@uct.ac.za             4\n",
      "louis@media.berkeley.edu            3\n",
      "gsilver@umich.edu                   3\n",
      "stephen.marquard@uct.ac.za          2\n",
      "rjlowe@iupui.edu                    2\n",
      "wagnermr@iupui.edu                  1\n",
      "antranig@caret.cam.ac.uk            1\n",
      "gopal.ramasammycook@gmail.com       1\n"
     ]
    }
   ],
   "source": [
    "import sqlite3\n",
    "\n",
    "# create a connection to a database (file)\n",
    "# If database file does not exist, sqlite3 creates it for you\n",
    "conn = sqlite3.connect('emaildb.sqlite')  # emaildb.sqlite is a filename\n",
    "\n",
    "# A database cursor is a mechanism that enables traversal over the records in a database. \n",
    "# It allows retrieval, addition and removal of database records. \n",
    "# It's an iterator.\n",
    "cur = conn.cursor()\n",
    "\n",
    "cur.execute('DROP TABLE IF EXISTS Counts')\n",
    "cur.execute('CREATE TABLE Counts (email TEXT, count INTEGER)')\n",
    "\n",
    "with open('mbox-short.txt') as f:\n",
    "    for line in f:\n",
    "        if not line.startswith('From: '): continue\n",
    "        email = line.split()[1]\n",
    "        cur.execute(f\"SELECT count FROM Counts WHERE email = '{email}'\")\n",
    "        row = cur.fetchone()\n",
    "        if row is None:\n",
    "            cur.execute(f\"INSERT INTO Counts (email, count) VALUES ('{email}', 1)\")\n",
    "        else:\n",
    "            cur.execute(f\"UPDATE Counts SET count = count + 1 WHERE email = '{email}'\")\n",
    "        conn.commit()\n",
    "\n",
    "query = 'SELECT email, count FROM Counts ORDER BY count DESC LIMIT 10'\n",
    "\n",
    "# cur.execute(query) returns an iterator over the query results\n",
    "for row in cur.execute(query):\n",
    "    print(f'{row[0]:32s} {row[1]:4d}')\n",
    "\n",
    "cur.close() # we are done sending commands to the DB for now\n",
    "conn.close() # we are completely done with the DB in this program"
   ]
  },
  {
   "cell_type": "markdown",
   "id": "a6008019",
   "metadata": {},
   "source": [
    "### Nested quotes 'SQL string' inside \"Python string\":"
   ]
  },
  {
   "cell_type": "raw",
   "id": "d00668f9",
   "metadata": {},
   "source": [
    "email = \"stephen.marquard@uct.ac.za\"\n",
    "f\"SELECT count FROM Counts WHERE email = '{email}'\"      # evaluates to:\n",
    "SELECT count FROM Counts WHERE email = 'stephen.marquard@uct.ac.za'"
   ]
  },
  {
   "cell_type": "code",
   "execution_count": null,
   "id": "abbce73b",
   "metadata": {},
   "outputs": [],
   "source": []
  }
 ],
 "metadata": {
  "kernelspec": {
   "display_name": "Python 3 (ipykernel)",
   "language": "python",
   "name": "python3"
  },
  "language_info": {
   "codemirror_mode": {
    "name": "ipython",
    "version": 3
   },
   "file_extension": ".py",
   "mimetype": "text/x-python",
   "name": "python",
   "nbconvert_exporter": "python",
   "pygments_lexer": "ipython3",
   "version": "3.9.6"
  }
 },
 "nbformat": 4,
 "nbformat_minor": 5
}
