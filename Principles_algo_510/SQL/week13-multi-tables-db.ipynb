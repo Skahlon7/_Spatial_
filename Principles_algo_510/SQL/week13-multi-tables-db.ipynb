{
 "cells": [
  {
   "cell_type": "markdown",
   "id": "f88aa091",
   "metadata": {},
   "source": [
    "# Multi-table SQL\n",
    "## Tracks DB"
   ]
  },
  {
   "cell_type": "code",
   "execution_count": 1,
   "id": "39bf4f66",
   "metadata": {},
   "outputs": [
    {
     "data": {
      "text/plain": [
       "<sqlite3.Cursor at 0x7fadae19f880>"
      ]
     },
     "execution_count": 1,
     "metadata": {},
     "output_type": "execute_result"
    }
   ],
   "source": [
    "import sqlite3\n",
    "\n",
    "conn = sqlite3.connect('tracks.sqlite')\n",
    "cur = conn.cursor()\n",
    "\n",
    "cur.execute('DROP TABLE IF EXISTS Artist')\n",
    "cur.execute('DROP TABLE IF EXISTS Album')\n",
    "cur.execute('DROP TABLE IF EXISTS Genre')\n",
    "cur.execute('DROP TABLE IF EXISTS Track')\n",
    "\n",
    "cur.execute('''CREATE TABLE Artist (\n",
    "    id INTEGER PRIMARY KEY AUTOINCREMENT NOT NULL UNIQUE, \n",
    "    name TEXT)''')\n",
    "\n",
    "cur.execute('''CREATE TABLE Album (\n",
    "    id INTEGER PRIMARY KEY AUTOINCREMENT NOT NULL UNIQUE,\n",
    "    title TEXT,\n",
    "    artist_id INTEGER,\n",
    "    FOREIGN KEY(artist_id) REFERENCES Artist(id))''')\n",
    "\n",
    "cur.execute('''CREATE TABLE Genre (\n",
    "    id INTEGER PRIMARY KEY AUTOINCREMENT NOT NULL UNIQUE,\n",
    "    name TEXT)''')\n",
    "\n",
    "cur.execute('''CREATE TABLE Track (\n",
    "    id INTEGER PRIMARY KEY AUTOINCREMENT NOT NULL UNIQUE,\n",
    "    title TEXT,\n",
    "    rating INTEGER,\n",
    "    len INTEGER,\n",
    "    count INTEGER,\n",
    "    album_id INTEGER,\n",
    "    genre_id INTEGER,\n",
    "    FOREIGN KEY(album_id) REFERENCES Album(id),\n",
    "    FOREIGN KEY(genre_id) REFERENCES Genre(id))''')"
   ]
  },
  {
   "cell_type": "code",
   "execution_count": 2,
   "id": "45a0dc80",
   "metadata": {},
   "outputs": [],
   "source": [
    "cur.execute('''INSERT INTO Artist (name) VALUES ('Led Zepplin')''')\n",
    "cur.execute('''INSERT INTO Artist (name) VALUES ('AC/DC')''')\n",
    "\n",
    "cur.execute('''INSERT INTO Genre (name) VALUES ('Rock')''')\n",
    "cur.execute('''INSERT INTO Genre (name) VALUES ('Metal')''')\n",
    "\n",
    "cur.execute('''INSERT INTO Album (title, artist_id) VALUES ('Who Made Who', 2)''')\n",
    "cur.execute('''INSERT INTO Album (title, artist_id) VALUES ('IV', 1)''')\n",
    "\n",
    "cur.execute('''INSERT INTO Track (title, rating, len, count, album_id, genre_id)\n",
    "    VALUES ('Black Dog', 5, 297, 0, 2, 1)''')\n",
    "cur.execute('''INSERT INTO Track (title, rating, len, count, album_id, genre_id)\n",
    "    VALUES ('Stairway', 5, 482, 0, 2, 1)''')\n",
    "cur.execute('''INSERT INTO Track (title, rating, len, count, album_id, genre_id)\n",
    "    VALUES ('About to Rock', 5, 313, 0, 1, 2)''')\n",
    "cur.execute('''INSERT INTO Track (title, rating, len, count, album_id, genre_id)\n",
    "    VALUES ('Who Made Who', 5, 207, 0, 1, 2)''')\n",
    "\n",
    "conn.commit()"
   ]
  },
  {
   "cell_type": "code",
   "execution_count": 4,
   "id": "8de07755",
   "metadata": {},
   "outputs": [
    {
     "data": {
      "text/plain": [
       "<sqlite3.Cursor at 0x7fadae19f880>"
      ]
     },
     "execution_count": 4,
     "metadata": {},
     "output_type": "execute_result"
    }
   ],
   "source": [
    "result1 = cur.execute(\n",
    "'''SELECT Album.title, Artist.name \n",
    "    FROM Album JOIN Artist\n",
    "    ON Album.artist_id = Artist.id''')\n",
    "result1"
   ]
  },
  {
   "cell_type": "code",
   "execution_count": 5,
   "id": "a76fd349",
   "metadata": {},
   "outputs": [
    {
     "data": {
      "text/plain": [
       "[('Who Made Who', 'AC/DC'), ('IV', 'Led Zepplin')]"
      ]
     },
     "execution_count": 5,
     "metadata": {},
     "output_type": "execute_result"
    }
   ],
   "source": [
    "# cur.execute returns an iterator, but we can get all the rows at once by making it a list\n",
    "# better to use a for loop!\n",
    "list(result1)"
   ]
  },
  {
   "cell_type": "code",
   "execution_count": 6,
   "id": "4187560b",
   "metadata": {},
   "outputs": [],
   "source": [
    "result2 = cur.execute(\n",
    "'''SELECT Track.title, Artist.name, Album.title, Genre.name\n",
    "    FROM Track JOIN Genre JOIN Album JOIN Artist \n",
    "    ON Track.genre_id = Genre.id AND Track.album_id = Album.id AND \n",
    "       Album.artist_id = Artist.id''')"
   ]
  },
  {
   "cell_type": "code",
   "execution_count": 7,
   "id": "f7311f5b",
   "metadata": {},
   "outputs": [
    {
     "data": {
      "text/plain": [
       "[('Black Dog', 'Led Zepplin', 'IV', 'Rock'),\n",
       " ('Stairway', 'Led Zepplin', 'IV', 'Rock'),\n",
       " ('About to Rock', 'AC/DC', 'Who Made Who', 'Metal'),\n",
       " ('Who Made Who', 'AC/DC', 'Who Made Who', 'Metal')]"
      ]
     },
     "execution_count": 7,
     "metadata": {},
     "output_type": "execute_result"
    }
   ],
   "source": [
    "list(result2)"
   ]
  },
  {
   "cell_type": "code",
   "execution_count": 8,
   "id": "9f88d226",
   "metadata": {},
   "outputs": [],
   "source": [
    "cur.close() # we are done sending commands to the DB for now   \n",
    "conn.close() # we are completely done with the DB in this programconn.close()"
   ]
  },
  {
   "cell_type": "markdown",
   "id": "84c36224",
   "metadata": {},
   "source": [
    "# Many-to-Many Relationship\n",
    "\n",
    "## Courses DB"
   ]
  },
  {
   "cell_type": "code",
   "execution_count": 9,
   "id": "a2b4794f",
   "metadata": {},
   "outputs": [
    {
     "data": {
      "text/plain": [
       "<sqlite3.Cursor at 0x7fadae1e8340>"
      ]
     },
     "execution_count": 9,
     "metadata": {},
     "output_type": "execute_result"
    }
   ],
   "source": [
    "import sqlite3\n",
    "\n",
    "conn = sqlite3.connect('courses.sqlite')\n",
    "cur = conn.cursor()\n",
    "\n",
    "cur.execute('DROP TABLE IF EXISTS User')\n",
    "cur.execute('DROP TABLE IF EXISTS Course')\n",
    "cur.execute('DROP TABLE IF EXISTS Takes')\n",
    "\n",
    "cur.execute('''CREATE TABLE User (\n",
    "    id     INTEGER NOT NULL PRIMARY KEY AUTOINCREMENT UNIQUE,\n",
    "    name   TEXT UNIQUE,\n",
    "    email  TEXT)''')\n",
    "\n",
    "cur.execute('''CREATE TABLE Course (\n",
    "    id     INTEGER NOT NULL PRIMARY KEY AUTOINCREMENT UNIQUE,\n",
    "    title  TEXT UNIQUE)''')\n",
    "\n",
    "cur.execute('''CREATE TABLE Takes (\n",
    "    user_id     INTEGER,\n",
    "    course_id   INTEGER,\n",
    "    role        INTEGER,\n",
    "    PRIMARY KEY (user_id, course_id))''')"
   ]
  },
  {
   "cell_type": "code",
   "execution_count": 10,
   "id": "c8255ab9",
   "metadata": {},
   "outputs": [],
   "source": [
    "cur.execute('''INSERT INTO User (name, email) VALUES ('Jane', 'jane@tsugi.org')''')\n",
    "cur.execute('''INSERT INTO User (name, email) VALUES ('Ed', 'ed@tsugi.org')''')\n",
    "cur.execute('''INSERT INTO User (name, email) VALUES ('Sue', 'sue@tsugi.org')''')\n",
    "\n",
    "cur.execute('''INSERT INTO Course (title) VALUES ('Python')''')\n",
    "cur.execute('''INSERT INTO Course (title) VALUES ('SQL')''')\n",
    "cur.execute('''INSERT INTO Course (title) VALUES ('PHP')''')\n",
    "\n",
    "cur.execute('''INSERT INTO Takes (user_id, course_id, role) VALUES (1, 1, 1)''')\n",
    "cur.execute('''INSERT INTO Takes (user_id, course_id, role) VALUES (2, 1, 0)''')\n",
    "cur.execute('''INSERT INTO Takes (user_id, course_id, role) VALUES (3, 1, 0)''')\n",
    "\n",
    "cur.execute('''INSERT INTO Takes (user_id, course_id, role) VALUES (1, 2, 0)''')\n",
    "cur.execute('''INSERT INTO Takes (user_id, course_id, role) VALUES (2, 2, 1)''')\n",
    "\n",
    "cur.execute('''INSERT INTO Takes (user_id, course_id, role) VALUES (2, 3, 1)''')\n",
    "cur.execute('''INSERT INTO Takes (user_id, course_id, role) VALUES (3, 3, 0)''')\n",
    "\n",
    "conn.commit()"
   ]
  },
  {
   "cell_type": "code",
   "execution_count": 11,
   "id": "5b4d8e8d",
   "metadata": {},
   "outputs": [],
   "source": [
    "result3 = cur.execute('''SELECT User.name, Takes.role, Course.title\n",
    "  FROM User JOIN Takes JOIN Course\n",
    "  ON Takes.user_id = User.id AND Takes.course_id = Course.id\n",
    "  ORDER BY Course.title, Takes.role DESC, User.name''')"
   ]
  },
  {
   "cell_type": "code",
   "execution_count": 12,
   "id": "fc52075c",
   "metadata": {},
   "outputs": [
    {
     "data": {
      "text/plain": [
       "[('Ed', 1, 'PHP'),\n",
       " ('Sue', 0, 'PHP'),\n",
       " ('Jane', 1, 'Python'),\n",
       " ('Ed', 0, 'Python'),\n",
       " ('Sue', 0, 'Python'),\n",
       " ('Ed', 1, 'SQL'),\n",
       " ('Jane', 0, 'SQL')]"
      ]
     },
     "execution_count": 12,
     "metadata": {},
     "output_type": "execute_result"
    }
   ],
   "source": [
    "list(result3)"
   ]
  },
  {
   "cell_type": "code",
   "execution_count": null,
   "id": "458f28ae",
   "metadata": {},
   "outputs": [],
   "source": [
    "cur.close() # we are done sending commands to the DB for now\n",
    "conn.close() # we are completely done with the DB in this program\n"
   ]
  },
  {
   "cell_type": "code",
   "execution_count": null,
   "id": "ba3da5eb",
   "metadata": {},
   "outputs": [],
   "source": []
  }
 ],
 "metadata": {
  "kernelspec": {
   "display_name": "Python 3 (ipykernel)",
   "language": "python",
   "name": "python3"
  },
  "language_info": {
   "codemirror_mode": {
    "name": "ipython",
    "version": 3
   },
   "file_extension": ".py",
   "mimetype": "text/x-python",
   "name": "python",
   "nbconvert_exporter": "python",
   "pygments_lexer": "ipython3",
   "version": "3.9.15"
  }
 },
 "nbformat": 4,
 "nbformat_minor": 5
}
