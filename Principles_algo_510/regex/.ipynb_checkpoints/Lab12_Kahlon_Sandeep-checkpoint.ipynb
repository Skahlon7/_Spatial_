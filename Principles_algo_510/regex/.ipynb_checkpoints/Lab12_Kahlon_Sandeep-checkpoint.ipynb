{
 "cells": [
  {
   "cell_type": "markdown",
   "metadata": {
    "id": "fVck9XgfQcN4"
   },
   "source": [
    "**<h3>DSCI 510: Principles of Programming for Data Science </h3>**\n",
    "<h4>Spring 2023 – Assignment 12</h4>\n",
    "\n",
    "Instructor: <a href=\"mailto:ambite@isi.edu\">Prof. Jose Luis Ambite </a>                       \t\t\t\t                           \n",
    "Course Producers: <a href=\"mailto:svara@usc.edu\">Samuel Vara</a>, <a href=\"mailto:svparakh@usc.edu\">Sanjana Parakh</a>, <a href=\"mailto:swarnita@usc.edu\">Swarnita Venkatraman</a>, <a href=\"mailto:gursimar@usc.edu\">Gursimar Kaur</a>\n",
    "</h2>"
   ]
  },
  {
   "cell_type": "markdown",
   "metadata": {
    "id": "g2sHQNJcQd5v"
   },
   "source": [
    "**Guidelines for the Assignment:**\n",
    "\n",
    "- You have to complete the assignments individually. If you are having trouble completing the assignment do let the TAs know/post on Piazza.\n",
    "\n",
    "- Please don't copy code (either partially/fully) from your classmates. Plagiarism of any form will result in a 0 and you will be reported to SJACS (https://sjacs.usc.edu/students/academic-integrity/).\n",
    "\n",
    "- You have to fill the code in this notebook and upload it for submission. While doing this, make sure all supporting files that you download from D2L are in the same directory as this notebook.  \n",
    "\n",
    "- File Naming Convention : Lab12_LastName_FirstName.ipynb\n",
    "\n",
    "- Don't change existing methods (if any, unless otherwise mentioned in the instructions)\n",
    "\n",
    "- You are encouraged to look up resources online like python docs and stackoverflow. Look up the topics and not the questions themselves. \n",
    "\n",
    "- Your last submission before the deadline will be counted towards your grade. You can submit any number of times before the deadline.\n",
    "\n",
    "- You need to take input from file/console only if it is mentioned in the question. If not we need just the logic/implementation of your function.\n",
    "\n",
    "- Scores are capped at 10 points including the Bonus problem. For Example: Even if you get a score of 12/10, your score is capped at 10.\n",
    "\n",
    "- Bonus score is counted only if the first 2 questions are attempted. Don't attempt the bonus question if you haven't attempted the first 2.\n",
    "\n",
    "----------------------------------------------"
   ]
  },
  {
   "cell_type": "markdown",
   "metadata": {
    "id": "FupiGDrNQoxE"
   },
   "source": [
    "### **Question 1 - Regex patterns for validity check[4 points]**\n",
    "\n",
    "You have to fill in the function 'validity_check()' which takes in two arguments 'phone_number' and 'email_id'. You have to take string user inputs for both 'phone_number' and 'email_id'. \n",
    "\n",
    "The function has to check two things using separate Regex pattern matching techniques:\n",
    "\n",
    "\n",
    "1.   Whether the phone number is valid or not. Valid phone number criterion includes satisfying both conditions given below:\n",
    "\n",
    "*   3digits-3digits-4digits.\n",
    "*   First digit should not be 0.\n",
    "\n",
    "\n",
    "\n",
    "```\n",
    "Example: \n",
    "The format of the number is 123-234-8789.\n",
    "```\n",
    "\n",
    "If the phone number is valid print('Your phone number is valid!').\n",
    "\n",
    "If the phone number is not valid print('Your phone number is not valid!')\n",
    "\n",
    "\n",
    "2.   Whether the email id has 'usc.edu' in it or not. Please note the email id may contain digits, upper or lowercase letters before '@usc.edu', you should also check for that.\n",
    "\n",
    "\n",
    "\n",
    "```\n",
    "Example:\n",
    "tom123@usc.edu\n",
    "```\n",
    "\n",
    "If the email id is valid print('Your email id is valid!').\n",
    "\n",
    "If the email id is not valid print('Your email id is not valid!')\n",
    "\n",
    "**Expected input and output:**\n",
    "\n",
    "\n",
    "```\n",
    "Eaxmple 1\n",
    "Input:\n",
    "phone_number = '712-124-8443' #userinput\n",
    "email_id = 'tom@usc.edu' #userinput\n",
    "\n",
    "Output:\n",
    "Your phone number is valid!\n",
    "Your email id is valid!\n",
    "\n",
    "Eaxmple 2\n",
    "Input:\n",
    "phone_number = '712-1243-8464' #userinput\n",
    "email_id = 'tom123@usc.edu' #userinput\n",
    "\n",
    "Output:\n",
    "Your phone number is not valid!\n",
    "Your email id is valid!\n",
    "```\n",
    "\n",
    "\n"
   ]
  },
  {
   "cell_type": "code",
   "execution_count": 1,
   "metadata": {
    "id": "fmg1H2d2QNOX"
   },
   "outputs": [],
   "source": [
    "import re\n",
    "def validity_check(phone_number,email_id):\n",
    "      #write your code below\n",
    "    try:\n",
    "        if re.match('(([^0]\\d{2})-(\\d{3})-(\\d{4}))', phone_number).group(4):\n",
    "            print('Your phone number is valid!')\n",
    "    except:\n",
    "        print('Your phone number is not valid!')\n",
    "    try:\n",
    "        if re.match('([\\w]*)(@.+.?)', email_id).group(2).lower() == '@usc.edu':\n",
    "            print('Your email id is valid!')\n",
    "        else:\n",
    "            print('Your email id is not valid!')\n",
    "    except:\n",
    "        print('Your email id is not valid!')"
   ]
  },
  {
   "cell_type": "code",
   "execution_count": 169,
   "metadata": {
    "id": "LcCUm0xjbtsI"
   },
   "outputs": [
    {
     "name": "stdout",
     "output_type": "stream",
     "text": [
      "Enter Phone Number: 016-412-1139\n",
      "Enter Email: skahlon@usc.edu\n",
      "Your phone number is not valid!\n",
      "Your email id is valid!\n"
     ]
    }
   ],
   "source": [
    "phone_number = input('Enter Phone Number: ') #userinput\n",
    "email_id = input('Enter Email: ')#userinput\n",
    "validity_check(phone_number,email_id)"
   ]
  },
  {
   "cell_type": "markdown",
   "metadata": {
    "id": "n1G0M3Zofv3L"
   },
   "source": [
    "### **Question 2 - Regex patterns for evaluation of simple arithmetic expressions [6 points]**\n",
    "\n",
    "You have to check for an arithmetic sequence in an input string inside the function 'evaluate_simple_arithmetic()' as given below:\n",
    "\n",
    "an integer, an operator and another integer with spaces before and/or after the operator.\n",
    "\n",
    "Operator can be either one of (+, *, /, -)\n",
    "\n",
    "The function should return the product or sum or division or subtraction of the two integers in the string based on the operator.\n",
    "\n",
    "\n",
    "\n",
    "```\n",
    "Example 1\n",
    "Input: evaluate_simple_arithmetic('The answer is -5  * -5 ')\n",
    "Output: \n",
    "The product is: 25\n",
    "\n",
    "Example 2\n",
    "Input: evaluate_simple_arithmetic('What is 3+2')\n",
    "Output: \n",
    "The sum is: 5\n",
    "\n",
    "Example 3\n",
    "Input: evaluate_simple_arithmetic('How much is 5000 / -40 ')\n",
    "Output: \n",
    "The division is: -125.0\n",
    "\n",
    "Example 4\n",
    "Input: evaluate_simple_arithmetic('What is the answer of 400 %10?')\n",
    "Output: \n",
    "Invalid operator\n",
    "```\n",
    "\n",
    "**Hints:**\n",
    "\n",
    "You may use eval() function to solve this question. Here is a link for your reference - https://www.geeksforgeeks.org/eval-in-python/"
   ]
  },
  {
   "cell_type": "code",
   "execution_count": 124,
   "metadata": {
    "id": "AzsIXbpMf21j"
   },
   "outputs": [],
   "source": [
    "def evaluate_simple_arithmetic(string_input):\n",
    "    try:\n",
    "        result = eval(re.sub('([^-/*/+//\\d]*)', '', string_input))\n",
    "        if re.search('(\\d+)\\s*([+\\-\\*\\/])\\s*(\\d*)', string_input).group(2) == '*':\n",
    "            return f'The product is: {result}'\n",
    "        if re.search('(\\d+)\\s*([+\\-\\*\\/])\\s*(\\d*)', string_input).group(2) == '/':\n",
    "            return f'The division is: {result}'\n",
    "        if re.search('(\\d+)\\s*([+\\-\\*\\/])\\s*(\\d*)', string_input).group(2) == '+':\n",
    "            return f'The sum is: {result}'\n",
    "        if re.search('(\\d+)\\s*([+\\-\\*\\/])\\s*(\\d*)', string_input).group(2) == '-':\n",
    "            return f'The subtraction is: {result}'\n",
    "    except:\n",
    "        return 'Invalid operator'"
   ]
  },
  {
   "cell_type": "code",
   "execution_count": 128,
   "metadata": {},
   "outputs": [
    {
     "data": {
      "text/plain": [
       "'Invalid operator'"
      ]
     },
     "execution_count": 128,
     "metadata": {},
     "output_type": "execute_result"
    }
   ],
   "source": [
    "evaluate_simple_arithmetic('What is the answer of 400 %10?')"
   ]
  },
  {
   "cell_type": "code",
   "execution_count": 132,
   "metadata": {
    "id": "THhPd2T7iaBt"
   },
   "outputs": [
    {
     "data": {
      "text/plain": [
       "'The division is: -125.0'"
      ]
     },
     "execution_count": 132,
     "metadata": {},
     "output_type": "execute_result"
    }
   ],
   "source": [
    "evaluate_simple_arithmetic('The answer is -5  * -5 ')\n",
    "evaluate_simple_arithmetic('What is 3+2')\n",
    "evaluate_simple_arithmetic('How much is 5000 / -40 ')"
   ]
  },
  {
   "cell_type": "markdown",
   "metadata": {
    "id": "TSzQQB5_ioSC"
   },
   "source": [
    "### **Bonus Question[2 points]**\n",
    "\n",
    "\n",
    "Each question can have one or more correct answers. \n",
    "\n",
    "A) Which of the following options will match digits in a string?\n",
    "\n",
    "1. [0-9]\n",
    "2. \\D\n",
    "3. \\d\n",
    "4. \\number\n",
    "\n",
    "B) What will be the output of the following function? <br>\n",
    "```re.findall(\"hello world\", \"hello\", 1)```\n",
    "\n",
    "1. hello\n",
    "2. hello world\n",
    "3. ['hello']\n",
    "4. []"
   ]
  },
  {
   "cell_type": "markdown",
   "metadata": {
    "id": "sL-Faoc4jFQh"
   },
   "source": [
    "#### Enter your answers here - please only type in the option numbers. For ex : If option 1 is the right answer for Question A), type 1 besides A).\n",
    "\n",
    "A) 1, 3\n",
    "\n",
    "B) 4"
   ]
  },
  {
   "cell_type": "code",
   "execution_count": null,
   "metadata": {},
   "outputs": [],
   "source": []
  }
 ],
 "metadata": {
  "colab": {
   "provenance": []
  },
  "kernelspec": {
   "display_name": "Python 3 (ipykernel)",
   "language": "python",
   "name": "python3"
  },
  "language_info": {
   "codemirror_mode": {
    "name": "ipython",
    "version": 3
   },
   "file_extension": ".py",
   "mimetype": "text/x-python",
   "name": "python",
   "nbconvert_exporter": "python",
   "pygments_lexer": "ipython3",
   "version": "3.9.6"
  }
 },
 "nbformat": 4,
 "nbformat_minor": 1
}
