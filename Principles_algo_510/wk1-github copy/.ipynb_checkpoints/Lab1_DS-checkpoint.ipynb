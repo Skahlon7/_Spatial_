{
 "cells": [
  {
   "cell_type": "markdown",
   "id": "6d80e7c3",
   "metadata": {},
   "source": [
    "### Q1: Working with print()"
   ]
  },
  {
   "cell_type": "code",
   "execution_count": 28,
   "id": "e292508e",
   "metadata": {},
   "outputs": [
    {
     "name": "stdout",
     "output_type": "stream",
     "text": [
      "Hello-World!\n",
      "\tHello World \n",
      "\n",
      "\tHello Paris\n",
      "\n",
      "Sandeep -> 100\n",
      "\n",
      "Sandeep, Data Science, 2022\n"
     ]
    }
   ],
   "source": [
    "print('Hello', 'World!', sep= \"-\") #utilizing sep\n",
    "print('\\tHello World \\n\\n\\tHello Paris') #tabs and newline\n",
    "print()\n",
    "\n",
    "\n",
    "print('Sandeep', end=' -> ') #Utilizing end\n",
    "print('100')\n",
    "print()\n",
    "\n",
    "#Major, Year admission, seperated by comma\n",
    "print('Sandeep', 'Data Science', '2022', sep=', ')"
   ]
  },
  {
   "cell_type": "code",
   "execution_count": 62,
   "id": "aa47c297",
   "metadata": {},
   "outputs": [
    {
     "name": "stdout",
     "output_type": "stream",
     "text": [
      "Sandeep.Kahlon@gmail.com\n",
      "Sandeep.Kahlon@gmail.com\n"
     ]
    }
   ],
   "source": [
    "#email\n",
    "first = 'Sandeep'\n",
    "last = 'Kahlon'\n",
    "print('{}.{}@gmail.com'.format(first,last))\n",
    "print(f'{first}.{last}@gmail.com')"
   ]
  },
  {
   "cell_type": "markdown",
   "id": "e862f84a",
   "metadata": {},
   "source": [
    "### Q2: Operators"
   ]
  },
  {
   "cell_type": "code",
   "execution_count": 38,
   "id": "85ce7f67",
   "metadata": {},
   "outputs": [
    {
     "data": {
      "text/plain": [
       "147"
      ]
     },
     "execution_count": 38,
     "metadata": {},
     "output_type": "execute_result"
    }
   ],
   "source": [
    "3*7**2"
   ]
  },
  {
   "cell_type": "code",
   "execution_count": 46,
   "id": "9f71af97",
   "metadata": {},
   "outputs": [
    {
     "data": {
      "text/plain": [
       "120.0"
      ]
     },
     "execution_count": 46,
     "metadata": {},
     "output_type": "execute_result"
    }
   ],
   "source": [
    "def revenue_forecast(curr_rev, year_rate, years):\n",
    "    curr_rev += (curr_rev*year_rate)*years   #Yearly growth multiplied by num of years\n",
    "    return curr_rev\n",
    "    \n",
    "revenue_forecast(100, .10, 2)    "
   ]
  },
  {
   "cell_type": "code",
   "execution_count": 55,
   "id": "821a7f3e",
   "metadata": {},
   "outputs": [
    {
     "data": {
      "text/plain": [
       "121.0"
      ]
     },
     "execution_count": 55,
     "metadata": {},
     "output_type": "execute_result"
    }
   ],
   "source": [
    "def compounding_forecast(curr_rev, year_rate, years):\n",
    "    for x in range(years):\n",
    "        curr_rev += (year_rate*curr_rev)\n",
    "    return curr_rev\n",
    "\n",
    "compounding_forecast(100,.10,2)\n",
    "        "
   ]
  },
  {
   "cell_type": "markdown",
   "id": "422b3fe1",
   "metadata": {},
   "source": [
    "### Q3: Type Casting"
   ]
  },
  {
   "cell_type": "code",
   "execution_count": 60,
   "id": "5598cab8",
   "metadata": {},
   "outputs": [
    {
     "name": "stdout",
     "output_type": "stream",
     "text": [
      "<class 'str'>\n",
      "<class 'int'>\n",
      "1231 <class 'int'>\n"
     ]
    }
   ],
   "source": [
    "print(type('12,516,300'))\n",
    "revenue = int('1231')\n",
    "print(type(revenue))\n",
    "print(revenue, type(revenue))"
   ]
  },
  {
   "cell_type": "markdown",
   "id": "ea22ced6",
   "metadata": {},
   "source": [
    "### Q4: How to use round?"
   ]
  },
  {
   "cell_type": "code",
   "execution_count": 65,
   "id": "7ee8191e",
   "metadata": {},
   "outputs": [
    {
     "name": "stdout",
     "output_type": "stream",
     "text": [
      "5.76\n",
      "5.78\n"
     ]
    }
   ],
   "source": [
    "print(round(5.765,2))\n",
    "print(round(5.775,2))"
   ]
  }
 ],
 "metadata": {
  "kernelspec": {
   "display_name": "Python 3 (ipykernel)",
   "language": "python",
   "name": "python3"
  },
  "language_info": {
   "codemirror_mode": {
    "name": "ipython",
    "version": 3
   },
   "file_extension": ".py",
   "mimetype": "text/x-python",
   "name": "python",
   "nbconvert_exporter": "python",
   "pygments_lexer": "ipython3",
   "version": "3.9.6"
  }
 },
 "nbformat": 4,
 "nbformat_minor": 5
}
