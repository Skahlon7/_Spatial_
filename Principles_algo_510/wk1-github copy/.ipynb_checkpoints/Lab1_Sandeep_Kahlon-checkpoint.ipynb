{
 "cells": [
  {
   "cell_type": "markdown",
   "metadata": {
    "id": "PpgCGKeDC3dM"
   },
   "source": [
    "<h3>DSCI 510: Principles of Programming for Data Science </h3>\n",
    "<h4>Spring 2023 – Assignment 1</h4>\n",
    "\n",
    "Instructor: <a href=\"mailto:ambite@isi.edu\">Prof. Jose Luis Ambite </a>                       \t\t\t\t                           \n",
    "Course Producers: <a href=\"mailto:svara@usc.edu\">Samuel Vara</a>, <a href=\"mailto:svparakh@usc.edu\">Sanjana Parakh</a>, <a href=\"mailto:swarnita@usc.edu\">Swarnita Venkatraman</a>, <a href=\"mailto:gursimar@usc.edu\">Gursimar Kaur</a>\n",
    "</h2>"
   ]
  },
  {
   "cell_type": "markdown",
   "metadata": {
    "id": "CriOPwjYYSzd"
   },
   "source": [
    "<h4>\n",
    "Note <br>\n",
    "<ol>\n",
    "<li>Name your variables according to the question prompt or if not specified, follow the best practices (ex. mnemonics) as discussed in class.</li>\n",
    "<li>Always print your final result.</li>\n",
    "</ol>\n",
    "</h4>"
   ]
  },
  {
   "cell_type": "markdown",
   "metadata": {
    "id": "8Zli6wR_lJGY"
   },
   "source": [
    "<h4>Q1. Write a code to print your Name (FirstName[space]LastName) and USC-ID separated by \"-\"</h4>"
   ]
  },
  {
   "cell_type": "code",
   "execution_count": 70,
   "metadata": {
    "id": "GJ0Q0wkhlJGa"
   },
   "outputs": [
    {
     "name": "stdout",
     "output_type": "stream",
     "text": [
      "Sandeep-Kahlon 920884559\n"
     ]
    }
   ],
   "source": [
    "# Example\n",
    "# John Williams - 1679441578\n",
    "# Write your code below\n",
    "print('Sandeep', 'Kahlon', sep='-', end=' ')\n",
    "print('920884559')"
   ]
  },
  {
   "cell_type": "markdown",
   "metadata": {
    "id": "ExB6kxWgF4xQ"
   },
   "source": [
    "Q2. Write a program to calculate the annual salary for a person based on his monthly base pay ($20) and end of year bonus (20%). Print the salary in Euros. \n",
    "\n",
    "Do you know 1 Euro is $1.09?\n"
   ]
  },
  {
   "cell_type": "code",
   "execution_count": 79,
   "metadata": {
    "id": "m8kJwbs6F7Er"
   },
   "outputs": [
    {
     "name": "stdout",
     "output_type": "stream",
     "text": [
      "$ 313.92\n"
     ]
    }
   ],
   "source": [
    "monthly_base_pay = 20\n",
    "bonus = 20\n",
    "\n",
    "# Write your code below\n",
    "print('$', round(((monthly_base_pay*12)*(1+bonus/100)*1.09),2))"
   ]
  },
  {
   "cell_type": "markdown",
   "metadata": {
    "id": "XVCTOrfcMoGm"
   },
   "source": [
    "<h4>Q3. Follow the instructions below</h4>"
   ]
  },
  {
   "cell_type": "code",
   "execution_count": 34,
   "metadata": {
    "id": "aZTCVHDNMoGn"
   },
   "outputs": [],
   "source": [
    "profit_per_day = \"157290411\""
   ]
  },
  {
   "cell_type": "markdown",
   "metadata": {
    "id": "rNnncQWJMoGo"
   },
   "source": [
    "<h5>3.1 What is the type of the variable \"profit_per_day\". Write a code to find that.[<a href=\"https://docs.python.org/3/library/functions.html#type\">Hint]</a></h5>"
   ]
  },
  {
   "cell_type": "code",
   "execution_count": 80,
   "metadata": {
    "id": "5BoOMziwMoGo"
   },
   "outputs": [
    {
     "name": "stdout",
     "output_type": "stream",
     "text": [
      "<class 'int'>\n"
     ]
    }
   ],
   "source": [
    "# Write your code below\n",
    "print(type(profit_per_day))"
   ]
  },
  {
   "cell_type": "markdown",
   "metadata": {
    "id": "DQkdO2u6MoGp"
   },
   "source": [
    "<h5>3.2 We want to work with numbers for this question, convert the variable \"profit_per_day\" to Integer. Save the integer counterpart of \"profit_per_day\" in the same \"profit_per_day\" variable. Print \"profit_per_day\"</h5>"
   ]
  },
  {
   "cell_type": "code",
   "execution_count": 82,
   "metadata": {
    "id": "uoBPizW_MoGq"
   },
   "outputs": [
    {
     "name": "stdout",
     "output_type": "stream",
     "text": [
      "$157290411\n"
     ]
    }
   ],
   "source": [
    "# Write your code below\n",
    "profit_per_day = int(profit_per_day)\n",
    "print(f'${profit_per_day}')"
   ]
  },
  {
   "cell_type": "markdown",
   "metadata": {
    "id": "lGn6UtN-MoGr"
   },
   "source": [
    "<h5>3.3 Calculate the revenue per month (30days), save it in variable revenue_per_month. Print the result</h5>"
   ]
  },
  {
   "cell_type": "code",
   "execution_count": 103,
   "metadata": {
    "id": "pecfgM18MoGr"
   },
   "outputs": [
    {
     "name": "stdout",
     "output_type": "stream",
     "text": [
      "4718712330\n"
     ]
    }
   ],
   "source": [
    "# Write your code below \n",
    "\n",
    "revenue_per_month = profit_per_day*30\n",
    "print(revenue_per_month)"
   ]
  },
  {
   "cell_type": "markdown",
   "metadata": {
    "id": "GZtLlWXRMoGr"
   },
   "source": [
    "<h5>3.4 Turns out the revenue_per_month was of Apple, no wonder they are a 2 Trillion Dollar company. Analysts say its revenue would grow 3% next year. Find the revenue of Apple per year next year if the analysts are right and the growth remains constant during the duration of this year.</h5>"
   ]
  },
  {
   "cell_type": "code",
   "execution_count": 38,
   "metadata": {
    "id": "qDGDkHufMoGs"
   },
   "outputs": [
    {
     "name": "stdout",
     "output_type": "stream",
     "text": [
      "58323284398.8\n"
     ]
    }
   ],
   "source": [
    "# Write your code below (define the variables)\n",
    "\n",
    "revenue_next_year = (revenue_per_month*12)*1.03\n",
    "print(revenue_next_year)"
   ]
  },
  {
   "cell_type": "markdown",
   "metadata": {
    "id": "J9ahk4tUMoGs"
   },
   "source": [
    "<h5>3.5 Could you round the revenue_next_year to the nearest 1,000? Just print the result. [<a href=\"https://docs.python.org/3/library/functions.html#round\">Hint</a>]</h5>"
   ]
  },
  {
   "cell_type": "code",
   "execution_count": 91,
   "metadata": {
    "id": "M8aM7AT7MoGs"
   },
   "outputs": [
    {
     "data": {
      "text/plain": [
       "58323284000.0"
      ]
     },
     "execution_count": 91,
     "metadata": {},
     "output_type": "execute_result"
    }
   ],
   "source": [
    "# Write your code below\n",
    "round(revenue_next_year, -3)"
   ]
  },
  {
   "cell_type": "code",
   "execution_count": 104,
   "metadata": {},
   "outputs": [
    {
     "data": {
      "text/plain": [
       "4718712330"
      ]
     },
     "execution_count": 104,
     "metadata": {},
     "output_type": "execute_result"
    }
   ],
   "source": [
    "revenue_per_month"
   ]
  },
  {
   "cell_type": "markdown",
   "metadata": {
    "id": "jI3Rai1rMoGs"
   },
   "source": [
    "<h5>3.6 What is the revenue (use revenue_per_month) after 10 years if it grows 5% every year.</h5>"
   ]
  },
  {
   "cell_type": "code",
   "execution_count": 117,
   "metadata": {
    "id": "Vhmg55KDMoGt"
   },
   "outputs": [
    {
     "data": {
      "text/plain": [
       "92235421915.74557"
      ]
     },
     "execution_count": 117,
     "metadata": {},
     "output_type": "execute_result"
    }
   ],
   "source": [
    "# Write your code below\n",
    "tot_rev = revenue_per_month*12\n",
    "for val in range(10):\n",
    "    tot_rev *= 1.05\n",
    "tot_rev"
   ]
  },
  {
   "cell_type": "markdown",
   "metadata": {
    "id": "lY1WAUkqWZK8"
   },
   "source": [
    "<h5>Q4. Write the command to list all the files in a directory with all the file information included (like permissions, etc). You can write terminal commands in Jupyter Notebooks by starting them with \"!\". Example: To find the current working directory, you can type !pwd</h5>"
   ]
  },
  {
   "cell_type": "code",
   "execution_count": null,
   "metadata": {
    "colab": {
     "base_uri": "https://localhost:8080/"
    },
    "id": "nFahUFZHWN-7",
    "outputId": "63c33ba9-56c7-4e26-9531-8a718247b017"
   },
   "outputs": [
    {
     "name": "stdout",
     "output_type": "stream",
     "text": [
      "/content\n"
     ]
    }
   ],
   "source": [
    "#Example: \n",
    "!pwd"
   ]
  },
  {
   "cell_type": "code",
   "execution_count": 118,
   "metadata": {
    "id": "fAFN7nJ1X5lX"
   },
   "outputs": [
    {
     "name": "stdout",
     "output_type": "stream",
     "text": [
      "total 312\n",
      "-rw-r--r--  1 sandeepk  staff   4375 Jan 12 18:09 Lab1_DS.ipynb\n",
      "-rw-r--r--@ 1 sandeepk  staff  10961 Jan 15 14:57 Lab1_Sandeep_Kahlon.ipynb\n",
      "-rw-r--r--@ 1 sandeepk  staff  55752 Jan 12 15:57 Lab1_env_setup.pdf\n",
      "-rw-r--r--@ 1 sandeepk  staff  65867 Jan 12 15:57 Lab1_terminal.pdf\n",
      "-rw-r--r--@ 1 sandeepk  staff   9992 Jan 12 15:56 week1.ipynb\n"
     ]
    }
   ],
   "source": [
    "# Write your code below\n",
    "!ls -l"
   ]
  },
  {
   "cell_type": "markdown",
   "metadata": {
    "id": "pEgoJ7GJPCTY"
   },
   "source": [
    "<h5>Q5. Write a code to calculate the BMI of a user (with a prompt for each input). Your input weight shoud be in Kilograms and Height in cm.</h5>"
   ]
  },
  {
   "cell_type": "code",
   "execution_count": 65,
   "metadata": {
    "id": "rePwZZhNO6NC"
   },
   "outputs": [
    {
     "name": "stdout",
     "output_type": "stream",
     "text": [
      "Enter Height in cm: 178.02\n",
      "Enter Weight in kg: 66.01\n",
      "20.83\n"
     ]
    }
   ],
   "source": [
    "# Write your code below \n",
    "\n",
    "height = float(input('Enter Height in cm: '))\n",
    "weight = float(input('Enter Weight in kg: '))\n",
    "\n",
    "bmi = round(weight/(height/100)**2,2)\n",
    "print(bmi)"
   ]
  }
 ],
 "metadata": {
  "colab": {
   "provenance": []
  },
  "kernelspec": {
   "display_name": "Python 3 (ipykernel)",
   "language": "python",
   "name": "python3"
  },
  "language_info": {
   "codemirror_mode": {
    "name": "ipython",
    "version": 3
   },
   "file_extension": ".py",
   "mimetype": "text/x-python",
   "name": "python",
   "nbconvert_exporter": "python",
   "pygments_lexer": "ipython3",
   "version": "3.9.6"
  },
  "vscode": {
   "interpreter": {
    "hash": "412475d8067030a8d467ff7ed44766e417198f2708362980eaea140f5e9eaee1"
   }
  }
 },
 "nbformat": 4,
 "nbformat_minor": 1
}
