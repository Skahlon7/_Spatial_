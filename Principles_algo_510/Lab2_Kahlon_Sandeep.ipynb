{
 "cells": [
  {
   "cell_type": "markdown",
   "metadata": {
    "id": "J2cEyG4H4r3j"
   },
   "source": [
    "<h3>DSCI 510: Principles of Programming for Data Science </h3>\n",
    "<h4>Spring 2023 – Assignment 2</h4>\n",
    "\n",
    "Instructor: <a href=\"mailto:ambite@isi.edu\">Prof. Jose Luis Ambite </a>                       \t\t\t\t                           \n",
    "Course Producers: <a href=\"mailto:svara@usc.edu\">Samuel Vara</a>, <a href=\"mailto:svparakh@usc.edu\">Sanjana Parakh</a>, <a href=\"mailto:swarnita@usc.edu\">Swarnita Venkatraman</a>, <a href=\"mailto:gursimar@usc.edu\">Gursimar Kaur</a>\n",
    "</h2>"
   ]
  },
  {
   "cell_type": "markdown",
   "metadata": {
    "id": "rQkpveDW4mA5"
   },
   "source": [
    "<h4>Q1. Write a program to check whether the given number is divisible by 4 and 7 both. (3 points)</h4>\n",
    "\n",
    "Input : Integer<br>\n",
    "Return : Boolean\n",
    "\n",
    "```\n",
    "Example\n",
    "Input :\n",
    "Enter a number : 28\n",
    "Output :\n",
    "True\n",
    "\n",
    "```\n",
    "```\n",
    "Example\n",
    "Input :\n",
    "Enter a number : 32\n",
    "Output :\n",
    "False\n",
    "```"
   ]
  },
  {
   "cell_type": "code",
   "execution_count": 24,
   "metadata": {
    "id": "QEVriaT74zE5"
   },
   "outputs": [
    {
     "name": "stdout",
     "output_type": "stream",
     "text": [
      "Enter a Number: 56\n"
     ]
    },
    {
     "data": {
      "text/plain": [
       "True"
      ]
     },
     "execution_count": 24,
     "metadata": {},
     "output_type": "execute_result"
    }
   ],
   "source": [
    "## Write your code below\n",
    "def divisible_4_7():\n",
    "    try:\n",
    "        num = int(input('Enter a Number: '))\n",
    "        if (num%7) == 0 and (num%4) == 0:\n",
    "            return True\n",
    "        else:\n",
    "            return False\n",
    "    except ValueError:\n",
    "        print('Please Enter a valid integer number')\n",
    "        \n",
    "divisible_4_7()"
   ]
  },
  {
   "cell_type": "markdown",
   "metadata": {
    "id": "twUB3Ci_4wXi"
   },
   "source": [
    "<h4>Q2. Write a program to check if the given triangle is equilateral, isosceles or scalene. (4 points)</h4>\n",
    "\n",
    "```\n",
    "Condition :\n",
    "An equilateral triangle is a triangle in which all three sides are equal.\n",
    "A scalene triangle is a triangle that has three unequal sides.\n",
    "An isosceles triangle is a triangle with two equal sides.\n",
    "\n",
    "Note : Remember to check whether it is a valid triangle or not.\n",
    "\n",
    "```\n",
    "---\n",
    "Input : Sides of triangle (float, float, float)\n",
    "<br>\n",
    "Output : Display the type of triangle. If it doesn't meet the conditions for a valid triangle, display 'Invalid'. \n",
    "\n",
    "```\n",
    "Example \n",
    "Input :\n",
    "s1 = 3, s2 = 5, s3 = 3\n",
    "Output :\n",
    "Isosceles Triangle\n",
    "```\n",
    "\n",
    "```\n",
    "Example \n",
    "Input :\n",
    "s1 = 5, s2 = 6, s3 = 7\n",
    "Output :\n",
    "Scalene Triangle\n",
    "```"
   ]
  },
  {
   "cell_type": "code",
   "execution_count": 87,
   "metadata": {
    "id": "XzK6QjTX47uN"
   },
   "outputs": [
    {
     "name": "stdout",
     "output_type": "stream",
     "text": [
      "Invalid\n",
      "Isoscles Triangle\n",
      "Equilateral Triangle\n",
      "Scalene Triangle\n"
     ]
    }
   ],
   "source": [
    "# Write your code below\n",
    "def triangle_type(side1, side2, side3):\n",
    "    if side1 < side2+side3 and side3 < side1+side2 and side2 < side3+side1:    \n",
    "        if side1==side2==side3:\n",
    "            print('Equilateral Triangle')\n",
    "        elif side1==side2 or side3==side2 or side3==side1:\n",
    "            print('Isoscles Triangle')\n",
    "        else:\n",
    "            print('Scalene Triangle')\n",
    "    else:\n",
    "        print('Invalid')\n",
    "        \n",
    "triangle_type(1,2,4)\n",
    "triangle_type(2,2,3)\n",
    "triangle_type(2,2,2)\n",
    "triangle_type(5,6,7)"
   ]
  },
  {
   "cell_type": "markdown",
   "metadata": {
    "id": "RskrMnpY40hw"
   },
   "source": [
    "<h4>Q3. Print the Lexicographically smallest word of the 4 words given. Use the <a href:\"https://en.wikipedia.org/wiki/English_alphabet\"> English Alphabet</a>. (3 points)<br>\n",
    "Hint : Use <a href=\"https://docs.python.org/3/library/functions.html#min\">min()</a> \n",
    "\n",
    "\n"
   ]
  },
  {
   "cell_type": "code",
   "execution_count": 71,
   "metadata": {
    "id": "Km-nnv3v5JHg"
   },
   "outputs": [
    {
     "data": {
      "text/plain": [
       "'John McAfee'"
      ]
     },
     "execution_count": 71,
     "metadata": {},
     "output_type": "execute_result"
    }
   ],
   "source": [
    "word1 = \"John Muir\"\n",
    "word2 = \"John Mulaney\"\n",
    "word3 = \"John Mcain\"\n",
    "word4 = \"John McAfee\"\n",
    "\n",
    "# Write your code below\n",
    "# ls = [word1, word2, word3, word4]\n",
    "# min_len = min([len(val) for val in ls])\n",
    "# [x for x in ls if len(x) == min_len][0]\n",
    "\n",
    "min(word1, word2, word3, word4)"
   ]
  },
  {
   "cell_type": "markdown",
   "metadata": {
    "id": "FQoLaIry5OgK"
   },
   "source": [
    "\n",
    "<h4> **Bonus Question** <br>Q4. Complete the code snippets. We are finding the sum of 2 numbers - number1, number2. (2 points)</h4>\n",
    "\n",
    "Note : Remove 'pass' keyword and enter your code."
   ]
  },
  {
   "cell_type": "code",
   "execution_count": 67,
   "metadata": {
    "id": "A_LGLkLe5LRp"
   },
   "outputs": [
    {
     "name": "stdout",
     "output_type": "stream",
     "text": [
      "Enter a Number: 79\n",
      "400\n"
     ]
    }
   ],
   "source": [
    "number1 = '321'\n",
    "\n",
    "try:\n",
    "    num1 = int(number1)\n",
    "except:\n",
    "    print('Number 1 cannot be converted to an Integer')\n",
    "\n",
    "try:\n",
    "    #fill in the code to get the input from the user and typecast it to type integer.\n",
    "    num2 = int(input('Enter a Number: '))\n",
    "except:\n",
    "    # Write the code to print \"Not a number\" if your input cannot be typecasted to an integer.\n",
    "    print('Not a number')\n",
    "try:\n",
    "    # write the code to print the sum of num1 and num2\n",
    "    print(num1+num2)\n",
    "except:\n",
    "    # Write the code to print \"Error in Inputs\", incase of an error in the previous block.\n",
    "    print('Error in Inputs')"
   ]
  }
 ],
 "metadata": {
  "colab": {
   "provenance": []
  },
  "kernelspec": {
   "display_name": "Python 3 (ipykernel)",
   "language": "python",
   "name": "python3"
  },
  "language_info": {
   "codemirror_mode": {
    "name": "ipython",
    "version": 3
   },
   "file_extension": ".py",
   "mimetype": "text/x-python",
   "name": "python",
   "nbconvert_exporter": "python",
   "pygments_lexer": "ipython3",
   "version": "3.9.6"
  }
 },
 "nbformat": 4,
 "nbformat_minor": 1
}
