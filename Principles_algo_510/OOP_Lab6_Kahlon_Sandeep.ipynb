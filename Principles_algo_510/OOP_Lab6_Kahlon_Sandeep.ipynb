{
 "cells": [
  {
   "cell_type": "markdown",
   "metadata": {
    "id": "tw6zgBpQAEYA"
   },
   "source": [
    "**<h3>DSCI 510: Principles of Programming for Data Science </h3>**\n",
    "<h4>Spring 2023 – Assignment 6</h4>\n",
    "\n",
    "Instructor: <a href=\"mailto:ambite@isi.edu\">Prof. Jose Luis Ambite </a>                       \t\t\t\t                           \n",
    "Course Producers: <a href=\"mailto:svara@usc.edu\">Samuel Vara</a>, <a href=\"mailto:svparakh@usc.edu\">Sanjana Parakh</a>, <a href=\"mailto:swarnita@usc.edu\">Swarnita Venkatraman</a>, <a href=\"mailto:gursimar@usc.edu\">Gursimar Kaur</a>\n",
    "</h2>"
   ]
  },
  {
   "cell_type": "markdown",
   "metadata": {
    "id": "XwY7qNwqAHvt"
   },
   "source": [
    "**Guidelines for the Assignment:**\n",
    "\n",
    "- You have to complete the assignments individually. If you are having trouble completing the assignment do let the TAs know/post on Piazza.\n",
    "\n",
    "- Please don't copy code (either partially/fully) from your classmates. Plagiarism of any form will result in a 0 and you will be reported to SJACS (https://sjacs.usc.edu/students/academic-integrity/).\n",
    "\n",
    "- You have to fill the code in this notebook and upload it for submission. While doing this, make sure all supporting files that you download from D2L are in the same directory as this notebook.  \n",
    "\n",
    "- File Naming Convention : Lab5_LastName_FirstName.ipynb\n",
    "\n",
    "- Don't change existing methods (if any, unless otherwise mentioned in the instructions)\n",
    "\n",
    "- You are encouraged to look up resources online like python docs and stackoverflow. Look up the topics and not the questions themselves. \n",
    "\n",
    "- Your last submission before the deadline will be counted towards your grade. You can submit any number of times before the deadline.\n",
    "\n",
    "- You need to take input from file/console only if it is mentioned in the question. If not we need just the logic/implementation of your function.\n",
    "\n",
    "- Scores are capped at 10 points including the Bonus problem. For Example: Even if you get a score of 12/10, your score is capped at 10.\n",
    "\n",
    "- Bonus score is counted only if the first 2 questions are attempted. Don't attempt the bonus question if you haven't attempted the first 2.\n",
    "\n",
    "----------------------------------------------"
   ]
  },
  {
   "cell_type": "markdown",
   "metadata": {
    "id": "WvHch3KFKlVC"
   },
   "source": [
    "**Question 1 [3 points]**\n",
    "\n",
    "Create a Python class for a bank account that has the following attributes:\n",
    "*   account number\n",
    "*   balance\n",
    "*   account holder name\n",
    "\n",
    "In the constructor, initialize the account number and name of \n",
    "account holder. Additionally, include the following methods: \n",
    "* withdraw(amount) : Check whether there is sufficient funds to deduct the specified amount. If there isn't enough balance display 'Insufficient balance', else deduct the specfied amount from the balance.\n",
    "* deposit(amount) : Add the specified amount to the balance. No return value required. \n",
    "* display() : displays the account holder name, account number and the current account balance.  \n"
   ]
  },
  {
   "cell_type": "code",
   "execution_count": 60,
   "metadata": {
    "id": "gcIC88-pWkku"
   },
   "outputs": [
    {
     "data": {
      "text/plain": [
       "'Account Holder Name: Sandeep, Account Number:177, Current Balance: $100'"
      ]
     },
     "execution_count": 60,
     "metadata": {},
     "output_type": "execute_result"
    }
   ],
   "source": [
    "class BankAccount:\n",
    "    def __init__(self, account_num, holder_name):\n",
    "        self.account_num = account_num\n",
    "        self.balance = 0\n",
    "        self.holder_name = holder_name\n",
    "        \n",
    "    def withdraw(self, draw_amount):\n",
    "        if (self.balance - draw_amount) <0:\n",
    "            return 'Insufficient Funds'\n",
    "        else:\n",
    "            self.balance -= draw_amount\n",
    "    \n",
    "    def deposit(self, add_amount):\n",
    "        self.balance += add_amount\n",
    "        \n",
    "    def display_balance(self):\n",
    "        return f'Account Holder Name: {self.holder_name}, Account Number:{self.account_num}, Current Balance: ${self.balance}'\n",
    "        \n",
    "    def get_balance(self):\n",
    "        return self.balance\n",
    "\n",
    "    \n",
    "s = BankAccount(177, 'Sandeep')\n",
    "s.deposit(100)\n",
    "s.display_balance()"
   ]
  },
  {
   "cell_type": "code",
   "execution_count": 64,
   "metadata": {
    "colab": {
     "base_uri": "https://localhost:8080/"
    },
    "id": "6ckwySNHKqR0",
    "outputId": "c1cd966d-4378-4e0f-8902-f35a187b43ea"
   },
   "outputs": [
    {
     "data": {
      "text/plain": [
       "'Insufficient Funds'"
      ]
     },
     "execution_count": 64,
     "metadata": {},
     "output_type": "execute_result"
    }
   ],
   "source": [
    "# Do not change this cell \n",
    "# code to test the class above\n",
    "# account1 = BankAccount(976554, 'Lizzie Mcguire')\n",
    "# account1.display_balance() # should display Account Holder Name: Lizzie Mcguire, Account Number: 976554, Current Balance: 0\n",
    "# account1.deposit(2000)\n",
    "# account1.display_balance() # should display Account Holder Name: Lizzie Mcguire, Account Number: 976554, Current Balance: 2000\n",
    "# account1.withdraw(4000) # should display 'Insufficient balance'"
   ]
  },
  {
   "cell_type": "markdown",
   "metadata": {
    "id": "UW8fv2leVr0W"
   },
   "source": [
    "**Question 2 [4 points]** "
   ]
  },
  {
   "cell_type": "markdown",
   "metadata": {
    "id": "5kPGFBS9f9Pc"
   },
   "source": [
    "2.1 Create class User with the following attributes : \n",
    "\n",
    "*   name\n",
    "*   age\n",
    "*   email_id\n",
    "*   telephone number\n",
    "\n",
    "Create a member function fetch_values() that asks for the values of the object attributes from the user. \n",
    "\n",
    "Hint: use the input function"
   ]
  },
  {
   "cell_type": "code",
   "execution_count": 98,
   "metadata": {
    "id": "aLTUVJvXqu0s"
   },
   "outputs": [
    {
     "name": "stdout",
     "output_type": "stream",
     "text": [
      "Enter Name: Sandeep\n",
      "Enter Age: 22\n",
      "Enter Email: sandeep.kah@gmail.com\n",
      "Enter Telephone Number: 9164121139\n"
     ]
    }
   ],
   "source": [
    "#write your code below\n",
    "class User():\n",
    "    def fetch_values(self):\n",
    "        self.name = input('Enter Name: ')\n",
    "        self.age = int(input('Enter Age: '))\n",
    "        self.email_id = input('Enter Email: ')\n",
    "        self.telephone_num = input('Enter Telephone Number: ')\n",
    "        \n",
    "    def get_age(self):\n",
    "        return self.age\n",
    "    \n",
    "    def get_num(self):\n",
    "        return self.telephone_num\n",
    "    \n",
    "    def get_email(self):\n",
    "        return self.email_id\n",
    "    \n",
    "me = User()\n",
    "me.fetch_values()"
   ]
  },
  {
   "cell_type": "markdown",
   "metadata": {
    "id": "Exiigfp0qiM7"
   },
   "source": [
    "2.2  Create a subclass DLUser that extends the User class. \n",
    "\n",
    "* Define the constructor function of DLUser by calling the fetch_values() function of the User class.\n",
    "\n",
    "* Create a function validate() to check:\n",
    "> 1. whether age is above 18 or not, \n",
    "> 2. telephone number is exactly 10 digits or not, and \n",
    "> 3. email_id has “@” or not. \n",
    "\n",
    "If all the 3 conditions are true display “User is eligible for driving license” else “User is not eligible”. "
   ]
  },
  {
   "cell_type": "code",
   "execution_count": 117,
   "metadata": {
    "id": "TpXkKrh0K2ho"
   },
   "outputs": [
    {
     "name": "stdout",
     "output_type": "stream",
     "text": [
      "Enter Name: Sandeep\n",
      "Enter Age: 22\n",
      "Enter Email: sandeep.kahlon\n",
      "Enter Telephone Number: 9164121139\n"
     ]
    }
   ],
   "source": [
    "#write your code below\n",
    "class DLUser(User):\n",
    "    def __init__(self):\n",
    "        super().fetch_values()\n",
    "        \n",
    "    def validate(self):\n",
    "        if self.age >= 18 and len(self.telephone_num) == 10 and ('@' in self.email_id) == True:\n",
    "            return 'User is eligible for driving license'\n",
    "        else:\n",
    "            return 'User is not eligible'\n",
    "\n",
    "mm = DLUser()"
   ]
  },
  {
   "cell_type": "code",
   "execution_count": 5,
   "metadata": {
    "id": "rKoJNK-Zr78I"
   },
   "outputs": [],
   "source": [
    "# #Do not change this cell\n",
    "# x = DLUser()\n",
    "# x.validate()"
   ]
  },
  {
   "cell_type": "markdown",
   "metadata": {
    "id": "XSgewy3KjjrN"
   },
   "source": [
    "<h4>Mention the option number next to the question numbers for the following MCQ's in the cell provided below. "
   ]
  },
  {
   "cell_type": "markdown",
   "metadata": {
    "id": "zRrI5IvnhZ0M"
   },
   "source": [
    "Question 3 [1 point]\n",
    "```\n",
    "class A:\n",
    "   count = 0\n",
    "   def __init__(self, x):\n",
    "      self.x = x+1\n",
    "      A.count = A.count+1\n",
    "\n",
    "A1 = A(2)\n",
    "A2 = A(4)\n",
    "A3 = A(5)\n",
    "\n",
    "What will be the value of A1.x, A1.count and A.count after executing the code.\n",
    "\n",
    "1. 3,1,3\n",
    "2. 3,3,3\n",
    "3. 3,1,1\n",
    "\n",
    "```\n"
   ]
  },
  {
   "cell_type": "markdown",
   "metadata": {
    "id": "ESAG7xR5j9Jw"
   },
   "source": [
    "Question 4 [1 point]\n",
    "\n",
    "```\n",
    "_________ is not a keyword, but by convention it is used to refer to the current instance of a class.\n",
    "\n",
    "1. class\n",
    "2. def\n",
    "3. self\n",
    "4. init\n",
    "\n",
    "```"
   ]
  },
  {
   "cell_type": "markdown",
   "metadata": {
    "id": "yBRXBZL9mbfD"
   },
   "source": [
    "Question 5 [1 point]\n",
    "```\n",
    "Which of the following statements is not true about object-oriented programming?\n",
    "\n",
    "1. One of the benefits of object-oriented programming is that it can hide complexity.\n",
    "2. A class contains functions as well as the data that is used by those functions.\n",
    "3. Constructor methods are required to initialize an object and destructor methods are required to destroy the object when no longer required.\n",
    "4. A powerful feature of object-oriented programming is the ability to create a new class by extending an existing class.\n",
    "```"
   ]
  },
  {
   "cell_type": "markdown",
   "metadata": {
    "id": "HRdyIvFdkISg"
   },
   "source": [
    "**Mention your answers for the MCQs here**\n",
    "\n",
    "Q3. 1\n",
    "\n",
    "Q4. 3\n",
    "\n",
    "Q5. 4"
   ]
  },
  {
   "cell_type": "markdown",
   "metadata": {
    "id": "044heZlLve7Y"
   },
   "source": [
    "**Bonus Question [2 points]**"
   ]
  },
  {
   "cell_type": "markdown",
   "metadata": {
    "id": "FTdPV7-SzMeg"
   },
   "source": [
    "Identify the cause of concern with the piece of code below and then rectify the code to generate the correct output."
   ]
  },
  {
   "cell_type": "code",
   "execution_count": 1,
   "metadata": {
    "id": "zw4obd0Vz2Rs"
   },
   "outputs": [],
   "source": [
    "class Person(object):\n",
    "    name = None\n",
    "    def __init__(self, name):\n",
    "        self.name = name\n",
    "    def funct(self):\n",
    "        return \"Your name is \" + self.name"
   ]
  },
  {
   "cell_type": "code",
   "execution_count": 2,
   "metadata": {
    "colab": {
     "base_uri": "https://localhost:8080/"
    },
    "id": "zd3h7UWP38Uh",
    "outputId": "c62b0274-8632-4de1-fc03-e0251bcba2cd"
   },
   "outputs": [
    {
     "name": "stdout",
     "output_type": "stream",
     "text": [
      "Your name is Daniel\n",
      "Your name is Anne\n"
     ]
    }
   ],
   "source": [
    "# Do not change this cell\n",
    "a = Person('Daniel')\n",
    "b = Person('Anne')\n",
    "print(a.funct())\n",
    "print(b.funct())"
   ]
  }
 ],
 "metadata": {
  "colab": {
   "provenance": []
  },
  "kernelspec": {
   "display_name": "Python 3 (ipykernel)",
   "language": "python",
   "name": "python3"
  },
  "language_info": {
   "codemirror_mode": {
    "name": "ipython",
    "version": 3
   },
   "file_extension": ".py",
   "mimetype": "text/x-python",
   "name": "python",
   "nbconvert_exporter": "python",
   "pygments_lexer": "ipython3",
   "version": "3.9.6"
  },
  "vscode": {
   "interpreter": {
    "hash": "5f184d35c8d9c7da11b7067e27e4f2b317d4cd92b77eb1fd4e433392179c877e"
   }
  }
 },
 "nbformat": 4,
 "nbformat_minor": 1
}
