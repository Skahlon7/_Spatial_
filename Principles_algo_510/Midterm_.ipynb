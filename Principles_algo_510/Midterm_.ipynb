{
 "cells": [
  {
   "cell_type": "code",
   "execution_count": 1,
   "id": "caf78294",
   "metadata": {},
   "outputs": [
    {
     "name": "stdout",
     "output_type": "stream",
     "text": [
      "1 2 (3, 4, 5, 6) {'c': 2, 'd': 3}\n"
     ]
    }
   ],
   "source": [
    "def my_function(a, b, *args, **kwargs):\n",
    "    print(a, b, args, kwargs)\n",
    "    \n",
    "my_function(1,2,3,4,5,6, c=2, d=3)"
   ]
  },
  {
   "cell_type": "code",
   "execution_count": 68,
   "id": "ab11c5a5",
   "metadata": {},
   "outputs": [
    {
     "name": "stdout",
     "output_type": "stream",
     "text": [
      "1 2 {'k': 4, 'z': 3}\n"
     ]
    }
   ],
   "source": [
    "def my_function(a, b, **kwargs):\n",
    "    print(a, b, kwargs)\n",
    "    \n",
    "my_function(1,2,k=4,z=3)"
   ]
  },
  {
   "cell_type": "code",
   "execution_count": null,
   "id": "d1e10bf5",
   "metadata": {},
   "outputs": [],
   "source": [
    "data = {}\n",
    "data['key'] = {'num1': 44, 'num2': 55}\n",
    "data['key2'] = [1, 2, 3, 4]\n",
    "for val in data:\n",
    "    print(val)\n",
    "total = sum([len(x) for x in data])\n",
    "total"
   ]
  },
  {
   "cell_type": "code",
   "execution_count": 146,
   "id": "05561016",
   "metadata": {},
   "outputs": [
    {
     "data": {
      "text/plain": [
       "{'h': 3, 'i': 1, ' ': 2, 'e': 1, 'l': 2, 'o': 2, 'w': 1}"
      ]
     },
     "execution_count": 146,
     "metadata": {},
     "output_type": "execute_result"
    }
   ],
   "source": [
    "st = 'hi hello how'\n",
    "dic = {}\n",
    "for val in st: dic[val] = dic.get(val,0) + 1\n",
    "dic"
   ]
  },
  {
   "cell_type": "code",
   "execution_count": 144,
   "id": "e81c6260",
   "metadata": {},
   "outputs": [
    {
     "data": {
      "text/plain": [
       "{'a': [100000, 2, 3], 'b': [4, 5, 6]}"
      ]
     },
     "execution_count": 144,
     "metadata": {},
     "output_type": "execute_result"
    }
   ],
   "source": [
    "dic"
   ]
  },
  {
   "cell_type": "code",
   "execution_count": 149,
   "id": "111ffb05",
   "metadata": {},
   "outputs": [
    {
     "name": "stdout",
     "output_type": "stream",
     "text": [
      "True\n",
      "In Finally\n"
     ]
    }
   ],
   "source": [
    "def my_function(x=0):\n",
    "    try:\n",
    "        if x:\n",
    "            print(\"True\")\n",
    "            return\n",
    "        else:\n",
    "            print(\"False\")\n",
    "            return\n",
    "    except Exception:\n",
    "        print(\"In Exception\")\n",
    "    finally:\n",
    "        print(\"In Finally\")\n",
    "        \n",
    "my_function(10)"
   ]
  },
  {
   "cell_type": "code",
   "execution_count": 26,
   "id": "9a35c3ec",
   "metadata": {},
   "outputs": [
    {
     "name": "stdout",
     "output_type": "stream",
     "text": [
      "3\n",
      "5.00\n"
     ]
    },
    {
     "data": {
      "text/plain": [
       "4"
      ]
     },
     "execution_count": 26,
     "metadata": {},
     "output_type": "execute_result"
    }
   ],
   "source": [
    "import math\n",
    "class Coordinate:\n",
    "    def __init__(self, x, y):\n",
    "        self.x, self.y = x, y\n",
    "    def add(self, other):\n",
    "        return Coordinate(self.x + other.x, self.y + other.y)\n",
    "    def distance(self, other):\n",
    "        return math.sqrt((self.x - other.x)**2 + (self.y - other.y)**2)\n",
    "\n",
    "a = Coordinate(1, 0)\n",
    "print(a.add(a).add(a).x)\n",
    "\n",
    "a = Coordinate(1, 0)\n",
    "a = a.add(a).add(a) #(3,0)\n",
    "b = Coordinate(0, 1)\n",
    "b = b.add(b)  #B = (0,2)\n",
    "b = b.add(b) # (0,4)\n",
    "\n",
    "c = a.add(b) #(3,4)\n",
    "\n",
    "print(f\"{a.distance(b):.2f}\")\n"
   ]
  },
  {
   "cell_type": "code",
   "execution_count": 63,
   "id": "15557219",
   "metadata": {},
   "outputs": [
    {
     "data": {
      "text/plain": [
       "({'b', 'c', 'e', 'k', 'n', 'r'}, {'!', 'a', 'b', 'c', 'e', 'k', 'n', 'r'})"
      ]
     },
     "execution_count": 63,
     "metadata": {},
     "output_type": "execute_result"
    }
   ],
   "source": [
    "z = set('bananna')\n",
    "t = set('cracker')\n",
    "t.symmetric_difference(z), t.union(b)"
   ]
  },
  {
   "cell_type": "code",
   "execution_count": 50,
   "id": "55e715b6",
   "metadata": {},
   "outputs": [
    {
     "data": {
      "text/plain": [
       "10"
      ]
     },
     "execution_count": 50,
     "metadata": {},
     "output_type": "execute_result"
    }
   ],
   "source": [
    "class Car:\n",
    "    def __init__(self, make, model):\n",
    "        self.make = make\n",
    "        self.model = model\n",
    "        \n",
    "    def addfeatures(self, **kwargs):\n",
    "        self.features = kwargs\n",
    "        \n",
    "class SportsCar(Car):\n",
    "    def __init__(self, make, model, cylinders=6):\n",
    "        super().__init__(make, model)\n",
    "        self.cylinders = cylinders\n",
    "        \n",
    "p = SportsCar('Porche', 911)\n",
    "p.addfeatures(convertable = True, top_mph = 10, mpg = 25)\n",
    "p.features['top_mph']"
   ]
  },
  {
   "cell_type": "code",
   "execution_count": 32,
   "id": "7e873c6d",
   "metadata": {},
   "outputs": [
    {
     "data": {
      "text/plain": [
       "([1, [2, ['a', 4], 5], 6], [1, [2, ['a', 4], 5], 6])"
      ]
     },
     "execution_count": 32,
     "metadata": {},
     "output_type": "execute_result"
    }
   ],
   "source": [
    "x = [1,[2, [3,4], 5], 6]\n",
    "z = x[:]\n",
    "x[1][1][0] = 'a'\n",
    "x, z"
   ]
  },
  {
   "cell_type": "code",
   "execution_count": 53,
   "id": "6e4fccc3",
   "metadata": {},
   "outputs": [
    {
     "data": {
      "text/plain": [
       "{'a': [1, 2, 3], 'b': ['7', [5, 6]]}"
      ]
     },
     "execution_count": 53,
     "metadata": {},
     "output_type": "execute_result"
    }
   ],
   "source": [
    "import copy\n",
    "y = {'a' : [1,2,3], 'b' : [4,[5,6]]}\n",
    "x = y.copy()\n",
    "x['b'][0] = '7'\n",
    "y\n"
   ]
  },
  {
   "cell_type": "code",
   "execution_count": 34,
   "id": "8efe97e8",
   "metadata": {},
   "outputs": [
    {
     "data": {
      "text/plain": [
       "False"
      ]
     },
     "execution_count": 34,
     "metadata": {},
     "output_type": "execute_result"
    }
   ],
   "source": [
    "y = {'a' : [1,2,3], 'b' : [4,[5,6]]}\n",
    "x = copy.deepcopy(y)\n",
    "x['b'][0] = '7'\n",
    "y == x"
   ]
  },
  {
   "cell_type": "code",
   "execution_count": null,
   "id": "1d769140",
   "metadata": {},
   "outputs": [],
   "source": [
    "x = [1,[2, [3,4], 5], 6]\n",
    "a = copy.deepcopy(x)\n",
    "a[1][2] = 'a'\n",
    "x[1][2] == a[1][2]"
   ]
  },
  {
   "cell_type": "code",
   "execution_count": 37,
   "id": "c9f67115",
   "metadata": {},
   "outputs": [
    {
     "data": {
      "text/plain": [
       "({'!', 'b', 'n', 'p', 'y'}, {'a'}, {'p', 'y'}, {'!', 'a', 'b', 'n', 'p', 'y'})"
      ]
     },
     "execution_count": 37,
     "metadata": {},
     "output_type": "execute_result"
    }
   ],
   "source": [
    "b = set('bananna!')\n",
    "p = set('papaya')\n",
    "p.symmetric_difference(b), p&b, p-b, p.union(b)"
   ]
  },
  {
   "cell_type": "code",
   "execution_count": 98,
   "id": "71dc6ab2",
   "metadata": {},
   "outputs": [
    {
     "name": "stdout",
     "output_type": "stream",
     "text": [
      "True\n"
     ]
    }
   ],
   "source": [
    "x = (2, 2, 3)\n",
    "y = (6, 2, 1)\n",
    "print(x < y)"
   ]
  },
  {
   "cell_type": "code",
   "execution_count": 6,
   "id": "65a62eff",
   "metadata": {},
   "outputs": [
    {
     "data": {
      "text/plain": [
       "[1, 3, 5]"
      ]
     },
     "execution_count": 6,
     "metadata": {},
     "output_type": "execute_result"
    }
   ],
   "source": [
    "data = [number for number in range(6) if number %2 != 0]\n",
    "data"
   ]
  },
  {
   "cell_type": "code",
   "execution_count": 72,
   "id": "9697da46",
   "metadata": {},
   "outputs": [
    {
     "name": "stdout",
     "output_type": "stream",
     "text": [
      "5\n",
      "4\n",
      "3\n",
      "2\n",
      "1\n"
     ]
    }
   ],
   "source": [
    "for val in range(5,0,-1):\n",
    "    print(val)"
   ]
  },
  {
   "cell_type": "code",
   "execution_count": 100,
   "id": "83296eae",
   "metadata": {},
   "outputs": [
    {
     "data": {
      "text/plain": [
       "['a', 2, 3, 'a', 2, 3, 'a', 2, 3, 'a', 2, 3, 'a', 2, 3]"
      ]
     },
     "execution_count": 100,
     "metadata": {},
     "output_type": "execute_result"
    }
   ],
   "source": [
    "numbers *5   "
   ]
  },
  {
   "cell_type": "code",
   "execution_count": null,
   "id": "8bb068a4",
   "metadata": {},
   "outputs": [],
   "source": []
  },
  {
   "cell_type": "code",
   "execution_count": 114,
   "id": "b7bdf302",
   "metadata": {},
   "outputs": [
    {
     "data": {
      "text/plain": [
       "['a', 2, 3, 4, 'a', 2, 3, 4, 'a', 2, 3, 4, 'a', 2, 3, 4, 'a', 2, 3, 4]"
      ]
     },
     "execution_count": 114,
     "metadata": {},
     "output_type": "execute_result"
    }
   ],
   "source": [
    "numbers = [1, 2, 3, 4]\n",
    "y = numbers\n",
    "y[0] = 'a'\n",
    "y, numbers\n",
    "numbers*5"
   ]
  },
  {
   "cell_type": "code",
   "execution_count": 84,
   "id": "e679381f",
   "metadata": {},
   "outputs": [
    {
     "data": {
      "text/plain": [
       "{'a': [100000, 2, 3], 'b': [4, 5, 6]}"
      ]
     },
     "execution_count": 84,
     "metadata": {},
     "output_type": "execute_result"
    }
   ],
   "source": [
    "dic = {'a': [1,2,3], 'b': [4,5,6]}\n",
    "dic1 = dic\n",
    "dic['a'][0] = 100000\n",
    "dic1"
   ]
  },
  {
   "cell_type": "code",
   "execution_count": 94,
   "id": "7f1d9615",
   "metadata": {},
   "outputs": [
    {
     "data": {
      "text/plain": [
       "{'S', 'a', 'd', 'n'}"
      ]
     },
     "execution_count": 94,
     "metadata": {},
     "output_type": "execute_result"
    }
   ],
   "source": [
    "z = set('Saaannd')\n",
    "z.add('a')\n",
    "z"
   ]
  },
  {
   "cell_type": "code",
   "execution_count": 99,
   "id": "e301d30e",
   "metadata": {},
   "outputs": [
    {
     "name": "stdout",
     "output_type": "stream",
     "text": [
      "Sleep\n",
      "Study\n",
      "Work\n"
     ]
    }
   ],
   "source": [
    "class Person:\n",
    "    def sleep(self):\n",
    "        print(\"Sleep\")\n",
    "class Student(Person):\n",
    "    def study(self):\n",
    "        print(\"Study\")\n",
    "        \n",
    "        \n",
    "class Employee(Person):\n",
    "    def work(self):\n",
    "        print(\"Work\")\n",
    "        \n",
    "        \n",
    "class TeachingAssistant(Student, Employee):\n",
    "    pass\n",
    "\n",
    "\n",
    "tom = TeachingAssistant()\n",
    "tom.sleep()\n",
    "tom.study()\n",
    "tom.work()"
   ]
  },
  {
   "cell_type": "code",
   "execution_count": 133,
   "id": "83d7be32",
   "metadata": {},
   "outputs": [
    {
     "data": {
      "text/plain": [
       "{'!', 'B', 'a', 'n'}"
      ]
     },
     "execution_count": 133,
     "metadata": {},
     "output_type": "execute_result"
    }
   ],
   "source": [
    "z = set('Bananna!')\n",
    "z"
   ]
  },
  {
   "cell_type": "code",
   "execution_count": 132,
   "id": "775a916e",
   "metadata": {},
   "outputs": [
    {
     "data": {
      "text/plain": [
       "1"
      ]
     },
     "execution_count": 132,
     "metadata": {},
     "output_type": "execute_result"
    }
   ],
   "source": [
    "total = 0\n",
    "def add(value = 0, total = 0):\n",
    "    total += value\n",
    "    return total\n",
    "    \n",
    "add(1, total)\n",
    "\n",
    "#print(total)"
   ]
  },
  {
   "cell_type": "code",
   "execution_count": 117,
   "id": "282f4f40",
   "metadata": {},
   "outputs": [
    {
     "name": "stdout",
     "output_type": "stream",
     "text": [
      "0\n"
     ]
    }
   ],
   "source": [
    "def add(value = 0, total = 0):\n",
    "    total = 0\n",
    "    total += value\n",
    "    \n",
    "    \n",
    "add(1, total)\n",
    "#add(2, total)\n",
    "#add(3, total)\n",
    "print(total)"
   ]
  },
  {
   "cell_type": "code",
   "execution_count": 199,
   "id": "1a6d8e88",
   "metadata": {},
   "outputs": [
    {
     "data": {
      "text/plain": [
       "[1, 3, 5, 7, 9, 11, 13]"
      ]
     },
     "execution_count": 199,
     "metadata": {},
     "output_type": "execute_result"
    }
   ],
   "source": [
    "def Fibonacci(n):\n",
    "    n = list(range(n+1))\n",
    "    cnt=-1\n",
    "    result_ls = []\n",
    "    for val in range(len(n)):\n",
    "        cnt+=1\n",
    "        if cnt > 1 and cnt < len(n)+1:\n",
    "            result_ls.append(sum(n[cnt-2:cnt]))\n",
    "    result_ls.append(sum(n[-2:]))\n",
    "    return result_ls\n",
    "\n",
    "Fibonacci(7)"
   ]
  },
  {
   "cell_type": "code",
   "execution_count": 197,
   "id": "fd1ea193",
   "metadata": {},
   "outputs": [
    {
     "data": {
      "text/plain": [
       "[0, 1, 2, 3, 4, 5, 6, 7]"
      ]
     },
     "execution_count": 197,
     "metadata": {},
     "output_type": "execute_result"
    }
   ],
   "source": [
    "n= 7 \n",
    "list(range(n+1))"
   ]
  }
 ],
 "metadata": {
  "kernelspec": {
   "display_name": "Python 3 (ipykernel)",
   "language": "python",
   "name": "python3"
  },
  "language_info": {
   "codemirror_mode": {
    "name": "ipython",
    "version": 3
   },
   "file_extension": ".py",
   "mimetype": "text/x-python",
   "name": "python",
   "nbconvert_exporter": "python",
   "pygments_lexer": "ipython3",
   "version": "3.9.6"
  }
 },
 "nbformat": 4,
 "nbformat_minor": 5
}
