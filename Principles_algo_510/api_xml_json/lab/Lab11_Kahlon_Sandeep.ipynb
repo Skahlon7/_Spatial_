{
 "cells": [
  {
   "cell_type": "markdown",
   "metadata": {
    "id": "qyrQSQXSWyGa"
   },
   "source": [
    "**<h3>DSCI 510: Principles of Programming for Data Science </h3>**\n",
    "<h4>Spring 2023 – Assignment 11</h4>\n",
    "\n",
    "Instructor: <a href=\"mailto:ambite@isi.edu\">Prof. Jose Luis Ambite </a>                       \t\t\t\t                           \n",
    "Course Producers: <a href=\"mailto:svara@usc.edu\">Samuel Vara</a>, <a href=\"mailto:svparakh@usc.edu\">Sanjana Parakh</a>, <a href=\"mailto:swarnita@usc.edu\">Swarnita Venkatraman</a>, <a href=\"mailto:gursimar@usc.edu\">Gursimar Kaur</a>\n",
    "</h2>"
   ]
  },
  {
   "cell_type": "markdown",
   "metadata": {
    "id": "Qt_4uDJ5XEQZ"
   },
   "source": [
    "**Guidelines for the Assignment:**\n",
    "\n",
    "- You have to complete the assignments individually. If you are having trouble completing the assignment do let the TAs know/post on Piazza.\n",
    "\n",
    "- Please don't copy code (either partially/fully) from your classmates. Plagiarism of any form will result in a 0 and you will be reported to SJACS (https://sjacs.usc.edu/students/academic-integrity/).\n",
    "\n",
    "- You have to fill the code in this notebook and upload it for submission. While doing this, make sure all supporting files that you download from D2L are in the same directory as this notebook.  \n",
    "\n",
    "- File Naming Convention : Lab11_LastName_FirstName.ipynb\n",
    "\n",
    "- Don't change existing methods (if any, unless otherwise mentioned in the instructions)\n",
    "\n",
    "- You are encouraged to look up resources online like python docs and stackoverflow. Look up the topics and not the questions themselves. \n",
    "\n",
    "- Your last submission before the deadline will be counted towards your grade. You can submit any number of times before the deadline.\n",
    "\n",
    "- You need to take input from file/console only if it is mentioned in the question. If not we need just the logic/implementation of your function.\n",
    "\n",
    "- Scores are capped at 10 points including the Bonus problem. For Example: Even if you get a score of 12/10, your score is capped at 10.\n",
    "\n",
    "- Bonus score is counted only if the first 2 questions are attempted. Don't attempt the bonus question if you haven't attempted the first 2.\n",
    "\n",
    "----------------------------------------------"
   ]
  },
  {
   "cell_type": "markdown",
   "metadata": {
    "id": "sP6kKpY4YOXs"
   },
   "source": [
    "### **Question 1 - JSON[5 points]**\n",
    "\n",
    "You are given a JSON file \"list-of-real-usa-addresses.json\". Inside the function find_maximum_state_entries() load the JSON data from the json file into a dictionary and iterate through it to find:\n",
    " \n",
    "\n",
    "1.   the state with the maximum number of entries in the file\n",
    "2.   the total number of unique cities in the file\n",
    "\n",
    "Store these details in a new dictionary called \"insights_data\" with the keys: \n",
    "\n",
    "\n",
    "1.   'state' (whose value would be the state you found above with maximum entries) \n",
    "2.   'state_count' (whose value would be the the number of entries you found above for the state with maximum entries)\n",
    "3.  'unique_cities_count' (whose value would be the total number of unique cities you found above)\n",
    "\n",
    "You have to then write the \"insights_data\" dictionary to a json file titled \"insights_json.json\" and submit that file along with your code.\n",
    "\n",
    "\n",
    "\n",
    "```\n",
    "Example of the expected contents of the insights_json.json file:\n",
    "\n",
    "{\"state\": \"AL\", \"state_count\": 101, \"unique_cities_count\": 213}\n",
    "```\n",
    "\n",
    "**Hints:**\n",
    "\n",
    "*  In basic dictionary definition with dict() if you try to assign a value to a key that is not present already, it will raise a KeyError.\n",
    "\n",
    "*   Using defaultdict(int) to define your dictionary comes with the benefit of not having to check if the key is already present in the dictionary before assigning it a value due to the \"default_factory\" parameter which in this case is int.\n",
    "\n",
    "\n",
    "*   When the int class is passed as the default_factory argument, then a defaultdict is created with default value as zero.\n",
    "\n",
    "\n",
    "\n",
    "*   To read more on this check out this link - https://www.geeksforgeeks.org/defaultdict-in-python/  \n",
    "\n",
    "\n",
    "\n",
    "\n",
    "\n",
    "\n",
    "\n",
    "\n",
    "Some starter code has been provided for your reference.\n"
   ]
  },
  {
   "cell_type": "code",
   "execution_count": 330,
   "metadata": {
    "id": "6xIpLjaGAOdj"
   },
   "outputs": [],
   "source": [
    "import json\n",
    "from collections import defaultdict\n",
    "\n",
    "def find_insights(file):\n",
    "    insights_data=defaultdict(int)\n",
    "  #write your code below\n",
    "    dic, dic_city = {}, {}\n",
    "    data = '/Users/sandeepk/Desktop/DSCI_510/api_xml_json/lab/list_of_real_usa_addresses.json'\n",
    "    with open(data, 'r') as f: data = json.load(f)\n",
    "    for idx in range(len(data)):\n",
    "        dic[data[idx]['state']] = dic.get(data[idx]['state'], 0 )+1\n",
    "        dic_city[data[idx]['city']] = dic_city.get(data[idx]['city'], 0 )+1\n",
    "    insights_data['state']= [(k,v) for k, v in dic.items() if v == max(dic.values())][0][0]\n",
    "    insights_data['state_count']= [(k,v) for k, v in dic.items() if v == max(dic.values())][0][1]\n",
    "    insights_data['unique_cities_count']= len(dic_city.keys())\n",
    "    \n",
    "    with open('insights_json.json', 'w') as outfile:\n",
    "        json.dump(insights_data, outfile)\n",
    "    \n",
    "    return dict(insights_data)\n",
    "    "
   ]
  },
  {
   "cell_type": "code",
   "execution_count": 331,
   "metadata": {
    "id": "nrTOhEUoEa-O"
   },
   "outputs": [
    {
     "data": {
      "text/plain": [
       "{'state': 'AL', 'state_count': 101, 'unique_cities_count': 213}"
      ]
     },
     "execution_count": 331,
     "metadata": {},
     "output_type": "execute_result"
    }
   ],
   "source": [
    "find_insights('list_of_real_usa_addresses.json')"
   ]
  },
  {
   "cell_type": "markdown",
   "metadata": {
    "id": "U5TOtM0AEwwp"
   },
   "source": [
    "### **Question 2 - XML[5 points]**\n",
    "\n",
    "The below data is a small summary of 5 breakfast items, their price, description, calories and best paired with items information. You have to parse the XML data listed below into an XML tree and write xpath queries to answer each of the questions below using the lxml library."
   ]
  },
  {
   "cell_type": "code",
   "execution_count": 332,
   "metadata": {
    "id": "SVjGqWvTEihR"
   },
   "outputs": [
    {
     "data": {
      "text/plain": [
       "<Element breakfast_menu at 0x7fcdbbd35980>"
      ]
     },
     "execution_count": 332,
     "metadata": {},
     "output_type": "execute_result"
    }
   ],
   "source": [
    "from lxml import etree\n",
    "\n",
    "data='''<?xml version=\"1.0\"?>\n",
    "<breakfast_menu>\n",
    "  <food name=\"Belgian Waffles\">\n",
    "    <price>5.95</price>\n",
    "    <description>Two of our famous Belgian Waffles with plenty of real maple syrup</description>\n",
    "    <calories>650</calories>\n",
    "    <bestpairedwith name=\"Expresso\"/>\n",
    "    <bestpairedwith name=\"Eggs\"/>\n",
    "  </food>\n",
    "  <food name=\"Strawberry Belgian Waffles\">\n",
    "    <price>7.95</price>\n",
    "    <description>Light Belgian waffles covered with strawberries and whipped cream</description>\n",
    "    <calories>900</calories>\n",
    "    <bestpairedwith name=\"Latte\"/>\n",
    "  </food>\n",
    "  <food name=\"Berry-Berry Belgian Waffles\">\n",
    "    <price>8.95</price>\n",
    "    <description>Light Belgian waffles covered with an assortment of fresh berries and whipped cream</description>\n",
    "    <calories>900</calories>\n",
    "    <bestpairedwith name=\"Expresso\"/>\n",
    "    <bestpairedwith name=\"Eggs\"/>\n",
    "  </food>\n",
    "  <food name=\"French Toast\">\n",
    "    <price>4.50</price>\n",
    "    <description>Thick slices made from our homemade sourdough bread</description>\n",
    "    <calories>600</calories>\n",
    "    <bestpairedwith name=\"Orange Juice\"/>\n",
    "    <bestpairedwith name=\"Eggs\"/>\n",
    "  </food>\n",
    "  <food name=\"Homestyle Breakfast\">\n",
    "    <price>6.95</price>\n",
    "    <description>Two eggs, bacon or sausage, toast, and our ever-popular hash browns</description>\n",
    "    <calories>950</calories>\n",
    "    <bestpairedwith name=\"Eggs\"/>\n",
    "  </food>\n",
    "</breakfast_menu>'''\n",
    "\n",
    "#write your code below\n",
    "food_data = etree.XML(data)\n",
    "food_data"
   ]
  },
  {
   "cell_type": "markdown",
   "metadata": {
    "id": "tWEcgEsgGugU"
   },
   "source": [
    "Question 1: Write an xpath query to find the price of French Toast. The answer should be just the numerical value string, not a list."
   ]
  },
  {
   "cell_type": "code",
   "execution_count": 333,
   "metadata": {
    "id": "dqIRxp3zGqr-"
   },
   "outputs": [
    {
     "data": {
      "text/plain": [
       "'4.50'"
      ]
     },
     "execution_count": 333,
     "metadata": {},
     "output_type": "execute_result"
    }
   ],
   "source": [
    "# write xpath query here\n",
    "food_data.xpath('food[@name=\"French Toast\"]/price/text()')[0]"
   ]
  },
  {
   "cell_type": "markdown",
   "metadata": {
    "id": "_ep0x35RG8CD"
   },
   "source": [
    "Question 2: Write an xpath query to find the list of food items that have price> 6. The answer should be the name of food items in a **list**."
   ]
  },
  {
   "cell_type": "code",
   "execution_count": 337,
   "metadata": {
    "id": "Z5854iBZG5AN"
   },
   "outputs": [
    {
     "data": {
      "text/plain": [
       "['Strawberry Belgian Waffles',\n",
       " 'Berry-Berry Belgian Waffles',\n",
       " 'Homestyle Breakfast']"
      ]
     },
     "execution_count": 337,
     "metadata": {},
     "output_type": "execute_result"
    }
   ],
   "source": [
    "# write xpath query here \n",
    "food_data.xpath('food[price>6]/@name')"
   ]
  },
  {
   "cell_type": "markdown",
   "metadata": {
    "id": "yOTQU6d8HfQG"
   },
   "source": [
    "Question 3: Write an xpath query to find the list of food items best paired with Expresso. The answer should be the name of food items in a **list**."
   ]
  },
  {
   "cell_type": "code",
   "execution_count": 340,
   "metadata": {
    "id": "ImYCl8_HHbIH"
   },
   "outputs": [
    {
     "data": {
      "text/plain": [
       "['Belgian Waffles', 'Berry-Berry Belgian Waffles']"
      ]
     },
     "execution_count": 340,
     "metadata": {},
     "output_type": "execute_result"
    }
   ],
   "source": [
    "# write xpath query here\n",
    "food_data.xpath('food[bestpairedwith/@name=\"Expresso\"]/@name')"
   ]
  },
  {
   "cell_type": "markdown",
   "metadata": {
    "id": "piDTs3_KH6g-"
   },
   "source": [
    "Question 4: Write an xpath query to find the list of food items that have calories <= 700. The answer should be the name of food items in a **list**."
   ]
  },
  {
   "cell_type": "code",
   "execution_count": 342,
   "metadata": {
    "id": "ndAKBL_LH2Rd"
   },
   "outputs": [
    {
     "data": {
      "text/plain": [
       "['Belgian Waffles', 'French Toast']"
      ]
     },
     "execution_count": 342,
     "metadata": {},
     "output_type": "execute_result"
    }
   ],
   "source": [
    "# write xpath query here\n",
    "food_data.xpath('food[calories<=700]/@name')"
   ]
  },
  {
   "cell_type": "markdown",
   "metadata": {
    "id": "LkQ0q2NzIX63"
   },
   "source": [
    "### **Bonus Question - XML and APIs[3 points]**\n",
    "\n",
    "To complete this question, you need the access key from the opencage website. To obtain that the procedure is:\n",
    "\n",
    "\n",
    "1.   Open https://opencagedata.com/api\n",
    "2.   Click on sign up for your free api key.\n",
    "3.   Create a account and use the access key that you get from there for this question.\n",
    "\n",
    "You are given a xml_file 'city.xml'. Parse the file, find all the cities in it and append it to a list. \n",
    "\n",
    "You have to get the latitude and longitude for the cities in that list. Use the opencagedata api to do geocoding. Give the city name as the input and you will get a json response with lat and long information in it. Return a list of tuples(each element in format (lat, long)). \n",
    "\n",
    "\n",
    "\n",
    "```\n",
    "Example:\n",
    "\n",
    "cities = ['Los Angeles', 'Paris', 'New York', 'Amherst', 'Noida']\n",
    "\n",
    "Output from the function: \n",
    "[('Los Angeles, California, United States of America',\n",
    "  (34.0536909, -118.242766)),\n",
    " ('Paris, Ile-de-France, France', (48.8588897, 2.320041)),\n",
    " ('New York, New York, United States of America', (40.7127281, -74.0060152)),\n",
    " ('Amherst, Massachusetts, United States of America',\n",
    "  (42.3731948, -72.5198761)),\n",
    " ('Noida, Gautam Buddha Nagar, India', (28.5707841, 77.3271074))]\n",
    "```\n",
    "\n",
    "**Hints:**\n",
    "\n",
    "It seems that opencagedata returns the most popular result first for a certain query. Even when there are many matches for 'Los Angeles', the first one is the one you expect. So there is no need to make more complex queries (like 'Los Angeles, CA'), you can directly use 'Los Angeles' from the cities list."
   ]
  },
  {
   "cell_type": "code",
   "execution_count": 353,
   "metadata": {
    "id": "NtEbs6bOIRID"
   },
   "outputs": [],
   "source": [
    "import xml.etree.ElementTree as ET\n",
    "import requests\n",
    "import json\n",
    "\n",
    "def cities_with_latlong(file):  \n",
    "#write your code below\n",
    "    city_list = []\n",
    "    lat_long = []\n",
    "    tree = ET.parse('city.xml')\n",
    "    root = tree.getroot()\n",
    "    cities = []\n",
    "    for val in root.iter('name'):\n",
    "        city_list.append(val.text.strip())\n",
    "\n",
    "    api_key = '98ac04da75634ee7a5320cf342b0b58b'\n",
    "    for city in city_list:\n",
    "        response = requests.get(f'https://api.opencagedata.com/geocode/v1/json?q={city}&key={api_key}')\n",
    "        da = response.json()\n",
    "        lat_long.append(((da['results'][0]['formatted']), ((da['results'][0]['geometry']['lat']),\\\n",
    "               da['results'][0]['geometry']['lng'])))\n",
    "\n",
    "    return lat_long"
   ]
  },
  {
   "cell_type": "code",
   "execution_count": 354,
   "metadata": {
    "id": "7YuBi4luIm3W"
   },
   "outputs": [
    {
     "data": {
      "text/plain": [
       "[('Los Angeles, California, United States of America',\n",
       "  (34.0536909, -118.242766)),\n",
       " ('Paris, Ile-de-France, France', (48.8588897, 2.320041)),\n",
       " ('New York, New York, United States of America', (40.7127281, -74.0060152)),\n",
       " ('Amherst, Massachusetts, United States of America',\n",
       "  (42.3731948, -72.5198761)),\n",
       " ('Noida, Gautam Buddha Nagar, India', (28.5707841, 77.3271074))]"
      ]
     },
     "execution_count": 354,
     "metadata": {},
     "output_type": "execute_result"
    }
   ],
   "source": [
    "cities_with_latlong('city.xml')"
   ]
  }
 ],
 "metadata": {
  "colab": {
   "authorship_tag": "ABX9TyMQT+x0Zqcdl1loApcvkmhW",
   "provenance": []
  },
  "kernelspec": {
   "display_name": "Python 3 (ipykernel)",
   "language": "python",
   "name": "python3"
  },
  "language_info": {
   "codemirror_mode": {
    "name": "ipython",
    "version": 3
   },
   "file_extension": ".py",
   "mimetype": "text/x-python",
   "name": "python",
   "nbconvert_exporter": "python",
   "pygments_lexer": "ipython3",
   "version": "3.9.6"
  }
 },
 "nbformat": 4,
 "nbformat_minor": 1
}
