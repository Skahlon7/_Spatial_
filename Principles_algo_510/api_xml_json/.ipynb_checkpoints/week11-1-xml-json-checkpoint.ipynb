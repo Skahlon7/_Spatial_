{
 "cells": [
  {
   "cell_type": "markdown",
   "metadata": {},
   "source": [
    "# BeautifulSoup"
   ]
  },
  {
   "cell_type": "markdown",
   "metadata": {},
   "source": [
    "Enter – http://www.dr-chuck.com/page1.htm or another web page"
   ]
  },
  {
   "cell_type": "code",
   "execution_count": null,
   "metadata": {},
   "outputs": [],
   "source": [
    "import urllib.request, urllib.parse, urllib.error\n",
    "from bs4 import BeautifulSoup\n",
    "\n",
    "url = input('Enter - ')\n",
    "html = urllib.request.urlopen(url).read()\n",
    "soup = BeautifulSoup(html, 'html.parser')\n",
    "\n",
    "# Retrieve all of the anchor tags\n",
    "tags = soup('a')\n",
    "for tag in tags:\n",
    "    print(tag.get('href', None))"
   ]
  },
  {
   "cell_type": "markdown",
   "metadata": {},
   "source": [
    "You can parse XML with BeautifulSoup"
   ]
  },
  {
   "cell_type": "code",
   "execution_count": null,
   "metadata": {},
   "outputs": [],
   "source": [
    "data = ''' \n",
    "<person>\n",
    "  <name> Chuck </name> \n",
    "  <phone type=\"intl\"> +1 734 303 4456 </phone>\n",
    "  <email hide=\"yes\" />\n",
    "</person>'''\n",
    "\n",
    "tree = BeautifulSoup(data, 'xml') ## or lxml\n",
    "phone = tree.find('phone')\n",
    "phone_type = phone.attrs.get('type')\n",
    "\n",
    "print(f'{phone.string.strip()} is an {phone_type} number')"
   ]
  },
  {
   "cell_type": "markdown",
   "metadata": {},
   "source": [
    "but there are better options"
   ]
  },
  {
   "cell_type": "markdown",
   "metadata": {},
   "source": [
    "# XML"
   ]
  },
  {
   "cell_type": "markdown",
   "metadata": {},
   "source": [
    "## xml.etree.ElementTree\n",
    "\n",
    "'fromstring' converts the string representation of the XML into a “tree” of XML nodes. \n",
    "\n",
    "When the XML is in a tree, we have a series of methods we can call to extract portions of data from the XML.\n",
    "\n",
    "The 'find' function searches through the XML tree and retrieves a node that matches the specified tag. Each node can have some text, some attributes (like hide), and some “child” nodes. Each node can be the top of a tree of nodes."
   ]
  },
  {
   "cell_type": "code",
   "execution_count": null,
   "metadata": {},
   "outputs": [],
   "source": [
    "import xml.etree.ElementTree as ET  "
   ]
  },
  {
   "cell_type": "code",
   "execution_count": null,
   "metadata": {},
   "outputs": [],
   "source": [
    "data = ''' \n",
    "<person>\n",
    "  <name> Chuck </name> \n",
    "  <phone type=\"intl\"> +1 734 303 4456 </phone>\n",
    "  <email hide=\"yes\" />\n",
    "</person>'''\n",
    "\n",
    "tree = ET.fromstring(data) # parse the XML\n",
    "print(tree)\n",
    "print()\n",
    "print('Name:', tree.find('name').text)\n",
    "print('Attr:', tree.find('email').get('hide'))\n",
    "print()\n",
    "print(ET.tostring(tree)) # get the string representation of the XML Tree"
   ]
  },
  {
   "cell_type": "code",
   "execution_count": null,
   "metadata": {
    "scrolled": true
   },
   "outputs": [],
   "source": [
    "tree.find('name').text"
   ]
  },
  {
   "cell_type": "code",
   "execution_count": null,
   "metadata": {},
   "outputs": [],
   "source": [
    "tree.find('name').text.strip()"
   ]
  },
  {
   "cell_type": "code",
   "execution_count": null,
   "metadata": {},
   "outputs": [],
   "source": [
    "input_xml = ''' \n",
    "<stuff>\n",
    "    <users>\n",
    "        <user x=\"2\">\n",
    "            <id>001</id>\n",
    "            <name>Chuck</name> \n",
    "        </user>\n",
    "        <user x=\"7\"> \n",
    "            <id>009</id>\n",
    "            <name>Brent</name> \n",
    "        </user>\n",
    "    </users> \n",
    "</stuff>'''\n",
    "\n",
    "\n",
    "stuff = ET.fromstring(input_xml)   # parse the XML, variable does not need to be called stuff\n",
    "lst = stuff.findall('users/user')  # search for path expression\n",
    "print('User count:', len(lst))\n",
    "\n",
    "for item in lst:\n",
    "    print(item)\n",
    "    print('Name:', item.find('name').text) \n",
    "    print('Id:', item.find('id').text )\n",
    "    print('Attribute:', item.get('x'))"
   ]
  },
  {
   "cell_type": "code",
   "execution_count": null,
   "metadata": {
    "scrolled": true
   },
   "outputs": [],
   "source": [
    "bookstore = '''\n",
    "<Bookstore> \n",
    "  <Book ID=\"101\">\n",
    "     <Author>John Doe</Author>\n",
    "     <Title>Introduction to XML</Title>\n",
    "     <Date>12 June 2001</Date>\n",
    "     <ISBN>121232323</ISBN>\n",
    "     <Publisher>XYZ</Publisher>\n",
    "     <Price>45</Price>\n",
    "  </Book>\n",
    "  <Book ID=\"102\">\n",
    "     <Author>Jane Doe</Author> \n",
    "     <Title language=\"en\">Introduction to XSL</Title>\n",
    "     <Date>12 June 2001</Date>\n",
    "     <ISBN>12323573</ISBN>\n",
    "     <Publisher>ABC</Publisher>\n",
    "     <Price>25</Price>\n",
    "  </Book>\n",
    "</Bookstore>\n",
    "'''\n",
    "\n",
    "bks = ET.fromstring(bookstore)   # parse the XML\n",
    "\n",
    "print(bks.findall('Book[2]/Author'))\n",
    "print(bks.find('Book[2]/Author').text)"
   ]
  },
  {
   "cell_type": "code",
   "execution_count": null,
   "metadata": {},
   "outputs": [],
   "source": [
    "bks.find(\"Book[@ID='102']/Author\").text"
   ]
  },
  {
   "cell_type": "code",
   "execution_count": null,
   "metadata": {
    "scrolled": true
   },
   "outputs": [],
   "source": [
    "bks.find(\"Book[Publisher='ABC']/Author\").text"
   ]
  },
  {
   "cell_type": "code",
   "execution_count": null,
   "metadata": {},
   "outputs": [],
   "source": [
    "bks.find(\"Book[Price='25']/Author\").text"
   ]
  },
  {
   "cell_type": "code",
   "execution_count": null,
   "metadata": {},
   "outputs": [],
   "source": [
    "# Unfortunately, ElemenTree does not support arithmetic comparisons\n",
    "bks.find(\"Book[Price>30]/Author\").text"
   ]
  },
  {
   "cell_type": "markdown",
   "metadata": {},
   "source": [
    "# lxml\n",
    "The lxml XML toolkit is a Pythonic binding for the C libraries libxml2 and libxslt:\n",
    "https://lxml.de/tutorial.html\n",
    "\n",
    "Better support for XPath queries: \n",
    "https://lxml.de/xpathxslt.html"
   ]
  },
  {
   "cell_type": "code",
   "execution_count": null,
   "metadata": {},
   "outputs": [],
   "source": [
    "from lxml import etree"
   ]
  },
  {
   "cell_type": "code",
   "execution_count": null,
   "metadata": {},
   "outputs": [],
   "source": [
    "bookstore = '''\n",
    "<Bookstore> \n",
    "  <Book ID=\"101\">\n",
    "     <Author>John Doe</Author>\n",
    "     <Title>Introduction to XML</Title>\n",
    "     <Date>12 June 2001</Date>\n",
    "     <ISBN>121232323</ISBN>\n",
    "     <Publisher>XYZ</Publisher>\n",
    "     <Price>45</Price>\n",
    "  </Book>\n",
    "  <Book ID=\"102\">\n",
    "     <Author> Jane Doe </Author> \n",
    "     <Title language=\"en\">Introduction to XSL</Title>\n",
    "     <Date>12 June 2001</Date>\n",
    "     <ISBN>12323573</ISBN>\n",
    "     <Publisher>ABC</Publisher>\n",
    "     <Price>25</Price>\n",
    "  </Book>\n",
    "</Bookstore>\n",
    "'''\n",
    "\n",
    "tree = etree.XML(bookstore)\n",
    "tree"
   ]
  },
  {
   "cell_type": "code",
   "execution_count": null,
   "metadata": {},
   "outputs": [],
   "source": [
    "tree.xpath(\"Book[Publisher='ABC']/Author\")"
   ]
  },
  {
   "cell_type": "code",
   "execution_count": null,
   "metadata": {
    "scrolled": true
   },
   "outputs": [],
   "source": [
    "tree.xpath(\"Book[Price='25']/Author/text()\")"
   ]
  },
  {
   "cell_type": "code",
   "execution_count": null,
   "metadata": {},
   "outputs": [],
   "source": [
    "tree.xpath(\"Book[Author='Jane Doe']\")"
   ]
  },
  {
   "cell_type": "code",
   "execution_count": null,
   "metadata": {},
   "outputs": [],
   "source": [
    "tree.xpath(\"Book[Author=' Jane Doe ']\")"
   ]
  },
  {
   "cell_type": "code",
   "execution_count": null,
   "metadata": {},
   "outputs": [],
   "source": [
    "tree.xpath(\"Book[Price>30]/Author/text()\")"
   ]
  },
  {
   "cell_type": "code",
   "execution_count": null,
   "metadata": {},
   "outputs": [],
   "source": [
    "tree.xpath(\"Book[Price>10]/Author\")"
   ]
  },
  {
   "cell_type": "code",
   "execution_count": null,
   "metadata": {},
   "outputs": [],
   "source": [
    "tree.xpath(\"Book[@ID='102']/Author/text()\")"
   ]
  },
  {
   "cell_type": "code",
   "execution_count": null,
   "metadata": {
    "scrolled": true
   },
   "outputs": [],
   "source": [
    "tree.xpath(\"Book[@ID > 100]/Author/text()\")"
   ]
  },
  {
   "cell_type": "code",
   "execution_count": null,
   "metadata": {
    "scrolled": true
   },
   "outputs": [],
   "source": [
    "tree.xpath(\"Book[Price>10]/@ID\")"
   ]
  },
  {
   "cell_type": "code",
   "execution_count": null,
   "metadata": {
    "scrolled": false
   },
   "outputs": [],
   "source": [
    "etree.tostring(tree)"
   ]
  },
  {
   "cell_type": "code",
   "execution_count": null,
   "metadata": {},
   "outputs": [],
   "source": [
    "print(etree.tostring(tree).decode() )"
   ]
  },
  {
   "cell_type": "markdown",
   "metadata": {},
   "source": [
    "Go back to slides"
   ]
  },
  {
   "cell_type": "markdown",
   "metadata": {},
   "source": [
    "# JSON"
   ]
  },
  {
   "cell_type": "code",
   "execution_count": null,
   "metadata": {},
   "outputs": [],
   "source": [
    "# data = ''' \n",
    "# <person>\n",
    "#   <name> Chuck </name> \n",
    "#   <phone type=\"intl\"> +1 734 303 4456 </phone>\n",
    "#   <email hide=\"yes\" />\n",
    "# </person>'''\n",
    "\n",
    "import json\n",
    "data = '''{\n",
    "  \"name\" : \"Chuck\",\n",
    "  \"phone\" : {\n",
    "    \"type\" : \"intl\",\n",
    "    \"number\" : \"+1 734 303 4456\"\n",
    "   },\n",
    "   \"email\" : {\n",
    "     \"hide\" : \"yes\"\n",
    "   } \n",
    "}'''\n",
    "\n",
    "info = json.loads(data)                # parse the JSON input\n",
    "print(info)\n",
    "print('Name:', info[\"name\"])           # like a dictionary\n",
    "print('Hide:', info[\"email\"][\"hide\"])  # like a dictionary"
   ]
  },
  {
   "cell_type": "code",
   "execution_count": null,
   "metadata": {},
   "outputs": [],
   "source": [
    "info"
   ]
  },
  {
   "cell_type": "code",
   "execution_count": null,
   "metadata": {},
   "outputs": [],
   "source": [
    "input_json = '''[\n",
    "  { \"id\" : \"001\",\n",
    "    \"x\" : \"2\",\n",
    "    \"name\" : \"Chuck\"\n",
    "  },\n",
    "  { \"id\" : \"009\",\n",
    "    \"x\" : \"7\",\n",
    "    \"name\" : \"Chuck\"\n",
    "  }\n",
    "]'''"
   ]
  },
  {
   "cell_type": "code",
   "execution_count": null,
   "metadata": {},
   "outputs": [],
   "source": [
    "info = json.loads(input_json)\n",
    "print('User count:', len(info))            # it's a just a list\n",
    "print('Type', type(info))\n",
    "print('Type of elements', type(info[0]))   # ... of dictionaries"
   ]
  },
  {
   "cell_type": "code",
   "execution_count": null,
   "metadata": {},
   "outputs": [],
   "source": [
    "info = json.loads(input_json) # Gives us a Python list, so we can iterate on with 'for'\n",
    "print('User count:', len(info))\n",
    "for item in info:\n",
    "    print('Name', item['name'])\n",
    "    print('Id', item['id'])\n",
    "    print('Attribute', item['x'])"
   ]
  },
  {
   "cell_type": "code",
   "execution_count": null,
   "metadata": {},
   "outputs": [],
   "source": []
  }
 ],
 "metadata": {
  "kernelspec": {
   "display_name": "Python 3 (ipykernel)",
   "language": "python",
   "name": "python3"
  },
  "language_info": {
   "codemirror_mode": {
    "name": "ipython",
    "version": 3
   },
   "file_extension": ".py",
   "mimetype": "text/x-python",
   "name": "python",
   "nbconvert_exporter": "python",
   "pygments_lexer": "ipython3",
   "version": "3.9.6"
  }
 },
 "nbformat": 4,
 "nbformat_minor": 2
}
