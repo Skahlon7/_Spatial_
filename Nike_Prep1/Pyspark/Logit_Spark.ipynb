{
  "nbformat": 4,
  "nbformat_minor": 0,
  "metadata": {
    "colab": {
      "provenance": []
    },
    "kernelspec": {
      "name": "python3",
      "display_name": "Python 3"
    },
    "language_info": {
      "name": "python"
    }
  },
  "cells": [
    {
      "cell_type": "code",
      "execution_count": 4,
      "metadata": {
        "id": "cb0J38MBpEqD"
      },
      "outputs": [],
      "source": [
        "import pandas as pd\n",
        "import numpy as np\n",
        "import datetime \n",
        "import torch\n",
        "from datetime import date, datetime, timedelta\n",
        "import pyspark\n",
        "from pyspark.sql import SparkSession\n",
        "from pyspark.sql.functions import col, mean, stddev, variance, when\n",
        "import pyspark.sql.functions as F\n",
        "from pyspark.ml.regression import LinearRegression\n",
        "from pyspark.ml.classification import LogisticRegression\n",
        "from pyspark.ml.evaluation import RegressionEvaluator, MulticlassClassificationEvaluator, BinaryClassificationEvaluator\n",
        "from pyspark.mllib.evaluation import BinaryClassificationMetrics\n",
        "from pyspark.ml.tuning import ParamGridBuilder, CrossValidator\n",
        "from pyspark.ml.feature import StringIndexer, OneHotEncoder, StandardScaler, MinMaxScaler,  VectorAssembler\n",
        "from pyspark.sql.types import *\n",
        "from pyspark.ml import Pipeline"
      ]
    },
    {
      "cell_type": "code",
      "source": [
        "!pip install pyspark"
      ],
      "metadata": {
        "colab": {
          "base_uri": "https://localhost:8080/"
        },
        "id": "HO6suyvu32Md",
        "outputId": "05e33eb1-7186-4ce1-b6b9-68c1ef941404"
      },
      "execution_count": 2,
      "outputs": [
        {
          "output_type": "stream",
          "name": "stdout",
          "text": [
            "Looking in indexes: https://pypi.org/simple, https://us-python.pkg.dev/colab-wheels/public/simple/\n",
            "Collecting pyspark\n",
            "  Downloading pyspark-3.4.0.tar.gz (310.8 MB)\n",
            "\u001b[2K     \u001b[90m━━━━━━━━━━━━━━━━━━━━━━━━━━━━━━━━━━━━━━━\u001b[0m \u001b[32m310.8/310.8 MB\u001b[0m \u001b[31m4.4 MB/s\u001b[0m eta \u001b[36m0:00:00\u001b[0m\n",
            "\u001b[?25h  Preparing metadata (setup.py) ... \u001b[?25l\u001b[?25hdone\n",
            "Requirement already satisfied: py4j==0.10.9.7 in /usr/local/lib/python3.10/dist-packages (from pyspark) (0.10.9.7)\n",
            "Building wheels for collected packages: pyspark\n",
            "  Building wheel for pyspark (setup.py) ... \u001b[?25l\u001b[?25hdone\n",
            "  Created wheel for pyspark: filename=pyspark-3.4.0-py2.py3-none-any.whl size=311317130 sha256=c35f5e5211a5be1bf14dbe008aa0710b72429cc0a1ba0410aa0f40c2d84f0b95\n",
            "  Stored in directory: /root/.cache/pip/wheels/7b/1b/4b/3363a1d04368e7ff0d408e57ff57966fcdf00583774e761327\n",
            "Successfully built pyspark\n",
            "Installing collected packages: pyspark\n",
            "Successfully installed pyspark-3.4.0\n"
          ]
        }
      ]
    },
    {
      "cell_type": "markdown",
      "source": [
        "### IMPORT DATA"
      ],
      "metadata": {
        "id": "0GcK7KCXpb-Y"
      }
    },
    {
      "cell_type": "code",
      "source": [
        "# IMPORT DATA\n",
        "spark = SparkSession.builder.getOrCreate()\n",
        "df = spark.read.csv('car_data.csv', header=True, inferSchema=True)\n",
        "df.show(3)"
      ],
      "metadata": {
        "colab": {
          "base_uri": "https://localhost:8080/"
        },
        "id": "R3sIW4c5poAc",
        "outputId": "55f7ebdd-3700-48e9-e42a-c41def99a3ca"
      },
      "execution_count": 5,
      "outputs": [
        {
          "output_type": "stream",
          "name": "stdout",
          "text": [
            "+-------+------+---+------------+---------+\n",
            "|User ID|Gender|Age|AnnualSalary|Purchased|\n",
            "+-------+------+---+------------+---------+\n",
            "|    385|  Male| 35|       20000|        0|\n",
            "|    681|  Male| 40|       43500|        0|\n",
            "|    353|  Male| 49|       74000|        0|\n",
            "+-------+------+---+------------+---------+\n",
            "only showing top 3 rows\n",
            "\n"
          ]
        }
      ]
    },
    {
      "cell_type": "code",
      "source": [
        "from datetime import datetime, timedelta\n",
        "\n",
        "model_run_date = '06-22-2023'\n",
        "[str(datetime.strptime(model_run_date, \"%m-%d-%Y\") - timedelta(days=30*x))[:10] for x in [0, 1, 2, 3, 4, 5, 6]]\n"
      ],
      "metadata": {
        "colab": {
          "base_uri": "https://localhost:8080/"
        },
        "id": "gjS0qbJcrXpC",
        "outputId": "0dc35389-c9f7-463b-e057-8fd08696516b"
      },
      "execution_count": 5,
      "outputs": [
        {
          "output_type": "execute_result",
          "data": {
            "text/plain": [
              "['2023-06-22',\n",
              " '2023-05-23',\n",
              " '2023-04-23',\n",
              " '2023-03-24',\n",
              " '2023-02-22',\n",
              " '2023-01-23',\n",
              " '2022-12-24']"
            ]
          },
          "metadata": {},
          "execution_count": 5
        }
      ]
    },
    {
      "cell_type": "code",
      "source": [
        "model_run_date = '2023-06-22'\n",
        "forecast_days = 90\n",
        "[str(datetime.strptime(model_run_date,\"%Y-%m-%d\") + timedelta(days=forecast_days*x))[:10] for x in [0, 1]]"
      ],
      "metadata": {
        "colab": {
          "base_uri": "https://localhost:8080/"
        },
        "id": "dXg06k1PxAhm",
        "outputId": "be0a2bf8-7b29-4c75-c56d-26fdb41fdf5e"
      },
      "execution_count": 8,
      "outputs": [
        {
          "output_type": "execute_result",
          "data": {
            "text/plain": [
              "['2023-06-22', '2023-09-20']"
            ]
          },
          "metadata": {},
          "execution_count": 8
        }
      ]
    },
    {
      "cell_type": "markdown",
      "source": [
        "### SQL COMMANDS"
      ],
      "metadata": {
        "id": "84C2sez4pd7c"
      }
    },
    {
      "cell_type": "code",
      "source": [
        "#understand Parquet files + udf"
      ],
      "metadata": {
        "id": "JQ7pe4EJp-KV"
      },
      "execution_count": 6,
      "outputs": []
    },
    {
      "cell_type": "code",
      "source": [
        "# Register the DataFrame as a temporary table/view\n",
        "df.createOrReplaceTempView(\"car_data\")\n",
        "above_30 = spark.sql('SELECT * FROM car_data cd where cd.Age >= 35') \n",
        "above_30.show()"
      ],
      "metadata": {
        "colab": {
          "base_uri": "https://localhost:8080/"
        },
        "id": "D2mkvfhtpfuG",
        "outputId": "309bcb89-afb5-4a77-93ce-820c65291c84"
      },
      "execution_count": 7,
      "outputs": [
        {
          "output_type": "stream",
          "name": "stdout",
          "text": [
            "+-------+------+---+------------+---------+\n",
            "|User ID|Gender|Age|AnnualSalary|Purchased|\n",
            "+-------+------+---+------------+---------+\n",
            "|    385|  Male| 35|       20000|        0|\n",
            "|    681|  Male| 40|       43500|        0|\n",
            "|    353|  Male| 49|       74000|        0|\n",
            "|    895|  Male| 40|      107500|        1|\n",
            "|    846|Female| 47|       33500|        1|\n",
            "|    219|Female| 46|      132500|        1|\n",
            "|    588|  Male| 42|       64000|        0|\n",
            "|    465|  Male| 41|       52000|        0|\n",
            "|    686|  Male| 42|       80000|        0|\n",
            "|    408|  Male| 47|       23000|        1|\n",
            "|    118|Female| 42|      108000|        1|\n",
            "|     90|  Male| 35|       75000|        0|\n",
            "|    372|  Male| 35|       53000|        0|\n",
            "|    926|  Male| 46|       79000|        1|\n",
            "|     94|Female| 39|      134000|        1|\n",
            "|    338|Female| 39|       51500|        0|\n",
            "|    134|Female| 49|       39000|        1|\n",
            "|    821|  Male| 54|       25500|        1|\n",
            "|    294|Female| 41|       61500|        0|\n",
            "|     20|  Male| 40|      107000|        1|\n",
            "+-------+------+---+------------+---------+\n",
            "only showing top 20 rows\n",
            "\n"
          ]
        }
      ]
    },
    {
      "cell_type": "markdown",
      "source": [
        "### EDA"
      ],
      "metadata": {
        "id": "imnSYd2KaYUa"
      }
    },
    {
      "cell_type": "code",
      "source": [
        "df.printSchema()"
      ],
      "metadata": {
        "colab": {
          "base_uri": "https://localhost:8080/"
        },
        "id": "qMN6aHPxaOn6",
        "outputId": "caa3e503-3ee0-48e5-c74f-fb4065a9993b"
      },
      "execution_count": 154,
      "outputs": [
        {
          "output_type": "stream",
          "name": "stdout",
          "text": [
            "root\n",
            " |-- User ID: integer (nullable = true)\n",
            " |-- Gender: string (nullable = true)\n",
            " |-- Age: integer (nullable = true)\n",
            " |-- AnnualSalary: integer (nullable = true)\n",
            " |-- Purchased: integer (nullable = true)\n",
            "\n"
          ]
        }
      ]
    },
    {
      "cell_type": "code",
      "source": [
        "#null val count\n",
        "for col_ in df.columns:\n",
        "  print(f'{col_} N/A:', df.filter(col(col_).isNull()).count())"
      ],
      "metadata": {
        "colab": {
          "base_uri": "https://localhost:8080/"
        },
        "id": "7wPoYjmhYudC",
        "outputId": "d4bb53cd-72df-4c07-db44-c501aed8ca19"
      },
      "execution_count": 155,
      "outputs": [
        {
          "output_type": "stream",
          "name": "stdout",
          "text": [
            "User ID N/A: 0\n",
            "Gender N/A: 0\n",
            "Age N/A: 0\n",
            "AnnualSalary N/A: 0\n",
            "Purchased N/A: 0\n"
          ]
        }
      ]
    },
    {
      "cell_type": "code",
      "source": [
        "df.groupBy('Gender').count().show() #unique vals in gender"
      ],
      "metadata": {
        "colab": {
          "base_uri": "https://localhost:8080/"
        },
        "id": "2vBJnacVZAxb",
        "outputId": "1bd6de0a-1e23-4e3c-ba83-f40408df68c9"
      },
      "execution_count": 156,
      "outputs": [
        {
          "output_type": "stream",
          "name": "stdout",
          "text": [
            "+------+-----+\n",
            "|Gender|count|\n",
            "+------+-----+\n",
            "|Female|  516|\n",
            "|  Male|  484|\n",
            "+------+-----+\n",
            "\n"
          ]
        }
      ]
    },
    {
      "cell_type": "code",
      "source": [
        "#Find correlation with outcome var\n",
        "def corr_(var):\n",
        "  for col_ in df.columns:\n",
        "    if col_ != var: continue\n",
        "    for col2 in df.columns:\n",
        "      if col_==col2 or df.select(F.col(col_)).dtypes[0][1] == 'string' or df.select(F.col(col2)).dtypes[0][1] == 'string': continue\n",
        "      else:print('Correlation ({}, {}):'.format(col_, col2), df.select(F.corr(col_, col2)).first()[0])\n",
        "\n",
        "corr_('Purchased')"
      ],
      "metadata": {
        "colab": {
          "base_uri": "https://localhost:8080/"
        },
        "id": "yttaWRkZZ6Gq",
        "outputId": "041bf97c-e792-4e11-f822-b7a1971ebe43"
      },
      "execution_count": 157,
      "outputs": [
        {
          "output_type": "stream",
          "name": "stdout",
          "text": [
            "Correlation (Purchased, User ID): 0.015910931566033848\n",
            "Correlation (Purchased, Age): 0.6160363973749042\n",
            "Correlation (Purchased, AnnualSalary): 0.3649744312828344\n"
          ]
        }
      ]
    },
    {
      "cell_type": "code",
      "source": [
        "df.describe().toPandas()"
      ],
      "metadata": {
        "colab": {
          "base_uri": "https://localhost:8080/",
          "height": 206
        },
        "id": "o95-gLLGaQ1Y",
        "outputId": "27b82a8d-3829-4430-8f1b-8b905a9a102c"
      },
      "execution_count": 158,
      "outputs": [
        {
          "output_type": "execute_result",
          "data": {
            "text/plain": [
              "  summary            User ID  Gender                 Age       AnnualSalary  \\\n",
              "0   count               1000    1000                1000               1000   \n",
              "1    mean              500.5    None              40.106            72689.0   \n",
              "2  stddev  288.8194360957494    None  10.707072681429098  34488.34186685011   \n",
              "3     min                  1  Female                  18              15000   \n",
              "4     max               1000    Male                  63             152500   \n",
              "\n",
              "           Purchased  \n",
              "0               1000  \n",
              "1              0.402  \n",
              "2  0.490547282773676  \n",
              "3                  0  \n",
              "4                  1  "
            ],
            "text/html": [
              "\n",
              "  <div id=\"df-42641d37-1b66-41fa-92d5-d27a1c847af3\">\n",
              "    <div class=\"colab-df-container\">\n",
              "      <div>\n",
              "<style scoped>\n",
              "    .dataframe tbody tr th:only-of-type {\n",
              "        vertical-align: middle;\n",
              "    }\n",
              "\n",
              "    .dataframe tbody tr th {\n",
              "        vertical-align: top;\n",
              "    }\n",
              "\n",
              "    .dataframe thead th {\n",
              "        text-align: right;\n",
              "    }\n",
              "</style>\n",
              "<table border=\"1\" class=\"dataframe\">\n",
              "  <thead>\n",
              "    <tr style=\"text-align: right;\">\n",
              "      <th></th>\n",
              "      <th>summary</th>\n",
              "      <th>User ID</th>\n",
              "      <th>Gender</th>\n",
              "      <th>Age</th>\n",
              "      <th>AnnualSalary</th>\n",
              "      <th>Purchased</th>\n",
              "    </tr>\n",
              "  </thead>\n",
              "  <tbody>\n",
              "    <tr>\n",
              "      <th>0</th>\n",
              "      <td>count</td>\n",
              "      <td>1000</td>\n",
              "      <td>1000</td>\n",
              "      <td>1000</td>\n",
              "      <td>1000</td>\n",
              "      <td>1000</td>\n",
              "    </tr>\n",
              "    <tr>\n",
              "      <th>1</th>\n",
              "      <td>mean</td>\n",
              "      <td>500.5</td>\n",
              "      <td>None</td>\n",
              "      <td>40.106</td>\n",
              "      <td>72689.0</td>\n",
              "      <td>0.402</td>\n",
              "    </tr>\n",
              "    <tr>\n",
              "      <th>2</th>\n",
              "      <td>stddev</td>\n",
              "      <td>288.8194360957494</td>\n",
              "      <td>None</td>\n",
              "      <td>10.707072681429098</td>\n",
              "      <td>34488.34186685011</td>\n",
              "      <td>0.490547282773676</td>\n",
              "    </tr>\n",
              "    <tr>\n",
              "      <th>3</th>\n",
              "      <td>min</td>\n",
              "      <td>1</td>\n",
              "      <td>Female</td>\n",
              "      <td>18</td>\n",
              "      <td>15000</td>\n",
              "      <td>0</td>\n",
              "    </tr>\n",
              "    <tr>\n",
              "      <th>4</th>\n",
              "      <td>max</td>\n",
              "      <td>1000</td>\n",
              "      <td>Male</td>\n",
              "      <td>63</td>\n",
              "      <td>152500</td>\n",
              "      <td>1</td>\n",
              "    </tr>\n",
              "  </tbody>\n",
              "</table>\n",
              "</div>\n",
              "      <button class=\"colab-df-convert\" onclick=\"convertToInteractive('df-42641d37-1b66-41fa-92d5-d27a1c847af3')\"\n",
              "              title=\"Convert this dataframe to an interactive table.\"\n",
              "              style=\"display:none;\">\n",
              "        \n",
              "  <svg xmlns=\"http://www.w3.org/2000/svg\" height=\"24px\"viewBox=\"0 0 24 24\"\n",
              "       width=\"24px\">\n",
              "    <path d=\"M0 0h24v24H0V0z\" fill=\"none\"/>\n",
              "    <path d=\"M18.56 5.44l.94 2.06.94-2.06 2.06-.94-2.06-.94-.94-2.06-.94 2.06-2.06.94zm-11 1L8.5 8.5l.94-2.06 2.06-.94-2.06-.94L8.5 2.5l-.94 2.06-2.06.94zm10 10l.94 2.06.94-2.06 2.06-.94-2.06-.94-.94-2.06-.94 2.06-2.06.94z\"/><path d=\"M17.41 7.96l-1.37-1.37c-.4-.4-.92-.59-1.43-.59-.52 0-1.04.2-1.43.59L10.3 9.45l-7.72 7.72c-.78.78-.78 2.05 0 2.83L4 21.41c.39.39.9.59 1.41.59.51 0 1.02-.2 1.41-.59l7.78-7.78 2.81-2.81c.8-.78.8-2.07 0-2.86zM5.41 20L4 18.59l7.72-7.72 1.47 1.35L5.41 20z\"/>\n",
              "  </svg>\n",
              "      </button>\n",
              "      \n",
              "  <style>\n",
              "    .colab-df-container {\n",
              "      display:flex;\n",
              "      flex-wrap:wrap;\n",
              "      gap: 12px;\n",
              "    }\n",
              "\n",
              "    .colab-df-convert {\n",
              "      background-color: #E8F0FE;\n",
              "      border: none;\n",
              "      border-radius: 50%;\n",
              "      cursor: pointer;\n",
              "      display: none;\n",
              "      fill: #1967D2;\n",
              "      height: 32px;\n",
              "      padding: 0 0 0 0;\n",
              "      width: 32px;\n",
              "    }\n",
              "\n",
              "    .colab-df-convert:hover {\n",
              "      background-color: #E2EBFA;\n",
              "      box-shadow: 0px 1px 2px rgba(60, 64, 67, 0.3), 0px 1px 3px 1px rgba(60, 64, 67, 0.15);\n",
              "      fill: #174EA6;\n",
              "    }\n",
              "\n",
              "    [theme=dark] .colab-df-convert {\n",
              "      background-color: #3B4455;\n",
              "      fill: #D2E3FC;\n",
              "    }\n",
              "\n",
              "    [theme=dark] .colab-df-convert:hover {\n",
              "      background-color: #434B5C;\n",
              "      box-shadow: 0px 1px 3px 1px rgba(0, 0, 0, 0.15);\n",
              "      filter: drop-shadow(0px 1px 2px rgba(0, 0, 0, 0.3));\n",
              "      fill: #FFFFFF;\n",
              "    }\n",
              "  </style>\n",
              "\n",
              "      <script>\n",
              "        const buttonEl =\n",
              "          document.querySelector('#df-42641d37-1b66-41fa-92d5-d27a1c847af3 button.colab-df-convert');\n",
              "        buttonEl.style.display =\n",
              "          google.colab.kernel.accessAllowed ? 'block' : 'none';\n",
              "\n",
              "        async function convertToInteractive(key) {\n",
              "          const element = document.querySelector('#df-42641d37-1b66-41fa-92d5-d27a1c847af3');\n",
              "          const dataTable =\n",
              "            await google.colab.kernel.invokeFunction('convertToInteractive',\n",
              "                                                     [key], {});\n",
              "          if (!dataTable) return;\n",
              "\n",
              "          const docLinkHtml = 'Like what you see? Visit the ' +\n",
              "            '<a target=\"_blank\" href=https://colab.research.google.com/notebooks/data_table.ipynb>data table notebook</a>'\n",
              "            + ' to learn more about interactive tables.';\n",
              "          element.innerHTML = '';\n",
              "          dataTable['output_type'] = 'display_data';\n",
              "          await google.colab.output.renderOutput(dataTable, element);\n",
              "          const docLink = document.createElement('div');\n",
              "          docLink.innerHTML = docLinkHtml;\n",
              "          element.appendChild(docLink);\n",
              "        }\n",
              "      </script>\n",
              "    </div>\n",
              "  </div>\n",
              "  "
            ]
          },
          "metadata": {},
          "execution_count": 158
        }
      ]
    },
    {
      "cell_type": "markdown",
      "source": [
        "#Logit Modeling"
      ],
      "metadata": {
        "id": "gmj1e_zbZaEf"
      }
    },
    {
      "cell_type": "code",
      "source": [
        "df.printSchema()"
      ],
      "metadata": {
        "colab": {
          "base_uri": "https://localhost:8080/"
        },
        "id": "QFecXmsXaerc",
        "outputId": "a07838c3-e1d8-470c-ecee-a6613f73e23f"
      },
      "execution_count": 143,
      "outputs": [
        {
          "output_type": "stream",
          "name": "stdout",
          "text": [
            "root\n",
            " |-- User ID: integer (nullable = true)\n",
            " |-- Gender: string (nullable = true)\n",
            " |-- Age: integer (nullable = true)\n",
            " |-- AnnualSalary: integer (nullable = true)\n",
            " |-- Purchased: integer (nullable = true)\n",
            "\n"
          ]
        }
      ]
    },
    {
      "cell_type": "code",
      "source": [
        "spark = SparkSession.builder.getOrCreate()\n",
        "df = spark.read.csv('car_data.csv', header=True, inferSchema=True)\n",
        "df.show(3)\n",
        "\n",
        "# Categorize Columns\n",
        "indexer = StringIndexer(inputCol='Gender', outputCol='Gender_encoded').fit(df)\n",
        "df = indexer.transform(df).select([x if x != 'Gender' else 'Gender_encoded' for x in df.columns])\n",
        "\n",
        "# Random .8/.2 split\n",
        "train, test = df.randomSplit([.8, .2], seed=0)\n",
        "\n",
        "# Vectorize\n",
        "v_assembler = VectorAssembler(inputCols=[col for col in df.columns if col != 'Purchased'],\n",
        "                              outputCol='features')\n",
        "df = v_assembler.transform(df).select('features', 'Purchased')\n",
        "\n",
        "# Scale\n",
        "scaler = MinMaxScaler(inputCol='features', outputCol='features_scaled').fit(df)\n",
        "df = scaler.transform(df).select('features_scaled', 'Purchased')\n",
        "\n",
        "df.show()\n",
        "\n",
        "# Fit and Train Model\n",
        "lr = LogisticRegression(featuresCol='features_scaled', labelCol= 'Purchased')\n",
        "lr.setParams(regParam=0.01, elasticNetParam=0.5)\n",
        "\n",
        "pipeline = Pipeline(stages=[indexer, v_assembler, scaler, lr])\n",
        "model = pipeline.fit(train)\n"
      ],
      "metadata": {
        "colab": {
          "base_uri": "https://localhost:8080/"
        },
        "id": "CLkm78eFa6BV",
        "outputId": "ae664980-ec3a-4abc-9630-e762822dfc2c"
      },
      "execution_count": 173,
      "outputs": [
        {
          "output_type": "stream",
          "name": "stdout",
          "text": [
            "+-------+------+---+------------+---------+\n",
            "|User ID|Gender|Age|AnnualSalary|Purchased|\n",
            "+-------+------+---+------------+---------+\n",
            "|    385|  Male| 35|       20000|        0|\n",
            "|    681|  Male| 40|       43500|        0|\n",
            "|    353|  Male| 49|       74000|        0|\n",
            "+-------+------+---+------------+---------+\n",
            "only showing top 3 rows\n",
            "\n",
            "+--------------------+---------+\n",
            "|     features_scaled|Purchased|\n",
            "+--------------------+---------+\n",
            "|[0.38438438438438...|        0|\n",
            "|[0.68068068068068...|        0|\n",
            "|[0.35235235235235...|        0|\n",
            "|[0.89489489489489...|        1|\n",
            "|[0.66066066066066...|        0|\n",
            "|[0.84584584584584...|        1|\n",
            "|[0.21821821821821...|        1|\n",
            "|[0.58758758758758...|        0|\n",
            "|[0.08408408408408...|        0|\n",
            "|[0.46446446446446...|        0|\n",
            "|[0.68568568568568...|        0|\n",
            "|[0.40740740740740...|        1|\n",
            "|[0.78978978978978...|        0|\n",
            "|[0.11511511511511...|        0|\n",
            "|[0.11711711711711...|        1|\n",
            "|[0.05305305305305...|        1|\n",
            "|[0.08908908908908...|        0|\n",
            "|[0.37137137137137...|        0|\n",
            "|[0.92592592592592...|        1|\n",
            "|[0.09309309309309...|        1|\n",
            "+--------------------+---------+\n",
            "only showing top 20 rows\n",
            "\n"
          ]
        }
      ]
    },
    {
      "cell_type": "code",
      "source": [
        "#Predict with model --> RAWPREDICTION IS VALUE BEFORE SIGMOID FUNCTION/SOFTMAX\n",
        "pred = model.transform(test)\n",
        "pred.show()"
      ],
      "metadata": {
        "colab": {
          "base_uri": "https://localhost:8080/"
        },
        "id": "nf62-5fgkl7x",
        "outputId": "e01edd46-f382-42af-8b58-9307251e74ba"
      },
      "execution_count": 166,
      "outputs": [
        {
          "output_type": "stream",
          "name": "stdout",
          "text": [
            "+-------+--------------+---+------------+---------+--------------------+--------------------+--------------------+--------------------+----------+\n",
            "|User ID|Gender_encoded|Age|AnnualSalary|Purchased|            features|     features_scaled|       rawPrediction|         probability|prediction|\n",
            "+-------+--------------+---+------------+---------+--------------------+--------------------+--------------------+--------------------+----------+\n",
            "|     21|           1.0| 36|       62500|        0|[21.0,1.0,36.0,62...|[0.02002002002002...|[1.66424712854177...|[0.84080730600946...|       0.0|\n",
            "|     22|           0.0| 56|      131500|        1|[22.0,0.0,56.0,13...|[0.02102102102102...|[-3.4950924495082...|[0.02945218841335...|       1.0|\n",
            "|     29|           1.0| 36|       40500|        0|[29.0,1.0,36.0,40...|[0.02802802802802...|[2.23988930854211...|[0.90377483233897...|       0.0|\n",
            "|     30|           1.0| 27|       58000|        0|[30.0,1.0,27.0,58...|[0.02902902902902...|[3.37918598563868...|[0.96704767529800...|       0.0|\n",
            "|     31|           0.0| 28|       59500|        0|[31.0,0.0,28.0,59...|[0.03003003003003...|[3.35787499459216...|[0.96636176821765...|       0.0|\n",
            "|     37|           0.0| 22|       27000|        0|[37.0,0.0,22.0,27...|[0.03603603603603...|[5.27305139826329...|[0.99489822231575...|       0.0|\n",
            "|     38|           0.0| 43|       76500|        0|[38.0,0.0,43.0,76...|[0.03703703703703...|[0.25107080655170...|[0.56244004530248...|       0.0|\n",
            "|     40|           1.0| 26|       86000|        0|[40.0,1.0,26.0,86...|[0.03903903903903...|[2.82401646890154...|[0.94395991525512...|       0.0|\n",
            "|     50|           1.0| 37|       53000|        0|[50.0,1.0,37.0,53...|[0.04904904904904...|[1.73535390300590...|[0.85009596278086...|       0.0|\n",
            "|     54|           0.0| 33|      149000|        1|[54.0,0.0,33.0,14...|[0.05305305305305...|[0.12872801872889...|[0.53213763779473...|       0.0|\n",
            "|     61|           1.0| 59|      145500|        1|[61.0,1.0,59.0,14...|[0.06006006006006...|[-4.5892114801514...|[0.01005866252613...|       1.0|\n",
            "|     62|           1.0| 25|       20500|        0|[62.0,1.0,25.0,20...|[0.06106106106106...|[4.71532621716584...|[0.99112257095057...|       0.0|\n",
            "|     63|           0.0| 55|      140500|        1|[63.0,0.0,55.0,14...|[0.06206206206206...|[-3.5531164471541...|[0.02783810869298...|       1.0|\n",
            "|     66|           0.0| 59|      106500|        1|[66.0,0.0,59.0,10...|[0.06506506506506...|[-3.3733515638431...|[0.03313875460717...|       1.0|\n",
            "|     73|           1.0| 60|       76500|        1|[73.0,1.0,60.0,76...|[0.07207207207207...|[-2.9612542643227...|[0.04920729096624...|       1.0|\n",
            "|     76|           0.0| 43|      109500|        1|[76.0,0.0,43.0,10...|[0.07507507507507...|[-0.6123924634488...|[0.35151363802008...|       1.0|\n",
            "|     88|           1.0| 41|       79500|        0|[88.0,1.0,41.0,79...|[0.08708708708708...|[0.33210279131598...|[0.58227093022480...|       0.0|\n",
            "|     90|           1.0| 35|       75000|        0|[90.0,1.0,35.0,75...|[0.08908908908908...|[1.51464369316850...|[0.81974838255625...|       0.0|\n",
            "|     91|           1.0| 31|       74000|        0|[91.0,1.0,31.0,74...|[0.09009009009009...|[2.25067318713075...|[0.90470858702315...|       0.0|\n",
            "|    101|           1.0| 38|       93500|        1|[101.0,1.0,38.0,9...|[0.10010010010010...|[0.49818299565108...|[0.62203223351914...|       0.0|\n",
            "+-------+--------------+---+------------+---------+--------------------+--------------------+--------------------+--------------------+----------+\n",
            "only showing top 20 rows\n",
            "\n"
          ]
        }
      ]
    },
    {
      "cell_type": "code",
      "source": [
        "#ADD MORE EVALUATORS\n",
        "evaluator = BinaryClassificationEvaluator(labelCol='Purchased')\n",
        "areaUnderROC = evaluator.evaluate(pred, {evaluator.metricName: 'areaUnderROC'})\n",
        "#areaUnderPR = 'areaUnderPR'\n",
        "print(areaUnderROC)"
      ],
      "metadata": {
        "colab": {
          "base_uri": "https://localhost:8080/"
        },
        "id": "bDSv4-6fnjVx",
        "outputId": "fccd9086-5bce-41fc-83d5-983eba3c25a7"
      },
      "execution_count": 196,
      "outputs": [
        {
          "output_type": "stream",
          "name": "stdout",
          "text": [
            "0.9261607142857144\n"
          ]
        }
      ]
    },
    {
      "cell_type": "code",
      "source": [
        "#Gridsearch to optimize Logistic Regression HyperParameters"
      ],
      "metadata": {
        "id": "khuwg_oDa6_P"
      },
      "execution_count": 56,
      "outputs": []
    },
    {
      "cell_type": "code",
      "source": [
        "#Evaluate Model Performance"
      ],
      "metadata": {
        "id": "JKXm4w4DbJrq"
      },
      "execution_count": null,
      "outputs": []
    }
  ]
}