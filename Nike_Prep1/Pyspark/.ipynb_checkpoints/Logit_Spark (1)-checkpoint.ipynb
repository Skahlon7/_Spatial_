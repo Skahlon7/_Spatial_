{
 "cells": [
  {
   "cell_type": "code",
   "execution_count": 5,
   "metadata": {
    "id": "cb0J38MBpEqD"
   },
   "outputs": [],
   "source": [
    "import pandas as pd\n",
    "import numpy as np\n",
    "import datetime\n",
    "import torch\n",
    "from datetime import date, datetime, timedelta\n",
    "import pyspark\n",
    "from pyspark.sql import SparkSession\n",
    "from pyspark.sql.functions import col, mean, stddev, variance, when\n",
    "import pyspark.sql.functions as F\n",
    "from pyspark.ml.regression import LinearRegression\n",
    "from pyspark.ml.classification import LogisticRegression\n",
    "from pyspark.ml.evaluation import RegressionEvaluator, MulticlassClassificationEvaluator, BinaryClassificationEvaluator\n",
    "from pyspark.mllib.evaluation import BinaryClassificationMetrics\n",
    "from pyspark.ml.tuning import ParamGridBuilder, CrossValidator\n",
    "from pyspark.ml.feature import StringIndexer, OneHotEncoder, StandardScaler, MinMaxScaler,  VectorAssembler\n",
    "from pyspark.sql.types import *\n",
    "from pyspark.ml import Pipeline"
   ]
  },
  {
   "cell_type": "code",
   "execution_count": 1,
   "metadata": {
    "colab": {
     "base_uri": "https://localhost:8080/"
    },
    "id": "HO6suyvu32Md",
    "outputId": "c599a21c-968c-44c5-ab71-37a9dc74a47f"
   },
   "outputs": [
    {
     "name": "stdout",
     "output_type": "stream",
     "text": [
      "Looking in indexes: https://pypi.org/simple, https://us-python.pkg.dev/colab-wheels/public/simple/\n",
      "Collecting pyspark\n",
      "  Downloading pyspark-3.4.0.tar.gz (310.8 MB)\n",
      "\u001b[2K     \u001b[90m━━━━━━━━━━━━━━━━━━━━━━━━━━━━━━━━━━━━━━━\u001b[0m \u001b[32m310.8/310.8 MB\u001b[0m \u001b[31m1.3 MB/s\u001b[0m eta \u001b[36m0:00:00\u001b[0m\n",
      "\u001b[?25h  Preparing metadata (setup.py) ... \u001b[?25l\u001b[?25hdone\n",
      "Requirement already satisfied: py4j==0.10.9.7 in /usr/local/lib/python3.10/dist-packages (from pyspark) (0.10.9.7)\n",
      "Building wheels for collected packages: pyspark\n",
      "  Building wheel for pyspark (setup.py) ... \u001b[?25l\u001b[?25hdone\n",
      "  Created wheel for pyspark: filename=pyspark-3.4.0-py2.py3-none-any.whl size=311317130 sha256=e360d6f072578c9cb7dcfad9419b713f9dcc74fa4f97e310733f92e1a9d2dc1b\n",
      "  Stored in directory: /root/.cache/pip/wheels/7b/1b/4b/3363a1d04368e7ff0d408e57ff57966fcdf00583774e761327\n",
      "Successfully built pyspark\n",
      "Installing collected packages: pyspark\n",
      "Successfully installed pyspark-3.4.0\n"
     ]
    }
   ],
   "source": [
    "!pip install pyspark"
   ]
  },
  {
   "cell_type": "markdown",
   "metadata": {
    "id": "0GcK7KCXpb-Y"
   },
   "source": [
    "### IMPORT DATA"
   ]
  },
  {
   "cell_type": "code",
   "execution_count": null,
   "metadata": {
    "colab": {
     "base_uri": "https://localhost:8080/"
    },
    "id": "R3sIW4c5poAc",
    "outputId": "c4ba0e41-ee62-4d59-8ccf-a289d00fa06d"
   },
   "outputs": [
    {
     "name": "stdout",
     "output_type": "stream",
     "text": [
      "+-------+------+---+------------+---------+\n",
      "|User ID|Gender|Age|AnnualSalary|Purchased|\n",
      "+-------+------+---+------------+---------+\n",
      "|    385|  Male| 35|       20000|        0|\n",
      "|    681|  Male| 40|       43500|        0|\n",
      "|    353|  Male| 49|       74000|        0|\n",
      "+-------+------+---+------------+---------+\n",
      "only showing top 3 rows\n",
      "\n"
     ]
    }
   ],
   "source": [
    "# IMPORT DATA\n",
    "spark = SparkSession.builder.getOrCreate()\n",
    "df = spark.read.csv('car_data.csv', header=True, inferSchema=True)\n",
    "df.show(3)"
   ]
  },
  {
   "cell_type": "code",
   "execution_count": null,
   "metadata": {
    "id": "vNb3e9gPWU4_"
   },
   "outputs": [],
   "source": [
    "df = df.withColumnRenamed('User ID', 'User_ID')"
   ]
  },
  {
   "cell_type": "code",
   "execution_count": null,
   "metadata": {
    "colab": {
     "base_uri": "https://localhost:8080/"
    },
    "id": "30K8fARTRn_v",
    "outputId": "4036497a-1110-4834-cecc-b2a8d4eafdd5"
   },
   "outputs": [
    {
     "name": "stdout",
     "output_type": "stream",
     "text": [
      "Num. rows: 1000\n",
      "Num. Columns: 5\n"
     ]
    }
   ],
   "source": [
    "print('Num. rows:', df.count())\n",
    "print('Num. Columns:', len(df.columns))"
   ]
  },
  {
   "cell_type": "code",
   "execution_count": null,
   "metadata": {
    "colab": {
     "base_uri": "https://localhost:8080/",
     "height": 35
    },
    "id": "FqL2PYiZcqiz",
    "outputId": "a2b2ad3a-0c5c-49b4-9bcb-99b19c9e4385"
   },
   "outputs": [
    {
     "data": {
      "application/vnd.google.colaboratory.intrinsic+json": {
       "type": "string"
      },
      "text/plain": [
       "'2023-03-14'"
      ]
     },
     "execution_count": 7,
     "metadata": {},
     "output_type": "execute_result"
    }
   ],
   "source": [
    "from datetime import datetime, timedelta\n",
    "run_date = '2023-06-12'\n",
    "str(datetime.strptime(run_date,\"%Y-%m-%d\") - timedelta(days=90))[:10]"
   ]
  },
  {
   "cell_type": "code",
   "execution_count": null,
   "metadata": {
    "colab": {
     "base_uri": "https://localhost:8080/"
    },
    "id": "gjS0qbJcrXpC",
    "outputId": "d08a0c4a-00c7-49b6-d435-84ad6ffa8299"
   },
   "outputs": [
    {
     "data": {
      "text/plain": [
       "['2023-06-22',\n",
       " '2023-05-23',\n",
       " '2023-04-23',\n",
       " '2023-03-24',\n",
       " '2023-02-22',\n",
       " '2023-01-23',\n",
       " '2022-12-24']"
      ]
     },
     "execution_count": 8,
     "metadata": {},
     "output_type": "execute_result"
    }
   ],
   "source": [
    "from datetime import datetime, timedelta\n",
    "\n",
    "model_run_date = '06-22-2023'\n",
    "[str(datetime.strptime(model_run_date, \"%m-%d-%Y\") - timedelta(days=30*x))[:10] for x in [0, 1, 2, 3, 4, 5, 6]]\n"
   ]
  },
  {
   "cell_type": "code",
   "execution_count": null,
   "metadata": {
    "colab": {
     "base_uri": "https://localhost:8080/"
    },
    "id": "dXg06k1PxAhm",
    "outputId": "be0a2bf8-7b29-4c75-c56d-26fdb41fdf5e"
   },
   "outputs": [
    {
     "data": {
      "text/plain": [
       "['2023-06-22', '2023-09-20']"
      ]
     },
     "execution_count": 8,
     "metadata": {},
     "output_type": "execute_result"
    }
   ],
   "source": [
    "model_run_date = '2023-06-22'\n",
    "forecast_days = 90\n",
    "[str(datetime.strptime(model_run_date,\"%Y-%m-%d\") + timedelta(days=forecast_days*x))[:10] for x in [0, 1]]"
   ]
  },
  {
   "cell_type": "markdown",
   "metadata": {
    "id": "84C2sez4pd7c"
   },
   "source": [
    "### SQL COMMANDS"
   ]
  },
  {
   "cell_type": "code",
   "execution_count": null,
   "metadata": {
    "id": "JQ7pe4EJp-KV"
   },
   "outputs": [],
   "source": [
    "#understand Parquet files + udf"
   ]
  },
  {
   "cell_type": "code",
   "execution_count": null,
   "metadata": {
    "colab": {
     "base_uri": "https://localhost:8080/"
    },
    "id": "D2mkvfhtpfuG",
    "outputId": "ab4468eb-14d8-4cc1-efe1-b54bd03e1ff3"
   },
   "outputs": [
    {
     "name": "stdout",
     "output_type": "stream",
     "text": [
      "+-------+------+---+------------+---------+\n",
      "|User_ID|Gender|Age|AnnualSalary|Purchased|\n",
      "+-------+------+---+------------+---------+\n",
      "|    385|  Male| 35|       20000|        0|\n",
      "|    681|  Male| 40|       43500|        0|\n",
      "|    353|  Male| 49|       74000|        0|\n",
      "|    895|  Male| 40|      107500|        1|\n",
      "|    846|Female| 47|       33500|        1|\n",
      "|    219|Female| 46|      132500|        1|\n",
      "|    588|  Male| 42|       64000|        0|\n",
      "|    465|  Male| 41|       52000|        0|\n",
      "|    686|  Male| 42|       80000|        0|\n",
      "|    408|  Male| 47|       23000|        1|\n",
      "|    118|Female| 42|      108000|        1|\n",
      "|     90|  Male| 35|       75000|        0|\n",
      "|    372|  Male| 35|       53000|        0|\n",
      "|    926|  Male| 46|       79000|        1|\n",
      "|     94|Female| 39|      134000|        1|\n",
      "|    338|Female| 39|       51500|        0|\n",
      "|    134|Female| 49|       39000|        1|\n",
      "|    821|  Male| 54|       25500|        1|\n",
      "|    294|Female| 41|       61500|        0|\n",
      "|     20|  Male| 40|      107000|        1|\n",
      "+-------+------+---+------------+---------+\n",
      "only showing top 20 rows\n",
      "\n"
     ]
    }
   ],
   "source": [
    "# Register the DataFrame as a temporary table/view\n",
    "df.createOrReplaceTempView(\"car_data\")\n",
    "above_30 = spark.sql('SELECT * FROM car_data cd where cd.Age >= 35')\n",
    "above_30.show()"
   ]
  },
  {
   "cell_type": "markdown",
   "metadata": {
    "id": "UCC-UpZyLWZq"
   },
   "source": [
    "### Partitioning"
   ]
  },
  {
   "cell_type": "code",
   "execution_count": null,
   "metadata": {
    "colab": {
     "base_uri": "https://localhost:8080/"
    },
    "id": "OeewPFZyWyEN",
    "outputId": "f3a35059-d01c-484e-ffa3-cc7c8727fd5c"
   },
   "outputs": [
    {
     "name": "stdout",
     "output_type": "stream",
     "text": [
      "+-------+------+---+------------+---------+\n",
      "|User_ID|Gender|Age|AnnualSalary|Purchased|\n",
      "+-------+------+---+------------+---------+\n",
      "|    385|  Male| 35|       20000|        0|\n",
      "|    681|  Male| 40|       43500|        0|\n",
      "|    353|  Male| 49|       74000|        0|\n",
      "|    895|  Male| 40|      107500|        1|\n",
      "|    661|  Male| 25|       79000|        0|\n",
      "|    846|Female| 47|       33500|        1|\n",
      "|    219|Female| 46|      132500|        1|\n",
      "|    588|  Male| 42|       64000|        0|\n",
      "|     85|Female| 30|       84500|        0|\n",
      "|    465|  Male| 41|       52000|        0|\n",
      "+-------+------+---+------------+---------+\n",
      "only showing top 10 rows\n",
      "\n"
     ]
    }
   ],
   "source": [
    "df.show(10)"
   ]
  },
  {
   "cell_type": "code",
   "execution_count": null,
   "metadata": {
    "colab": {
     "base_uri": "https://localhost:8080/"
    },
    "id": "QiVK__YPW9SK",
    "outputId": "d8168ce5-6514-491d-f130-08a7dff0e6d0"
   },
   "outputs": [
    {
     "name": "stdout",
     "output_type": "stream",
     "text": [
      "+-------+------+---+-----------------+\n",
      "|User_ID|Gender|Age| AvgSalary_Gender|\n",
      "+-------+------+---+-----------------+\n",
      "|    846|Female| 47|74802.32558139534|\n",
      "|    219|Female| 46|74802.32558139534|\n",
      "|     85|Female| 30|74802.32558139534|\n",
      "|    790|Female| 32|74802.32558139534|\n",
      "|    116|Female| 27|74802.32558139534|\n",
      "+-------+------+---+-----------------+\n",
      "only showing top 5 rows\n",
      "\n"
     ]
    }
   ],
   "source": [
    "spark.sql('SELECT User_ID, Gender, Age, AVG(AnnualSalary) OVER (PARTITION BY Gender) AS AvgSalary_Gender\\\n",
    " FROM car_data').show(5)"
   ]
  },
  {
   "cell_type": "code",
   "execution_count": null,
   "metadata": {
    "colab": {
     "base_uri": "https://localhost:8080/"
    },
    "id": "uUTiHPaqR1Bd",
    "outputId": "b136eecd-0661-4a76-ec84-42173f99ec00"
   },
   "outputs": [
    {
     "name": "stdout",
     "output_type": "stream",
     "text": [
      "+-------+------+-----------+\n",
      "|User_ID|Gender|TotalGender|\n",
      "+-------+------+-----------+\n",
      "|    846|Female|        516|\n",
      "|    219|Female|        516|\n",
      "|     85|Female|        516|\n",
      "|    790|Female|        516|\n",
      "|    116|Female|        516|\n",
      "+-------+------+-----------+\n",
      "only showing top 5 rows\n",
      "\n"
     ]
    }
   ],
   "source": [
    "spark.sql('SELECT User_ID, Gender, COUNT(Gender) OVER (PARTITION BY Gender) AS TotalGender \\\n",
    "FROM car_data').show(5)"
   ]
  },
  {
   "cell_type": "markdown",
   "metadata": {
    "id": "w-2QWuxlKj0w"
   },
   "source": [
    "### Partition by + Lag\n",
    "\n",
    "This query calculates time intervals, from each email {open,click,delivery} event by user.\n",
    "\n",
    "```sql\n",
    "SELECT email_all.upm_id upm_id,\n",
    "       datediff(first_open_ts_utc, lag(first_open_ts_utc) OVER (PARTITION BY upm_id ORDER BY first_open_ts_utc)) AS open_interval,\n",
    "       datediff(first_click_ts_utc, lag(first_click_ts_utc) OVER (PARTITION BY upm_id ORDER BY first_click_ts_utc)) AS click_interval,\n",
    "       datediff(first_delivery_ts_utc, lag(first_delivery_ts_utc) OVER (PARTITION BY upm_id ORDER BY first_delivery_ts_utc)) AS delivery_interval\n",
    "FROM comms_atc.combined_campaign_email_data email_all\n",
    "JOIN campaign_metadata meta ON email_all.comm_id = meta.comm_id\n",
    "WHERE substring(first_del_dt, 1, 10) >= '{lookback_start_date}' AND\n",
    "      substring(first_del_dt, 1, 10) < '{lookback_end_date}'\n"
   ]
  },
  {
   "cell_type": "code",
   "execution_count": 20,
   "metadata": {
    "colab": {
     "base_uri": "https://localhost:8080/"
    },
    "id": "8yuNbuDGOJaJ",
    "outputId": "ad7f2144-cd4d-4bff-9163-e6f7f1e756af"
   },
   "outputs": [
    {
     "name": "stdout",
     "output_type": "stream",
     "text": [
      "Looking in indexes: https://pypi.org/simple, https://us-python.pkg.dev/colab-wheels/public/simple/\n",
      "Requirement already satisfied: openpyxl in /usr/local/lib/python3.10/dist-packages (3.0.10)\n",
      "Requirement already satisfied: et-xmlfile in /usr/local/lib/python3.10/dist-packages (from openpyxl) (1.1.0)\n"
     ]
    }
   ],
   "source": [
    "!pip install openpyxl"
   ]
  },
  {
   "cell_type": "code",
   "execution_count": 33,
   "metadata": {
    "colab": {
     "base_uri": "https://localhost:8080/"
    },
    "id": "CLWDrFfjLkFJ",
    "outputId": "0230f68c-cad4-400d-db08-7d80d3456a39"
   },
   "outputs": [
    {
     "name": "stdout",
     "output_type": "stream",
     "text": [
      "+-------------+----------+--------------------+-------+----------+--------------+-----------+-----------+---+\n",
      "|   Account No|      DATE| TRANSACTION DETAILS|CHQ.NO.|VALUE DATE|WITHDRAWAL AMT|DEPOSIT AMT|BALANCE AMT|  .|\n",
      "+-------------+----------+--------------------+-------+----------+--------------+-----------+-----------+---+\n",
      "|409000611074'|2017-06-29|TRF FROM  Indiafo...|   null|2017-06-29|          null|  1000000.0|  1000000.0|  .|\n",
      "|409000611074'|2017-07-05|TRF FROM  Indiafo...|   null|2017-07-05|          null|  1000000.0|  2000000.0|  .|\n",
      "|409000611074'|2017-07-18|FDRL/INTERNAL FUN...|   null|2017-07-18|          null|   500000.0|  2500000.0|  .|\n",
      "|409000611074'|2017-08-01|TRF FRM  Indiafor...|   null|2017-08-01|          null|  3000000.0|  5500000.0|  .|\n",
      "|409000611074'|2017-08-16|FDRL/INTERNAL FUN...|   null|2017-08-16|          null|   500000.0|  6000000.0|  .|\n",
      "|409000611074'|2017-08-16|FDRL/INTERNAL FUN...|   null|2017-08-16|          null|   500000.0|  6500000.0|  .|\n",
      "|409000611074'|2017-08-16|FDRL/INTERNAL FUN...|   null|2017-08-16|          null|   500000.0|  7000000.0|  .|\n",
      "|409000611074'|2017-08-16|FDRL/INTERNAL FUN...|   null|2017-08-16|          null|   500000.0|  7500000.0|  .|\n",
      "|409000611074'|2017-08-16|FDRL/INTERNAL FUN...|   null|2017-08-16|          null|   500000.0|  8000000.0|  .|\n",
      "|409000611074'|2017-08-16|FDRL/INTERNAL FUN...|   null|2017-08-16|          null|   500000.0|  8500000.0|  .|\n",
      "|409000611074'|2017-08-16|INDO GIBL Indiafo...|   null|2017-08-16|      133900.0|       null|  8366100.0|  .|\n",
      "|409000611074'|2017-08-16|INDO GIBL Indiafo...|   null|2017-08-16|       18000.0|       null|  8348100.0|  .|\n",
      "|409000611074'|2017-08-16|INDO GIBL Indiafo...|   null|2017-08-16|        5000.0|       null|  8343100.0|  .|\n",
      "|409000611074'|2017-08-16|INDO GIBL Indiafo...|   null|2017-08-16|      195800.0|       null|  8147300.0|  .|\n",
      "|409000611074'|2017-08-16|INDO GIBL Indiafo...|   null|2017-08-16|       81600.0|       null|  8065700.0|  .|\n",
      "|409000611074'|2017-08-16|INDO GIBL Indiafo...|   null|2017-08-16|       41800.0|       null|  8023900.0|  .|\n",
      "|409000611074'|2017-08-16|INDO GIBL Indiafo...|   null|2017-08-16|       98500.0|       null|  7925400.0|  .|\n",
      "|409000611074'|2017-08-16|INDO GIBL Indiafo...|   null|2017-08-16|      143800.0|       null|  7781600.0|  .|\n",
      "|409000611074'|2017-08-16|INDO GIBL Indiafo...|   null|2017-08-16|      331650.0|       null|  7449950.0|  .|\n",
      "|409000611074'|2017-08-16|INDO GIBL Indiafo...|   null|2017-08-16|      129000.0|       null|  7320950.0|  .|\n",
      "+-------------+----------+--------------------+-------+----------+--------------+-----------+-----------+---+\n",
      "only showing top 20 rows\n",
      "\n"
     ]
    }
   ],
   "source": [
    "import pandas as pd\n",
    "\n",
    "# Read the Excel file using pandas\n",
    "df_bank_pd = pd.read_excel(\"bank.xlsx\")\n",
    "\n",
    "# Convert the DataFrame to a CSV file\n",
    "df_bank_pd.to_csv(\"bank.csv\", index=False)\n",
    "\n",
    "# Read the CSV file in Spark\n",
    "df_bank = spark.read.format(\"csv\").option(\"header\", \"true\").option(\"inferSchema\", \"true\").load(\"bank.csv\")\n",
    "\n",
    "# Display the DataFrame\n",
    "df_bank.show()"
   ]
  },
  {
   "cell_type": "code",
   "execution_count": 34,
   "metadata": {
    "id": "DpBQeWHROb73"
   },
   "outputs": [],
   "source": [
    "from pyspark.sql.functions import regexp_replace #replace ' with ''\n",
    "\n",
    "df_bank = df_bank.withColumn('Account No', regexp_replace(df_bank['Account No'], \"'\", ''))\n",
    "#df_bank = df_bank.withColumn('Account No', F.col('Account No').cast('integer')) #convert to int"
   ]
  },
  {
   "cell_type": "code",
   "execution_count": 35,
   "metadata": {
    "colab": {
     "base_uri": "https://localhost:8080/"
    },
    "id": "R6eBbsseO6Id",
    "outputId": "628e2892-8cc6-4eff-88fb-aae75c8caf5b"
   },
   "outputs": [
    {
     "name": "stdout",
     "output_type": "stream",
     "text": [
      "root\n",
      " |-- Account_No: string (nullable = true)\n",
      " |-- DATE: date (nullable = true)\n",
      " |-- TRANSACTION DETAILS: string (nullable = true)\n",
      " |-- CHQ.NO.: double (nullable = true)\n",
      " |-- VALUE DATE: date (nullable = true)\n",
      " |-- WITHDRAWAL AMT: double (nullable = true)\n",
      " |-- Deposit_amt: double (nullable = true)\n",
      " |-- Balance_amt: double (nullable = true)\n",
      " |-- .: string (nullable = true)\n",
      "\n"
     ]
    }
   ],
   "source": [
    "df_bank = df_bank.withColumnRenamed('Account No', 'Account_No').withColumnRenamed('DEPOSIT AMT', 'Deposit_amt')\\\n",
    ".withColumnRenamed('BALANCE AMT', 'Balance_amt')\n",
    "df_bank.printSchema()"
   ]
  },
  {
   "cell_type": "code",
   "execution_count": 41,
   "metadata": {
    "colab": {
     "base_uri": "https://localhost:8080/"
    },
    "id": "Yh4uvzpnSrLD",
    "outputId": "f0c4efc5-f251-4601-9510-5b9417dd70ab"
   },
   "outputs": [
    {
     "name": "stdout",
     "output_type": "stream",
     "text": [
      "+------------+\n",
      "|  Account_No|\n",
      "+------------+\n",
      "|409000493210|\n",
      "|409000438611|\n",
      "|409000611074|\n",
      "|     1196711|\n",
      "|409000425051|\n",
      "|409000438620|\n",
      "|409000493201|\n",
      "|409000405747|\n",
      "|     1196428|\n",
      "|409000362497|\n",
      "+------------+\n",
      "\n"
     ]
    }
   ],
   "source": [
    "df_bank.select('Account_No').distinct().show(100) #Unique customers/accounts"
   ]
  },
  {
   "cell_type": "code",
   "execution_count": 62,
   "metadata": {
    "colab": {
     "base_uri": "https://localhost:8080/"
    },
    "id": "4J25bXGgS48M",
    "outputId": "e6705af4-4975-4d28-fcd5-c16373770cda"
   },
   "outputs": [
    {
     "name": "stdout",
     "output_type": "stream",
     "text": [
      "+----------+----------+-----------+-------------------+\n",
      "|Account_No|      Date|Deposit_amt|AVG_Deposit_Account|\n",
      "+----------+----------+-----------+-------------------+\n",
      "|   1196428|2015-01-01|  1200000.0|  2130827.330993709|\n",
      "|   1196428|2015-01-01|   800000.0|  2130827.330993709|\n",
      "|   1196428|2015-01-02|    15000.0|  2130827.330993709|\n",
      "|   1196428|2015-01-02|    25000.0|  2130827.330993709|\n",
      "|   1196428|2015-01-02|    25000.0|  2130827.330993709|\n",
      "|   1196428|2015-01-02|    25000.0|  2130827.330993709|\n",
      "|   1196428|2015-01-02|       null|  2130827.330993709|\n",
      "|   1196428|2015-01-02|       null|  2130827.330993709|\n",
      "|   1196428|2015-01-02|  1500000.0|  2130827.330993709|\n",
      "|   1196428|2015-01-02|   172620.0|  2130827.330993709|\n",
      "+----------+----------+-----------+-------------------+\n",
      "only showing top 10 rows\n",
      "\n"
     ]
    }
   ],
   "source": [
    "spark.sql('''\n",
    "    SELECT Account_No, Date, Deposit_amt,\n",
    "        AVG(Deposit_amt) OVER (PARTITION BY Account_No) AS AVG_Deposit_Account\n",
    "    FROM bank_data\n",
    "''').show(10)"
   ]
  },
  {
   "cell_type": "code",
   "execution_count": 63,
   "metadata": {
    "colab": {
     "base_uri": "https://localhost:8080/"
    },
    "id": "_vKLZ7jVPrUo",
    "outputId": "47f991d7-ec2a-431a-a405-98259d8c3e0a"
   },
   "outputs": [
    {
     "data": {
      "text/plain": [
       "[Row(Account_No='409000611074', Deposit_amt=None, AVG_Deposit_Account=463046.4095238095),\n",
       " Row(Account_No='409000611074', Deposit_amt=300000.0, AVG_Deposit_Account=463046.4095238095),\n",
       " Row(Account_No='409000611074', Deposit_amt=None, AVG_Deposit_Account=463046.4095238095),\n",
       " Row(Account_No='409000611074', Deposit_amt=None, AVG_Deposit_Account=463046.4095238095),\n",
       " Row(Account_No='409000611074', Deposit_amt=None, AVG_Deposit_Account=463046.4095238095),\n",
       " Row(Account_No='409000611074', Deposit_amt=None, AVG_Deposit_Account=463046.4095238095),\n",
       " Row(Account_No='409000611074', Deposit_amt=300000.0, AVG_Deposit_Account=463046.4095238095),\n",
       " Row(Account_No='409000611074', Deposit_amt=None, AVG_Deposit_Account=463046.4095238095),\n",
       " Row(Account_No='409000611074', Deposit_amt=None, AVG_Deposit_Account=463046.4095238095),\n",
       " Row(Account_No='409000611074', Deposit_amt=None, AVG_Deposit_Account=463046.4095238095)]"
      ]
     },
     "execution_count": 63,
     "metadata": {},
     "output_type": "execute_result"
    }
   ],
   "source": [
    "df_bank.createOrReplaceTempView('bank_data')\n",
    "spark.sql('''\n",
    "    SELECT Account_No, Deposit_amt,\n",
    "        AVG(Deposit_amt) OVER (PARTITION BY Account_No) AS AVG_Deposit_Account\n",
    "    FROM bank_data\n",
    "''').tail(10)#.show()"
   ]
  },
  {
   "cell_type": "code",
   "execution_count": 57,
   "metadata": {
    "colab": {
     "base_uri": "https://localhost:8080/"
    },
    "id": "zODoxZtXTjLv",
    "outputId": "84fbfb27-085d-4b38-961c-78d117e391c5"
   },
   "outputs": [
    {
     "name": "stdout",
     "output_type": "stream",
     "text": [
      "+------------+----------+-----------+--------+\n",
      "|  Account_No|      DATE|Deposit_amt|time_ago|\n",
      "+------------+----------+-----------+--------+\n",
      "|409000611074|2017-06-29|  1000000.0|      50|\n",
      "|409000611074|2017-07-05|  1000000.0|      44|\n",
      "|409000611074|2017-07-18|   500000.0|      31|\n",
      "|409000611074|2017-08-01|  3000000.0|      17|\n",
      "|409000611074|2017-08-16|   500000.0|       2|\n",
      "|409000611074|2017-08-16|   500000.0|       2|\n",
      "|409000611074|2017-08-16|   500000.0|       2|\n",
      "|409000611074|2017-08-16|   500000.0|       2|\n",
      "|409000611074|2017-08-16|   500000.0|       2|\n",
      "|409000611074|2017-08-16|   500000.0|       2|\n",
      "|409000611074|2017-08-16|       null|       2|\n",
      "|409000611074|2017-08-16|       null|       2|\n",
      "|409000611074|2017-08-16|       null|       2|\n",
      "|409000611074|2017-08-16|       null|       2|\n",
      "|409000611074|2017-08-16|       null|       2|\n",
      "|409000611074|2017-08-16|       null|       2|\n",
      "|409000611074|2017-08-16|       null|       2|\n",
      "|409000611074|2017-08-16|       null|       2|\n",
      "|409000611074|2017-08-16|       null|       2|\n",
      "|409000611074|2017-08-16|       null|       2|\n",
      "+------------+----------+-----------+--------+\n",
      "only showing top 20 rows\n",
      "\n"
     ]
    }
   ],
   "source": [
    "#Use datediff()  --> DATE is cast in date datatype\n",
    "current_date = '2017-08-18'\n",
    "spark.sql('''\n",
    "SELECT Account_No, DATE, Deposit_amt,\n",
    "      datediff(\"{}\", DATE) AS time_ago\n",
    "\n",
    "FROM bank_data\n",
    "          '''.format(current_date)).show()"
   ]
  },
  {
   "cell_type": "markdown",
   "metadata": {
    "id": "vM2uceOtXL7O"
   },
   "source": [
    "# GOOD QUERY 😁"
   ]
  },
  {
   "cell_type": "code",
   "execution_count": 68,
   "metadata": {
    "colab": {
     "base_uri": "https://localhost:8080/"
    },
    "id": "njkIb5RQU7YP",
    "outputId": "5ea2910f-bb7c-4279-f723-ea65c7f029d6"
   },
   "outputs": [
    {
     "name": "stdout",
     "output_type": "stream",
     "text": [
      "+----------+----------+-----------+----------------+\n",
      "|Account_No|      DATE|Deposit_amt|Deposit_interval|\n",
      "+----------+----------+-----------+----------------+\n",
      "|   1196428|2015-01-01|  1200000.0|            null|\n",
      "|   1196428|2015-01-01|   800000.0|               0|\n",
      "|   1196428|2015-01-02|    15000.0|               1|\n",
      "|   1196428|2015-01-02|    25000.0|               0|\n",
      "|   1196428|2015-01-02|    25000.0|               0|\n",
      "|   1196428|2015-01-02|    25000.0|               0|\n",
      "|   1196428|2015-01-02|       null|               0|\n",
      "|   1196428|2015-01-02|       null|               0|\n",
      "|   1196428|2015-01-02|  1500000.0|               0|\n",
      "|   1196428|2015-01-02|   172620.0|               0|\n",
      "|   1196428|2015-01-02|   700000.0|               0|\n",
      "|   1196428|2015-01-03|       null|               1|\n",
      "|   1196428|2015-01-03|  2200000.0|               0|\n",
      "|   1196428|2015-01-03|    48160.0|               0|\n",
      "|   1196428|2015-01-03|   700000.0|               0|\n",
      "|   1196428|2015-01-05|       null|               2|\n",
      "|   1196428|2015-01-05|       null|               0|\n",
      "|   1196428|2015-01-05|   700000.0|               0|\n",
      "|   1196428|2015-01-05|  3000000.0|               0|\n",
      "|   1196428|2015-01-05|   177320.0|               0|\n",
      "|   1196428|2015-01-06|       null|               1|\n",
      "|   1196428|2015-01-06|       null|               0|\n",
      "|   1196428|2015-01-06|   800000.0|               0|\n",
      "|   1196428|2015-01-06|     7500.0|               0|\n",
      "|   1196428|2015-01-06|  2500000.0|               0|\n",
      "|   1196428|2015-01-06|   343250.0|               0|\n",
      "|   1196428|2015-01-07|       null|               1|\n",
      "|   1196428|2015-01-07|  2200000.0|               0|\n",
      "|   1196428|2015-01-07|   455070.0|               0|\n",
      "|   1196428|2015-01-07|   800000.0|               0|\n",
      "|   1196428|2015-01-08|       null|               1|\n",
      "|   1196428|2015-01-08|  3000000.0|               0|\n",
      "|   1196428|2015-01-08|   850200.0|               0|\n",
      "|   1196428|2015-01-08|   700000.0|               0|\n",
      "|   1196428|2015-01-09|       null|               1|\n",
      "|   1196428|2015-01-09|   700000.0|               0|\n",
      "|   1196428|2015-01-09|  3200000.0|               0|\n",
      "|   1196428|2015-01-09|  1002100.0|               0|\n",
      "|   1196428|2015-01-10|       null|               1|\n",
      "|   1196428|2015-01-10|    25000.0|               0|\n",
      "|   1196428|2015-01-10|    25000.0|               0|\n",
      "|   1196428|2015-01-10|    15000.0|               0|\n",
      "|   1196428|2015-01-10|     2000.0|               0|\n",
      "|   1196428|2015-01-10|     2000.0|               0|\n",
      "|   1196428|2015-01-10|    30000.0|               0|\n",
      "|   1196428|2015-01-10|       null|               0|\n",
      "|   1196428|2015-01-10|       null|               0|\n",
      "|   1196428|2015-01-10|  4000000.0|               0|\n",
      "|   1196428|2015-01-10|   715880.0|               0|\n",
      "|   1196428|2015-01-10|   800000.0|               0|\n",
      "|   1196428|2015-01-12|       null|               2|\n",
      "|   1196428|2015-01-12|  5000000.0|               0|\n",
      "|   1196428|2015-01-12|  1057710.0|               0|\n",
      "|   1196428|2015-01-12|   900000.0|               0|\n",
      "|   1196428|2015-01-13|       null|               1|\n",
      "|   1196428|2015-01-13|  4900000.0|               0|\n",
      "|   1196428|2015-01-13|   746530.0|               0|\n",
      "|   1196428|2015-01-13|   900000.0|               0|\n",
      "|   1196428|2015-01-14|   757500.0|               1|\n",
      "|   1196428|2015-01-14|       null|               0|\n",
      "|   1196428|2015-01-14|  4000000.0|               0|\n",
      "|   1196428|2015-01-14|   430180.0|               0|\n",
      "|   1196428|2015-01-14|  1100000.0|               0|\n",
      "|   1196428|2015-01-15|   904000.0|               1|\n",
      "|   1196428|2015-01-15|   554000.0|               0|\n",
      "|   1196428|2015-01-15|    15000.0|               0|\n",
      "|   1196428|2015-01-15|     2000.0|               0|\n",
      "|   1196428|2015-01-15|    25000.0|               0|\n",
      "|   1196428|2015-01-15|    15000.0|               0|\n",
      "|   1196428|2015-01-15|       null|               0|\n",
      "|   1196428|2015-01-15|    10000.0|               0|\n",
      "|   1196428|2015-01-15|  3000000.0|               0|\n",
      "|   1196428|2015-01-15|   499970.0|               0|\n",
      "|   1196428|2015-01-15|   700000.0|               0|\n",
      "|   1196428|2015-01-16|   696500.0|               1|\n",
      "|   1196428|2015-01-16|   172000.0|               0|\n",
      "|   1196428|2015-01-16|       null|               0|\n",
      "|   1196428|2015-01-16|   113000.0|               0|\n",
      "|   1196428|2015-01-16|       null|               0|\n",
      "|   1196428|2015-01-16|  2900000.0|               0|\n",
      "|   1196428|2015-01-16|   359800.0|               0|\n",
      "|   1196428|2015-01-16|   800000.0|               0|\n",
      "|   1196428|2015-01-17|   423500.0|               1|\n",
      "|   1196428|2015-01-17|   450500.0|               0|\n",
      "|   1196428|2015-01-17|       null|               0|\n",
      "|   1196428|2015-01-17|    15000.0|               0|\n",
      "|   1196428|2015-01-17|    15000.0|               0|\n",
      "|   1196428|2015-01-17|    15000.0|               0|\n",
      "|   1196428|2015-01-17|    15000.0|               0|\n",
      "|   1196428|2015-01-17|     2000.0|               0|\n",
      "|   1196428|2015-01-17|    30000.0|               0|\n",
      "|   1196428|2015-01-17|       null|               0|\n",
      "|   1196428|2015-01-17|   516000.0|               0|\n",
      "|   1196428|2015-01-17|       null|               0|\n",
      "|   1196428|2015-01-17|   223000.0|               0|\n",
      "|   1196428|2015-01-17|  2800000.0|               0|\n",
      "|   1196428|2015-01-17|   170070.0|               0|\n",
      "|   1196428|2015-01-17|   900000.0|               0|\n",
      "|   1196428|2015-01-19|  1500000.0|               2|\n",
      "|   1196428|2015-01-19|   855500.0|               0|\n",
      "|   1196428|2015-01-19|    15000.0|               0|\n",
      "|   1196428|2015-01-19|   403010.0|               0|\n",
      "|   1196428|2015-01-19|       null|               0|\n",
      "|   1196428|2015-01-19|   266000.0|               0|\n",
      "|   1196428|2015-01-19|   333000.0|               0|\n",
      "|   1196428|2015-01-19|   434000.0|               0|\n",
      "|   1196428|2015-01-19|  3500000.0|               0|\n",
      "|   1196428|2015-01-19|   364560.0|               0|\n",
      "|   1196428|2015-01-19|   900000.0|               0|\n",
      "|   1196428|2015-01-20|   631500.0|               1|\n",
      "|   1196428|2015-01-20|   190000.0|               0|\n",
      "|   1196428|2015-01-20|       null|               0|\n",
      "|   1196428|2015-01-20|    26000.0|               0|\n",
      "|   1196428|2015-01-20|   769000.0|               0|\n",
      "|   1196428|2015-01-20|  3000000.0|               0|\n",
      "|   1196428|2015-01-20|   233770.0|               0|\n",
      "|   1196428|2015-01-20|   900000.0|               0|\n",
      "|   1196428|2015-01-21|       null|               1|\n",
      "|   1196428|2015-01-21|   280500.0|               0|\n",
      "|   1196428|2015-01-21|  2500000.0|               0|\n",
      "|   1196428|2015-01-21|   207430.0|               0|\n",
      "|   1196428|2015-01-21|  1000000.0|               0|\n",
      "|   1196428|2015-01-22|       null|               1|\n",
      "|   1196428|2015-01-22|   299000.0|               0|\n",
      "|   1196428|2015-01-22|       null|               0|\n",
      "|   1196428|2015-01-22|  2200000.0|               0|\n",
      "|   1196428|2015-01-22|    72270.0|               0|\n",
      "|   1196428|2015-01-23|    15000.0|               1|\n",
      "|   1196428|2015-01-23|    15000.0|               0|\n",
      "|   1196428|2015-01-23|    15000.0|               0|\n",
      "|   1196428|2015-01-23|    15000.0|               0|\n",
      "|   1196428|2015-01-23|    25000.0|               0|\n",
      "|   1196428|2015-01-23|    15000.0|               0|\n",
      "|   1196428|2015-01-23|    15000.0|               0|\n",
      "|   1196428|2015-01-23|    15000.0|               0|\n",
      "|   1196428|2015-01-23|    15000.0|               0|\n",
      "|   1196428|2015-01-23|    15000.0|               0|\n",
      "|   1196428|2015-01-23|    12700.0|               0|\n",
      "|   1196428|2015-01-23|       null|               0|\n",
      "|   1196428|2015-01-23|   385000.0|               0|\n",
      "|   1196428|2015-01-23|  1500000.0|               0|\n",
      "|   1196428|2015-01-23|   176450.0|               0|\n",
      "|   1196428|2015-01-23|   900000.0|               0|\n",
      "|   1196428|2015-01-24|       null|               1|\n",
      "|   1196428|2015-01-24|   493000.0|               0|\n",
      "|   1196428|2015-01-24|  2950000.0|               0|\n",
      "|   1196428|2015-01-24|   114760.0|               0|\n",
      "|   1196428|2015-01-24|  1000000.0|               0|\n",
      "|   1196428|2015-01-27|     6000.0|               3|\n",
      "|   1196428|2015-01-27|       null|               0|\n",
      "+----------+----------+-----------+----------------+\n",
      "only showing top 150 rows\n",
      "\n"
     ]
    }
   ],
   "source": [
    "#Partition + Lag to find DEPOSIT INTERVAL\n",
    "spark.sql('''\n",
    "SELECT Account_No, DATE, Deposit_amt,\n",
    "  datediff(DATE, lag(DATE) OVER (PARTITION BY Account_No ORDER BY DATE)) AS Deposit_interval\n",
    "\n",
    "FROM bank_data\n",
    "          ''').show(150)"
   ]
  },
  {
   "cell_type": "markdown",
   "metadata": {
    "id": "imnSYd2KaYUa"
   },
   "source": [
    "### EDA"
   ]
  },
  {
   "cell_type": "code",
   "execution_count": null,
   "metadata": {
    "colab": {
     "base_uri": "https://localhost:8080/"
    },
    "id": "qMN6aHPxaOn6",
    "outputId": "caa3e503-3ee0-48e5-c74f-fb4065a9993b"
   },
   "outputs": [
    {
     "name": "stdout",
     "output_type": "stream",
     "text": [
      "root\n",
      " |-- User ID: integer (nullable = true)\n",
      " |-- Gender: string (nullable = true)\n",
      " |-- Age: integer (nullable = true)\n",
      " |-- AnnualSalary: integer (nullable = true)\n",
      " |-- Purchased: integer (nullable = true)\n",
      "\n"
     ]
    }
   ],
   "source": [
    "df.printSchema()"
   ]
  },
  {
   "cell_type": "code",
   "execution_count": null,
   "metadata": {
    "colab": {
     "base_uri": "https://localhost:8080/"
    },
    "id": "7wPoYjmhYudC",
    "outputId": "d4bb53cd-72df-4c07-db44-c501aed8ca19"
   },
   "outputs": [
    {
     "name": "stdout",
     "output_type": "stream",
     "text": [
      "User ID N/A: 0\n",
      "Gender N/A: 0\n",
      "Age N/A: 0\n",
      "AnnualSalary N/A: 0\n",
      "Purchased N/A: 0\n"
     ]
    }
   ],
   "source": [
    "#null val count\n",
    "for col_ in df.columns:\n",
    "  print(f'{col_} N/A:', df.filter(col(col_).isNull()).count())"
   ]
  },
  {
   "cell_type": "code",
   "execution_count": null,
   "metadata": {
    "colab": {
     "base_uri": "https://localhost:8080/"
    },
    "id": "2vBJnacVZAxb",
    "outputId": "1bd6de0a-1e23-4e3c-ba83-f40408df68c9"
   },
   "outputs": [
    {
     "name": "stdout",
     "output_type": "stream",
     "text": [
      "+------+-----+\n",
      "|Gender|count|\n",
      "+------+-----+\n",
      "|Female|  516|\n",
      "|  Male|  484|\n",
      "+------+-----+\n",
      "\n"
     ]
    }
   ],
   "source": [
    "df.groupBy('Gender').count().show() #unique vals in gender"
   ]
  },
  {
   "cell_type": "code",
   "execution_count": null,
   "metadata": {
    "colab": {
     "base_uri": "https://localhost:8080/"
    },
    "id": "yttaWRkZZ6Gq",
    "outputId": "041bf97c-e792-4e11-f822-b7a1971ebe43"
   },
   "outputs": [
    {
     "name": "stdout",
     "output_type": "stream",
     "text": [
      "Correlation (Purchased, User ID): 0.015910931566033848\n",
      "Correlation (Purchased, Age): 0.6160363973749042\n",
      "Correlation (Purchased, AnnualSalary): 0.3649744312828344\n"
     ]
    }
   ],
   "source": [
    "#Find correlation with outcome var\n",
    "def corr_(var):\n",
    "  for col_ in df.columns:\n",
    "    if col_ != var: continue\n",
    "    for col2 in df.columns:\n",
    "      if col_==col2 or df.select(F.col(col_)).dtypes[0][1] == 'string' or df.select(F.col(col2)).dtypes[0][1] == 'string': continue\n",
    "      else:print('Correlation ({}, {}):'.format(col_, col2), df.select(F.corr(col_, col2)).first()[0])\n",
    "\n",
    "corr_('Purchased')"
   ]
  },
  {
   "cell_type": "code",
   "execution_count": null,
   "metadata": {
    "colab": {
     "base_uri": "https://localhost:8080/",
     "height": 206
    },
    "id": "o95-gLLGaQ1Y",
    "outputId": "27b82a8d-3829-4430-8f1b-8b905a9a102c"
   },
   "outputs": [
    {
     "data": {
      "text/html": [
       "\n",
       "  <div id=\"df-42641d37-1b66-41fa-92d5-d27a1c847af3\">\n",
       "    <div class=\"colab-df-container\">\n",
       "      <div>\n",
       "<style scoped>\n",
       "    .dataframe tbody tr th:only-of-type {\n",
       "        vertical-align: middle;\n",
       "    }\n",
       "\n",
       "    .dataframe tbody tr th {\n",
       "        vertical-align: top;\n",
       "    }\n",
       "\n",
       "    .dataframe thead th {\n",
       "        text-align: right;\n",
       "    }\n",
       "</style>\n",
       "<table border=\"1\" class=\"dataframe\">\n",
       "  <thead>\n",
       "    <tr style=\"text-align: right;\">\n",
       "      <th></th>\n",
       "      <th>summary</th>\n",
       "      <th>User ID</th>\n",
       "      <th>Gender</th>\n",
       "      <th>Age</th>\n",
       "      <th>AnnualSalary</th>\n",
       "      <th>Purchased</th>\n",
       "    </tr>\n",
       "  </thead>\n",
       "  <tbody>\n",
       "    <tr>\n",
       "      <th>0</th>\n",
       "      <td>count</td>\n",
       "      <td>1000</td>\n",
       "      <td>1000</td>\n",
       "      <td>1000</td>\n",
       "      <td>1000</td>\n",
       "      <td>1000</td>\n",
       "    </tr>\n",
       "    <tr>\n",
       "      <th>1</th>\n",
       "      <td>mean</td>\n",
       "      <td>500.5</td>\n",
       "      <td>None</td>\n",
       "      <td>40.106</td>\n",
       "      <td>72689.0</td>\n",
       "      <td>0.402</td>\n",
       "    </tr>\n",
       "    <tr>\n",
       "      <th>2</th>\n",
       "      <td>stddev</td>\n",
       "      <td>288.8194360957494</td>\n",
       "      <td>None</td>\n",
       "      <td>10.707072681429098</td>\n",
       "      <td>34488.34186685011</td>\n",
       "      <td>0.490547282773676</td>\n",
       "    </tr>\n",
       "    <tr>\n",
       "      <th>3</th>\n",
       "      <td>min</td>\n",
       "      <td>1</td>\n",
       "      <td>Female</td>\n",
       "      <td>18</td>\n",
       "      <td>15000</td>\n",
       "      <td>0</td>\n",
       "    </tr>\n",
       "    <tr>\n",
       "      <th>4</th>\n",
       "      <td>max</td>\n",
       "      <td>1000</td>\n",
       "      <td>Male</td>\n",
       "      <td>63</td>\n",
       "      <td>152500</td>\n",
       "      <td>1</td>\n",
       "    </tr>\n",
       "  </tbody>\n",
       "</table>\n",
       "</div>\n",
       "      <button class=\"colab-df-convert\" onclick=\"convertToInteractive('df-42641d37-1b66-41fa-92d5-d27a1c847af3')\"\n",
       "              title=\"Convert this dataframe to an interactive table.\"\n",
       "              style=\"display:none;\">\n",
       "        \n",
       "  <svg xmlns=\"http://www.w3.org/2000/svg\" height=\"24px\"viewBox=\"0 0 24 24\"\n",
       "       width=\"24px\">\n",
       "    <path d=\"M0 0h24v24H0V0z\" fill=\"none\"/>\n",
       "    <path d=\"M18.56 5.44l.94 2.06.94-2.06 2.06-.94-2.06-.94-.94-2.06-.94 2.06-2.06.94zm-11 1L8.5 8.5l.94-2.06 2.06-.94-2.06-.94L8.5 2.5l-.94 2.06-2.06.94zm10 10l.94 2.06.94-2.06 2.06-.94-2.06-.94-.94-2.06-.94 2.06-2.06.94z\"/><path d=\"M17.41 7.96l-1.37-1.37c-.4-.4-.92-.59-1.43-.59-.52 0-1.04.2-1.43.59L10.3 9.45l-7.72 7.72c-.78.78-.78 2.05 0 2.83L4 21.41c.39.39.9.59 1.41.59.51 0 1.02-.2 1.41-.59l7.78-7.78 2.81-2.81c.8-.78.8-2.07 0-2.86zM5.41 20L4 18.59l7.72-7.72 1.47 1.35L5.41 20z\"/>\n",
       "  </svg>\n",
       "      </button>\n",
       "      \n",
       "  <style>\n",
       "    .colab-df-container {\n",
       "      display:flex;\n",
       "      flex-wrap:wrap;\n",
       "      gap: 12px;\n",
       "    }\n",
       "\n",
       "    .colab-df-convert {\n",
       "      background-color: #E8F0FE;\n",
       "      border: none;\n",
       "      border-radius: 50%;\n",
       "      cursor: pointer;\n",
       "      display: none;\n",
       "      fill: #1967D2;\n",
       "      height: 32px;\n",
       "      padding: 0 0 0 0;\n",
       "      width: 32px;\n",
       "    }\n",
       "\n",
       "    .colab-df-convert:hover {\n",
       "      background-color: #E2EBFA;\n",
       "      box-shadow: 0px 1px 2px rgba(60, 64, 67, 0.3), 0px 1px 3px 1px rgba(60, 64, 67, 0.15);\n",
       "      fill: #174EA6;\n",
       "    }\n",
       "\n",
       "    [theme=dark] .colab-df-convert {\n",
       "      background-color: #3B4455;\n",
       "      fill: #D2E3FC;\n",
       "    }\n",
       "\n",
       "    [theme=dark] .colab-df-convert:hover {\n",
       "      background-color: #434B5C;\n",
       "      box-shadow: 0px 1px 3px 1px rgba(0, 0, 0, 0.15);\n",
       "      filter: drop-shadow(0px 1px 2px rgba(0, 0, 0, 0.3));\n",
       "      fill: #FFFFFF;\n",
       "    }\n",
       "  </style>\n",
       "\n",
       "      <script>\n",
       "        const buttonEl =\n",
       "          document.querySelector('#df-42641d37-1b66-41fa-92d5-d27a1c847af3 button.colab-df-convert');\n",
       "        buttonEl.style.display =\n",
       "          google.colab.kernel.accessAllowed ? 'block' : 'none';\n",
       "\n",
       "        async function convertToInteractive(key) {\n",
       "          const element = document.querySelector('#df-42641d37-1b66-41fa-92d5-d27a1c847af3');\n",
       "          const dataTable =\n",
       "            await google.colab.kernel.invokeFunction('convertToInteractive',\n",
       "                                                     [key], {});\n",
       "          if (!dataTable) return;\n",
       "\n",
       "          const docLinkHtml = 'Like what you see? Visit the ' +\n",
       "            '<a target=\"_blank\" href=https://colab.research.google.com/notebooks/data_table.ipynb>data table notebook</a>'\n",
       "            + ' to learn more about interactive tables.';\n",
       "          element.innerHTML = '';\n",
       "          dataTable['output_type'] = 'display_data';\n",
       "          await google.colab.output.renderOutput(dataTable, element);\n",
       "          const docLink = document.createElement('div');\n",
       "          docLink.innerHTML = docLinkHtml;\n",
       "          element.appendChild(docLink);\n",
       "        }\n",
       "      </script>\n",
       "    </div>\n",
       "  </div>\n",
       "  "
      ],
      "text/plain": [
       "  summary            User ID  Gender                 Age       AnnualSalary  \\\n",
       "0   count               1000    1000                1000               1000   \n",
       "1    mean              500.5    None              40.106            72689.0   \n",
       "2  stddev  288.8194360957494    None  10.707072681429098  34488.34186685011   \n",
       "3     min                  1  Female                  18              15000   \n",
       "4     max               1000    Male                  63             152500   \n",
       "\n",
       "           Purchased  \n",
       "0               1000  \n",
       "1              0.402  \n",
       "2  0.490547282773676  \n",
       "3                  0  \n",
       "4                  1  "
      ]
     },
     "execution_count": 158,
     "metadata": {},
     "output_type": "execute_result"
    }
   ],
   "source": [
    "df.describe().toPandas()"
   ]
  },
  {
   "cell_type": "markdown",
   "metadata": {
    "id": "gmj1e_zbZaEf"
   },
   "source": [
    "#Logit Modeling"
   ]
  },
  {
   "cell_type": "code",
   "execution_count": null,
   "metadata": {
    "colab": {
     "base_uri": "https://localhost:8080/"
    },
    "id": "QFecXmsXaerc",
    "outputId": "a07838c3-e1d8-470c-ecee-a6613f73e23f"
   },
   "outputs": [
    {
     "name": "stdout",
     "output_type": "stream",
     "text": [
      "root\n",
      " |-- User ID: integer (nullable = true)\n",
      " |-- Gender: string (nullable = true)\n",
      " |-- Age: integer (nullable = true)\n",
      " |-- AnnualSalary: integer (nullable = true)\n",
      " |-- Purchased: integer (nullable = true)\n",
      "\n"
     ]
    }
   ],
   "source": [
    "df.printSchema()"
   ]
  },
  {
   "cell_type": "code",
   "execution_count": null,
   "metadata": {
    "colab": {
     "base_uri": "https://localhost:8080/"
    },
    "id": "CLkm78eFa6BV",
    "outputId": "ae664980-ec3a-4abc-9630-e762822dfc2c"
   },
   "outputs": [
    {
     "name": "stdout",
     "output_type": "stream",
     "text": [
      "+-------+------+---+------------+---------+\n",
      "|User ID|Gender|Age|AnnualSalary|Purchased|\n",
      "+-------+------+---+------------+---------+\n",
      "|    385|  Male| 35|       20000|        0|\n",
      "|    681|  Male| 40|       43500|        0|\n",
      "|    353|  Male| 49|       74000|        0|\n",
      "+-------+------+---+------------+---------+\n",
      "only showing top 3 rows\n",
      "\n",
      "+--------------------+---------+\n",
      "|     features_scaled|Purchased|\n",
      "+--------------------+---------+\n",
      "|[0.38438438438438...|        0|\n",
      "|[0.68068068068068...|        0|\n",
      "|[0.35235235235235...|        0|\n",
      "|[0.89489489489489...|        1|\n",
      "|[0.66066066066066...|        0|\n",
      "|[0.84584584584584...|        1|\n",
      "|[0.21821821821821...|        1|\n",
      "|[0.58758758758758...|        0|\n",
      "|[0.08408408408408...|        0|\n",
      "|[0.46446446446446...|        0|\n",
      "|[0.68568568568568...|        0|\n",
      "|[0.40740740740740...|        1|\n",
      "|[0.78978978978978...|        0|\n",
      "|[0.11511511511511...|        0|\n",
      "|[0.11711711711711...|        1|\n",
      "|[0.05305305305305...|        1|\n",
      "|[0.08908908908908...|        0|\n",
      "|[0.37137137137137...|        0|\n",
      "|[0.92592592592592...|        1|\n",
      "|[0.09309309309309...|        1|\n",
      "+--------------------+---------+\n",
      "only showing top 20 rows\n",
      "\n"
     ]
    }
   ],
   "source": [
    "spark = SparkSession.builder.getOrCreate()\n",
    "df = spark.read.csv('car_data.csv', header=True, inferSchema=True)\n",
    "df.show(3)\n",
    "\n",
    "# Categorize Columns\n",
    "indexer = StringIndexer(inputCol='Gender', outputCol='Gender_encoded').fit(df)\n",
    "df = indexer.transform(df).select([x if x != 'Gender' else 'Gender_encoded' for x in df.columns])\n",
    "\n",
    "# Random .8/.2 split\n",
    "train, test = df.randomSplit([.8, .2], seed=0)\n",
    "\n",
    "# Vectorize\n",
    "v_assembler = VectorAssembler(inputCols=[col for col in df.columns if col != 'Purchased'],\n",
    "                              outputCol='features')\n",
    "df = v_assembler.transform(df).select('features', 'Purchased')\n",
    "\n",
    "# Scale\n",
    "scaler = MinMaxScaler(inputCol='features', outputCol='features_scaled').fit(df)\n",
    "df = scaler.transform(df).select('features_scaled', 'Purchased')\n",
    "\n",
    "df.show()\n",
    "\n",
    "# Fit and Train Model\n",
    "lr = LogisticRegression(featuresCol='features_scaled', labelCol= 'Purchased')\n",
    "lr.setParams(regParam=0.01, elasticNetParam=0.5)\n",
    "\n",
    "pipeline = Pipeline(stages=[indexer, v_assembler, scaler, lr])\n",
    "model = pipeline.fit(train)\n"
   ]
  },
  {
   "cell_type": "code",
   "execution_count": null,
   "metadata": {
    "colab": {
     "base_uri": "https://localhost:8080/"
    },
    "id": "nf62-5fgkl7x",
    "outputId": "e01edd46-f382-42af-8b58-9307251e74ba"
   },
   "outputs": [
    {
     "name": "stdout",
     "output_type": "stream",
     "text": [
      "+-------+--------------+---+------------+---------+--------------------+--------------------+--------------------+--------------------+----------+\n",
      "|User ID|Gender_encoded|Age|AnnualSalary|Purchased|            features|     features_scaled|       rawPrediction|         probability|prediction|\n",
      "+-------+--------------+---+------------+---------+--------------------+--------------------+--------------------+--------------------+----------+\n",
      "|     21|           1.0| 36|       62500|        0|[21.0,1.0,36.0,62...|[0.02002002002002...|[1.66424712854177...|[0.84080730600946...|       0.0|\n",
      "|     22|           0.0| 56|      131500|        1|[22.0,0.0,56.0,13...|[0.02102102102102...|[-3.4950924495082...|[0.02945218841335...|       1.0|\n",
      "|     29|           1.0| 36|       40500|        0|[29.0,1.0,36.0,40...|[0.02802802802802...|[2.23988930854211...|[0.90377483233897...|       0.0|\n",
      "|     30|           1.0| 27|       58000|        0|[30.0,1.0,27.0,58...|[0.02902902902902...|[3.37918598563868...|[0.96704767529800...|       0.0|\n",
      "|     31|           0.0| 28|       59500|        0|[31.0,0.0,28.0,59...|[0.03003003003003...|[3.35787499459216...|[0.96636176821765...|       0.0|\n",
      "|     37|           0.0| 22|       27000|        0|[37.0,0.0,22.0,27...|[0.03603603603603...|[5.27305139826329...|[0.99489822231575...|       0.0|\n",
      "|     38|           0.0| 43|       76500|        0|[38.0,0.0,43.0,76...|[0.03703703703703...|[0.25107080655170...|[0.56244004530248...|       0.0|\n",
      "|     40|           1.0| 26|       86000|        0|[40.0,1.0,26.0,86...|[0.03903903903903...|[2.82401646890154...|[0.94395991525512...|       0.0|\n",
      "|     50|           1.0| 37|       53000|        0|[50.0,1.0,37.0,53...|[0.04904904904904...|[1.73535390300590...|[0.85009596278086...|       0.0|\n",
      "|     54|           0.0| 33|      149000|        1|[54.0,0.0,33.0,14...|[0.05305305305305...|[0.12872801872889...|[0.53213763779473...|       0.0|\n",
      "|     61|           1.0| 59|      145500|        1|[61.0,1.0,59.0,14...|[0.06006006006006...|[-4.5892114801514...|[0.01005866252613...|       1.0|\n",
      "|     62|           1.0| 25|       20500|        0|[62.0,1.0,25.0,20...|[0.06106106106106...|[4.71532621716584...|[0.99112257095057...|       0.0|\n",
      "|     63|           0.0| 55|      140500|        1|[63.0,0.0,55.0,14...|[0.06206206206206...|[-3.5531164471541...|[0.02783810869298...|       1.0|\n",
      "|     66|           0.0| 59|      106500|        1|[66.0,0.0,59.0,10...|[0.06506506506506...|[-3.3733515638431...|[0.03313875460717...|       1.0|\n",
      "|     73|           1.0| 60|       76500|        1|[73.0,1.0,60.0,76...|[0.07207207207207...|[-2.9612542643227...|[0.04920729096624...|       1.0|\n",
      "|     76|           0.0| 43|      109500|        1|[76.0,0.0,43.0,10...|[0.07507507507507...|[-0.6123924634488...|[0.35151363802008...|       1.0|\n",
      "|     88|           1.0| 41|       79500|        0|[88.0,1.0,41.0,79...|[0.08708708708708...|[0.33210279131598...|[0.58227093022480...|       0.0|\n",
      "|     90|           1.0| 35|       75000|        0|[90.0,1.0,35.0,75...|[0.08908908908908...|[1.51464369316850...|[0.81974838255625...|       0.0|\n",
      "|     91|           1.0| 31|       74000|        0|[91.0,1.0,31.0,74...|[0.09009009009009...|[2.25067318713075...|[0.90470858702315...|       0.0|\n",
      "|    101|           1.0| 38|       93500|        1|[101.0,1.0,38.0,9...|[0.10010010010010...|[0.49818299565108...|[0.62203223351914...|       0.0|\n",
      "+-------+--------------+---+------------+---------+--------------------+--------------------+--------------------+--------------------+----------+\n",
      "only showing top 20 rows\n",
      "\n"
     ]
    }
   ],
   "source": [
    "#Predict with model --> RAWPREDICTION IS VALUE BEFORE SIGMOID FUNCTION/SOFTMAX\n",
    "pred = model.transform(test)\n",
    "pred.show()"
   ]
  },
  {
   "cell_type": "code",
   "execution_count": null,
   "metadata": {
    "colab": {
     "base_uri": "https://localhost:8080/"
    },
    "id": "bDSv4-6fnjVx",
    "outputId": "fccd9086-5bce-41fc-83d5-983eba3c25a7"
   },
   "outputs": [
    {
     "name": "stdout",
     "output_type": "stream",
     "text": [
      "0.9261607142857144\n"
     ]
    }
   ],
   "source": [
    "#ADD MORE EVALUATORS\n",
    "evaluator = BinaryClassificationEvaluator(labelCol='Purchased')\n",
    "areaUnderROC = evaluator.evaluate(pred, {evaluator.metricName: 'areaUnderROC'})\n",
    "#areaUnderPR = 'areaUnderPR'\n",
    "print(areaUnderROC)"
   ]
  },
  {
   "cell_type": "code",
   "execution_count": null,
   "metadata": {
    "id": "khuwg_oDa6_P"
   },
   "outputs": [],
   "source": [
    "#Gridsearch to optimize Logistic Regression HyperParameters"
   ]
  },
  {
   "cell_type": "code",
   "execution_count": null,
   "metadata": {
    "id": "JKXm4w4DbJrq"
   },
   "outputs": [],
   "source": [
    "#Evaluate Model Performance"
   ]
  }
 ],
 "metadata": {
  "colab": {
   "provenance": []
  },
  "kernelspec": {
   "display_name": "Python 3 (ipykernel)",
   "language": "python",
   "name": "python3"
  },
  "language_info": {
   "codemirror_mode": {
    "name": "ipython",
    "version": 3
   },
   "file_extension": ".py",
   "mimetype": "text/x-python",
   "name": "python",
   "nbconvert_exporter": "python",
   "pygments_lexer": "ipython3",
   "version": "3.9.6"
  }
 },
 "nbformat": 4,
 "nbformat_minor": 1
}
