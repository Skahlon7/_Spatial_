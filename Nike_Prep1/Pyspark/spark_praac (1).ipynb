{
  "nbformat": 4,
  "nbformat_minor": 0,
  "metadata": {
    "colab": {
      "provenance": []
    },
    "kernelspec": {
      "name": "python3",
      "display_name": "Python 3"
    },
    "language_info": {
      "name": "python"
    }
  },
  "cells": [
    {
      "cell_type": "markdown",
      "source": [
        "### Date-Time/torch Practice w/ Time-series Data"
      ],
      "metadata": {
        "id": "ubKD1lyTUr97"
      }
    },
    {
      "cell_type": "code",
      "execution_count": 114,
      "metadata": {
        "id": "NwOG4w2pRr84"
      },
      "outputs": [],
      "source": [
        "import pandas as pd\n",
        "import numpy as np\n",
        "import datetime \n",
        "import torch\n",
        "from datetime import date, datetime, timedelta\n",
        "import pyspark\n",
        "from pyspark.sql import SparkSession\n",
        "from pyspark.sql.functions import col, mean, stddev, variance, when\n",
        "import pyspark.sql.functions as F\n",
        "from pyspark.ml.regression import LinearRegression\n",
        "from pyspark.ml.evaluation import RegressionEvaluator\n",
        "from pyspark.ml.feature import StringIndexer, OneHotEncoder, StandardScaler, VectorAssembler\n",
        "from pyspark.sql.types import *"
      ]
    },
    {
      "cell_type": "code",
      "source": [
        "df = pd.read_csv('./DailyDelhiClimateTrain.csv')\n",
        "df.head(3)"
      ],
      "metadata": {
        "colab": {
          "base_uri": "https://localhost:8080/",
          "height": 143
        },
        "id": "2A6IqemNUwab",
        "outputId": "04d37d34-7ae8-4331-efad-4c45c0ee4974"
      },
      "execution_count": 7,
      "outputs": [
        {
          "output_type": "execute_result",
          "data": {
            "text/plain": [
              "         date   meantemp  humidity  wind_speed  meanpressure\n",
              "0  2013-01-01  10.000000      84.5    0.000000   1015.666667\n",
              "1  2013-01-02   7.400000      92.0    2.980000   1017.800000\n",
              "2  2013-01-03   7.166667      87.0    4.633333   1018.666667"
            ],
            "text/html": [
              "\n",
              "  <div id=\"df-ebb5decc-8502-4862-8c08-9ae4bda2e5a7\">\n",
              "    <div class=\"colab-df-container\">\n",
              "      <div>\n",
              "<style scoped>\n",
              "    .dataframe tbody tr th:only-of-type {\n",
              "        vertical-align: middle;\n",
              "    }\n",
              "\n",
              "    .dataframe tbody tr th {\n",
              "        vertical-align: top;\n",
              "    }\n",
              "\n",
              "    .dataframe thead th {\n",
              "        text-align: right;\n",
              "    }\n",
              "</style>\n",
              "<table border=\"1\" class=\"dataframe\">\n",
              "  <thead>\n",
              "    <tr style=\"text-align: right;\">\n",
              "      <th></th>\n",
              "      <th>date</th>\n",
              "      <th>meantemp</th>\n",
              "      <th>humidity</th>\n",
              "      <th>wind_speed</th>\n",
              "      <th>meanpressure</th>\n",
              "    </tr>\n",
              "  </thead>\n",
              "  <tbody>\n",
              "    <tr>\n",
              "      <th>0</th>\n",
              "      <td>2013-01-01</td>\n",
              "      <td>10.000000</td>\n",
              "      <td>84.5</td>\n",
              "      <td>0.000000</td>\n",
              "      <td>1015.666667</td>\n",
              "    </tr>\n",
              "    <tr>\n",
              "      <th>1</th>\n",
              "      <td>2013-01-02</td>\n",
              "      <td>7.400000</td>\n",
              "      <td>92.0</td>\n",
              "      <td>2.980000</td>\n",
              "      <td>1017.800000</td>\n",
              "    </tr>\n",
              "    <tr>\n",
              "      <th>2</th>\n",
              "      <td>2013-01-03</td>\n",
              "      <td>7.166667</td>\n",
              "      <td>87.0</td>\n",
              "      <td>4.633333</td>\n",
              "      <td>1018.666667</td>\n",
              "    </tr>\n",
              "  </tbody>\n",
              "</table>\n",
              "</div>\n",
              "      <button class=\"colab-df-convert\" onclick=\"convertToInteractive('df-ebb5decc-8502-4862-8c08-9ae4bda2e5a7')\"\n",
              "              title=\"Convert this dataframe to an interactive table.\"\n",
              "              style=\"display:none;\">\n",
              "        \n",
              "  <svg xmlns=\"http://www.w3.org/2000/svg\" height=\"24px\"viewBox=\"0 0 24 24\"\n",
              "       width=\"24px\">\n",
              "    <path d=\"M0 0h24v24H0V0z\" fill=\"none\"/>\n",
              "    <path d=\"M18.56 5.44l.94 2.06.94-2.06 2.06-.94-2.06-.94-.94-2.06-.94 2.06-2.06.94zm-11 1L8.5 8.5l.94-2.06 2.06-.94-2.06-.94L8.5 2.5l-.94 2.06-2.06.94zm10 10l.94 2.06.94-2.06 2.06-.94-2.06-.94-.94-2.06-.94 2.06-2.06.94z\"/><path d=\"M17.41 7.96l-1.37-1.37c-.4-.4-.92-.59-1.43-.59-.52 0-1.04.2-1.43.59L10.3 9.45l-7.72 7.72c-.78.78-.78 2.05 0 2.83L4 21.41c.39.39.9.59 1.41.59.51 0 1.02-.2 1.41-.59l7.78-7.78 2.81-2.81c.8-.78.8-2.07 0-2.86zM5.41 20L4 18.59l7.72-7.72 1.47 1.35L5.41 20z\"/>\n",
              "  </svg>\n",
              "      </button>\n",
              "      \n",
              "  <style>\n",
              "    .colab-df-container {\n",
              "      display:flex;\n",
              "      flex-wrap:wrap;\n",
              "      gap: 12px;\n",
              "    }\n",
              "\n",
              "    .colab-df-convert {\n",
              "      background-color: #E8F0FE;\n",
              "      border: none;\n",
              "      border-radius: 50%;\n",
              "      cursor: pointer;\n",
              "      display: none;\n",
              "      fill: #1967D2;\n",
              "      height: 32px;\n",
              "      padding: 0 0 0 0;\n",
              "      width: 32px;\n",
              "    }\n",
              "\n",
              "    .colab-df-convert:hover {\n",
              "      background-color: #E2EBFA;\n",
              "      box-shadow: 0px 1px 2px rgba(60, 64, 67, 0.3), 0px 1px 3px 1px rgba(60, 64, 67, 0.15);\n",
              "      fill: #174EA6;\n",
              "    }\n",
              "\n",
              "    [theme=dark] .colab-df-convert {\n",
              "      background-color: #3B4455;\n",
              "      fill: #D2E3FC;\n",
              "    }\n",
              "\n",
              "    [theme=dark] .colab-df-convert:hover {\n",
              "      background-color: #434B5C;\n",
              "      box-shadow: 0px 1px 3px 1px rgba(0, 0, 0, 0.15);\n",
              "      filter: drop-shadow(0px 1px 2px rgba(0, 0, 0, 0.3));\n",
              "      fill: #FFFFFF;\n",
              "    }\n",
              "  </style>\n",
              "\n",
              "      <script>\n",
              "        const buttonEl =\n",
              "          document.querySelector('#df-ebb5decc-8502-4862-8c08-9ae4bda2e5a7 button.colab-df-convert');\n",
              "        buttonEl.style.display =\n",
              "          google.colab.kernel.accessAllowed ? 'block' : 'none';\n",
              "\n",
              "        async function convertToInteractive(key) {\n",
              "          const element = document.querySelector('#df-ebb5decc-8502-4862-8c08-9ae4bda2e5a7');\n",
              "          const dataTable =\n",
              "            await google.colab.kernel.invokeFunction('convertToInteractive',\n",
              "                                                     [key], {});\n",
              "          if (!dataTable) return;\n",
              "\n",
              "          const docLinkHtml = 'Like what you see? Visit the ' +\n",
              "            '<a target=\"_blank\" href=https://colab.research.google.com/notebooks/data_table.ipynb>data table notebook</a>'\n",
              "            + ' to learn more about interactive tables.';\n",
              "          element.innerHTML = '';\n",
              "          dataTable['output_type'] = 'display_data';\n",
              "          await google.colab.output.renderOutput(dataTable, element);\n",
              "          const docLink = document.createElement('div');\n",
              "          docLink.innerHTML = docLinkHtml;\n",
              "          element.appendChild(docLink);\n",
              "        }\n",
              "      </script>\n",
              "    </div>\n",
              "  </div>\n",
              "  "
            ]
          },
          "metadata": {},
          "execution_count": 7
        }
      ]
    },
    {
      "cell_type": "markdown",
      "source": [
        "#### Spark Dataset Dtype configuring/show"
      ],
      "metadata": {
        "id": "ZePBu1YbjS68"
      }
    },
    {
      "cell_type": "code",
      "source": [
        "# Create a SparkSession\n",
        "spark = SparkSession.builder.getOrCreate()\n",
        "\n",
        "#Convert date to str\n",
        "df = spark.createDataFrame(df)\n",
        "df = df.withColumn(\"Date\", col(\"Date\").cast(\"string\"))\n",
        "\n",
        "df.printSchema() #DATATYPES"
      ],
      "metadata": {
        "colab": {
          "base_uri": "https://localhost:8080/"
        },
        "id": "wnL6jhgRXUQz",
        "outputId": "9df5fe7d-e0f1-4f25-edbb-755fd42029f8"
      },
      "execution_count": 8,
      "outputs": [
        {
          "output_type": "stream",
          "name": "stdout",
          "text": [
            "root\n",
            " |-- Date: string (nullable = true)\n",
            " |-- meantemp: double (nullable = true)\n",
            " |-- humidity: double (nullable = true)\n",
            " |-- wind_speed: double (nullable = true)\n",
            " |-- meanpressure: double (nullable = true)\n",
            "\n"
          ]
        }
      ]
    },
    {
      "cell_type": "code",
      "source": [
        "df.show(5)"
      ],
      "metadata": {
        "colab": {
          "base_uri": "https://localhost:8080/"
        },
        "id": "zpNjsTCEcALS",
        "outputId": "2deefbea-0bc5-4357-d95a-af8fbce772e3"
      },
      "execution_count": 9,
      "outputs": [
        {
          "output_type": "stream",
          "name": "stdout",
          "text": [
            "+----------+-----------------+-----------------+------------------+------------------+\n",
            "|      Date|         meantemp|         humidity|        wind_speed|      meanpressure|\n",
            "+----------+-----------------+-----------------+------------------+------------------+\n",
            "|2013-01-01|             10.0|             84.5|               0.0|1015.6666666666666|\n",
            "|2013-01-02|              7.4|             92.0|              2.98|            1017.8|\n",
            "|2013-01-03|7.166666666666667|             87.0| 4.633333333333334|1018.6666666666666|\n",
            "|2013-01-04|8.666666666666666|71.33333333333333|1.2333333333333334|1017.1666666666666|\n",
            "|2013-01-05|              6.0|86.83333333333333|               3.7|            1016.5|\n",
            "+----------+-----------------+-----------------+------------------+------------------+\n",
            "only showing top 5 rows\n",
            "\n"
          ]
        }
      ]
    },
    {
      "cell_type": "markdown",
      "source": [
        "#### Spark Analysis"
      ],
      "metadata": {
        "id": "Y9yQTZzMjWm_"
      }
    },
    {
      "cell_type": "code",
      "source": [
        "for col_ in df.columns[1:]: \n",
        "  print(col_+': ',round(df.select(mean(col(col_))).first()[0],3), '(mean) ',\n",
        "      round(df.select(stddev(col(col_))).first()[0],2), '(stddev) ', round(df.select(variance(col(col_))).first()[0],2), '(variance)', sep='') "
      ],
      "metadata": {
        "colab": {
          "base_uri": "https://localhost:8080/"
        },
        "id": "2yJObvXYi1Q6",
        "outputId": "cd99ff22-1d19-4fa0-b4fe-7912baf646ad"
      },
      "execution_count": 10,
      "outputs": [
        {
          "output_type": "stream",
          "name": "stdout",
          "text": [
            "meantemp: 25.496(mean) 7.35(stddev) 53.99(variance)\n",
            "humidity: 60.772(mean) 16.77(stddev) 281.22(variance)\n",
            "wind_speed: 6.802(mean) 4.56(stddev) 20.81(variance)\n",
            "meanpressure: 1011.105(mean) 180.23(stddev) 32483.45(variance)\n"
          ]
        }
      ]
    },
    {
      "cell_type": "code",
      "source": [
        "df.select(F.avg(col('meantemp'))).first()[0]  ### BEST WAY TO DO IT"
      ],
      "metadata": {
        "colab": {
          "base_uri": "https://localhost:8080/"
        },
        "id": "PzOyX-O6hqeh",
        "outputId": "4d71df89-e074-41c4-8489-ee7cc6261382"
      },
      "execution_count": 11,
      "outputs": [
        {
          "output_type": "execute_result",
          "data": {
            "text/plain": [
              "25.495520655761744"
            ]
          },
          "metadata": {},
          "execution_count": 11
        }
      ]
    },
    {
      "cell_type": "code",
      "source": [
        "df.select(F.corr('meantemp', 'humidity')).first()[0]"
      ],
      "metadata": {
        "colab": {
          "base_uri": "https://localhost:8080/"
        },
        "id": "ajfjLGmExOiJ",
        "outputId": "8817dc6b-063b-4175-fadd-382e4cd2be18"
      },
      "execution_count": 12,
      "outputs": [
        {
          "output_type": "execute_result",
          "data": {
            "text/plain": [
              "-0.5719507155817208"
            ]
          },
          "metadata": {},
          "execution_count": 12
        }
      ]
    },
    {
      "cell_type": "code",
      "source": [
        "#Find correlation of columns\n",
        "for col_ in df.columns:\n",
        "  for col2 in df.columns:\n",
        "    if col==col2 or df.select(F.col(col_)).dtypes[0][1] == 'string' or df.select(F.col(col2)).dtypes[0][1] == 'string': pass\n",
        "    else:print('Correlation ({}, {}):'.format(col_, col2), df.select(F.corr(col_, col2)).first()[0])"
      ],
      "metadata": {
        "colab": {
          "base_uri": "https://localhost:8080/"
        },
        "id": "ec26r8FlszVf",
        "outputId": "95ed396c-0ea8-41d0-aaa9-ca1783a04913"
      },
      "execution_count": 13,
      "outputs": [
        {
          "output_type": "stream",
          "name": "stdout",
          "text": [
            "Correlation (meantemp, meantemp): 1.0\n",
            "Correlation (meantemp, humidity): -0.5719507155817208\n",
            "Correlation (meantemp, wind_speed): 0.30646771079326535\n",
            "Correlation (meantemp, meanpressure): -0.03881818411702129\n",
            "Correlation (humidity, meantemp): -0.5719507155817208\n",
            "Correlation (humidity, humidity): 1.0\n",
            "Correlation (humidity, wind_speed): -0.3739716746001083\n",
            "Correlation (humidity, meanpressure): 0.0017337351726500647\n",
            "Correlation (wind_speed, meantemp): 0.30646771079326535\n",
            "Correlation (wind_speed, humidity): -0.3739716746001083\n",
            "Correlation (wind_speed, wind_speed): 1.0\n",
            "Correlation (wind_speed, meanpressure): -0.020669621285392372\n",
            "Correlation (meanpressure, meantemp): -0.038818184117021266\n",
            "Correlation (meanpressure, humidity): 0.0017337351726500426\n",
            "Correlation (meanpressure, wind_speed): -0.02066962128539236\n",
            "Correlation (meanpressure, meanpressure): 1.0\n"
          ]
        }
      ]
    },
    {
      "cell_type": "code",
      "source": [
        "df.select(F.col('date')).dtypes[0][1] == 'string'"
      ],
      "metadata": {
        "colab": {
          "base_uri": "https://localhost:8080/"
        },
        "id": "oYZftOInrssu",
        "outputId": "cba73d0c-2633-4114-984d-9d1e3a2b5d34"
      },
      "execution_count": 14,
      "outputs": [
        {
          "output_type": "execute_result",
          "data": {
            "text/plain": [
              "True"
            ]
          },
          "metadata": {},
          "execution_count": 14
        }
      ]
    },
    {
      "cell_type": "code",
      "source": [
        "#ORDER BY\n",
        "df.orderBy(F.col('meantemp').asc()).show(3)"
      ],
      "metadata": {
        "colab": {
          "base_uri": "https://localhost:8080/"
        },
        "id": "_8DU7NPhq2Q6",
        "outputId": "f3f179b0-8049-4092-d6bf-b5a4e90ff992"
      },
      "execution_count": 15,
      "outputs": [
        {
          "output_type": "stream",
          "name": "stdout",
          "text": [
            "+----------+--------+-----------------+----------+------------+\n",
            "|      Date|meantemp|         humidity|wind_speed|meanpressure|\n",
            "+----------+--------+-----------------+----------+------------+\n",
            "|2013-01-05|     6.0|86.83333333333333|       3.7|      1016.5|\n",
            "|2013-01-07|     7.0|             78.6|       6.3|      1020.0|\n",
            "|2013-01-06|     7.0|             82.8|      1.48|      1018.0|\n",
            "+----------+--------+-----------------+----------+------------+\n",
            "only showing top 3 rows\n",
            "\n"
          ]
        }
      ]
    },
    {
      "cell_type": "code",
      "source": [
        "df.orderBy(F.col('meantemp').asc(), F.col('wind_speed').asc()).show(5)"
      ],
      "metadata": {
        "colab": {
          "base_uri": "https://localhost:8080/"
        },
        "id": "xHBgwOzSq2TJ",
        "outputId": "77933fb8-aa0b-4f70-cea6-0373d98373c8"
      },
      "execution_count": 16,
      "outputs": [
        {
          "output_type": "stream",
          "name": "stdout",
          "text": [
            "+----------+-----------------+-----------------+-----------------+------------------+\n",
            "|      Date|         meantemp|         humidity|       wind_speed|      meanpressure|\n",
            "+----------+-----------------+-----------------+-----------------+------------------+\n",
            "|2013-01-05|              6.0|86.83333333333333|              3.7|            1016.5|\n",
            "|2013-01-06|              7.0|             82.8|             1.48|            1018.0|\n",
            "|2013-01-07|              7.0|             78.6|              6.3|            1020.0|\n",
            "|2013-01-03|7.166666666666667|             87.0|4.633333333333334|1018.6666666666666|\n",
            "|2013-01-02|              7.4|             92.0|             2.98|            1017.8|\n",
            "+----------+-----------------+-----------------+-----------------+------------------+\n",
            "only showing top 5 rows\n",
            "\n"
          ]
        }
      ]
    },
    {
      "cell_type": "code",
      "source": [
        "df.describe().toPandas() #Descriptive Stats"
      ],
      "metadata": {
        "colab": {
          "base_uri": "https://localhost:8080/",
          "height": 206
        },
        "id": "K_vmE-PP2PE3",
        "outputId": "3b9ec329-e0a7-4d1b-dfd5-c556c66cfc51"
      },
      "execution_count": 17,
      "outputs": [
        {
          "output_type": "execute_result",
          "data": {
            "text/plain": [
              "  summary        Date            meantemp            humidity  \\\n",
              "0   count        1462                1462                1462   \n",
              "1    mean        None  25.495520655761744   60.77170158004638   \n",
              "2  stddev        None   7.348102725432477   16.76965226848531   \n",
              "3     min  2013-01-01                 6.0  13.428571428571429   \n",
              "4     max  2017-01-01   38.71428571428572               100.0   \n",
              "\n",
              "          wind_speed         meanpressure  \n",
              "0               1462                 1462  \n",
              "1  6.802208747447473   1011.1045475940379  \n",
              "2  4.561602164272007   180.23166833920956  \n",
              "3                0.0  -3.0416666666666665  \n",
              "4              42.22    7679.333333333333  "
            ],
            "text/html": [
              "\n",
              "  <div id=\"df-c74e64c4-cd0a-49c2-bcdb-2b2348621164\">\n",
              "    <div class=\"colab-df-container\">\n",
              "      <div>\n",
              "<style scoped>\n",
              "    .dataframe tbody tr th:only-of-type {\n",
              "        vertical-align: middle;\n",
              "    }\n",
              "\n",
              "    .dataframe tbody tr th {\n",
              "        vertical-align: top;\n",
              "    }\n",
              "\n",
              "    .dataframe thead th {\n",
              "        text-align: right;\n",
              "    }\n",
              "</style>\n",
              "<table border=\"1\" class=\"dataframe\">\n",
              "  <thead>\n",
              "    <tr style=\"text-align: right;\">\n",
              "      <th></th>\n",
              "      <th>summary</th>\n",
              "      <th>Date</th>\n",
              "      <th>meantemp</th>\n",
              "      <th>humidity</th>\n",
              "      <th>wind_speed</th>\n",
              "      <th>meanpressure</th>\n",
              "    </tr>\n",
              "  </thead>\n",
              "  <tbody>\n",
              "    <tr>\n",
              "      <th>0</th>\n",
              "      <td>count</td>\n",
              "      <td>1462</td>\n",
              "      <td>1462</td>\n",
              "      <td>1462</td>\n",
              "      <td>1462</td>\n",
              "      <td>1462</td>\n",
              "    </tr>\n",
              "    <tr>\n",
              "      <th>1</th>\n",
              "      <td>mean</td>\n",
              "      <td>None</td>\n",
              "      <td>25.495520655761744</td>\n",
              "      <td>60.77170158004638</td>\n",
              "      <td>6.802208747447473</td>\n",
              "      <td>1011.1045475940379</td>\n",
              "    </tr>\n",
              "    <tr>\n",
              "      <th>2</th>\n",
              "      <td>stddev</td>\n",
              "      <td>None</td>\n",
              "      <td>7.348102725432477</td>\n",
              "      <td>16.76965226848531</td>\n",
              "      <td>4.561602164272007</td>\n",
              "      <td>180.23166833920956</td>\n",
              "    </tr>\n",
              "    <tr>\n",
              "      <th>3</th>\n",
              "      <td>min</td>\n",
              "      <td>2013-01-01</td>\n",
              "      <td>6.0</td>\n",
              "      <td>13.428571428571429</td>\n",
              "      <td>0.0</td>\n",
              "      <td>-3.0416666666666665</td>\n",
              "    </tr>\n",
              "    <tr>\n",
              "      <th>4</th>\n",
              "      <td>max</td>\n",
              "      <td>2017-01-01</td>\n",
              "      <td>38.71428571428572</td>\n",
              "      <td>100.0</td>\n",
              "      <td>42.22</td>\n",
              "      <td>7679.333333333333</td>\n",
              "    </tr>\n",
              "  </tbody>\n",
              "</table>\n",
              "</div>\n",
              "      <button class=\"colab-df-convert\" onclick=\"convertToInteractive('df-c74e64c4-cd0a-49c2-bcdb-2b2348621164')\"\n",
              "              title=\"Convert this dataframe to an interactive table.\"\n",
              "              style=\"display:none;\">\n",
              "        \n",
              "  <svg xmlns=\"http://www.w3.org/2000/svg\" height=\"24px\"viewBox=\"0 0 24 24\"\n",
              "       width=\"24px\">\n",
              "    <path d=\"M0 0h24v24H0V0z\" fill=\"none\"/>\n",
              "    <path d=\"M18.56 5.44l.94 2.06.94-2.06 2.06-.94-2.06-.94-.94-2.06-.94 2.06-2.06.94zm-11 1L8.5 8.5l.94-2.06 2.06-.94-2.06-.94L8.5 2.5l-.94 2.06-2.06.94zm10 10l.94 2.06.94-2.06 2.06-.94-2.06-.94-.94-2.06-.94 2.06-2.06.94z\"/><path d=\"M17.41 7.96l-1.37-1.37c-.4-.4-.92-.59-1.43-.59-.52 0-1.04.2-1.43.59L10.3 9.45l-7.72 7.72c-.78.78-.78 2.05 0 2.83L4 21.41c.39.39.9.59 1.41.59.51 0 1.02-.2 1.41-.59l7.78-7.78 2.81-2.81c.8-.78.8-2.07 0-2.86zM5.41 20L4 18.59l7.72-7.72 1.47 1.35L5.41 20z\"/>\n",
              "  </svg>\n",
              "      </button>\n",
              "      \n",
              "  <style>\n",
              "    .colab-df-container {\n",
              "      display:flex;\n",
              "      flex-wrap:wrap;\n",
              "      gap: 12px;\n",
              "    }\n",
              "\n",
              "    .colab-df-convert {\n",
              "      background-color: #E8F0FE;\n",
              "      border: none;\n",
              "      border-radius: 50%;\n",
              "      cursor: pointer;\n",
              "      display: none;\n",
              "      fill: #1967D2;\n",
              "      height: 32px;\n",
              "      padding: 0 0 0 0;\n",
              "      width: 32px;\n",
              "    }\n",
              "\n",
              "    .colab-df-convert:hover {\n",
              "      background-color: #E2EBFA;\n",
              "      box-shadow: 0px 1px 2px rgba(60, 64, 67, 0.3), 0px 1px 3px 1px rgba(60, 64, 67, 0.15);\n",
              "      fill: #174EA6;\n",
              "    }\n",
              "\n",
              "    [theme=dark] .colab-df-convert {\n",
              "      background-color: #3B4455;\n",
              "      fill: #D2E3FC;\n",
              "    }\n",
              "\n",
              "    [theme=dark] .colab-df-convert:hover {\n",
              "      background-color: #434B5C;\n",
              "      box-shadow: 0px 1px 3px 1px rgba(0, 0, 0, 0.15);\n",
              "      filter: drop-shadow(0px 1px 2px rgba(0, 0, 0, 0.3));\n",
              "      fill: #FFFFFF;\n",
              "    }\n",
              "  </style>\n",
              "\n",
              "      <script>\n",
              "        const buttonEl =\n",
              "          document.querySelector('#df-c74e64c4-cd0a-49c2-bcdb-2b2348621164 button.colab-df-convert');\n",
              "        buttonEl.style.display =\n",
              "          google.colab.kernel.accessAllowed ? 'block' : 'none';\n",
              "\n",
              "        async function convertToInteractive(key) {\n",
              "          const element = document.querySelector('#df-c74e64c4-cd0a-49c2-bcdb-2b2348621164');\n",
              "          const dataTable =\n",
              "            await google.colab.kernel.invokeFunction('convertToInteractive',\n",
              "                                                     [key], {});\n",
              "          if (!dataTable) return;\n",
              "\n",
              "          const docLinkHtml = 'Like what you see? Visit the ' +\n",
              "            '<a target=\"_blank\" href=https://colab.research.google.com/notebooks/data_table.ipynb>data table notebook</a>'\n",
              "            + ' to learn more about interactive tables.';\n",
              "          element.innerHTML = '';\n",
              "          dataTable['output_type'] = 'display_data';\n",
              "          await google.colab.output.renderOutput(dataTable, element);\n",
              "          const docLink = document.createElement('div');\n",
              "          docLink.innerHTML = docLinkHtml;\n",
              "          element.appendChild(docLink);\n",
              "        }\n",
              "      </script>\n",
              "    </div>\n",
              "  </div>\n",
              "  "
            ]
          },
          "metadata": {},
          "execution_count": 17
        }
      ]
    },
    {
      "cell_type": "code",
      "source": [],
      "metadata": {
        "id": "zI9vbIWa0WTl"
      },
      "execution_count": null,
      "outputs": []
    },
    {
      "cell_type": "markdown",
      "source": [
        "#### Column Work"
      ],
      "metadata": {
        "id": "aqskBD5gpIHh"
      }
    },
    {
      "cell_type": "code",
      "source": [
        "df = df.withColumn('wind_speedMPH', col('wind_speed')/1.64) #Create new column\n",
        "df = df.withColumn('hum_wind_ratio', col('meantemp')/col('wind_speed')).fillna(0)"
      ],
      "metadata": {
        "id": "AgJhaS_Hi1-s"
      },
      "execution_count": 18,
      "outputs": []
    },
    {
      "cell_type": "code",
      "source": [
        "#multiple columns initiated\n",
        "\n",
        "df.withColumn('wind_speedM', F.col('wind_speed')/1.64).withColumn('hum_ratio', F.col('meantemp')/F.col('wind_speed')).fillna(0).show(3)"
      ],
      "metadata": {
        "colab": {
          "base_uri": "https://localhost:8080/"
        },
        "id": "CBO4O6pz8YyA",
        "outputId": "07b6a5ae-6c28-4292-f1d5-de36daf9f48b"
      },
      "execution_count": 19,
      "outputs": [
        {
          "output_type": "stream",
          "name": "stdout",
          "text": [
            "+----------+-----------------+--------+-----------------+------------------+------------------+------------------+------------------+------------------+\n",
            "|      Date|         meantemp|humidity|       wind_speed|      meanpressure|     wind_speedMPH|    hum_wind_ratio|       wind_speedM|         hum_ratio|\n",
            "+----------+-----------------+--------+-----------------+------------------+------------------+------------------+------------------+------------------+\n",
            "|2013-01-01|             10.0|    84.5|              0.0|1015.6666666666666|               0.0|               0.0|               0.0|               0.0|\n",
            "|2013-01-02|              7.4|    92.0|             2.98|            1017.8|1.8170731707317074|2.4832214765100673|1.8170731707317074|2.4832214765100673|\n",
            "|2013-01-03|7.166666666666667|    87.0|4.633333333333334|1018.6666666666666|2.8252032520325208|1.5467625899280575|2.8252032520325208|1.5467625899280575|\n",
            "+----------+-----------------+--------+-----------------+------------------+------------------+------------------+------------------+------------------+\n",
            "only showing top 3 rows\n",
            "\n"
          ]
        }
      ]
    },
    {
      "cell_type": "code",
      "source": [
        "df.show(3)"
      ],
      "metadata": {
        "colab": {
          "base_uri": "https://localhost:8080/"
        },
        "id": "-b9c2A3yi2Bs",
        "outputId": "8edc95b2-15df-464c-8f0a-d0047fd294c6"
      },
      "execution_count": 20,
      "outputs": [
        {
          "output_type": "stream",
          "name": "stdout",
          "text": [
            "+----------+-----------------+--------+-----------------+------------------+------------------+------------------+\n",
            "|      Date|         meantemp|humidity|       wind_speed|      meanpressure|     wind_speedMPH|    hum_wind_ratio|\n",
            "+----------+-----------------+--------+-----------------+------------------+------------------+------------------+\n",
            "|2013-01-01|             10.0|    84.5|              0.0|1015.6666666666666|               0.0|               0.0|\n",
            "|2013-01-02|              7.4|    92.0|             2.98|            1017.8|1.8170731707317074|2.4832214765100673|\n",
            "|2013-01-03|7.166666666666667|    87.0|4.633333333333334|1018.6666666666666|2.8252032520325208|1.5467625899280575|\n",
            "+----------+-----------------+--------+-----------------+------------------+------------------+------------------+\n",
            "only showing top 3 rows\n",
            "\n"
          ]
        }
      ]
    },
    {
      "cell_type": "markdown",
      "source": [
        "### More Practice from Modules"
      ],
      "metadata": {
        "id": "JsxBfdS18tpq"
      }
    },
    {
      "cell_type": "code",
      "source": [
        "df = spark.read.csv(\n",
        "    'spotify_weekly_chart.csv',\n",
        "        sep = ',',\n",
        "    header = True,\n",
        ")\n",
        "df.printSchema() "
      ],
      "metadata": {
        "colab": {
          "base_uri": "https://localhost:8080/"
        },
        "id": "oFWRHzXZ8svX",
        "outputId": "5c190f3b-3856-424f-9f82-535e1d18eca7"
      },
      "execution_count": 120,
      "outputs": [
        {
          "output_type": "stream",
          "name": "stdout",
          "text": [
            "root\n",
            " |-- Pos: string (nullable = true)\n",
            " |-- P+: string (nullable = true)\n",
            " |-- Artist: string (nullable = true)\n",
            " |-- Title: string (nullable = true)\n",
            " |-- Wks: string (nullable = true)\n",
            " |-- Pk: string (nullable = true)\n",
            " |-- (x?): string (nullable = true)\n",
            " |-- Streams: string (nullable = true)\n",
            " |-- Streams+: string (nullable = true)\n",
            " |-- Total: string (nullable = true)\n",
            "\n"
          ]
        }
      ]
    },
    {
      "cell_type": "code",
      "source": [
        "df.show(3)"
      ],
      "metadata": {
        "colab": {
          "base_uri": "https://localhost:8080/"
        },
        "id": "4xvO4V8VNmT8",
        "outputId": "754941a2-d3b3-409f-976e-f2ee9ba11323"
      },
      "execution_count": 121,
      "outputs": [
        {
          "output_type": "stream",
          "name": "stdout",
          "text": [
            "+---+---+------------+-----------+---+---+----+--------+----------+---------+\n",
            "|Pos| P+|      Artist|      Title|Wks| Pk|(x?)| Streams|  Streams+|    Total|\n",
            "+---+---+------------+-----------+---+---+----+--------+----------+---------+\n",
            "|  1|  =|Miley Cyrus |    Flowers|  7|  1|   7|56744018|-5019054.0|585390148|\n",
            "|  2|NEW|    KAROL G |        TQG|  1|  2|   1|53284451|      null| 53284451|\n",
            "|  3|NEW| The Weeknd |Die For You|  1|  3|   1|46213370|      null| 46213370|\n",
            "+---+---+------------+-----------+---+---+----+--------+----------+---------+\n",
            "only showing top 3 rows\n",
            "\n"
          ]
        }
      ]
    },
    {
      "cell_type": "code",
      "source": [
        "#change data types accordingly. ---> or can use cast() method\n",
        "new_schema = [\n",
        "    StructField('Pos', IntegerType(), True),\n",
        "    StructField('P+', StringType(), True),\n",
        "    StructField('Artist', StringType(), True),\n",
        "    StructField('Title', StringType(), True),\n",
        "    StructField('Wks', IntegerType(), True),\n",
        "    StructField('Pk', IntegerType(), True),\n",
        "    StructField('(x?)', IntegerType(), True),\n",
        "    StructField('Streams', IntegerType(), True),\n",
        "    StructField('Streams+', DoubleType(), True),\n",
        "    StructField('Total', IntegerType(), True), \n",
        "] \n",
        "new_struct = StructType(fields=new_schema)\n",
        "\n",
        "df = spark.read.csv(\n",
        "    'spotify_weekly_chart.csv',\n",
        "    sep=',',\n",
        "    header=True,\n",
        "    schema = new_struct\n",
        ")\n",
        "df.printSchema()"
      ],
      "metadata": {
        "colab": {
          "base_uri": "https://localhost:8080/"
        },
        "id": "cjaPNkfr8syB",
        "outputId": "bce4545f-a9ec-4cf8-a66e-aa9aa7df5ebb"
      },
      "execution_count": 122,
      "outputs": [
        {
          "output_type": "stream",
          "name": "stdout",
          "text": [
            "root\n",
            " |-- Pos: integer (nullable = true)\n",
            " |-- P+: string (nullable = true)\n",
            " |-- Artist: string (nullable = true)\n",
            " |-- Title: string (nullable = true)\n",
            " |-- Wks: integer (nullable = true)\n",
            " |-- Pk: integer (nullable = true)\n",
            " |-- (x?): integer (nullable = true)\n",
            " |-- Streams: integer (nullable = true)\n",
            " |-- Streams+: double (nullable = true)\n",
            " |-- Total: integer (nullable = true)\n",
            "\n"
          ]
        }
      ]
    },
    {
      "cell_type": "code",
      "source": [
        "#CLEANSING - fillna() with val from other col\n",
        "df = df.withColumn(\"Streams+\", F.coalesce(F.col(\"Streams+\"), F.col(\"Streams\")))\n",
        "df.limit(3).toPandas()\n",
        "#df.show(3)"
      ],
      "metadata": {
        "colab": {
          "base_uri": "https://localhost:8080/",
          "height": 143
        },
        "id": "WQv2nzZl8s0-",
        "outputId": "294e69e8-bb16-4371-e05e-8456b148a9f0"
      },
      "execution_count": 123,
      "outputs": [
        {
          "output_type": "execute_result",
          "data": {
            "text/plain": [
              "   Pos   P+        Artist        Title  Wks  Pk  (x?)   Streams    Streams+  \\\n",
              "0    1    =  Miley Cyrus       Flowers    7   1     7  56744018  -5019054.0   \n",
              "1    2  NEW      KAROL G           TQG    1   2     1  53284451  53284451.0   \n",
              "2    3  NEW   The Weeknd   Die For You    1   3     1  46213370  46213370.0   \n",
              "\n",
              "       Total  \n",
              "0  585390148  \n",
              "1   53284451  \n",
              "2   46213370  "
            ],
            "text/html": [
              "\n",
              "  <div id=\"df-a07c9f41-79e7-4a87-a40e-436fb0f3106b\">\n",
              "    <div class=\"colab-df-container\">\n",
              "      <div>\n",
              "<style scoped>\n",
              "    .dataframe tbody tr th:only-of-type {\n",
              "        vertical-align: middle;\n",
              "    }\n",
              "\n",
              "    .dataframe tbody tr th {\n",
              "        vertical-align: top;\n",
              "    }\n",
              "\n",
              "    .dataframe thead th {\n",
              "        text-align: right;\n",
              "    }\n",
              "</style>\n",
              "<table border=\"1\" class=\"dataframe\">\n",
              "  <thead>\n",
              "    <tr style=\"text-align: right;\">\n",
              "      <th></th>\n",
              "      <th>Pos</th>\n",
              "      <th>P+</th>\n",
              "      <th>Artist</th>\n",
              "      <th>Title</th>\n",
              "      <th>Wks</th>\n",
              "      <th>Pk</th>\n",
              "      <th>(x?)</th>\n",
              "      <th>Streams</th>\n",
              "      <th>Streams+</th>\n",
              "      <th>Total</th>\n",
              "    </tr>\n",
              "  </thead>\n",
              "  <tbody>\n",
              "    <tr>\n",
              "      <th>0</th>\n",
              "      <td>1</td>\n",
              "      <td>=</td>\n",
              "      <td>Miley Cyrus</td>\n",
              "      <td>Flowers</td>\n",
              "      <td>7</td>\n",
              "      <td>1</td>\n",
              "      <td>7</td>\n",
              "      <td>56744018</td>\n",
              "      <td>-5019054.0</td>\n",
              "      <td>585390148</td>\n",
              "    </tr>\n",
              "    <tr>\n",
              "      <th>1</th>\n",
              "      <td>2</td>\n",
              "      <td>NEW</td>\n",
              "      <td>KAROL G</td>\n",
              "      <td>TQG</td>\n",
              "      <td>1</td>\n",
              "      <td>2</td>\n",
              "      <td>1</td>\n",
              "      <td>53284451</td>\n",
              "      <td>53284451.0</td>\n",
              "      <td>53284451</td>\n",
              "    </tr>\n",
              "    <tr>\n",
              "      <th>2</th>\n",
              "      <td>3</td>\n",
              "      <td>NEW</td>\n",
              "      <td>The Weeknd</td>\n",
              "      <td>Die For You</td>\n",
              "      <td>1</td>\n",
              "      <td>3</td>\n",
              "      <td>1</td>\n",
              "      <td>46213370</td>\n",
              "      <td>46213370.0</td>\n",
              "      <td>46213370</td>\n",
              "    </tr>\n",
              "  </tbody>\n",
              "</table>\n",
              "</div>\n",
              "      <button class=\"colab-df-convert\" onclick=\"convertToInteractive('df-a07c9f41-79e7-4a87-a40e-436fb0f3106b')\"\n",
              "              title=\"Convert this dataframe to an interactive table.\"\n",
              "              style=\"display:none;\">\n",
              "        \n",
              "  <svg xmlns=\"http://www.w3.org/2000/svg\" height=\"24px\"viewBox=\"0 0 24 24\"\n",
              "       width=\"24px\">\n",
              "    <path d=\"M0 0h24v24H0V0z\" fill=\"none\"/>\n",
              "    <path d=\"M18.56 5.44l.94 2.06.94-2.06 2.06-.94-2.06-.94-.94-2.06-.94 2.06-2.06.94zm-11 1L8.5 8.5l.94-2.06 2.06-.94-2.06-.94L8.5 2.5l-.94 2.06-2.06.94zm10 10l.94 2.06.94-2.06 2.06-.94-2.06-.94-.94-2.06-.94 2.06-2.06.94z\"/><path d=\"M17.41 7.96l-1.37-1.37c-.4-.4-.92-.59-1.43-.59-.52 0-1.04.2-1.43.59L10.3 9.45l-7.72 7.72c-.78.78-.78 2.05 0 2.83L4 21.41c.39.39.9.59 1.41.59.51 0 1.02-.2 1.41-.59l7.78-7.78 2.81-2.81c.8-.78.8-2.07 0-2.86zM5.41 20L4 18.59l7.72-7.72 1.47 1.35L5.41 20z\"/>\n",
              "  </svg>\n",
              "      </button>\n",
              "      \n",
              "  <style>\n",
              "    .colab-df-container {\n",
              "      display:flex;\n",
              "      flex-wrap:wrap;\n",
              "      gap: 12px;\n",
              "    }\n",
              "\n",
              "    .colab-df-convert {\n",
              "      background-color: #E8F0FE;\n",
              "      border: none;\n",
              "      border-radius: 50%;\n",
              "      cursor: pointer;\n",
              "      display: none;\n",
              "      fill: #1967D2;\n",
              "      height: 32px;\n",
              "      padding: 0 0 0 0;\n",
              "      width: 32px;\n",
              "    }\n",
              "\n",
              "    .colab-df-convert:hover {\n",
              "      background-color: #E2EBFA;\n",
              "      box-shadow: 0px 1px 2px rgba(60, 64, 67, 0.3), 0px 1px 3px 1px rgba(60, 64, 67, 0.15);\n",
              "      fill: #174EA6;\n",
              "    }\n",
              "\n",
              "    [theme=dark] .colab-df-convert {\n",
              "      background-color: #3B4455;\n",
              "      fill: #D2E3FC;\n",
              "    }\n",
              "\n",
              "    [theme=dark] .colab-df-convert:hover {\n",
              "      background-color: #434B5C;\n",
              "      box-shadow: 0px 1px 3px 1px rgba(0, 0, 0, 0.15);\n",
              "      filter: drop-shadow(0px 1px 2px rgba(0, 0, 0, 0.3));\n",
              "      fill: #FFFFFF;\n",
              "    }\n",
              "  </style>\n",
              "\n",
              "      <script>\n",
              "        const buttonEl =\n",
              "          document.querySelector('#df-a07c9f41-79e7-4a87-a40e-436fb0f3106b button.colab-df-convert');\n",
              "        buttonEl.style.display =\n",
              "          google.colab.kernel.accessAllowed ? 'block' : 'none';\n",
              "\n",
              "        async function convertToInteractive(key) {\n",
              "          const element = document.querySelector('#df-a07c9f41-79e7-4a87-a40e-436fb0f3106b');\n",
              "          const dataTable =\n",
              "            await google.colab.kernel.invokeFunction('convertToInteractive',\n",
              "                                                     [key], {});\n",
              "          if (!dataTable) return;\n",
              "\n",
              "          const docLinkHtml = 'Like what you see? Visit the ' +\n",
              "            '<a target=\"_blank\" href=https://colab.research.google.com/notebooks/data_table.ipynb>data table notebook</a>'\n",
              "            + ' to learn more about interactive tables.';\n",
              "          element.innerHTML = '';\n",
              "          dataTable['output_type'] = 'display_data';\n",
              "          await google.colab.output.renderOutput(dataTable, element);\n",
              "          const docLink = document.createElement('div');\n",
              "          docLink.innerHTML = docLinkHtml;\n",
              "          element.appendChild(docLink);\n",
              "        }\n",
              "      </script>\n",
              "    </div>\n",
              "  </div>\n",
              "  "
            ]
          },
          "metadata": {},
          "execution_count": 123
        }
      ]
    },
    {
      "cell_type": "code",
      "source": [
        "df.describe().toPandas()"
      ],
      "metadata": {
        "colab": {
          "base_uri": "https://localhost:8080/",
          "height": 288
        },
        "id": "NuZhb0LJ8s4B",
        "outputId": "cdd08c97-aeb6-4d0c-f1ce-6bdcecc42da1"
      },
      "execution_count": 124,
      "outputs": [
        {
          "output_type": "execute_result",
          "data": {
            "text/plain": [
              "  summary                 Pos                  P+       Artist   Title  \\\n",
              "0   count                 200                 200          200     200   \n",
              "1    mean               100.5  -2.536723163841808         None   505.0   \n",
              "2  stddev  57.879184513951124  24.042577206838494         None    None   \n",
              "3     min                   1                  +1       Adele    10:35   \n",
              "4     max                 200                  RE  Ñengo Flow   lovely   \n",
              "\n",
              "                 Wks                Pk               (x?)            Streams  \\\n",
              "0                200               200                 32                200   \n",
              "1              44.32             44.43            4.34375      1.234558693E7   \n",
              "2  62.79781387226534  45.8743652483026  4.052950936086272  7487267.670902285   \n",
              "3                  1                 1                  1            7380345   \n",
              "4                317               195                 14           56744018   \n",
              "\n",
              "            Streams+                 Total  \n",
              "0                200                   192  \n",
              "1        1232550.075   3.857726347291667E8  \n",
              "2  5628467.639863396  4.1471066854923165E8  \n",
              "3         -6062515.0               7470526  \n",
              "4        5.3284451E7            2101461856  "
            ],
            "text/html": [
              "\n",
              "  <div id=\"df-f112c7d2-6751-410a-be63-0559758c930a\">\n",
              "    <div class=\"colab-df-container\">\n",
              "      <div>\n",
              "<style scoped>\n",
              "    .dataframe tbody tr th:only-of-type {\n",
              "        vertical-align: middle;\n",
              "    }\n",
              "\n",
              "    .dataframe tbody tr th {\n",
              "        vertical-align: top;\n",
              "    }\n",
              "\n",
              "    .dataframe thead th {\n",
              "        text-align: right;\n",
              "    }\n",
              "</style>\n",
              "<table border=\"1\" class=\"dataframe\">\n",
              "  <thead>\n",
              "    <tr style=\"text-align: right;\">\n",
              "      <th></th>\n",
              "      <th>summary</th>\n",
              "      <th>Pos</th>\n",
              "      <th>P+</th>\n",
              "      <th>Artist</th>\n",
              "      <th>Title</th>\n",
              "      <th>Wks</th>\n",
              "      <th>Pk</th>\n",
              "      <th>(x?)</th>\n",
              "      <th>Streams</th>\n",
              "      <th>Streams+</th>\n",
              "      <th>Total</th>\n",
              "    </tr>\n",
              "  </thead>\n",
              "  <tbody>\n",
              "    <tr>\n",
              "      <th>0</th>\n",
              "      <td>count</td>\n",
              "      <td>200</td>\n",
              "      <td>200</td>\n",
              "      <td>200</td>\n",
              "      <td>200</td>\n",
              "      <td>200</td>\n",
              "      <td>200</td>\n",
              "      <td>32</td>\n",
              "      <td>200</td>\n",
              "      <td>200</td>\n",
              "      <td>192</td>\n",
              "    </tr>\n",
              "    <tr>\n",
              "      <th>1</th>\n",
              "      <td>mean</td>\n",
              "      <td>100.5</td>\n",
              "      <td>-2.536723163841808</td>\n",
              "      <td>None</td>\n",
              "      <td>505.0</td>\n",
              "      <td>44.32</td>\n",
              "      <td>44.43</td>\n",
              "      <td>4.34375</td>\n",
              "      <td>1.234558693E7</td>\n",
              "      <td>1232550.075</td>\n",
              "      <td>3.857726347291667E8</td>\n",
              "    </tr>\n",
              "    <tr>\n",
              "      <th>2</th>\n",
              "      <td>stddev</td>\n",
              "      <td>57.879184513951124</td>\n",
              "      <td>24.042577206838494</td>\n",
              "      <td>None</td>\n",
              "      <td>None</td>\n",
              "      <td>62.79781387226534</td>\n",
              "      <td>45.8743652483026</td>\n",
              "      <td>4.052950936086272</td>\n",
              "      <td>7487267.670902285</td>\n",
              "      <td>5628467.639863396</td>\n",
              "      <td>4.1471066854923165E8</td>\n",
              "    </tr>\n",
              "    <tr>\n",
              "      <th>3</th>\n",
              "      <td>min</td>\n",
              "      <td>1</td>\n",
              "      <td>+1</td>\n",
              "      <td>Adele</td>\n",
              "      <td>10:35</td>\n",
              "      <td>1</td>\n",
              "      <td>1</td>\n",
              "      <td>1</td>\n",
              "      <td>7380345</td>\n",
              "      <td>-6062515.0</td>\n",
              "      <td>7470526</td>\n",
              "    </tr>\n",
              "    <tr>\n",
              "      <th>4</th>\n",
              "      <td>max</td>\n",
              "      <td>200</td>\n",
              "      <td>RE</td>\n",
              "      <td>Ñengo Flow</td>\n",
              "      <td>lovely</td>\n",
              "      <td>317</td>\n",
              "      <td>195</td>\n",
              "      <td>14</td>\n",
              "      <td>56744018</td>\n",
              "      <td>5.3284451E7</td>\n",
              "      <td>2101461856</td>\n",
              "    </tr>\n",
              "  </tbody>\n",
              "</table>\n",
              "</div>\n",
              "      <button class=\"colab-df-convert\" onclick=\"convertToInteractive('df-f112c7d2-6751-410a-be63-0559758c930a')\"\n",
              "              title=\"Convert this dataframe to an interactive table.\"\n",
              "              style=\"display:none;\">\n",
              "        \n",
              "  <svg xmlns=\"http://www.w3.org/2000/svg\" height=\"24px\"viewBox=\"0 0 24 24\"\n",
              "       width=\"24px\">\n",
              "    <path d=\"M0 0h24v24H0V0z\" fill=\"none\"/>\n",
              "    <path d=\"M18.56 5.44l.94 2.06.94-2.06 2.06-.94-2.06-.94-.94-2.06-.94 2.06-2.06.94zm-11 1L8.5 8.5l.94-2.06 2.06-.94-2.06-.94L8.5 2.5l-.94 2.06-2.06.94zm10 10l.94 2.06.94-2.06 2.06-.94-2.06-.94-.94-2.06-.94 2.06-2.06.94z\"/><path d=\"M17.41 7.96l-1.37-1.37c-.4-.4-.92-.59-1.43-.59-.52 0-1.04.2-1.43.59L10.3 9.45l-7.72 7.72c-.78.78-.78 2.05 0 2.83L4 21.41c.39.39.9.59 1.41.59.51 0 1.02-.2 1.41-.59l7.78-7.78 2.81-2.81c.8-.78.8-2.07 0-2.86zM5.41 20L4 18.59l7.72-7.72 1.47 1.35L5.41 20z\"/>\n",
              "  </svg>\n",
              "      </button>\n",
              "      \n",
              "  <style>\n",
              "    .colab-df-container {\n",
              "      display:flex;\n",
              "      flex-wrap:wrap;\n",
              "      gap: 12px;\n",
              "    }\n",
              "\n",
              "    .colab-df-convert {\n",
              "      background-color: #E8F0FE;\n",
              "      border: none;\n",
              "      border-radius: 50%;\n",
              "      cursor: pointer;\n",
              "      display: none;\n",
              "      fill: #1967D2;\n",
              "      height: 32px;\n",
              "      padding: 0 0 0 0;\n",
              "      width: 32px;\n",
              "    }\n",
              "\n",
              "    .colab-df-convert:hover {\n",
              "      background-color: #E2EBFA;\n",
              "      box-shadow: 0px 1px 2px rgba(60, 64, 67, 0.3), 0px 1px 3px 1px rgba(60, 64, 67, 0.15);\n",
              "      fill: #174EA6;\n",
              "    }\n",
              "\n",
              "    [theme=dark] .colab-df-convert {\n",
              "      background-color: #3B4455;\n",
              "      fill: #D2E3FC;\n",
              "    }\n",
              "\n",
              "    [theme=dark] .colab-df-convert:hover {\n",
              "      background-color: #434B5C;\n",
              "      box-shadow: 0px 1px 3px 1px rgba(0, 0, 0, 0.15);\n",
              "      filter: drop-shadow(0px 1px 2px rgba(0, 0, 0, 0.3));\n",
              "      fill: #FFFFFF;\n",
              "    }\n",
              "  </style>\n",
              "\n",
              "      <script>\n",
              "        const buttonEl =\n",
              "          document.querySelector('#df-f112c7d2-6751-410a-be63-0559758c930a button.colab-df-convert');\n",
              "        buttonEl.style.display =\n",
              "          google.colab.kernel.accessAllowed ? 'block' : 'none';\n",
              "\n",
              "        async function convertToInteractive(key) {\n",
              "          const element = document.querySelector('#df-f112c7d2-6751-410a-be63-0559758c930a');\n",
              "          const dataTable =\n",
              "            await google.colab.kernel.invokeFunction('convertToInteractive',\n",
              "                                                     [key], {});\n",
              "          if (!dataTable) return;\n",
              "\n",
              "          const docLinkHtml = 'Like what you see? Visit the ' +\n",
              "            '<a target=\"_blank\" href=https://colab.research.google.com/notebooks/data_table.ipynb>data table notebook</a>'\n",
              "            + ' to learn more about interactive tables.';\n",
              "          element.innerHTML = '';\n",
              "          dataTable['output_type'] = 'display_data';\n",
              "          await google.colab.output.renderOutput(dataTable, element);\n",
              "          const docLink = document.createElement('div');\n",
              "          docLink.innerHTML = docLinkHtml;\n",
              "          element.appendChild(docLink);\n",
              "        }\n",
              "      </script>\n",
              "    </div>\n",
              "  </div>\n",
              "  "
            ]
          },
          "metadata": {},
          "execution_count": 124
        }
      ]
    },
    {
      "cell_type": "code",
      "source": [
        "#Rename Col\n",
        "df = df.withColumnRenamed('Pos', 'Rank')\n",
        "\n",
        "\n",
        "#Drop columns\n",
        "df = df.drop('P+', 'Pk', '(x?)')\n",
        "df.show(3)\n",
        "\n",
        "\n",
        "#Drop NAs\n",
        "print(df.count())\n",
        "\n",
        "df = df.na.drop()\n",
        "print(df.count())"
      ],
      "metadata": {
        "colab": {
          "base_uri": "https://localhost:8080/"
        },
        "id": "vnK3f_O_8s60",
        "outputId": "9ddaa417-5afa-4b01-b3d6-7ed0dac65f54"
      },
      "execution_count": 125,
      "outputs": [
        {
          "output_type": "stream",
          "name": "stdout",
          "text": [
            "+----+------------+-----------+---+--------+-----------+---------+\n",
            "|Rank|      Artist|      Title|Wks| Streams|   Streams+|    Total|\n",
            "+----+------------+-----------+---+--------+-----------+---------+\n",
            "|   1|Miley Cyrus |    Flowers|  7|56744018| -5019054.0|585390148|\n",
            "|   2|    KAROL G |        TQG|  1|53284451|5.3284451E7| 53284451|\n",
            "|   3| The Weeknd |Die For You|  1|46213370| 4.621337E7| 46213370|\n",
            "+----+------------+-----------+---+--------+-----------+---------+\n",
            "only showing top 3 rows\n",
            "\n",
            "200\n",
            "192\n"
          ]
        }
      ]
    },
    {
      "cell_type": "code",
      "source": [
        "#Data Filtering/PREPROCESSING\n",
        "df.filter(\n",
        "    F.col('Total') >= 600000000\n",
        ").orderBy(F.asc('Streams+')).show(3)"
      ],
      "metadata": {
        "colab": {
          "base_uri": "https://localhost:8080/"
        },
        "id": "cfJi1TP68s9g",
        "outputId": "86f7772a-2dbf-4cb9-c502-84fa68da6529"
      },
      "execution_count": 126,
      "outputs": [
        {
          "output_type": "stream",
          "name": "stdout",
          "text": [
            "+----+-------------+--------------------+---+--------+----------+----------+\n",
            "|Rank|       Artist|               Title|Wks| Streams|  Streams+|     Total|\n",
            "+----+-------------+--------------------+---+--------+----------+----------+\n",
            "|  10|   Sam Smith |              Unholy| 23|26377166|-1140781.0| 889575567|\n",
            "|  28|    Bizarrap |Quevedo: Bzrp Mus...| 34|16991984| -927143.0|1055372441|\n",
            "|  18|Taylor Swift |                Anti| 19|20034882| -890694.0| 619942698|\n",
            "+----+-------------+--------------------+---+--------+----------+----------+\n",
            "only showing top 3 rows\n",
            "\n"
          ]
        }
      ]
    },
    {
      "cell_type": "code",
      "source": [
        "#dont need to have lit\n",
        "df.filter(\n",
        "    (F.col('Total') >= F.lit(600000000)) & (F.col('Total') <= F.lit(700000000))\n",
        ").show(3)\n",
        "\n",
        "#better method:\n"
      ],
      "metadata": {
        "colab": {
          "base_uri": "https://localhost:8080/"
        },
        "id": "zs-YG9wo8tDp",
        "outputId": "333b7f53-e1ba-4452-f9bd-d4c5713dad7e"
      },
      "execution_count": 127,
      "outputs": [
        {
          "output_type": "stream",
          "name": "stdout",
          "text": [
            "+----+-------------+-------------------+---+--------+---------+---------+\n",
            "|Rank|       Artist|              Title|Wks| Streams| Streams+|    Total|\n",
            "+----+-------------+-------------------+---+--------+---------+---------+\n",
            "|  14|  The Weeknd |        Die For You| 59|22988828|1333396.0|687729855|\n",
            "|  18|Taylor Swift |               Anti| 19|20034882|-890694.0|619942698|\n",
            "|  46| Chris Brown |Under The Influence| 32|14024690| 698968.0|604561746|\n",
            "+----+-------------+-------------------+---+--------+---------+---------+\n",
            "only showing top 3 rows\n",
            "\n"
          ]
        }
      ]
    },
    {
      "cell_type": "code",
      "source": [
        "df.filter(\n",
        "    (df.Total >= F.lit(600000000)) & (df.Total <= F.lit(700000000))\n",
        ").show(3)"
      ],
      "metadata": {
        "colab": {
          "base_uri": "https://localhost:8080/"
        },
        "id": "ZwvRag8uYu4P",
        "outputId": "0a6e08ba-d2d5-4666-d82c-9d8784509ae5"
      },
      "execution_count": 128,
      "outputs": [
        {
          "output_type": "stream",
          "name": "stdout",
          "text": [
            "+----+-------------+-------------------+---+--------+---------+---------+\n",
            "|Rank|       Artist|              Title|Wks| Streams| Streams+|    Total|\n",
            "+----+-------------+-------------------+---+--------+---------+---------+\n",
            "|  14|  The Weeknd |        Die For You| 59|22988828|1333396.0|687729855|\n",
            "|  18|Taylor Swift |               Anti| 19|20034882|-890694.0|619942698|\n",
            "|  46| Chris Brown |Under The Influence| 32|14024690| 698968.0|604561746|\n",
            "+----+-------------+-------------------+---+--------+---------+---------+\n",
            "only showing top 3 rows\n",
            "\n"
          ]
        }
      ]
    },
    {
      "cell_type": "code",
      "source": [
        "df.select('Artist', 'Title',\n",
        "          F.when(df.Wks >= 35,1).otherwise(0)\n",
        "          ).show(3)"
      ],
      "metadata": {
        "colab": {
          "base_uri": "https://localhost:8080/"
        },
        "id": "aHiKiLvWW1gL",
        "outputId": "5cec2498-71b6-46fb-eabf-046ef836fc48"
      },
      "execution_count": 129,
      "outputs": [
        {
          "output_type": "stream",
          "name": "stdout",
          "text": [
            "+------------+-----------+---------------------------------------+\n",
            "|      Artist|      Title|CASE WHEN (Wks >= 35) THEN 1 ELSE 0 END|\n",
            "+------------+-----------+---------------------------------------+\n",
            "|Miley Cyrus |    Flowers|                                      0|\n",
            "|    KAROL G |        TQG|                                      0|\n",
            "| The Weeknd |Die For You|                                      0|\n",
            "+------------+-----------+---------------------------------------+\n",
            "only showing top 3 rows\n",
            "\n"
          ]
        }
      ]
    },
    {
      "cell_type": "code",
      "source": [
        "#Grouping + Aggregating\n",
        "df.select(['Artist', 'Wks', 'Total']).groupby('Artist').mean().orderBy('avg(Total)', ascending=False).limit(5).toPandas()"
      ],
      "metadata": {
        "colab": {
          "base_uri": "https://localhost:8080/",
          "height": 206
        },
        "id": "TSGmr_EzW1jE",
        "outputId": "58a80c0d-1fb4-4301-bfc8-2ef3833181c2"
      },
      "execution_count": 130,
      "outputs": [
        {
          "output_type": "execute_result",
          "data": {
            "text/plain": [
              "               Artist  avg(Wks)    avg(Total)\n",
              "0      Billie Eilish      254.0  2.098789e+09\n",
              "1       James Arthur      290.0  1.983256e+09\n",
              "2       Harry Styles       87.0  1.545701e+09\n",
              "3  The Neighbourhood      156.0  1.440976e+09\n",
              "4         Elton John       81.0  1.388794e+09"
            ],
            "text/html": [
              "\n",
              "  <div id=\"df-bd85256f-c975-4afc-9b39-e0a6d1fa737e\">\n",
              "    <div class=\"colab-df-container\">\n",
              "      <div>\n",
              "<style scoped>\n",
              "    .dataframe tbody tr th:only-of-type {\n",
              "        vertical-align: middle;\n",
              "    }\n",
              "\n",
              "    .dataframe tbody tr th {\n",
              "        vertical-align: top;\n",
              "    }\n",
              "\n",
              "    .dataframe thead th {\n",
              "        text-align: right;\n",
              "    }\n",
              "</style>\n",
              "<table border=\"1\" class=\"dataframe\">\n",
              "  <thead>\n",
              "    <tr style=\"text-align: right;\">\n",
              "      <th></th>\n",
              "      <th>Artist</th>\n",
              "      <th>avg(Wks)</th>\n",
              "      <th>avg(Total)</th>\n",
              "    </tr>\n",
              "  </thead>\n",
              "  <tbody>\n",
              "    <tr>\n",
              "      <th>0</th>\n",
              "      <td>Billie Eilish</td>\n",
              "      <td>254.0</td>\n",
              "      <td>2.098789e+09</td>\n",
              "    </tr>\n",
              "    <tr>\n",
              "      <th>1</th>\n",
              "      <td>James Arthur</td>\n",
              "      <td>290.0</td>\n",
              "      <td>1.983256e+09</td>\n",
              "    </tr>\n",
              "    <tr>\n",
              "      <th>2</th>\n",
              "      <td>Harry Styles</td>\n",
              "      <td>87.0</td>\n",
              "      <td>1.545701e+09</td>\n",
              "    </tr>\n",
              "    <tr>\n",
              "      <th>3</th>\n",
              "      <td>The Neighbourhood</td>\n",
              "      <td>156.0</td>\n",
              "      <td>1.440976e+09</td>\n",
              "    </tr>\n",
              "    <tr>\n",
              "      <th>4</th>\n",
              "      <td>Elton John</td>\n",
              "      <td>81.0</td>\n",
              "      <td>1.388794e+09</td>\n",
              "    </tr>\n",
              "  </tbody>\n",
              "</table>\n",
              "</div>\n",
              "      <button class=\"colab-df-convert\" onclick=\"convertToInteractive('df-bd85256f-c975-4afc-9b39-e0a6d1fa737e')\"\n",
              "              title=\"Convert this dataframe to an interactive table.\"\n",
              "              style=\"display:none;\">\n",
              "        \n",
              "  <svg xmlns=\"http://www.w3.org/2000/svg\" height=\"24px\"viewBox=\"0 0 24 24\"\n",
              "       width=\"24px\">\n",
              "    <path d=\"M0 0h24v24H0V0z\" fill=\"none\"/>\n",
              "    <path d=\"M18.56 5.44l.94 2.06.94-2.06 2.06-.94-2.06-.94-.94-2.06-.94 2.06-2.06.94zm-11 1L8.5 8.5l.94-2.06 2.06-.94-2.06-.94L8.5 2.5l-.94 2.06-2.06.94zm10 10l.94 2.06.94-2.06 2.06-.94-2.06-.94-.94-2.06-.94 2.06-2.06.94z\"/><path d=\"M17.41 7.96l-1.37-1.37c-.4-.4-.92-.59-1.43-.59-.52 0-1.04.2-1.43.59L10.3 9.45l-7.72 7.72c-.78.78-.78 2.05 0 2.83L4 21.41c.39.39.9.59 1.41.59.51 0 1.02-.2 1.41-.59l7.78-7.78 2.81-2.81c.8-.78.8-2.07 0-2.86zM5.41 20L4 18.59l7.72-7.72 1.47 1.35L5.41 20z\"/>\n",
              "  </svg>\n",
              "      </button>\n",
              "      \n",
              "  <style>\n",
              "    .colab-df-container {\n",
              "      display:flex;\n",
              "      flex-wrap:wrap;\n",
              "      gap: 12px;\n",
              "    }\n",
              "\n",
              "    .colab-df-convert {\n",
              "      background-color: #E8F0FE;\n",
              "      border: none;\n",
              "      border-radius: 50%;\n",
              "      cursor: pointer;\n",
              "      display: none;\n",
              "      fill: #1967D2;\n",
              "      height: 32px;\n",
              "      padding: 0 0 0 0;\n",
              "      width: 32px;\n",
              "    }\n",
              "\n",
              "    .colab-df-convert:hover {\n",
              "      background-color: #E2EBFA;\n",
              "      box-shadow: 0px 1px 2px rgba(60, 64, 67, 0.3), 0px 1px 3px 1px rgba(60, 64, 67, 0.15);\n",
              "      fill: #174EA6;\n",
              "    }\n",
              "\n",
              "    [theme=dark] .colab-df-convert {\n",
              "      background-color: #3B4455;\n",
              "      fill: #D2E3FC;\n",
              "    }\n",
              "\n",
              "    [theme=dark] .colab-df-convert:hover {\n",
              "      background-color: #434B5C;\n",
              "      box-shadow: 0px 1px 3px 1px rgba(0, 0, 0, 0.15);\n",
              "      filter: drop-shadow(0px 1px 2px rgba(0, 0, 0, 0.3));\n",
              "      fill: #FFFFFF;\n",
              "    }\n",
              "  </style>\n",
              "\n",
              "      <script>\n",
              "        const buttonEl =\n",
              "          document.querySelector('#df-bd85256f-c975-4afc-9b39-e0a6d1fa737e button.colab-df-convert');\n",
              "        buttonEl.style.display =\n",
              "          google.colab.kernel.accessAllowed ? 'block' : 'none';\n",
              "\n",
              "        async function convertToInteractive(key) {\n",
              "          const element = document.querySelector('#df-bd85256f-c975-4afc-9b39-e0a6d1fa737e');\n",
              "          const dataTable =\n",
              "            await google.colab.kernel.invokeFunction('convertToInteractive',\n",
              "                                                     [key], {});\n",
              "          if (!dataTable) return;\n",
              "\n",
              "          const docLinkHtml = 'Like what you see? Visit the ' +\n",
              "            '<a target=\"_blank\" href=https://colab.research.google.com/notebooks/data_table.ipynb>data table notebook</a>'\n",
              "            + ' to learn more about interactive tables.';\n",
              "          element.innerHTML = '';\n",
              "          dataTable['output_type'] = 'display_data';\n",
              "          await google.colab.output.renderOutput(dataTable, element);\n",
              "          const docLink = document.createElement('div');\n",
              "          docLink.innerHTML = docLinkHtml;\n",
              "          element.appendChild(docLink);\n",
              "        }\n",
              "      </script>\n",
              "    </div>\n",
              "  </div>\n",
              "  "
            ]
          },
          "metadata": {},
          "execution_count": 130
        }
      ]
    },
    {
      "cell_type": "code",
      "source": [
        "vis_df = (\n",
        "    df.select(['Artist', 'Wks', 'Total']).groupby('Artist')\\\n",
        "    .mean().orderBy('avg(Total)', ascending=False).toPandas()\n",
        ")\n",
        "vis_df.iloc[0:7].plot(\n",
        "    kind=\"bar\",\n",
        "    x=\"Artist\",\n",
        "    y=\"avg(Total)\",\n",
        "    figsize=(12, 6),\n",
        "    ylabel=\"Average Average Streams\",\n",
        ");"
      ],
      "metadata": {
        "colab": {
          "base_uri": "https://localhost:8080/",
          "height": 684
        },
        "id": "MjMjLEdKbqHG",
        "outputId": "328fe20c-52ed-41b5-f5c0-556c3d3074de"
      },
      "execution_count": 131,
      "outputs": [
        {
          "output_type": "display_data",
          "data": {
            "text/plain": [
              "<Figure size 1200x600 with 1 Axes>"
            ],
            "image/png": "[encoded data removed]"
          },
          "metadata": {}
        }
      ]
    },
    {
      "cell_type": "code",
      "source": [
        "## FINAL DATA --> WRITE TO CSV, PERFORM GROUPING + ML \n",
        "\n",
        "final_data = (df.select(['Artist', 'Wks', 'Total']).groupBy('Artist').mean().orderBy('Avg(Total)', ascending=False)\n",
        ")\n",
        "#final_data.write.save(\"dataset.parquet\", format=\"parquet\")"
      ],
      "metadata": {
        "id": "liGzDzCYbqJ4"
      },
      "execution_count": 132,
      "outputs": []
    },
    {
      "cell_type": "code",
      "source": [
        "#StringIndexer - categorical artists\n",
        "indexer = StringIndexer(inputCol='Artist', outputCol='Artist_encoded').fit(final_data)\n",
        "final_data = indexer.transform(final_data)"
      ],
      "metadata": {
        "id": "YSi_l9rNbqM0"
      },
      "execution_count": 133,
      "outputs": []
    },
    {
      "cell_type": "code",
      "source": [
        "final_data = final_data.withColumn('Artist_encoded', F.col('Artist_encoded').cast('integer')) #convert to integer"
      ],
      "metadata": {
        "id": "6hM8eBJCbqTN"
      },
      "execution_count": 134,
      "outputs": []
    },
    {
      "cell_type": "code",
      "source": [
        "final_data.show(3)"
      ],
      "metadata": {
        "colab": {
          "base_uri": "https://localhost:8080/"
        },
        "id": "O3ms5zf0W1l7",
        "outputId": "ee1de422-067a-4c4c-c826-7d917db3bf85"
      },
      "execution_count": 137,
      "outputs": [
        {
          "output_type": "stream",
          "name": "stdout",
          "text": [
            "+--------------+--------+--------------------+--------------+\n",
            "|        Artist|avg(Wks)|          avg(Total)|Artist_encoded|\n",
            "+--------------+--------+--------------------+--------------+\n",
            "|Billie Eilish |   254.0|       2.098789064E9|             8|\n",
            "| James Arthur |   290.0|       1.983256195E9|            42|\n",
            "| Harry Styles |    87.0|1.5457005193333333E9|            34|\n",
            "+--------------+--------+--------------------+--------------+\n",
            "only showing top 3 rows\n",
            "\n"
          ]
        }
      ]
    },
    {
      "cell_type": "code",
      "source": [
        "## Assembling Features\n",
        "assemble = VectorAssembler(\n",
        "    inputCols=[\"Encode_Artist\", \"avg(Wks)\", \"avg(Total)\"],\n",
        "    outputCol=\"features\",\n",
        ")\n",
        "\n",
        "assembled_data = assemble.transform(encoded_df)\n",
        "\n",
        "## Standard Scaling\n",
        "scale = StandardScaler(inputCol=\"features\", outputCol=\"standardized\")\n",
        "data_scale = scale.fit(assembled_data)\n",
        "data_scale_output = data_scale.transform(assembled_data)\n",
        "data_scale_output.show(5)"
      ],
      "metadata": {
        "id": "601w2NgqW1or"
      },
      "execution_count": null,
      "outputs": []
    },
    {
      "cell_type": "code",
      "source": [],
      "metadata": {
        "id": "-SOQP6LsgRQn"
      },
      "execution_count": null,
      "outputs": []
    },
    {
      "cell_type": "code",
      "source": [],
      "metadata": {
        "id": "--CvBOeRW1rp"
      },
      "execution_count": null,
      "outputs": []
    },
    {
      "cell_type": "code",
      "source": [],
      "metadata": {
        "id": "psBauq3RW1uj"
      },
      "execution_count": null,
      "outputs": []
    },
    {
      "cell_type": "markdown",
      "source": [
        "### Linear Regression Pyspark"
      ],
      "metadata": {
        "id": "QpjDqq49jPbw"
      }
    },
    {
      "cell_type": "code",
      "source": [
        "from pyspark.sql import SparkSession\n",
        "from pyspark.ml.feature import VectorAssembler\n",
        "\n",
        "\n",
        "# Create a SparkSession\n",
        "spark = SparkSession.builder.getOrCreate()\n",
        "\n",
        "# Read the CSV file\n",
        "df = spark.read.csv('./Fish.csv', header=True, inferSchema=True)\n",
        "df.show(3)"
      ],
      "metadata": {
        "colab": {
          "base_uri": "https://localhost:8080/"
        },
        "id": "UVqtCqdai2ED",
        "outputId": "a5f88100-f08e-417c-dc64-94000c7d26a5"
      },
      "execution_count": null,
      "outputs": [
        {
          "output_type": "stream",
          "name": "stdout",
          "text": [
            "+-------+------+-------+-------+-------+-------+------+\n",
            "|Species|Weight|Length1|Length2|Length3| Height| Width|\n",
            "+-------+------+-------+-------+-------+-------+------+\n",
            "|  Bream| 242.0|   23.2|   25.4|   30.0|  11.52|  4.02|\n",
            "|  Bream| 290.0|   24.0|   26.3|   31.2|  12.48|4.3056|\n",
            "|  Bream| 340.0|   23.9|   26.5|   31.1|12.3778|4.6961|\n",
            "+-------+------+-------+-------+-------+-------+------+\n",
            "only showing top 3 rows\n",
            "\n"
          ]
        }
      ]
    },
    {
      "cell_type": "code",
      "source": [
        "[print('column:', k, 'dtype:', v) for k,v in df.select([col for col in df.columns]).dtypes][0] #Dtypes"
      ],
      "metadata": {
        "id": "RSINzCrIhqh_",
        "colab": {
          "base_uri": "https://localhost:8080/"
        },
        "outputId": "d9e38ed2-21d7-49f2-ed7f-073c95d982f9"
      },
      "execution_count": null,
      "outputs": [
        {
          "output_type": "stream",
          "name": "stdout",
          "text": [
            "column: Species dtype: string\n",
            "column: Weight dtype: double\n",
            "column: Length1 dtype: double\n",
            "column: Length2 dtype: double\n",
            "column: Length3 dtype: double\n",
            "column: Height dtype: double\n",
            "column: Width dtype: double\n"
          ]
        }
      ]
    },
    {
      "cell_type": "code",
      "source": [
        "#Find correlation with outcome var\n",
        "def corr_(var):\n",
        "  for col_ in df.columns:\n",
        "    if col_ != var: continue\n",
        "    for col2 in df.columns:\n",
        "      if col_==col2 or df.select(F.col(col_)).dtypes[0][1] == 'string' or df.select(F.col(col2)).dtypes[0][1] == 'string': continue\n",
        "      else:print('Correlation ({}, {}):'.format(col_, col2), df.select(F.corr(col_, col2)).first()[0])\n",
        "\n",
        "corr_('Weight')"
      ],
      "metadata": {
        "colab": {
          "base_uri": "https://localhost:8080/"
        },
        "id": "90i_Lra9CjaO",
        "outputId": "81f72226-b8dc-446f-ca7e-729c68aa43f4"
      },
      "execution_count": null,
      "outputs": [
        {
          "output_type": "stream",
          "name": "stdout",
          "text": [
            "Correlation (Weight, Length1): 0.9157117160312038\n",
            "Correlation (Weight, Length2): 0.9186177013642219\n",
            "Correlation (Weight, Length3): 0.9230435593620122\n",
            "Correlation (Weight, Height): 0.7243453291993317\n",
            "Correlation (Weight, Width): 0.8865066052433449\n"
          ]
        }
      ]
    },
    {
      "cell_type": "code",
      "source": [
        "v_assembler = VectorAssembler(inputCols= ['Length3', 'Width'], outputCol='body_features') #Apply vectorization as ML models require this\n",
        "\n",
        "df_lr = v_assembler.transform(df)\n",
        "df_lr = df_lr.select(['body_features', 'Weight'])\n",
        "df_lr.show(3)"
      ],
      "metadata": {
        "colab": {
          "base_uri": "https://localhost:8080/"
        },
        "id": "HG4ovhwb2PH_",
        "outputId": "5a630de2-75d5-47ae-d94f-b02092fadf61"
      },
      "execution_count": null,
      "outputs": [
        {
          "output_type": "stream",
          "name": "stdout",
          "text": [
            "+-------------+------+\n",
            "|body_features|Weight|\n",
            "+-------------+------+\n",
            "|  [30.0,4.02]| 242.0|\n",
            "|[31.2,4.3056]| 290.0|\n",
            "|[31.1,4.6961]| 340.0|\n",
            "+-------------+------+\n",
            "only showing top 3 rows\n",
            "\n"
          ]
        }
      ]
    },
    {
      "cell_type": "code",
      "source": [
        "splits = df_lr.randomSplit([.8, .2], seed=0)\n",
        "train_df = splits[0]\n",
        "test_df = splits[1]"
      ],
      "metadata": {
        "id": "NlqDqKiI2PKm"
      },
      "execution_count": null,
      "outputs": []
    },
    {
      "cell_type": "code",
      "source": [
        "train_df.show(2)"
      ],
      "metadata": {
        "id": "Tnc44w2H2PNU",
        "colab": {
          "base_uri": "https://localhost:8080/"
        },
        "outputId": "8141dfcf-3cc0-4019-8487-9687d66541a7"
      },
      "execution_count": null,
      "outputs": [
        {
          "output_type": "stream",
          "name": "stdout",
          "text": [
            "+-------------+------+\n",
            "|body_features|Weight|\n",
            "+-------------+------+\n",
            "|  [8.8,1.408]|   5.9|\n",
            "|[10.8,1.0476]|   6.7|\n",
            "+-------------+------+\n",
            "only showing top 2 rows\n",
            "\n"
          ]
        }
      ]
    },
    {
      "cell_type": "code",
      "source": [
        "# find num of rows and columns\n",
        "print('Training set:', (train_df.count(), len(train_df.columns)))\n",
        "print('Testing set:', (test_df.count(), len(test_df.columns)))"
      ],
      "metadata": {
        "id": "5z1Ftcrd_ilj",
        "colab": {
          "base_uri": "https://localhost:8080/"
        },
        "outputId": "8ad49c06-6374-4c10-acf1-113c3bf63ece"
      },
      "execution_count": null,
      "outputs": [
        {
          "output_type": "stream",
          "name": "stdout",
          "text": [
            "Training set: (126, 2)\n",
            "Testing set: (33, 2)\n"
          ]
        }
      ]
    },
    {
      "cell_type": "code",
      "source": [
        "### Convert spark df of SPLIT to csv file"
      ],
      "metadata": {
        "id": "1CSGXAax_irX"
      },
      "execution_count": null,
      "outputs": []
    },
    {
      "cell_type": "code",
      "source": [
        "#Coef + Intercept of Model + Stats\n",
        "lr_model = LinearRegression(featuresCol='body_features', labelCol='Weight', maxIter=100).fit(train_df) #can break into 2 lines\n",
        "\n",
        "#coef+intercept\n",
        "for i,col_ in enumerate(['Length', 'Width']):\n",
        "  print('{} Coefficient :'.format(col_), lr_model.coefficients[i])\n",
        "\n",
        "print('\\nIntercept:', lr_model.intercept)\n",
        "\n",
        "#LR regression summary\n",
        "summary = lr_model.summary\n",
        "print('Anova\\n______', '\\nr2:', round(summary.r2,4), '\\t\\tr2 adj:', round(summary.r2adj,4), '\\nResiduals:', round(summary.residuals.first()[0],4), \n",
        "      '\\tdof:', summary.degreesOfFreedom, '\\n\\nT-Stat:', '\\nIntercept:', summary.tValues[2], \n",
        "       [(k,v) for k,v in zip(['Length', 'Weight'], summary.tValues[0:2])], '\\n\\nP-Values\\n_____', '\\nIntercept:', summary.pValues[2], \n",
        "       [(i,p) for i,p in zip(['Length', 'Weight'], summary.pValues[0:2])])"
      ],
      "metadata": {
        "colab": {
          "base_uri": "https://localhost:8080/"
        },
        "id": "5Fx7exr7QtaJ",
        "outputId": "38c59931-a68d-4a90-9a4f-6273a96e93e2"
      },
      "execution_count": null,
      "outputs": [
        {
          "output_type": "stream",
          "name": "stdout",
          "text": [
            "Length Coefficient : 21.696749411979653\n",
            "Width Coefficient : 57.62221768312379\n",
            "\n",
            "Intercept: -517.8389882465561\n",
            "Anova\n",
            "______ \n",
            "r2: 0.8852 \t\tr2 adj: 0.8833 \n",
            "Residuals: 251.6755 \tdof: 123 \n",
            "\n",
            "T-Stat: \n",
            "Intercept: -16.086177314569788 [('Length', 10.193715278729284), ('Weight', 4.031212528178358)] \n",
            "\n",
            "P-Values\n",
            "_____ \n",
            "Intercept: 0.0 [('Length', 0.0), ('Weight', 9.660307533709833e-05)]\n"
          ]
        }
      ]
    },
    {
      "cell_type": "code",
      "source": [
        "# Predict and Evaluate Model\n",
        "y_pred_test = lr_model.transform(test_df)\n",
        "y_pred_test.show(3)\n",
        "\n",
        "y_pred = lr_model.transform(train_df)\n",
        "#training\n",
        "print('\\nTrain Score\\n______\\nME:', y_pred.select(F.mean(F.abs(y_pred['Weight'] - y_pred['prediction']))).first()[0])\n",
        "\n",
        "print('MAPE: %{}'.format(y_pred.select(F.mean((y_pred['Weight'] - y_pred['prediction'])/y_pred['Weight'])).first()[0]*100))\n",
        "\n",
        "#testing\n",
        "print('\\nTest Score\\n______\\nME:', y_pred_test.select(F.mean(F.abs(y_pred_test['Weight'] - y_pred_test['prediction']))).first()[0])\n",
        "\n",
        "print('MAPE: %{}'.format(y_pred_test.select(F.mean((y_pred_test['Weight'] - y_pred_test['prediction'])/y_pred_test['Weight'])).first()[0]*100))"
      ],
      "metadata": {
        "id": "DeBwtHUlUIsJ",
        "colab": {
          "base_uri": "https://localhost:8080/"
        },
        "outputId": "4f06edd0-6998-492f-8198-3b431792de22"
      },
      "execution_count": null,
      "outputs": [
        {
          "output_type": "stream",
          "name": "stdout",
          "text": [
            "+-------------+------+------------------+\n",
            "|body_features|Weight|        prediction|\n",
            "+-------------+------+------------------+\n",
            "|[17.4,2.3142]|  60.0|-6.966212315825146|\n",
            "|[18.5,2.9415]|  70.0|  53.0466291899761|\n",
            "| [21.0,2.772]|  85.0| 97.52153682263577|\n",
            "+-------------+------+------------------+\n",
            "only showing top 3 rows\n",
            "\n",
            "\n",
            "Train Score\n",
            "______\n",
            "ME: 104.56563941561696\n",
            "MAPE: %219.9724960394498\n",
            "\n",
            "Test Score\n",
            "______\n",
            "ME: 89.20771784040463\n",
            "MAPE: %-24.226284867285937\n"
          ]
        }
      ]
    },
    {
      "cell_type": "code",
      "source": [],
      "metadata": {
        "id": "3CE5d-WzX5Wq"
      },
      "execution_count": null,
      "outputs": []
    },
    {
      "cell_type": "code",
      "source": [],
      "metadata": {
        "id": "aWyH1TgMpIHu"
      },
      "execution_count": null,
      "outputs": []
    },
    {
      "cell_type": "code",
      "source": [],
      "metadata": {
        "id": "Wt9uJ1KgkDB0"
      },
      "execution_count": null,
      "outputs": []
    },
    {
      "cell_type": "markdown",
      "source": [
        "### LR Toyota"
      ],
      "metadata": {
        "id": "WmMII9p_0xtQ"
      }
    },
    {
      "cell_type": "code",
      "source": [
        "df = spark.read.csv('./ToyotaCorolla.csv', header=True, inferSchema=True)\n",
        "df.show(5)"
      ],
      "metadata": {
        "colab": {
          "base_uri": "https://localhost:8080/"
        },
        "id": "-uR0aHXPkDEe",
        "outputId": "71f470b3-2409-487a-b9aa-6f815c54e639"
      },
      "execution_count": null,
      "outputs": [
        {
          "output_type": "stream",
          "name": "stdout",
          "text": [
            "+---+--------------------+-----+---------+---------+--------+-----+---------+---+---------+------+---------+----+-----+---------+-----+-------------+------+-------------+---------------+----------------+---+--------+--------+-----+---------------+-------------+---------+------------+---------------+--------------+-----+---------+-----------+----------------+------------+--------------+-----------------+-------+\n",
            "| Id|               Model|Price|Age_08_04|Mfg_Month|Mfg_Year|   KM|Fuel_Type| HP|Met_Color| Color|Automatic|  CC|Doors|Cylinders|Gears|Quarterly_Tax|Weight|Mfr_Guarantee|BOVAG_Guarantee|Guarantee_Period|ABS|Airbag_1|Airbag_2|Airco|Automatic_airco|Boardcomputer|CD_Player|Central_Lock|Powered_Windows|Power_Steering|Radio|Mistlamps|Sport_Model|Backseat_Divider|Metallic_Rim|Radio_cassette|Parking_Assistant|Tow_Bar|\n",
            "+---+--------------------+-----+---------+---------+--------+-----+---------+---+---------+------+---------+----+-----+---------+-----+-------------+------+-------------+---------------+----------------+---+--------+--------+-----+---------------+-------------+---------+------------+---------------+--------------+-----+---------+-----------+----------------+------------+--------------+-----------------+-------+\n",
            "|  1|TOYOTA Corolla 2....|13500|       23|       10|    2002|46986|   Diesel| 90|        1|  Blue|        0|2000|    3|        4|    5|          210|  1165|            0|              1|               3|  1|       1|       1|    0|              0|            1|        0|           1|              1|             1|    0|        0|          0|               1|           0|             0|                0|      0|\n",
            "|  2|TOYOTA Corolla 2....|13750|       23|       10|    2002|72937|   Diesel| 90|        1|Silver|        0|2000|    3|        4|    5|          210|  1165|            0|              1|               3|  1|       1|       1|    1|              0|            1|        1|           1|              0|             1|    0|        0|          0|               1|           0|             0|                0|      0|\n",
            "|  3|TOYOTA Corolla 2....|13950|       24|        9|    2002|41711|   Diesel| 90|        1|  Blue|        0|2000|    3|        4|    5|          210|  1165|            1|              1|               3|  1|       1|       1|    0|              0|            1|        0|           0|              0|             1|    0|        0|          0|               1|           0|             0|                0|      0|\n",
            "|  4|TOYOTA Corolla 2....|14950|       26|        7|    2002|48000|   Diesel| 90|        0| Black|        0|2000|    3|        4|    5|          210|  1165|            1|              1|               3|  1|       1|       1|    0|              0|            1|        0|           0|              0|             1|    0|        0|          0|               1|           0|             0|                0|      0|\n",
            "|  5|TOYOTA Corolla 2....|13750|       30|        3|    2002|38500|   Diesel| 90|        0| Black|        0|2000|    3|        4|    5|          210|  1170|            1|              1|               3|  1|       1|       1|    1|              0|            1|        0|           1|              1|             1|    0|        1|          0|               1|           0|             0|                0|      0|\n",
            "+---+--------------------+-----+---------+---------+--------+-----+---------+---+---------+------+---------+----+-----+---------+-----+-------------+------+-------------+---------------+----------------+---+--------+--------+-----+---------------+-------------+---------+------------+---------------+--------------+-----+---------+-----------+----------------+------------+--------------+-----------------+-------+\n",
            "only showing top 5 rows\n",
            "\n"
          ]
        }
      ]
    },
    {
      "cell_type": "code",
      "source": [
        "df_lr.printSchema()"
      ],
      "metadata": {
        "colab": {
          "base_uri": "https://localhost:8080/"
        },
        "id": "ZKVe-5iv9sYp",
        "outputId": "6d5e1ecc-4c36-474d-db7c-7e1d8bbffa96"
      },
      "execution_count": null,
      "outputs": [
        {
          "output_type": "stream",
          "name": "stdout",
          "text": [
            "root\n",
            " |-- Age_08_04: integer (nullable = true)\n",
            " |-- KM: integer (nullable = true)\n",
            " |-- Fuel_Type: string (nullable = true)\n",
            " |-- HP: integer (nullable = true)\n",
            " |-- Automatic: integer (nullable = true)\n",
            " |-- Doors: integer (nullable = true)\n",
            " |-- Quarterly_Tax: integer (nullable = true)\n",
            " |-- Mfr_Guarantee: integer (nullable = true)\n",
            " |-- Guarantee_Period: integer (nullable = true)\n",
            " |-- Airco: integer (nullable = true)\n",
            " |-- Automatic_airco: integer (nullable = true)\n",
            " |-- CD_Player: integer (nullable = true)\n",
            " |-- Powered_Windows: integer (nullable = true)\n",
            " |-- Sport_Model: integer (nullable = true)\n",
            " |-- Tow_Bar: integer (nullable = true)\n",
            " |-- Price: integer (nullable = true)\n",
            "\n"
          ]
        }
      ]
    },
    {
      "cell_type": "code",
      "source": [
        "df_lr.count()"
      ],
      "metadata": {
        "colab": {
          "base_uri": "https://localhost:8080/"
        },
        "id": "y3l60nwAEp_H",
        "outputId": "4c703a1c-62e3-465a-9f9c-1c417d35b2bc"
      },
      "execution_count": null,
      "outputs": [
        {
          "output_type": "execute_result",
          "data": {
            "text/plain": [
              "1436"
            ]
          },
          "metadata": {},
          "execution_count": 121
        }
      ]
    },
    {
      "cell_type": "code",
      "source": [
        "df_lr = df.select('Age_08_04', 'KM', 'Fuel_Type', 'HP', 'Automatic', 'Doors', 'Quarterly_Tax', 'Mfr_Guarantee', 'Guarantee_Period',\n",
        "          'Airco', 'Automatic_airco', 'CD_Player', 'Powered_Windows', 'Sport_Model', 'Tow_Bar', 'Price')\n",
        "\n",
        "# Create a StringIndexer instance\n",
        "indexer = StringIndexer(inputCol='Fuel_Type', outputCol='Fuel_Type_Index')\n",
        "\n",
        "# Fit the indexer to the data\n",
        "indexer_model = indexer.fit(df_lr)\n",
        "\n",
        "# Transform the data to obtain the indexed column\n",
        "df_lr = indexer_model.transform(df_lr)\n",
        "\n",
        "\n",
        "df_lr.show(5)\n",
        "\n",
        "#Dummy Vars for FuelType\n",
        "encoder = OneHotEncoder(inputCol='Fuel_Type_Index', outputCol='Fuel_Type_dummy')  \n",
        "encoder_model = encoder.fit(df_lr)\n",
        "df_lr = encoder_model.transform(df_lr)\n",
        "\n",
        "#Add Index\n",
        "# df_lr = df_lr.withColumn('index', F.monotonically_increasing_id())\n",
        "# df =  df.withColumn('index', F.monotonically_increasing_id())\n",
        "\n",
        "#Add outcome var - Concat Price to feature df\n",
        "\n",
        "#drop col\n",
        "df_lr = df_lr.drop('Fuel_Type')\n",
        "\n",
        "#df_lr.columns\n",
        "v_assembler = VectorAssembler(inputCols= [x for x in df_lr.columns[0:-1] if x!= 'Price'], outputCol='car_features') #Apply vectorization as ML models require this\n",
        "df_lr = v_assembler.transform(df_lr)\n",
        "df_lr.show(3)\n",
        "df_lr = df_lr.select('car_features', 'Price')\n",
        "df_lr.show(3)"
      ],
      "metadata": {
        "colab": {
          "base_uri": "https://localhost:8080/"
        },
        "id": "iVLgB5iMkDHQ",
        "outputId": "e56ada16-a812-47c8-9e16-7ea31e33902b"
      },
      "execution_count": null,
      "outputs": [
        {
          "output_type": "stream",
          "name": "stdout",
          "text": [
            "+---------+-----+---------+---+---------+-----+-------------+-------------+----------------+-----+---------------+---------+---------------+-----------+-------+-----+---------------+\n",
            "|Age_08_04|   KM|Fuel_Type| HP|Automatic|Doors|Quarterly_Tax|Mfr_Guarantee|Guarantee_Period|Airco|Automatic_airco|CD_Player|Powered_Windows|Sport_Model|Tow_Bar|Price|Fuel_Type_Index|\n",
            "+---------+-----+---------+---+---------+-----+-------------+-------------+----------------+-----+---------------+---------+---------------+-----------+-------+-----+---------------+\n",
            "|       23|46986|   Diesel| 90|        0|    3|          210|            0|               3|    0|              0|        0|              1|          0|      0|13500|            1.0|\n",
            "|       23|72937|   Diesel| 90|        0|    3|          210|            0|               3|    1|              0|        1|              0|          0|      0|13750|            1.0|\n",
            "|       24|41711|   Diesel| 90|        0|    3|          210|            1|               3|    0|              0|        0|              0|          0|      0|13950|            1.0|\n",
            "|       26|48000|   Diesel| 90|        0|    3|          210|            1|               3|    0|              0|        0|              0|          0|      0|14950|            1.0|\n",
            "|       30|38500|   Diesel| 90|        0|    3|          210|            1|               3|    1|              0|        0|              1|          0|      0|13750|            1.0|\n",
            "+---------+-----+---------+---+---------+-----+-------------+-------------+----------------+-----+---------------+---------+---------------+-----------+-------+-----+---------------+\n",
            "only showing top 5 rows\n",
            "\n",
            "+---------+-----+---+---------+-----+-------------+-------------+----------------+-----+---------------+---------+---------------+-----------+-------+-----+---------------+---------------+--------------------+\n",
            "|Age_08_04|   KM| HP|Automatic|Doors|Quarterly_Tax|Mfr_Guarantee|Guarantee_Period|Airco|Automatic_airco|CD_Player|Powered_Windows|Sport_Model|Tow_Bar|Price|Fuel_Type_Index|Fuel_Type_dummy|        car_features|\n",
            "+---------+-----+---+---------+-----+-------------+-------------+----------------+-----+---------------+---------+---------------+-----------+-------+-----+---------------+---------------+--------------------+\n",
            "|       23|46986| 90|        0|    3|          210|            0|               3|    0|              0|        0|              1|          0|      0|13500|            1.0|  (2,[1],[1.0])|(15,[0,1,2,4,5,7,...|\n",
            "|       23|72937| 90|        0|    3|          210|            0|               3|    1|              0|        1|              0|          0|      0|13750|            1.0|  (2,[1],[1.0])|[23.0,72937.0,90....|\n",
            "|       24|41711| 90|        0|    3|          210|            1|               3|    0|              0|        0|              0|          0|      0|13950|            1.0|  (2,[1],[1.0])|(15,[0,1,2,4,5,6,...|\n",
            "+---------+-----+---+---------+-----+-------------+-------------+----------------+-----+---------------+---------+---------------+-----------+-------+-----+---------------+---------------+--------------------+\n",
            "only showing top 3 rows\n",
            "\n",
            "+--------------------+-----+\n",
            "|        car_features|Price|\n",
            "+--------------------+-----+\n",
            "|(15,[0,1,2,4,5,7,...|13500|\n",
            "|[23.0,72937.0,90....|13750|\n",
            "|(15,[0,1,2,4,5,6,...|13950|\n",
            "+--------------------+-----+\n",
            "only showing top 3 rows\n",
            "\n"
          ]
        }
      ]
    },
    {
      "cell_type": "code",
      "source": [
        "len(df.select('Fuel_Type').distinct().collect()) #The hot encoder not incorporated in vector assembler XXXXXXX"
      ],
      "metadata": {
        "colab": {
          "base_uri": "https://localhost:8080/"
        },
        "id": "m9B9pQVfPHWO",
        "outputId": "d4d10ae3-993e-4a07-8692-180f53b03a7b"
      },
      "execution_count": null,
      "outputs": [
        {
          "output_type": "execute_result",
          "data": {
            "text/plain": [
              "3"
            ]
          },
          "metadata": {},
          "execution_count": 197
        }
      ]
    },
    {
      "cell_type": "code",
      "source": [
        "splits = df_lr.randomSplit([.8, .2], seed=0) #SPLIT\n",
        "train_df = splits[0]\n",
        "test_df = splits[1]"
      ],
      "metadata": {
        "id": "84vLx_iMJlB6"
      },
      "execution_count": null,
      "outputs": []
    },
    {
      "cell_type": "code",
      "source": [
        "#REGRESS SUMMARRY\n",
        "lr_model = LinearRegression(featuresCol='car_features', labelCol='Price', maxIter=100).fit(train_df)\n",
        "\n",
        "for i,col_ in enumerate(v_assembler.getInputCols()):\n",
        "  print('{} Coefficient :'.format(col_), lr_model.coefficients[i])"
      ],
      "metadata": {
        "colab": {
          "base_uri": "https://localhost:8080/"
        },
        "id": "09buQ3QKDPuv",
        "outputId": "4f608543-fd07-426c-a261-5b2e9c61f0e6"
      },
      "execution_count": null,
      "outputs": [
        {
          "output_type": "stream",
          "name": "stdout",
          "text": [
            "Age_08_04 Coefficient : -110.48255512214395\n",
            "KM Coefficient : -0.018066435437563536\n",
            "HP Coefficient : 29.00275122069008\n",
            "Automatic Coefficient : 461.4828242824842\n",
            "Doors Coefficient : 163.1028992516124\n",
            "Quarterly_Tax Coefficient : 17.870974838964372\n",
            "Mfr_Guarantee Coefficient : 228.97062826780592\n",
            "Guarantee_Period Coefficient : 86.06958154948099\n",
            "Airco Coefficient : 112.10883852364395\n",
            "Automatic_airco Coefficient : 3359.6852699651054\n",
            "CD_Player Coefficient : 197.9441441525692\n",
            "Powered_Windows Coefficient : 407.82178307666413\n",
            "Sport_Model Coefficient : 371.48910226946504\n",
            "Tow_Bar Coefficient : -308.4093677391461\n",
            "Fuel_Type_Index Coefficient : -445.41109008528815\n"
          ]
        }
      ]
    },
    {
      "cell_type": "code",
      "source": [
        "#EVALUATE MODEL PERFORMANCE\n",
        "y_pred_test = lr_model.transform(test_df)\n",
        "\n",
        "y_pred = lr_model.transform(train_df)\n",
        "y_pred.show(3)\n",
        "\n",
        "print('\\nTrain Score\\n______\\nME:', y_pred.select(F.mean(F.abs(y_pred['Price'] - y_pred['prediction']))).first()[0])\n",
        "\n",
        "print('MAPE: %{}'.format(y_pred.select(F.mean((F.abs(y_pred['Price'] - y_pred['prediction']) / y_pred['Price']) * 100)).first()[0]))\n",
        "\n",
        "#testing\n",
        "print('\\nTest Score\\n______\\nME:', y_pred_test.select(F.mean(F.abs(y_pred_test['Price'] - y_pred_test['prediction']))).first()[0])\n",
        "\n",
        "print('MAPE: %{}'.format(y_pred_test.select(F.mean((F.abs(y_pred_test['Price'] - y_pred_test['prediction']) / y_pred_test['Price']) * 100)).first()[0]))\n",
        "\n",
        "#LR regression summary\n",
        "summary = lr_model.summary\n",
        "print('\\nAnova\\n______', '\\nr2:', round(summary.r2,4), '\\t\\tr2 adj:', round(summary.r2adj,4), '\\nResiduals:', round(summary.residuals.first()[0],4), \n",
        "      '\\tdof:', summary.degreesOfFreedom, '\\n\\nT-Stat:', '\\nIntercept:', summary.tValues[2], \n",
        "       [(k,v) for k,v in zip(v_assembler.getInputCols(), summary.tValues[0:-1])], '\\n\\nP-Values\\n_____', '\\nIntercept:', summary.pValues[2], \n",
        "       [(i,p) for i,p in zip(v_assembler.getInputCols(), summary.pValues[0:-1])])"
      ],
      "metadata": {
        "colab": {
          "base_uri": "https://localhost:8080/"
        },
        "id": "hJgGJdNZDPxY",
        "outputId": "569e0120-a9b7-48e2-8cca-a9c45859c0e5"
      },
      "execution_count": null,
      "outputs": [
        {
          "output_type": "stream",
          "name": "stdout",
          "text": [
            "+--------------------+-----+------------------+\n",
            "|        car_features|Price|        prediction|\n",
            "+--------------------+-----+------------------+\n",
            "|(15,[0,1,2,3,4,5,...|12950|12580.761858091704|\n",
            "|(15,[0,1,2,3,4,5,...| 8950|  8258.57041931608|\n",
            "|(15,[0,1,2,3,4,5,...| 8950| 8852.678846258914|\n",
            "+--------------------+-----+------------------+\n",
            "only showing top 3 rows\n",
            "\n",
            "\n",
            "Train Score\n",
            "______\n",
            "ME: 927.5648963374546\n",
            "MAPE: %9.133753295572136\n",
            "\n",
            "Test Score\n",
            "______\n",
            "ME: 855.8839779380901\n",
            "MAPE: %8.386266147585305\n",
            "\n",
            "Anova\n",
            "______ \n",
            "r2: 0.8852 \t\tr2 adj: 0.8837 \n",
            "Residuals: 369.2381 \tdof: 1110 \n",
            "\n",
            "T-Stat: \n",
            "Intercept: 9.515371874829308 [('Age_08_04', -34.59150912282249), ('KM', -13.022185693611569), ('HP', 9.515371874829308), ('Automatic', 2.7586379030746113), ('Doors', 3.9683161398542444), ('Quarterly_Tax', 11.046282106015676), ('Mfr_Guarantee', 2.867825442461807), ('Guarantee_Period', 6.776161979479968), ('Airco', 1.1556636408268874), ('Automatic_airco', 17.497749514983294), ('CD_Player', 1.8515417195324873), ('Powered_Windows', 4.419265976338696), ('Sport_Model', 4.260797784475811), ('Tow_Bar', -3.5387301439832175), ('Fuel_Type_Index', -2.2767106496793397)] \n",
            "\n",
            "P-Values\n",
            "_____ \n",
            "Intercept: 0.0 [('Age_08_04', 0.0), ('KM', 0.0), ('HP', 0.0), ('Automatic', 0.005899649131503315), ('Doors', 7.702940034803873e-05), ('Quarterly_Tax', 0.0), ('Mfr_Guarantee', 0.004211227681909069), ('Guarantee_Period', 1.9988233290746393e-11), ('Airco', 0.24806745763065585), ('Automatic_airco', 0.0), ('CD_Player', 0.06435709499837916), ('Powered_Windows', 1.0874034642061048e-05), ('Sport_Model', 2.2097022388756216e-05), ('Tow_Bar', 0.0004186867396387406), ('Fuel_Type_Index', 0.022993205826037144)]\n"
          ]
        }
      ]
    },
    {
      "cell_type": "code",
      "source": [],
      "metadata": {
        "id": "5OkGzoKeSmDr"
      },
      "execution_count": null,
      "outputs": []
    },
    {
      "cell_type": "code",
      "source": [],
      "metadata": {
        "id": "gbmcq4bzSmGn"
      },
      "execution_count": null,
      "outputs": []
    },
    {
      "cell_type": "markdown",
      "source": [
        "### DateTime"
      ],
      "metadata": {
        "id": "xmtXdfoPhrIO"
      }
    },
    {
      "cell_type": "code",
      "source": [
        "duration = timedelta(days=2, hours=4, minutes=30)\n",
        "df['date'] = datetime.strptime(df['date'], \"%Y-%m-%d\")\n",
        "\n",
        "print(\"Duration:\", duration)"
      ],
      "metadata": {
        "colab": {
          "base_uri": "https://localhost:8080/",
          "height": 222
        },
        "id": "JhN6VTCjXYBV",
        "outputId": "be9380c0-6bee-4c6f-8131-edb76a5e9b1d"
      },
      "execution_count": null,
      "outputs": [
        {
          "output_type": "error",
          "ename": "TypeError",
          "evalue": "ignored",
          "traceback": [
            "\u001b[0;31m---------------------------------------------------------------------------\u001b[0m",
            "\u001b[0;31mTypeError\u001b[0m                                 Traceback (most recent call last)",
            "\u001b[0;32m<ipython-input-15-fe6645d95390>\u001b[0m in \u001b[0;36m<cell line: 2>\u001b[0;34m()\u001b[0m\n\u001b[1;32m      1\u001b[0m \u001b[0mduration\u001b[0m \u001b[0;34m=\u001b[0m \u001b[0mtimedelta\u001b[0m\u001b[0;34m(\u001b[0m\u001b[0mdays\u001b[0m\u001b[0;34m=\u001b[0m\u001b[0;36m2\u001b[0m\u001b[0;34m,\u001b[0m \u001b[0mhours\u001b[0m\u001b[0;34m=\u001b[0m\u001b[0;36m4\u001b[0m\u001b[0;34m,\u001b[0m \u001b[0mminutes\u001b[0m\u001b[0;34m=\u001b[0m\u001b[0;36m30\u001b[0m\u001b[0;34m)\u001b[0m\u001b[0;34m\u001b[0m\u001b[0;34m\u001b[0m\u001b[0m\n\u001b[0;32m----> 2\u001b[0;31m \u001b[0mdf\u001b[0m\u001b[0;34m[\u001b[0m\u001b[0;34m'date'\u001b[0m\u001b[0;34m]\u001b[0m \u001b[0;34m=\u001b[0m \u001b[0mdatetime\u001b[0m\u001b[0;34m.\u001b[0m\u001b[0mstrptime\u001b[0m\u001b[0;34m(\u001b[0m\u001b[0mdf\u001b[0m\u001b[0;34m[\u001b[0m\u001b[0;34m'date'\u001b[0m\u001b[0;34m]\u001b[0m\u001b[0;34m,\u001b[0m \u001b[0;34m\"%Y-%m-%d\"\u001b[0m\u001b[0;34m)\u001b[0m\u001b[0;34m\u001b[0m\u001b[0;34m\u001b[0m\u001b[0m\n\u001b[0m\u001b[1;32m      3\u001b[0m \u001b[0;34m\u001b[0m\u001b[0m\n\u001b[1;32m      4\u001b[0m \u001b[0mprint\u001b[0m\u001b[0;34m(\u001b[0m\u001b[0;34m\"Duration:\"\u001b[0m\u001b[0;34m,\u001b[0m \u001b[0mduration\u001b[0m\u001b[0;34m)\u001b[0m\u001b[0;34m\u001b[0m\u001b[0;34m\u001b[0m\u001b[0m\n",
            "\u001b[0;31mTypeError\u001b[0m: strptime() argument 1 must be str, not Series"
          ]
        }
      ]
    },
    {
      "cell_type": "code",
      "source": [
        "# Parse a string into a datetime object\n",
        "date_string = \"2022-05-10\"\n",
        "parsed_date = datetime.strptime(date_string, \"%Y-%m-%d\")\n",
        "print(\"Parsed Date:\", parsed_date)"
      ],
      "metadata": {
        "id": "mSawVmqaaaRz"
      },
      "execution_count": null,
      "outputs": []
    },
    {
      "cell_type": "code",
      "source": [
        "for i in range(3):\n",
        "  print('iteration {}'.format(i+1))"
      ],
      "metadata": {
        "colab": {
          "base_uri": "https://localhost:8080/"
        },
        "id": "nesyck5rqfBb",
        "outputId": "d8fbbcd8-2444-4903-98be-40fbd7e5e2c0"
      },
      "execution_count": null,
      "outputs": [
        {
          "output_type": "stream",
          "name": "stdout",
          "text": [
            "iteration 1\n",
            "iteration 2\n",
            "iteration 3\n"
          ]
        }
      ]
    },
    {
      "cell_type": "code",
      "source": [],
      "metadata": {
        "id": "EWywnkQRrZdm"
      },
      "execution_count": null,
      "outputs": []
    }
  ]
}