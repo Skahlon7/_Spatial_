{
  "nbformat": 4,
  "nbformat_minor": 0,
  "metadata": {
    "colab": {
      "provenance": []
    },
    "kernelspec": {
      "name": "python3",
      "display_name": "Python 3"
    },
    "language_info": {
      "name": "python"
    }
  },
  "cells": [
    {
      "cell_type": "markdown",
      "source": [
        "### DS In Pyspark\n",
        "This notebook examplifies the fundamental skills in DS python integrated to `Pyspark`\n",
        "- Column Work\n",
        "- Data Cleansing\n",
        "- SQL Functions\n",
        "- Analysis \n",
        "- Data Pre-processing\n",
        "- Visualization"
      ],
      "metadata": {
        "id": "nt9FBSJwqj-8"
      }
    },
    {
      "cell_type": "code",
      "execution_count": 181,
      "metadata": {
        "id": "mHjveDzrolpn"
      },
      "outputs": [],
      "source": [
        "import pandas as pd\n",
        "import numpy as np\n",
        "import datetime \n",
        "import torch\n",
        "from datetime import date, datetime, timedelta\n",
        "import pyspark\n",
        "from pyspark.sql import SparkSession\n",
        "from pyspark.sql.functions import col, mean, stddev, variance, when\n",
        "import pyspark.sql.functions as F\n",
        "from pyspark.ml.regression import LinearRegression\n",
        "from pyspark.ml.classification import LogisticRegression\n",
        "from pyspark.ml.evaluation import RegressionEvaluator, MulticlassClassificationEvaluator\n",
        "from pyspark.ml.tuning import ParamGridBuilder, CrossValidator\n",
        "from pyspark.ml.feature import StringIndexer, OneHotEncoder, StandardScaler, MinMaxScaler,  VectorAssembler\n",
        "from pyspark.sql.types import *"
      ]
    },
    {
      "cell_type": "markdown",
      "source": [
        "### Column work + DateTime\n"
      ],
      "metadata": {
        "id": "Om_QdNPbw61k"
      }
    },
    {
      "cell_type": "code",
      "source": [
        "spark = SparkSession.builder.getOrCreate()\n",
        "store_df = spark.read.csv('store_train.csv', header=True, inferSchema=True)\n",
        "store_df.show(3)"
      ],
      "metadata": {
        "colab": {
          "base_uri": "https://localhost:8080/"
        },
        "id": "25S8trJ4ouME",
        "outputId": "9296bec4-6bad-4e51-c162-218373f9c41e"
      },
      "execution_count": 99,
      "outputs": [
        {
          "output_type": "stream",
          "name": "stdout",
          "text": [
            "+------+--------------+----------+----------+------------+-----------+---------------+---------+-------------+-----------+----------+-----------+------+---------------+---------------+------------+--------------------+------+\n",
            "|Row ID|      Order ID|Order Date| Ship Date|   Ship Mode|Customer ID|  Customer Name|  Segment|      Country|       City|     State|Postal Code|Region|     Product ID|       Category|Sub-Category|        Product Name| Sales|\n",
            "+------+--------------+----------+----------+------------+-----------+---------------+---------+-------------+-----------+----------+-----------+------+---------------+---------------+------------+--------------------+------+\n",
            "|     1|CA-2017-152156|08/11/2017|11/11/2017|Second Class|   CG-12520|    Claire Gute| Consumer|United States|  Henderson|  Kentucky|      42420| South|FUR-BO-10001798|      Furniture|   Bookcases|Bush Somerset Col...|261.96|\n",
            "|     2|CA-2017-152156|08/11/2017|11/11/2017|Second Class|   CG-12520|    Claire Gute| Consumer|United States|  Henderson|  Kentucky|      42420| South|FUR-CH-10000454|      Furniture|      Chairs|Hon Deluxe Fabric...|731.94|\n",
            "|     3|CA-2017-138688|12/06/2017|16/06/2017|Second Class|   DV-13045|Darrin Van Huff|Corporate|United States|Los Angeles|California|      90036|  West|OFF-LA-10000240|Office Supplies|      Labels|Self-Adhesive Add...| 14.62|\n",
            "+------+--------------+----------+----------+------------+-----------+---------------+---------+-------------+-----------+----------+-----------+------+---------------+---------------+------------+--------------------+------+\n",
            "only showing top 3 rows\n",
            "\n"
          ]
        }
      ]
    },
    {
      "cell_type": "code",
      "source": [
        "#Change to date format \n",
        "store_df = store_df.withColumn('Order Date', F.to_date(F.col('Order Date'), 'd/M/y'))\\\n",
        ".withColumn('Ship Date', F.to_date(F.col('Ship Date'), 'd/M/y'))\n",
        "\n",
        "store_df.printSchema()"
      ],
      "metadata": {
        "colab": {
          "base_uri": "https://localhost:8080/"
        },
        "id": "OXtLS6SlvbX6",
        "outputId": "429b7759-3397-4f82-9470-5aef373afc9b"
      },
      "execution_count": 100,
      "outputs": [
        {
          "output_type": "stream",
          "name": "stdout",
          "text": [
            "root\n",
            " |-- Row ID: integer (nullable = true)\n",
            " |-- Order ID: string (nullable = true)\n",
            " |-- Order Date: date (nullable = true)\n",
            " |-- Ship Date: date (nullable = true)\n",
            " |-- Ship Mode: string (nullable = true)\n",
            " |-- Customer ID: string (nullable = true)\n",
            " |-- Customer Name: string (nullable = true)\n",
            " |-- Segment: string (nullable = true)\n",
            " |-- Country: string (nullable = true)\n",
            " |-- City: string (nullable = true)\n",
            " |-- State: string (nullable = true)\n",
            " |-- Postal Code: integer (nullable = true)\n",
            " |-- Region: string (nullable = true)\n",
            " |-- Product ID: string (nullable = true)\n",
            " |-- Category: string (nullable = true)\n",
            " |-- Sub-Category: string (nullable = true)\n",
            " |-- Product Name: string (nullable = true)\n",
            " |-- Sales: string (nullable = true)\n",
            "\n"
          ]
        }
      ]
    },
    {
      "cell_type": "code",
      "source": [
        "#Find time differences\n",
        "store_df = store_df.withColumn('ship_time', F.datediff('Ship Date', 'Order Date'))\\\n",
        ".withColumn('time_pass', F.datediff(F.current_date(), 'Ship Date')) #MULTIPLY BY 1440, ETC TO FIND IN MINUTES OR OTHER UNIT\n",
        "store_df.show()"
      ],
      "metadata": {
        "colab": {
          "base_uri": "https://localhost:8080/"
        },
        "id": "hqviWjDlwV_Y",
        "outputId": "ad332ab6-0035-4068-e45e-092bbea4537e"
      },
      "execution_count": 101,
      "outputs": [
        {
          "output_type": "stream",
          "name": "stdout",
          "text": [
            "+------+--------------+----------+----------+--------------+-----------+------------------+-----------+-------------+---------------+--------------+-----------+-------+---------------+---------------+------------+--------------------+--------+---------+---------+\n",
            "|Row ID|      Order ID|Order Date| Ship Date|     Ship Mode|Customer ID|     Customer Name|    Segment|      Country|           City|         State|Postal Code| Region|     Product ID|       Category|Sub-Category|        Product Name|   Sales|ship_time|time_pass|\n",
            "+------+--------------+----------+----------+--------------+-----------+------------------+-----------+-------------+---------------+--------------+-----------+-------+---------------+---------------+------------+--------------------+--------+---------+---------+\n",
            "|     1|CA-2017-152156|2017-11-08|2017-11-11|  Second Class|   CG-12520|       Claire Gute|   Consumer|United States|      Henderson|      Kentucky|      42420|  South|FUR-BO-10001798|      Furniture|   Bookcases|Bush Somerset Col...|  261.96|        3|     2039|\n",
            "|     2|CA-2017-152156|2017-11-08|2017-11-11|  Second Class|   CG-12520|       Claire Gute|   Consumer|United States|      Henderson|      Kentucky|      42420|  South|FUR-CH-10000454|      Furniture|      Chairs|Hon Deluxe Fabric...|  731.94|        3|     2039|\n",
            "|     3|CA-2017-138688|2017-06-12|2017-06-16|  Second Class|   DV-13045|   Darrin Van Huff|  Corporate|United States|    Los Angeles|    California|      90036|   West|OFF-LA-10000240|Office Supplies|      Labels|Self-Adhesive Add...|   14.62|        4|     2187|\n",
            "|     4|US-2016-108966|2016-10-11|2016-10-18|Standard Class|   SO-20335|    Sean O'Donnell|   Consumer|United States|Fort Lauderdale|       Florida|      33311|  South|FUR-TA-10000577|      Furniture|      Tables|Bretford CR4500 S...|957.5775|        7|     2428|\n",
            "|     5|US-2016-108966|2016-10-11|2016-10-18|Standard Class|   SO-20335|    Sean O'Donnell|   Consumer|United States|Fort Lauderdale|       Florida|      33311|  South|OFF-ST-10000760|Office Supplies|     Storage|Eldon Fold 'N Rol...|  22.368|        7|     2428|\n",
            "|     6|CA-2015-115812|2015-06-09|2015-06-14|Standard Class|   BH-11710|   Brosina Hoffman|   Consumer|United States|    Los Angeles|    California|      90032|   West|FUR-FU-10001487|      Furniture| Furnishings|Eldon Expressions...|   48.86|        5|     2920|\n",
            "|     7|CA-2015-115812|2015-06-09|2015-06-14|Standard Class|   BH-11710|   Brosina Hoffman|   Consumer|United States|    Los Angeles|    California|      90032|   West|OFF-AR-10002833|Office Supplies|         Art|          Newell 322|    7.28|        5|     2920|\n",
            "|     8|CA-2015-115812|2015-06-09|2015-06-14|Standard Class|   BH-11710|   Brosina Hoffman|   Consumer|United States|    Los Angeles|    California|      90032|   West|TEC-PH-10002275|     Technology|      Phones|Mitel 5320 IP Pho...| 907.152|        5|     2920|\n",
            "|     9|CA-2015-115812|2015-06-09|2015-06-14|Standard Class|   BH-11710|   Brosina Hoffman|   Consumer|United States|    Los Angeles|    California|      90032|   West|OFF-BI-10003910|Office Supplies|     Binders|DXL Angle-View Bi...|  18.504|        5|     2920|\n",
            "|    10|CA-2015-115812|2015-06-09|2015-06-14|Standard Class|   BH-11710|   Brosina Hoffman|   Consumer|United States|    Los Angeles|    California|      90032|   West|OFF-AP-10002892|Office Supplies|  Appliances|Belkin F5C206VTEL...|   114.9|        5|     2920|\n",
            "|    11|CA-2015-115812|2015-06-09|2015-06-14|Standard Class|   BH-11710|   Brosina Hoffman|   Consumer|United States|    Los Angeles|    California|      90032|   West|FUR-TA-10001539|      Furniture|      Tables|Chromcraft Rectan...|1706.184|        5|     2920|\n",
            "|    12|CA-2015-115812|2015-06-09|2015-06-14|Standard Class|   BH-11710|   Brosina Hoffman|   Consumer|United States|    Los Angeles|    California|      90032|   West|TEC-PH-10002033|     Technology|      Phones|Konftel 250 Confe...| 911.424|        5|     2920|\n",
            "|    13|CA-2018-114412|2018-04-15|2018-04-20|Standard Class|   AA-10480|      Andrew Allen|   Consumer|United States|        Concord|North Carolina|      28027|  South|OFF-PA-10002365|Office Supplies|       Paper|          Xerox 1967|  15.552|        5|     1879|\n",
            "|    14|CA-2017-161389|2017-12-05|2017-12-10|Standard Class|   IM-15070|      Irene Maddox|   Consumer|United States|        Seattle|    Washington|      98103|   West|OFF-BI-10003656|Office Supplies|     Binders|Fellowes PB200 Pl...| 407.976|        5|     2010|\n",
            "|    15|US-2016-118983|2016-11-22|2016-11-26|Standard Class|   HP-14815|     Harold Pawlan|Home Office|United States|     Fort Worth|         Texas|      76106|Central|OFF-AP-10002311|Office Supplies|  Appliances|Holmes Replacemen...|   68.81|        4|     2389|\n",
            "|    16|US-2016-118983|2016-11-22|2016-11-26|Standard Class|   HP-14815|     Harold Pawlan|Home Office|United States|     Fort Worth|         Texas|      76106|Central|OFF-BI-10000756|Office Supplies|     Binders|Storex DuraTech R...|   2.544|        4|     2389|\n",
            "|    17|CA-2015-105893|2015-11-11|2015-11-18|Standard Class|   PK-19075|         Pete Kriz|   Consumer|United States|        Madison|     Wisconsin|      53711|Central|OFF-ST-10004186|Office Supplies|     Storage|\"Stur-D-Stor Shel...|  665.88|        7|     2763|\n",
            "|    18|CA-2015-167164|2015-05-13|2015-05-15|  Second Class|   AG-10270|   Alejandro Grove|   Consumer|United States|    West Jordan|          Utah|      84084|   West|OFF-ST-10000107|Office Supplies|     Storage|Fellowes Super St...|    55.5|        2|     2950|\n",
            "|    19|CA-2015-143336|2015-08-27|2015-09-01|  Second Class|   ZD-21925|Zuschuss Donatelli|   Consumer|United States|  San Francisco|    California|      94109|   West|OFF-AR-10003056|Office Supplies|         Art|          Newell 341|    8.56|        5|     2841|\n",
            "|    20|CA-2015-143336|2015-08-27|2015-09-01|  Second Class|   ZD-21925|Zuschuss Donatelli|   Consumer|United States|  San Francisco|    California|      94109|   West|TEC-PH-10001949|     Technology|      Phones|Cisco SPA 501G IP...|  213.48|        5|     2841|\n",
            "+------+--------------+----------+----------+--------------+-----------+------------------+-----------+-------------+---------------+--------------+-----------+-------+---------------+---------------+------------+--------------------+--------+---------+---------+\n",
            "only showing top 20 rows\n",
            "\n"
          ]
        }
      ]
    },
    {
      "cell_type": "code",
      "source": [
        "#TIME DIFF USING TIMEDELTA!!! --> NEED FOR NIKE\n",
        "\n",
        "# Define the run date as a string\n",
        "run_date = \"2023-06-08\"\n",
        "\n",
        "# Parse the run date string into a datetime object\n",
        "run_datetime = datetime.strptime(run_date, \"%Y-%m-%d\")\n",
        "\n",
        "# Generate a series of dates by subtracting a time difference of 30*x days\n",
        "date_series = [str(run_datetime - timedelta(days=30*x))[:10] for x in [0, 1, 2, 3, 4, 5, 6]]\n",
        "\n",
        "print(date_series)\n",
        "# Output: ['2023-06-08', '2023-05-09', '2023-04-09', '2023-03-10', '2023-02-08', '2023-01-08', '2022-12-09']\n"
      ],
      "metadata": {
        "colab": {
          "base_uri": "https://localhost:8080/"
        },
        "id": "OPhShqwx64LO",
        "outputId": "b697c8a7-035c-4a97-b24a-6ff954045116"
      },
      "execution_count": 102,
      "outputs": [
        {
          "output_type": "stream",
          "name": "stdout",
          "text": [
            "['2023-06-08', '2023-05-09', '2023-04-09', '2023-03-10', '2023-02-08', '2023-01-09', '2022-12-10']\n"
          ]
        }
      ]
    },
    {
      "cell_type": "code",
      "source": [
        "#null values check\n",
        "for col_ in store_df.columns:\n",
        "  print(f'{col_} N/A:', store_df.filter(col('Customer ID').isNull()).count())"
      ],
      "metadata": {
        "colab": {
          "base_uri": "https://localhost:8080/"
        },
        "id": "iNR2yiLqyfmA",
        "outputId": "d5fe9f38-1490-4833-f9dc-a83b49a89b14"
      },
      "execution_count": 103,
      "outputs": [
        {
          "output_type": "stream",
          "name": "stdout",
          "text": [
            "Row ID N/A: 0\n",
            "Order ID N/A: 0\n",
            "Order Date N/A: 0\n",
            "Ship Date N/A: 0\n",
            "Ship Mode N/A: 0\n",
            "Customer ID N/A: 0\n",
            "Customer Name N/A: 0\n",
            "Segment N/A: 0\n",
            "Country N/A: 0\n",
            "City N/A: 0\n",
            "State N/A: 0\n",
            "Postal Code N/A: 0\n",
            "Region N/A: 0\n",
            "Product ID N/A: 0\n",
            "Category N/A: 0\n",
            "Sub-Category N/A: 0\n",
            "Product Name N/A: 0\n",
            "Sales N/A: 0\n",
            "ship_time N/A: 0\n",
            "time_pass N/A: 0\n"
          ]
        }
      ]
    },
    {
      "cell_type": "markdown",
      "source": [
        "#### Filter Data"
      ],
      "metadata": {
        "id": "_bcpKIHuAB4X"
      }
    },
    {
      "cell_type": "code",
      "source": [
        "store_df.filter((F.col('city') == 'San Francisco') & (F.col('Ship Mode') == 'Second Class')).show(3)"
      ],
      "metadata": {
        "colab": {
          "base_uri": "https://localhost:8080/"
        },
        "id": "jSAloDN37308",
        "outputId": "de01a967-f48d-45d9-e25d-40ce88ee2f41"
      },
      "execution_count": 104,
      "outputs": [
        {
          "output_type": "stream",
          "name": "stdout",
          "text": [
            "+------+--------------+----------+----------+------------+-----------+------------------+--------+-------------+-------------+----------+-----------+------+---------------+---------------+------------+--------------------+------+---------+---------+\n",
            "|Row ID|      Order ID|Order Date| Ship Date|   Ship Mode|Customer ID|     Customer Name| Segment|      Country|         City|     State|Postal Code|Region|     Product ID|       Category|Sub-Category|        Product Name| Sales|ship_time|time_pass|\n",
            "+------+--------------+----------+----------+------------+-----------+------------------+--------+-------------+-------------+----------+-----------+------+---------------+---------------+------------+--------------------+------+---------+---------+\n",
            "|    19|CA-2015-143336|2015-08-27|2015-09-01|Second Class|   ZD-21925|Zuschuss Donatelli|Consumer|United States|San Francisco|California|      94109|  West|OFF-AR-10003056|Office Supplies|         Art|          Newell 341|  8.56|        5|     2841|\n",
            "|    20|CA-2015-143336|2015-08-27|2015-09-01|Second Class|   ZD-21925|Zuschuss Donatelli|Consumer|United States|San Francisco|California|      94109|  West|TEC-PH-10001949|     Technology|      Phones|Cisco SPA 501G IP...|213.48|        5|     2841|\n",
            "|    21|CA-2015-143336|2015-08-27|2015-09-01|Second Class|   ZD-21925|Zuschuss Donatelli|Consumer|United States|San Francisco|California|      94109|  West|OFF-BI-10002215|Office Supplies|     Binders|Wilson Jones Hang...| 22.72|        5|     2841|\n",
            "+------+--------------+----------+----------+------------+-----------+------------------+--------+-------------+-------------+----------+-----------+------+---------------+---------------+------------+--------------------+------+---------+---------+\n",
            "only showing top 3 rows\n",
            "\n"
          ]
        }
      ]
    },
    {
      "cell_type": "code",
      "source": [
        "#diff postal codes for second clss sf flights\n",
        "store_df.filter((F.col('city') == 'San Francisco') & (F.col('Ship Mode') == 'Second Class')).select('Postal Code').distinct().show()"
      ],
      "metadata": {
        "colab": {
          "base_uri": "https://localhost:8080/"
        },
        "id": "mnM5mg9JBrqP",
        "outputId": "58879f55-c6b7-4133-c672-801b47e89b0d"
      },
      "execution_count": 105,
      "outputs": [
        {
          "output_type": "stream",
          "name": "stdout",
          "text": [
            "+-----------+\n",
            "|Postal Code|\n",
            "+-----------+\n",
            "|      94109|\n",
            "|      94122|\n",
            "|      94110|\n",
            "+-----------+\n",
            "\n"
          ]
        }
      ]
    },
    {
      "cell_type": "code",
      "source": [
        "# Perform value counts on a column\n",
        "value_counts = store_df.groupBy('Ship Mode').count()\n",
        "\n",
        "# Display the value counts\n",
        "value_counts.show()"
      ],
      "metadata": {
        "colab": {
          "base_uri": "https://localhost:8080/"
        },
        "id": "e-XddPykCIe8",
        "outputId": "a00f2ef3-53ce-4f2c-bd6b-8ff1daeea26b"
      },
      "execution_count": 106,
      "outputs": [
        {
          "output_type": "stream",
          "name": "stdout",
          "text": [
            "+--------------+-----+\n",
            "|     Ship Mode|count|\n",
            "+--------------+-----+\n",
            "|   First Class| 1501|\n",
            "|      Same Day|  538|\n",
            "|  Second Class| 1902|\n",
            "|Standard Class| 5859|\n",
            "+--------------+-----+\n",
            "\n"
          ]
        }
      ]
    },
    {
      "cell_type": "markdown",
      "source": [
        "### Group and Agg data"
      ],
      "metadata": {
        "id": "xxvnurDYCo8M"
      }
    },
    {
      "cell_type": "code",
      "source": [
        "store_df.select(['Ship Mode']).groupby('Ship Mode').count().show()"
      ],
      "metadata": {
        "colab": {
          "base_uri": "https://localhost:8080/"
        },
        "id": "eSNhwFySClDV",
        "outputId": "44b03d21-3d30-4710-f98f-388ccbb9cc7b"
      },
      "execution_count": 108,
      "outputs": [
        {
          "output_type": "stream",
          "name": "stdout",
          "text": [
            "+--------------+-----+\n",
            "|     Ship Mode|count|\n",
            "+--------------+-----+\n",
            "|   First Class| 1501|\n",
            "|      Same Day|  538|\n",
            "|  Second Class| 1902|\n",
            "|Standard Class| 5859|\n",
            "+--------------+-----+\n",
            "\n"
          ]
        }
      ]
    },
    {
      "cell_type": "code",
      "source": [
        "store_df.select(['Ship Mode', 'ship_time']).groupby('Ship Mode').mean().show(truncate=True)"
      ],
      "metadata": {
        "colab": {
          "base_uri": "https://localhost:8080/"
        },
        "id": "2noEz6CMFtTp",
        "outputId": "1139d8cb-3d7f-47d6-8a44-4b32060a53cf"
      },
      "execution_count": 112,
      "outputs": [
        {
          "output_type": "stream",
          "name": "stdout",
          "text": [
            "+--------------+-------------------+\n",
            "|     Ship Mode|     avg(ship_time)|\n",
            "+--------------+-------------------+\n",
            "|   First Class|  2.179213857428381|\n",
            "|      Same Day|0.04460966542750929|\n",
            "|  Second Class| 3.2492113564668768|\n",
            "|Standard Class|  5.008363201911589|\n",
            "+--------------+-------------------+\n",
            "\n"
          ]
        }
      ]
    },
    {
      "cell_type": "code",
      "source": [],
      "metadata": {
        "id": "KvfLMH2uC60o"
      },
      "execution_count": null,
      "outputs": []
    },
    {
      "cell_type": "markdown",
      "source": [
        "### Build a logistic regression model"
      ],
      "metadata": {
        "id": "sFqdkw-zC7If"
      }
    },
    {
      "cell_type": "code",
      "source": [
        "iris_df = spark.read.csv('Iris.csv', header=True, inferSchema=True)\n",
        "iris_df.show(3)"
      ],
      "metadata": {
        "colab": {
          "base_uri": "https://localhost:8080/"
        },
        "id": "fulcwq11DHnP",
        "outputId": "2d46ac83-43a9-4daf-8952-ab1ce1df1c4c"
      },
      "execution_count": 186,
      "outputs": [
        {
          "output_type": "stream",
          "name": "stdout",
          "text": [
            "+---+-------------+------------+-------------+------------+-----------+\n",
            "| Id|SepalLengthCm|SepalWidthCm|PetalLengthCm|PetalWidthCm|    Species|\n",
            "+---+-------------+------------+-------------+------------+-----------+\n",
            "|  1|          5.1|         3.5|          1.4|         0.2|Iris-setosa|\n",
            "|  2|          4.9|         3.0|          1.4|         0.2|Iris-setosa|\n",
            "|  3|          4.7|         3.2|          1.3|         0.2|Iris-setosa|\n",
            "+---+-------------+------------+-------------+------------+-----------+\n",
            "only showing top 3 rows\n",
            "\n"
          ]
        }
      ]
    },
    {
      "cell_type": "code",
      "source": [
        "#Encode to categorical!\n",
        "indexer = StringIndexer(inputCol='Species', outputCol='Species_encoded').fit(iris_df)\n",
        "iris_df = indexer.transform(iris_df)\n",
        "iris_df = iris_df.drop('Species')"
      ],
      "metadata": {
        "id": "4FojKyrqJVH8"
      },
      "execution_count": 187,
      "outputs": []
    },
    {
      "cell_type": "code",
      "source": [
        "iris_df.show(3)"
      ],
      "metadata": {
        "colab": {
          "base_uri": "https://localhost:8080/"
        },
        "id": "PWYsUKuoKBKv",
        "outputId": "7c885395-49cf-4b08-a6c8-8a1817fa4f34"
      },
      "execution_count": 188,
      "outputs": [
        {
          "output_type": "stream",
          "name": "stdout",
          "text": [
            "+---+-------------+------------+-------------+------------+---------------+\n",
            "| Id|SepalLengthCm|SepalWidthCm|PetalLengthCm|PetalWidthCm|Species_encoded|\n",
            "+---+-------------+------------+-------------+------------+---------------+\n",
            "|  1|          5.1|         3.5|          1.4|         0.2|            0.0|\n",
            "|  2|          4.9|         3.0|          1.4|         0.2|            0.0|\n",
            "|  3|          4.7|         3.2|          1.3|         0.2|            0.0|\n",
            "+---+-------------+------------+-------------+------------+---------------+\n",
            "only showing top 3 rows\n",
            "\n"
          ]
        }
      ]
    },
    {
      "cell_type": "code",
      "source": [
        "#Vectorize Data for Model\n",
        "vector_df = VectorAssembler(inputCols=['SepalLengthCm', 'SepalWidthCm', 'PetalLengthCm', 'PetalWidthCm'], outputCol='features').transform(iris_df)\\\n",
        ".select(['features', 'Species_encoded'])\n",
        "\n",
        "vector_df.show(3)"
      ],
      "metadata": {
        "colab": {
          "base_uri": "https://localhost:8080/"
        },
        "id": "ReW9nS4bM5Xg",
        "outputId": "85060948-9a1e-4971-cbb6-f8ab4625fb9a"
      },
      "execution_count": 189,
      "outputs": [
        {
          "output_type": "stream",
          "name": "stdout",
          "text": [
            "+-----------------+---------------+\n",
            "|         features|Species_encoded|\n",
            "+-----------------+---------------+\n",
            "|[5.1,3.5,1.4,0.2]|            0.0|\n",
            "|[4.9,3.0,1.4,0.2]|            0.0|\n",
            "|[4.7,3.2,1.3,0.2]|            0.0|\n",
            "+-----------------+---------------+\n",
            "only showing top 3 rows\n",
            "\n"
          ]
        }
      ]
    },
    {
      "cell_type": "code",
      "source": [
        "#Scale Data\n",
        "scaler = MinMaxScaler(min=0, max=1., inputCol='features', outputCol='features_scaled').fit(vector_df)\n",
        "vector_df = scaler.transform(vector_df).select(['features_scaled', 'Species_encoded'])\n",
        "vector_df.show(3)"
      ],
      "metadata": {
        "colab": {
          "base_uri": "https://localhost:8080/"
        },
        "id": "nBC_LhAOKiWb",
        "outputId": "c6d72487-5c07-47ed-8d7b-b66fbb3f4dc6"
      },
      "execution_count": 190,
      "outputs": [
        {
          "output_type": "stream",
          "name": "stdout",
          "text": [
            "+--------------------+---------------+\n",
            "|     features_scaled|Species_encoded|\n",
            "+--------------------+---------------+\n",
            "|[0.22222222222222...|            0.0|\n",
            "|[0.16666666666666...|            0.0|\n",
            "|[0.11111111111111...|            0.0|\n",
            "+--------------------+---------------+\n",
            "only showing top 3 rows\n",
            "\n"
          ]
        }
      ]
    },
    {
      "cell_type": "code",
      "source": [
        "vector_df.cache()"
      ],
      "metadata": {
        "colab": {
          "base_uri": "https://localhost:8080/"
        },
        "id": "Y1rl77FwRbCB",
        "outputId": "cf7d2f2c-37f3-473e-b92d-dd8ecb3511c9"
      },
      "execution_count": 191,
      "outputs": [
        {
          "output_type": "execute_result",
          "data": {
            "text/plain": [
              "DataFrame[features_scaled: vector, Species_encoded: double]"
            ]
          },
          "metadata": {},
          "execution_count": 191
        }
      ]
    },
    {
      "cell_type": "code",
      "source": [
        "#Split Data\n",
        "train,test = vector_df.randomSplit([0.8,0.2], seed=0)"
      ],
      "metadata": {
        "id": "4HfzynWSNl7U"
      },
      "execution_count": 192,
      "outputs": []
    },
    {
      "cell_type": "code",
      "source": [
        "train.show()"
      ],
      "metadata": {
        "colab": {
          "base_uri": "https://localhost:8080/"
        },
        "id": "3achPsKxRPOF",
        "outputId": "3c447a75-9d39-4afd-d6f9-7a352ad511ba"
      },
      "execution_count": 193,
      "outputs": [
        {
          "output_type": "stream",
          "name": "stdout",
          "text": [
            "+--------------------+---------------+\n",
            "|     features_scaled|Species_encoded|\n",
            "+--------------------+---------------+\n",
            "|[0.0,0.4166666666...|            0.0|\n",
            "|[0.02777777777777...|            0.0|\n",
            "|[0.02777777777777...|            0.0|\n",
            "|[0.02777777777777...|            0.0|\n",
            "|[0.05555555555555...|            0.0|\n",
            "|[0.08333333333333...|            0.0|\n",
            "|[0.08333333333333...|            0.0|\n",
            "|[0.08333333333333...|            0.0|\n",
            "|[0.08333333333333...|            0.0|\n",
            "|[0.11111111111111...|            0.0|\n",
            "|[0.11111111111111...|            0.0|\n",
            "|[0.13888888888888...|            0.0|\n",
            "|[0.13888888888888...|            0.0|\n",
            "|[0.13888888888888...|            0.0|\n",
            "|[0.13888888888888...|            0.0|\n",
            "|[0.13888888888888...|            0.0|\n",
            "|[0.16666666666666...|            1.0|\n",
            "|[0.16666666666666...|            2.0|\n",
            "|[0.16666666666666...|            0.0|\n",
            "|[0.16666666666666...|            0.0|\n",
            "+--------------------+---------------+\n",
            "only showing top 20 rows\n",
            "\n"
          ]
        }
      ]
    },
    {
      "cell_type": "code",
      "source": [
        "#Develop model\n",
        "lr = LogisticRegression(featuresCol='features_scaled', labelCol='Species_encoded', predictionCol='prediction')\n",
        "lr_model = lr.fit(train)\n",
        "pred = lr_model.transform(test)"
      ],
      "metadata": {
        "id": "mP7cjewjQAag"
      },
      "execution_count": 194,
      "outputs": []
    },
    {
      "cell_type": "code",
      "source": [
        "#Multiclass evaluator\n",
        "\n",
        "evaluator = MulticlassClassificationEvaluator(labelCol='Species_encoded', metricName='accuracy')\n"
      ],
      "metadata": {
        "id": "JjkDDTgjUotP"
      },
      "execution_count": 200,
      "outputs": []
    },
    {
      "cell_type": "code",
      "source": [
        "#GRIDSEARCHcv\n",
        "\n",
        "#grid\n",
        "param_grid = ParamGridBuilder() \\\n",
        "    .addGrid(lr_model.regParam, [0.01, 0.1, 1.0]) \\\n",
        "    .addGrid(lr_model.elasticNetParam, [0.0, 0.5, 1.0]) \\\n",
        "    .build()"
      ],
      "metadata": {
        "id": "CrdkPbmnTxTq"
      },
      "execution_count": 196,
      "outputs": []
    },
    {
      "cell_type": "code",
      "source": [
        "#Gridsearch\n",
        "cross_validator = CrossValidator(estimator=lr, #not lr_model since that is already fitted\n",
        "                                 estimatorParamMaps=param_grid,\n",
        "                                 evaluator = evaluator,\n",
        "                                 numFolds=3)\n",
        "\n",
        "cv_model = cross_validator.fit(train)"
      ],
      "metadata": {
        "id": "s37EOYKuUN_q"
      },
      "execution_count": 201,
      "outputs": []
    },
    {
      "cell_type": "code",
      "source": [
        "# Get the best model from CrossValidator\n",
        "\n",
        "best_model = cv_model.bestModel #This is the Logit model w/ best hyperparameters***\n",
        "\n",
        "# Access the best parameter values\n",
        "best_reg_param = best_model.getOrDefault('regParam')\n",
        "best_elastic_net_param = best_model.getOrDefault('elasticNetParam')\n",
        "\n",
        "# Print the best parameter values\n",
        "print(\"Best regParam:\", best_reg_param)\n",
        "print(\"Best elasticNetParam:\", best_elastic_net_param)"
      ],
      "metadata": {
        "colab": {
          "base_uri": "https://localhost:8080/"
        },
        "id": "uhB0kxT0Rp7X",
        "outputId": "99f3b5a9-0af1-4a86-a1ad-7976eca94f6b"
      },
      "execution_count": 202,
      "outputs": [
        {
          "output_type": "stream",
          "name": "stdout",
          "text": [
            "Best regParam: 0.01\n",
            "Best elasticNetParam: 0.0\n"
          ]
        }
      ]
    },
    {
      "cell_type": "code",
      "source": [
        "pred = best_model.transform(test) #Predictions + Probability\n",
        "pred.show(3)"
      ],
      "metadata": {
        "colab": {
          "base_uri": "https://localhost:8080/"
        },
        "id": "OJPpiGPsR1PH",
        "outputId": "87b34f14-0e8e-40ab-a2a3-bac96abe5762"
      },
      "execution_count": 205,
      "outputs": [
        {
          "output_type": "stream",
          "name": "stdout",
          "text": [
            "+--------------------+---------------+--------------------+--------------------+----------+\n",
            "|     features_scaled|Species_encoded|       rawPrediction|         probability|prediction|\n",
            "+--------------------+---------------+--------------------+--------------------+----------+\n",
            "|[0.16666666666666...|            0.0|[5.49350714942006...|[0.95179006999633...|       0.0|\n",
            "|[0.16666666666666...|            0.0|[5.49350714942006...|[0.95179006999633...|       0.0|\n",
            "|[0.19444444444444...|            0.0|[5.35218208902097...|[0.96302833364352...|       0.0|\n",
            "+--------------------+---------------+--------------------+--------------------+----------+\n",
            "only showing top 3 rows\n",
            "\n"
          ]
        }
      ]
    },
    {
      "cell_type": "code",
      "source": [
        "evaluator = MulticlassClassificationEvaluator(labelCol='Species_encoded')\n",
        "\n",
        "# Calculate precision\n",
        "precision = evaluator.evaluate(pred, {evaluator.metricName: 'weightedPrecision'})\n",
        "\n",
        "# Calculate recall\n",
        "recall = evaluator.evaluate(pred, {evaluator.metricName: 'weightedRecall'})\n",
        "\n",
        "# Calculate F1-score\n",
        "f1_score = evaluator.evaluate(pred, {evaluator.metricName: 'f1'})\n",
        "\n",
        "# Print the evaluation metrics\n",
        "print(\"Precision:\", precision)\n",
        "print(\"Recall:\", recall)\n",
        "print(\"F1-score:\", f1_score)"
      ],
      "metadata": {
        "colab": {
          "base_uri": "https://localhost:8080/"
        },
        "id": "6PvYluEfYKoa",
        "outputId": "89e25ed5-89ec-4aa0-c107-36adda06fd0a"
      },
      "execution_count": 212,
      "outputs": [
        {
          "output_type": "stream",
          "name": "stdout",
          "text": [
            "Precision: 1.0\n",
            "Recall: 1.0\n",
            "F1-score: 1.0\n"
          ]
        }
      ]
    },
    {
      "cell_type": "markdown",
      "source": [
        "## A GOOD LOGISTIC REGRESSION\n",
        "- Sigmoid Cutoff"
      ],
      "metadata": {
        "id": "tbFjNSo0Y90J"
      }
    },
    {
      "cell_type": "code",
      "source": [
        "df = spark.read.csv('bank.csv', header=True, inferSchema=True)\n",
        "df.show(3)"
      ],
      "metadata": {
        "colab": {
          "base_uri": "https://localhost:8080/"
        },
        "id": "ebY8lLfnYr_r",
        "outputId": "8e7380b9-1b1c-44c9-db87-83d459ba9cfb"
      },
      "execution_count": 243,
      "outputs": [
        {
          "output_type": "stream",
          "name": "stdout",
          "text": [
            "+---+----------+-------+---------+-------+-------+-------+----+-------+---+-----+--------+--------+-----+--------+--------+-------+\n",
            "|age|       job|marital|education|default|balance|housing|loan|contact|day|month|duration|campaign|pdays|previous|poutcome|deposit|\n",
            "+---+----------+-------+---------+-------+-------+-------+----+-------+---+-----+--------+--------+-----+--------+--------+-------+\n",
            "| 59|    admin.|married|secondary|     no|   2343|    yes|  no|unknown|  5|  may|    1042|       1|   -1|       0| unknown|    yes|\n",
            "| 56|    admin.|married|secondary|     no|     45|     no|  no|unknown|  5|  may|    1467|       1|   -1|       0| unknown|    yes|\n",
            "| 41|technician|married|secondary|     no|   1270|    yes|  no|unknown|  5|  may|    1389|       1|   -1|       0| unknown|    yes|\n",
            "+---+----------+-------+---------+-------+-------+-------+----+-------+---+-----+--------+--------+-----+--------+--------+-------+\n",
            "only showing top 3 rows\n",
            "\n"
          ]
        }
      ]
    },
    {
      "cell_type": "code",
      "source": [
        "df.printSchema()"
      ],
      "metadata": {
        "colab": {
          "base_uri": "https://localhost:8080/"
        },
        "id": "PFVIgNCCaWjV",
        "outputId": "2584a7ec-d64d-46b6-98ec-6f8f985666c4"
      },
      "execution_count": 244,
      "outputs": [
        {
          "output_type": "stream",
          "name": "stdout",
          "text": [
            "root\n",
            " |-- age: integer (nullable = true)\n",
            " |-- job: string (nullable = true)\n",
            " |-- marital: string (nullable = true)\n",
            " |-- education: string (nullable = true)\n",
            " |-- default: string (nullable = true)\n",
            " |-- balance: integer (nullable = true)\n",
            " |-- housing: string (nullable = true)\n",
            " |-- loan: string (nullable = true)\n",
            " |-- contact: string (nullable = true)\n",
            " |-- day: integer (nullable = true)\n",
            " |-- month: string (nullable = true)\n",
            " |-- duration: integer (nullable = true)\n",
            " |-- campaign: integer (nullable = true)\n",
            " |-- pdays: integer (nullable = true)\n",
            " |-- previous: integer (nullable = true)\n",
            " |-- poutcome: string (nullable = true)\n",
            " |-- deposit: string (nullable = true)\n",
            "\n"
          ]
        }
      ]
    },
    {
      "cell_type": "code",
      "source": [
        "features = ['job', 'marital', 'education', 'default', 'housing', 'loan',\n",
        "                                   'contact', 'month', 'poutcome', 'deposit']       "
      ],
      "metadata": {
        "id": "OmZO_hsFbTC1"
      },
      "execution_count": 245,
      "outputs": []
    },
    {
      "cell_type": "code",
      "source": [
        "indexer = StringIndexer(inputCols=features, outputCols=[x+'_e' for x in features]).fit(df)\n",
        "\n",
        "\n",
        "df = indexer.transform(df).select([x+'_e' for x in features])"
      ],
      "metadata": {
        "id": "zijXjaObaYur"
      },
      "execution_count": 246,
      "outputs": []
    },
    {
      "cell_type": "code",
      "source": [
        "df.show(3)"
      ],
      "metadata": {
        "colab": {
          "base_uri": "https://localhost:8080/"
        },
        "id": "7VkmcnORbJUV",
        "outputId": "ca34d660-01a3-486d-fdb7-da21d904048c"
      },
      "execution_count": 247,
      "outputs": [
        {
          "output_type": "stream",
          "name": "stdout",
          "text": [
            "+-----+---------+-----------+---------+---------+------+---------+-------+----------+---------+\n",
            "|job_e|marital_e|education_e|default_e|housing_e|loan_e|contact_e|month_e|poutcome_e|deposit_e|\n",
            "+-----+---------+-----------+---------+---------+------+---------+-------+----------+---------+\n",
            "|  3.0|      0.0|        0.0|      0.0|      1.0|   0.0|      1.0|    0.0|       0.0|      1.0|\n",
            "|  3.0|      0.0|        0.0|      0.0|      0.0|   0.0|      1.0|    0.0|       0.0|      1.0|\n",
            "|  2.0|      0.0|        0.0|      0.0|      1.0|   0.0|      1.0|    0.0|       0.0|      1.0|\n",
            "+-----+---------+-----------+---------+---------+------+---------+-------+----------+---------+\n",
            "only showing top 3 rows\n",
            "\n"
          ]
        }
      ]
    },
    {
      "cell_type": "code",
      "source": [
        "# Vectorize Data\n",
        "vector_df = VectorAssembler(inputCols=[x+'_e' for x in features], outputCol='features').transform(df)\\\n",
        ".select(['features', 'deposit_e'])\n",
        "\n",
        "vector_df"
      ],
      "metadata": {
        "colab": {
          "base_uri": "https://localhost:8080/"
        },
        "id": "-gI_Phoxbt8w",
        "outputId": "3db103ca-bc6a-483a-b287-0e7b9f0b3484"
      },
      "execution_count": 249,
      "outputs": [
        {
          "output_type": "execute_result",
          "data": {
            "text/plain": [
              "DataFrame[features: vector, deposit_e: double]"
            ]
          },
          "metadata": {},
          "execution_count": 249
        }
      ]
    },
    {
      "cell_type": "code",
      "source": [
        "vector_df.show(3)"
      ],
      "metadata": {
        "colab": {
          "base_uri": "https://localhost:8080/"
        },
        "id": "3eThFNf9coS9",
        "outputId": "e27db2f0-d1cf-4026-8696-83b584126a69"
      },
      "execution_count": 250,
      "outputs": [
        {
          "output_type": "stream",
          "name": "stdout",
          "text": [
            "+--------------------+---------+\n",
            "|            features|deposit_e|\n",
            "+--------------------+---------+\n",
            "|(10,[0,4,6,9],[3....|      1.0|\n",
            "|(10,[0,6,9],[3.0,...|      1.0|\n",
            "|(10,[0,4,6,9],[2....|      1.0|\n",
            "+--------------------+---------+\n",
            "only showing top 3 rows\n",
            "\n"
          ]
        }
      ]
    },
    {
      "cell_type": "code",
      "source": [
        "#Scale Data\n",
        "scaler = MinMaxScaler(inputCol='features', outputCol='features_scaled').fit(vector_df)\n",
        "\n",
        "vector_df = scaler.transform(vector_df).select(['features_scaled', 'deposit_e'])\n",
        "vector_df.show(3)"
      ],
      "metadata": {
        "colab": {
          "base_uri": "https://localhost:8080/"
        },
        "id": "tCs2w4kdctv7",
        "outputId": "9ed6a989-c1b4-4463-c4fc-3d23979f747c"
      },
      "execution_count": 252,
      "outputs": [
        {
          "output_type": "stream",
          "name": "stdout",
          "text": [
            "+--------------------+---------+\n",
            "|     features_scaled|deposit_e|\n",
            "+--------------------+---------+\n",
            "|(10,[0,4,6,9],[0....|      1.0|\n",
            "|(10,[0,6,9],[0.27...|      1.0|\n",
            "|(10,[0,4,6,9],[0....|      1.0|\n",
            "+--------------------+---------+\n",
            "only showing top 3 rows\n",
            "\n"
          ]
        }
      ]
    },
    {
      "cell_type": "code",
      "source": [
        "#split data\n",
        "train,test = vector_df.randomSplit([.8,.2], seed=0)"
      ],
      "metadata": {
        "id": "rgNBuOXtdxoC"
      },
      "execution_count": 255,
      "outputs": []
    },
    {
      "cell_type": "code",
      "source": [
        "#Develop model\n",
        "lr = LogisticRegression(featuresCol='features_scaled', labelCol='deposit_e', predictionCol='prediction')\n",
        "lr_model = lr.fit(train) #fitted model\n",
        "pred = lr_model.transform(test)"
      ],
      "metadata": {
        "id": "mMa7rgDtdYFK"
      },
      "execution_count": 256,
      "outputs": []
    },
    {
      "cell_type": "code",
      "source": [
        "from pyspark.ml.classification import LogisticRegression\n",
        "from pyspark.ml.evaluation import BinaryClassificationEvaluator\n",
        "\n",
        "# Create a LogisticRegression instance\n",
        "lr = LogisticRegression(featuresCol='features_scaled', labelCol='deposit_e', predictionCol='prediction')\n",
        "\n",
        "# Train the logistic regression model\n",
        "lr_model = lr.fit(train)\n",
        "\n",
        "# Make predictions on the test data\n",
        "predictions = lr_model.transform(test)\n",
        "\n",
        "# Create a BinaryClassificationEvaluator with accuracy metric\n",
        "evaluator = BinaryClassificationEvaluator(labelCol='deposit_e', metricName='areaUnderROC')\n",
        "\n",
        "# Calculate the accuracy score\n",
        "accuracy = evaluator.evaluate(predictions)\n",
        "\n",
        "# Print the accuracy score\n",
        "print(\"Accuracy:\", accuracy)\n"
      ],
      "metadata": {
        "colab": {
          "base_uri": "https://localhost:8080/"
        },
        "id": "T6e4BE9hdviR",
        "outputId": "8c582d9d-3b66-44d4-9b04-670764ec9353"
      },
      "execution_count": 264,
      "outputs": [
        {
          "output_type": "stream",
          "name": "stdout",
          "text": [
            "Accuracy: 1.0\n"
          ]
        }
      ]
    },
    {
      "cell_type": "code",
      "source": [
        "df.show()"
      ],
      "metadata": {
        "colab": {
          "base_uri": "https://localhost:8080/"
        },
        "id": "SHD1rWhAf0d2",
        "outputId": "a33ad511-8b25-4522-dd72-b8bb9150c823"
      },
      "execution_count": 266,
      "outputs": [
        {
          "output_type": "stream",
          "name": "stdout",
          "text": [
            "+-----+---------+-----------+---------+---------+------+---------+-------+----------+---------+\n",
            "|job_e|marital_e|education_e|default_e|housing_e|loan_e|contact_e|month_e|poutcome_e|deposit_e|\n",
            "+-----+---------+-----------+---------+---------+------+---------+-------+----------+---------+\n",
            "|  3.0|      0.0|        0.0|      0.0|      1.0|   0.0|      1.0|    0.0|       0.0|      1.0|\n",
            "|  3.0|      0.0|        0.0|      0.0|      0.0|   0.0|      1.0|    0.0|       0.0|      1.0|\n",
            "|  2.0|      0.0|        0.0|      0.0|      1.0|   0.0|      1.0|    0.0|       0.0|      1.0|\n",
            "|  4.0|      0.0|        0.0|      0.0|      1.0|   0.0|      1.0|    0.0|       0.0|      1.0|\n",
            "|  3.0|      0.0|        1.0|      0.0|      0.0|   0.0|      1.0|    0.0|       0.0|      1.0|\n",
            "|  0.0|      1.0|        1.0|      0.0|      1.0|   1.0|      1.0|    0.0|       0.0|      1.0|\n",
            "|  0.0|      0.0|        1.0|      0.0|      1.0|   1.0|      1.0|    0.0|       0.0|      1.0|\n",
            "|  5.0|      2.0|        0.0|      0.0|      1.0|   0.0|      1.0|    0.0|       0.0|      1.0|\n",
            "|  2.0|      0.0|        0.0|      0.0|      1.0|   0.0|      1.0|    0.0|       0.0|      1.0|\n",
            "|  4.0|      1.0|        0.0|      0.0|      1.0|   0.0|      1.0|    0.0|       0.0|      1.0|\n",
            "|  3.0|      1.0|        0.0|      0.0|      1.0|   0.0|      1.0|    0.0|       0.0|      1.0|\n",
            "|  1.0|      0.0|        0.0|      0.0|      1.0|   0.0|      1.0|    0.0|       0.0|      1.0|\n",
            "|  0.0|      0.0|        1.0|      0.0|      1.0|   1.0|      1.0|    0.0|       0.0|      1.0|\n",
            "|  1.0|      1.0|        1.0|      0.0|      1.0|   0.0|      1.0|    0.0|       0.0|      1.0|\n",
            "|  2.0|      1.0|        1.0|      0.0|      1.0|   0.0|      1.0|    0.0|       0.0|      1.0|\n",
            "|  0.0|      2.0|        1.0|      0.0|      1.0|   0.0|      1.0|    0.0|       0.0|      1.0|\n",
            "|  1.0|      1.0|        2.0|      0.0|      1.0|   0.0|      1.0|    0.0|       0.0|      1.0|\n",
            "|  4.0|      0.0|        0.0|      0.0|      1.0|   0.0|      1.0|    0.0|       0.0|      1.0|\n",
            "|  3.0|      0.0|        0.0|      0.0|      1.0|   0.0|      1.0|    0.0|       0.0|      1.0|\n",
            "|  3.0|      2.0|        0.0|      0.0|      1.0|   1.0|      1.0|    0.0|       0.0|      1.0|\n",
            "+-----+---------+-----------+---------+---------+------+---------+-------+----------+---------+\n",
            "only showing top 20 rows\n",
            "\n"
          ]
        }
      ]
    },
    {
      "cell_type": "code",
      "source": [
        "#Find correlation with outcome var\n",
        "def corr_(var):\n",
        "  for col_ in df.columns:\n",
        "    if col_ != var: continue\n",
        "    for col2 in df.columns:\n",
        "      if col_==col2 or df.select(F.col(col_)).dtypes[0][1] == 'string' or df.select(F.col(col2)).dtypes[0][1] == 'string': continue\n",
        "      else:print('Correlation ({}, {}):'.format(col_, col2), df.select(F.corr(col_, col2)).first()[0])\n",
        "\n",
        "corr_('deposit_e')"
      ],
      "metadata": {
        "colab": {
          "base_uri": "https://localhost:8080/"
        },
        "id": "8OhOmHB0d9fQ",
        "outputId": "625b99e7-fb1a-42cb-9f7f-124935abd69d"
      },
      "execution_count": 267,
      "outputs": [
        {
          "output_type": "stream",
          "name": "stdout",
          "text": [
            "Correlation (deposit_e, job_e): 0.04114278586355233\n",
            "Correlation (deposit_e, marital_e): 0.06832450727589358\n",
            "Correlation (deposit_e, education_e): 0.012163805221309847\n",
            "Correlation (deposit_e, default_e): -0.04068008708114991\n",
            "Correlation (deposit_e, housing_e): -0.20388774933788276\n",
            "Correlation (deposit_e, loan_e): -0.11057998365404831\n",
            "Correlation (deposit_e, contact_e): -0.158744041418865\n",
            "Correlation (deposit_e, month_e): 0.26334776846057434\n",
            "Correlation (deposit_e, poutcome_e): 0.23869148422388253\n"
          ]
        }
      ]
    },
    {
      "cell_type": "code",
      "source": [
        "### Another logit regress"
      ],
      "metadata": {
        "id": "JwuW25cDftDr"
      },
      "execution_count": 268,
      "outputs": []
    },
    {
      "cell_type": "markdown",
      "source": [
        "### Another logit regress"
      ],
      "metadata": {
        "id": "I3gUlSQlguBa"
      }
    },
    {
      "cell_type": "code",
      "source": [
        "df = spark.read.csv('winequality-red.csv', header=True, sep=';', \n",
        "                    inferSchema=True)\n",
        "df.show(3)"
      ],
      "metadata": {
        "colab": {
          "base_uri": "https://localhost:8080/"
        },
        "id": "KC2GEtIxgr5x",
        "outputId": "dc1c85d8-7d97-413f-b827-432cb6830251"
      },
      "execution_count": 270,
      "outputs": [
        {
          "output_type": "stream",
          "name": "stdout",
          "text": [
            "+-------------+----------------+-----------+--------------+---------+-------------------+--------------------+-------+----+---------+-------+-------+\n",
            "|fixed acidity|volatile acidity|citric acid|residual sugar|chlorides|free sulfur dioxide|total sulfur dioxide|density|  pH|sulphates|alcohol|quality|\n",
            "+-------------+----------------+-----------+--------------+---------+-------------------+--------------------+-------+----+---------+-------+-------+\n",
            "|          7.4|             0.7|        0.0|           1.9|    0.076|               11.0|                34.0| 0.9978|3.51|     0.56|    9.4|      5|\n",
            "|          7.8|            0.88|        0.0|           2.6|    0.098|               25.0|                67.0| 0.9968| 3.2|     0.68|    9.8|      5|\n",
            "|          7.8|            0.76|       0.04|           2.3|    0.092|               15.0|                54.0|  0.997|3.26|     0.65|    9.8|      5|\n",
            "+-------------+----------------+-----------+--------------+---------+-------------------+--------------------+-------+----+---------+-------+-------+\n",
            "only showing top 3 rows\n",
            "\n"
          ]
        }
      ]
    },
    {
      "cell_type": "code",
      "source": [
        "df.groupBy('quality').count().show() #sampling technique"
      ],
      "metadata": {
        "colab": {
          "base_uri": "https://localhost:8080/"
        },
        "id": "uJqmMfXvhFdd",
        "outputId": "1f4272e8-d43e-4660-f0b6-a3d7a4004f02"
      },
      "execution_count": 274,
      "outputs": [
        {
          "output_type": "stream",
          "name": "stdout",
          "text": [
            "+-------+-----+\n",
            "|quality|count|\n",
            "+-------+-----+\n",
            "|      6|  638|\n",
            "|      3|   10|\n",
            "|      5|  681|\n",
            "|      4|   53|\n",
            "|      8|   18|\n",
            "|      7|  199|\n",
            "+-------+-----+\n",
            "\n"
          ]
        }
      ]
    },
    {
      "cell_type": "code",
      "source": [
        "# Vectorize Data\n",
        "vector_df = VectorAssembler(inputCols=[d for d in df.columns[0:-1]], outputCol='features').transform(df)\\\n",
        ".select(['features', 'quality'])\n",
        "\n",
        "vector_df.show(3)"
      ],
      "metadata": {
        "colab": {
          "base_uri": "https://localhost:8080/"
        },
        "id": "bhGU2G1UhQXd",
        "outputId": "180939c9-4c58-4e7c-e6ea-9b71eef434b6"
      },
      "execution_count": 277,
      "outputs": [
        {
          "output_type": "stream",
          "name": "stdout",
          "text": [
            "+--------------------+-------+\n",
            "|            features|quality|\n",
            "+--------------------+-------+\n",
            "|[7.4,0.7,0.0,1.9,...|      5|\n",
            "|[7.8,0.88,0.0,2.6...|      5|\n",
            "|[7.8,0.76,0.04,2....|      5|\n",
            "+--------------------+-------+\n",
            "only showing top 3 rows\n",
            "\n"
          ]
        }
      ]
    },
    {
      "cell_type": "code",
      "source": [
        "#Scale Data\n",
        "scaler = MinMaxScaler(inputCol='features', outputCol='features_scaled').fit(vector_df)\n",
        "\n",
        "vector_df = scaler.transform(vector_df).select(['features_scaled', 'quality'])\n",
        "vector_df.show(3)"
      ],
      "metadata": {
        "colab": {
          "base_uri": "https://localhost:8080/"
        },
        "id": "cZxgu7wChgbf",
        "outputId": "1ca9f0b6-a2e3-46c4-f039-ebc5b3ec3b3b"
      },
      "execution_count": 278,
      "outputs": [
        {
          "output_type": "stream",
          "name": "stdout",
          "text": [
            "+--------------------+-------+\n",
            "|     features_scaled|quality|\n",
            "+--------------------+-------+\n",
            "|[0.24778761061946...|      5|\n",
            "|[0.28318584070796...|      5|\n",
            "|[0.28318584070796...|      5|\n",
            "+--------------------+-------+\n",
            "only showing top 3 rows\n",
            "\n"
          ]
        }
      ]
    },
    {
      "cell_type": "code",
      "source": [
        "#SPLIT\n",
        "train, test= vector_df.randomSplit([0.8, 0.2], seed=0)"
      ],
      "metadata": {
        "id": "m49rAXw7hzmL"
      },
      "execution_count": 279,
      "outputs": []
    },
    {
      "cell_type": "code",
      "source": [
        "#Develop model\n",
        "lr = LogisticRegression(featuresCol='features_scaled', labelCol='quality', predictionCol='prediction')\n",
        "lr_model = lr.fit(train) #fitted model\n",
        "pred = lr_model.transform(test)"
      ],
      "metadata": {
        "id": "cR9xCdYpiNun"
      },
      "execution_count": 280,
      "outputs": []
    },
    {
      "cell_type": "code",
      "source": [
        "# Create a BinaryClassificationEvaluator with accuracy metric\n",
        "evaluator = MulticlassClassificationEvaluator(labelCol='quality', metricName='accuracy')\n",
        "\n",
        "# Calculate the accuracy score\n",
        "accuracy = evaluator.evaluate(pred)\n",
        "\n",
        "# Print the accuracy score\n",
        "print(\"Accuracy:\", accuracy)\n"
      ],
      "metadata": {
        "colab": {
          "base_uri": "https://localhost:8080/"
        },
        "id": "2EAEhGHNiwzl",
        "outputId": "eda9898b-ff59-4a86-ed39-5fc5cad65bf6"
      },
      "execution_count": 283,
      "outputs": [
        {
          "output_type": "stream",
          "name": "stdout",
          "text": [
            "Accuracy: 0.6005830903790087\n"
          ]
        }
      ]
    },
    {
      "cell_type": "markdown",
      "source": [
        "### PRELIMINARY MODEL ABOVE^^\n",
        "\n",
        "### THIS IS REAL MODEL W/OPTIMIZED HYPERPARMETERS"
      ],
      "metadata": {
        "id": "3uGuIP7OipXy"
      }
    },
    {
      "cell_type": "code",
      "source": [
        "#Develop model\n",
        "lr = LogisticRegression(featuresCol='features_scaled', labelCol='quality', predictionCol='prediction')\n",
        "lr_model = lr.fit(train)\n",
        "pred = lr_model.transform(test)\n",
        "\n",
        "evaluator = MulticlassClassificationEvaluator(labelCol='quality', metricName='accuracy')\n",
        "\n",
        "\n",
        "#grid\n",
        "param_grid = ParamGridBuilder() \\\n",
        "    .addGrid(lr_model.regParam, [0.01, 0.1, 1.0]) \\\n",
        "    .addGrid(lr_model.elasticNetParam, [0.0, 0.5, 1.0]) \\\n",
        "    .build()\n",
        "\n",
        "  #Gridsearch\n",
        "cross_validator = CrossValidator(estimator=lr, #not lr_model since that is already fitted\n",
        "                                 estimatorParamMaps=param_grid,\n",
        "                                 evaluator = evaluator,\n",
        "                                 numFolds=3)\n",
        "\n",
        "cv_model = cross_validator.fit(train)"
      ],
      "metadata": {
        "id": "adIevTWkidCT"
      },
      "execution_count": 285,
      "outputs": []
    },
    {
      "cell_type": "code",
      "source": [
        "best_model = cv_model.bestModel\n",
        " \n",
        " # Make predictions using the best model\n",
        "predictions = best_model.transform(test)\n",
        "\n",
        "# Create a MulticlassClassificationEvaluator\n",
        "evaluator = MulticlassClassificationEvaluator(labelCol='quality')\n",
        "\n",
        "accuracy = evaluator.evaluate(predictions, {evaluator.metricName: 'accuracy'})\n",
        "\n",
        "# Calculate precision\n",
        "precision = evaluator.evaluate(predictions, {evaluator.metricName: 'weightedPrecision'})\n",
        "\n",
        "# Calculate recall\n",
        "recall = evaluator.evaluate(predictions, {evaluator.metricName: 'weightedRecall'})\n",
        "\n",
        "# Calculate F1-score\n",
        "f1_score = evaluator.evaluate(predictions, {evaluator.metricName: 'f1'})\n",
        "\n",
        "# Print the evaluation metrics\n",
        "print('Accuracy', accuracy)\n",
        "print(\"Precision:\", precision)\n",
        "print(\"Recall:\", recall)\n",
        "print(\"F1-score:\", f1_score)"
      ],
      "metadata": {
        "colab": {
          "base_uri": "https://localhost:8080/"
        },
        "id": "QoMfmKS9kLmo",
        "outputId": "d1bd0f61-702b-4668-f075-62b6f69abc1f"
      },
      "execution_count": 288,
      "outputs": [
        {
          "output_type": "stream",
          "name": "stdout",
          "text": [
            "Accuracy 0.5801749271137027\n",
            "Precision: 0.5646232518981619\n",
            "Recall: 0.5801749271137027\n",
            "F1-score: 0.5422970347084131\n"
          ]
        }
      ]
    }
  ]
}