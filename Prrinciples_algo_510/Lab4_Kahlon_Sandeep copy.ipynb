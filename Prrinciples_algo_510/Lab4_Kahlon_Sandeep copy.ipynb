{
 "cells": [
  {
   "cell_type": "markdown",
   "metadata": {
    "id": "uLoE7AeFpvG-"
   },
   "source": [
    "**<h3>DSCI 510: Principles of Programming for Data Science </h3>**\n",
    "<h4>Spring 2023 – Assignment 4</h4>\n",
    "\n",
    "Instructor: <a href=\"mailto:ambite@isi.edu\">Prof. Jose Luis Ambite </a>                       \t\t\t\t                           \n",
    "Course Producers: <a href=\"mailto:svara@usc.edu\">Samuel Vara</a>, <a href=\"mailto:svparakh@usc.edu\">Sanjana Parakh</a>, <a href=\"mailto:swarnita@usc.edu\">Swarnita Venkatraman</a>, <a href=\"mailto:gursimar@usc.edu\">Gursimar Kaur</a>\n",
    "</h2>"
   ]
  },
  {
   "cell_type": "markdown",
   "metadata": {
    "id": "fcuk64F1qAvm"
   },
   "source": [
    "**Guidelines for the Assignment:**\n",
    "\n",
    "- You have to complete the assignments individually. If you are having trouble completing the assignment do let the TAs know/post on Piazza.\n",
    "\n",
    "- Please don't copy code (either partially/fully) from your classmates. Plagiarism of any form will result in a 0 and you will be reported to SJACS (https://sjacs.usc.edu/students/academic-integrity/).\n",
    "\n",
    "- You have to fill the code in this notebook and upload it for submission. While doing this, make sure all supporting files that you download from D2L are in the same directory as this notebook.  \n",
    "\n",
    "- File Naming Convention : Lab4_LastName_FirstName.ipynb\n",
    "\n",
    "- Don't change existing methods (if any, unless otherwise mentioned in the instructions)\n",
    "\n",
    "- You are encouraged to look up resources online like python docs and stackoverflow. Look up the topics and not the questions themselves. \n",
    "\n",
    "- Your last submission before the deadline will be counted towards your grade. You can submit any number of times before the deadline.\n",
    "\n",
    "- You need to take input from file/console only if it is mentioned in the question. If not we need just the logic/implementation of your function.\n",
    "\n",
    "- Scores are capped at 10 points including the Bonus problem. For Example: Even if you get a score of 12/10, your score is capped at 10.\n",
    "\n",
    "- Bonus score is counted only if the first 2 questions are attempted. Don't attempt the bonus question if you haven't attempted the first 2."
   ]
  },
  {
   "cell_type": "markdown",
   "metadata": {
    "id": "6sYd0EFXrM2w"
   },
   "source": [
    "### **Q1. Files - Stock data [5 points]**\n",
    "\n",
    "#### Q1.1 You are given a txt file named 'stocks_report.txt' on D2L, download it and keep it in the same location where you have this notebook. For this problem on files, you are required to count the number of lines in the given text file. [1 point]"
   ]
  },
  {
   "cell_type": "code",
   "execution_count": 6,
   "metadata": {
    "id": "ENcPze7Ipo0R"
   },
   "outputs": [],
   "source": [
    "# Fill this function for your solution\n",
    "\n",
    "def number_of_lines():\n",
    "    f = open('/Users/sandeepk/Desktop/DSCI_510/Lab4/stocks_report.txt', 'r')\n",
    "    cnt = 0\n",
    "    for line in f:\n",
    "        cnt+=1\n",
    "    return cnt"
   ]
  },
  {
   "cell_type": "code",
   "execution_count": 7,
   "metadata": {
    "id": "peAWhnVKNn4e"
   },
   "outputs": [
    {
     "name": "stdout",
     "output_type": "stream",
     "text": [
      "2510\n"
     ]
    }
   ],
   "source": [
    "# Do not change this cell \n",
    "print(number_of_lines())"
   ]
  },
  {
   "cell_type": "markdown",
   "metadata": {
    "id": "Mbvz-HILtzOi"
   },
   "source": [
    "### Q1.2 \n",
    "In the file stocks_report.txt, you have 1 string and 6 floating point numbers in each line as per the format below. This data is from a certain timeframe for each company, representing 10 different companies.\n",
    "\n",
    "(\"Symbol\", \"Open\", \"High\", \"Low\", \"Close\", \"Adj Close\", \"Volume\") for a particular day.  \n",
    "\n",
    "An example:\n",
    "(AAPL 165.7100067138672 170.35000610351562 162.8000030517578 170.3300018310547 169.34715270996094 179935700) represents day 1.\n",
    "\n",
    "Symbol = day_wise[0] = AAPL\n",
    "\n",
    "Open = day_wise[1] = 165.7100067138672\n",
    "\n",
    "High = day_wise[2] = 170.35000610351562\n",
    "\n",
    "Low = day_wise[3] = 162.8000030517578\n",
    "\n",
    "Close = day_wise[4] = 170.3300018310547\n",
    "\n",
    "Adj Close = day_wise[5] = 169.34715270996094\n",
    "\n",
    "Volume = day_wise[6] = 179935700\n",
    "\n",
    "Your task is to find the number of days a company whose symbol begins with a \"M\" has had a price difference between close and open greater than 3(>3) and volume less than 40000000 (<40000000)\n",
    "\n",
    "\n",
    "[4 points]"
   ]
  },
  {
   "cell_type": "code",
   "execution_count": 3,
   "metadata": {
    "id": "jqGn-CGBt9v_"
   },
   "outputs": [],
   "source": [
    "# Fill this function for your solution\n",
    "def number_of_days():\n",
    "    f = open('/Users/sandeepk/Desktop/DSCI_510/Lab4/stocks_report.txt', 'r')\n",
    "    cnt = 0\n",
    "    for Line in f:\n",
    "        ls=[]\n",
    "        ls.append(Line.rstrip().split(\" \"))\n",
    "        if ls[0][0][0] == 'M':\n",
    "            if abs(float(ls[0][4]) - float(ls[0][1])) > 3 and float(ls[0][6]) < 40000000:\n",
    "                cnt += 1\n",
    "    return cnt"
   ]
  },
  {
   "cell_type": "code",
   "execution_count": 4,
   "metadata": {
    "id": "i9qp4kRFkNMp"
   },
   "outputs": [
    {
     "name": "stdout",
     "output_type": "stream",
     "text": [
      "320\n"
     ]
    }
   ],
   "source": [
    "# Do not change this cell \n",
    "print(number_of_days())"
   ]
  },
  {
   "cell_type": "markdown",
   "metadata": {
    "id": "YuUBT9LqxO1U"
   },
   "source": [
    "### **Q2. Lists [5 points]**\n",
    "\n",
    "#### Q2.1 You are given a list of lists 'original_list' with numbers. Your task is to find the average of each list within the main list 'original_list' and append all the average values to a new empty list 'averages'. Then do the following:\n",
    "\n",
    "\n",
    "\n",
    "* Print the maximum value of the list 'averages'   \n",
    "* Sort and print the list 'averages' in ascending order\n",
    "\n",
    "\n",
    "\n",
    "\n",
    "original_list=[[1,5,6,4],[3,5,4,3,2,3,3,2],[9,8,3,2,4],[7,8],[1,2,4]]\n",
    "\n",
    "[3 points]"
   ]
  },
  {
   "cell_type": "code",
   "execution_count": 95,
   "metadata": {
    "id": "i1sBmeDgxS9W"
   },
   "outputs": [
    {
     "data": {
      "text/plain": [
       "[4.0, 3.12, 5.2, 7.5, 2.33]"
      ]
     },
     "execution_count": 95,
     "metadata": {},
     "output_type": "execute_result"
    }
   ],
   "source": [
    "original_list=[[1,5,6,4],[3,5,4,3,2,3,3,2],[9,8,3,2,4],[7,8],[1,2,4]]\n",
    "ls = [round(sum(val)/len(val),2) for val in original_list]\n",
    "ls"
   ]
  },
  {
   "cell_type": "markdown",
   "metadata": {
    "id": "Osr1h-sjzWTi"
   },
   "source": [
    "### Q2.2 You are given a list of strings 'name_list' where each element is in the format 'surname,name'. Your task is to print all the elements whose surname is 'Smith'.\n",
    "\n",
    "name_list = ['Smith,Manny','Chen,Jiyan','Smith,Alex','Smith,Fred','Jones,Jim','Johnson,Mary','Smith,Ashley','Garcia,Mila','Greg,Smith'] \n",
    "\n",
    "[2 points]"
   ]
  },
  {
   "cell_type": "code",
   "execution_count": 109,
   "metadata": {
    "id": "bY3Z3__9zpP0"
   },
   "outputs": [
    {
     "name": "stdout",
     "output_type": "stream",
     "text": [
      "Smith,Manny\n",
      "Smith,Alex\n",
      "Smith,Fred\n",
      "Smith,Ashley\n"
     ]
    }
   ],
   "source": [
    "#write your code below\n",
    "name_list = ['Smith,Manny','Chen,Jiyan','Smith,Alex','Smith,Fred','Jones,Jim','Johnson,Mary','Smith,Ashley','Garcia,Mila','Greg,Smith']\n",
    "answer = [print(x) for x in name_list if x.startswith('Smith')]"
   ]
  },
  {
   "cell_type": "markdown",
   "metadata": {
    "id": "V3x_pJ3c0OD5"
   },
   "source": [
    "### **Bonus Question [2 points]**\n",
    "\n",
    "Check if each word in the given string 'example' is a palindrome or not. Append the words that are a palindrome to a new list 'result' and function should return that list.\n",
    "\n",
    "A Palindrome is defined as a string if the reverse of the string is the same as the original string.\n",
    "\n",
    "For example : 'radar' is a palindrome because radar read from the front or the from the end is the same. However, 'radius' is not a palindrome.\n",
    "\n",
    "\n",
    "\n",
    "```\n",
    "Example:\n",
    "\n",
    "Input: 'rotator, bliss, kayak  , house, peep, tomato '\n",
    "Output: ['rotator', 'kayak', 'peep']\n",
    "```\n",
    "\n",
    "**Hint: Check for whitespace in each word.**\n"
   ]
  },
  {
   "cell_type": "code",
   "execution_count": 1,
   "metadata": {
    "id": "Znia53yGNYxz"
   },
   "outputs": [],
   "source": [
    "def check_palindrome(example):\n",
    "    example = example.split(',')\n",
    "    ls = [val.strip() for val in example]\n",
    "    return_ls = [val for val in ls if val[::-1] == val]\n",
    "    return return_ls"
   ]
  },
  {
   "cell_type": "code",
   "execution_count": 2,
   "metadata": {
    "id": "9IoBOn2WMnr8"
   },
   "outputs": [
    {
     "data": {
      "text/plain": [
       "['malayalam', 'ada', 'racecar']"
      ]
     },
     "execution_count": 2,
     "metadata": {},
     "output_type": "execute_result"
    }
   ],
   "source": [
    "example = 'malayalam, abc, car, ada, racecar , cool'\n",
    "check_palindrome(example)"
   ]
  },
  {
   "cell_type": "code",
   "execution_count": 5,
   "metadata": {},
   "outputs": [
    {
     "data": {
      "text/plain": [
       "[<function __main__.multipliers.<locals>.<listcomp>.<lambda>(x, i=0)>,\n",
       " <function __main__.multipliers.<locals>.<listcomp>.<lambda>(x, i=1)>,\n",
       " <function __main__.multipliers.<locals>.<listcomp>.<lambda>(x, i=2)>,\n",
       " <function __main__.multipliers.<locals>.<listcomp>.<lambda>(x, i=3)>]"
      ]
     },
     "execution_count": 5,
     "metadata": {},
     "output_type": "execute_result"
    }
   ],
   "source": [
    "def multipliers():\n",
    "    return [lambda x, i=i : i * x for i in range(4)]\n",
    "\n",
    "multipliers()"
   ]
  },
  {
   "cell_type": "markdown",
   "metadata": {},
   "source": [
    "## Map and Lambda Function"
   ]
  },
  {
   "cell_type": "code",
   "execution_count": 44,
   "metadata": {},
   "outputs": [],
   "source": [
    "# read file in \n",
    "import pandas as pd\n",
    "purchase_df = pd.read_csv('/Users/sandeepk/Desktop/purchased.csv')\n",
    "\n",
    "#Hold dictionary of values to be mapped\n",
    "mapped_vals = {}\n",
    "unique_vals = purchase_df['Gender'].unique()\n",
    "cnt=0\n",
    "for x in range(len(unique_vals)):\n",
    "    mapped_vals[unique_vals[x]]=cnt\n",
    "    cnt+=1\n",
    "    \n",
    "purchase_df['sex'] = purchase_df['Gender'].map(mapped_vals)"
   ]
  },
  {
   "cell_type": "code",
   "execution_count": 101,
   "metadata": {},
   "outputs": [
    {
     "data": {
      "text/html": [
       "<div>\n",
       "<style scoped>\n",
       "    .dataframe tbody tr th:only-of-type {\n",
       "        vertical-align: middle;\n",
       "    }\n",
       "\n",
       "    .dataframe tbody tr th {\n",
       "        vertical-align: top;\n",
       "    }\n",
       "\n",
       "    .dataframe thead th {\n",
       "        text-align: right;\n",
       "    }\n",
       "</style>\n",
       "<table border=\"1\" class=\"dataframe\">\n",
       "  <thead>\n",
       "    <tr style=\"text-align: right;\">\n",
       "      <th></th>\n",
       "      <th>User ID</th>\n",
       "      <th>Gender</th>\n",
       "      <th>Age</th>\n",
       "      <th>EstimatedSalary</th>\n",
       "      <th>Purchased</th>\n",
       "      <th>sex</th>\n",
       "    </tr>\n",
       "  </thead>\n",
       "  <tbody>\n",
       "    <tr>\n",
       "      <th>399</th>\n",
       "      <td>15594041</td>\n",
       "      <td>Female</td>\n",
       "      <td>49</td>\n",
       "      <td>36050</td>\n",
       "      <td>1</td>\n",
       "      <td>1</td>\n",
       "    </tr>\n",
       "    <tr>\n",
       "      <th>398</th>\n",
       "      <td>15755018</td>\n",
       "      <td>Male</td>\n",
       "      <td>36</td>\n",
       "      <td>33050</td>\n",
       "      <td>0</td>\n",
       "      <td>0</td>\n",
       "    </tr>\n",
       "    <tr>\n",
       "      <th>397</th>\n",
       "      <td>15654296</td>\n",
       "      <td>Female</td>\n",
       "      <td>50</td>\n",
       "      <td>20050</td>\n",
       "      <td>1</td>\n",
       "      <td>1</td>\n",
       "    </tr>\n",
       "    <tr>\n",
       "      <th>396</th>\n",
       "      <td>15706071</td>\n",
       "      <td>Male</td>\n",
       "      <td>51</td>\n",
       "      <td>23050</td>\n",
       "      <td>1</td>\n",
       "      <td>0</td>\n",
       "    </tr>\n",
       "    <tr>\n",
       "      <th>395</th>\n",
       "      <td>15691863</td>\n",
       "      <td>Female</td>\n",
       "      <td>46</td>\n",
       "      <td>41050</td>\n",
       "      <td>1</td>\n",
       "      <td>1</td>\n",
       "    </tr>\n",
       "    <tr>\n",
       "      <th>...</th>\n",
       "      <td>...</td>\n",
       "      <td>...</td>\n",
       "      <td>...</td>\n",
       "      <td>...</td>\n",
       "      <td>...</td>\n",
       "      <td>...</td>\n",
       "    </tr>\n",
       "    <tr>\n",
       "      <th>4</th>\n",
       "      <td>15804002</td>\n",
       "      <td>Male</td>\n",
       "      <td>19</td>\n",
       "      <td>76050</td>\n",
       "      <td>0</td>\n",
       "      <td>0</td>\n",
       "    </tr>\n",
       "    <tr>\n",
       "      <th>3</th>\n",
       "      <td>15603246</td>\n",
       "      <td>Female</td>\n",
       "      <td>27</td>\n",
       "      <td>57050</td>\n",
       "      <td>0</td>\n",
       "      <td>1</td>\n",
       "    </tr>\n",
       "    <tr>\n",
       "      <th>2</th>\n",
       "      <td>15668575</td>\n",
       "      <td>Female</td>\n",
       "      <td>26</td>\n",
       "      <td>43050</td>\n",
       "      <td>0</td>\n",
       "      <td>1</td>\n",
       "    </tr>\n",
       "    <tr>\n",
       "      <th>1</th>\n",
       "      <td>15810944</td>\n",
       "      <td>Male</td>\n",
       "      <td>35</td>\n",
       "      <td>20050</td>\n",
       "      <td>0</td>\n",
       "      <td>0</td>\n",
       "    </tr>\n",
       "    <tr>\n",
       "      <th>0</th>\n",
       "      <td>15624510</td>\n",
       "      <td>Male</td>\n",
       "      <td>19</td>\n",
       "      <td>19050</td>\n",
       "      <td>0</td>\n",
       "      <td>0</td>\n",
       "    </tr>\n",
       "  </tbody>\n",
       "</table>\n",
       "<p>400 rows × 6 columns</p>\n",
       "</div>"
      ],
      "text/plain": [
       "      User ID  Gender  Age  EstimatedSalary  Purchased  sex\n",
       "399  15594041  Female   49            36050          1    1\n",
       "398  15755018    Male   36            33050          0    0\n",
       "397  15654296  Female   50            20050          1    1\n",
       "396  15706071    Male   51            23050          1    0\n",
       "395  15691863  Female   46            41050          1    1\n",
       "..        ...     ...  ...              ...        ...  ...\n",
       "4    15804002    Male   19            76050          0    0\n",
       "3    15603246  Female   27            57050          0    1\n",
       "2    15668575  Female   26            43050          0    1\n",
       "1    15810944    Male   35            20050          0    0\n",
       "0    15624510    Male   19            19050          0    0\n",
       "\n",
       "[400 rows x 6 columns]"
      ]
     },
     "execution_count": 101,
     "metadata": {},
     "output_type": "execute_result"
    }
   ],
   "source": [
    "purchase_df.iloc[-1::-1]"
   ]
  },
  {
   "cell_type": "code",
   "execution_count": 45,
   "metadata": {},
   "outputs": [
    {
     "data": {
      "text/html": [
       "<div>\n",
       "<style scoped>\n",
       "    .dataframe tbody tr th:only-of-type {\n",
       "        vertical-align: middle;\n",
       "    }\n",
       "\n",
       "    .dataframe tbody tr th {\n",
       "        vertical-align: top;\n",
       "    }\n",
       "\n",
       "    .dataframe thead th {\n",
       "        text-align: right;\n",
       "    }\n",
       "</style>\n",
       "<table border=\"1\" class=\"dataframe\">\n",
       "  <thead>\n",
       "    <tr style=\"text-align: right;\">\n",
       "      <th></th>\n",
       "      <th>User ID</th>\n",
       "      <th>Gender</th>\n",
       "      <th>Age</th>\n",
       "      <th>EstimatedSalary</th>\n",
       "      <th>Purchased</th>\n",
       "      <th>sex</th>\n",
       "    </tr>\n",
       "  </thead>\n",
       "  <tbody>\n",
       "    <tr>\n",
       "      <th>0</th>\n",
       "      <td>15624510</td>\n",
       "      <td>Male</td>\n",
       "      <td>19</td>\n",
       "      <td>19050</td>\n",
       "      <td>0</td>\n",
       "      <td>0</td>\n",
       "    </tr>\n",
       "    <tr>\n",
       "      <th>1</th>\n",
       "      <td>15810944</td>\n",
       "      <td>Male</td>\n",
       "      <td>35</td>\n",
       "      <td>20050</td>\n",
       "      <td>0</td>\n",
       "      <td>0</td>\n",
       "    </tr>\n",
       "    <tr>\n",
       "      <th>2</th>\n",
       "      <td>15668575</td>\n",
       "      <td>Female</td>\n",
       "      <td>26</td>\n",
       "      <td>43050</td>\n",
       "      <td>0</td>\n",
       "      <td>1</td>\n",
       "    </tr>\n",
       "    <tr>\n",
       "      <th>3</th>\n",
       "      <td>15603246</td>\n",
       "      <td>Female</td>\n",
       "      <td>27</td>\n",
       "      <td>57050</td>\n",
       "      <td>0</td>\n",
       "      <td>1</td>\n",
       "    </tr>\n",
       "    <tr>\n",
       "      <th>4</th>\n",
       "      <td>15804002</td>\n",
       "      <td>Male</td>\n",
       "      <td>19</td>\n",
       "      <td>76050</td>\n",
       "      <td>0</td>\n",
       "      <td>0</td>\n",
       "    </tr>\n",
       "    <tr>\n",
       "      <th>...</th>\n",
       "      <td>...</td>\n",
       "      <td>...</td>\n",
       "      <td>...</td>\n",
       "      <td>...</td>\n",
       "      <td>...</td>\n",
       "      <td>...</td>\n",
       "    </tr>\n",
       "    <tr>\n",
       "      <th>395</th>\n",
       "      <td>15691863</td>\n",
       "      <td>Female</td>\n",
       "      <td>46</td>\n",
       "      <td>41050</td>\n",
       "      <td>1</td>\n",
       "      <td>1</td>\n",
       "    </tr>\n",
       "    <tr>\n",
       "      <th>396</th>\n",
       "      <td>15706071</td>\n",
       "      <td>Male</td>\n",
       "      <td>51</td>\n",
       "      <td>23050</td>\n",
       "      <td>1</td>\n",
       "      <td>0</td>\n",
       "    </tr>\n",
       "    <tr>\n",
       "      <th>397</th>\n",
       "      <td>15654296</td>\n",
       "      <td>Female</td>\n",
       "      <td>50</td>\n",
       "      <td>20050</td>\n",
       "      <td>1</td>\n",
       "      <td>1</td>\n",
       "    </tr>\n",
       "    <tr>\n",
       "      <th>398</th>\n",
       "      <td>15755018</td>\n",
       "      <td>Male</td>\n",
       "      <td>36</td>\n",
       "      <td>33050</td>\n",
       "      <td>0</td>\n",
       "      <td>0</td>\n",
       "    </tr>\n",
       "    <tr>\n",
       "      <th>399</th>\n",
       "      <td>15594041</td>\n",
       "      <td>Female</td>\n",
       "      <td>49</td>\n",
       "      <td>36050</td>\n",
       "      <td>1</td>\n",
       "      <td>1</td>\n",
       "    </tr>\n",
       "  </tbody>\n",
       "</table>\n",
       "<p>400 rows × 6 columns</p>\n",
       "</div>"
      ],
      "text/plain": [
       "      User ID  Gender  Age  EstimatedSalary  Purchased  sex\n",
       "0    15624510    Male   19            19050          0    0\n",
       "1    15810944    Male   35            20050          0    0\n",
       "2    15668575  Female   26            43050          0    1\n",
       "3    15603246  Female   27            57050          0    1\n",
       "4    15804002    Male   19            76050          0    0\n",
       "..        ...     ...  ...              ...        ...  ...\n",
       "395  15691863  Female   46            41050          1    1\n",
       "396  15706071    Male   51            23050          1    0\n",
       "397  15654296  Female   50            20050          1    1\n",
       "398  15755018    Male   36            33050          0    0\n",
       "399  15594041  Female   49            36050          1    1\n",
       "\n",
       "[400 rows x 6 columns]"
      ]
     },
     "execution_count": 45,
     "metadata": {},
     "output_type": "execute_result"
    }
   ],
   "source": [
    "purchase_df['EstimatedSalary'] = purchase_df['EstimatedSalary'].map(lambda x: x+50)\n",
    "#df['Fee'] = df['Fee'].map(lambda x: x - (x*10/100))\n",
    "purchase_df"
   ]
  },
  {
   "cell_type": "code",
   "execution_count": 54,
   "metadata": {},
   "outputs": [
    {
     "data": {
      "text/plain": [
       "['bob', 'brad']"
      ]
     },
     "execution_count": 54,
     "metadata": {},
     "output_type": "execute_result"
    }
   ],
   "source": [
    "ls = ['bob', 'mike', 'brad']\n",
    "m = list(filter(lambda x: x.startswith('b'), ls))\n",
    "m"
   ]
  },
  {
   "cell_type": "code",
   "execution_count": 77,
   "metadata": {},
   "outputs": [
    {
     "name": "stdout",
     "output_type": "stream",
     "text": [
      "[0, 1, 4, 9, 16, 25, 36, 49, 64, 81]\n"
     ]
    }
   ],
   "source": [
    "squares = list(map(lambda x: x**2, range(10)))\n",
    "print(squares)"
   ]
  },
  {
   "cell_type": "code",
   "execution_count": 74,
   "metadata": {},
   "outputs": [
    {
     "name": "stdout",
     "output_type": "stream",
     "text": [
      "[9, 16, 25, 36, 49]\n"
     ]
    }
   ],
   "source": [
    "squares = map(lambda x: x**2, range(10))\n",
    "special_squares = list(filter(lambda x: x > 5 and x < 50, squares))\n",
    "print(special_squares)"
   ]
  },
  {
   "cell_type": "code",
   "execution_count": 78,
   "metadata": {},
   "outputs": [
    {
     "name": "stdout",
     "output_type": "stream",
     "text": [
      "420\n"
     ]
    }
   ],
   "source": [
    "#passing in a lambda function to lambda function\n",
    "high_ord = lambda x, fun: x + fun(x)\n",
    "print(high_ord(20, lambda x: x*x))"
   ]
  },
  {
   "cell_type": "code",
   "execution_count": 84,
   "metadata": {},
   "outputs": [
    {
     "data": {
      "text/plain": [
       "'even'"
      ]
     },
     "execution_count": 84,
     "metadata": {},
     "output_type": "execute_result"
    }
   ],
   "source": [
    "(lambda x:(x%2 and 'odd' or 'even'))(150)"
   ]
  },
  {
   "cell_type": "code",
   "execution_count": 85,
   "metadata": {},
   "outputs": [
    {
     "data": {
      "text/plain": [
       "20"
      ]
     },
     "execution_count": 85,
     "metadata": {},
     "output_type": "execute_result"
    }
   ],
   "source": [
    "(lambda x,y: (x*y))(10,2)"
   ]
  },
  {
   "cell_type": "code",
   "execution_count": 94,
   "metadata": {},
   "outputs": [
    {
     "data": {
      "text/plain": [
       "[0, 1, 4, 9, 16]"
      ]
     },
     "execution_count": 94,
     "metadata": {},
     "output_type": "execute_result"
    }
   ],
   "source": [
    "ll = [-8, -4, 0, 4, 8]\n",
    "[(lambda x: (x**2))(x) for x in range(len(ll))]"
   ]
  },
  {
   "cell_type": "code",
   "execution_count": 95,
   "metadata": {},
   "outputs": [
    {
     "name": "stdout",
     "output_type": "stream",
     "text": [
      "[64, 16, 0, 16, 64]\n"
     ]
    }
   ],
   "source": [
    "print([(lambda x: x**2)(x) for x in ll])"
   ]
  },
  {
   "cell_type": "code",
   "execution_count": 107,
   "metadata": {},
   "outputs": [
    {
     "name": "stdout",
     "output_type": "stream",
     "text": [
      "[5, 7, 9]\n"
     ]
    }
   ],
   "source": [
    "#Add two numbers in lists using lambda and map\n",
    "\n",
    "numbers1 = [1, 2, 3]\n",
    "numbers2 = [4, 5, 6]\n",
    "  \n",
    "result = map(lambda x, y: x + y, numbers1, numbers2)\n",
    "print(list(result))"
   ]
  },
  {
   "cell_type": "code",
   "execution_count": 111,
   "metadata": {},
   "outputs": [
    {
     "data": {
      "text/plain": [
       "[1, 4, 9, 16, 25]"
      ]
     },
     "execution_count": 111,
     "metadata": {},
     "output_type": "execute_result"
    }
   ],
   "source": [
    "#DONT EVER RLLY NEED FOR LOOP FOR ITERATING THROUGH LIST\n",
    "\n",
    "numbers = [1, 2, 3, 4, 5]\n",
    "[(lambda x: (x**2))(x) for x in numbers]"
   ]
  },
  {
   "cell_type": "code",
   "execution_count": null,
   "metadata": {},
   "outputs": [],
   "source": []
  },
  {
   "cell_type": "code",
   "execution_count": 106,
   "metadata": {},
   "outputs": [
    {
     "ename": "TypeError",
     "evalue": "'list' object is not callable",
     "output_type": "error",
     "traceback": [
      "\u001b[0;31m---------------------------------------------------------------------------\u001b[0m",
      "\u001b[0;31mTypeError\u001b[0m                                 Traceback (most recent call last)",
      "Input \u001b[0;32mIn [106]\u001b[0m, in \u001b[0;36m<cell line: 3>\u001b[0;34m()\u001b[0m\n\u001b[1;32m      1\u001b[0m map_vals \u001b[38;5;241m=\u001b[39m {\u001b[38;5;241m0\u001b[39m:\u001b[38;5;241m100\u001b[39m, \u001b[38;5;241m1\u001b[39m:\u001b[38;5;241m500\u001b[39m}\n\u001b[1;32m      2\u001b[0m ls \u001b[38;5;241m=\u001b[39m [\u001b[38;5;241m0\u001b[39m,\u001b[38;5;241m0\u001b[39m,\u001b[38;5;241m1\u001b[39m,\u001b[38;5;241m1\u001b[39m]\n\u001b[0;32m----> 3\u001b[0m ls \u001b[38;5;241m=\u001b[39m \u001b[38;5;28;43mlist\u001b[39;49m\u001b[43m(\u001b[49m\u001b[38;5;28;43mmap\u001b[39;49m\u001b[43m(\u001b[49m\u001b[43mls\u001b[49m\u001b[43m,\u001b[49m\u001b[43m \u001b[49m\u001b[43mmap_vals\u001b[49m\u001b[43m)\u001b[49m\u001b[43m)\u001b[49m\n\u001b[1;32m      4\u001b[0m ls\n",
      "\u001b[0;31mTypeError\u001b[0m: 'list' object is not callable"
     ]
    }
   ],
   "source": [
    "\n",
    "\n",
    "\n",
    "map_vals = {0:100, 1:500}\n",
    "ls = [0,0,1,1]\n",
    "ls = map(ls, map_vals)"
   ]
  }
 ],
 "metadata": {
  "colab": {
   "provenance": []
  },
  "kernelspec": {
   "display_name": "Python 3 (ipykernel)",
   "language": "python",
   "name": "python3"
  },
  "language_info": {
   "codemirror_mode": {
    "name": "ipython",
    "version": 3
   },
   "file_extension": ".py",
   "mimetype": "text/x-python",
   "name": "python",
   "nbconvert_exporter": "python",
   "pygments_lexer": "ipython3",
   "version": "3.9.6"
  }
 },
 "nbformat": 4,
 "nbformat_minor": 1
}
