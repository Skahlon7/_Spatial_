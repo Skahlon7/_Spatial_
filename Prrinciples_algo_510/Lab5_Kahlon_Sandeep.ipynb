{
 "cells": [
  {
   "cell_type": "markdown",
   "metadata": {
    "id": "uLoE7AeFpvG-"
   },
   "source": [
    "**<h3>DSCI 510: Principles of Programming for Data Science </h3>**\n",
    "<h4>Spring 2023 – Assignment 5</h4>\n",
    "\n",
    "Instructor: <a href=\"mailto:ambite@isi.edu\">Prof. Jose Luis Ambite </a>                       \t\t\t\t                           \n",
    "Course Producers: <a href=\"mailto:svara@usc.edu\">Samuel Vara</a>, <a href=\"mailto:svparakh@usc.edu\">Sanjana Parakh</a>, <a href=\"mailto:swarnita@usc.edu\">Swarnita Venkatraman</a>, <a href=\"mailto:gursimar@usc.edu\">Gursimar Kaur</a>\n",
    "</h2>"
   ]
  },
  {
   "cell_type": "markdown",
   "metadata": {
    "id": "fcuk64F1qAvm"
   },
   "source": [
    "**Guidelines for the Assignment:**\n",
    "\n",
    "- You have to complete the assignments individually. If you are having trouble completing the assignment do let the TAs know/post on Piazza.\n",
    "\n",
    "- Please don't copy code (either partially/fully) from your classmates. Plagiarism of any form will result in a 0 and you will be reported to SJACS (https://sjacs.usc.edu/students/academic-integrity/).\n",
    "\n",
    "- You have to fill the code in this notebook and upload it for submission. While doing this, make sure all supporting files that you download from D2L are in the same directory as this notebook.  \n",
    "\n",
    "- File Naming Convention : Lab5_LastName_FirstName.ipynb\n",
    "\n",
    "- Don't change existing methods (if any, unless otherwise mentioned in the instructions)\n",
    "\n",
    "- You are encouraged to look up resources online like python docs and stackoverflow. Look up the topics and not the questions themselves. \n",
    "\n",
    "- Your last submission before the deadline will be counted towards your grade. You can submit any number of times before the deadline.\n",
    "\n",
    "- You need to take input from file/console only if it is mentioned in the question. If not we need just the logic/implementation of your function.\n",
    "\n",
    "- Scores are capped at 10 points including the Bonus problem. For Example: Even if you get a score of 12/10, your score is capped at 10.\n",
    "\n",
    "- Bonus score is counted only if the first 2 questions are attempted. Don't attempt the bonus question if you haven't attempted the first 2."
   ]
  },
  {
   "cell_type": "markdown",
   "metadata": {
    "id": "7uINhHvN7DNE"
   },
   "source": [
    "<h4>Q1. Find the Maximum and Minimum k elements in a Tuple. Take the input for integer k from the user. The output should be a tuple with the k maximum and k minimum elements in any order. Print the resultant tuple. [5 points]</h4> \n",
    "\n",
    "Hint: Try using sorting and slicing.\n",
    "\n",
    "```\n",
    "Example\n",
    "Input : test_tup = (5, 20, 3, 7, 6, 8, 15, 12)\n",
    "Enter the number k: 2\n",
    "Output : (3, 5, 15, 20)\n",
    "Explanation: 3,5 are the 2 minimum elements in the given test_tup. 15,20 are the 2 maximum elements in the given test_tup. \n",
    "The Output tuple contains these elements in no specific order. \n",
    "\n",
    "```\n",
    "\n",
    "```\n",
    "Example\n",
    "Input : test_tup = (3, 7, 1)\n",
    "Enter the number k: 1\n",
    "Output : (1, 7) \n",
    "Explanation: 1 is the minimum element in the given test_tup. 7 is the  maximum element in the given test_tup. \n",
    "The Output tuple contains these elements in no specific order. \n",
    "\n",
    "```"
   ]
  },
  {
   "cell_type": "code",
   "execution_count": 174,
   "metadata": {
    "id": "hX5F-LMv8QI4"
   },
   "outputs": [
    {
     "name": "stdout",
     "output_type": "stream",
     "text": [
      "Enter K value: 2\n",
      "(3, 5, 15, 20)\n"
     ]
    }
   ],
   "source": [
    "# Write your code below in the following parts as below\n",
    "nums = (5, 20, 3, 7, 6, 8, 15, 12)\n",
    "\n",
    "k = int(input('Enter K value: '))\n",
    "return_ls = []\n",
    "[return_ls.append(val) for val in sorted(nums, reverse=True)[:k]] #top k max\n",
    "[return_ls.append(val) for val in sorted(nums)[:k]] #k min\n",
    "print(tuple(sorted(return_ls)))\n",
    "\n",
    "# Code to take the input for integer k from user\n",
    "\n",
    "# Code to find the k maximum and k minimum elements in nums\n",
    "\n",
    "# Print the resultant tuple\n",
    "# tup = tuple([1,2])\n",
    "# tup"
   ]
  },
  {
   "cell_type": "markdown",
   "metadata": {
    "id": "oB2YZUKyKPg3"
   },
   "source": [
    "<h4>Q2. Given an unsorted list of some elements, find the count of each distinct element in the list using a dictionary. Return a list containing  tuple pairs (element, count). The list should be sorted by the distinct element in ascending order.<br>\n",
    "Refer to the Output list in the example below. [5 points]</h4>\n",
    "\n",
    "\n",
    "```\n",
    "Example\n",
    "Input : [1, 1, 1, 5, 5, 3, 1, 3, 3, 1, 4, 4, 4, 2, 2, 2, 2]\n",
    "Output : [(1, 5), (2, 4), (3, 3), (4, 3), (5, 2)]\n",
    "\n",
    "```"
   ]
  },
  {
   "cell_type": "code",
   "execution_count": 133,
   "metadata": {
    "id": "QdUkfUh2KT4I"
   },
   "outputs": [],
   "source": [
    "# Fill this function for your solution\n",
    "nums = [1, 1, 1, 5, 5, 3, 1, 3, 3, 1,4, 4, 4, 2, 2, 2, 2]\n",
    "\n",
    "def elements_freq(nums):\n",
    "    dic = {}\n",
    "    for val in nums:\n",
    "        dic[val] = dic.get(val,0) + 1\n",
    "\n",
    "    return sorted(dic.items())"
   ]
  },
  {
   "cell_type": "code",
   "execution_count": 134,
   "metadata": {
    "id": "mV7tmj2xBlRq"
   },
   "outputs": [
    {
     "name": "stdout",
     "output_type": "stream",
     "text": [
      "[(1, 5), (2, 4), (3, 3), (4, 3), (5, 2)]\n"
     ]
    }
   ],
   "source": [
    "# Do not change this cell \n",
    "# nums = [1, 1, 1, 5, 5, 3, 1, 3, 3, 1,4, 4, 4, 2, 2, 2, 2]\n",
    "\n",
    "# print(elements_freq(nums))"
   ]
  },
  {
   "cell_type": "code",
   "execution_count": 135,
   "metadata": {
    "id": "6AQgeAGJKhB7"
   },
   "outputs": [
    {
     "name": "stdout",
     "output_type": "stream",
     "text": [
      "[(1, 3), (2, 1), (3, 1), (4, 1), (5, 2)]\n"
     ]
    }
   ],
   "source": [
    "#print(elements_freq([5,5,3,2,1,1,1,4]))"
   ]
  },
  {
   "cell_type": "markdown",
   "metadata": {
    "id": "ywawsWFdFHvF"
   },
   "source": [
    "### **Bonus Question [2 points]**"
   ]
  },
  {
   "cell_type": "markdown",
   "metadata": {
    "id": "5B9yTRbBSPxA"
   },
   "source": [
    "<h4>1.   Given two sets s1 and s2 create a new set s3 which is the union of s1 and s2. <br>\n",
    "2.   Given a list s5, add its elements to s3 (hint: use .update()). Print the set s3. <br>\n",
    "3.   Create a new set s4 which contains the lengths of each element in s3. <br>\n",
    "4.   Print average of set s4. </h4>\n",
    "\n",
    "```\n",
    "Input: \n",
    "s1 = {'Netherlands', 'Greece', 'Italy', 'Czech Republic'}\n",
    "s2 = {'Hungary', 'Portugal', 'Italy', 'Netherlands'} \n",
    "s5 = ['Lithuania','Montenegro']\n",
    "\n",
    "Output: {'Netherlands', 'Czech Republic', 'Lithuania', 'Greece', 'Hungary', 'Portugal', 'Montenegro', 'Italy'}\n",
    "8.75\n",
    "```\n"
   ]
  },
  {
   "cell_type": "code",
   "execution_count": 167,
   "metadata": {
    "id": "XwzcLesm1NM9"
   },
   "outputs": [
    {
     "name": "stdout",
     "output_type": "stream",
     "text": [
      "8.75\n"
     ]
    }
   ],
   "source": [
    "# write your code here\n",
    "s1 = {'Netherlands', 'Greece', 'Italy', 'Czech Republic'}\n",
    "s2 = {'Hungary', 'Portugal', 'Italy', 'Netherlands'} \n",
    "s5 = ['Lithuania','Montenegro']\n",
    "\n",
    "s3 = s1.union(s2)\n",
    "s3.update(s5)\n",
    "\n",
    "s4 = set([len(val) for val in s3])\n",
    "print(sum(s4)/len(s4))"
   ]
  }
 ],
 "metadata": {
  "colab": {
   "provenance": []
  },
  "kernelspec": {
   "display_name": "Python 3 (ipykernel)",
   "language": "python",
   "name": "python3"
  },
  "language_info": {
   "codemirror_mode": {
    "name": "ipython",
    "version": 3
   },
   "file_extension": ".py",
   "mimetype": "text/x-python",
   "name": "python",
   "nbconvert_exporter": "python",
   "pygments_lexer": "ipython3",
   "version": "3.9.6"
  }
 },
 "nbformat": 4,
 "nbformat_minor": 1
}
