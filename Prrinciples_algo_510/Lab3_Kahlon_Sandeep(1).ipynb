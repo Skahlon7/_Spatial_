{
  "cells": [
    {
      "cell_type": "markdown",
      "metadata": {
        "id": "uI6j1Lh6hhM7"
      },
      "source": [
        "<h3>DSCI 510: Principles of Programming for Data Science </h3>\n",
        "<h4>Spring 2023 – Assignment 3</h4>\n",
        "\n",
        "Instructor: <a href=\"mailto:ambite@isi.edu\">Prof. Jose Luis Ambite </a>                       \t\t\t\t                           \n",
        "Course Producers: <a href=\"mailto:svara@usc.edu\">Samuel Vara</a>, <a href=\"mailto:svparakh@usc.edu\">Sanjana Parakh</a>, <a href=\"mailto:swarnita@usc.edu\">Swarnita Venkatraman</a>, <a href=\"mailto:gursimar@usc.edu\">Gursimar Kaur</a>\n",
        "</h2>"
      ]
    },
    {
      "cell_type": "markdown",
      "metadata": {
        "id": "2-ds8dnKFvhX"
      },
      "source": [
        "Q1. Write a function to generate the following pattern, take the user input to determine the number of asterisks in the middle row. (5 points)\n",
        "\n",
        "```\n",
        "Example \n",
        "Input : Enter a number = 4\n",
        "Output :\n",
        "* \n",
        "* * \n",
        "* * * \n",
        "* * * * \n",
        "* * *  \n",
        "* * \n",
        "* \n",
        "\n",
        "```\n",
        "```\n",
        "Example \n",
        "Input : Enter a number = 3\n",
        "Output :\n",
        "* \n",
        "* * \n",
        "* * * \n",
        "* * \n",
        "* \n",
        "\n",
        "```"
      ]
    },
    {
      "cell_type": "code",
      "execution_count": null,
      "metadata": {
        "id": "2io3ISOGvn6n",
        "colab": {
          "base_uri": "https://localhost:8080/"
        },
        "outputId": "9c0cdaf5-a366-4a1d-9a5f-26cfebf95b23"
      },
      "outputs": [
        {
          "output_type": "stream",
          "name": "stdout",
          "text": [
            "\n",
            "* \n",
            "* * \n",
            "* * * \n",
            "* * * * \n",
            "* * * \n",
            "* * \n",
            "* \n"
          ]
        }
      ],
      "source": [
        "def pattern(n):\n",
        "  for val in range(n+1):\n",
        "    print('* '*val)\n",
        "  if val == val:\n",
        "    for val in list(range(n-1,0,-1)):\n",
        "      print('* '*val)\n",
        "\n",
        "pattern(4)"
      ]
    },
    {
      "cell_type": "markdown",
      "metadata": {
        "id": "-x6Y1_V4Fv54"
      },
      "source": [
        "Q2. Write a program to determine whether two strings are anagrams of each other. (5 points)\n",
        "\n",
        "```\n",
        "Condition : Given two strings s and t, return True if t is an anagram of s, and False otherwise.\n",
        "```\n",
        "\n",
        "An Anagram is a word or phrase formed by rearranging the letters of a different word or phrase, using ALL the original letters exactly ONCE.\n",
        "\n",
        "```\n",
        "Example \n",
        "Input : s = 'listen', t = 'silent'\n",
        "Output : True\n",
        "```\n",
        "\n",
        "```\n",
        "Example \n",
        "Input : s = 'true', t = 'false'\n",
        "Output : False\n",
        "```"
      ]
    },
    {
      "cell_type": "code",
      "execution_count": 4,
      "metadata": {
        "id": "tpbim2JjF56Y",
        "colab": {
          "base_uri": "https://localhost:8080/"
        },
        "outputId": "44f8a1cd-8773-4b37-c71e-7002b798f243"
      },
      "outputs": [
        {
          "output_type": "execute_result",
          "data": {
            "text/plain": [
              "True"
            ]
          },
          "metadata": {},
          "execution_count": 4
        }
      ],
      "source": [
        "def check_anagram(string1, string2):\n",
        "  st1 = sorted(string1.lower())\n",
        "  st2 = sorted(string2.lower())\n",
        "  return st1 == st2\n",
        "\n",
        "check_anagram('Listen', 'silent')"
      ]
    },
    {
      "cell_type": "code",
      "execution_count": null,
      "metadata": {
        "id": "cBd5eDjvKBqH"
      },
      "outputs": [],
      "source": [
        "# check_anagram('silent','listen')\n",
        "# check_anagram('bats','tab')"
      ]
    },
    {
      "cell_type": "markdown",
      "metadata": {
        "id": "xVWufRGzFwjc"
      },
      "source": [
        "<h4> **Bonus Question** <br>\n",
        "Q3. Find the third largest number in a list of unique numbers. If it does not exist, return \"Not Found\"."
      ]
    },
    {
      "cell_type": "code",
      "execution_count": null,
      "metadata": {
        "id": "hS8U08Ythiwp",
        "colab": {
          "base_uri": "https://localhost:8080/"
        },
        "outputId": "a4f6ee52-0d4d-436a-bf2d-d32484a0915c"
      },
      "outputs": [
        {
          "output_type": "execute_result",
          "data": {
            "text/plain": [
              "4"
            ]
          },
          "metadata": {},
          "execution_count": 39
        }
      ],
      "source": [
        "def find_third_largest(nums):\n",
        "  try:\n",
        "    return sorted(nums,reverse=True)[2]\n",
        "  except IndexError:\n",
        "    print('Not Found')\n",
        "\n",
        "find_third_largest([6,3,4,5])"
      ]
    },
    {
      "cell_type": "code",
      "execution_count": null,
      "metadata": {
        "id": "-nVRD_tpJyes"
      },
      "outputs": [],
      "source": [
        "# print('Third Largest Number in [2,3,4,5] is', find_third_largest([2,3,4,5]))\n",
        "# print('Third Largest Number in [6,3,4,5] is', find_third_largest([6,3,4,5]))\n",
        "# print('Third Largest Number in [] is', find_third_largest([]))"
      ]
    }
  ],
  "metadata": {
    "colab": {
      "provenance": []
    },
    "kernelspec": {
      "display_name": "Python 3 (ipykernel)",
      "language": "python",
      "name": "python3"
    },
    "language_info": {
      "codemirror_mode": {
        "name": "ipython",
        "version": 3
      },
      "file_extension": ".py",
      "mimetype": "text/x-python",
      "name": "python",
      "nbconvert_exporter": "python",
      "pygments_lexer": "ipython3",
      "version": "3.9.13"
    }
  },
  "nbformat": 4,
  "nbformat_minor": 0
}